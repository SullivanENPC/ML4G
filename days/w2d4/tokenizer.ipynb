{
 "cells": [
  {
   "cell_type": "code",
   "execution_count": 4,
   "metadata": {},
   "outputs": [],
   "source": [
    "import tokenizer as tok_tests\n",
    "from typing import List\n",
    "from collections import Counter\n",
    "import re\n",
    "import json"
   ]
  },
  {
   "cell_type": "code",
   "execution_count": 5,
   "metadata": {},
   "outputs": [],
   "source": [
    "sentence = \"Buck and Tao drove around in their firetruck, which was painted bright red 🔥.\""
   ]
  },
  {
   "cell_type": "code",
   "execution_count": 6,
   "metadata": {},
   "outputs": [],
   "source": [
    "def split_into_tokens(s: str) -> List[str]:\n",
    "    return re.findall(r\"\\w+|[^\\w\\s]\", s)"
   ]
  },
  {
   "cell_type": "code",
   "execution_count": 7,
   "metadata": {},
   "outputs": [
    {
     "name": "stdout",
     "output_type": "stream",
     "text": [
      "You passed the test!!!\n"
     ]
    }
   ],
   "source": [
    "def corpus_common_tokens(strings: List[str], n: int = 30000) -> List[str]:\n",
    "    c = Counter()\n",
    "    for s in strings:\n",
    "        tokens = split_into_tokens(s)\n",
    "        for token in tokens:\n",
    "            c[token] += 1\n",
    "    \n",
    "    return [t[0] for t in c.most_common(n)]\n",
    "\n",
    "tok_tests.test_tokenizer_from_corpus_fn(corpus_common_tokens)"
   ]
  },
  {
   "cell_type": "code",
   "execution_count": 8,
   "metadata": {},
   "outputs": [],
   "source": [
    "class Tokenizer():\n",
    "    def __init__(self, token_list: List):\n",
    "        self.token_list = token_list\n",
    "        self.decoder = {i[\"id\"]: i[\"piece\"] for i in token_list}\n",
    "        self.encoder = {i[\"piece\"]: i[\"id\"] for i in token_list}\n",
    "\n",
    "    def decode(self, ids: List[int]) -> str:\n",
    "        return \" \".join([self.decoder[id] for id in ids])\n",
    "\n",
    "    def tokenize(self, s: str) -> List[int]:\n",
    "        tokens = split_into_tokens(s)\n",
    "        return [self.encoder.get(token, 3) for token in tokens]"
   ]
  },
  {
   "cell_type": "code",
   "execution_count": 14,
   "metadata": {},
   "outputs": [],
   "source": [
    "with open(\"bpe_tokens.json\") as f:\n",
    "    bpe_tokens = json.load(f)"
   ]
  },
  {
   "cell_type": "code",
   "execution_count": 27,
   "metadata": {},
   "outputs": [
    {
     "data": {
      "text/plain": [
       "'Bu ck  and  Tao  drove  around  in  their  fire tr uck ,  which  was  painted  bright  red   $ .'"
      ]
     },
     "execution_count": 27,
     "metadata": {},
     "output_type": "execute_result"
    }
   ],
   "source": [
    "tokenizer = BPETokenizer(bpe_tokens)\n",
    "tokenizer.decode(tokenizer.tokenize(sentence))"
   ]
  },
  {
   "cell_type": "code",
   "execution_count": 26,
   "metadata": {},
   "outputs": [],
   "source": [
    "class BPETokenizer(Tokenizer):\n",
    "\n",
    "    def __init__(self, token_list):\n",
    "        super().__init__(token_list)\n",
    "\n",
    "    def tokenize(self, s: str) -> List[int]:\n",
    "        vocab = self.encoder.keys()\n",
    "        pieces = list(s)\n",
    "        done = False\n",
    "        while not done:\n",
    "            done = True\n",
    "            for i, (p, q) in enumerate(zip(pieces[:-1], pieces[1:])):\n",
    "                if (p + q) in vocab:\n",
    "                    done = False\n",
    "                    pieces = pieces[:i] + [p + q] + pieces[i + 2:]\n",
    "                    break\n",
    "        return [self.encoder.get(piece, 3) for piece in pieces]\n"
   ]
  },
  {
   "cell_type": "code",
   "execution_count": 12,
   "metadata": {},
   "outputs": [
    {
     "data": {
      "text/plain": [
       "[]"
      ]
     },
     "execution_count": 12,
     "metadata": {},
     "output_type": "execute_result"
    }
   ],
   "source": [
    "pieces = [0, 1, 2, 3]\n",
    "pieces[4:]"
   ]
  },
  {
   "cell_type": "code",
   "execution_count": null,
   "metadata": {},
   "outputs": [],
   "source": []
  }
 ],
 "metadata": {
  "interpreter": {
   "hash": "767d51c1340bd893661ea55ea3124f6de3c7a262a8b4abca0554b478b1e2ff90"
  },
  "kernelspec": {
   "display_name": "Python 3.8.5 64-bit",
   "language": "python",
   "name": "python3"
  },
  "language_info": {
   "codemirror_mode": {
    "name": "ipython",
    "version": 3
   },
   "file_extension": ".py",
   "mimetype": "text/x-python",
   "name": "python",
   "nbconvert_exporter": "python",
   "pygments_lexer": "ipython3",
   "version": "3.8.5"
  },
  "orig_nbformat": 4
 },
 "nbformat": 4,
 "nbformat_minor": 2
}
