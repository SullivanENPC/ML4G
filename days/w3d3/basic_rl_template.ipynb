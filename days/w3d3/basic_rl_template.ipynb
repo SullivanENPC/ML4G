{
 "cells": [
  {
   "cell_type": "code",
   "execution_count": null,
   "metadata": {},
   "outputs": [],
   "source": [
    "import sys\n",
    "sys.path.append(\"/home/ubuntu/mlab/days/w3d3/rl_env/lib/python3.8/site-packages\")\n",
    "sys.path.append(\"/home/ubuntu/mlab/days/w3d3/rl_env/lib/python3.9/site-packages\")"
   ]
  },
  {
   "cell_type": "code",
   "execution_count": null,
   "metadata": {},
   "outputs": [],
   "source": [
    "import gym\n",
    "import matplotlib.pyplot as plt\n",
    "%matplotlib inline\n",
    "from IPython import display\n",
    "from IPython.display import Video\n",
    "from video_recorder import VideoRecorder\n",
    "import torch\n",
    "from torch import nn\n",
    "from tqdm import tqdm\n",
    "\n",
    "import rl_tests\n",
    "\n",
    "from collections import deque\n",
    "from dataclasses import dataclass\n",
    "import random\n",
    "import typing"
   ]
  },
  {
   "cell_type": "code",
   "execution_count": null,
   "metadata": {},
   "outputs": [],
   "source": [
    "devices = [f'cuda:{i}' for i in [0, 1, 2, 3]]"
   ]
  },
  {
   "cell_type": "code",
   "execution_count": null,
   "metadata": {},
   "outputs": [
    {
     "name": "stdout",
     "output_type": "stream",
     "text": [
      "total reward: 19.0\n"
     ]
    }
   ],
   "source": [
    "env_name = \"CartPole-v1\"\n",
    "# env_name = 'MountainCarContinuous-v0'\n",
    "record = True\n",
    "video_name = \"test_0\"\n",
    "\n",
    "env = gym.make(env_name)\n",
    "state = env.reset()\n",
    "done = False\n",
    "total_reward = 0\n",
    "video_recorder = VideoRecorder(env, base_path=f'videos/{video_name}')\n",
    "\n",
    "def show_state(env, step=0, info=\"\"):\n",
    "    plt.figure(3)\n",
    "    plt.clf()\n",
    "    plt.imshow(env.render(mode='rgb_array'))\n",
    "    plt.axis('off')\n",
    "    display.clear_output(wait=True)\n",
    "    display.display(plt.gcf())\n",
    "\n",
    "states = 0\n",
    "while not done:\n",
    "    states += 1\n",
    "    if record:\n",
    "        video_recorder.capture_frame()\n",
    "    else:  \n",
    "        show_state(env)\n",
    "    state, reward, done, _ = env.step(env.action_space.sample()) # Take a random action\n",
    "    total_reward += reward\n",
    "\n",
    "print(f\"total reward: {total_reward}\")\n",
    "if record:\n",
    "    video_recorder.close()"
   ]
  },
  {
   "cell_type": "code",
   "execution_count": null,
   "metadata": {},
   "outputs": [
    {
     "data": {
      "text/html": [
       "<video src=\"videos/test_0.mp4\" controls  >\n",
       "      Your browser does not support the <code>video</code> element.\n",
       "    </video>"
      ],
      "text/plain": [
       "<IPython.core.display.Video object>"
      ]
     },
     "execution_count": 29,
     "metadata": {},
     "output_type": "execute_result"
    }
   ],
   "source": [
    "# Display a saved video \n",
    "Video(\"videos/test_0.mp4\")"
   ]
  },
  {
   "cell_type": "code",
   "execution_count": null,
   "metadata": {},
   "outputs": [
    {
     "name": "stdout",
     "output_type": "stream",
     "text": [
      "test_q_net MATCH!!!!!!!!\n",
      " SHAPE (16, 19) MEAN: 0.0416 STD: 0.1248 VALS [0.06327 -0.1194 -0.1222 -0.04663 0.1556 0.1193 0.01654 0.009215 0.008495 0.2181...]\n"
     ]
    }
   ],
   "source": [
    "class MLP(nn.Module):\n",
    "    def __init__(self, in_size : int, hidden_size : int, out_size : int) -> None:\n",
    "        super().__init__()\n",
    "        self.layers = nn.Sequential(\n",
    "            nn.Linear(in_size, hidden_size),\n",
    "            nn.ReLU(),\n",
    "            nn.Linear(hidden_size, hidden_size),\n",
    "            nn.ReLU(),\n",
    "            nn.Linear(hidden_size, out_size),\n",
    "        )\n",
    "\n",
    "    # obs: Tensor[..., obs_shape]) -> Tensor[..., num_actions]\n",
    "    def forward(self, obs):\n",
    "        return self.layers(obs)\n",
    "    \n",
    "rl_tests.test_q_net(MLP)"
   ]
  },
  {
   "cell_type": "code",
   "execution_count": null,
   "metadata": {},
   "outputs": [],
   "source": [
    "cartpole_env = gym.make(\"CartPole-v1\")\n",
    "cartpole_eval_env = gym.make(\"CartPole-v1\")"
   ]
  },
  {
   "cell_type": "code",
   "execution_count": null,
   "metadata": {},
   "outputs": [],
   "source": [
    "def make_choice(\n",
    "    env: gym.Env, eps: float, net: nn.Module, obs, device: str\n",
    ") -> int:\n",
    "    if random.random() < eps:\n",
    "        return env.action_space.sample()\n",
    "    action_scores = net(torch.tensor(obs, dtype=torch.float32, device=device))\n",
    "    best_action = action_scores.argmax(dim=-1)\n",
    "    return best_action.item()"
   ]
  },
  {
   "cell_type": "code",
   "execution_count": null,
   "metadata": {},
   "outputs": [
    {
     "data": {
      "text/plain": [
       "10.0"
      ]
     },
     "execution_count": 145,
     "metadata": {},
     "output_type": "execute_result"
    }
   ],
   "source": [
    "def evaluate(model: nn.Module, env: gym.Env, eps: float, device: str, video_name = None) -> float:\n",
    "    # env.reset() returns an initial observation, so make sure to do this at the beginning.\n",
    "    # Feel free to modify the above function by adding arguments like epsilon : float, device : string, save_video : bool.\n",
    "    # This is an eval function; make sure you’re not storing gradients\n",
    "    # Note that env.step takes an action (an int between 0 and env.action_space.n - 1, inclusive) and returns:\n",
    "    #   state: Tensor  The next observation\n",
    "    #   reward: float  The reward gained during the timestep\n",
    "    #   done: bool  Whether or not the episode is over\n",
    "    #   info: dict  extra information like number of lives remaining\n",
    "    #   You’ll need to handle the ‘done’ output by exiting the loop when the episode ends.\n",
    "    \n",
    "    is_recording = video_name is not None\n",
    "    if is_recording:\n",
    "        video_recorder = VideoRecorder(env, base_path=f'videos/{video_name}')  \n",
    "    \n",
    "    state = env.reset()\n",
    "    done = False\n",
    "    total_reward = 0\n",
    "    states = 0\n",
    "    \n",
    "    model.to(device)\n",
    "    model.eval()\n",
    "    \n",
    "    with torch.no_grad():\n",
    "        while not done:\n",
    "            states += 1\n",
    "            if is_recording:\n",
    "                video_recorder.capture_frame()\n",
    "            action = make_choice(env=env, eps=eps, net=model, obs=state, device=device)\n",
    "            state, reward, done, _ = env.step(action)\n",
    "            total_reward += reward\n",
    "            \n",
    "    if is_recording:\n",
    "        video_recorder.close()\n",
    "\n",
    "    return total_reward\n",
    "\n",
    "(in_size,) = cartpole_env.observation_space.shape\n",
    "cartpole_q_net = MLP(in_size=in_size, hidden_size=64, out_size=cartpole_env.action_space.n)\n",
    "evaluate(model=cartpole_q_net, env=cartpole_env, eps=0.05, device=devices[0], video_name=\"cartpole-eval\")"
   ]
  },
  {
   "cell_type": "code",
   "execution_count": null,
   "metadata": {},
   "outputs": [
    {
     "data": {
      "text/html": [
       "<video src=\"videos/cartpole-eval.mp4\" controls  >\n",
       "      Your browser does not support the <code>video</code> element.\n",
       "    </video>"
      ],
      "text/plain": [
       "<IPython.core.display.Video object>"
      ]
     },
     "execution_count": 100,
     "metadata": {},
     "output_type": "execute_result"
    }
   ],
   "source": [
    "Video(f\"videos/cartpole-eval.mp4\")"
   ]
  },
  {
   "cell_type": "code",
   "execution_count": null,
   "metadata": {},
   "outputs": [],
   "source": [
    "(in_size,) = cartpole_env.observation_space.shape\n",
    "device = devices[0]\n",
    "cartpole_q_net = MLP(in_size=in_size, hidden_size=64, out_size=cartpole_env.action_space.n).to(device)"
   ]
  },
  {
   "cell_type": "code",
   "execution_count": 265,
   "metadata": {},
   "outputs": [
    {
     "data": {
      "image/png": "[encoded data removed]",
      "text/plain": [
       "<Figure size 432x288 with 1 Axes>"
      ]
     },
     "metadata": {
      "needs_background": "light"
     },
     "output_type": "display_data"
    },
    {
     "data": {
      "image/png": "[encoded data removed]",
      "text/plain": [
       "<Figure size 432x288 with 1 Axes>"
      ]
     },
     "metadata": {
      "needs_background": "light"
     },
     "output_type": "display_data"
    },
    {
     "name": "stderr",
     "output_type": "stream",
     "text": [
      " 92%|█████████████████████████████████████████████████████████████████████████████████████████▊        | 18337/20000 [00:49<00:04, 377.05it/s] 91%|█████████████████████████████████████████████████████████████████████████████████████████▌        | 18289/20000 [00:49<00:04, 374.27it/s] 91%|█████████████████████████████████████████████████████████████████████████████████████████▍        | 18241/20000 [00:49<00:04, 372.67it/s] 91%|█████████████████████████████████████████████████████████████████████████████████████████▏        | 18193/20000 [00:49<00:04, 372.06it/s] 91%|████████████████████████████████████████████████████████████████████████████████████████▉         | 18145/20000 [00:49<00:05, 370.35it/s] 90%|████████████████████████████████████████████████████████████████████████████████████████▋         | 18097/20000 [00:49<00:05, 366.11it/s] 90%|████████████████████████████████████████████████████████████████████████████████████████▍         | 18049/20000 [00:48<00:05, 369.42it/s] 90%|████████████████████████████████████████████████████████████████████████████████████████▏         | 18001/20000 [00:48<00:05, 371.56it/s] 90%|███████████████████████████████████████████████████████████████████████████████████████▉          | 17953/20000 [00:48<00:05, 376.30it/s] 90%|███████████████████████████████████████████████████████████████████████████████████████▋          | 17905/20000 [00:48<00:05, 375.32it/s] 89%|███████████████████████████████████████████████████████████████████████████████████████▍          | 17857/20000 [00:48<00:05, 374.33it/s] 89%|███████████████████████████████████████████████████████████████████████████████████████▎          | 17809/20000 [00:48<00:05, 371.57it/s] 89%|███████████████████████████████████████████████████████████████████████████████████████           | 17761/20000 [00:48<00:06, 370.23it/s] 89%|██████████████████████████████████████████████████████████████████████████████████████▊           | 17713/20000 [00:48<00:06, 370.18it/s] 88%|█████████████████████████████████████████████████████████████████████████████████████▊            | 17521/20000 [00:47<00:06, 366.03it/s] 87%|█████████████████████████████████████████████████████████████████████████████████████▌            | 17473/20000 [00:47<00:06, 366.73it/s] 87%|█████████████████████████████████████████████████████████████████████████████████████▍            | 17425/20000 [00:47<00:06, 369.15it/s] 87%|█████████████████████████████████████████████████████████████████████████████████████▏            | 17377/20000 [00:47<00:07, 369.81it/s] 87%|████████████████████████████████████████████████████████████████████████████████████▉             | 17329/20000 [00:47<00:07, 369.19it/s] 86%|████████████████████████████████████████████████████████████████████████████████████▋             | 17281/20000 [00:46<00:07, 368.68it/s] 86%|████████████████████████████████████████████████████████████████████████████████████▍             | 17233/20000 [00:46<00:07, 368.02it/s] 86%|████████████████████████████████████████████████████████████████████████████████████▏             | 17185/20000 [00:46<00:07, 371.43it/s] 86%|███████████████████████████████████████████████████████████████████████████████████▉              | 17137/20000 [00:46<00:07, 374.13it/s] 85%|███████████████████████████████████████████████████████████████████████████████████▋              | 17089/20000 [00:46<00:07, 372.11it/s] 85%|███████████████████████████████████████████████████████████████████████████████████▌              | 17041/20000 [00:46<00:08, 368.40it/s] 85%|███████████████████████████████████████████████████████████████████████████████████▎              | 16993/20000 [00:46<00:08, 366.40it/s] 85%|███████████████████████████████████████████████████████████████████████████████████               | 16945/20000 [00:46<00:08, 363.75it/s] 84%|██████████████████████████████████████████████████████████████████████████████████▊               | 16897/20000 [00:45<00:08, 361.37it/s] 84%|██████████████████████████████████████████████████████████████████████████████████▌               | 16849/20000 [00:45<00:08, 364.70it/s] 84%|██████████████████████████████████████████████████████████████████████████████████▎               | 16801/20000 [00:45<00:08, 365.48it/s] 84%|██████████████████████████████████████████████████████████████████████████████████                | 16753/20000 [00:45<00:08, 366.96it/s] 84%|█████████████████████████████████████████████████████████████████████████████████▊                | 16705/20000 [00:45<00:09, 365.96it/s] 83%|█████████████████████████████████████████████████████████████████████████████████▌                | 16657/20000 [00:45<00:09, 362.58it/s] 83%|█████████████████████████████████████████████████████████████████████████████████▍                | 16609/20000 [00:45<00:09, 367.24it/s] 83%|█████████████████████████████████████████████████████████████████████████████████▏                | 16561/20000 [00:44<00:09, 372.00it/s] 83%|████████████████████████████████████████████████████████████████████████████████▉                 | 16513/20000 [00:44<00:09, 379.65it/s] 82%|████████████████████████████████████████████████████████████████████████████████▋                 | 16465/20000 [00:44<00:09, 379.22it/s] 82%|████████████████████████████████████████████████████████████████████████████████▍                 | 16417/20000 [00:44<00:09, 377.38it/s] 82%|████████████████████████████████████████████████████████████████████████████████▏                 | 16369/20000 [00:44<00:09, 377.69it/s] 82%|███████████████████████████████████████████████████████████████████████████████▉                  | 16321/20000 [00:44<00:09, 374.35it/s] 81%|███████████████████████████████████████████████████████████████████████████████▋                  | 16273/20000 [00:44<00:09, 373.64it/s] 81%|███████████████████████████████████████████████████████████████████████████████▌                  | 16225/20000 [00:44<00:10, 372.37it/s] 81%|███████████████████████████████████████████████████████████████████████████████▎                  | 16177/20000 [00:43<00:10, 370.77it/s] 81%|███████████████████████████████████████████████████████████████████████████████                   | 16129/20000 [00:43<00:10, 366.48it/s] 80%|██████████████████████████████████████████████████████████████████████████████▊                   | 16081/20000 [00:43<00:10, 364.51it/s] 79%|█████████████████████████████████████████████████████████████████████████████▊                    | 15889/20000 [00:43<00:11, 370.64it/s] 79%|█████████████████████████████████████████████████████████████████████████████▌                    | 15841/20000 [00:43<00:11, 369.93it/s] 79%|█████████████████████████████████████████████████████████████████████████████▍                    | 15793/20000 [00:42<00:11, 367.03it/s] 79%|█████████████████████████████████████████████████████████████████████████████▏                    | 15745/20000 [00:42<00:11, 364.04it/s] 78%|████████████████████████████████████████████████████████████████████████████▉                     | 15697/20000 [00:42<00:11, 362.71it/s] 78%|████████████████████████████████████████████████████████████████████████████▋                     | 15649/20000 [00:42<00:12, 358.74it/s] 78%|████████████████████████████████████████████████████████████████████████████▍                     | 15601/20000 [00:42<00:12, 354.96it/s] 78%|████████████████████████████████████████████████████████████████████████████▏                     | 15553/20000 [00:42<00:12, 354.51it/s] 78%|████████████████████████████████████████████████████████████████████████████                      | 15512/20000 [00:42<00:11, 374.96it/s] 77%|███████████████████████████████████████████████████████████████████████████▊                      | 15473/20000 [00:42<00:12, 369.12it/s] 77%|███████████████████████████████████████████████████████████████████████████▌                      | 15425/20000 [00:41<00:12, 375.71it/s] 77%|███████████████████████████████████████████████████████████████████████████▎                      | 15377/20000 [00:41<00:12, 374.56it/s] 77%|███████████████████████████████████████████████████████████████████████████                       | 15329/20000 [00:41<00:12, 376.20it/s] 76%|██████████████████████████████████████████████████████████████████████████▉                       | 15281/20000 [00:41<00:12, 378.70it/s] 76%|██████████████████████████████████████████████████████████████████████████▋                       | 15233/20000 [00:41<00:12, 376.96it/s] 76%|██████████████████████████████████████████████████████████████████████████▍                       | 15185/20000 [00:41<00:12, 376.90it/s] 76%|██████████████████████████████████████████████████████████████████████████▏                       | 15137/20000 [00:41<00:12, 375.08it/s] 75%|█████████████████████████████████████████████████████████████████████████▉                        | 15089/20000 [00:40<00:13, 371.44it/s] 75%|█████████████████████████████████████████████████████████████████████████▋                        | 15041/20000 [00:40<00:13, 366.99it/s] 75%|█████████████████████████████████████████████████████████████████████████▍                        | 14993/20000 [00:40<00:13, 369.64it/s] 75%|█████████████████████████████████████████████████████████████████████████▏                        | 14945/20000 [00:40<00:13, 373.20it/s] 74%|████████████████████████████████████████████████████████████████████████▉                         | 14897/20000 [00:40<00:13, 373.39it/s] 74%|████████████████████████████████████████████████████████████████████████▊                         | 14849/20000 [00:40<00:13, 374.17it/s] 74%|████████████████████████████████████████████████████████████████████████▌                         | 14801/20000 [00:40<00:13, 375.99it/s] 74%|████████████████████████████████████████████████████████████████████████▎                         | 14753/20000 [00:40<00:13, 375.36it/s] 74%|████████████████████████████████████████████████████████████████████████                          | 14705/20000 [00:39<00:14, 374.23it/s] 73%|███████████████████████████████████████████████████████████████████████▊                          | 14657/20000 [00:39<00:14, 376.18it/s] 73%|███████████████████████████████████████████████████████████████████████▌                          | 14609/20000 [00:39<00:14, 372.65it/s] 73%|███████████████████████████████████████████████████████████████████████▎                          | 14561/20000 [00:39<00:14, 370.80it/s] 73%|███████████████████████████████████████████████████████████████████████                           | 14513/20000 [00:39<00:14, 373.29it/s] 72%|██████████████████████████████████████████████████████████████████████▏                           | 14321/20000 [00:38<00:15, 372.88it/s] 71%|█████████████████████████████████████████████████████████████████████▉                            | 14273/20000 [00:38<00:15, 373.87it/s] 71%|█████████████████████████████████████████████████████████████████████▋                            | 14225/20000 [00:38<00:15, 373.62it/s] 71%|█████████████████████████████████████████████████████████████████████▍                            | 14177/20000 [00:38<00:15, 374.41it/s] 71%|█████████████████████████████████████████████████████████████████████▏                            | 14129/20000 [00:38<00:15, 374.30it/s] 70%|████████████████████████████████████████████████████████████████████▉                             | 14081/20000 [00:38<00:15, 373.64it/s] 70%|████████████████████████████████████████████████████████████████████▊                             | 14033/20000 [00:38<00:16, 372.26it/s] 70%|████████████████████████████████████████████████████████████████████▌                             | 13985/20000 [00:38<00:16, 374.11it/s] 70%|████████████████████████████████████████████████████████████████████▎                             | 13937/20000 [00:37<00:16, 373.64it/s] 69%|████████████████████████████████████████████████████████████████████                              | 13889/20000 [00:37<00:16, 373.13it/s] 69%|███████████████████████████████████████████████████████████████████▊                              | 13841/20000 [00:37<00:16, 374.99it/s] 69%|███████████████████████████████████████████████████████████████████▌                              | 13793/20000 [00:37<00:16, 372.62it/s] 69%|███████████████████████████████████████████████████████████████████▎                              | 13745/20000 [00:37<00:16, 373.97it/s] 68%|███████████████████████████████████████████████████████████████████                               | 13697/20000 [00:37<00:16, 373.96it/s] 68%|██████████████████████████████████████████████████████████████████▉                               | 13649/20000 [00:37<00:16, 375.89it/s] 68%|██████████████████████████████████████████████████████████████████▋                               | 13601/20000 [00:36<00:16, 376.69it/s] 68%|██████████████████████████████████████████████████████████████████▍                               | 13553/20000 [00:36<00:17, 371.69it/s] 68%|██████████████████████████████████████████████████████████████████▏                               | 13505/20000 [00:36<00:17, 374.37it/s] 67%|█████████████████████████████████████████████████████████████████▉                                | 13457/20000 [00:36<00:17, 373.67it/s] 67%|█████████████████████████████████████████████████████████████████▋                                | 13409/20000 [00:36<00:17, 379.58it/s] 67%|█████████████████████████████████████████████████████████████████▍                                | 13361/20000 [00:36<00:17, 379.72it/s] 67%|█████████████████████████████████████████████████████████████████▏                                | 13313/20000 [00:36<00:17, 379.24it/s] 66%|████████████████████████████████████████████████████████████████▉                                 | 13265/20000 [00:36<00:17, 376.33it/s] 66%|████████████████████████████████████████████████████████████████▊                                 | 13217/20000 [00:35<00:18, 375.04it/s] 66%|████████████████████████████████████████████████████████████████▌                                 | 13169/20000 [00:35<00:18, 369.25it/s] 66%|████████████████████████████████████████████████████████████████▎                                 | 13121/20000 [00:35<00:18, 368.86it/s] 65%|████████████████████████████████████████████████████████████████                                  | 13073/20000 [00:35<00:18, 370.68it/s] 65%|███████████████████████████████████████████████████████████████▊                                  | 13025/20000 [00:35<00:18, 370.80it/s] 65%|███████████████████████████████████████████████████████████████▌                                  | 12977/20000 [00:35<00:18, 370.22it/s] 65%|███████████████████████████████████████████████████████████████▎                                  | 12929/20000 [00:35<00:19, 368.62it/s] 64%|███████████████████████████████████████████████████████████████                                   | 12881/20000 [00:35<00:19, 368.36it/s] 63%|██████████████████████████████████████████████████████████████▏                                   | 12689/20000 [00:34<00:19, 379.16it/s] 63%|█████████████████████████████████████████████████████████████▉                                    | 12641/20000 [00:34<00:19, 380.48it/s] 63%|█████████████████████████████████████████████████████████████▋                                    | 12593/20000 [00:34<00:19, 377.87it/s] 63%|█████████████████████████████████████████████████████████████▍                                    | 12545/20000 [00:34<00:19, 377.71it/s] 62%|█████████████████████████████████████████████████████████████▏                                    | 12497/20000 [00:34<00:19, 380.30it/s] 62%|█████████████████████████████████████████████████████████████                                     | 12449/20000 [00:33<00:19, 378.60it/s] 62%|████████████████████████████████████████████████████████████▊                                     | 12401/20000 [00:33<00:19, 381.45it/s] 62%|████████████████████████████████████████████████████████████▌                                     | 12353/20000 [00:33<00:20, 379.87it/s] 62%|████████████████████████████████████████████████████████████▎                                     | 12305/20000 [00:33<00:20, 378.40it/s] 61%|████████████████████████████████████████████████████████████                                      | 12257/20000 [00:33<00:20, 376.04it/s] 61%|███████████████████████████████████████████████████████████▊                                      | 12209/20000 [00:33<00:20, 374.12it/s] 61%|███████████████████████████████████████████████████████████▌                                      | 12161/20000 [00:33<00:20, 375.01it/s] 61%|███████████████████████████████████████████████████████████▎                                      | 12113/20000 [00:33<00:20, 378.82it/s] 60%|███████████████████████████████████████████████████████████                                       | 12065/20000 [00:32<00:21, 374.41it/s] 60%|██████████████████████████████████████████████████████████▉                                       | 12017/20000 [00:32<00:21, 374.21it/s] 60%|██████████████████████████████████████████████████████████▋                                       | 11969/20000 [00:32<00:21, 375.47it/s] 60%|██████████████████████████████████████████████████████████▍                                       | 11921/20000 [00:32<00:21, 373.22it/s] 59%|██████████████████████████████████████████████████████████▏                                       | 11873/20000 [00:32<00:21, 370.81it/s] 59%|█████████████████████████████████████████████████████████▉                                        | 11825/20000 [00:32<00:22, 371.35it/s] 59%|█████████████████████████████████████████████████████████▋                                        | 11777/20000 [00:32<00:22, 371.16it/s] 59%|█████████████████████████████████████████████████████████▍                                        | 11729/20000 [00:32<00:22, 371.43it/s] 58%|█████████████████████████████████████████████████████████▏                                        | 11681/20000 [00:31<00:22, 371.93it/s] 58%|█████████████████████████████████████████████████████████                                         | 11633/20000 [00:31<00:22, 370.87it/s] 58%|████████████████████████████████████████████████████████▊                                         | 11585/20000 [00:31<00:22, 368.47it/s] 58%|████████████████████████████████████████████████████████▌                                         | 11537/20000 [00:31<00:22, 369.37it/s] 57%|████████████████████████████████████████████████████████▎                                         | 11489/20000 [00:31<00:22, 373.29it/s] 57%|████████████████████████████████████████████████████████                                          | 11441/20000 [00:31<00:22, 373.25it/s] 57%|███████████████████████████████████████████████████████▊                                          | 11393/20000 [00:31<00:23, 371.38it/s] 57%|███████████████████████████████████████████████████████▌                                          | 11345/20000 [00:30<00:23, 371.17it/s] 56%|███████████████████████████████████████████████████████▎                                          | 11297/20000 [00:30<00:23, 368.39it/s] 56%|██████████████████████████████████████████████████████▍                                           | 11105/20000 [00:30<00:23, 372.12it/s] 55%|██████████████████████████████████████████████████████▏                                           | 11057/20000 [00:30<00:23, 373.51it/s] 55%|█████████████████████████████████████████████████████▉                                            | 11009/20000 [00:30<00:24, 371.30it/s] 55%|█████████████████████████████████████████████████████▋                                            | 10961/20000 [00:29<00:24, 374.01it/s] 55%|█████████████████████████████████████████████████████▍                                            | 10913/20000 [00:29<00:24, 376.29it/s] 54%|█████████████████████████████████████████████████████▏                                            | 10865/20000 [00:29<00:24, 375.35it/s] 54%|█████████████████████████████████████████████████████                                             | 10817/20000 [00:29<00:24, 373.37it/s] 54%|████████████████████████████████████████████████████▊                                             | 10769/20000 [00:29<00:24, 371.03it/s] 54%|████████████████████████████████████████████████████▌                                             | 10721/20000 [00:29<00:24, 372.27it/s] 53%|████████████████████████████████████████████████████▎                                             | 10673/20000 [00:29<00:25, 372.41it/s] 53%|████████████████████████████████████████████████████                                              | 10625/20000 [00:29<00:25, 374.17it/s] 53%|███████████████████████████████████████████████████▊                                              | 10577/20000 [00:28<00:25, 374.04it/s] 53%|███████████████████████████████████████████████████▌                                              | 10529/20000 [00:28<00:25, 373.72it/s] 52%|███████████████████████████████████████████████████▎                                              | 10481/20000 [00:28<00:25, 374.96it/s] 52%|███████████████████████████████████████████████████                                               | 10433/20000 [00:28<00:25, 372.75it/s] 52%|██████████████████████████████████████████████████▉                                               | 10385/20000 [00:28<00:25, 374.07it/s] 52%|██████████████████████████████████████████████████▋                                               | 10337/20000 [00:28<00:25, 372.82it/s] 51%|██████████████████████████████████████████████████▍                                               | 10289/20000 [00:28<00:25, 373.56it/s] 51%|██████████████████████████████████████████████████▏                                               | 10241/20000 [00:28<00:26, 370.02it/s] 51%|█████████████████████████████████████████████████▉                                                | 10193/20000 [00:27<00:26, 367.42it/s] 51%|█████████████████████████████████████████████████▋                                                | 10145/20000 [00:27<00:26, 365.43it/s] 50%|█████████████████████████████████████████████████▍                                                | 10097/20000 [00:27<00:27, 361.40it/s] 50%|█████████████████████████████████████████████████▏                                                | 10049/20000 [00:27<00:27, 358.44it/s] 50%|█████████████████████████████████████████████████                                                 | 10001/20000 [00:27<00:28, 351.92it/s] 50%|█████████████████████████████████████████████████▎                                                 | 9953/20000 [00:27<00:29, 337.71it/s] 50%|█████████████████████████████████████████████████                                                  | 9905/20000 [00:27<00:31, 324.65it/s] 49%|████████████████████████████████████████████████▊                                                  | 9857/20000 [00:26<00:33, 307.20it/s] 49%|████████████████████████████████████████████████▌                                                  | 9809/20000 [00:26<00:35, 284.35it/s] 49%|████████████████████████████████████████████████▎                                                  | 9761/20000 [00:26<00:39, 258.90it/s] 49%|████████████████████████████████████████████████                                                   | 9713/20000 [00:26<00:44, 231.28it/s] 48%|███████████████████████████████████████████████▉                                                   | 9680/20000 [00:26<00:46, 222.23it/s] 48%|███████████████████████████████████████████████▋                                                   | 9638/20000 [00:26<00:55, 185.06it/s] 47%|██████████████████████████████████████████████▊                                                    | 9457/20000 [00:25<00:28, 375.04it/s] 47%|██████████████████████████████████████████████▌                                                    | 9409/20000 [00:25<00:28, 373.61it/s] 47%|██████████████████████████████████████████████▎                                                    | 9361/20000 [00:25<00:28, 371.53it/s] 47%|██████████████████████████████████████████████                                                     | 9313/20000 [00:25<00:28, 369.09it/s] 46%|█████████████████████████████████████████████▊                                                     | 9265/20000 [00:25<00:29, 369.83it/s] 46%|█████████████████████████████████████████████▌                                                     | 9217/20000 [00:24<00:29, 369.67it/s] 46%|█████████████████████████████████████████████▍                                                     | 9169/20000 [00:24<00:28, 373.93it/s] 46%|█████████████████████████████████████████████▏                                                     | 9121/20000 [00:24<00:29, 371.30it/s] 45%|████████████████████████████████████████████▉                                                      | 9073/20000 [00:24<00:29, 369.40it/s] 45%|████████████████████████████████████████████▋                                                      | 9025/20000 [00:24<00:29, 368.71it/s] 45%|████████████████████████████████████████████▍                                                      | 8977/20000 [00:24<00:29, 367.48it/s] 45%|████████████████████████████████████████████▏                                                      | 8929/20000 [00:24<00:30, 367.13it/s] 44%|███████████████████████████████████████████▉                                                       | 8881/20000 [00:23<00:30, 364.80it/s] 44%|███████████████████████████████████████████▋                                                       | 8833/20000 [00:23<00:30, 366.39it/s] 44%|███████████████████████████████████████████▍                                                       | 8785/20000 [00:23<00:30, 369.09it/s] 44%|███████████████████████████████████████████▏                                                       | 8737/20000 [00:23<00:30, 371.88it/s] 43%|███████████████████████████████████████████                                                        | 8689/20000 [00:23<00:29, 378.08it/s] 43%|██████████████████████████████████████████▊                                                        | 8641/20000 [00:23<00:29, 381.36it/s] 43%|██████████████████████████████████████████▌                                                        | 8593/20000 [00:23<00:29, 380.42it/s] 43%|██████████████████████████████████████████▎                                                        | 8545/20000 [00:23<00:30, 380.06it/s] 42%|██████████████████████████████████████████                                                         | 8497/20000 [00:22<00:30, 375.30it/s] 42%|█████████████████████████████████████████▊                                                         | 8449/20000 [00:22<00:30, 376.64it/s] 42%|█████████████████████████████████████████▌                                                         | 8401/20000 [00:22<00:30, 380.22it/s] 42%|█████████████████████████████████████████▎                                                         | 8353/20000 [00:22<00:30, 379.74it/s] 42%|█████████████████████████████████████████                                                          | 8305/20000 [00:22<00:30, 381.47it/s] 41%|████████████████████████████████████████▊                                                          | 8257/20000 [00:22<00:30, 381.22it/s] 41%|████████████████████████████████████████▋                                                          | 8209/20000 [00:22<00:31, 376.49it/s] 41%|████████████████████████████████████████▍                                                          | 8161/20000 [00:22<00:31, 374.63it/s] 41%|████████████████████████████████████████▏                                                          | 8113/20000 [00:21<00:31, 376.64it/s] 40%|███████████████████████████████████████▏                                                           | 7921/20000 [00:21<00:32, 375.54it/s] 39%|██████████████████████████████████████▉                                                            | 7873/20000 [00:21<00:32, 377.75it/s] 39%|██████████████████████████████████████▋                                                            | 7825/20000 [00:21<00:32, 377.76it/s] 39%|██████████████████████████████████████▍                                                            | 7777/20000 [00:21<00:32, 377.41it/s] 39%|██████████████████████████████████████▎                                                            | 7729/20000 [00:20<00:32, 379.10it/s] 38%|██████████████████████████████████████                                                             | 7681/20000 [00:20<00:32, 380.63it/s] 38%|█████████████████████████████████████▊                                                             | 7633/20000 [00:20<00:32, 381.95it/s] 38%|█████████████████████████████████████▌                                                             | 7585/20000 [00:20<00:32, 381.64it/s] 38%|█████████████████████████████████████▎                                                             | 7537/20000 [00:20<00:32, 380.95it/s] 37%|█████████████████████████████████████                                                              | 7489/20000 [00:20<00:32, 382.03it/s] 37%|████████████████████████████████████▊                                                              | 7441/20000 [00:20<00:32, 381.85it/s] 37%|████████████████████████████████████▌                                                              | 7393/20000 [00:20<00:32, 383.71it/s] 37%|████████████████████████████████████▎                                                              | 7345/20000 [00:19<00:32, 385.24it/s] 36%|████████████████████████████████████                                                               | 7297/20000 [00:19<00:32, 385.29it/s] 36%|███████████████████████████████████▉                                                               | 7249/20000 [00:19<00:33, 382.76it/s] 36%|███████████████████████████████████▋                                                               | 7201/20000 [00:19<00:33, 381.51it/s] 36%|███████████████████████████████████▍                                                               | 7153/20000 [00:19<00:33, 382.68it/s] 36%|███████████████████████████████████▏                                                               | 7105/20000 [00:19<00:34, 378.08it/s] 35%|██████████████████████████████████▉                                                                | 7057/20000 [00:19<00:34, 378.27it/s] 35%|██████████████████████████████████▋                                                                | 7009/20000 [00:19<00:34, 376.73it/s] 35%|██████████████████████████████████▍                                                                | 6961/20000 [00:18<00:34, 376.45it/s] 35%|██████████████████████████████████▏                                                                | 6913/20000 [00:18<00:34, 374.34it/s] 34%|█████████████████████████████████▉                                                                 | 6865/20000 [00:18<00:35, 370.20it/s] 34%|█████████████████████████████████▋                                                                 | 6817/20000 [00:18<00:35, 368.26it/s] 34%|█████████████████████████████████▌                                                                 | 6769/20000 [00:18<00:35, 368.97it/s] 34%|█████████████████████████████████▎                                                                 | 6721/20000 [00:18<00:36, 368.20it/s] 33%|█████████████████████████████████                                                                  | 6673/20000 [00:18<00:35, 372.11it/s] 33%|████████████████████████████████▊                                                                  | 6625/20000 [00:18<00:35, 375.53it/s] 33%|████████████████████████████████▌                                                                  | 6577/20000 [00:17<00:35, 376.43it/s] 33%|████████████████████████████████▎                                                                  | 6529/20000 [00:17<00:35, 378.19it/s] 32%|████████████████████████████████                                                                   | 6481/20000 [00:17<00:35, 376.77it/s] 31%|███████████████████████████████▏                                                                   | 6289/20000 [00:17<00:36, 374.33it/s] 31%|██████████████████████████████▉                                                                    | 6241/20000 [00:16<00:36, 376.47it/s] 31%|██████████████████████████████▋                                                                    | 6193/20000 [00:16<00:36, 376.54it/s] 31%|██████████████████████████████▍                                                                    | 6145/20000 [00:16<00:36, 378.28it/s] 30%|██████████████████████████████▏                                                                    | 6097/20000 [00:16<00:36, 376.87it/s] 30%|█████████████████████████████▉                                                                     | 6049/20000 [00:16<00:36, 377.35it/s] 30%|█████████████████████████████▋                                                                     | 6001/20000 [00:16<00:37, 377.56it/s] 30%|█████████████████████████████▍                                                                     | 5953/20000 [00:16<00:37, 377.44it/s] 30%|█████████████████████████████▏                                                                     | 5905/20000 [00:16<00:37, 377.82it/s] 29%|████████████████████████████▉                                                                      | 5857/20000 [00:15<00:37, 376.30it/s] 29%|████████████████████████████▊                                                                      | 5809/20000 [00:15<00:37, 377.19it/s] 29%|████████████████████████████▌                                                                      | 5761/20000 [00:15<00:37, 379.12it/s] 29%|████████████████████████████▎                                                                      | 5713/20000 [00:15<00:37, 382.97it/s] 28%|████████████████████████████                                                                       | 5665/20000 [00:15<00:37, 381.94it/s] 28%|███████████████████████████▊                                                                       | 5617/20000 [00:15<00:37, 384.16it/s] 28%|███████████████████████████▌                                                                       | 5569/20000 [00:15<00:37, 384.11it/s] 28%|███████████████████████████▎                                                                       | 5521/20000 [00:15<00:37, 383.60it/s] 27%|███████████████████████████                                                                        | 5473/20000 [00:14<00:37, 388.92it/s] 27%|██████████████████████████▊                                                                        | 5425/20000 [00:14<00:37, 387.83it/s] 27%|██████████████████████████▌                                                                        | 5377/20000 [00:14<00:38, 383.11it/s] 27%|██████████████████████████▍                                                                        | 5329/20000 [00:14<00:38, 380.43it/s] 26%|██████████████████████████▏                                                                        | 5281/20000 [00:14<00:38, 380.33it/s] 26%|█████████████████████████▉                                                                         | 5233/20000 [00:14<00:39, 377.49it/s] 26%|█████████████████████████▋                                                                         | 5185/20000 [00:14<00:39, 374.56it/s] 26%|█████████████████████████▍                                                                         | 5137/20000 [00:14<00:39, 379.46it/s] 25%|█████████████████████████▏                                                                         | 5089/20000 [00:13<00:39, 378.81it/s] 25%|████████████████████████▉                                                                          | 5041/20000 [00:13<00:39, 376.77it/s] 25%|████████████████████████▋                                                                          | 4993/20000 [00:13<00:40, 373.69it/s] 25%|████████████████████████▍                                                                          | 4945/20000 [00:13<00:40, 374.05it/s] 24%|████████████████████████▏                                                                          | 4897/20000 [00:13<00:40, 373.64it/s] 24%|███████████████████████▎                                                                           | 4705/20000 [00:12<00:41, 371.47it/s] 23%|███████████████████████                                                                            | 4657/20000 [00:12<00:41, 370.34it/s] 23%|██████████████████████▊                                                                            | 4609/20000 [00:12<00:41, 370.77it/s] 23%|██████████████████████▌                                                                            | 4561/20000 [00:12<00:41, 372.87it/s] 23%|██████████████████████▎                                                                            | 4513/20000 [00:12<00:41, 373.57it/s] 22%|██████████████████████                                                                             | 4465/20000 [00:12<00:41, 376.06it/s] 22%|█████████████████████▊                                                                             | 4417/20000 [00:12<00:41, 376.74it/s] 22%|█████████████████████▋                                                                             | 4369/20000 [00:12<00:41, 374.20it/s] 22%|█████████████████████▍                                                                             | 4321/20000 [00:11<00:41, 373.42it/s] 21%|█████████████████████▏                                                                             | 4273/20000 [00:11<00:42, 370.82it/s] 21%|████████████████████▉                                                                              | 4225/20000 [00:11<00:42, 370.73it/s] 21%|████████████████████▋                                                                              | 4177/20000 [00:11<00:42, 370.25it/s] 21%|████████████████████▍                                                                              | 4129/20000 [00:11<00:42, 372.84it/s] 20%|████████████████████▏                                                                              | 4081/20000 [00:11<00:42, 375.49it/s] 20%|███████████████████▉                                                                               | 4033/20000 [00:11<00:42, 373.44it/s] 20%|███████████████████▋                                                                               | 3985/20000 [00:10<00:43, 371.80it/s] 20%|███████████████████▍                                                                               | 3937/20000 [00:10<00:43, 373.51it/s] 19%|███████████████████▎                                                                               | 3889/20000 [00:10<00:42, 378.27it/s] 19%|███████████████████                                                                                | 3841/20000 [00:10<00:42, 377.72it/s] 19%|██████████████████▊                                                                                | 3793/20000 [00:10<00:42, 380.32it/s] 19%|██████████████████▌                                                                                | 3745/20000 [00:10<00:43, 378.00it/s] 18%|██████████████████▎                                                                                | 3697/20000 [00:10<00:43, 379.01it/s] 18%|██████████████████                                                                                 | 3649/20000 [00:10<00:43, 377.10it/s] 18%|█████████████████▊                                                                                 | 3601/20000 [00:09<00:43, 378.21it/s] 18%|█████████████████▌                                                                                 | 3553/20000 [00:09<00:43, 375.38it/s] 18%|█████████████████▎                                                                                 | 3505/20000 [00:09<00:44, 372.90it/s] 17%|█████████████████                                                                                  | 3457/20000 [00:09<00:44, 371.59it/s] 17%|████████████████▊                                                                                  | 3409/20000 [00:09<00:44, 372.37it/s] 17%|████████████████▋                                                                                  | 3361/20000 [00:09<00:44, 377.89it/s] 17%|████████████████▍                                                                                  | 3313/20000 [00:09<00:44, 376.24it/s] 16%|███████████████▍                                                                                   | 3121/20000 [00:08<00:45, 369.34it/s] 15%|███████████████▏                                                                                   | 3073/20000 [00:08<00:46, 367.39it/s] 15%|██████████████▉                                                                                    | 3025/20000 [00:08<00:45, 369.57it/s] 15%|██████████████▋                                                                                    | 2977/20000 [00:08<00:45, 371.70it/s] 15%|██████████████▍                                                                                    | 2929/20000 [00:08<00:45, 372.71it/s] 14%|██████████████▎                                                                                    | 2881/20000 [00:08<00:45, 375.49it/s] 14%|██████████████                                                                                     | 2833/20000 [00:07<00:45, 376.37it/s] 14%|█████████████▊                                                                                     | 2785/20000 [00:07<00:45, 377.95it/s] 14%|█████████████▌                                                                                     | 2737/20000 [00:07<00:45, 377.04it/s] 13%|█████████████▎                                                                                     | 2689/20000 [00:07<00:46, 376.06it/s] 13%|█████████████                                                                                      | 2641/20000 [00:07<00:46, 373.73it/s] 13%|████████████▊                                                                                      | 2593/20000 [00:07<00:46, 372.33it/s] 13%|████████████▌                                                                                      | 2545/20000 [00:07<00:47, 363.88it/s] 12%|████████████▎                                                                                      | 2497/20000 [00:07<00:48, 359.74it/s] 12%|████████████                                                                                       | 2449/20000 [00:06<00:49, 356.54it/s] 12%|███████████▉                                                                                       | 2401/20000 [00:06<00:49, 353.31it/s] 12%|███████████▋                                                                                       | 2353/20000 [00:06<00:50, 351.38it/s] 12%|███████████▍                                                                                       | 2305/20000 [00:06<00:50, 352.05it/s] 11%|███████████▏                                                                                       | 2257/20000 [00:06<00:50, 351.52it/s] 11%|██████████▉                                                                                        | 2209/20000 [00:06<00:51, 347.03it/s] 11%|██████████▋                                                                                        | 2161/20000 [00:06<00:51, 344.39it/s] 11%|██████████▍                                                                                        | 2113/20000 [00:05<00:52, 338.12it/s] 10%|██████████▎                                                                                        | 2071/20000 [00:05<00:51, 349.65it/s] 10%|██████████                                                                                         | 2032/20000 [00:05<00:47, 379.38it/s] 10%|█████████▊                                                                                         | 1985/20000 [00:05<00:51, 350.54it/s] 10%|█████████▌                                                                                         | 1937/20000 [00:05<00:51, 350.76it/s]  9%|█████████▎                                                                                         | 1889/20000 [00:05<00:51, 351.89it/s]  9%|█████████                                                                                          | 1841/20000 [00:05<00:51, 352.20it/s]  9%|████████▉                                                                                          | 1793/20000 [00:05<00:51, 350.18it/s]  9%|████████▋                                                                                          | 1745/20000 [00:04<00:52, 347.72it/s]  8%|████████▍                                                                                          | 1697/20000 [00:04<00:53, 344.07it/s]  8%|███████▌                                                                                           | 1521/20000 [00:04<00:51, 358.24it/s]  7%|███████▎                                                                                           | 1473/20000 [00:04<00:51, 359.80it/s]  7%|███████                                                                                            | 1425/20000 [00:04<00:51, 362.31it/s]  7%|██████▊                                                                                            | 1377/20000 [00:03<00:51, 362.62it/s]  7%|██████▌                                                                                            | 1329/20000 [00:03<00:51, 361.71it/s]  6%|██████▎                                                                                            | 1281/20000 [00:03<00:52, 358.05it/s]  6%|██████                                                                                             | 1233/20000 [00:03<00:52, 358.54it/s]  6%|█████▊                                                                                             | 1185/20000 [00:03<00:52, 355.16it/s]  6%|█████▋                                                                                             | 1137/20000 [00:03<00:52, 357.55it/s]  5%|█████▍                                                                                             | 1089/20000 [00:03<00:52, 358.67it/s]  5%|█████▏                                                                                             | 1041/20000 [00:02<00:52, 360.05it/s]  5%|████▉                                                                                               | 993/20000 [00:02<00:52, 362.60it/s]  5%|████▋                                                                                               | 945/20000 [00:02<00:52, 363.14it/s]  4%|████▍                                                                                               | 897/20000 [00:02<00:52, 366.01it/s]  4%|████▏                                                                                               | 849/20000 [00:02<00:52, 365.62it/s]  4%|████                                                                                                | 801/20000 [00:02<00:53, 361.32it/s]  4%|███▊                                                                                                | 753/20000 [00:02<00:53, 360.96it/s]  4%|███▌                                                                                                | 705/20000 [00:02<00:53, 359.94it/s]  3%|███▎                                                                                                | 657/20000 [00:01<00:53, 358.23it/s]  3%|███                                                                                                 | 609/20000 [00:01<00:54, 357.07it/s]  3%|██▊                                                                                                 | 561/20000 [00:01<00:54, 358.96it/s]  3%|██▌                                                                                                 | 513/20000 [00:01<00:54, 356.88it/s]  2%|██▎                                                                                                 | 465/20000 [00:01<00:55, 352.29it/s]  2%|██                                                                                                  | 417/20000 [00:01<00:56, 345.43it/s]  2%|█▊                                                                                                  | 369/20000 [00:01<00:57, 340.67it/s]  2%|█▌                                                                                                  | 321/20000 [00:00<00:58, 339.11it/s]  1%|█▎                                                                                                  | 273/20000 [00:00<00:59, 331.42it/s]  1%|█▏                                                                                                  | 225/20000 [00:00<01:01, 320.37it/s]  1%|▉                                                                                                   | 177/20000 [00:00<01:04, 309.21it/s]  1%|▋                                                                                                   | 129/20000 [00:00<01:08, 290.54it/s]  0%|▍                                                                                                    | 81/20000 [00:00<01:14, 269.17it/s]"
     ]
    }
   ],
   "source": [
    "@dataclass\n",
    "class TrainConfig:\n",
    "    train_freq: int\n",
    "    eval_freq: int\n",
    "    batch_size: int\n",
    "    eps: float\n",
    "    discount_rate: float\n",
    "    max_experiences: int\n",
    "    lr: float\n",
    "    n_steps: int\n",
    "\n",
    "@dataclass\n",
    "class Experience:\n",
    "    state: any # something from the observation space\n",
    "    action: any # something from the action space\n",
    "    state_after: any # something from the observation space\n",
    "    reward: int\n",
    "    done: bool\n",
    "    \n",
    "def reward_from_experience(experience, model, discount_rate, device):\n",
    "    if experience.done:\n",
    "        return experience.reward\n",
    "    else:\n",
    "        with torch.no_grad():\n",
    "            predicted_values_of_actions = model(torch.tensor(experience.state_after, dtype=torch.float32, device=device))\n",
    "        future_reward = torch.max(predicted_values_of_actions)\n",
    "        return experience.reward + discount_rate * future_reward\n",
    "    \n",
    "def batched_reward_from_experience(samples, model, discount_rate, device):\n",
    "    with torch.no_grad():\n",
    "        state_afters = torch.stack([\n",
    "                torch.tensor(sample.state_after, dtype=torch.float32, device=device) for sample in samples\n",
    "            ],\n",
    "            dim=0)\n",
    "        predicted_values_of_actions = model(state_afters)\n",
    "        future_rewards = predicted_values_of_actions.max(dim=1).values\n",
    "    reward = torch.tensor([sample.reward for sample in samples], dtype=torch.float32, device=device)\n",
    "    not_done = torch.tensor([not sample.done for sample in samples], dtype=torch.bool, device=device)\n",
    "    reward[not_done] += discount_rate * future_rewards[not_done]\n",
    "    return reward        \n",
    "\n",
    "def training_loop(\n",
    "        model: nn.Module, \n",
    "        train_env: gym.Env,\n",
    "        eval_env: gym.Env,\n",
    "        config: TrainConfig,\n",
    "        device: str,\n",
    "):\n",
    "    model.train()\n",
    "    losses = []\n",
    "    evaluations = []\n",
    "    opt = torch.optim.Adam(model.parameters(), lr=config.lr)\n",
    "    experiences = deque(maxlen=config.max_experiences)\n",
    "    state = env.reset()\n",
    "    for action_idx in range(config.n_steps):\n",
    "        action = make_choice(env=env, eps=config.eps, net=model, obs=state, device=device)\n",
    "        state_after, reward, done, _ = env.step(action)\n",
    "        experiences.append(Experience(state, action, state_after, reward, done))\n",
    "        state = state_after\n",
    "        if done:\n",
    "            obs = env.reset()\n",
    "        if action_idx != 0 and action_idx % config.train_freq == 0:  # train the model\n",
    "            samples = random.choices(experiences, k=config.batch_size)\n",
    "            input_batch = torch.tensor([sample.state for sample in samples], dtype=torch.float32, device=device)\n",
    "            opt.zero_grad()\n",
    "            rewards_predicted = model(input_batch)\n",
    "            assert rewards_predicted.shape == (config.batch_size, env.action_space.n)\n",
    "            rewards_from_experience = batched_reward_from_experience(samples, model, config.discount_rate, device)\n",
    "            target_indices = torch.tensor([sample.action for sample in samples], device=device).unsqueeze(1)\n",
    "            target_batch = torch.gather(rewards_predicted, dim=1, index=target_indices).squeeze(0)\n",
    "            #print(f\"{input_batch=}\\n{rewards_predicted=}\\n{target_indices=}\\n{target_batch=}\\n{rewards_from_experience=}\")\n",
    "            loss = torch.sum((target_batch - rewards_from_experience) ** 2)\n",
    "            losses.append((action_idx, loss.item()))\n",
    "            loss.backward()\n",
    "            opt.step()\n",
    "            if (action_idx // config.train_freq) % config.eval_freq == 0:\n",
    "                reward = evaluate(model=model, env=eval_env, eps=config.eps, device=device)\n",
    "                evaluations.append((action_idx, reward))\n",
    "                model.train()\n",
    "                \n",
    "    plt.scatter([i for i, _ in losses], [loss for _, loss in losses])\n",
    "    plt.show()\n",
    "    plt.scatter([i for i, _ in evaluations], [r for _, r in evaluations])\n",
    "    plt.show()\n",
    "            \n",
    "training_config = TrainConfig(\n",
    "    train_freq=16,\n",
    "    eval_freq=100,\n",
    "    batch_size=128,\n",
    "    eps=0.05,\n",
    "    discount_rate=0.98,\n",
    "    max_experiences=10000,\n",
    "    lr=1e-3,\n",
    "    n_steps=5000,\n",
    ")\n",
    "training_loop(model=cartpole_q_net, train_env=cartpole_env, eval_env=cartpole_eval_env, config=training_config, device=device)"
   ]
  },
  {
   "cell_type": "code",
   "execution_count": null,
   "metadata": {},
   "outputs": [
    {
     "name": "stdout",
     "output_type": "stream",
     "text": [
      "tensor([[0, 1, 2],\n",
      "        [3, 4, 5],\n",
      "        [6, 7, 8]])\n"
     ]
    },
    {
     "data": {
      "text/plain": [
       "tensor([1, 5])"
      ]
     },
     "execution_count": 193,
     "metadata": {},
     "output_type": "execute_result"
    }
   ],
   "source": [
    "xx = torch.arange(9).reshape(3, 3)\n",
    "print(xx)\n",
    "indices = torch.tensor([1,2])\n",
    "xx[torch.arange(indices.shape[0]), indices]"
   ]
  }
 ],
 "metadata": {
  "interpreter": {
   "hash": "a131218803ea04de256dcf68d0863f351f9c21059ac7f8146793fa89223f504a"
  },
  "kernelspec": {
   "display_name": "Python 3",
   "language": "python",
   "name": "python3"
  },
  "language_info": {
   "codemirror_mode": {
    "name": "ipython",
    "version": 3
   },
   "file_extension": ".py",
   "mimetype": "text/x-python",
   "name": "python",
   "nbconvert_exporter": "python",
   "pygments_lexer": "ipython3",
   "version": "3.8.10"
  }
 },
 "nbformat": 4,
 "nbformat_minor": 4
}
