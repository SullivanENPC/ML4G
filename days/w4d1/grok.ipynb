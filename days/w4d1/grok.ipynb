{
 "cells": [
  {
   "cell_type": "markdown",
   "metadata": {},
   "source": [
    "In this notebook,\n",
    "we study a training scenario in which the loss plateaus for a long time,\n",
    "before suddenly going down again.\n",
    "\n",
    "This is related to https://arxiv.org/abs/2201.02177."
   ]
  },
  {
   "cell_type": "markdown",
   "metadata": {},
   "source": [
    "### Import libraries"
   ]
  },
  {
   "cell_type": "code",
   "execution_count": 1,
   "metadata": {},
   "outputs": [],
   "source": [
    "%load_ext autoreload\n",
    "%autoreload 2"
   ]
  },
  {
   "cell_type": "code",
   "execution_count": 66,
   "metadata": {},
   "outputs": [],
   "source": [
    "import matplotlib.pyplot as plt\n",
    "import torch as t\n",
    "import torch.nn.functional as F\n",
    "from torch import optim\n",
    "from transformers.models.bert.tokenization_bert_fast import BertTokenizerFast\n"
   ]
  },
  {
   "cell_type": "markdown",
   "metadata": {},
   "source": [
    "### Load tokenizer + construct example"
   ]
  },
  {
   "cell_type": "code",
   "execution_count": 61,
   "metadata": {},
   "outputs": [
    {
     "data": {
      "text/plain": [
       "28996"
      ]
     },
     "execution_count": 61,
     "metadata": {},
     "output_type": "execute_result"
    }
   ],
   "source": [
    "tokenizer = BertTokenizerFast.from_pretrained(\"bert-base-cased\")\n",
    "tokenizer.vocab_size"
   ]
  },
  {
   "cell_type": "code",
   "execution_count": 62,
   "metadata": {},
   "outputs": [],
   "source": [
    "text = \"The cow likes to eat grass.\"\n",
    "mask = [False, False, False, False, True, False, True, False, False]\n",
    "assert len(mask) == len(tokenizer(text).input_ids)"
   ]
  },
  {
   "cell_type": "code",
   "execution_count": 63,
   "metadata": {},
   "outputs": [
    {
     "name": "stdout",
     "output_type": "stream",
     "text": [
      "['[CLS] The cow likes [MASK] eat [MASK]. [SEP]']\n",
      "to grass\n"
     ]
    }
   ],
   "source": [
    "batch_x_full = tokenizer(text, return_tensors=\"pt\").input_ids.cuda()\n",
    "\n",
    "batch_mask = t.tensor([mask], dtype=t.bool).cuda()\n",
    "batch_y = t.masked_select(batch_x_full, mask=batch_mask).cuda()\n",
    "\n",
    "batch_x = batch_x_full.clone()\n",
    "batch_x[batch_mask] = tokenizer.mask_token_id\n",
    "\n",
    "print(tokenizer.batch_decode(batch_x))\n",
    "print(tokenizer.decode(batch_y))"
   ]
  },
  {
   "cell_type": "markdown",
   "metadata": {},
   "source": [
    "### Experiments"
   ]
  },
  {
   "cell_type": "code",
   "execution_count": 72,
   "metadata": {},
   "outputs": [
    {
     "name": "stdout",
     "output_type": "stream",
     "text": [
      "0 11.052814483642578\n",
      "100 3.0397906812140718e-05\n",
      "200 2.6106492441613227e-05\n",
      "300 2.2291887944447808e-05\n",
      "400 1.9132909073960036e-05\n",
      "500 1.6629557649139315e-05\n",
      "600 1.4662635294371285e-05\n",
      "700 1.2934124242747203e-05\n",
      "800 1.1444026313256472e-05\n",
      "900 1.0251946150674485e-05\n"
     ]
    }
   ],
   "source": [
    "from days.w2d1 import bert_sol\n",
    "from days.w4d1 import bert_fixed, bert_grok\n",
    "\n",
    "t.manual_seed(42)\n",
    "\n",
    "# Bert = bert_sol.Bert\n",
    "Bert = bert_grok.Bert\n",
    "#Bert = bert_fixed.Bert\n",
    "\n",
    "tiny_bert = Bert(\n",
    "    vocab_size=tokenizer.vocab_size,\n",
    "    hidden_size=256,\n",
    "    max_position_embeddings=512,\n",
    "    type_vocab_size=2,\n",
    "    dropout=0,\n",
    "    intermediate_size=1024,\n",
    "    num_heads=4,\n",
    "    num_layers=1,\n",
    ").cuda()\n",
    "tiny_bert.train()\n",
    "\n",
    "optimizer = optim.Adam(tiny_bert.parameters(), lr=1e-3)\n",
    "\n",
    "losses = []\n",
    "for i in range(1000):\n",
    "\n",
    "    logits = tiny_bert(batch_x)\n",
    "    pred_logits_flat = t.masked_select(logits, batch_mask.unsqueeze(-1))\n",
    "    pred_logits = pred_logits_flat.reshape((-1, logits.shape[-1]))\n",
    "    loss = F.cross_entropy(input=pred_logits, target=batch_y)\n",
    "\n",
    "    optimizer.zero_grad()\n",
    "    loss.backward()\n",
    "    optimizer.step()\n",
    "\n",
    "    losses.append(loss.item())\n",
    "\n",
    "    if i % 100 == 0:\n",
    "        print(i, loss.item())\n"
   ]
  },
  {
   "cell_type": "code",
   "execution_count": 53,
   "metadata": {},
   "outputs": [
    {
     "data": {
      "image/png": "[encoded data removed]",
      "text/plain": [
       "<Figure size 432x288 with 1 Axes>"
      ]
     },
     "metadata": {
      "needs_background": "light"
     },
     "output_type": "display_data"
    }
   ],
   "source": [
    "plt.plot(losses)\n",
    "plt.yscale(\"log\")"
   ]
  },
  {
   "cell_type": "code",
   "execution_count": null,
   "metadata": {},
   "outputs": [],
   "source": []
  }
 ],
 "metadata": {
  "interpreter": {
   "hash": "80690c1dd481e3ce6816342c9d08537a5a57dd169dfccc7f2bf6489f0f9fbd5c"
  },
  "kernelspec": {
   "display_name": "Python 3.9.7 64-bit ('tony-research': conda)",
   "language": "python",
   "name": "python3"
  },
  "language_info": {
   "codemirror_mode": {
    "name": "ipython",
    "version": 3
   },
   "file_extension": ".py",
   "mimetype": "text/x-python",
   "name": "python",
   "nbconvert_exporter": "python",
   "pygments_lexer": "ipython3",
   "version": "3.9.7"
  },
  "orig_nbformat": 4
 },
 "nbformat": 4,
 "nbformat_minor": 2
}
