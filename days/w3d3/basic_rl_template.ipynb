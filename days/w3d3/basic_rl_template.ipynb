{
 "cells": [
  {
   "cell_type": "code",
   "execution_count": 1,
   "metadata": {},
   "outputs": [],
   "source": [
    "import os\n",
    "import sys\n",
    "sys.path.append(\"/home/ubuntu/mlab/days/w3d3/rl_env/lib/python3.8/site-packages\")\n",
    "sys.path.append(\"/home/ubuntu/mlab/days/w3d3/rl_env/lib/python3.9/site-packages\")"
   ]
  },
  {
   "cell_type": "code",
   "execution_count": 80,
   "metadata": {},
   "outputs": [],
   "source": [
    "import gym\n",
    "import matplotlib.pyplot as plt\n",
    "%matplotlib inline\n",
    "from IPython import display\n",
    "from IPython.display import Video\n",
    "from video_recorder import VideoRecorder\n",
    "import einops\n",
    "import torch\n",
    "from torch import nn\n",
    "import numpy as np\n",
    "\n",
    "import rl_tests\n",
    "import days.atari_wrappers as atari_wrappers\n",
    "\n",
    "from collections import deque\n",
    "from dataclasses import dataclass\n",
    "import random\n",
    "import tqdm\n",
    "import typing\n",
    "import copy"
   ]
  },
  {
   "cell_type": "code",
   "execution_count": 5,
   "metadata": {},
   "outputs": [],
   "source": [
    "devices = [f'cuda:{i}' for i in [0, 1, 2, 3]]"
   ]
  },
  {
   "cell_type": "code",
   "execution_count": 6,
   "metadata": {},
   "outputs": [
    {
     "name": "stdout",
     "output_type": "stream",
     "text": [
      "total reward: 16.0\n"
     ]
    }
   ],
   "source": [
    "env_name = \"CartPole-v1\"\n",
    "# env_name = 'MountainCarContinuous-v0'\n",
    "record = True\n",
    "video_name = \"test_0\"\n",
    "\n",
    "env = gym.make(env_name)\n",
    "state = env.reset()\n",
    "done = False\n",
    "total_reward = 0\n",
    "video_recorder = VideoRecorder(env, base_path=f'videos/{video_name}')\n",
    "\n",
    "def show_state(env, step=0, info=\"\"):\n",
    "    plt.figure(3)\n",
    "    plt.clf()\n",
    "    plt.imshow(env.render(mode='rgb_array'))\n",
    "    plt.axis('off')\n",
    "    display.clear_output(wait=True)\n",
    "    display.display(plt.gcf())\n",
    "\n",
    "states = 0\n",
    "while not done:\n",
    "    states += 1\n",
    "    if record:\n",
    "        video_recorder.capture_frame()\n",
    "    else:  \n",
    "        show_state(env)\n",
    "    state, reward, done, _ = env.step(env.action_space.sample()) # Take a random action\n",
    "    total_reward += reward\n",
    "\n",
    "print(f\"total reward: {total_reward}\")\n",
    "if record:\n",
    "    video_recorder.close()"
   ]
  },
  {
   "cell_type": "code",
   "execution_count": 7,
   "metadata": {},
   "outputs": [
    {
     "data": {
      "text/html": [
       "<video src=\"videos/test_0.mp4\" controls  >\n",
       "      Your browser does not support the <code>video</code> element.\n",
       "    </video>"
      ],
      "text/plain": [
       "<IPython.core.display.Video object>"
      ]
     },
     "execution_count": 7,
     "metadata": {},
     "output_type": "execute_result"
    }
   ],
   "source": [
    "# Display a saved video \n",
    "Video(\"videos/test_0.mp4\")"
   ]
  },
  {
   "cell_type": "code",
   "execution_count": 8,
   "metadata": {},
   "outputs": [
    {
     "name": "stdout",
     "output_type": "stream",
     "text": [
      "test_q_net MATCH!!!!!!!!\n",
      " SHAPE (16, 1) MEAN: -0.1156 STD: 0.02182 VALS [-0.09471 -0.1365 -0.1064 -0.07591 -0.1498 -0.1116 -0.1353 -0.0986 -0.1504 -0.08709...]\n"
     ]
    }
   ],
   "source": [
    "class MLP(nn.Module):\n",
    "    def __init__(self, in_size : int, hidden_size : int, out_size : int) -> None:\n",
    "        super().__init__()\n",
    "        self.layers = nn.Sequential(\n",
    "            nn.Linear(in_size, hidden_size),\n",
    "            nn.ReLU(),\n",
    "            nn.Linear(hidden_size, hidden_size),\n",
    "            nn.ReLU(),\n",
    "            nn.Linear(hidden_size, out_size),\n",
    "        )\n",
    "\n",
    "    # obs: Tensor[..., obs_shape]) -> Tensor[..., num_actions]\n",
    "    def forward(self, obs):\n",
    "        return self.layers(obs)\n",
    "    \n",
    "rl_tests.test_q_net(MLP)"
   ]
  },
  {
   "cell_type": "code",
   "execution_count": 9,
   "metadata": {},
   "outputs": [],
   "source": [
    "cartpole_env = gym.make(\"CartPole-v1\")\n",
    "cartpole_eval_env = gym.make(\"CartPole-v1\")"
   ]
  },
  {
   "cell_type": "code",
   "execution_count": 10,
   "metadata": {},
   "outputs": [],
   "source": [
    "def make_choice(\n",
    "    env: gym.Env, eps: float, net: nn.Module, obs, device: str\n",
    ") -> int:\n",
    "    if random.random() < eps:\n",
    "        return env.action_space.sample()\n",
    "    action_scores = net(torch.tensor(obs, dtype=torch.float32, device=device).unsqueeze(0))\n",
    "    best_action = action_scores.argmax(dim=-1)\n",
    "    return best_action.item()"
   ]
  },
  {
   "cell_type": "code",
   "execution_count": 11,
   "metadata": {},
   "outputs": [],
   "source": [
    "def evaluate(model: nn.Module, env: gym.Env, eps: float, device: str, video_name = None) -> float:\n",
    "    # env.reset() returns an initial observation, so make sure to do this at the beginning.\n",
    "    # Feel free to modify the above function by adding arguments like epsilon : float, device : string, save_video : bool.\n",
    "    # This is an eval function; make sure you’re not storing gradients\n",
    "    # Note that env.step takes an action (an int between 0 and env.action_space.n - 1, inclusive) and returns:\n",
    "    #   state: Tensor  The next observation\n",
    "    #   reward: float  The reward gained during the timestep\n",
    "    #   done: bool  Whether or not the episode is over\n",
    "    #   info: dict  extra information like number of lives remaining\n",
    "    #   You’ll need to handle the ‘done’ output by exiting the loop when the episode ends.\n",
    "    \n",
    "    is_recording = video_name is not None\n",
    "    if is_recording:\n",
    "        video_recorder = VideoRecorder(env, base_path=f'videos/{video_name}')  \n",
    "    \n",
    "    state = env.reset()\n",
    "    if is_recording:\n",
    "        video_recorder.capture_frame()\n",
    "    done = False\n",
    "    total_reward = 0\n",
    "    states = 0\n",
    "    \n",
    "    model.to(device)\n",
    "    model.eval()\n",
    "    \n",
    "    with torch.no_grad():\n",
    "        while not done:\n",
    "            states += 1\n",
    "            action = make_choice(env=env, eps=eps, net=model, obs=state, device=device)\n",
    "            state, reward, done, _ = env.step(action)\n",
    "            total_reward += reward\n",
    "            if is_recording:\n",
    "                video_recorder.capture_frame()\n",
    "            \n",
    "    if is_recording:\n",
    "        video_recorder.close()\n",
    "\n",
    "    return total_reward"
   ]
  },
  {
   "cell_type": "code",
   "execution_count": 12,
   "metadata": {},
   "outputs": [
    {
     "data": {
      "text/plain": [
       "10.0"
      ]
     },
     "execution_count": 12,
     "metadata": {},
     "output_type": "execute_result"
    }
   ],
   "source": [
    "(in_size,) = cartpole_env.observation_space.shape\n",
    "cartpole_q_net = MLP(in_size=in_size, hidden_size=64, out_size=cartpole_env.action_space.n)\n",
    "evaluate(model=cartpole_q_net, env=cartpole_env, eps=0.05, device=devices[0], video_name=\"cartpole-eval\")"
   ]
  },
  {
   "cell_type": "code",
   "execution_count": 13,
   "metadata": {},
   "outputs": [
    {
     "data": {
      "text/html": [
       "<video src=\"videos/cartpole-eval.mp4\" controls  >\n",
       "      Your browser does not support the <code>video</code> element.\n",
       "    </video>"
      ],
      "text/plain": [
       "<IPython.core.display.Video object>"
      ]
     },
     "execution_count": 13,
     "metadata": {},
     "output_type": "execute_result"
    }
   ],
   "source": [
    "Video(f\"videos/cartpole-eval.mp4\")"
   ]
  },
  {
   "cell_type": "code",
   "execution_count": 14,
   "metadata": {},
   "outputs": [],
   "source": [
    "class StubEnv(gym.Env):\n",
    "    '''idk'''\n",
    "    def __init__(self):\n",
    "        self.action_space = gym.Discrete(2)\n",
    "        self.observation_space = gym.Discrete(1)\n",
    "        self.reward_range = (0, 1)\n",
    "        \n",
    "    def step(self):\n",
    "        pass\n",
    "    \n",
    "    def reset(self):\n",
    "        pass\n",
    "    \n",
    "    def seed(self):\n",
    "        pass"
   ]
  },
  {
   "cell_type": "code",
   "execution_count": 109,
   "metadata": {},
   "outputs": [],
   "source": [
    "@dataclass\n",
    "class Experience:\n",
    "    obs: any # something from the observation space\n",
    "    action: any # something from the action space\n",
    "    obs_after: any # something from the observation space\n",
    "    reward: int\n",
    "    done: bool"
   ]
  },
  {
   "cell_type": "code",
   "execution_count": 165,
   "metadata": {},
   "outputs": [
    {
     "data": {
      "text/plain": [
       "[Experience(obs=tensor([ 1.0000, -0.0377, -0.0351,  0.0285], device='cuda:0'), action=tensor([1, 1], device='cuda:0'), obs_after=tensor([-2.2844, -1.1992,  2.1093, -4.7613], device='cuda:0'), reward=tensor(0., device='cuda:0'), done=tensor(True, device='cuda:0')),\n",
       " Experience(obs=tensor([ 2.0000, -0.0377, -0.0351,  0.0285], device='cuda:0'), action=tensor([0, 0], device='cuda:0'), obs_after=tensor([-2.3084, -1.3604,  2.0141, -4.6329], device='cuda:0'), reward=tensor(0., device='cuda:0'), done=tensor(True, device='cuda:0')),\n",
       " Experience(obs=tensor([ 3.0000, -0.0377, -0.0351,  0.0285], device='cuda:0'), action=tensor([1, 1], device='cuda:0'), obs_after=tensor([-2.3356, -1.1531,  1.9214, -4.2340], device='cuda:0'), reward=tensor(0., device='cuda:0'), done=tensor(True, device='cuda:0')),\n",
       " Experience(obs=tensor([ 4.0000, -0.0377, -0.0351,  0.0285], device='cuda:0'), action=tensor([0, 0], device='cuda:0'), obs_after=tensor([-2.3586, -1.3167,  1.8368, -4.0422], device='cuda:0'), reward=tensor(0., device='cuda:0'), done=tensor(True, device='cuda:0')),\n",
       " Experience(obs=tensor([ 5.0000, -0.0377, -0.0351,  0.0285], device='cuda:0'), action=tensor([0, 0], device='cuda:0'), obs_after=tensor([-2.3850, -1.4815,  1.7559, -3.8235], device='cuda:0'), reward=tensor(0., device='cuda:0'), done=tensor(True, device='cuda:0'))]"
      ]
     },
     "execution_count": 165,
     "metadata": {},
     "output_type": "execute_result"
    }
   ],
   "source": [
    "class Experiences:\n",
    "    def __init__(self, env, max_experiences, device):\n",
    "        self.first_elt_index = 0\n",
    "        self.len = 0\n",
    "        self.max_experiences = max_experiences\n",
    "        obses_shape = (max_experiences,) + env.observation_space.shape\n",
    "        self.obses = torch.zeros(*obses_shape, device=device)\n",
    "        self.actions = torch.zeros(max_experiences, env.action_space.n, dtype=torch.long, device=device)\n",
    "        self.obses_after = torch.zeros(*obses_shape, device=device)\n",
    "        self.rewards = torch.zeros(max_experiences, device=device)\n",
    "        self.dones = torch.zeros(max_experiences, dtype=torch.bool, device=device)\n",
    "    \n",
    "    def offset_index(self, index):\n",
    "        index += self.first_elt_index\n",
    "        if index >= self.max_experiences:\n",
    "            index -= self.max_experiences\n",
    "        return index\n",
    "    \n",
    "    def append(self, obs, action, obs_after, reward, done):\n",
    "        if self.len == self.max_experiences:\n",
    "            index_to_write = self.first_elt_index\n",
    "            self.first_elt_index = self.offset_index(1)\n",
    "        else:\n",
    "            index_to_write = self.offset_index(self.len)\n",
    "            self.len += 1\n",
    "        \n",
    "        self.obses[index_to_write] = torch.tensor(obs, dtype=torch.float32, device=self.obses.device)\n",
    "        self.actions[index_to_write] = action\n",
    "        self.obses_after[index_to_write] = torch.tensor(obs_after, dtype=torch.float32, device=self.obses.device)\n",
    "        self.rewards[index_to_write] = reward\n",
    "        self.dones[index_to_write] = done\n",
    "        \n",
    "    def __len__(self):\n",
    "        return self.len\n",
    "        \n",
    "    def __getitem__(self, i):\n",
    "        i = self.offset_index(i)\n",
    "        return Experience(\n",
    "            obs=self.obses[i],\n",
    "            action=self.actions[i],\n",
    "            obs_after=self.obses_after[i],\n",
    "            reward=self.rewards[i],\n",
    "            done=self.dones[i]\n",
    "        )\n",
    "    \n",
    "    def __iter__(self):\n",
    "        return (self[i] for i in range(len(self)))\n",
    "\n",
    "def test_experiences():\n",
    "    experiences = Experiences(cartpole_env, max_experiences=5, device=device)\n",
    "    obs = cartpole_env.reset()\n",
    "    for i in range(6):\n",
    "        action = env.action_space.sample()\n",
    "        obs_after, reward, done, _ = env.step(action)\n",
    "        obs[0] = i\n",
    "        experiences.append(obs=obs, action=action, obs_after=obs_after, reward=reward, done=done)\n",
    "        \n",
    "    return list(experiences)\n",
    "    \n",
    "test_experiences()"
   ]
  },
  {
   "cell_type": "code",
   "execution_count": 156,
   "metadata": {},
   "outputs": [],
   "source": [
    "@dataclass\n",
    "class TrainConfig:\n",
    "    train_freq: int\n",
    "    eval_freq: int\n",
    "    double_dqn_update_freq: int\n",
    "    batch_size: int\n",
    "    # decay eps from eps_start to eps_end over the first eps_decay_steps steps\n",
    "    eps_start: float\n",
    "    eps_end: float\n",
    "    eps_decay_steps: int\n",
    "    discount_rate: float\n",
    "    max_experiences: int\n",
    "    lr: float\n",
    "    n_steps: int\n",
    "    # gap between state and state_after for `Experience`\n",
    "    temporal_difference: int = 1\n",
    "    \n",
    "def reward_from_experience(experience, model, discount_rate, device):\n",
    "    if experience.done:\n",
    "        return experience.reward\n",
    "    else:\n",
    "        with torch.no_grad():\n",
    "            predicted_values_of_actions = model(torch.tensor(experience.obs_after, dtype=torch.float32, device=device))\n",
    "        future_reward = torch.max(predicted_values_of_actions)\n",
    "        return experience.reward + discount_rate * future_reward\n",
    "    \n",
    "def batched_reward_from_experience(samples, model, old_model, discount_rate, device):\n",
    "    obs_afters = torch.tensor(\n",
    "        np.stack([\n",
    "            sample.obs_after for sample in samples\n",
    "        ], axis=0), dtype=torch.float32, device=device)\n",
    "    with torch.no_grad():\n",
    "        predicted_values_of_actions = model(obs_afters)\n",
    "        actions = predicted_values_of_actions.argmax(dim=1).unsqueeze(1)\n",
    "        future_rewards = torch.gather(old_model(obs_afters), dim=1, index=actions).squeeze(1)\n",
    "    reward = torch.tensor([sample.reward for sample in samples], dtype=torch.float32, device=device)\n",
    "    not_done = torch.tensor([not sample.done for sample in samples], dtype=torch.bool, device=device)\n",
    "    reward[not_done] += discount_rate * future_rewards[not_done]\n",
    "    return reward        \n",
    "\n",
    "def training_loop(\n",
    "        model: nn.Module,\n",
    "        train_env: gym.Env,\n",
    "        eval_env: gym.Env,\n",
    "        config: TrainConfig,\n",
    "        device: str,\n",
    "):\n",
    "    model.train()\n",
    "    if config.double_dqn_update_freq > 1:\n",
    "        old_model = copy.deepcopy(model)\n",
    "    else:\n",
    "        old_model = model.detach()\n",
    "    loss_fn = nn.MSELoss()\n",
    "    losses = []\n",
    "    evaluations = []\n",
    "    opt = torch.optim.Adam(model.parameters(), lr=config.lr)\n",
    "    experiences = deque(maxlen=config.max_experiences)\n",
    "    prev_obses = deque(maxlen=config.temporal_difference)\n",
    "    prev_rewards = deque(maxlen=config.temporal_difference)\n",
    "    td_discount = config.discount_rate ** config.temporal_difference\n",
    "    obs = train_env.reset()\n",
    "    print_freq = config.n_steps // 20\n",
    "    for action_idx in range(config.n_steps):\n",
    "        if action_idx <= config.eps_decay_steps:\n",
    "            eps = config.eps_start + (config.eps_end - config.eps_start) * action_idx / config.eps_decay_steps\n",
    "        prev_obses.append(obs)\n",
    "            \n",
    "        action = make_choice(env=train_env, eps=eps, net=model, obs=obs, device=device)\n",
    "        obs, reward, done, _ = train_env.step(action)\n",
    "        prev_rewards.append(reward)\n",
    "        if len(prev_rewards) == config.temporal_difference:\n",
    "            total_prev_rewards = sum([config.discount_rate ** i * reward for i, reward in enumerate(prev_rewards)])\n",
    "            prev_obs = prev_obses[0]\n",
    "            experiences.append(Experience(prev_obs, action, obs, total_prev_rewards, done))\n",
    "\n",
    "        if done:\n",
    "            obs = train_env.reset()\n",
    "            prev_obses.clear()\n",
    "            prev_rewards.clear()\n",
    "        if len(experiences) > 0 and action_idx % config.train_freq == 0:  # train the model\n",
    "            samples = random.choices(experiences, k=config.batch_size)\n",
    "            input_batch = torch.tensor(np.array([sample.obs for sample in samples]), dtype=torch.float32, device=device)\n",
    "            opt.zero_grad()\n",
    "            rewards_predicted = model(input_batch)\n",
    "            assert rewards_predicted.shape == (config.batch_size, train_env.action_space.n)\n",
    "            target_indices = torch.tensor([sample.action for sample in samples], device=device).unsqueeze(1)\n",
    "            assert target_indices.shape == (config.batch_size, 1)\n",
    "            target_batch = torch.gather(rewards_predicted, dim=1, index=target_indices).squeeze(1)\n",
    "            assert target_batch.shape == (config.batch_size,), target_batch.shape\n",
    "            rewards_from_experience = batched_reward_from_experience(samples, model, old_model, td_discount, device)\n",
    "            assert rewards_from_experience.shape == (config.batch_size,)\n",
    "            loss = loss_fn(target_batch, rewards_from_experience)\n",
    "            losses.append((action_idx, loss.item()))\n",
    "            loss.backward()\n",
    "            opt.step()\n",
    "                 \n",
    "            train_idx = action_idx // config.train_freq\n",
    "            \n",
    "            if config.double_dqn_update_freq > 1 and train_idx % config.double_dqn_update_freq == 0:\n",
    "                old_model = copy.deepcopy(model)\n",
    "                 \n",
    "            if train_idx % config.eval_freq == 0:\n",
    "                reward = evaluate(model=model, env=eval_env, eps=0, device=device)\n",
    "                evaluations.append((action_idx, reward))\n",
    "                model.train()\n",
    "                \n",
    "            \n",
    "        if action_idx % print_freq == 0:\n",
    "            print(f\"{action_idx=}\")\n",
    "                \n",
    "    plt.scatter([i for i, _ in losses], [loss for _, loss in losses])\n",
    "    plt.show()\n",
    "    plt.scatter([i for i, _ in evaluations], [r for _, r in evaluations])\n",
    "    plt.show()"
   ]
  },
  {
   "cell_type": "code",
   "execution_count": 159,
   "metadata": {},
   "outputs": [
    {
     "name": "stdout",
     "output_type": "stream",
     "text": [
      "action_idx=0\n",
      "action_idx=1500\n",
      "action_idx=3000\n",
      "action_idx=4500\n",
      "action_idx=6000\n",
      "action_idx=7500\n",
      "action_idx=9000\n",
      "action_idx=10500\n",
      "action_idx=12000\n",
      "action_idx=13500\n",
      "action_idx=15000\n",
      "action_idx=16500\n",
      "action_idx=18000\n",
      "action_idx=19500\n",
      "action_idx=21000\n",
      "action_idx=22500\n",
      "action_idx=24000\n",
      "action_idx=25500\n",
      "action_idx=27000\n",
      "action_idx=28500\n"
     ]
    },
    {
     "data": {
      "image/png": "[encoded data removed]",
      "text/plain": [
       "<Figure size 432x288 with 1 Axes>"
      ]
     },
     "metadata": {
      "needs_background": "light"
     },
     "output_type": "display_data"
    },
    {
     "data": {
      "image/png": "[encoded data removed]",
      "text/plain": [
       "<Figure size 432x288 with 1 Axes>"
      ]
     },
     "metadata": {
      "needs_background": "light"
     },
     "output_type": "display_data"
    }
   ],
   "source": [
    "(in_size,) = cartpole_env.observation_space.shape\n",
    "device = devices[0]\n",
    "cartpole_q_net = MLP(in_size=in_size, hidden_size=64, out_size=cartpole_env.action_space.n).to(device)\n",
    "training_config = TrainConfig(\n",
    "    train_freq=16,\n",
    "    eval_freq=100,\n",
    "    batch_size=128,\n",
    "    double_dqn_update_freq=10,\n",
    "    eps_start=0.1,\n",
    "    eps_end=0.05,\n",
    "    eps_decay_steps=20000,\n",
    "    discount_rate=0.98,\n",
    "    max_experiences=10000,\n",
    "    lr=1e-3,\n",
    "    n_steps=30000,\n",
    "    temporal_difference=3,\n",
    ")\n",
    "training_loop(model=cartpole_q_net, train_env=cartpole_env, eval_env=cartpole_eval_env, config=training_config, device=device)"
   ]
  },
  {
   "cell_type": "code",
   "execution_count": 107,
   "metadata": {},
   "outputs": [
    {
     "data": {
      "text/html": [
       "<video src=\"videos/trained-cartpole.mp4\" controls  >\n",
       "      Your browser does not support the <code>video</code> element.\n",
       "    </video>"
      ],
      "text/plain": [
       "<IPython.core.display.Video object>"
      ]
     },
     "execution_count": 107,
     "metadata": {},
     "output_type": "execute_result"
    }
   ],
   "source": [
    "evaluate(model=cartpole_q_net, env=cartpole_eval_env, eps=0, device=devices[0], video_name=\"trained-cartpole\")\n",
    "Video(f\"videos/trained-cartpole.mp4\")"
   ]
  },
  {
   "cell_type": "code",
   "execution_count": null,
   "metadata": {},
   "outputs": [],
   "source": [
    "class DuelingMLP(nn.Module):\n",
    "    def __init__(self, in_size : int, hidden_size : int, out_size : int) -> None:\n",
    "        super().__init__()\n",
    "        self.middle_layers = nn.Sequential(\n",
    "            nn.Linear(in_size, hidden_size),\n",
    "            nn.ReLU(),\n",
    "            nn.Linear(hidden_size, hidden_size),\n",
    "            nn.ReLU(),\n",
    "        )\n",
    "        self.v_head = nn.Sequential(\n",
    "            nn.Linear(hidden_size, 256),\n",
    "            nn.ReLU(),\n",
    "            nn.Linear(256, 1)\n",
    "        )\n",
    "        self.a_head = nn.Sequential(\n",
    "            nn.Linear(hidden_size, 256),\n",
    "            nn.ReLU(),\n",
    "            nn.Linear(256, out_size)\n",
    "        )\n",
    "\n",
    "    # obs: Tensor[..., obs_shape]) -> Tensor[..., num_actions]\n",
    "    def forward(self, obs):\n",
    "        output = self.middle_layers(obs)\n",
    "        v_output = self.se"
   ]
  },
  {
   "cell_type": "code",
   "execution_count": 22,
   "metadata": {},
   "outputs": [
    {
     "name": "stdout",
     "output_type": "stream",
     "text": [
      "action_idx=0\n",
      "action_idx=2000\n",
      "action_idx=4000\n",
      "action_idx=6000\n",
      "action_idx=8000\n",
      "action_idx=10000\n",
      "action_idx=12000\n",
      "action_idx=14000\n",
      "action_idx=16000\n",
      "action_idx=18000\n",
      "action_idx=20000\n",
      "action_idx=22000\n",
      "action_idx=24000\n",
      "action_idx=26000\n",
      "action_idx=28000\n",
      "action_idx=30000\n",
      "action_idx=32000\n",
      "action_idx=34000\n",
      "action_idx=36000\n",
      "action_idx=38000\n"
     ]
    },
    {
     "data": {
      "image/png": "[encoded data removed]",
      "text/plain": [
       "<Figure size 432x288 with 1 Axes>"
      ]
     },
     "metadata": {
      "needs_background": "light"
     },
     "output_type": "display_data"
    },
    {
     "data": {
      "image/png": "[encoded data removed]",
      "text/plain": [
       "<Figure size 432x288 with 1 Axes>"
      ]
     },
     "metadata": {
      "needs_background": "light"
     },
     "output_type": "display_data"
    }
   ],
   "source": [
    "acrobot_env = gym.make(\"Acrobot-v1\") \n",
    "acrobot_eval_env = gym.make(\"Acrobot-v1\")\n",
    "\n",
    "(in_size,) = acrobot_env.observation_space.shape\n",
    "device = devices[0]\n",
    "acrobot_q_net = MLP(in_size=in_size, hidden_size=64, out_size=acrobot_env.action_space.n).to(device)\n",
    "n_steps = 40000\n",
    "acrobot_config = TrainConfig(\n",
    "    train_freq=4,\n",
    "    eval_freq=100,\n",
    "    batch_size=128,\n",
    "    eps_start=1,\n",
    "    eps_end=0.1,\n",
    "    eps_decay_steps=n_steps // 10,\n",
    "    discount_rate=0.99,\n",
    "    max_experiences=10000,\n",
    "    lr=1e-4,\n",
    "    n_steps=n_steps,\n",
    ")\n",
    "training_loop(\n",
    "    model=acrobot_q_net, \n",
    "    train_env=acrobot_env, \n",
    "    eval_env=acrobot_eval_env, \n",
    "    config=acrobot_config, \n",
    "    device=device\n",
    ")"
   ]
  },
  {
   "cell_type": "code",
   "execution_count": 23,
   "metadata": {},
   "outputs": [
    {
     "data": {
      "text/html": [
       "<video src=\"videos/trained-acrobot.mp4\" controls  >\n",
       "      Your browser does not support the <code>video</code> element.\n",
       "    </video>"
      ],
      "text/plain": [
       "<IPython.core.display.Video object>"
      ]
     },
     "execution_count": 23,
     "metadata": {},
     "output_type": "execute_result"
    }
   ],
   "source": [
    "evaluate(model=acrobot_q_net, env=acrobot_eval_env, eps=0, device=devices[0], video_name=\"trained-acrobot\")\n",
    "Video(f\"videos/trained-acrobot.mp4\")"
   ]
  },
  {
   "cell_type": "code",
   "execution_count": 25,
   "metadata": {},
   "outputs": [],
   "source": [
    "breakout_train_env = atari_wrappers.AtariWrapper(gym.make(\"BreakoutNoFrameskip-v0\"))\n",
    "breakout_eval_env = atari_wrappers.AtariWrapper(gym.make(\"BreakoutNoFrameskip-v0\"))"
   ]
  },
  {
   "cell_type": "code",
   "execution_count": 26,
   "metadata": {},
   "outputs": [],
   "source": [
    "(height, width, obs_n_channels) = breakout_train_env.observation_space.shape\n",
    "\n",
    "class Rearrange(nn.Module):\n",
    "    def __init__(self, rearrangement):\n",
    "        super().__init__()\n",
    "        self.rearrangement = rearrangement\n",
    "        \n",
    "    def forward(self, x):\n",
    "        return einops.rearrange(x, self.rearrangement)\n",
    "\n",
    "# obs_n_channels needs a value\n",
    "breakout_q_net = nn.Sequential(\n",
    "    Rearrange('b h w c -> b c h w'),\n",
    "    nn.Conv2d(obs_n_channels, 32, 8, stride=4),\n",
    "    nn.ReLU(),\n",
    "    nn.Conv2d(32, 64, 4, stride=2),\n",
    "    nn.ReLU(),\n",
    "    nn.Conv2d(64, 64, 3, stride=1),\n",
    "    nn.ReLU(),\n",
    "    nn.Flatten(),\n",
    "    nn.Linear(3136, breakout_train_env.action_space.n),\n",
    ").to(device)"
   ]
  },
  {
   "cell_type": "code",
   "execution_count": 55,
   "metadata": {},
   "outputs": [],
   "source": [
    "n_steps=20000\n",
    "breakout_config = TrainConfig(\n",
    "    train_freq=4,\n",
    "    eval_freq=100,\n",
    "    batch_size=32,\n",
    "    eps_start=1,\n",
    "    eps_end=0.01,\n",
    "    eps_decay_steps=n_steps,\n",
    "    discount_rate=0.99,\n",
    "    max_experiences=100000,\n",
    "    lr=3e-5,\n",
    "    n_steps=n_steps,\n",
    ")\n",
    "# breakout_config.batch_size = 4096"
   ]
  },
  {
   "cell_type": "code",
   "execution_count": 57,
   "metadata": {},
   "outputs": [
    {
     "name": "stdout",
     "output_type": "stream",
     "text": [
      "action_idx=0\n",
      "action_idx=1000\n",
      "action_idx=2000\n",
      "action_idx=3000\n",
      "action_idx=4000\n",
      "action_idx=5000\n",
      "action_idx=6000\n",
      "action_idx=7000\n",
      "action_idx=8000\n",
      "action_idx=9000\n",
      "action_idx=10000\n",
      "action_idx=11000\n",
      "action_idx=12000\n",
      "action_idx=13000\n",
      "action_idx=14000\n",
      "action_idx=15000\n",
      "action_idx=16000\n",
      "action_idx=17000\n",
      "action_idx=18000\n",
      "action_idx=19000\n"
     ]
    },
    {
     "data": {
      "image/png": "[encoded data removed]",
      "text/plain": [
       "<Figure size 432x288 with 1 Axes>"
      ]
     },
     "metadata": {
      "needs_background": "light"
     },
     "output_type": "display_data"
    },
    {
     "data": {
      "image/png": "[encoded data removed]",
      "text/plain": [
       "<Figure size 432x288 with 1 Axes>"
      ]
     },
     "metadata": {
      "needs_background": "light"
     },
     "output_type": "display_data"
    }
   ],
   "source": [
    "training_loop(\n",
    "    model=breakout_q_net, \n",
    "    train_env=breakout_train_env, \n",
    "    eval_env=breakout_eval_env, \n",
    "    config=breakout_config,\n",
    "    device=device\n",
    ")"
   ]
  },
  {
   "cell_type": "code",
   "execution_count": 28,
   "metadata": {},
   "outputs": [],
   "source": [
    "import line_profiler\n",
    "%load_ext line_profiler"
   ]
  },
  {
   "cell_type": "code",
   "execution_count": 40,
   "metadata": {},
   "outputs": [
    {
     "name": "stdout",
     "output_type": "stream",
     "text": [
      "action_idx=0\n",
      "action_idx=100\n",
      "action_idx=200\n",
      "action_idx=300\n",
      "action_idx=400\n",
      "action_idx=500\n",
      "action_idx=600\n",
      "action_idx=700\n",
      "action_idx=800\n",
      "action_idx=900\n",
      "action_idx=1000\n",
      "action_idx=1100\n",
      "action_idx=1200\n",
      "action_idx=1300\n",
      "action_idx=1400\n",
      "action_idx=1500\n",
      "action_idx=1600\n",
      "action_idx=1700\n",
      "action_idx=1800\n",
      "action_idx=1900\n"
     ]
    },
    {
     "data": {
      "image/png": "[encoded data removed]",
      "text/plain": [
       "<Figure size 432x288 with 1 Axes>"
      ]
     },
     "metadata": {
      "needs_background": "light"
     },
     "output_type": "display_data"
    },
    {
     "data": {
      "image/png": "[encoded data removed]",
      "text/plain": [
       "<Figure size 432x288 with 1 Axes>"
      ]
     },
     "metadata": {
      "needs_background": "light"
     },
     "output_type": "display_data"
    },
    {
     "data": {
      "text/plain": [
       "Timer unit: 1e-06 s\n",
       "\n",
       "Total time: 20.6484 s\n",
       "File: <ipython-input-38-422084794417>\n",
       "Function: training_loop at line 45\n",
       "\n",
       "Line #      Hits         Time  Per Hit   % Time  Line Contents\n",
       "==============================================================\n",
       "    45                                           def training_loop(\n",
       "    46                                                   model: nn.Module, \n",
       "    47                                                   train_env: gym.Env,\n",
       "    48                                                   eval_env: gym.Env,\n",
       "    49                                                   config: TrainConfig,\n",
       "    50                                                   device: str,\n",
       "    51                                           ):\n",
       "    52         1        176.0    176.0      0.0      model.train()\n",
       "    53         1         86.0     86.0      0.0      loss_fn = nn.MSELoss()\n",
       "    54         1          5.0      5.0      0.0      losses = []\n",
       "    55         1          4.0      4.0      0.0      evaluations = []\n",
       "    56         1        181.0    181.0      0.0      opt = torch.optim.Adam(model.parameters(), lr=config.lr)\n",
       "    57         1         39.0     39.0      0.0      experiences = deque(maxlen=config.max_experiences)\n",
       "    58         1       7502.0   7502.0      0.0      state = train_env.reset()\n",
       "    59         1         32.0     32.0      0.0      print_freq = config.n_steps // 20\n",
       "    60      2001      12849.0      6.4      0.1      for action_idx in range(config.n_steps):\n",
       "    61      2000      14998.0      7.5      0.1          if action_idx <= config.eps_decay_steps:\n",
       "    62      2000      13645.0      6.8      0.1              eps = config.eps_start + (config.eps_end - config.eps_start) * action_idx / config.eps_decay_steps\n",
       "    63                                                   \n",
       "    64      2000    1288254.0    644.1      6.2          action = make_choice(env=train_env, eps=eps, net=model, obs=state, device=device)\n",
       "    65      2000    4567092.0   2283.5     22.1          state_after, reward, done, _ = train_env.step(action)\n",
       "    66      2000      25827.0     12.9      0.1          experiences.append(Experience(state, action, state_after, reward, done))\n",
       "    67      2000      13031.0      6.5      0.1          state = state_after\n",
       "    68      2000      12915.0      6.5      0.1          if done:\n",
       "    69        66     675316.0  10232.1      3.3              obs = train_env.reset()\n",
       "    70      2000      13539.0      6.8      0.1          if action_idx > 0 and action_idx % config.train_freq == 0:  # train the model\n",
       "    71       499      25395.0     50.9      0.1              samples = random.choices(experiences, k=config.batch_size)\n",
       "    72       499    3867219.0   7749.9     18.7              input_batch = torch.tensor(np.array([sample.state for sample in samples]), dtype=torch.float32, device=device)\n",
       "    73       499     118696.0    237.9      0.6              opt.zero_grad()\n",
       "    74       499     590590.0   1183.5      2.9              rewards_predicted = model(input_batch)\n",
       "    75       499       6785.0     13.6      0.0              assert rewards_predicted.shape == (config.batch_size, train_env.action_space.n)\n",
       "    76       499      58060.0    116.4      0.3              target_indices = torch.tensor([sample.action for sample in samples], device=device).unsqueeze(1)\n",
       "    77       499       4047.0      8.1      0.0              assert target_indices.shape == (config.batch_size, 1)\n",
       "    78       499      31030.0     62.2      0.2              target_batch = torch.gather(rewards_predicted, dim=1, index=target_indices).squeeze(1)\n",
       "    79       499       3471.0      7.0      0.0              assert target_batch.shape == (config.batch_size,), target_batch.shape\n",
       "    80       499    5662139.0  11347.0     27.4              rewards_from_experience = batched_reward_from_experience(samples, model, config.discount_rate, device)\n",
       "    81       499       6492.0     13.0      0.0              assert rewards_from_experience.shape == (config.batch_size,)\n",
       "    82       499      73572.0    147.4      0.4              loss = loss_fn(target_batch, rewards_from_experience)\n",
       "    83       499      23489.0     47.1      0.1              losses.append((action_idx, loss.item()))\n",
       "    84       499    1395600.0   2796.8      6.8              loss.backward()\n",
       "    85       499     647734.0   1298.1      3.1              opt.step()\n",
       "    86       499       7072.0     14.2      0.0              if (action_idx // config.train_freq) % config.eval_freq == 0:\n",
       "    87         4     787928.0 196982.0      3.8                  reward = evaluate(model=model, env=eval_env, eps=0, device=device)\n",
       "    88         4         40.0     10.0      0.0                  evaluations.append((action_idx, reward))\n",
       "    89         4        685.0    171.2      0.0                  model.train()\n",
       "    90      2000      12903.0      6.5      0.1          if action_idx % print_freq == 0:\n",
       "    91        20       6566.0    328.3      0.0              print(f\"{action_idx=}\")\n",
       "    92                                                           \n",
       "    93         1      69603.0  69603.0      0.3      plt.scatter([i for i, _ in losses], [loss for _, loss in losses])\n",
       "    94         1     250163.0 250163.0      1.2      plt.show()\n",
       "    95         1      68358.0  68358.0      0.3      plt.scatter([i for i, _ in evaluations], [r for _, r in evaluations])\n",
       "    96         1     285230.0 285230.0      1.4      plt.show()"
      ]
     },
     "metadata": {},
     "output_type": "display_data"
    }
   ],
   "source": [
    "%lprun -f training_loop training_loop(model=breakout_q_net, train_env=breakout_train_env, eval_env=breakout_eval_env, config=breakout_config,device=device)"
   ]
  },
  {
   "cell_type": "code",
   "execution_count": 75,
   "metadata": {},
   "outputs": [
    {
     "data": {
      "text/html": [
       "<video src=\"videos/trained-breakout.mp4\" controls  >\n",
       "      Your browser does not support the <code>video</code> element.\n",
       "    </video>"
      ],
      "text/plain": [
       "<IPython.core.display.Video object>"
      ]
     },
     "execution_count": 75,
     "metadata": {},
     "output_type": "execute_result"
    }
   ],
   "source": [
    "evaluate(model=breakout_q_net, env=breakout_eval_env, eps=0, device=devices[0], video_name=\"trained-breakout\")\n",
    "Video(f\"videos/trained-breakout.mp4\")"
   ]
  },
  {
   "cell_type": "code",
   "execution_count": 24,
   "metadata": {},
   "outputs": [],
   "source": []
  }
 ],
 "metadata": {
  "interpreter": {
   "hash": "a131218803ea04de256dcf68d0863f351f9c21059ac7f8146793fa89223f504a"
  },
  "kernelspec": {
   "display_name": "Python 3",
   "language": "python",
   "name": "python3"
  },
  "language_info": {
   "codemirror_mode": {
    "name": "ipython",
    "version": 3
   },
   "file_extension": ".py",
   "mimetype": "text/x-python",
   "name": "python",
   "nbconvert_exporter": "python",
   "pygments_lexer": "ipython3",
   "version": "3.8.10"
  }
 },
 "nbformat": 4,
 "nbformat_minor": 4
}
