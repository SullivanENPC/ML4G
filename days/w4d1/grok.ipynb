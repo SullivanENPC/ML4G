{
 "cells": [
  {
   "cell_type": "markdown",
   "metadata": {},
   "source": [
    "In this notebook,\n",
    "we study a training scenario in which the loss plateaus for a long time,\n",
    "before suddenly going down again.\n",
    "\n",
    "This is related to https://arxiv.org/abs/2201.02177."
   ]
  },
  {
   "cell_type": "markdown",
   "metadata": {},
   "source": [
    "### Import libraries"
   ]
  },
  {
   "cell_type": "code",
   "execution_count": 1,
   "metadata": {},
   "outputs": [],
   "source": [
    "%load_ext autoreload\n",
    "%autoreload 2"
   ]
  },
  {
   "cell_type": "code",
   "execution_count": 29,
   "metadata": {},
   "outputs": [],
   "source": [
    "import matplotlib.pyplot as plt\n",
    "import torch as t\n",
    "import torch.nn.functional as F\n",
    "from days.w2d1 import bert_sol as mlab_bert\n",
    "from days.w4d1 import lt_bert\n",
    "from torch import optim\n",
    "from transformers.models.bert.tokenization_bert_fast import BertTokenizerFast\n"
   ]
  },
  {
   "cell_type": "markdown",
   "metadata": {},
   "source": [
    "### Load tokenizer + construct example"
   ]
  },
  {
   "cell_type": "code",
   "execution_count": 30,
   "metadata": {},
   "outputs": [
    {
     "data": {
      "text/plain": [
       "28996"
      ]
     },
     "execution_count": 30,
     "metadata": {},
     "output_type": "execute_result"
    }
   ],
   "source": [
    "tokenizer = BertTokenizerFast.from_pretrained(\"bert-base-cased\")\n",
    "tokenizer.vocab_size"
   ]
  },
  {
   "cell_type": "code",
   "execution_count": 31,
   "metadata": {},
   "outputs": [],
   "source": [
    "text = \"The cow likes to eat grass.\"\n",
    "mask = [False, False, False, False, True, False, True, False, False]\n",
    "assert len(mask) == len(tokenizer(text).input_ids)"
   ]
  },
  {
   "cell_type": "code",
   "execution_count": 32,
   "metadata": {},
   "outputs": [
    {
     "name": "stdout",
     "output_type": "stream",
     "text": [
      "['[CLS] The cow likes [MASK] eat [MASK]. [SEP]']\n",
      "to grass\n"
     ]
    }
   ],
   "source": [
    "batch_x_full = tokenizer(text, return_tensors=\"pt\").input_ids.cuda()\n",
    "\n",
    "batch_mask = t.tensor([mask], dtype=t.bool).cuda()\n",
    "batch_y = t.masked_select(batch_x_full, mask=batch_mask).cuda()\n",
    "\n",
    "batch_x = batch_x_full.clone()\n",
    "batch_x[batch_mask] = tokenizer.mask_token_id\n",
    "\n",
    "print(tokenizer.batch_decode(batch_x))\n",
    "print(tokenizer.decode(batch_y))"
   ]
  },
  {
   "cell_type": "markdown",
   "metadata": {},
   "source": [
    "### Experiments"
   ]
  },
  {
   "cell_type": "code",
   "execution_count": 34,
   "metadata": {},
   "outputs": [
    {
     "name": "stdout",
     "output_type": "stream",
     "text": [
      "0 10.269064903259277\n",
      "100 0.0021390668116509914\n",
      "200 0.0013357416028156877\n",
      "300 0.0009221353684552014\n",
      "400 0.000675271381624043\n",
      "500 0.0005175919504836202\n",
      "600 0.00040957884630188346\n",
      "700 0.00033265777165070176\n",
      "800 0.00027563347248360515\n",
      "900 0.00023201396106742322\n"
     ]
    }
   ],
   "source": [
    "t.manual_seed(42)\n",
    "\n",
    "#Bert = mlab_bert.Bert\n",
    "Bert = lt_bert.Bert\n",
    "\n",
    "tiny_bert = Bert(\n",
    "    vocab_size=tokenizer.vocab_size,\n",
    "    hidden_size=256,\n",
    "    max_position_embeddings=512,\n",
    "    type_vocab_size=2,\n",
    "    dropout=0,\n",
    "    intermediate_size=1024,\n",
    "    num_heads=4,\n",
    "    num_layers=1,\n",
    ").cuda()\n",
    "tiny_bert.train()\n",
    "\n",
    "optimizer = optim.Adam(tiny_bert.parameters(), lr=1e-3)\n",
    "\n",
    "losses = []\n",
    "for i in range(1000):\n",
    "\n",
    "    logits = tiny_bert(batch_x)\n",
    "    pred_logits_flat = t.masked_select(logits, batch_mask.unsqueeze(-1))\n",
    "    pred_logits = pred_logits_flat.reshape((-1, logits.shape[-1]))\n",
    "    loss = F.cross_entropy(input=pred_logits, target=batch_y)\n",
    "\n",
    "    optimizer.zero_grad()\n",
    "    loss.backward()\n",
    "    optimizer.step()\n",
    "\n",
    "    losses.append(loss.item())\n",
    "\n",
    "    if i % 100 == 0:\n",
    "        print(i, loss.item())\n"
   ]
  },
  {
   "cell_type": "code",
   "execution_count": 28,
   "metadata": {},
   "outputs": [
    {
     "data": {
      "image/png": "[encoded data removed]",
      "text/plain": [
       "<Figure size 432x288 with 1 Axes>"
      ]
     },
     "metadata": {
      "needs_background": "light"
     },
     "output_type": "display_data"
    }
   ],
   "source": [
    "plt.plot(losses)\n",
    "plt.yscale(\"log\")"
   ]
  },
  {
   "cell_type": "code",
   "execution_count": null,
   "metadata": {},
   "outputs": [],
   "source": []
  }
 ],
 "metadata": {
  "interpreter": {
   "hash": "80690c1dd481e3ce6816342c9d08537a5a57dd169dfccc7f2bf6489f0f9fbd5c"
  },
  "kernelspec": {
   "display_name": "Python 3.9.7 64-bit ('tony-research': conda)",
   "language": "python",
   "name": "python3"
  },
  "language_info": {
   "codemirror_mode": {
    "name": "ipython",
    "version": 3
   },
   "file_extension": ".py",
   "mimetype": "text/x-python",
   "name": "python",
   "nbconvert_exporter": "python",
   "pygments_lexer": "ipython3",
   "version": "3.9.7"
  },
  "orig_nbformat": 4
 },
 "nbformat": 4,
 "nbformat_minor": 2
}
