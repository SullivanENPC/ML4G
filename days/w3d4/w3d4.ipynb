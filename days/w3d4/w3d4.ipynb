{
 "cells": [
  {
   "cell_type": "code",
   "execution_count": 1,
   "metadata": {},
   "outputs": [],
   "source": [
    "from comet_ml import Experiment\n",
    "\n",
    "import torch as t\n",
    "import torch.nn as nn\n",
    "import transformers\n",
    "\n",
    "from einops import reduce"
   ]
  },
  {
   "cell_type": "code",
   "execution_count": 2,
   "metadata": {},
   "outputs": [],
   "source": [
    "tokenizer = transformers.GPT2Tokenizer.from_pretrained('gpt2')\n",
    "model = transformers.GPT2LMHeadModel.from_pretrained(\n",
    "    'gpt2', \n",
    "    pad_token_id=tokenizer.eos_token_id\n",
    ")\n",
    "ref_model = transformers.GPT2LMHeadModel.from_pretrained('gpt2')"
   ]
  },
  {
   "cell_type": "code",
   "execution_count": 3,
   "metadata": {},
   "outputs": [],
   "source": [
    "DEVICE = 'cuda:6'\n",
    "PROMPT = tokenizer(\"<|endoftext|>\", return_tensors='pt')['input_ids'].to(DEVICE)"
   ]
  },
  {
   "cell_type": "code",
   "execution_count": 4,
   "metadata": {},
   "outputs": [],
   "source": [
    "def count_periods(s: str) -> int:\n",
    "    k = 0\n",
    "    for c in s:\n",
    "        if c == '.': k += 1\n",
    "    return k"
   ]
  },
  {
   "cell_type": "code",
   "execution_count": 5,
   "metadata": {},
   "outputs": [],
   "source": [
    "def get_returns(generated_tokens):\n",
    "    strings = tokenizer.batch_decode(generated_tokens)\n",
    "    return t.tensor(\n",
    "        [count_periods(string) for string in strings],\n",
    "        dtype=t.float, \n",
    "        device=DEVICE\n",
    "    )"
   ]
  },
  {
   "cell_type": "code",
   "execution_count": 6,
   "metadata": {},
   "outputs": [],
   "source": [
    "def normalize(x, eps=1e-6):\n",
    "    return (x - x.mean()) / (x.std() + eps)"
   ]
  },
  {
   "cell_type": "code",
   "execution_count": 7,
   "metadata": {},
   "outputs": [],
   "source": [
    "def reinforce(\n",
    "    model,\n",
    "    optim_fn=t.optim.Adam,\n",
    "    experiment=None,\n",
    "    length: int = 20, \n",
    "    num_episodes: int = 200,\n",
    "    batch_size: int = 64,\n",
    "    lr: float = 3e-5,\n",
    "    temperature: float = 0.6,\n",
    "    print_every: int = 20\n",
    "):\n",
    "    # set up model and optimizer for training\n",
    "    model.train()\n",
    "    model.to(DEVICE)\n",
    "    optim = optim_fn(model.parameters(), lr=lr)\n",
    "    \n",
    "    for episode in range(num_episodes):\n",
    "        optim.zero_grad()\n",
    "        \n",
    "        generated_tokens = model.generate(\n",
    "            PROMPT,\n",
    "            min_length=(length + len(PROMPT)),\n",
    "            max_length=(length + len(PROMPT)),\n",
    "            do_sample=True,\n",
    "            temperature=temperature,\n",
    "            top_k=len(tokenizer),\n",
    "            top_p=1.0,\n",
    "            num_return_sequences=batch_size\n",
    "        )\n",
    "        returns = get_returns(generated_tokens) \n",
    "        normalized_returns = normalize(returns) / length\n",
    "        logits = model(generated_tokens).logits[..., :-len(PROMPT), :] # ignore terminal logits\n",
    "        logits /= temperature # temperature changes logits, see doc\n",
    "        actions = generated_tokens[..., len(PROMPT):] # ignore prompt\n",
    "        # policy[b, s] = logits[b, s, actions[b, s]]\n",
    "        policy = logits.gather(dim=-1, index=actions.unsqueeze(-1)).squeeze(-1)\n",
    "        loss = - t.einsum('b s, b ->', policy, normalized_returns) / batch_size       \n",
    "        loss.backward()\n",
    "        \n",
    "        if experiment is not None:\n",
    "            experiment.log_metric('policy_loss', loss)\n",
    "            experiment.log_metric('episode_return', returns.mean())\n",
    "        if episode % print_every == 0:\n",
    "            print(f\"Policy loss: {loss:.2f}\")\n",
    "            print(f\"Average episodic return: {returns.mean():.2f}\")\n",
    "        nn.utils.clip_grad_norm_(model.parameters(), 1) \n",
    "        optim.step()\n",
    "    \n",
    "    if experiment is not None:\n",
    "        fname = f'{experiment.get_name()}.pt'\n",
    "        t.save(model, fname)\n",
    "        experiment.log_model('model', fname)\n",
    "        experiment.end()"
   ]
  },
  {
   "cell_type": "code",
   "execution_count": 8,
   "metadata": {},
   "outputs": [
    {
     "name": "stderr",
     "output_type": "stream",
     "text": [
      "COMET WARNING: As you are running in a Jupyter environment, you will need to call `experiment.end()` when finished to ensure all metrics and code are logged before exiting.\n",
      "COMET INFO: Experiment is live on comet.ml https://www.comet.ml/guillecosta/gpt-rl/4391b359ae2046439f0431447040be79\n",
      "\n"
     ]
    }
   ],
   "source": [
    "experiment = Experiment(\n",
    "    api_key=\"OiNBEOeeT9IFDdHDHRLeEe5hb\",\n",
    "    project_name=\"gpt-rl\",\n",
    "    workspace=\"guillecosta\",\n",
    ")"
   ]
  },
  {
   "cell_type": "code",
   "execution_count": 9,
   "metadata": {},
   "outputs": [
    {
     "name": "stdout",
     "output_type": "stream",
     "text": [
      "Policy loss: -4.76\n",
      "Average episodic return: 0.77\n",
      "Policy loss: -47.67\n",
      "Average episodic return: 1.38\n",
      "Policy loss: -121.61\n",
      "Average episodic return: 2.81\n",
      "Policy loss: -236.04\n",
      "Average episodic return: 11.88\n",
      "Policy loss: -259.82\n",
      "Average episodic return: 12.92\n",
      "Policy loss: -5.38\n",
      "Average episodic return: 49.78\n",
      "Policy loss: -32.32\n",
      "Average episodic return: 46.67\n",
      "Policy loss: -96.85\n",
      "Average episodic return: 53.00\n",
      "Policy loss: -132.33\n",
      "Average episodic return: 29.75\n",
      "Policy loss: -188.57\n",
      "Average episodic return: 43.06\n"
     ]
    },
    {
     "name": "stderr",
     "output_type": "stream",
     "text": [
      "COMET INFO: ---------------------------\n",
      "COMET INFO: Comet.ml Experiment Summary\n",
      "COMET INFO: ---------------------------\n",
      "COMET INFO:   Data:\n",
      "COMET INFO:     display_summary_level : 1\n",
      "COMET INFO:     url                   : https://www.comet.ml/guillecosta/gpt-rl/4391b359ae2046439f0431447040be79\n",
      "COMET INFO:   Metrics [count] (min, max):\n",
      "COMET INFO:     episode_return [200] : (0.59375, 55.25)\n",
      "COMET INFO:     loss [20]            : (-259.82012939453125, -4.762650966644287)\n",
      "COMET INFO:     policy_loss [200]    : (-293.837890625, 117.67013549804688)\n",
      "COMET INFO:   Uploads:\n",
      "COMET INFO:     environment details : 1\n",
      "COMET INFO:     filename            : 1\n",
      "COMET INFO:     git metadata        : 1\n",
      "COMET INFO:     installed packages  : 1\n",
      "COMET INFO:     model-element       : 1 (486.78 MB)\n",
      "COMET INFO:     notebook            : 1\n",
      "COMET INFO:     os packages         : 1\n",
      "COMET INFO:     source_code         : 1\n",
      "COMET INFO: ---------------------------\n",
      "COMET INFO: Uploading metrics, params, and assets to Comet before program termination (may take several seconds)\n",
      "COMET INFO: The Python SDK has 3600 seconds to finish before aborting...\n",
      "COMET INFO: Waiting for completion of the file uploads (may take several seconds)\n",
      "COMET INFO: The Python SDK has 10800 seconds to finish before aborting...\n",
      "COMET INFO: Still uploading 1 file(s), remaining 397.17 MB/486.78 MB\n"
     ]
    }
   ],
   "source": [
    "reinforce(model, experiment=experiment)"
   ]
  },
  {
   "cell_type": "code",
   "execution_count": 11,
   "metadata": {},
   "outputs": [],
   "source": [
    "model.eval();"
   ]
  },
  {
   "cell_type": "code",
   "execution_count": 12,
   "metadata": {},
   "outputs": [],
   "source": [
    "def generate_human_readable(\n",
    "    model,\n",
    "    prompt=PROMPT,\n",
    "    length: int = 20,\n",
    "    temperature: float = 0.6,\n",
    "    batch_size: int = 64\n",
    "):\n",
    "    tokens = model.generate(\n",
    "        PROMPT,\n",
    "        min_length=(length + len(PROMPT)),\n",
    "        max_length=(length + len(PROMPT)),\n",
    "        do_sample=True,\n",
    "        temperature=temperature,\n",
    "        top_k=len(tokenizer),\n",
    "        top_p=1.0,\n",
    "        num_return_sequences=batch_size\n",
    "    )\n",
    "    return tokenizer.batch_decode(tokens)"
   ]
  },
  {
   "cell_type": "code",
   "execution_count": 13,
   "metadata": {},
   "outputs": [
    {
     "data": {
      "text/plain": [
       "['<|endoftext|>.\\x01.......................................................................',\n",
       " '<|endoftext|>.ThumbnailImage.......................................................................',\n",
       " '<|endoftext|>. proble crunch = 2 =\\n\\xa01.\\n................................',\n",
       " '<|endoftext|>.\\t. #. 0. 4/-] The,\\n...…-...\\n.',\n",
       " '<|endoftext|>-............................................................................',\n",
       " '<|endoftext|>. proble crunch...................................................................',\n",
       " \"<|endoftext|>. enthusi-?\\n.\\n....;\\n-....\\n'..........\",\n",
       " '<|endoftext|>.\\x18.\\n...............................................................',\n",
       " '<|endoftext|>. enthusi...\\n*.. 19/.)\\n.\".....\\n',\n",
       " '<|endoftext|>\\n18....................................................................',\n",
       " '<|endoftext|>. tissue...................................................................',\n",
       " '<|endoftext|>ists...\\xa0........................................................',\n",
       " '<|endoftext|>.�.\\n.. 4...12] \".*/.2,\\'',\n",
       " '<|endoftext|>. challeng.................................................................',\n",
       " '<|endoftext|>, unnecess.\\n............................................................',\n",
       " '<|endoftext|>abatever...,:..................................................',\n",
       " '<|endoftext|>\\n25.:\\n\\n.......................................................',\n",
       " '<|endoftext|>\\n29....................................................................',\n",
       " '<|endoftext|>.\\x12.13._... tiss.\\n...,\\n\\n...*12...::',\n",
       " '<|endoftext|>. nodd n................................................................',\n",
       " '<|endoftext|>.�.-...............................................................',\n",
       " '<|endoftext|> of. tiss.\\n1.\\n-.\\n.\\n12-.\\n.\\n.',\n",
       " '<|endoftext|>. proble crunch...................................................................',\n",
       " '<|endoftext|>\\n31.1.:.......................................................',\n",
       " '<|endoftext|>) tiss.\\n...............................................................',\n",
       " '<|endoftext|>-............................................................................',\n",
       " '<|endoftext|>, occas.\\n...............................................................',\n",
       " '<|endoftext|>\\n03.\\n...............................................................',\n",
       " '<|endoftext|>-............................................................................',\n",
       " '<|endoftext|>, occas.--...............................................................',\n",
       " '<|endoftext|>. challeng..,,-...... tiss................. millenn...........',\n",
       " '<|endoftext|>.\\x14.\\n8:\\n.........-....\\n...(......',\n",
       " '<|endoftext|>\\n26.\\n4\",\\n(.....\\n\\n....\\n\\n...*',\n",
       " '<|endoftext|>.�.......................................................................',\n",
       " '<|endoftext|>\\n1..\\n\\n11.\"\\n\".\\n —-...\\n\\n.\\n',\n",
       " '<|endoftext|>, occas.:..\\n\\n19....-\\n.\\n,....',\n",
       " '<|endoftext|>.\\x07. I I...........................................................',\n",
       " '<|endoftext|>\\n1..\\n.\\n.\\n_.\\n [,\\n.\\n13,21',\n",
       " '<|endoftext|>.\\x18...\\n\\n1-\\n...2.\\n.\\n.\"...\\n',\n",
       " '<|endoftext|>,\"�....................................................................',\n",
       " '<|endoftext|>. proble crunch...................................................................',\n",
       " '<|endoftext|>. mathemat.\\n...............................................................',\n",
       " '<|endoftext|>.ccording the 8, the... eleph.......ccording............................',\n",
       " '<|endoftext|>. occas..\\n...........................................................',\n",
       " '<|endoftext|>\\n47..\\n...........................................................',\n",
       " '<|endoftext|>.\\t..1 21..\\n...........................',\n",
       " '<|endoftext|>. pione.:...............................................................',\n",
       " '<|endoftext|>.�..\\n., and 20-.\\n....\"\"-…\\n-',\n",
       " '<|endoftext|>-............................................................................',\n",
       " '<|endoftext|>\\n44.\\n..\\n._, September\\n\\n.\\n.....\"...',\n",
       " '<|endoftext|>. nodd.\\n(-,....\\n…... or\\n...-.\\n\\n...',\n",
       " '<|endoftext|>. nodd.\\n............................................................',\n",
       " '<|endoftext|>.rawdownload.\\n...............................................................',\n",
       " \"<|endoftext|>.oreAnd..''...........................................................\",\n",
       " '<|endoftext|>.\\r.\\n*- /....\\n.….\\n.\\n… 23,\"',\n",
       " '<|endoftext|>. proble hacked...................................................................',\n",
       " '<|endoftext|>\\n19.\\n\\n...........................................................',\n",
       " '<|endoftext|>. nodd....................................................................',\n",
       " '<|endoftext|>. proble crunch).\\n…....................................................',\n",
       " '<|endoftext|>.reportprint--...............................................................',\n",
       " '<|endoftext|>.\\x04. I. (\\n)...]... [..,......:....',\n",
       " '<|endoftext|>. Palestin.\\n7....…...* [+—–. [',\n",
       " '<|endoftext|> # tissu...................................................................',\n",
       " '<|endoftext|>. Palestin unable...................................................................']"
      ]
     },
     "execution_count": 13,
     "metadata": {},
     "output_type": "execute_result"
    }
   ],
   "source": [
    "generate_human_readable(model)"
   ]
  },
  {
   "cell_type": "code",
   "execution_count": null,
   "metadata": {},
   "outputs": [],
   "source": []
  }
 ],
 "metadata": {
  "kernelspec": {
   "display_name": "Python 3",
   "language": "python",
   "name": "python3"
  },
  "language_info": {
   "codemirror_mode": {
    "name": "ipython",
    "version": 3
   },
   "file_extension": ".py",
   "mimetype": "text/x-python",
   "name": "python",
   "nbconvert_exporter": "python",
   "pygments_lexer": "ipython3",
   "version": "3.8.10"
  }
 },
 "nbformat": 4,
 "nbformat_minor": 4
}
