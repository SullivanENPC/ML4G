{
 "cells": [
  {
   "cell_type": "code",
   "execution_count": 8,
   "metadata": {},
   "outputs": [],
   "source": [
    "from collections import Counter\n",
    "import tokenizer as tok_tests\n",
    "import re\n",
    "\n",
    "def corpus_common_tokens(ls, top_k=30000):\n",
    "    pieces = []\n",
    "    for s in ls:\n",
    "        pieces += re.findall(r\"\\w+|[^\\w\\s]\", s)\n",
    "    token_counts = Counter(pieces)\n",
    "    # token_counts = Counter(ls)\n",
    "    return list(dict(token_counts.most_common(top_k)).keys())\n",
    "tok_tests.test_tokenizer_from_corpus_fn(corpus_common_tokens)"
   ]
  },
  {
   "cell_type": "code",
   "execution_count": 9,
   "metadata": {},
   "outputs": [],
   "source": [
    "class Tokenizer:\n",
    "    def __init__(self, token_list):\n",
    "        self.token_list = token_list\n",
    "        self.ids_pieces = {}\n",
    "        self.pieces_ids = {}\n",
    "        \n",
    "        for token in self.token_list:\n",
    "            self.ids_pieces[token['id']] = token['piece']\n",
    "            self.pieces_ids[token['piece']] = token['id']\n",
    "        \n",
    "    \n",
    "    def decode(self, id_list):\n",
    "        output = \"\"\n",
    "        for i in id_list:\n",
    "            output += self.ids_pieces[i]\n",
    "        return output\n",
    "    \n",
    "    def tokenize(self, string):\n",
    "        tokens = (re.findall(r\"\\w+|[^\\w\\s]\", string))\n",
    "        ids = []\n",
    "        for piece in tokens:\n",
    "            if piece in self.pieces_ids:\n",
    "                ids.append(self.pieces_ids[piece])\n",
    "            else:\n",
    "                ids.append(3)\n",
    "        return ids"
   ]
  },
  {
   "cell_type": "code",
   "execution_count": 10,
   "metadata": {},
   "outputs": [],
   "source": [
    "tok_tests.test_tokenizer(Tokenizer)"
   ]
  },
  {
   "cell_type": "code",
   "execution_count": null,
   "metadata": {},
   "outputs": [],
   "source": []
  }
 ],
 "metadata": {
  "kernelspec": {
   "display_name": "mlab",
   "language": "python",
   "name": "mlab"
  },
  "language_info": {
   "codemirror_mode": {
    "name": "ipython",
    "version": 3
   },
   "file_extension": ".py",
   "mimetype": "text/x-python",
   "name": "python",
   "nbconvert_exporter": "python",
   "pygments_lexer": "ipython3",
   "version": "3.8.10"
  }
 },
 "nbformat": 4,
 "nbformat_minor": 4
}
