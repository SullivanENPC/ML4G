{
 "cells": [
  {
   "cell_type": "code",
   "execution_count": 2,
   "metadata": {},
   "outputs": [
    {
     "name": "stdout",
     "output_type": "stream",
     "text": [
      "attention pattern raw MATCH!!!!!!!!\n",
      " SHAPE (2, 12, 3, 3) MEAN: 0.004527 STD: 0.1067 VALS [-0.03032 0.07337 -0.2086 -0.08587 0.09546 -0.05553 0.01418 -0.1695 -0.06496 0.1636...]\n",
      "attention MATCH!!!!!!!!\n",
      " SHAPE (2, 3, 768) MEAN: -0.001966 STD: 0.1235 VALS [-0.1803 0.1231 0.0987 0.02869 0.1032 -0.008689 0.03242 -0.01018 -0.003862 0.0693...]\n",
      "bert MATCH!!!!!!!!\n",
      " SHAPE (2, 3, 768) MEAN: -0.001554 STD: 0.1736 VALS [-0.08316 -0.09165 -0.03188 -0.03013 0.1001 0.09549 -0.1046 0.07742 0.0424 0.05553...]\n",
      "bert mlp MATCH!!!!!!!!\n",
      " SHAPE (2, 3, 768) MEAN: -0.0001934 STD: 0.1044 VALS [-0.1153 0.1189 -0.0813 0.1021 0.0296 0.06182 0.0341 0.1446 0.2622 -0.08507...]\n",
      "layer norm MATCH!!!!!!!!\n",
      " SHAPE (20, 10) MEAN: -1.431e-08 STD: 1.003 VALS [0.6906 -0.84 1.881 1.711 -0.5116 -0.9577 -0.1387 -0.6943 -0.6741 -0.4662...]\n",
      "bert MATCH!!!!!!!!\n",
      " SHAPE (2, 3, 768) MEAN: -5.381e-09 STD: 1 VALS [0.007132 -0.04372 0.6502 -0.5972 -1.097 0.7267 0.1275 -0.6035 -0.2226 0.2145...]\n",
      "{'input_ids': [[101, 8667, 117, 146, 1821, 170, 5650, 119, 102]], 'token_type_ids': [[0, 0, 0, 0, 0, 0, 0, 0, 0]], 'attention_mask': [[1, 1, 1, 1, 1, 1, 1, 1, 1]]}\n",
      "embedding MATCH!!!!!!!!\n",
      " SHAPE (2, 3, 5) MEAN: -0.06748 STD: 1.062 VALS [1.176 -0.1914 0.8212 1.047 -0.481 0.7106 -1.304 -1.307 -0.438 -0.2764...]\n",
      "True\n",
      "False\n",
      "bert embedding MATCH!!!!!!!!\n",
      " SHAPE (2, 3, 768) MEAN: 0 STD: 1 VALS [0.2316 0.08455 -0.5146 1.436 2.029 -1.117 2.775 -0.5305 -0.4485 -0.2485...]\n",
      "bert MATCH!!!!!!!!\n",
      " SHAPE (1, 4, 28996) MEAN: 0.003031 STD: 0.5765 VALS [-0.5742 -0.432 0.1186 -0.7165 -0.5261 0.4967 1.223 0.3165 -0.3247 -0.5716...]\n",
      "bert MATCH!!!!!!!!\n",
      " SHAPE (1, 2) MEAN: 0.09479 STD: 1.411 VALS [-0.903 1.093]\n"
     ]
    },
    {
     "name": "stderr",
     "output_type": "stream",
     "text": [
      "Some weights of the model checkpoint at bert-base-cased were not used when initializing BertForMaskedLM: ['cls.seq_relationship.weight', 'cls.seq_relationship.bias']\n",
      "- This IS expected if you are initializing BertForMaskedLM from the checkpoint of a model trained on another task or with another architecture (e.g. initializing a BertForSequenceClassification model from a BertForPreTraining model).\n",
      "- This IS NOT expected if you are initializing BertForMaskedLM from the checkpoint of a model that you expect to be exactly identical (initializing a BertForSequenceClassification model from a BertForSequenceClassification model).\n"
     ]
    }
   ],
   "source": [
    "%run bert.ipynb"
   ]
  },
  {
   "cell_type": "code",
   "execution_count": 3,
   "metadata": {},
   "outputs": [],
   "source": [
    "import transformers\n",
    "from tqdm.notebook import tqdm\n",
    "tokenizer = transformers.AutoTokenizer.from_pretrained(\"bert-base-cased\")"
   ]
  },
  {
   "cell_type": "code",
   "execution_count": 4,
   "metadata": {},
   "outputs": [],
   "source": [
    "def make_bert():\n",
    "    my_bert = Bert(\n",
    "        vocab_size=28996, hidden_size=384, max_position_embeddings=512, \n",
    "        type_vocab_size=2, dropout=0.1, intermediate_size=1536, \n",
    "        num_heads=6, num_layers=2, num_classes=2\n",
    "    )\n",
    "    return my_bert"
   ]
  },
  {
   "cell_type": "code",
   "execution_count": 5,
   "metadata": {},
   "outputs": [],
   "source": [
    "import torchtext\n",
    "import random\n",
    "from torch.utils.data import DataLoader\n",
    "data_train, data_valid, data_test = torchtext.datasets.WikiText2(root='.data', split=('train', 'valid', 'test'))\n",
    "\n",
    "data_train_list = list(data_train)\n",
    "\n",
    "train_dataloader = DataLoader(data_train_list, batch_size=16, shuffle=True)\n",
    "test_dataloader = DataLoader(data_test, batch_size=16)\n",
    "valid_dataloader = DataLoader(data_test, batch_size=16)"
   ]
  },
  {
   "cell_type": "code",
   "execution_count": 6,
   "metadata": {},
   "outputs": [],
   "source": [
    "bert = make_bert().cuda()\n",
    "lossfn = nn.CrossEntropyLoss()"
   ]
  },
  {
   "cell_type": "code",
   "execution_count": 7,
   "metadata": {},
   "outputs": [],
   "source": [
    "lr = 1e-4\n",
    "optimizer = torch.optim.Adam(bert.parameters(), lr)"
   ]
  },
  {
   "cell_type": "code",
   "execution_count": null,
   "metadata": {},
   "outputs": [
    {
     "name": "stdout",
     "output_type": "stream",
     "text": [
      "i=42700 epoch=18 loss=5.058466911315918\n"
     ]
    },
    {
     "data": {
      "image/png": "[encoded data removed]",
      "text/plain": [
       "<Figure size 432x288 with 1 Axes>"
      ]
     },
     "metadata": {},
     "output_type": "display_data"
    }
   ],
   "source": [
    "import matplotlib.pyplot as plt\n",
    "from IPython import display\n",
    "import datetime\n",
    "def train(model, optimizer, data, lossfn, epochs=1, max_seq_len=512):\n",
    "    model.train()\n",
    "    avg_losses = []\n",
    "    loss_buffer = []\n",
    "    i = 0\n",
    "    for epoch in range(epochs):\n",
    "        for X in tqdm(data):\n",
    "            optimizer.zero_grad()\n",
    "            \n",
    "            # token processing\n",
    "            tokens = tokenizer(X, padding='longest', max_length=max_seq_len, truncation=True)\n",
    "            # the original input\n",
    "            unmasked_tokens = torch.tensor(tokens.input_ids, dtype=torch.long).cuda()\n",
    "            zero_tokens = unmasked_tokens == 0\n",
    "            rand_nums = torch.rand(unmasked_tokens.shape).cuda() <= 0.15\n",
    "\n",
    "            masked_tokens = unmasked_tokens.clone()\n",
    "            masked_tokens[rand_nums] = tokenizer.mask_token_id\n",
    "            masked_tokens[zero_tokens] = 0\n",
    "\n",
    "            output, _classifications = model(masked_tokens)\n",
    "            masked_mask = masked_tokens == tokenizer.mask_token_id\n",
    "            #expected_output_at_masks = torch.masked_select(unmasked_tokens,    masked_mask)\n",
    "            expected_output_at_masks = unmasked_tokens[masked_mask]\n",
    "            unnormed_probs_at_masks = output[masked_mask]\n",
    "            loss = lossfn(unnormed_probs_at_masks, expected_output_at_masks) \n",
    "\n",
    "            \n",
    "            #print(unmasked_tokens)\n",
    "            #print(masked_tokens)\n",
    "            #print(output)\n",
    "            #print(expected_output_at_masks)\n",
    "            #print(unnormed_probs_at_masks)\n",
    "            #break\n",
    "            \n",
    "            loss.backward()\n",
    "            optimizer.step()\n",
    "            loss_buffer.append(loss)\n",
    "            i += 1\n",
    "            if i % 100 == 0:\n",
    "                avg_loss = sum(loss_buffer) / len(loss_buffer)\n",
    "                avg_losses.append(avg_loss)\n",
    "                loss_buffer.clear()\n",
    "                if i % 5000 == 0:\n",
    "                    time_string = datetime.datetime.now().strftime('%y%m%d-%H-%M')\n",
    "                    torch.save(bert, f\"saved_tiny_bert/{time_string}_loss{avg_loss}.pt\")          \n",
    "                \n",
    "                print(f\"{i=} {epoch=} loss={avg_loss}\")\n",
    "                plt.plot(avg_losses)\n",
    "                display.display(plt.gcf())\n",
    "                display.clear_output(wait=True)\n",
    "                             \n",
    "\n",
    "train(bert, optimizer, train_dataloader, lossfn, epochs=100)"
   ]
  },
  {
   "cell_type": "code",
   "execution_count": 73,
   "metadata": {},
   "outputs": [
    {
     "name": "stdout",
     "output_type": "stream",
     "text": [
      "[('the', 0.09), (',', 0.02), ('of', 0.02), ('to', 0.01), ('was', 0.01)]\n"
     ]
    }
   ],
   "source": [
    "def ascii_art_probs(model, sentence):\n",
    "    token_ids = torch.Tensor(tokenizer.encode(sentence)).long().unsqueeze(0)\n",
    "    mask_idxs = set()\n",
    "    for idx, token_id in enumerate(token_ids[0]):\n",
    "        if token_id == 103: # 103 == [MASK]\n",
    "            mask_idxs.add(idx)\n",
    "    unnormalized_output, _classifications = bert(token_ids.cuda())\n",
    "    output = torch.log_softmax(unnormalized_output, dim=-1)\n",
    "    top_k = torch.topk(output, 5, dim=-1)\n",
    "    results = []\n",
    "    for seq_i, seq_top_k in enumerate(top_k.indices[0]):\n",
    "        if seq_i in mask_idxs:\n",
    "            results.append(list(zip(tokenizer.convert_ids_to_tokens(seq_top_k), [round(x.item(), 2) for x in top_k.values[0][seq_i].exp()])))\n",
    "    for l in results:\n",
    "        print(l)\n",
    "\n",
    "ascii_art_probs(bert, \"The [MASK] loves to eat.\")"
   ]
  }
 ],
 "metadata": {
  "kernelspec": {
   "display_name": "Python 3",
   "language": "python",
   "name": "python3"
  },
  "language_info": {
   "codemirror_mode": {
    "name": "ipython",
    "version": 3
   },
   "file_extension": ".py",
   "mimetype": "text/x-python",
   "name": "python",
   "nbconvert_exporter": "python",
   "pygments_lexer": "ipython3",
   "version": "3.8.10"
  }
 },
 "nbformat": 4,
 "nbformat_minor": 4
}
