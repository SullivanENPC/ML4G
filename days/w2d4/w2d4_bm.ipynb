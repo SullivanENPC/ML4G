{
 "cells": [
  {
   "cell_type": "code",
   "execution_count": null,
   "metadata": {},
   "outputs": [],
   "source": [
    "from collections import Counter\n",
    "from typing import List\n",
    "import re\n",
    "import tokenizer\n",
    "import numpy as np"
   ]
  },
  {
   "cell_type": "code",
   "execution_count": 2,
   "metadata": {},
   "outputs": [],
   "source": [
    "token_rex = r\"\\w+|[^\\w\\s]\""
   ]
  },
  {
   "cell_type": "code",
   "execution_count": 3,
   "metadata": {},
   "outputs": [],
   "source": [
    "def corpus_common_tokens(texts, num_tokens=30000):\n",
    "    token_counts = Counter()\n",
    "    for text in texts:\n",
    "        for match in re.findall(token_rex, text):\n",
    "            token_counts[match] += 1\n",
    "    return set(token for token, count in token_counts.most_common(num_tokens))\n",
    "\n",
    "tokenizer.test_tokenizer_from_corpus_fn(corpus_common_tokens)"
   ]
  },
  {
   "cell_type": "code",
   "execution_count": 4,
   "metadata": {},
   "outputs": [],
   "source": [
    "class Tokenizer:\n",
    "    def __init__(self, token_list):\n",
    "        self.token_list = token_list\n",
    "        self.tokens_by_id = {entry['id']: entry['piece'] for entry in token_list}\n",
    "        self.ids_by_token = {entry['piece']: entry['id'] for entry in token_list}\n",
    "        assert 3 not in self.tokens_by_id.keys()\n",
    "        assert '[UNK]' not in self.ids_by_token.keys()\n",
    "        self.unk_token = '[UNK]'\n",
    "        self.unk_token_id = 3\n",
    "        self.tokens_by_id[self.unk_token_id] = self.unk_token\n",
    "        self.ids_by_token[self.unk_token] = self.unk_token_id\n",
    "        \n",
    "    def decode(self, ids: List[int]) -> str:\n",
    "        return ' '.join(self.tokens_by_id[id] for id in ids)\n",
    "    \n",
    "    def tokenize(self, text):\n",
    "        return [self.ids_by_token.get(token, self.unk_token_id) for token in re.findall(token_rex, text)]\n",
    "\n",
    "tokenizer.test_tokenizer(Tokenizer)"
   ]
  },
  {
   "cell_type": "code",
   "execution_count": 21,
   "metadata": {},
   "outputs": [
    {
     "name": "stdout",
     "output_type": "stream",
     "text": [
      "('ef', 3)\n",
      "[('ab', 1), ('abc', 0), ('ad', 2)]\n",
      "1\n"
     ]
    }
   ],
   "source": [
    "class Trie:\n",
    "    def __init__(self, token_id=None, children=None):\n",
    "        self.token_id = token_id\n",
    "        self.children = {} if children is None else children\n",
    "        \n",
    "    def add_token(self, token, token_id):\n",
    "        branch = self\n",
    "        for c in token:\n",
    "            try:\n",
    "                branch = branch.children[c]\n",
    "            except KeyError:\n",
    "                new_node = Trie()\n",
    "                branch.children[c] = new_node\n",
    "                branch = new_node\n",
    "        branch.token_id = token_id\n",
    "        \n",
    "    def invariant(self):\n",
    "        for c in self.children.values():\n",
    "            assert c.token_id is not None or c.children\n",
    "            c.invariant()\n",
    "        \n",
    "    def remove_token(self, token):\n",
    "        branch = self\n",
    "        parents = []\n",
    "        for c in token:\n",
    "            parents.append(branch)\n",
    "            try:\n",
    "                branch = branch.children[c]\n",
    "            except KeyError:\n",
    "                raise KeyError(token)\n",
    "        if branch.token_id is None:\n",
    "            raise KeyError(token)\n",
    "        branch.token_id = None\n",
    "        for c in reversed(token):\n",
    "            if branch.children or branch.token_id is not None:\n",
    "                break\n",
    "            branch = parents.pop()\n",
    "            del branch.children[c]\n",
    "    \n",
    "    def __repr__(self):\n",
    "        return f'Trie(token_id={self.token_id}, children={self.children})'\n",
    "    \n",
    "    def all_tokens(self):\n",
    "        if self.token_id is not None:\n",
    "            yield ('', self.token_id)\n",
    "        for (c, child) in self.children.items():\n",
    "            for token, token_id in child.all_tokens():\n",
    "                yield (c + token, token_id)\n",
    "                \n",
    "    def find(self, text):\n",
    "        cursor = self\n",
    "        for c in text:\n",
    "            try:\n",
    "                cursor = cursor.children[c]\n",
    "            except KeyError:\n",
    "                raise KeyError(text)\n",
    "        if cursor.token_id is None:\n",
    "            raise KeyError(text)\n",
    "        else:\n",
    "            return cursor.token_id\n",
    "    \n",
    "    def find_longest_prefix(self, text, start_pos=0):\n",
    "        token_found = None\n",
    "        token_id = self.token_id\n",
    "        cursor = self\n",
    "        for i in range(start_pos, len(text)):\n",
    "            c = text[i]\n",
    "            try:\n",
    "                cursor = cursor.children[c]\n",
    "            except KeyError:\n",
    "                break\n",
    "            if cursor.token_id is not None:\n",
    "                token_found = text[start_pos:i+1]\n",
    "                token_id = cursor.token_id\n",
    "        return token_found, token_id\n",
    "    \n",
    "trie = Trie()\n",
    "for token_id, token in enumerate(['abc', 'ab', 'ad', 'ef']):\n",
    "    trie.add_token(token=token, token_id=token_id)\n",
    "print(trie.find_longest_prefix('abcdefg', start_pos=4))\n",
    "trie.remove_token('ef')\n",
    "trie.invariant()\n",
    "print(list(trie.all_tokens()))\n",
    "print(trie.find('ab'))"
   ]
  },
  {
   "cell_type": "code",
   "execution_count": 7,
   "metadata": {},
   "outputs": [],
   "source": [
    "reference = tokenizer.BPETokenizer.from_corpus(tokenizer.minicorpus)"
   ]
  },
  {
   "cell_type": "code",
   "execution_count": 237,
   "metadata": {},
   "outputs": [],
   "source": [
    "class BPETokenizer(Tokenizer):\n",
    "    def __init__(self, token_list):\n",
    "        self.token_list = token_list\n",
    "        self.token_trie = Trie()\n",
    "        self.tokens_by_id = {}\n",
    "        for token in token_list:\n",
    "            token_id = token['id']\n",
    "            piece = token['piece']\n",
    "            self.token_trie.add_token(token=piece, token_id=token_id)\n",
    "            self.tokens_by_id[token_id] = piece\n",
    "            \n",
    "    def trie_tokenize(self, text):\n",
    "        i = 0\n",
    "        tokens = []\n",
    "        while i < len(text):\n",
    "            token, token_id = self.token_trie.find_longest(text, start_pos=i)\n",
    "            tokens.append((token, token_id))\n",
    "            i += len(token)\n",
    "        return tokens\n",
    "    \n",
    "    def tokenize_involving_list_deletion(self, text):\n",
    "        tokens = [c for c in text]\n",
    "        for token in self.tokens_by_id.values():\n",
    "            i = 0\n",
    "            while i < len(tokens):\n",
    "                while i + 1 < len(tokens) and tokens[i] + tokens[i + 1] == token:\n",
    "                    tokens[i] = token\n",
    "                    del tokens[i + 1]\n",
    "                i += 1\n",
    "        return [self.token_trie.find(token) for token in tokens]\n",
    "    \n",
    "    def tokenize(self, text):\n",
    "        tokens = [c for c in text]\n",
    "        for token in self.tokens_by_id.values():\n",
    "            i = 0\n",
    "            new_tokens = []\n",
    "            while i < len(tokens):\n",
    "                if i + 1 < len(tokens) and tokens[i] + tokens[i + 1] == token:\n",
    "                    new_tokens.append(token)\n",
    "                    i += 2\n",
    "                else:\n",
    "                    new_tokens.append(tokens[i])\n",
    "                    i += 1\n",
    "            tokens = new_tokens\n",
    "        return [self.token_trie.find(token) for token in tokens]\n",
    "    \n",
    "    @classmethod\n",
    "    def from_corpus(cls, corpus: List[str], max_vocab_size=1000):\n",
    "        tokens = [[c for c in text] for text in corpus]\n",
    "        ids_by_token = {}\n",
    "        tokens_by_id = {}\n",
    "        fresh_id = 5\n",
    "        for text in corpus:\n",
    "            for c in text:\n",
    "                if c not in ids_by_token:\n",
    "                    ids_by_token[c] = fresh_id\n",
    "                    tokens_by_id[fresh_id] = c\n",
    "                    fresh_id += 1\n",
    "        pair_counter = Counter()\n",
    "        while fresh_id < max_vocab_size and any(len(text) > 1 for text in tokens):\n",
    "            for text in tokens:\n",
    "                for i in range(len(text) - 1):\n",
    "                    pair_counter[(text[i], text[i + 1])] += 1\n",
    "            ((next_pair, next_count),) = pair_counter.most_common(1)\n",
    "            next_token = ''.join(next_pair)\n",
    "            ids_by_token[next_token] = fresh_id\n",
    "            tokens_by_id[fresh_id] = next_token\n",
    "            fresh_id += 1\n",
    "            for i in range(len(tokens)):\n",
    "                text = tokens[i]\n",
    "                text_with_new_token = []\n",
    "                j = 0\n",
    "                while j < len(text):\n",
    "                    if j + 1 < len(text) and text[j] + text[j + 1] == next_token:\n",
    "                        text_with_new_token.append(next_token)\n",
    "                        j += 2\n",
    "                    else:\n",
    "                        text_with_new_token.append(text[j])\n",
    "                        j += 1\n",
    "                tokens[i] = text_with_new_token\n",
    "        return cls([{'id': token_id, 'piece': token} for token, token_id in ids_by_token.items()])\n",
    "\n",
    "# tokenizer.test_bpe_tokenizer(BPETokenizer)\n",
    "# tokenizer.test_tokenizer_from_corpus(BPETokenizer)"
   ]
  },
  {
   "cell_type": "code",
   "execution_count": 190,
   "metadata": {},
   "outputs": [],
   "source": [
    "class BPEtokenizerAlex:\n",
    "    def __init__(self, tokens):\n",
    "        self.tokens_by_id = {}\n",
    "        self.ids_by_token = {}\n",
    "        for token in tokens:\n",
    "            self.tokens_by_id[token['id']]=token['piece']\n",
    "            self.ids_by_token[token['piece']]=token['id']\n",
    "    \n",
    "    def tokenize(self, string):\n",
    "        char_ids = np.array([self.ids_by_token[char] for char in string])\n",
    "        next_token = np.arange(1,len(char_ids)+1)\n",
    "        live = np.ones(len(char_ids))\n",
    "        token_locations= {}\n",
    "        #print(sorted(self.tokens_by_id.keys(),key = lambda x: len(str(self.tokens_by_id[x]))))\n",
    "        for ids in sorted(self.tokens_by_id.keys(),key = lambda x: len(str(self.tokens_by_id[x]))):\n",
    "            token = self.tokens_by_id[ids]\n",
    "            if len(str(token)) == 1:\n",
    "                #print(token)\n",
    "                token_locations[ids]=[]\n",
    "                for i in range(0,len(char_ids)):\n",
    "                    if char_ids[i]==ids:\n",
    "                        token_locations[ids].append(i)    \n",
    "                #print(token_locations[ids])\n",
    "                continue\n",
    "            token_locations[ids]=[]\n",
    "            insert_pts = []\n",
    "            new_sid_token_loc = {}\n",
    "            for i in range(1,len(token)):\n",
    "                stoken1=token[:i]\n",
    "                stoken2=token[i:]\n",
    "                if stoken1 not in self.ids_by_token.keys():\n",
    "                    continue\n",
    "                if stoken2 not in self.ids_by_token.keys():\n",
    "                    continue\n",
    "                sid1=self.ids_by_token[stoken1]\n",
    "                sid2=self.ids_by_token[stoken2]\n",
    "                \n",
    "                new_sid_token_loc[sid1]=[]\n",
    "                #print(token_locations.keys())\n",
    "                #print(sid1)\n",
    "                #print(token_locations[sid1])\n",
    "                #print(self.tokens_by_id[sid1])\n",
    "                #print(self.tokens_by_id[ids])\n",
    "                for token_loc in token_locations[sid1]:\n",
    "                    insert_pts.append([(token_loc,sid1)])\n",
    "            insert_pts = sorted(insert_pts)\n",
    "            for (token_loc,\n",
    "                    \n",
    "            if next_token[token_loc]!= len(char_ids) and char_ids[next_token[token_loc]]==sid2 and live[token_loc]==1 and live[next_token[token_loc]]==1:\n",
    "                        char_ids[token_loc]=ids\n",
    "                        token_locations[ids].append(token_loc)\n",
    "                        live[next_token[token_loc]]=0\n",
    "                        next_token[token_loc]=next_token[next_token[token_loc]]\n",
    "                    else:\n",
    "                        new_sid_token_loc.append(token_loc)\n",
    "                token_locations[sid1]=new_sid_token_loc\n",
    "        new_tokens=[]\n",
    "        ptr = 0 \n",
    "        while ptr != len(char_ids):\n",
    "            new_tokens.append(char_ids[ptr])\n",
    "            ptr=next_token[ptr]\n",
    "            \n",
    "        return new_tokens\n",
    "                \n",
    "                \n",
    "                \n",
    "        \n",
    "        "
   ]
  },
  {
   "cell_type": "code",
   "execution_count": 191,
   "metadata": {},
   "outputs": [],
   "source": [
    "Atokenizer = BPEtokenizerAlex(reference.token_list)"
   ]
  },
  {
   "cell_type": "code",
   "execution_count": 215,
   "metadata": {},
   "outputs": [
    {
     "ename": "AssertionError",
     "evalue": "",
     "output_type": "error",
     "traceback": [
      "\u001b[0;31m---------------------------------------------------------------------------\u001b[0m",
      "\u001b[0;31mAssertionError\u001b[0m                            Traceback (most recent call last)",
      "\u001b[0;32m<ipython-input-215-25cb8cb2b137>\u001b[0m in \u001b[0;36m<module>\u001b[0;34m\u001b[0m\n\u001b[0;32m----> 1\u001b[0;31m \u001b[0mtokenizer\u001b[0m\u001b[0;34m.\u001b[0m\u001b[0mtest_bpe_tokenizer\u001b[0m\u001b[0;34m(\u001b[0m\u001b[0mBPEtokenizerAlex\u001b[0m\u001b[0;34m)\u001b[0m\u001b[0;34m\u001b[0m\u001b[0;34m\u001b[0m\u001b[0m\n\u001b[0m",
      "\u001b[0;32m~/mlab/days/w2d4/tokenizer.py\u001b[0m in \u001b[0;36mtest_bpe_tokenizer\u001b[0;34m(tokenizer)\u001b[0m\n\u001b[1;32m    278\u001b[0m     \u001b[0mreference\u001b[0m \u001b[0;34m=\u001b[0m \u001b[0mBPETokenizer\u001b[0m\u001b[0;34m.\u001b[0m\u001b[0mfrom_corpus\u001b[0m\u001b[0;34m(\u001b[0m\u001b[0mminicorpus\u001b[0m\u001b[0;34m)\u001b[0m\u001b[0;34m\u001b[0m\u001b[0;34m\u001b[0m\u001b[0m\n\u001b[1;32m    279\u001b[0m     \u001b[0myours\u001b[0m \u001b[0;34m=\u001b[0m \u001b[0mtokenizer\u001b[0m\u001b[0;34m(\u001b[0m\u001b[0mreference\u001b[0m\u001b[0;34m.\u001b[0m\u001b[0mtoken_list\u001b[0m\u001b[0;34m)\u001b[0m\u001b[0;34m\u001b[0m\u001b[0;34m\u001b[0m\u001b[0m\n\u001b[0;32m--> 280\u001b[0;31m     assert tuple(reference.tokenize(\"hello, my name is tom trundlewich\")) == tuple(\n\u001b[0m\u001b[1;32m    281\u001b[0m         \u001b[0myours\u001b[0m\u001b[0;34m.\u001b[0m\u001b[0mtokenize\u001b[0m\u001b[0;34m(\u001b[0m\u001b[0;34m\"hello, my name is tom trundlewich\"\u001b[0m\u001b[0;34m)\u001b[0m\u001b[0;34m\u001b[0m\u001b[0;34m\u001b[0m\u001b[0m\n\u001b[1;32m    282\u001b[0m     )\n",
      "\u001b[0;31mAssertionError\u001b[0m: "
     ]
    }
   ],
   "source": [
    "tokenizer.test_bpe_tokenizer(BPEtokenizerAlex)"
   ]
  },
  {
   "cell_type": "code",
   "execution_count": 216,
   "metadata": {},
   "outputs": [
    {
     "data": {
      "text/plain": [
       "[42, 296, 11, 464, 807, 80, 168, 83, 125, 83, 31, 504, 725, 118, 134]"
      ]
     },
     "execution_count": 216,
     "metadata": {},
     "output_type": "execute_result"
    }
   ],
   "source": [
    "reference.tokenize(\"hello, my name is tom trundlewich\")"
   ]
  },
  {
   "cell_type": "code",
   "execution_count": 217,
   "metadata": {},
   "outputs": [
    {
     "data": {
      "text/plain": [
       "[671, 96, 11, 464, 807, 80, 168, 83, 125, 83, 31, 504, 725, 118, 134]"
      ]
     },
     "execution_count": 217,
     "metadata": {},
     "output_type": "execute_result"
    }
   ],
   "source": [
    "Atokenizer.tokenize(\"hello, my name is tom trundlewich\")"
   ]
  },
  {
   "cell_type": "code",
   "execution_count": 222,
   "metadata": {},
   "outputs": [
    {
     "data": {
      "text/plain": [
       "'h'"
      ]
     },
     "execution_count": 222,
     "metadata": {},
     "output_type": "execute_result"
    }
   ],
   "source": [
    "Atokenizer.tokens_by_id[42]"
   ]
  },
  {
   "cell_type": "code",
   "execution_count": null,
   "metadata": {},
   "outputs": [],
   "source": []
  }
 ],
 "metadata": {
  "kernelspec": {
   "display_name": "Python 3 (ipykernel)",
   "language": "python",
   "name": "python3"
  },
  "language_info": {
   "codemirror_mode": {
    "name": "ipython",
    "version": 3
   },
   "file_extension": ".py",
   "mimetype": "text/x-python",
   "name": "python",
   "nbconvert_exporter": "python",
   "pygments_lexer": "ipython3",
   "version": "3.8.10"
  }
 },
 "nbformat": 4,
 "nbformat_minor": 4
}
