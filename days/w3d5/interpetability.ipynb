{
 "cells": [
  {
   "cell_type": "markdown",
   "metadata": {},
   "source": [
    "### Import libraries"
   ]
  },
  {
   "cell_type": "code",
   "execution_count": 2,
   "metadata": {},
   "outputs": [],
   "source": [
    "%load_ext autoreload\n",
    "%autoreload 2"
   ]
  },
  {
   "cell_type": "code",
   "execution_count": 68,
   "metadata": {},
   "outputs": [],
   "source": [
    "import torch as t\n",
    "import matplotlib.pyplot as plt\n",
    "\n",
    "import einops\n",
    "from torch import nn\n",
    "\n",
    "from transformers.models.gpt2.tokenization_gpt2_fast import GPT2TokenizerFast\n",
    "\n",
    "from days.w3d2.w3d2_tests import get_minigpt, MiniGPT, tokenizer\n",
    "from days.w3d5 import gpt_mod, gpt_contribs\n"
   ]
  },
  {
   "cell_type": "markdown",
   "metadata": {},
   "source": [
    "### Load model"
   ]
  },
  {
   "cell_type": "code",
   "execution_count": 4,
   "metadata": {},
   "outputs": [
    {
     "data": {
      "text/plain": [
       "MiniGPT(\n",
       "  (token_embedding): Embedding(50259, 256)\n",
       "  (pos_embedding): Embedding(512, 256)\n",
       "  (blocks): Sequential(\n",
       "    (0): UniAttention(\n",
       "      (project_qkv): Linear(in_features=256, out_features=768, bias=False)\n",
       "      (project_output): Linear(in_features=256, out_features=256, bias=False)\n",
       "    )\n",
       "    (1): UniAttention(\n",
       "      (project_qkv): Linear(in_features=256, out_features=768, bias=False)\n",
       "      (project_output): Linear(in_features=256, out_features=256, bias=False)\n",
       "    )\n",
       "  )\n",
       ")"
      ]
     },
     "execution_count": 4,
     "metadata": {},
     "output_type": "execute_result"
    }
   ],
   "source": [
    "mgpt = get_minigpt(\"../w3d2/model.pt\")\n",
    "mgpt"
   ]
  },
  {
   "cell_type": "code",
   "execution_count": 5,
   "metadata": {},
   "outputs": [
    {
     "name": "stdout",
     "output_type": "stream",
     "text": [
      "torch.Size([1, 79])\n"
     ]
    },
    {
     "data": {
      "text/plain": [
       "torch.Size([9, 9, 1, 79, 50259])"
      ]
     },
     "execution_count": 5,
     "metadata": {},
     "output_type": "execute_result"
    }
   ],
   "source": [
    "text1 = \"[BEGIN] So far, we've developed a theoretical model for understanding two-layer attention-only models. We have an overall equation describing the logits (the OV circuit), and then an equation describing how each attention head's attention pattern is computed (the QK circuit). But how do we understand them in practice? In this section, we'll reverse engineer a single two-layer model.\"\n",
    "input_ids = tokenizer(text1, return_tensors=\"pt\").input_ids\n",
    "print(input_ids.shape)\n",
    "\n",
    "alc = mgpt.all_logit_contributions(input_ids)\n",
    "alc.shape\n"
   ]
  },
  {
   "cell_type": "code",
   "execution_count": 6,
   "metadata": {},
   "outputs": [
    {
     "name": "stdout",
     "output_type": "stream",
     "text": [
      "Predicting the next token after the following prefix (should be ' how')\n",
      "[BEGIN] So far, we've developed a theoretical model for understanding two-layer attention-only models. We have an overall equation describing the logits (the OV circuit), and then an equation describing\n",
      "torch.Size([9, 9, 10])\n"
     ]
    },
    {
     "data": {
      "image/png": "[encoded data removed]",
      "text/plain": [
       "<Figure size 864x432 with 10 Axes>"
      ]
     },
     "metadata": {
      "needs_background": "light"
     },
     "output_type": "display_data"
    }
   ],
   "source": [
    "def show_pred_logit_paths(model, text, target_idx, k=10):\n",
    "    input_ids = tokenizer(text, return_tensors=\"pt\").input_ids\n",
    "\n",
    "    alc = model.all_logit_contributions(input_ids).detach()\n",
    "    target_id = input_ids[0, target_idx].item()\n",
    "    target_word = tokenizer.decode(target_id)\n",
    "    prefix = tokenizer.decode(input_ids[0, :target_idx])\n",
    "\n",
    "    print(f\"Predicting the next token after the following prefix (should be {repr(target_word)})\")\n",
    "    print(prefix)\n",
    "\n",
    "    logits = einops.reduce(alc, \"... 1 seq_len vocab_size -> seq_len vocab_size\", reduction=\"sum\")\n",
    "\n",
    "    target_logits = logits[target_idx]\n",
    "    target_probs = t.softmax(target_logits, dim=0)\n",
    "    top_pred_ids = t.topk(target_logits, k=k).indices\n",
    "\n",
    "    fig = plt.figure(figsize=(12, 6))\n",
    "    fig.suptitle(\"Rows = 1st_lyr_idx; Cols = 2nd_lyr_idx\")\n",
    "\n",
    "    alc_norm = alc - alc.mean(dim=-1, keepdim=True)\n",
    "\n",
    "    matrices = alc_norm[:, :, 0, target_idx, top_pred_ids]\n",
    "    print(matrices.shape)\n",
    "    vmin, vmax = matrices.min(), matrices.max()\n",
    "\n",
    "    for i, pred_id in enumerate(top_pred_ids):\n",
    "        ax = plt.subplot(2, k // 2, i + 1)\n",
    "\n",
    "        # rows: first layer index\n",
    "        # cols: second layer index\n",
    "        ax.matshow(matrices[:, :, i], vmin=vmin, vmax=vmax);\n",
    "        ax.set_title(f\"{repr(tokenizer.decode(pred_id))} {target_probs[pred_id]:.1%}\")\n",
    "\n",
    "        row_len = k // 2\n",
    "        row = i // row_len\n",
    "        col = i % row_len\n",
    "        if col == 0:\n",
    "            ax.set_yticks(range(9))\n",
    "            ax.set_yticklabels([\"res\"] + [f\"0.{h}\" for h in range(8)])\n",
    "        else:\n",
    "            ax.set_yticks([])\n",
    "        \n",
    "        if row == 0:\n",
    "            ax.set_xticks(range(9))\n",
    "            ax.set_xticklabels([\"res\"] + [f\"1.{h}\" for h in range(8)], rotation=60)\n",
    "        else:\n",
    "            ax.set_xticks([])\n",
    "    \n",
    "    plt.tight_layout()\n",
    "\n",
    "show_pred_logit_paths(mgpt, text1, 40)\n"
   ]
  },
  {
   "cell_type": "code",
   "execution_count": 7,
   "metadata": {},
   "outputs": [
    {
     "name": "stdout",
     "output_type": "stream",
     "text": [
      "Predicting the next token after the following prefix (should be 'layer')\n",
      "[BEGIN] So far, we've developed a theoretical model for understanding two-layer attention-only models. We have an overall equation describing the logits (the OV circuit), and then an equation describing how each attention head's attention pattern is computed (the QK circuit). But how do we understand them in practice? In this section, we'll reverse engineer a single two-\n",
      "tensor([[-5.3075e-01,         nan,         nan,         nan,         nan,\n",
      "                 nan,         nan,         nan],\n",
      "        [-1.1701e-03, -1.7325e-01,  8.3924e-02, -2.5813e-01, -4.9117e-01,\n",
      "         -1.7945e-01,  1.6225e-01, -2.4219e-01],\n",
      "        [-3.3441e-02,  1.1476e-01,  2.8544e-01,  1.9236e-01,  1.5320e+00,\n",
      "         -2.1430e-01,  1.7800e+00,  8.2053e-02]])\n"
     ]
    },
    {
     "data": {
      "image/png": "[encoded data removed]",
      "text/plain": [
       "<Figure size 864x360 with 10 Axes>"
      ]
     },
     "metadata": {
      "needs_background": "light"
     },
     "output_type": "display_data"
    }
   ],
   "source": [
    "def show_pred_logit_paths_v2(model, text, target_idx, k=10):\n",
    "    input_ids = tokenizer(text, return_tensors=\"pt\").input_ids\n",
    "    target_id = input_ids[0, target_idx].item()\n",
    "    target_word = tokenizer.decode(target_id)\n",
    "    prefix = tokenizer.decode(input_ids[0, :target_idx])\n",
    "\n",
    "    print(\n",
    "        f\"Predicting the next token after the following prefix (should be {repr(target_word)})\"\n",
    "    )\n",
    "    print(prefix)\n",
    "\n",
    "    all_contrib = model.all_logit_contributions(input_ids).detach()\n",
    "    target_contrib = all_contrib[:, :, 0, target_idx - 1]\n",
    "    assert len(target_contrib.shape) == len((\"lyr1\", \"lyr2\", \"vocab_size\"))\n",
    "\n",
    "    res_contrib = target_contrib[0, 0]\n",
    "    l1_contrib = target_contrib[1:, 0]\n",
    "    l2_contrib = target_contrib[:, 1:].sum(dim=0)\n",
    "\n",
    "    target_logits = einops.reduce(\n",
    "        target_contrib, \"... vocab_size -> vocab_size\", reduction=\"sum\"\n",
    "    )\n",
    "    target_probs = t.softmax(target_logits, dim=0)\n",
    "    top_pred_ids = t.topk(target_logits, k=k).indices\n",
    "    top_pred_ids[-1] = target_id\n",
    "\n",
    "    num_heads = l1_contrib.shape[0]\n",
    "    mats_to_show = t.full((3, num_heads, k), fill_value=t.nan)\n",
    "    mats_to_show[0, 0] = res_contrib[top_pred_ids]\n",
    "    mats_to_show[1] = l1_contrib[:, top_pred_ids]\n",
    "    mats_to_show[2] = l2_contrib[:, top_pred_ids]\n",
    "    mats_to_show -= mats_to_show.mean(dim=-1, keepdim=True)\n",
    "    print(mats_to_show[:, :, -1])\n",
    "\n",
    "    vabsmax = mats_to_show[~t.isnan(mats_to_show)].abs().max()\n",
    "    # vmin = mats_to_show[~t.isnan(mats_to_show)].min()\n",
    "    # vmax = mats_to_show[~t.isnan(mats_to_show)].max()\n",
    "\n",
    "    fig.suptitle(\"Rows = 1st_lyr_idx; Cols = 2nd_lyr_idx\")\n",
    "    for i, pred_id in enumerate(top_pred_ids):\n",
    "        ax = plt.subplot(2, k // 2, i + 1)\n",
    "\n",
    "        # rows: first layer index\n",
    "        # cols: second layer index\n",
    "        cmap = plt.cm.get_cmap(\"bwr\").copy()\n",
    "        cmap.set_bad(color='white')\n",
    "        ax.matshow(mats_to_show[:, :, i], vmin=-vabsmax, vmax=vabsmax, cmap=cmap)\n",
    "        ax.set_title(f\"{repr(tokenizer.decode(pred_id))} {target_probs[pred_id]:.1%}\")\n",
    "\n",
    "        row_len = k // 2\n",
    "        row = i // row_len\n",
    "        col = i % row_len\n",
    "        if col == 0:\n",
    "            ax.set_yticks(range(3))\n",
    "            ax.set_yticklabels([\"res\", \"l0\", \"l1\"])\n",
    "        else:\n",
    "            ax.set_yticks([])\n",
    "\n",
    "        # if row == 0:\n",
    "        #     ax.set_xticks(range(9))\n",
    "        #     ax.set_xticklabels([\"res\"] + [f\"1.{h}\" for h in range(8)], rotation=60)\n",
    "        # else:\n",
    "        #     ax.set_xticks([])\n",
    "\n",
    "    plt.tight_layout()\n",
    "\n",
    "fig = plt.figure(figsize=(12, 5))\n",
    "show_pred_logit_paths_v2(mgpt, text1, 76)\n"
   ]
  },
  {
   "cell_type": "markdown",
   "metadata": {},
   "source": [
    "### GPT2"
   ]
  },
  {
   "cell_type": "code",
   "execution_count": 70,
   "metadata": {},
   "outputs": [],
   "source": [
    "gpt2 = gpt_mod.load_weights(gpt_mod.GPT2)\n",
    "gpt2_tokenizer = GPT2TokenizerFast.from_pretrained('gpt2')\n",
    "gpt2.eval();"
   ]
  },
  {
   "cell_type": "code",
   "execution_count": 72,
   "metadata": {},
   "outputs": [
    {
     "name": "stdout",
     "output_type": "stream",
     "text": [
      "All hooks removed!\n"
     ]
    },
    {
     "data": {
      "text/plain": [
       "(torch.Size([82, 50257]), torch.Size([12, 14, 82, 50257]), torch.Size([50257]))"
      ]
     },
     "execution_count": 72,
     "metadata": {},
     "output_type": "execute_result"
    }
   ],
   "source": [
    "res_contrib, head_contribs, ln_bias_contrib = gpt_contribs.get_gpt2_contribs(\n",
    "    text=text1,\n",
    "    gpt2=gpt2,\n",
    "    tokenizer=gpt2_tokenizer,\n",
    ")\n",
    "res_contrib.shape, head_contribs.shape, ln_bias_contrib.shape"
   ]
  },
  {
   "cell_type": "code",
   "execution_count": 80,
   "metadata": {},
   "outputs": [
    {
     "name": "stdout",
     "output_type": "stream",
     "text": [
      "Predicting the next token after the following prefix (should be 'layer')\n",
      "[BEGIN] So far, we've developed a theoretical model for understanding two-layer attention-only models. We have an overall equation describing the logits (the OV circuit), and then an equation describing how each attention head's attention pattern is computed (the QK circuit). But how do we understand them in practice? In this section, we'll reverse engineer a single two-\n"
     ]
    },
    {
     "data": {
      "image/png": "[encoded data removed]",
      "text/plain": [
       "<Figure size 864x360 with 10 Axes>"
      ]
     },
     "metadata": {
      "needs_background": "light"
     },
     "output_type": "display_data"
    }
   ],
   "source": [
    "def show_pred_logit_paths_gpt(\n",
    "    gpt2: gpt_mod.GPT2,\n",
    "    tokenizer: GPT2TokenizerFast,\n",
    "    text: str,\n",
    "    target_idx: int,\n",
    "    k: int = 10,\n",
    "):\n",
    "    input_ids = tokenizer(text, return_tensors=\"pt\").input_ids\n",
    "    target_id = input_ids[0, target_idx].item()\n",
    "    target_word = tokenizer.decode(target_id)\n",
    "    prefix = tokenizer.decode(input_ids[0, :target_idx])\n",
    "\n",
    "    print(\n",
    "        f\"Predicting the next token after the following prefix (should be {repr(target_word)})\"\n",
    "    )\n",
    "    print(prefix)\n",
    "\n",
    "    (\n",
    "        res_contrib,\n",
    "        head_contribs,\n",
    "        ln_bias_contrib,\n",
    "        all_contribs,\n",
    "    ) = gpt_contribs.get_gpt2_contribs(\n",
    "        text=text1,\n",
    "        gpt2=gpt2,\n",
    "        tokenizer=gpt2_tokenizer,\n",
    "    )\n",
    "    res_contrib = res_contrib[target_idx - 1]\n",
    "    head_contribs = head_contribs[:, :, target_idx - 1]\n",
    "    all_contribs = all_contribs[target_idx - 1]\n",
    "\n",
    "    target_probs = t.softmax(all_contribs, dim=0)\n",
    "    top_pred_ids = t.topk(all_contribs, k=k).indices\n",
    "    top_pred_ids[-1] = target_id\n",
    "\n",
    "    num_heads = head_contribs.shape[1]\n",
    "    mats_to_show = t.full((head_contribs.shape[0] + 2, num_heads, k), fill_value=t.nan)\n",
    "    mats_to_show[0, 0] = res_contrib[top_pred_ids]\n",
    "    mats_to_show[1:-1] = head_contribs[:, :, top_pred_ids]\n",
    "    mats_to_show[-1, 0] = ln_bias_contrib[top_pred_ids]\n",
    "    mats_to_show -= mats_to_show.mean(dim=-1, keepdim=True)\n",
    "\n",
    "    vabsmax = mats_to_show[~t.isnan(mats_to_show)].abs().max()\n",
    "\n",
    "    mats_to_show = mats_to_show.detach().numpy()\n",
    "\n",
    "    fig.suptitle(\"Rows = 1st_lyr_idx; Cols = 2nd_lyr_idx\")\n",
    "    for i, pred_id in enumerate(top_pred_ids):\n",
    "        ax = plt.subplot(2, k // 2, i + 1)\n",
    "\n",
    "        # rows: first layer index\n",
    "        # cols: second layer index\n",
    "        cmap = plt.cm.get_cmap(\"bwr\").copy()\n",
    "        cmap.set_bad(color=\"white\")\n",
    "        ax.matshow(mats_to_show[:, :, i], vmin=-vabsmax, vmax=vabsmax, cmap=cmap)\n",
    "        ax.set_title(f\"{repr(tokenizer.decode(pred_id))} {target_probs[pred_id]:.1%}\")\n",
    "\n",
    "        # row_len = k // 2\n",
    "        # row = i // row_len\n",
    "        # col = i % row_len\n",
    "        # if col == 0:\n",
    "        #     ax.set_yticks(range(3))\n",
    "        #     ax.set_yticklabels([\"res\", \"l0\", \"l1\"])\n",
    "        # else:\n",
    "        #     ax.set_yticks([])\n",
    "\n",
    "        # if row == 0:\n",
    "        #     ax.set_xticks(range(9))\n",
    "        #     ax.set_xticklabels([\"res\"] + [f\"1.{h}\" for h in range(8)], rotation=60)\n",
    "        # else:\n",
    "        #     ax.set_xticks([])\n",
    "\n",
    "    plt.tight_layout()\n",
    "\n",
    "\n",
    "fig = plt.figure(figsize=(12, 5))\n",
    "show_pred_logit_paths_gpt(\n",
    "    gpt2=gpt2,\n",
    "    tokenizer=gpt2_tokenizer,\n",
    "    text=text1,\n",
    "    target_idx=79,\n",
    ")\n"
   ]
  },
  {
   "cell_type": "code",
   "execution_count": 89,
   "metadata": {},
   "outputs": [
    {
     "data": {
      "text/plain": [
       "[',',\n",
       " ' the',\n",
       " ' and',\n",
       " '.',\n",
       " '\\n',\n",
       " ' a',\n",
       " ' in',\n",
       " ' to',\n",
       " ' of',\n",
       " '-',\n",
       " ' (',\n",
       " ' \"',\n",
       " ' for',\n",
       " ' that',\n",
       " ' on',\n",
       " ' is',\n",
       " ' as',\n",
       " ' at',\n",
       " ' with',\n",
       " ' or']"
      ]
     },
     "execution_count": 89,
     "metadata": {},
     "output_type": "execute_result"
    }
   ],
   "source": [
    "embedding_contributions = gpt2.token_embedding.weight @ gpt2.ln.bias\n",
    "bias_top_values, bias_top_indicies = t.topk(embedding_contributions, k=20)\n",
    "tokenizer.batch_decode([i for i in bias_top_indicies])"
   ]
  },
  {
   "cell_type": "code",
   "execution_count": 91,
   "metadata": {},
   "outputs": [
    {
     "data": {
      "text/plain": [
       "tensor([1.0000, 0.9529, 0.7080, 0.5857, 0.5781, 0.5686, 0.5390, 0.4608, 0.4192,\n",
       "        0.3726, 0.3691, 0.3155, 0.2915, 0.2691, 0.2495, 0.2378, 0.2202, 0.2141,\n",
       "        0.2065, 0.2045], grad_fn=<DivBackward0>)"
      ]
     },
     "execution_count": 91,
     "metadata": {},
     "output_type": "execute_result"
    }
   ],
   "source": [
    "softmaxed = embedding_contributions.softmax(dim=0)\n",
    "softmaxed[bias_top_indicies] / softmaxed[bias_top_indicies[0]]"
   ]
  }
 ],
 "metadata": {
  "interpreter": {
   "hash": "33f2ef3ad334a810217b2a14b1cd1bf23c64c43c532b58054dd12ce727e9eaa0"
  },
  "kernelspec": {
   "display_name": "Python 3.9.7 64-bit ('interp': conda)",
   "language": "python",
   "name": "python3"
  },
  "language_info": {
   "codemirror_mode": {
    "name": "ipython",
    "version": 3
   },
   "file_extension": ".py",
   "mimetype": "text/x-python",
   "name": "python",
   "nbconvert_exporter": "python",
   "pygments_lexer": "ipython3",
   "version": "3.9.7"
  },
  "orig_nbformat": 4
 },
 "nbformat": 4,
 "nbformat_minor": 2
}
