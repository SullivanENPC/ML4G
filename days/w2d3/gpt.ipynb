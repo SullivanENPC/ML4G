{
 "cells": [
  {
   "cell_type": "code",
   "execution_count": 17,
   "metadata": {},
   "outputs": [],
   "source": [
    "import gpt_tests\n",
    "import math\n",
    "\n",
    "import torch as t\n",
    "import torch.nn as nn\n",
    "import torch.nn.functional as F\n",
    "import matplotlib.pyplot as plt\n",
    "\n",
    "from einops import rearrange, reduce, repeat\n",
    "from dataclasses import dataclass\n",
    "from torch import einsum\n",
    "from torchtyping import TensorType"
   ]
  },
  {
   "cell_type": "code",
   "execution_count": 2,
   "metadata": {},
   "outputs": [],
   "source": [
    "DEVICE = t.device(\"cpu\")"
   ]
  },
  {
   "cell_type": "code",
   "execution_count": 3,
   "metadata": {},
   "outputs": [],
   "source": [
    "class Attention(nn.Module):\n",
    "    \n",
    "    def __init__(self, hidden_size: int, num_heads: int):\n",
    "        super().__init__()\n",
    "        self.hidden_size = hidden_size\n",
    "        self.num_heads = num_heads\n",
    "        self.head_size = hidden_size // num_heads\n",
    "        self.attn_layer = nn.Linear(hidden_size, 3*hidden_size)\n",
    "        self.output_layer = nn.Linear(hidden_size, hidden_size)\n",
    "        \n",
    "    def forward(self, input: TensorType[\"batch_size\", \"seq_len\", \"hidden_size\"], neg_inf=-1e4):\n",
    "        batch_size, seq_len, hidden_size = input.shape\n",
    "\n",
    "        # calculate attn_score\n",
    "        queries, keys, values = t.split(self.attn_layer(input), hidden_size, dim=-1)\n",
    "        queries = rearrange(queries, \"b n (h p)-> b h n p\", h=self.num_heads)\n",
    "        keys = rearrange(keys, \"b n (h p) -> b h n p\", h=self.num_heads)\n",
    "        values = rearrange(values, \"b n (h p) -> b h n p\", h=self.num_heads)\n",
    "        attn_score = einsum(\"b h t p, b h f p -> b h t f\", queries, keys) / math.sqrt(self.head_size)\n",
    "        mask = t.ones((seq_len, seq_len), dtype=t.bool, device=DEVICE).triu(diagonal=1)\n",
    "        mask = repeat(mask, \"t f -> b h t f\", b=batch_size, h=self.num_heads)\n",
    "        attn_score[mask] = neg_inf\n",
    "\n",
    "        # calculate output\n",
    "        attn_pattern = t.softmax(attn_score, dim=-1)\n",
    "        attn_concat = einsum(\"b h t f, b h f p -> b h t p\", attn_pattern, values)\n",
    "        attn_concat = rearrange(attn_concat, \"b h t p -> b t (h p)\")\n",
    "        \n",
    "        return self.output_layer(attn_concat)"
   ]
  },
  {
   "cell_type": "code",
   "execution_count": 4,
   "metadata": {},
   "outputs": [
    {
     "name": "stdout",
     "output_type": "stream",
     "text": [
      "Congrats! You've passed the test!\n"
     ]
    }
   ],
   "source": [
    "gpt_tests.test_unidirectional_attn(Attention)"
   ]
  },
  {
   "cell_type": "code",
   "execution_count": 5,
   "metadata": {},
   "outputs": [],
   "source": [
    "class Block(nn.Module):\n",
    "\n",
    "    def __init__(\n",
    "        self,\n",
    "        hidden_size: int,\n",
    "        num_heads: int,\n",
    "        dropout: float,\n",
    "        layer_norm_epsilon: float\n",
    "    ):\n",
    "        super().__init__()\n",
    "        self.layer_norm_1 = nn.LayerNorm(hidden_size, eps=layer_norm_epsilon)\n",
    "        self.attention = Attention(hidden_size, num_heads)\n",
    "        self.layer_norm_2 = nn.LayerNorm(hidden_size, eps=layer_norm_epsilon)\n",
    "        self.linear_1 = nn.Linear(hidden_size, 4*hidden_size)\n",
    "        self.linear_2 = nn.Linear(4*hidden_size, hidden_size)\n",
    "        self.dropout = nn.Dropout(p=dropout)\n",
    "\n",
    "    def forward(self, input: TensorType[\"batch_size\", \"seq_len\", \"hidden_size\"]):\n",
    "        residual_attn = input + self.attention(self.layer_norm_1(input))\n",
    "        normed_attn = self.layer_norm_2(residual_attn)\n",
    "        mlp = self.linear_2(F.gelu(self.linear_1(normed_attn)))\n",
    "        dropout = self.dropout(mlp)\n",
    "        return residual_attn + dropout\n"
   ]
  },
  {
   "cell_type": "code",
   "execution_count": 6,
   "metadata": {},
   "outputs": [
    {
     "name": "stdout",
     "output_type": "stream",
     "text": [
      "Congrats! You've passed the test!\n"
     ]
    }
   ],
   "source": [
    "gpt_tests.test_gpt_block(Block)"
   ]
  },
  {
   "cell_type": "code",
   "execution_count": 7,
   "metadata": {},
   "outputs": [],
   "source": [
    "@dataclass\n",
    "class GPT2Output:\n",
    "    logits: TensorType[\"batch_size\", \"vocab_size\"]\n",
    "    final_encoding: TensorType[\"batch_size\", \"hidden_size\"]"
   ]
  },
  {
   "cell_type": "code",
   "execution_count": 8,
   "metadata": {},
   "outputs": [],
   "source": [
    "class GPT2(nn.Module):\n",
    "\n",
    "    def __init__(\n",
    "        self,\n",
    "        num_layers: int,\n",
    "        num_heads: int,\n",
    "        vocab_size: int,\n",
    "        hidden_size: int,\n",
    "        max_position_embeddings: int,\n",
    "        dropout: float,\n",
    "        layer_norm_epsilon: float\n",
    "    ):\n",
    "        super().__init__()\n",
    "        self.token_embedding = nn.Embedding(vocab_size, hidden_size)\n",
    "        self.pos_embedding = nn.Embedding(max_position_embeddings, hidden_size)\n",
    "        self.dropout = nn.Dropout(p=dropout)\n",
    "        self.blocks = nn.Sequential(\n",
    "            *(Block(\n",
    "                hidden_size=hidden_size,\n",
    "                num_heads=num_heads,\n",
    "                dropout=dropout,\n",
    "                layer_norm_epsilon=layer_norm_epsilon\n",
    "            ) for _ in range(num_layers))\n",
    "        )\n",
    "        self.layer_norm = nn.LayerNorm(hidden_size, eps=layer_norm_epsilon)\n",
    "\n",
    "    def forward(self, input_ids: TensorType[\"batch_size\", \"seq_length\"]):\n",
    "        batch_size, seq_len = input_ids.shape\n",
    "        token_embedding = self.token_embedding(input_ids)\n",
    "        pos_embedding = self.pos_embedding(t.arange(seq_len, device=DEVICE))\n",
    "        embedding = self.dropout(token_embedding + pos_embedding)\n",
    "        block_output = self.blocks(embedding)\n",
    "        final_encoding = self.layer_norm(block_output)[:,-1,:]\n",
    "        logits = final_encoding @ self.token_embedding.weight.T\n",
    "        return GPT2Output(\n",
    "            logits=logits,\n",
    "            final_encoding=final_encoding,\n",
    "        )\n"
   ]
  },
  {
   "cell_type": "code",
   "execution_count": 9,
   "metadata": {},
   "outputs": [
    {
     "name": "stdout",
     "output_type": "stream",
     "text": [
      "Checking logits:\n",
      "Congrats! You've passed the test!\n",
      "Checking final encodings:\n",
      "Congrats! You've passed the test!\n"
     ]
    }
   ],
   "source": [
    "gpt_tests.test_gpt(GPT2)"
   ]
  },
  {
   "cell_type": "code",
   "execution_count": 10,
   "metadata": {},
   "outputs": [],
   "source": [
    "our_gpt = GPT2(num_layers=12, num_heads=12, vocab_size=50257, hidden_size=768, max_position_embeddings=1024, dropout=0.1, layer_norm_epsilon=1e-5)\n",
    "their_gpt = gpt_tests.get_pretrained_gpt()"
   ]
  },
  {
   "cell_type": "code",
   "execution_count": 13,
   "metadata": {},
   "outputs": [],
   "source": [
    "def align_state_dicts(our_gpt, their_gpt):\n",
    "    print(f\"{len(our_gpt.state_dict())} {len(their_gpt.state_dict())}\")\n",
    "\n",
    "    for our_key, their_key in zip(our_gpt.state_dict(), their_gpt.state_dict()):\n",
    "        print(f\"{our_key:40}{their_key}\")\n",
    "\n",
    "# align_state_dicts(our_gpt, their_gpt)"
   ]
  },
  {
   "cell_type": "code",
   "execution_count": 14,
   "metadata": {},
   "outputs": [],
   "source": [
    "def transfer_their_weights_to_ours(our_gpt, their_gpt):\n",
    "    new_state_dict = {key: their_value for key, their_value in zip(our_gpt.state_dict().keys(), their_gpt.state_dict().values())}\n",
    "    our_gpt.load_state_dict(new_state_dict)\n",
    "\n",
    "transfer_their_weights_to_ours(our_gpt=our_gpt, their_gpt=their_gpt)"
   ]
  },
  {
   "cell_type": "code",
   "execution_count": 22,
   "metadata": {},
   "outputs": [],
   "source": [
    "token_embedding_weight = our_gpt.token_embedding.weight\n",
    "matrix = t.detach(token_embedding_weight.T @ token_embedding_weight)"
   ]
  },
  {
   "cell_type": "code",
   "execution_count": 84,
   "metadata": {},
   "outputs": [],
   "source": [
    "normed_matrix = (matrix - matrix.mean()) / matrix.std()"
   ]
  },
  {
   "cell_type": "code",
   "execution_count": 85,
   "metadata": {},
   "outputs": [
    {
     "data": {
      "text/plain": [
       "torch.return_types.eig(\n",
       "eigenvalues=tensor([[762.1544,   0.0000],\n",
       "        [ 21.3803,   0.0000],\n",
       "        [ 16.9169,   0.0000],\n",
       "        ...,\n",
       "        [  1.6872,   0.0000],\n",
       "        [  1.7315,   0.0000],\n",
       "        [  1.6936,   0.0000]]),\n",
       "eigenvectors=tensor([]))"
      ]
     },
     "execution_count": 85,
     "metadata": {},
     "output_type": "execute_result"
    }
   ],
   "source": [
    "normed_matrix.eig()"
   ]
  },
  {
   "cell_type": "code",
   "execution_count": 82,
   "metadata": {},
   "outputs": [
    {
     "data": {
      "text/plain": [
       "tensor(1.1870)"
      ]
     },
     "execution_count": 82,
     "metadata": {},
     "output_type": "execute_result"
    }
   ],
   "source": [
    "normed_matrix.trace() / 768"
   ]
  },
  {
   "cell_type": "code",
   "execution_count": 87,
   "metadata": {},
   "outputs": [
    {
     "data": {
      "text/plain": [
       "tensor(21033.1270)"
      ]
     },
     "execution_count": 87,
     "metadata": {},
     "output_type": "execute_result"
    }
   ],
   "source": [
    "t.norm(normed_matrix - 762.1544 * t.eye(*matrix.shape))"
   ]
  },
  {
   "cell_type": "code",
   "execution_count": 64,
   "metadata": {},
   "outputs": [
    {
     "data": {
      "text/plain": [
       "tensor(9.7719)"
      ]
     },
     "execution_count": 64,
     "metadata": {},
     "output_type": "execute_result"
    }
   ],
   "source": [
    "matrix.abs().trace() / matrix.abs().sum(dim=1).mean()"
   ]
  },
  {
   "cell_type": "code",
   "execution_count": 65,
   "metadata": {},
   "outputs": [
    {
     "data": {
      "text/plain": [
       "<matplotlib.image.AxesImage at 0x7f4a8f7dfb80>"
      ]
     },
     "execution_count": 65,
     "metadata": {},
     "output_type": "execute_result"
    },
    {
     "data": {
      "image/png": "[encoded data removed]",
      "text/plain": [
       "<Figure size 432x288 with 1 Axes>"
      ]
     },
     "metadata": {
      "needs_background": "light"
     },
     "output_type": "display_data"
    }
   ],
   "source": [
    "plt.imshow(t.abs(matrix) / t.norm(matrix, dim=0, keepdim=True))"
   ]
  },
  {
   "cell_type": "code",
   "execution_count": 68,
   "metadata": {},
   "outputs": [
    {
     "data": {
      "text/plain": [
       "<matplotlib.image.AxesImage at 0x7f4a8f707640>"
      ]
     },
     "execution_count": 68,
     "metadata": {},
     "output_type": "execute_result"
    },
    {
     "data": {
      "image/png": "[encoded data removed]",
      "text/plain": [
       "<Figure size 432x288 with 1 Axes>"
      ]
     },
     "metadata": {
      "needs_background": "light"
     },
     "output_type": "display_data"
    }
   ],
   "source": [
    "plt.imshow(t.eye(*matrix.shape) / t.norm(matrix, dim=0, keepdim=True))"
   ]
  },
  {
   "cell_type": "code",
   "execution_count": null,
   "metadata": {},
   "outputs": [],
   "source": []
  }
 ],
 "metadata": {
  "interpreter": {
   "hash": "767d51c1340bd893661ea55ea3124f6de3c7a262a8b4abca0554b478b1e2ff90"
  },
  "kernelspec": {
   "display_name": "Python 3.8.5 64-bit",
   "language": "python",
   "name": "python3"
  },
  "language_info": {
   "codemirror_mode": {
    "name": "ipython",
    "version": 3
   },
   "file_extension": ".py",
   "mimetype": "text/x-python",
   "name": "python",
   "nbconvert_exporter": "python",
   "pygments_lexer": "ipython3",
   "version": "3.8.5"
  },
  "orig_nbformat": 4
 },
 "nbformat": 4,
 "nbformat_minor": 2
}
