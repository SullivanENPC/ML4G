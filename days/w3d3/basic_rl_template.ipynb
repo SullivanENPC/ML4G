{
 "cells": [
  {
   "cell_type": "code",
   "execution_count": 1,
   "metadata": {},
   "outputs": [],
   "source": [
    "import os\n",
    "import sys\n",
    "sys.path.append(\"/home/ubuntu/mlab/days/w3d3/rl_env/lib/python3.8/site-packages\")\n",
    "sys.path.append(\"/home/ubuntu/mlab/days/w3d3/rl_env/lib/python3.9/site-packages\")"
   ]
  },
  {
   "cell_type": "code",
   "execution_count": 80,
   "metadata": {},
   "outputs": [],
   "source": [
    "import gym\n",
    "import matplotlib.pyplot as plt\n",
    "%matplotlib inline\n",
    "from IPython import display\n",
    "from IPython.display import Video\n",
    "from video_recorder import VideoRecorder\n",
    "import einops\n",
    "import torch\n",
    "from torch import nn\n",
    "import numpy as np\n",
    "\n",
    "import rl_tests\n",
    "import days.atari_wrappers as atari_wrappers\n",
    "\n",
    "from collections import deque\n",
    "from dataclasses import dataclass\n",
    "import random\n",
    "import tqdm\n",
    "import typing\n",
    "import copy"
   ]
  },
  {
   "cell_type": "code",
   "execution_count": 5,
   "metadata": {},
   "outputs": [],
   "source": [
    "devices = [f'cuda:{i}' for i in [0, 1, 2, 3]]"
   ]
  },
  {
   "cell_type": "code",
   "execution_count": 239,
   "metadata": {},
   "outputs": [
    {
     "name": "stdout",
     "output_type": "stream",
     "text": [
      "total reward: 19.0\n"
     ]
    }
   ],
   "source": [
    "env_name = \"CartPole-v1\"\n",
    "# env_name = 'MountainCarContinuous-v0'\n",
    "record = True\n",
    "video_name = \"test_0\"\n",
    "\n",
    "env = gym.make(env_name)\n",
    "state = env.reset()\n",
    "done = False\n",
    "total_reward = 0\n",
    "video_recorder = VideoRecorder(env, base_path=f'videos/{video_name}')\n",
    "\n",
    "def show_state(env, step=0, info=\"\"):\n",
    "    plt.figure(3)\n",
    "    plt.clf()\n",
    "    plt.imshow(env.render(mode='rgb_array'))\n",
    "    plt.axis('off')\n",
    "    display.clear_output(wait=True)\n",
    "    display.display(plt.gcf())\n",
    "\n",
    "states = 0\n",
    "while not done:\n",
    "    states += 1\n",
    "    if record:\n",
    "        video_recorder.capture_frame()\n",
    "    else:  \n",
    "        show_state(env)\n",
    "    state, reward, done, _ = env.step(env.action_space.sample()) # Take a random action\n",
    "    total_reward += reward\n",
    "\n",
    "print(f\"total reward: {total_reward}\")\n",
    "if record:\n",
    "    video_recorder.close()\n",
    "    \n",
    "del env\n",
    "del state\n",
    "del done"
   ]
  },
  {
   "cell_type": "code",
   "execution_count": 7,
   "metadata": {},
   "outputs": [
    {
     "data": {
      "text/html": [
       "<video src=\"videos/test_0.mp4\" controls  >\n",
       "      Your browser does not support the <code>video</code> element.\n",
       "    </video>"
      ],
      "text/plain": [
       "<IPython.core.display.Video object>"
      ]
     },
     "execution_count": 7,
     "metadata": {},
     "output_type": "execute_result"
    }
   ],
   "source": [
    "# Display a saved video \n",
    "Video(\"videos/test_0.mp4\")"
   ]
  },
  {
   "cell_type": "code",
   "execution_count": 8,
   "metadata": {},
   "outputs": [
    {
     "ename": "NameError",
     "evalue": "name 'hidden_size' is not defined",
     "output_type": "error",
     "traceback": [
      "\u001b[0;31m---------------------------------------------------------------------------\u001b[0m",
      "\u001b[0;31mNameError\u001b[0m                                 Traceback (most recent call last)",
      "\u001b[0;32m<ipython-input-264-53f092101207>\u001b[0m in \u001b[0;36m<module>\u001b[0;34m\u001b[0m\n\u001b[1;32m      1\u001b[0m MLP = nn.Sequential(\n\u001b[0;32m----> 2\u001b[0;31m     \u001b[0mnn\u001b[0m\u001b[0;34m.\u001b[0m\u001b[0mLinear\u001b[0m\u001b[0;34m(\u001b[0m\u001b[0min_size\u001b[0m\u001b[0;34m,\u001b[0m \u001b[0mhidden_size\u001b[0m\u001b[0;34m)\u001b[0m\u001b[0;34m,\u001b[0m\u001b[0;34m\u001b[0m\u001b[0;34m\u001b[0m\u001b[0m\n\u001b[0m\u001b[1;32m      3\u001b[0m     \u001b[0mnn\u001b[0m\u001b[0;34m.\u001b[0m\u001b[0mReLU\u001b[0m\u001b[0;34m(\u001b[0m\u001b[0;34m)\u001b[0m\u001b[0;34m,\u001b[0m\u001b[0;34m\u001b[0m\u001b[0;34m\u001b[0m\u001b[0m\n\u001b[1;32m      4\u001b[0m     \u001b[0mnn\u001b[0m\u001b[0;34m.\u001b[0m\u001b[0mLinear\u001b[0m\u001b[0;34m(\u001b[0m\u001b[0mhidden_size\u001b[0m\u001b[0;34m,\u001b[0m \u001b[0mhidden_size\u001b[0m\u001b[0;34m)\u001b[0m\u001b[0;34m,\u001b[0m\u001b[0;34m\u001b[0m\u001b[0;34m\u001b[0m\u001b[0m\n\u001b[1;32m      5\u001b[0m     \u001b[0mnn\u001b[0m\u001b[0;34m.\u001b[0m\u001b[0mReLU\u001b[0m\u001b[0;34m(\u001b[0m\u001b[0;34m)\u001b[0m\u001b[0;34m,\u001b[0m\u001b[0;34m\u001b[0m\u001b[0;34m\u001b[0m\u001b[0m\n",
      "\u001b[0;31mNameError\u001b[0m: name 'hidden_size' is not defined"
     ]
    }
   ],
   "source": [
    "class MLP(nn.Module):\n",
    "    def __init__(self, in_size : int, hidden_size : int, out_size : int) -> None:\n",
    "        super().__init__()\n",
    "        self.layers = nn.Sequential(\n",
    "            nn.Linear(in_size, hidden_size),\n",
    "            nn.ReLU(),\n",
    "            nn.Linear(hidden_size, hidden_size),\n",
    "            nn.ReLU(),\n",
    "            nn.Linear(hidden_size, out_size),\n",
    "        )\n",
    "\n",
    "    # obs: Tensor[..., obs_shape]) -> Tensor[..., num_actions]\n",
    "    def forward(self, obs):\n",
    "        return self.layers(obs)\n",
    "    \n",
    "rl_tests.test_q_net(MLP)"
   ]
  },
  {
   "cell_type": "code",
   "execution_count": 9,
   "metadata": {},
   "outputs": [],
   "source": [
    "cartpole_env = gym.make(\"CartPole-v1\")\n",
    "cartpole_eval_env = gym.make(\"CartPole-v1\")"
   ]
  },
  {
   "cell_type": "code",
   "execution_count": 10,
   "metadata": {},
   "outputs": [],
   "source": [
    "def make_choice(\n",
    "    env: gym.Env, eps: float, net: nn.Module, obs, device: str\n",
    ") -> int:\n",
    "    if random.random() < eps:\n",
    "        return env.action_space.sample()\n",
    "    action_scores = net(torch.tensor(obs, dtype=torch.float32, device=device).unsqueeze(0))\n",
    "    best_action = action_scores.argmax(dim=-1)\n",
    "    return best_action.item()"
   ]
  },
  {
   "cell_type": "code",
   "execution_count": 183,
   "metadata": {},
   "outputs": [],
   "source": [
    "def evaluate(model: nn.Module, env: gym.Env, eps: float, device: str, video_name = None) -> float:\n",
    "    # env.reset() returns an initial observation, so make sure to do this at the beginning.\n",
    "    # Feel free to modify the above function by adding arguments like epsilon : float, device : string, save_video : bool.\n",
    "    # This is an eval function; make sure you’re not storing gradients\n",
    "    # Note that env.step takes an action (an int between 0 and env.action_space.n - 1, inclusive) and returns:\n",
    "    #   state: Tensor  The next observation\n",
    "    #   reward: float  The reward gained during the timestep\n",
    "    #   done: bool  Whether or not the episode is over\n",
    "    #   info: dict  extra information like number of lives remaining\n",
    "    #   You’ll need to handle the ‘done’ output by exiting the loop when the episode ends.\n",
    "    \n",
    "    is_recording = video_name is not None\n",
    "    if is_recording:\n",
    "        video_recorder = VideoRecorder(env, base_path=f'videos/{video_name}')  \n",
    "    \n",
    "    state = env.reset()\n",
    "    if is_recording:\n",
    "        video_recorder.capture_frame()\n",
    "    done = False\n",
    "    total_reward = 0\n",
    "    states = 0\n",
    "    \n",
    "    model.to(device)\n",
    "    model.eval()\n",
    "    \n",
    "    with torch.no_grad():\n",
    "        try:\n",
    "            while not done:\n",
    "                states += 1\n",
    "                action = make_choice(env=env, eps=eps, net=model, obs=state, device=device)\n",
    "                state, reward, done, _ = env.step(action)\n",
    "                total_reward += reward\n",
    "                if is_recording:\n",
    "                    video_recorder.capture_frame()\n",
    "        finally:\n",
    "            if is_recording:\n",
    "                video_recorder.close()\n",
    "\n",
    "    return total_reward"
   ]
  },
  {
   "cell_type": "code",
   "execution_count": 12,
   "metadata": {},
   "outputs": [
    {
     "data": {
      "text/plain": [
       "10.0"
      ]
     },
     "execution_count": 12,
     "metadata": {},
     "output_type": "execute_result"
    }
   ],
   "source": [
    "(in_size,) = cartpole_env.observation_space.shape\n",
    "cartpole_q_net = MLP(in_size=in_size, hidden_size=64, out_size=cartpole_env.action_space.n)\n",
    "evaluate(model=cartpole_q_net, env=cartpole_env, eps=0.05, device=devices[0], video_name=\"cartpole-eval\")"
   ]
  },
  {
   "cell_type": "code",
   "execution_count": 13,
   "metadata": {},
   "outputs": [
    {
     "data": {
      "text/html": [
       "<video src=\"videos/cartpole-eval.mp4\" controls  >\n",
       "      Your browser does not support the <code>video</code> element.\n",
       "    </video>"
      ],
      "text/plain": [
       "<IPython.core.display.Video object>"
      ]
     },
     "execution_count": 13,
     "metadata": {},
     "output_type": "execute_result"
    }
   ],
   "source": [
    "Video(f\"videos/cartpole-eval.mp4\")"
   ]
  },
  {
   "cell_type": "code",
   "execution_count": 14,
   "metadata": {},
   "outputs": [],
   "source": [
    "class StubEnv(gym.Env):\n",
    "    '''idk'''\n",
    "    def __init__(self):\n",
    "        self.action_space = gym.Discrete(2)\n",
    "        self.observation_space = gym.Discrete(1)\n",
    "        self.reward_range = (0, 1)\n",
    "        \n",
    "    def step(self):\n",
    "        pass\n",
    "    \n",
    "    def reset(self):\n",
    "        pass\n",
    "    \n",
    "    def seed(self):\n",
    "        pass"
   ]
  },
  {
   "cell_type": "code",
   "execution_count": 109,
   "metadata": {},
   "outputs": [],
   "source": [
    "@dataclass\n",
    "class Experience:\n",
    "    obs: any # something from the observation space\n",
    "    action: any # something from the action space\n",
    "    obs_after: any # something from the observation space\n",
    "    reward: int\n",
    "    done: bool"
   ]
  },
  {
   "cell_type": "code",
   "execution_count": null,
   "metadata": {},
   "outputs": [],
   "source": []
  },
  {
   "cell_type": "code",
   "execution_count": 254,
   "metadata": {},
   "outputs": [
    {
     "data": {
      "text/plain": [
       "[Experience(obs=tensor([ 1.0000,  0.0052, -0.0031, -0.0440], device='cuda:0'), action=tensor(1), obs_after=tensor([-0.0344,  0.3955, -0.0107, -0.6316], device='cuda:0'), reward=tensor(1.), done=tensor(False)),\n",
       " Experience(obs=tensor([ 2.0000,  0.0052, -0.0031, -0.0440], device='cuda:0'), action=tensor(0), obs_after=tensor([-0.0265,  0.2005, -0.0233, -0.3423], device='cuda:0'), reward=tensor(1.), done=tensor(False)),\n",
       " Experience(obs=tensor([ 3.0000,  0.0052, -0.0031, -0.0440], device='cuda:0'), action=tensor(1), obs_after=tensor([-0.0225,  0.3960, -0.0302, -0.6422], device='cuda:0'), reward=tensor(1.), done=tensor(False)),\n",
       " Experience(obs=tensor([ 4.0000e+00,  5.1557e-03, -3.0856e-03, -4.3969e-02], device='cuda:0'), action=tensor(1), obs_after=tensor([-0.0146,  0.5915, -0.0430, -0.9443], device='cuda:0'), reward=tensor(1.), done=tensor(False)),\n",
       " Experience(obs=tensor([ 5.0000e+00,  5.1557e-03, -3.0856e-03, -4.3969e-02], device='cuda:0'), action=tensor(0), obs_after=tensor([-0.0028,  0.3970, -0.0619, -0.6654], device='cuda:0'), reward=tensor(1.), done=tensor(False))]"
      ]
     },
     "execution_count": 254,
     "metadata": {},
     "output_type": "execute_result"
    }
   ],
   "source": [
    "class Experiences:\n",
    "    def __init__(self, env, max_experiences, to_device, store_device='cpu'):\n",
    "        self.first_elt_index = 0\n",
    "        self.len = 0\n",
    "        self.max_experiences = max_experiences\n",
    "        self.to_device = to_device\n",
    "        obses_shape = (max_experiences,) + tuple(env.observation_space.shape)\n",
    "        self.obses = torch.zeros(*obses_shape, device=store_device)\n",
    "        self.actions = torch.zeros(max_experiences, dtype=torch.long, device=store_device)\n",
    "        self.obses_after = torch.zeros(*obses_shape, device=store_device)\n",
    "        self.rewards = torch.zeros(max_experiences, device=store_device)\n",
    "        self.dones = torch.zeros(max_experiences, dtype=torch.bool, device=store_device)\n",
    "    \n",
    "    def offset_index(self, index):\n",
    "        index += self.first_elt_index\n",
    "        if index >= self.max_experiences:\n",
    "            index -= self.max_experiences\n",
    "        return index\n",
    "    \n",
    "    def append(self, obs, action, obs_after, reward, done):\n",
    "        if self.len == self.max_experiences:\n",
    "            index_to_write = self.first_elt_index\n",
    "            self.first_elt_index = self.offset_index(1)\n",
    "        else:\n",
    "            index_to_write = self.offset_index(self.len)\n",
    "            self.len += 1\n",
    "        \n",
    "        self.obses[index_to_write] = torch.tensor(obs, dtype=torch.float32, device=self.obses.device)\n",
    "        self.actions[index_to_write] = action\n",
    "        self.obses_after[index_to_write] = torch.tensor(obs_after, dtype=torch.float32, device=self.obses.device)\n",
    "        self.rewards[index_to_write] = reward\n",
    "        self.dones[index_to_write] = done\n",
    "        \n",
    "    def __len__(self):\n",
    "        return self.len\n",
    "        \n",
    "    def __getitem__(self, i):\n",
    "        i = self.offset_index(i)\n",
    "        return Experience(\n",
    "            obs=self.obses[i].to(self.to_device),\n",
    "            action=self.actions[i],\n",
    "            obs_after=self.obses_after[i].to(self.to_device),\n",
    "            reward=self.rewards[i],\n",
    "            done=self.dones[i]\n",
    "        )\n",
    "    \n",
    "    def __iter__(self):\n",
    "        return (self[i] for i in range(len(self)))\n",
    "\n",
    "def test_experiences():\n",
    "    experiences = Experiences(cartpole_env, max_experiences=5, to_device=device)\n",
    "    obs = cartpole_env.reset()\n",
    "    for i in range(6):\n",
    "        action = cartpole_env.action_space.sample()\n",
    "        obs_after, reward, done, _ = cartpole_env.step(action)\n",
    "        obs[0] = i\n",
    "        experiences.append(obs=obs, action=action, obs_after=obs_after, reward=reward, done=done)\n",
    "        \n",
    "    return list(experiences)\n",
    "    \n",
    "test_experiences()"
   ]
  },
  {
   "cell_type": "code",
   "execution_count": 255,
   "metadata": {},
   "outputs": [],
   "source": [
    "@dataclass\n",
    "class TrainConfig:\n",
    "    train_freq: int\n",
    "    eval_freq: int\n",
    "    double_dqn_update_freq: int\n",
    "    batch_size: int\n",
    "    # decay eps from eps_start to eps_end over the first eps_decay_steps steps\n",
    "    eps_start: float\n",
    "    eps_end: float\n",
    "    eps_decay_steps: int\n",
    "    discount_rate: float\n",
    "    max_experiences: int\n",
    "    lr: float\n",
    "    n_steps: int\n",
    "    # gap between state and state_after for `Experience`\n",
    "    temporal_difference: int = 1\n",
    "    \n",
    "def reward_from_experience(experience, model, discount_rate, device):\n",
    "    if experience.done:\n",
    "        return experience.reward\n",
    "    else:\n",
    "        with torch.no_grad():\n",
    "            predicted_values_of_actions = model(torch.tensor(experience.obs_after, dtype=torch.float32, device=device))\n",
    "        future_reward = torch.max(predicted_values_of_actions)\n",
    "        return experience.reward + discount_rate * future_reward\n",
    "    \n",
    "def batched_reward_from_experience(samples, model, old_model, discount_rate, device):\n",
    "    obs_afters = torch.stack([\n",
    "            sample.obs_after for sample in samples\n",
    "        ], dim=0)\n",
    "    with torch.no_grad():\n",
    "        predicted_values_of_actions = model(obs_afters)\n",
    "        actions = predicted_values_of_actions.argmax(dim=1).unsqueeze(1)\n",
    "        future_rewards = torch.gather(old_model(obs_afters), dim=1, index=actions).squeeze(1)\n",
    "    reward = torch.tensor([sample.reward for sample in samples], dtype=torch.float32, device=device)\n",
    "    not_done = torch.tensor([not sample.done for sample in samples], dtype=torch.bool, device=device)\n",
    "    reward[not_done] += discount_rate * future_rewards[not_done]\n",
    "    return reward        \n",
    "\n",
    "def training_loop(\n",
    "        model: nn.Module,\n",
    "        train_env: gym.Env,\n",
    "        eval_env: gym.Env,\n",
    "        config: TrainConfig,\n",
    "        device: str,\n",
    "):\n",
    "    model.train()\n",
    "    if config.double_dqn_update_freq > 1:\n",
    "        old_model = copy.deepcopy(model)\n",
    "    else:\n",
    "        old_model = model.detach()\n",
    "    loss_fn = nn.MSELoss()\n",
    "    losses = []\n",
    "    evaluations = []\n",
    "    opt = torch.optim.Adam(model.parameters(), lr=config.lr)\n",
    "    experiences = Experiences(env=train_env, max_experiences=config.max_experiences, to_device=device)\n",
    "    prev_obses = deque(maxlen=config.temporal_difference)\n",
    "    prev_rewards = deque(maxlen=config.temporal_difference)\n",
    "    td_discount = config.discount_rate ** config.temporal_difference\n",
    "    obs = train_env.reset()\n",
    "    print_freq = config.n_steps // 20\n",
    "    for action_idx in range(config.n_steps):\n",
    "        if action_idx <= config.eps_decay_steps:\n",
    "            eps = config.eps_start + (config.eps_end - config.eps_start) * action_idx / config.eps_decay_steps\n",
    "        prev_obses.append(obs)\n",
    "            \n",
    "        action = make_choice(env=train_env, eps=eps, net=model, obs=obs, device=device)\n",
    "        obs, reward, done, _ = train_env.step(action)\n",
    "        prev_rewards.append(reward)\n",
    "        if len(prev_rewards) == config.temporal_difference:\n",
    "            total_prev_rewards = sum([config.discount_rate ** i * reward for i, reward in enumerate(prev_rewards)])\n",
    "            prev_obs = prev_obses[0]\n",
    "            experiences.append(obs=prev_obs, action=action, obs_after=obs, reward=total_prev_rewards, done=done)\n",
    "\n",
    "        if done:\n",
    "            obs = train_env.reset()\n",
    "            prev_obses.clear()\n",
    "            prev_rewards.clear()\n",
    "        if len(experiences) > 0 and action_idx % config.train_freq == 0:  # train the model\n",
    "            samples = random.choices(experiences, k=config.batch_size)\n",
    "            input_batch = torch.stack([sample.obs for sample in samples], dim=0)\n",
    "            opt.zero_grad()\n",
    "            rewards_predicted = model(input_batch)\n",
    "            assert rewards_predicted.shape == (config.batch_size, train_env.action_space.n)\n",
    "            target_indices = torch.tensor([sample.action for sample in samples], device=device).unsqueeze(1)\n",
    "            assert target_indices.shape == (config.batch_size, 1), target_indices.shape\n",
    "            target_batch = torch.gather(rewards_predicted, dim=1, index=target_indices).squeeze(1)\n",
    "            assert target_batch.shape == (config.batch_size,), target_batch.shape\n",
    "            rewards_from_experience = batched_reward_from_experience(samples, model, old_model, td_discount, device)\n",
    "            assert rewards_from_experience.shape == (config.batch_size,)\n",
    "            loss = loss_fn(target_batch, rewards_from_experience)\n",
    "            losses.append((action_idx, loss.item()))\n",
    "            loss.backward()\n",
    "            opt.step()\n",
    "                 \n",
    "            train_idx = action_idx // config.train_freq\n",
    "            \n",
    "            if config.double_dqn_update_freq > 1 and train_idx % config.double_dqn_update_freq == 0:\n",
    "                old_model = copy.deepcopy(model)\n",
    "                 \n",
    "            if train_idx % config.eval_freq == 0:\n",
    "                reward = evaluate(model=model, env=eval_env, eps=0, device=device)\n",
    "                evaluations.append((action_idx, reward))\n",
    "                model.train()\n",
    "                \n",
    "            \n",
    "        if action_idx % print_freq == 0:\n",
    "            print(f\"{action_idx=}\")\n",
    "                \n",
    "    plt.scatter([i for i, _ in losses], [loss for _, loss in losses])\n",
    "    plt.show()\n",
    "    plt.scatter([i for i, _ in evaluations], [r for _, r in evaluations])\n",
    "    plt.show()"
   ]
  },
  {
   "cell_type": "code",
   "execution_count": 232,
   "metadata": {},
   "outputs": [
    {
     "name": "stdout",
     "output_type": "stream",
     "text": [
      "action_idx=0\n",
      "action_idx=1500\n",
      "action_idx=3000\n",
      "action_idx=4500\n",
      "action_idx=6000\n",
      "action_idx=7500\n",
      "action_idx=9000\n",
      "action_idx=10500\n",
      "action_idx=12000\n",
      "action_idx=13500\n",
      "action_idx=15000\n",
      "action_idx=16500\n",
      "action_idx=18000\n",
      "action_idx=19500\n",
      "action_idx=21000\n",
      "action_idx=22500\n",
      "action_idx=24000\n",
      "action_idx=25500\n",
      "action_idx=27000\n",
      "action_idx=28500\n"
     ]
    },
    {
     "data": {
      "image/png": "[encoded data removed]",
      "text/plain": [
       "<Figure size 432x288 with 1 Axes>"
      ]
     },
     "metadata": {
      "needs_background": "light"
     },
     "output_type": "display_data"
    },
    {
     "data": {
      "image/png": "[encoded data removed]",
      "text/plain": [
       "<Figure size 432x288 with 1 Axes>"
      ]
     },
     "metadata": {
      "needs_background": "light"
     },
     "output_type": "display_data"
    }
   ],
   "source": [
    "(in_size,) = cartpole_env.observation_space.shape\n",
    "device = devices[0]\n",
    "cartpole_q_net = MLP(in_size=in_size, hidden_size=64, out_size=cartpole_env.action_space.n).to(device)\n",
    "training_config = TrainConfig(\n",
    "    train_freq=16,\n",
    "    eval_freq=100,\n",
    "    batch_size=128,\n",
    "    double_dqn_update_freq=10,\n",
    "    eps_start=0.1,\n",
    "    eps_end=0.05,\n",
    "    eps_decay_steps=20000,\n",
    "    discount_rate=0.98,\n",
    "    max_experiences=10000,\n",
    "    lr=1e-3,\n",
    "    n_steps=30000,\n",
    "    temporal_difference=1,\n",
    ")\n",
    "training_loop(model=cartpole_q_net, train_env=cartpole_env, eval_env=cartpole_eval_env, config=training_config, device=device)"
   ]
  },
  {
   "cell_type": "code",
   "execution_count": 233,
   "metadata": {},
   "outputs": [
    {
     "data": {
      "text/html": [
       "<video src=\"videos/trained-cartpole.mp4\" controls  >\n",
       "      Your browser does not support the <code>video</code> element.\n",
       "    </video>"
      ],
      "text/plain": [
       "<IPython.core.display.Video object>"
      ]
     },
     "execution_count": 233,
     "metadata": {},
     "output_type": "execute_result"
    }
   ],
   "source": [
    "evaluate(model=cartpole_q_net, env=cartpole_eval_env, eps=0, device=devices[0], video_name=\"trained-cartpole\")\n",
    "Video(f\"videos/trained-cartpole.mp4\")"
   ]
  },
  {
   "cell_type": "code",
   "execution_count": 174,
   "metadata": {},
   "outputs": [
    {
     "name": "stdout",
     "output_type": "stream",
     "text": [
      "action_idx=0\n",
      "action_idx=1500\n",
      "action_idx=3000\n",
      "action_idx=4500\n",
      "action_idx=6000\n",
      "action_idx=7500\n",
      "action_idx=9000\n",
      "action_idx=10500\n",
      "action_idx=12000\n",
      "action_idx=13500\n",
      "action_idx=15000\n",
      "action_idx=16500\n",
      "action_idx=18000\n",
      "action_idx=19500\n",
      "action_idx=21000\n",
      "action_idx=22500\n",
      "action_idx=24000\n",
      "action_idx=25500\n",
      "action_idx=27000\n",
      "action_idx=28500\n"
     ]
    },
    {
     "data": {
      "image/png": "[encoded data removed]",
      "text/plain": [
       "<Figure size 432x288 with 1 Axes>"
      ]
     },
     "metadata": {
      "needs_background": "light"
     },
     "output_type": "display_data"
    },
    {
     "data": {
      "image/png": "[encoded data removed]",
      "text/plain": [
       "<Figure size 432x288 with 1 Axes>"
      ]
     },
     "metadata": {
      "needs_background": "light"
     },
     "output_type": "display_data"
    }
   ],
   "source": [
    "class DuelingMLP(nn.Module):\n",
    "    def __init__(self, in_size : int, hidden_size : int, out_size : int) -> None:\n",
    "        super().__init__()\n",
    "        self.middle_layers = nn.Sequential(\n",
    "            nn.Linear(in_size, hidden_size),\n",
    "            nn.ReLU(),\n",
    "            nn.Linear(hidden_size, hidden_size),\n",
    "            nn.ReLU(),\n",
    "        )\n",
    "        self.v_head = nn.Sequential(\n",
    "            nn.Linear(hidden_size, 256),\n",
    "            nn.ReLU(),\n",
    "            nn.Linear(256, 1)\n",
    "        )\n",
    "        self.a_head = nn.Sequential(\n",
    "            nn.Linear(hidden_size, 256),\n",
    "            nn.ReLU(),\n",
    "            nn.Linear(256, out_size)\n",
    "        )\n",
    "\n",
    "    # obs: Tensor[..., obs_shape]) -> Tensor[..., num_actions]\n",
    "    def forward(self, obs):\n",
    "        embedding = self.middle_layers(obs)\n",
    "        v_output = self.v_head(embedding)\n",
    "        a_output = self.a_head(embedding)\n",
    "        return v_output + a_output - a_output.mean(dim=-1)\n",
    "    \n",
    "(in_size,) = cartpole_env.observation_space.shape\n",
    "device = devices[0]\n",
    "dueling_cartpole_q_net = MLP(in_size=in_size, hidden_size=64, out_size=cartpole_env.action_space.n).to(device)\n",
    "training_config = TrainConfig(\n",
    "    train_freq=16,\n",
    "    eval_freq=100,\n",
    "    batch_size=128,\n",
    "    double_dqn_update_freq=10,\n",
    "    eps_start=0.1,\n",
    "    eps_end=0.05,\n",
    "    eps_decay_steps=20000,\n",
    "    discount_rate=0.98,\n",
    "    max_experiences=10000,\n",
    "    lr=1e-3,\n",
    "    n_steps=30000,\n",
    "    temporal_difference=3,\n",
    ")\n",
    "training_loop(model=dueling_cartpole_q_net, train_env=cartpole_env, eval_env=cartpole_eval_env, config=training_config, device=device)"
   ]
  },
  {
   "cell_type": "code",
   "execution_count": 261,
   "metadata": {},
   "outputs": [
    {
     "ename": "AttributeError",
     "evalue": "'MLP' object has no attribute 'detach'",
     "output_type": "error",
     "traceback": [
      "\u001b[0;31m---------------------------------------------------------------------------\u001b[0m",
      "\u001b[0;31mAttributeError\u001b[0m                            Traceback (most recent call last)",
      "\u001b[0;32m<ipython-input-261-585f5521ee8e>\u001b[0m in \u001b[0;36m<module>\u001b[0;34m\u001b[0m\n\u001b[1;32m     19\u001b[0m     \u001b[0mn_steps\u001b[0m\u001b[0;34m=\u001b[0m\u001b[0mn_steps\u001b[0m\u001b[0;34m,\u001b[0m\u001b[0;34m\u001b[0m\u001b[0;34m\u001b[0m\u001b[0m\n\u001b[1;32m     20\u001b[0m )\n\u001b[0;32m---> 21\u001b[0;31m training_loop(\n\u001b[0m\u001b[1;32m     22\u001b[0m     \u001b[0mmodel\u001b[0m\u001b[0;34m=\u001b[0m\u001b[0macrobot_q_net\u001b[0m\u001b[0;34m,\u001b[0m\u001b[0;34m\u001b[0m\u001b[0;34m\u001b[0m\u001b[0m\n\u001b[1;32m     23\u001b[0m     \u001b[0mtrain_env\u001b[0m\u001b[0;34m=\u001b[0m\u001b[0macrobot_env\u001b[0m\u001b[0;34m,\u001b[0m\u001b[0;34m\u001b[0m\u001b[0;34m\u001b[0m\u001b[0m\n",
      "\u001b[0;32m<ipython-input-255-856c503c3032>\u001b[0m in \u001b[0;36mtraining_loop\u001b[0;34m(model, train_env, eval_env, config, device)\u001b[0m\n\u001b[1;32m     49\u001b[0m         \u001b[0mold_model\u001b[0m \u001b[0;34m=\u001b[0m \u001b[0mcopy\u001b[0m\u001b[0;34m.\u001b[0m\u001b[0mdeepcopy\u001b[0m\u001b[0;34m(\u001b[0m\u001b[0mmodel\u001b[0m\u001b[0;34m)\u001b[0m\u001b[0;34m\u001b[0m\u001b[0;34m\u001b[0m\u001b[0m\n\u001b[1;32m     50\u001b[0m     \u001b[0;32melse\u001b[0m\u001b[0;34m:\u001b[0m\u001b[0;34m\u001b[0m\u001b[0;34m\u001b[0m\u001b[0m\n\u001b[0;32m---> 51\u001b[0;31m         \u001b[0mold_model\u001b[0m \u001b[0;34m=\u001b[0m \u001b[0mmodel\u001b[0m\u001b[0;34m.\u001b[0m\u001b[0mdetach\u001b[0m\u001b[0;34m(\u001b[0m\u001b[0;34m)\u001b[0m\u001b[0;34m\u001b[0m\u001b[0;34m\u001b[0m\u001b[0m\n\u001b[0m\u001b[1;32m     52\u001b[0m     \u001b[0mloss_fn\u001b[0m \u001b[0;34m=\u001b[0m \u001b[0mnn\u001b[0m\u001b[0;34m.\u001b[0m\u001b[0mMSELoss\u001b[0m\u001b[0;34m(\u001b[0m\u001b[0;34m)\u001b[0m\u001b[0;34m\u001b[0m\u001b[0;34m\u001b[0m\u001b[0m\n\u001b[1;32m     53\u001b[0m     \u001b[0mlosses\u001b[0m \u001b[0;34m=\u001b[0m \u001b[0;34m[\u001b[0m\u001b[0;34m]\u001b[0m\u001b[0;34m\u001b[0m\u001b[0;34m\u001b[0m\u001b[0m\n",
      "\u001b[0;32m~/.local/lib/python3.8/site-packages/torch/nn/modules/module.py\u001b[0m in \u001b[0;36m__getattr__\u001b[0;34m(self, name)\u001b[0m\n\u001b[1;32m   1175\u001b[0m             \u001b[0;32mif\u001b[0m \u001b[0mname\u001b[0m \u001b[0;32min\u001b[0m \u001b[0mmodules\u001b[0m\u001b[0;34m:\u001b[0m\u001b[0;34m\u001b[0m\u001b[0;34m\u001b[0m\u001b[0m\n\u001b[1;32m   1176\u001b[0m                 \u001b[0;32mreturn\u001b[0m \u001b[0mmodules\u001b[0m\u001b[0;34m[\u001b[0m\u001b[0mname\u001b[0m\u001b[0;34m]\u001b[0m\u001b[0;34m\u001b[0m\u001b[0;34m\u001b[0m\u001b[0m\n\u001b[0;32m-> 1177\u001b[0;31m         raise AttributeError(\"'{}' object has no attribute '{}'\".format(\n\u001b[0m\u001b[1;32m   1178\u001b[0m             type(self).__name__, name))\n\u001b[1;32m   1179\u001b[0m \u001b[0;34m\u001b[0m\u001b[0m\n",
      "\u001b[0;31mAttributeError\u001b[0m: 'MLP' object has no attribute 'detach'"
     ]
    }
   ],
   "source": [
    "acrobot_env = gym.make(\"Acrobot-v1\") \n",
    "acrobot_eval_env = gym.make(\"Acrobot-v1\")\n",
    "\n",
    "(in_size,) = acrobot_env.observation_space.shape\n",
    "device = devices[0]\n",
    "acrobot_q_net = MLP(in_size=in_size, hidden_size=64, out_size=acrobot_env.action_space.n).to(device)\n",
    "n_steps = 40000\n",
    "acrobot_config = TrainConfig(\n",
    "    train_freq=4,\n",
    "    eval_freq=100,\n",
    "    double_dqn_update_freq=1,\n",
    "    batch_size=128,\n",
    "    eps_start=1,\n",
    "    eps_end=0.1,\n",
    "    eps_decay_steps=n_steps // 10,\n",
    "    discount_rate=0.99,\n",
    "    max_experiences=10000,\n",
    "    lr=1e-4,\n",
    "    n_steps=n_steps,\n",
    ")\n",
    "training_loop(\n",
    "    model=acrobot_q_net, \n",
    "    train_env=acrobot_env, \n",
    "    eval_env=acrobot_eval_env, \n",
    "    config=acrobot_config, \n",
    "    device=device\n",
    ")"
   ]
  },
  {
   "cell_type": "code",
   "execution_count": 23,
   "metadata": {},
   "outputs": [
    {
     "data": {
      "text/html": [
       "<video src=\"videos/trained-acrobot.mp4\" controls  >\n",
       "      Your browser does not support the <code>video</code> element.\n",
       "    </video>"
      ],
      "text/plain": [
       "<IPython.core.display.Video object>"
      ]
     },
     "execution_count": 23,
     "metadata": {},
     "output_type": "execute_result"
    }
   ],
   "source": [
    "evaluate(model=acrobot_q_net, env=acrobot_eval_env, eps=0, device=devices[0], video_name=\"trained-acrobot\")\n",
    "Video(f\"videos/trained-acrobot.mp4\")"
   ]
  },
  {
   "cell_type": "code",
   "execution_count": 187,
   "metadata": {},
   "outputs": [],
   "source": [
    "breakout_train_env = atari_wrappers.AtariWrapper(gym.make(\"BreakoutNoFrameskip-v0\"))\n",
    "breakout_eval_env = atari_wrappers.AtariWrapper(gym.make(\"BreakoutNoFrameskip-v0\"))"
   ]
  },
  {
   "cell_type": "code",
   "execution_count": 188,
   "metadata": {},
   "outputs": [],
   "source": [
    "(height, width, obs_n_channels) = breakout_train_env.observation_space.shape\n",
    "\n",
    "class Rearrange(nn.Module):\n",
    "    def __init__(self, rearrangement):\n",
    "        super().__init__()\n",
    "        self.rearrangement = rearrangement\n",
    "        \n",
    "    def forward(self, x):\n",
    "        return einops.rearrange(x, self.rearrangement)\n",
    "\n",
    "# obs_n_channels needs a value\n",
    "breakout_q_net = nn.Sequential(\n",
    "    Rearrange('b h w c -> b c h w'),\n",
    "    nn.Conv2d(obs_n_channels, 32, 8, stride=4),\n",
    "    nn.ReLU(),\n",
    "    nn.Conv2d(32, 64, 4, stride=2),\n",
    "    nn.ReLU(),\n",
    "    nn.Conv2d(64, 64, 3, stride=1),\n",
    "    nn.ReLU(),\n",
    "    nn.Flatten(),\n",
    "    nn.Linear(3136, breakout_train_env.action_space.n),\n",
    ").to(device)"
   ]
  },
  {
   "cell_type": "code",
   "execution_count": 246,
   "metadata": {},
   "outputs": [],
   "source": [
    "n_steps=5000\n",
    "breakout_config = TrainConfig(\n",
    "    train_freq=4,\n",
    "    eval_freq=100,\n",
    "    double_dqn_update_freq=10,\n",
    "    batch_size=32,\n",
    "    eps_start=1,\n",
    "    eps_end=0.01,\n",
    "    eps_decay_steps=n_steps,\n",
    "    discount_rate=0.99,\n",
    "    max_experiences=100000,\n",
    "    lr=3e-5,\n",
    "    n_steps=n_steps,\n",
    ")\n",
    "# breakout_config.batch_size = 4096"
   ]
  },
  {
   "cell_type": "code",
   "execution_count": 57,
   "metadata": {},
   "outputs": [
    {
     "name": "stdout",
     "output_type": "stream",
     "text": [
      "action_idx=0\n",
      "action_idx=1000\n",
      "action_idx=2000\n",
      "action_idx=3000\n",
      "action_idx=4000\n",
      "action_idx=5000\n",
      "action_idx=6000\n",
      "action_idx=7000\n",
      "action_idx=8000\n",
      "action_idx=9000\n",
      "action_idx=10000\n",
      "action_idx=11000\n",
      "action_idx=12000\n",
      "action_idx=13000\n",
      "action_idx=14000\n",
      "action_idx=15000\n",
      "action_idx=16000\n",
      "action_idx=17000\n",
      "action_idx=18000\n",
      "action_idx=19000\n"
     ]
    },
    {
     "data": {
      "image/png": "[encoded data removed]",
      "text/plain": [
       "<Figure size 432x288 with 1 Axes>"
      ]
     },
     "metadata": {
      "needs_background": "light"
     },
     "output_type": "display_data"
    },
    {
     "data": {
      "image/png": "[encoded data removed]",
      "text/plain": [
       "<Figure size 432x288 with 1 Axes>"
      ]
     },
     "metadata": {
      "needs_background": "light"
     },
     "output_type": "display_data"
    }
   ],
   "source": [
    "training_loop(\n",
    "    model=breakout_q_net, \n",
    "    train_env=breakout_train_env, \n",
    "    eval_env=breakout_eval_env, \n",
    "    config=breakout_config,\n",
    "    device=device\n",
    ")"
   ]
  },
  {
   "cell_type": "code",
   "execution_count": 28,
   "metadata": {},
   "outputs": [],
   "source": [
    "import line_profiler\n",
    "%load_ext line_profiler"
   ]
  },
  {
   "cell_type": "code",
   "execution_count": 256,
   "metadata": {},
   "outputs": [
    {
     "name": "stdout",
     "output_type": "stream",
     "text": [
      "action_idx=0\n",
      "action_idx=250\n",
      "action_idx=500\n",
      "action_idx=750\n",
      "action_idx=1000\n",
      "action_idx=1250\n",
      "action_idx=1500\n",
      "action_idx=1750\n",
      "action_idx=2000\n",
      "action_idx=2250\n",
      "action_idx=2500\n",
      "action_idx=2750\n",
      "action_idx=3000\n",
      "action_idx=3250\n",
      "action_idx=3500\n",
      "action_idx=3750\n",
      "action_idx=4000\n",
      "action_idx=4250\n",
      "action_idx=4500\n",
      "action_idx=4750\n"
     ]
    },
    {
     "data": {
      "image/png": "[encoded data removed]",
      "text/plain": [
       "<Figure size 432x288 with 1 Axes>"
      ]
     },
     "metadata": {
      "needs_background": "light"
     },
     "output_type": "display_data"
    },
    {
     "data": {
      "image/png": "[encoded data removed]",
      "text/plain": [
       "<Figure size 432x288 with 1 Axes>"
      ]
     },
     "metadata": {
      "needs_background": "light"
     },
     "output_type": "display_data"
    },
    {
     "data": {
      "text/plain": [
       "Timer unit: 1e-06 s\n",
       "\n",
       "Total time: 29.0146 s\n",
       "File: <ipython-input-255-856c503c3032>\n",
       "Function: training_loop at line 40\n",
       "\n",
       "Line #      Hits         Time  Per Hit   % Time  Line Contents\n",
       "==============================================================\n",
       "    40                                           def training_loop(\n",
       "    41                                                   model: nn.Module,\n",
       "    42                                                   train_env: gym.Env,\n",
       "    43                                                   eval_env: gym.Env,\n",
       "    44                                                   config: TrainConfig,\n",
       "    45                                                   device: str,\n",
       "    46                                           ):\n",
       "    47         1        200.0    200.0      0.0      model.train()\n",
       "    48         1         17.0     17.0      0.0      if config.double_dqn_update_freq > 1:\n",
       "    49         1       4566.0   4566.0      0.0          old_model = copy.deepcopy(model)\n",
       "    50                                               else:\n",
       "    51                                                   old_model = model.detach()\n",
       "    52         1        148.0    148.0      0.0      loss_fn = nn.MSELoss()\n",
       "    53         1          6.0      6.0      0.0      losses = []\n",
       "    54         1          6.0      6.0      0.0      evaluations = []\n",
       "    55         1        257.0    257.0      0.0      opt = torch.optim.Adam(model.parameters(), lr=config.lr)\n",
       "    56         1      43109.0  43109.0      0.1      experiences = Experiences(env=train_env, max_experiences=config.max_experiences, to_device=device)\n",
       "    57         1         18.0     18.0      0.0      prev_obses = deque(maxlen=config.temporal_difference)\n",
       "    58         1          6.0      6.0      0.0      prev_rewards = deque(maxlen=config.temporal_difference)\n",
       "    59         1         11.0     11.0      0.0      td_discount = config.discount_rate ** config.temporal_difference\n",
       "    60         1      18262.0  18262.0      0.1      obs = train_env.reset()\n",
       "    61         1         12.0     12.0      0.0      print_freq = config.n_steps // 20\n",
       "    62      5001      28825.0      5.8      0.1      for action_idx in range(config.n_steps):\n",
       "    63      5000      29122.0      5.8      0.1          if action_idx <= config.eps_decay_steps:\n",
       "    64      5000      35411.0      7.1      0.1              eps = config.eps_start + (config.eps_end - config.eps_start) * action_idx / config.eps_decay_steps\n",
       "    65      5000      30314.0      6.1      0.1          prev_obses.append(obs)\n",
       "    66                                                       \n",
       "    67      5000    2602217.0    520.4      9.0          action = make_choice(env=train_env, eps=eps, net=model, obs=obs, device=device)\n",
       "    68      5000    8046767.0   1609.4     27.7          obs, reward, done, _ = train_env.step(action)\n",
       "    69      5000      35600.0      7.1      0.1          prev_rewards.append(reward)\n",
       "    70      5000      35081.0      7.0      0.1          if len(prev_rewards) == config.temporal_difference:\n",
       "    71      5000      63993.0     12.8      0.2              total_prev_rewards = sum([config.discount_rate ** i * reward for i, reward in enumerate(prev_rewards)])\n",
       "    72      5000      30828.0      6.2      0.1              prev_obs = prev_obses[0]\n",
       "    73      5000     939772.0    188.0      3.2              experiences.append(obs=prev_obs, action=action, obs_after=obs, reward=total_prev_rewards, done=done)\n",
       "    74                                           \n",
       "    75      5000      29982.0      6.0      0.1          if done:\n",
       "    76       152    1049815.0   6906.7      3.6              obs = train_env.reset()\n",
       "    77       152       1529.0     10.1      0.0              prev_obses.clear()\n",
       "    78       152        850.0      5.6      0.0              prev_rewards.clear()\n",
       "    79      5000      46419.0      9.3      0.2          if len(experiences) > 0 and action_idx % config.train_freq == 0:  # train the model\n",
       "    80      1250    5431465.0   4345.2     18.7              samples = random.choices(experiences, k=config.batch_size)\n",
       "    81      1250     129680.0    103.7      0.4              input_batch = torch.stack([sample.obs for sample in samples], dim=0)\n",
       "    82      1250     223224.0    178.6      0.8              opt.zero_grad()\n",
       "    83      1250    1221857.0    977.5      4.2              rewards_predicted = model(input_batch)\n",
       "    84      1250      14723.0     11.8      0.1              assert rewards_predicted.shape == (config.batch_size, train_env.action_space.n)\n",
       "    85      1250     140555.0    112.4      0.5              target_indices = torch.tensor([sample.action for sample in samples], device=device).unsqueeze(1)\n",
       "    86      1250       9894.0      7.9      0.0              assert target_indices.shape == (config.batch_size, 1), target_indices.shape\n",
       "    87      1250      63258.0     50.6      0.2              target_batch = torch.gather(rewards_predicted, dim=1, index=target_indices).squeeze(1)\n",
       "    88      1250       8429.0      6.7      0.0              assert target_batch.shape == (config.batch_size,), target_batch.shape\n",
       "    89      1250    2817517.0   2254.0      9.7              rewards_from_experience = batched_reward_from_experience(samples, model, old_model, td_discount, device)\n",
       "    90      1250      13734.0     11.0      0.0              assert rewards_from_experience.shape == (config.batch_size,)\n",
       "    91      1250     160174.0    128.1      0.6              loss = loss_fn(target_batch, rewards_from_experience)\n",
       "    92      1250      49038.0     39.2      0.2              losses.append((action_idx, loss.item()))\n",
       "    93      1250    2427926.0   1942.3      8.4              loss.backward()\n",
       "    94      1250    1301667.0   1041.3      4.5              opt.step()\n",
       "    95                                                            \n",
       "    96      1250      10184.0      8.1      0.0              train_idx = action_idx // config.train_freq\n",
       "    97                                                       \n",
       "    98      1250       7748.0      6.2      0.0              if config.double_dqn_update_freq > 1 and train_idx % config.double_dqn_update_freq == 0:\n",
       "    99       125     414762.0   3318.1      1.4                  old_model = copy.deepcopy(model)\n",
       "   100                                                            \n",
       "   101      1250       7706.0      6.2      0.0              if train_idx % config.eval_freq == 0:\n",
       "   102        13    1035653.0  79665.6      3.6                  reward = evaluate(model=model, env=eval_env, eps=0, device=device)\n",
       "   103        13        112.0      8.6      0.0                  evaluations.append((action_idx, reward))\n",
       "   104        13       2076.0    159.7      0.0                  model.train()\n",
       "   105                                                           \n",
       "   106                                                       \n",
       "   107      5000      34227.0      6.8      0.1          if action_idx % print_freq == 0:\n",
       "   108        20       2615.0    130.8      0.0              print(f\"{action_idx=}\")\n",
       "   109                                                           \n",
       "   110         1      61271.0  61271.0      0.2      plt.scatter([i for i, _ in losses], [loss for _, loss in losses])\n",
       "   111         1     154213.0 154213.0      0.5      plt.show()\n",
       "   112         1      42385.0  42385.0      0.1      plt.scatter([i for i, _ in evaluations], [r for _, r in evaluations])\n",
       "   113         1     155348.0 155348.0      0.5      plt.show()"
      ]
     },
     "metadata": {},
     "output_type": "display_data"
    }
   ],
   "source": [
    "%lprun -f training_loop training_loop(model=breakout_q_net, train_env=breakout_train_env, eval_env=breakout_eval_env, config=breakout_config,device=device)"
   ]
  },
  {
   "cell_type": "code",
   "execution_count": 189,
   "metadata": {},
   "outputs": [
    {
     "data": {
      "text/plain": [
       "1.0"
      ]
     },
     "execution_count": 189,
     "metadata": {},
     "output_type": "execute_result"
    }
   ],
   "source": [
    "evaluate(model=breakout_q_net, env=breakout_eval_env, eps=0, device=devices[0], video_name=\"trained-breakout\")"
   ]
  },
  {
   "cell_type": "code",
   "execution_count": 190,
   "metadata": {},
   "outputs": [
    {
     "data": {
      "text/html": [
       "<video src=\"videos/trained-breakout.mp4\" controls  >\n",
       "      Your browser does not support the <code>video</code> element.\n",
       "    </video>"
      ],
      "text/plain": [
       "<IPython.core.display.Video object>"
      ]
     },
     "execution_count": 190,
     "metadata": {},
     "output_type": "execute_result"
    }
   ],
   "source": [
    "Video(f\"videos/trained-breakout.mp4\")"
   ]
  },
  {
   "cell_type": "code",
   "execution_count": 270,
   "metadata": {},
   "outputs": [],
   "source": [
    "class DuelingBreakout(nn.Module):\n",
    "    def __init__(self, in_channels : int, num_actions) -> None:\n",
    "        super().__init__()\n",
    "        HIDDEN_SIZE = 3136\n",
    "        self.middle_layers = nn.Sequential(\n",
    "            Rearrange('b h w c -> b c h w'),\n",
    "            nn.Conv2d(in_channels, 32, 8, stride=4),\n",
    "            nn.ReLU(),\n",
    "            nn.Conv2d(32, 64, 4, stride=2),\n",
    "            nn.ReLU(),\n",
    "            nn.Conv2d(64, 64, 3, stride=1),\n",
    "            nn.ReLU(),\n",
    "            nn.Flatten(),\n",
    "        )\n",
    "        self.v_head = nn.Sequential(\n",
    "            nn.Linear(HIDDEN_SIZE, 256),\n",
    "            nn.ReLU(),\n",
    "            nn.Linear(256, 1)\n",
    "        )\n",
    "        self.a_head = nn.Sequential(\n",
    "            nn.Linear(HIDDEN_SIZE, 256),\n",
    "            nn.ReLU(),\n",
    "            nn.Linear(256, num_actions)\n",
    "        )\n",
    "\n",
    "    # obs: Tensor[..., obs_shape]) -> Tensor[..., num_actions]\n",
    "    def forward(self, obs):\n",
    "        embedding = self.middle_layers(obs)\n",
    "        v_output = self.v_head(embedding)\n",
    "        a_output = self.a_head(embedding)\n",
    "        return v_output + a_output - a_output.mean(dim=-1).unsqueeze(-1)\n",
    "\n",
    "(height, width, obs_n_channels) = breakout_train_env.observation_space.shape\n",
    "dueling_breakout_q_net = DuelingBreakout(in_channels=obs_n_channels, num_actions=breakout_train_env.action_space.n).to(device)"
   ]
  },
  {
   "cell_type": "code",
   "execution_count": null,
   "metadata": {},
   "outputs": [
    {
     "name": "stdout",
     "output_type": "stream",
     "text": [
      "action_idx=0\n"
     ]
    }
   ],
   "source": [
    "           \n",
    "dueling_breakout_train_env = atari_wrappers.AtariWrapper(gym.make(\"BreakoutNoFrameskip-v0\"))\n",
    "dueling_breakout_eval_env = atari_wrappers.AtariWrapper(gym.make(\"BreakoutNoFrameskip-v0\"))\n",
    "n_steps=1000000\n",
    "dueling_breakout_config = TrainConfig(\n",
    "    train_freq=4,\n",
    "    eval_freq=10000,\n",
    "    double_dqn_update_freq=10,\n",
    "    batch_size=32,\n",
    "    eps_start=1,\n",
    "    eps_end=0.01,\n",
    "    eps_decay_steps=n_steps,\n",
    "    discount_rate=0.99,\n",
    "    max_experiences=100000,\n",
    "    lr=3e-5,\n",
    "    n_steps=n_steps,\n",
    "    temporal_difference=3,\n",
    ")\n",
    "training_loop(\n",
    "    model=dueling_breakout_q_net, \n",
    "    train_env=dueling_breakout_train_env, \n",
    "    eval_env=dueling_breakout_eval_env, \n",
    "    config=dueling_breakout_config,\n",
    "    device=device\n",
    ")\n",
    "dueling_breakout_eval_env = atari_wrappers.AtariWrapper(gym.make(\"BreakoutNoFrameskip-v0\"))\n",
    "evaluate(model=dueling_breakout_q_net, env=dueling_breakout_eval_env, eps=0, device=device, video_name=\"trained-dueling-breakout\")\n",
    "Video(f\"videos/trained-dueling-breakout.mp4\")"
   ]
  }
 ],
 "metadata": {
  "interpreter": {
   "hash": "a131218803ea04de256dcf68d0863f351f9c21059ac7f8146793fa89223f504a"
  },
  "kernelspec": {
   "display_name": "Python 3",
   "language": "python",
   "name": "python3"
  },
  "language_info": {
   "codemirror_mode": {
    "name": "ipython",
    "version": 3
   },
   "file_extension": ".py",
   "mimetype": "text/x-python",
   "name": "python",
   "nbconvert_exporter": "python",
   "pygments_lexer": "ipython3",
   "version": "3.8.10"
  }
 },
 "nbformat": 4,
 "nbformat_minor": 4
}
