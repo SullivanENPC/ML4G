{
 "cells": [
  {
   "cell_type": "markdown",
   "metadata": {},
   "source": [
    "This notebook contains quick throwaway code for MLAB w3d4."
   ]
  },
  {
   "cell_type": "markdown",
   "metadata": {},
   "source": [
    "### Load dependencies"
   ]
  },
  {
   "cell_type": "code",
   "execution_count": 1,
   "metadata": {},
   "outputs": [],
   "source": [
    "%load_ext autoreload\n",
    "%autoreload 2"
   ]
  },
  {
   "cell_type": "code",
   "execution_count": 2,
   "metadata": {},
   "outputs": [],
   "source": [
    "import torch as t\n",
    "import transformers"
   ]
  },
  {
   "cell_type": "markdown",
   "metadata": {},
   "source": [
    "### Load gpt2"
   ]
  },
  {
   "cell_type": "code",
   "execution_count": 3,
   "metadata": {},
   "outputs": [],
   "source": [
    "gpt2 = transformers.GPT2LMHeadModel.from_pretrained('gpt2').cuda()\n",
    "# ref_gpt2 = transformers.GPT2LMHeadModel.from_pretrained('gpt2')\n",
    "tokenizer = transformers.GPT2TokenizerFast.from_pretrained('gpt2')"
   ]
  },
  {
   "cell_type": "code",
   "execution_count": 4,
   "metadata": {},
   "outputs": [
    {
     "name": "stderr",
     "output_type": "stream",
     "text": [
      "Setting `pad_token_id` to `eos_token_id`:50256 for open-end generation.\n"
     ]
    }
   ],
   "source": [
    "prompt_tensor = t.tensor(\n",
    "    [gpt2.config.eos_token_id],\n",
    "    dtype=t.long,\n",
    "    device=gpt2.device,\n",
    ")\n",
    "\n",
    "batch_size: int = 80\n",
    "gen_len: int = 20\n",
    "temp: float = 0.6\n",
    "\n",
    "gen_tensor = gpt2.generate(\n",
    "    input_ids=prompt_tensor.reshape(1, -1),\n",
    "    min_length=len(prompt_tensor) + gen_len,\n",
    "    max_length=len(prompt_tensor) + gen_len,\n",
    "    do_sample=True,\n",
    "    temperature=temp,\n",
    "    top_k=gpt2.config.vocab_size,\n",
    "    top_p=1.0,\n",
    "    num_return_sequences=batch_size,\n",
    "    use_cache=True,\n",
    ")"
   ]
  },
  {
   "cell_type": "code",
   "execution_count": 5,
   "metadata": {},
   "outputs": [
    {
     "name": "stdout",
     "output_type": "stream",
     "text": [
      "torch.Size([80, 21])\n"
     ]
    },
    {
     "data": {
      "text/plain": [
       "['\\nThis article is about the player in the original Dragon Ball Dragon Ball Super series. For the character',\n",
       " '\\nThe United States has been in a state of war with Russia over Ukraine since 2014.\\n\\n']"
      ]
     },
     "execution_count": 5,
     "metadata": {},
     "output_type": "execute_result"
    }
   ],
   "source": [
    "print(gen_tensor.shape)\n",
    "gen_texts: list[str] = tokenizer.batch_decode(gen_tensor[:, 1:])\n",
    "gen_texts[:2]"
   ]
  },
  {
   "cell_type": "code",
   "execution_count": 6,
   "metadata": {},
   "outputs": [
    {
     "data": {
      "text/plain": [
       "tensor([ 1,  1,  0,  4,  0,  0,  0,  0,  0,  0,  0,  0,  1,  0,  0,  0,  0,  0,\n",
       "         0,  0,  1,  1,  0,  0,  1,  1,  2,  0,  0,  1,  0,  0,  0,  1,  1,  1,\n",
       "         1, 20,  1,  0,  0,  1,  1,  0,  0,  0,  0,  1,  1,  1,  0,  0,  2,  0,\n",
       "         0,  0,  1,  2,  0,  0,  1,  1,  1,  0,  0,  0,  0,  1,  1,  0,  1,  0,\n",
       "         0,  0,  1,  1,  0,  1,  0,  0], device='cuda:0')"
      ]
     },
     "execution_count": 6,
     "metadata": {},
     "output_type": "execute_result"
    }
   ],
   "source": [
    "def count_periods(s: str) -> int:\n",
    "    return s.count(\".\")\n",
    "\n",
    "rewards = t.tensor(\n",
    "    [count_periods(t) for t in gen_texts],\n",
    "    dtype=t.long,\n",
    "    device=gpt2.device,\n",
    ")\n",
    "rewards"
   ]
  }
 ],
 "metadata": {
  "interpreter": {
   "hash": "797ab1dc89a00dabf2d1c795f699ff5d900f7d2d37c617c80c55fa51034df33e"
  },
  "kernelspec": {
   "display_name": "Python 3.9.7 64-bit (conda)",
   "language": "python",
   "name": "python3"
  },
  "language_info": {
   "codemirror_mode": {
    "name": "ipython",
    "version": 3
   },
   "file_extension": ".py",
   "mimetype": "text/x-python",
   "name": "python",
   "nbconvert_exporter": "python",
   "pygments_lexer": "ipython3",
   "version": "3.9.7"
  },
  "orig_nbformat": 4
 },
 "nbformat": 4,
 "nbformat_minor": 2
}
