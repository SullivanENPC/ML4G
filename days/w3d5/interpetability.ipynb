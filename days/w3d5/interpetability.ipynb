{
 "cells": [
  {
   "cell_type": "markdown",
   "metadata": {},
   "source": [
    "### Import libraries"
   ]
  },
  {
   "cell_type": "code",
   "execution_count": 1,
   "metadata": {},
   "outputs": [],
   "source": [
    "%load_ext autoreload\n",
    "%autoreload 2"
   ]
  },
  {
   "cell_type": "code",
   "execution_count": 128,
   "metadata": {},
   "outputs": [],
   "source": [
    "import torch as t\n",
    "import matplotlib.pyplot as plt\n",
    "\n",
    "import einops\n",
    "from days.w3d2.w3d2_tests import get_minigpt, MiniGPT, tokenizer\n",
    "\n",
    "from days.w3d5 import gpt_mod\n",
    "from days.w3d5.hook_handler import HookHandler\n",
    "from torch import nn\n",
    "\n",
    "from transformers.models.gpt2.modeling_gpt2 import GPT2LMHeadModel\n",
    "from transformers.models.gpt2.tokenization_gpt2_fast import GPT2TokenizerFast\n"
   ]
  },
  {
   "cell_type": "markdown",
   "metadata": {},
   "source": [
    "### Load model"
   ]
  },
  {
   "cell_type": "code",
   "execution_count": 7,
   "metadata": {},
   "outputs": [
    {
     "data": {
      "text/plain": [
       "MiniGPT(\n",
       "  (token_embedding): Embedding(50259, 256)\n",
       "  (pos_embedding): Embedding(512, 256)\n",
       "  (blocks): Sequential(\n",
       "    (0): UniAttention(\n",
       "      (project_qkv): Linear(in_features=256, out_features=768, bias=False)\n",
       "      (project_output): Linear(in_features=256, out_features=256, bias=False)\n",
       "    )\n",
       "    (1): UniAttention(\n",
       "      (project_qkv): Linear(in_features=256, out_features=768, bias=False)\n",
       "      (project_output): Linear(in_features=256, out_features=256, bias=False)\n",
       "    )\n",
       "  )\n",
       ")"
      ]
     },
     "execution_count": 7,
     "metadata": {},
     "output_type": "execute_result"
    }
   ],
   "source": [
    "mgpt = get_minigpt(\"../w3d2/model.pt\")\n",
    "mgpt"
   ]
  },
  {
   "cell_type": "code",
   "execution_count": 50,
   "metadata": {},
   "outputs": [
    {
     "name": "stdout",
     "output_type": "stream",
     "text": [
      "torch.Size([1, 79])\n"
     ]
    },
    {
     "data": {
      "text/plain": [
       "torch.Size([9, 9, 1, 79, 50259])"
      ]
     },
     "execution_count": 50,
     "metadata": {},
     "output_type": "execute_result"
    }
   ],
   "source": [
    "text1 = \"[BEGIN] So far, we've developed a theoretical model for understanding two-layer attention-only models. We have an overall equation describing the logits (the OV circuit), and then an equation describing how each attention head's attention pattern is computed (the QK circuit). But how do we understand them in practice? In this section, we'll reverse engineer a single two-layer model.\"\n",
    "input_ids = tokenizer(text1, return_tensors=\"pt\").input_ids\n",
    "print(input_ids.shape)\n",
    "\n",
    "alc = mgpt.all_logit_contributions(input_ids)\n",
    "alc.shape\n"
   ]
  },
  {
   "cell_type": "code",
   "execution_count": 70,
   "metadata": {},
   "outputs": [
    {
     "name": "stdout",
     "output_type": "stream",
     "text": [
      "Predicting the next token after the following prefix (should be ' how')\n",
      "[BEGIN] So far, we've developed a theoretical model for understanding two-layer attention-only models. We have an overall equation describing the logits (the OV circuit), and then an equation describing\n",
      "torch.Size([9, 9, 10])\n"
     ]
    },
    {
     "data": {
      "image/png": "[encoded data removed]",
      "text/plain": [
       "<Figure size 864x432 with 10 Axes>"
      ]
     },
     "metadata": {
      "needs_background": "light"
     },
     "output_type": "display_data"
    }
   ],
   "source": [
    "def show_pred_logit_paths(model, text, target_idx, k=10):\n",
    "    input_ids = tokenizer(text, return_tensors=\"pt\").input_ids\n",
    "\n",
    "    alc = model.all_logit_contributions(input_ids).detach()\n",
    "    target_id = input_ids[0, target_idx].item()\n",
    "    target_word = tokenizer.decode(target_id)\n",
    "    prefix = tokenizer.decode(input_ids[0, :target_idx])\n",
    "\n",
    "    print(f\"Predicting the next token after the following prefix (should be {repr(target_word)})\")\n",
    "    print(prefix)\n",
    "\n",
    "    logits = einops.reduce(alc, \"... 1 seq_len vocab_size -> seq_len vocab_size\", reduction=\"sum\")\n",
    "\n",
    "    target_logits = logits[target_idx]\n",
    "    target_probs = t.softmax(target_logits, dim=0)\n",
    "    top_pred_ids = t.topk(target_logits, k=k).indices\n",
    "\n",
    "    fig = plt.figure(figsize=(12, 6))\n",
    "    fig.suptitle(\"Rows = 1st_lyr_idx; Cols = 2nd_lyr_idx\")\n",
    "\n",
    "    alc_norm = alc - alc.mean(dim=-1, keepdim=True)\n",
    "\n",
    "    matrices = alc_norm[:, :, 0, target_idx, top_pred_ids]\n",
    "    print(matrices.shape)\n",
    "    vmin, vmax = matrices.min(), matrices.max()\n",
    "\n",
    "    for i, pred_id in enumerate(top_pred_ids):\n",
    "        ax = plt.subplot(2, k // 2, i + 1)\n",
    "\n",
    "        # rows: first layer index\n",
    "        # cols: second layer index\n",
    "        ax.matshow(matrices[:, :, i], vmin=vmin, vmax=vmax);\n",
    "        ax.set_title(f\"{repr(tokenizer.decode(pred_id))} {target_probs[pred_id]:.1%}\")\n",
    "\n",
    "        row_len = k // 2\n",
    "        row = i // row_len\n",
    "        col = i % row_len\n",
    "        if col == 0:\n",
    "            ax.set_yticks(range(9))\n",
    "            ax.set_yticklabels([\"res\"] + [f\"0.{h}\" for h in range(8)])\n",
    "        else:\n",
    "            ax.set_yticks([])\n",
    "        \n",
    "        if row == 0:\n",
    "            ax.set_xticks(range(9))\n",
    "            ax.set_xticklabels([\"res\"] + [f\"1.{h}\" for h in range(8)], rotation=60)\n",
    "        else:\n",
    "            ax.set_xticks([])\n",
    "    \n",
    "    plt.tight_layout()\n",
    "\n",
    "show_pred_logit_paths(mgpt, text1, 40)\n"
   ]
  },
  {
   "cell_type": "code",
   "execution_count": 103,
   "metadata": {},
   "outputs": [
    {
     "name": "stdout",
     "output_type": "stream",
     "text": [
      "Predicting the next token after the following prefix (should be 'layer')\n",
      "[BEGIN] So far, we've developed a theoretical model for understanding two-layer attention-only models. We have an overall equation describing the logits (the OV circuit), and then an equation describing how each attention head's attention pattern is computed (the QK circuit). But how do we understand them in practice? In this section, we'll reverse engineer a single two-\n",
      "tensor([[-5.3075e-01,         nan,         nan,         nan,         nan,\n",
      "                 nan,         nan,         nan],\n",
      "        [-1.1701e-03, -1.7325e-01,  8.3924e-02, -2.5813e-01, -4.9117e-01,\n",
      "         -1.7945e-01,  1.6225e-01, -2.4219e-01],\n",
      "        [-3.3441e-02,  1.1476e-01,  2.8544e-01,  1.9236e-01,  1.5320e+00,\n",
      "         -2.1430e-01,  1.7800e+00,  8.2053e-02]])\n"
     ]
    },
    {
     "data": {
      "image/png": "[encoded data removed]",
      "text/plain": [
       "<Figure size 864x360 with 10 Axes>"
      ]
     },
     "metadata": {
      "needs_background": "light"
     },
     "output_type": "display_data"
    }
   ],
   "source": [
    "def show_pred_logit_paths_v2(model, text, target_idx, k=10):\n",
    "    input_ids = tokenizer(text, return_tensors=\"pt\").input_ids\n",
    "    target_id = input_ids[0, target_idx].item()\n",
    "    target_word = tokenizer.decode(target_id)\n",
    "    prefix = tokenizer.decode(input_ids[0, :target_idx])\n",
    "\n",
    "    print(\n",
    "        f\"Predicting the next token after the following prefix (should be {repr(target_word)})\"\n",
    "    )\n",
    "    print(prefix)\n",
    "\n",
    "    all_contrib = model.all_logit_contributions(input_ids).detach()\n",
    "    target_contrib = all_contrib[:, :, 0, target_idx - 1]\n",
    "    assert len(target_contrib.shape) == len((\"lyr1\", \"lyr2\", \"vocab_size\"))\n",
    "\n",
    "    res_contrib = target_contrib[0, 0]\n",
    "    l1_contrib = target_contrib[1:, 0]\n",
    "    l2_contrib = target_contrib[:, 1:].sum(dim=0)\n",
    "\n",
    "    target_logits = einops.reduce(\n",
    "        target_contrib, \"... vocab_size -> vocab_size\", reduction=\"sum\"\n",
    "    )\n",
    "    target_probs = t.softmax(target_logits, dim=0)\n",
    "    top_pred_ids = t.topk(target_logits, k=k).indices\n",
    "    top_pred_ids[-1] = target_id\n",
    "\n",
    "    num_heads = l1_contrib.shape[0]\n",
    "    mats_to_show = t.full((3, num_heads, k), fill_value=t.nan)\n",
    "    mats_to_show[0, 0] = res_contrib[top_pred_ids]\n",
    "    mats_to_show[1] = l1_contrib[:, top_pred_ids]\n",
    "    mats_to_show[2] = l2_contrib[:, top_pred_ids]\n",
    "    mats_to_show -= mats_to_show.mean(dim=-1, keepdim=True)\n",
    "    print(mats_to_show[:, :, -1])\n",
    "\n",
    "    vabsmax = mats_to_show[~t.isnan(mats_to_show)].abs().max()\n",
    "    # vmin = mats_to_show[~t.isnan(mats_to_show)].min()\n",
    "    # vmax = mats_to_show[~t.isnan(mats_to_show)].max()\n",
    "\n",
    "    fig.suptitle(\"Rows = 1st_lyr_idx; Cols = 2nd_lyr_idx\")\n",
    "    for i, pred_id in enumerate(top_pred_ids):\n",
    "        ax = plt.subplot(2, k // 2, i + 1)\n",
    "\n",
    "        # rows: first layer index\n",
    "        # cols: second layer index\n",
    "        cmap = plt.cm.get_cmap(\"bwr\").copy()\n",
    "        cmap.set_bad(color='white')\n",
    "        ax.matshow(mats_to_show[:, :, i], vmin=-vabsmax, vmax=vabsmax, cmap=cmap)\n",
    "        ax.set_title(f\"{repr(tokenizer.decode(pred_id))} {target_probs[pred_id]:.1%}\")\n",
    "\n",
    "        row_len = k // 2\n",
    "        row = i // row_len\n",
    "        col = i % row_len\n",
    "        if col == 0:\n",
    "            ax.set_yticks(range(3))\n",
    "            ax.set_yticklabels([\"res\", \"l0\", \"l1\"])\n",
    "        else:\n",
    "            ax.set_yticks([])\n",
    "\n",
    "        # if row == 0:\n",
    "        #     ax.set_xticks(range(9))\n",
    "        #     ax.set_xticklabels([\"res\"] + [f\"1.{h}\" for h in range(8)], rotation=60)\n",
    "        # else:\n",
    "        #     ax.set_xticks([])\n",
    "\n",
    "    plt.tight_layout()\n",
    "\n",
    "fig = plt.figure(figsize=(12, 5))\n",
    "show_pred_logit_paths_v2(mgpt, text1, 76)\n"
   ]
  },
  {
   "cell_type": "markdown",
   "metadata": {},
   "source": [
    "### GPT2"
   ]
  },
  {
   "cell_type": "code",
   "execution_count": 127,
   "metadata": {},
   "outputs": [],
   "source": [
    "gpt2 = gpt_mod.load_weights(gpt_mod.GPT2)\n",
    "gpt_tokenizer = GPT2TokenizerFast.from_pretrained('gpt2')"
   ]
  },
  {
   "cell_type": "code",
   "execution_count": 137,
   "metadata": {},
   "outputs": [
    {
     "name": "stdout",
     "output_type": "stream",
     "text": [
      "torch.Size([1, 82, 768])\n",
      "12\n",
      "torch.Size([1, 14, 82, 768])\n",
      "All hooks removed!\n"
     ]
    }
   ],
   "source": [
    "res_embedding = None\n",
    "head_embeddings = []\n",
    "\n",
    "\n",
    "def he_hook(\n",
    "    block: gpt_mod.GPT2Block,\n",
    "    inputs: tuple[t.Tensor],\n",
    "    outputs: t.Tensor,\n",
    "):\n",
    "    _, out_headwise = block.forward(inputs[0], return_headwise=True)\n",
    "    head_embeddings.append(out_headwise)\n",
    "\n",
    "\n",
    "with HookHandler() as hh:\n",
    "    def foo(_, inputs, __):\n",
    "        global res_embedding\n",
    "        res_embedding = inputs[0]\n",
    "    hh.add_hook(gpt2.blocks[0], foo)\n",
    "\n",
    "    for block in gpt2.blocks:\n",
    "        hh.add_hook(block, he_hook)\n",
    "\n",
    "    input_ids = gpt_tokenizer.encode(text1, return_tensors=\"pt\")\n",
    "    gpt2(input_ids)\n",
    "\n",
    "    print(res_embedding.shape)\n",
    "    print(len(head_embeddings))\n",
    "    print(head_embeddings[0].shape)\n"
   ]
  },
  {
   "cell_type": "code",
   "execution_count": 133,
   "metadata": {},
   "outputs": [
    {
     "ename": "TypeError",
     "evalue": "forward() got an unexpected keyword argument 'output_hidden_states'",
     "output_type": "error",
     "traceback": [
      "\u001b[0;31m---------------------------------------------------------------------------\u001b[0m",
      "\u001b[0;31mTypeError\u001b[0m                                 Traceback (most recent call last)",
      "Input \u001b[0;32mIn [133]\u001b[0m, in \u001b[0;36m<module>\u001b[0;34m\u001b[0m\n\u001b[0;32m----> 1\u001b[0m out \u001b[38;5;241m=\u001b[39m \u001b[43mgpt2\u001b[49m\u001b[43m(\u001b[49m\u001b[43mgpt_tokenizer\u001b[49m\u001b[38;5;241;43m.\u001b[39;49m\u001b[43mencode\u001b[49m\u001b[43m(\u001b[49m\u001b[43mtext1\u001b[49m\u001b[43m,\u001b[49m\u001b[43m \u001b[49m\u001b[43mreturn_tensors\u001b[49m\u001b[38;5;241;43m=\u001b[39;49m\u001b[38;5;124;43m'\u001b[39;49m\u001b[38;5;124;43mpt\u001b[39;49m\u001b[38;5;124;43m'\u001b[39;49m\u001b[43m)\u001b[49m\u001b[43m,\u001b[49m\u001b[43m \u001b[49m\u001b[43moutput_hidden_states\u001b[49m\u001b[38;5;241;43m=\u001b[39;49m\u001b[38;5;28;43;01mTrue\u001b[39;49;00m\u001b[43m)\u001b[49m\n\u001b[1;32m      2\u001b[0m \u001b[38;5;28mlen\u001b[39m(out\u001b[38;5;241m.\u001b[39mhidden_states), out\u001b[38;5;241m.\u001b[39mhidden_states[\u001b[38;5;241m0\u001b[39m]\u001b[38;5;241m.\u001b[39mshape\n",
      "File \u001b[0;32m~/miniconda3/envs/interp/lib/python3.9/site-packages/torch/nn/modules/module.py:1102\u001b[0m, in \u001b[0;36mModule._call_impl\u001b[0;34m(self, *input, **kwargs)\u001b[0m\n\u001b[1;32m   1098\u001b[0m \u001b[38;5;66;03m# If we don't have any hooks, we want to skip the rest of the logic in\u001b[39;00m\n\u001b[1;32m   1099\u001b[0m \u001b[38;5;66;03m# this function, and just call forward.\u001b[39;00m\n\u001b[1;32m   1100\u001b[0m \u001b[38;5;28;01mif\u001b[39;00m \u001b[38;5;129;01mnot\u001b[39;00m (\u001b[38;5;28mself\u001b[39m\u001b[38;5;241m.\u001b[39m_backward_hooks \u001b[38;5;129;01mor\u001b[39;00m \u001b[38;5;28mself\u001b[39m\u001b[38;5;241m.\u001b[39m_forward_hooks \u001b[38;5;129;01mor\u001b[39;00m \u001b[38;5;28mself\u001b[39m\u001b[38;5;241m.\u001b[39m_forward_pre_hooks \u001b[38;5;129;01mor\u001b[39;00m _global_backward_hooks\n\u001b[1;32m   1101\u001b[0m         \u001b[38;5;129;01mor\u001b[39;00m _global_forward_hooks \u001b[38;5;129;01mor\u001b[39;00m _global_forward_pre_hooks):\n\u001b[0;32m-> 1102\u001b[0m     \u001b[38;5;28;01mreturn\u001b[39;00m \u001b[43mforward_call\u001b[49m\u001b[43m(\u001b[49m\u001b[38;5;241;43m*\u001b[39;49m\u001b[38;5;28;43minput\u001b[39;49m\u001b[43m,\u001b[49m\u001b[43m \u001b[49m\u001b[38;5;241;43m*\u001b[39;49m\u001b[38;5;241;43m*\u001b[39;49m\u001b[43mkwargs\u001b[49m\u001b[43m)\u001b[49m\n\u001b[1;32m   1103\u001b[0m \u001b[38;5;66;03m# Do not call functions when jit is used\u001b[39;00m\n\u001b[1;32m   1104\u001b[0m full_backward_hooks, non_full_backward_hooks \u001b[38;5;241m=\u001b[39m [], []\n",
      "\u001b[0;31mTypeError\u001b[0m: forward() got an unexpected keyword argument 'output_hidden_states'"
     ]
    }
   ],
   "source": [
    "out = gpt2(gpt_tokenizer.encode(text1, return_tensors='pt'), output_hidden_states=True)\n",
    "len(out.hidden_states), out.hidden_states[0].shape"
   ]
  },
  {
   "cell_type": "code",
   "execution_count": 117,
   "metadata": {},
   "outputs": [
    {
     "data": {
      "text/plain": [
       "Parameter containing:\n",
       "tensor([1.3971e+00, 1.3750e+00, 1.8870e+00, 1.1688e+00, 1.2724e+00, 1.2508e+00,\n",
       "        9.4198e+00, 1.4371e+00, 1.4527e+00, 1.1856e+00, 1.3945e+00, 1.2796e+00,\n",
       "        1.2071e+00, 1.2951e+00, 1.2776e+00, 1.3480e+00, 1.5088e+00, 1.3729e+00,\n",
       "        1.3427e+00, 2.3761e+00, 1.1377e+00, 1.2909e+00, 1.3477e+00, 1.4775e+00,\n",
       "        1.2540e+00, 1.1999e+00, 1.4932e+00, 1.1637e+00, 1.2590e+00, 1.2305e+00,\n",
       "        1.1833e+00, 1.1914e+00, 1.2228e+00, 1.2792e+00, 1.3294e+00, 1.6213e+00,\n",
       "        1.3804e+01, 1.1871e+00, 1.2235e+00, 1.4578e+00, 1.1687e+00, 1.3164e+00,\n",
       "        1.1444e+00, 1.2628e+00, 1.4781e+00, 1.2426e+00, 1.1744e+00, 1.1602e+00,\n",
       "        1.3637e+00, 2.1280e+00, 1.2371e+00, 1.2336e+00, 1.7410e+00, 1.1568e+00,\n",
       "        1.3303e+00, 1.8593e+00, 1.2932e+00, 1.3320e+00, 1.2148e+00, 1.5415e+00,\n",
       "        1.3781e+00, 1.2070e+00, 1.4030e+00, 1.5724e+00, 7.6159e-03, 1.1836e+00,\n",
       "        1.2148e+00, 1.2604e+00, 1.8500e+00, 1.1540e+00, 1.2933e+00, 1.1572e+00,\n",
       "        1.2341e+00, 1.1055e+00, 1.1680e+00, 1.3321e+00, 1.3856e+00, 3.6001e+00,\n",
       "        1.6204e+00, 1.1333e+00, 1.4368e+00, 1.1365e+00, 1.2749e+00, 1.5402e+00,\n",
       "        9.2773e-01, 1.5039e+00, 2.5029e+00, 4.4275e-03, 1.0613e+00, 1.3566e+00,\n",
       "        1.2504e+00, 1.1983e+00, 1.4295e+00, 1.2386e+00, 1.1792e+00, 1.1883e+00,\n",
       "        1.4453e+00, 1.4384e+00, 1.2305e+00, 1.3109e+00, 1.2305e+00, 1.1997e+00,\n",
       "        3.1531e+00, 1.3615e+00, 1.1858e+00, 1.2148e+00, 1.2228e+00, 8.9936e+00,\n",
       "        1.0824e+00, 1.2424e+00, 1.4070e+00, 1.2314e+00, 1.2359e+00, 1.2810e+00,\n",
       "        1.3169e+00, 1.1992e+00, 1.4846e+00, 1.3867e+00, 1.2227e+00, 1.2774e+00,\n",
       "        1.1955e+00, 1.2539e+00, 1.3414e+00, 1.2502e+00, 1.2220e+00, 1.2655e+00,\n",
       "        1.1805e+00, 1.2932e+00, 1.6978e+00, 1.3635e+00, 1.2106e+00, 1.1450e+00,\n",
       "        1.4414e+00, 1.0931e+00, 1.1859e+00, 1.2156e+00, 1.1804e+00, 1.5686e+00,\n",
       "        8.6240e-02, 1.8252e+00, 1.1971e+00, 1.1500e+00, 3.3033e+00, 1.1137e+00,\n",
       "        1.1841e+00, 1.8482e+00, 1.3211e+00, 1.1996e+00, 1.1784e+00, 1.4120e+00,\n",
       "        1.2726e+00, 1.5131e+00, 1.4775e+00, 1.5084e+00, 1.4086e+00, 1.3018e+00,\n",
       "        1.2469e+00, 1.2008e+00, 1.0666e+00, 1.0909e+00, 3.0489e+00, 1.2242e+00,\n",
       "        1.2333e+00, 1.2970e+00, 1.2137e+00, 1.3484e+00, 1.2782e+00, 4.0765e+00,\n",
       "        1.2149e+00, 1.3308e+00, 1.2631e+00, 1.1915e+00, 1.1758e+00, 1.4181e+00,\n",
       "        1.4744e+00, 1.5844e+00, 2.1523e+00, 1.1229e+00, 1.4097e+00, 1.1849e+00,\n",
       "        1.2051e+00, 1.2154e+00, 1.2320e+00, 1.3685e+00, 1.1289e+00, 1.2304e+00,\n",
       "        1.1187e+00, 1.3789e+00, 1.2056e+00, 1.3168e+00, 1.2865e+00, 1.3707e+00,\n",
       "        1.2933e+00, 1.2151e+00, 1.1296e+00, 1.8137e+00, 1.2315e+00, 1.2476e+00,\n",
       "        1.2515e+00, 1.6609e+00, 1.4583e+00, 1.4180e+00, 1.2085e+00, 1.2292e+00,\n",
       "        1.0586e+00, 1.2148e+00, 1.1842e+00, 1.0864e+00, 1.3871e+00, 1.2393e+00,\n",
       "        1.2228e+00, 1.5026e+00, 1.3742e+00, 2.4785e+00, 1.2004e+00, 1.1891e+00,\n",
       "        1.4659e+00, 1.1916e+00, 1.0978e+00, 1.2148e+00, 1.1180e+00, 1.1934e+00,\n",
       "        1.1934e+00, 1.2339e+00, 1.6256e+00, 1.2190e+00, 1.2476e+00, 1.1685e+00,\n",
       "        1.2186e+00, 1.2413e+00, 1.1367e+00, 1.3399e+00, 3.4147e+00, 1.0761e+00,\n",
       "        1.1924e+00, 1.3913e+00, 1.1215e+00, 1.1398e+00, 1.3053e+00, 1.2300e+00,\n",
       "        1.4287e+00, 1.5445e+00, 1.2461e+00, 1.1179e+00, 1.0352e+00, 1.2579e+00,\n",
       "        1.1846e+00, 1.6518e+00, 1.2148e+00, 1.5199e+00, 2.3705e+00, 1.4342e+00,\n",
       "        1.2745e+00, 1.4321e+00, 1.3017e+00, 1.5673e+00, 1.4878e+00, 1.1600e+00,\n",
       "        1.2305e+00, 1.4492e+00, 1.2450e+00, 1.6015e+00, 1.2074e+00, 1.2931e+00,\n",
       "        1.0899e+00, 1.2818e+00, 6.8271e-03, 1.3498e+00, 1.3882e+00, 1.6141e+00,\n",
       "        2.2603e+00, 4.3566e+00, 1.2119e+00, 1.0664e+00, 1.5068e+00, 1.2935e+00,\n",
       "        1.7190e+00, 1.2120e+00, 1.1749e+00, 1.2177e+00, 1.2027e+00, 1.1525e+00,\n",
       "        1.4620e+00, 1.4274e+00, 1.0562e+00, 1.4126e+00, 1.3862e+00, 1.1511e+00,\n",
       "        1.2874e+00, 2.0521e+00, 1.4653e+00, 1.2819e+00, 1.2038e+00, 1.1852e+00,\n",
       "        1.4243e+00, 1.2345e+00, 1.0954e+00, 1.1217e+00, 1.1998e+00, 1.2631e+00,\n",
       "        1.8584e+00, 1.1845e+00, 1.4605e+00, 1.2383e+00, 1.2808e+00, 1.0243e+00,\n",
       "        1.2522e+00, 1.1446e+00, 3.1141e+00, 1.2562e+00, 1.1038e+00, 2.2026e+00,\n",
       "        1.2352e+00, 1.2740e+00, 1.5308e+01, 1.3327e+00, 1.2991e+00, 1.2305e+00,\n",
       "        1.2227e+00, 1.3008e+00, 2.4603e+00, 1.2306e+00, 1.1791e+00, 1.2395e+00,\n",
       "        1.3017e+00, 1.2238e+00, 9.8373e-01, 1.1771e+00, 1.3761e+00, 1.1659e+00,\n",
       "        1.1485e+00, 1.1823e+00, 1.2148e+00, 1.1784e+00, 1.0820e+00, 1.3048e+00,\n",
       "        1.4846e+00, 1.1753e+00, 1.2101e+00, 1.3441e+00, 1.1446e+00, 1.1445e+00,\n",
       "        1.1766e+00, 1.4649e+00, 1.4105e+00, 1.0483e+00, 1.2181e+00, 1.2429e+00,\n",
       "        1.2293e+00, 1.2272e+00, 1.2309e+00, 1.9298e+00, 1.2051e+00, 1.3829e+00,\n",
       "        1.2752e+00, 1.2049e+00, 1.9575e+00, 1.2054e+00, 1.0039e+00, 1.1939e+00,\n",
       "        1.3718e+00, 2.8912e+00, 2.1898e+00, 1.1977e+00, 1.0975e+00, 3.9985e+00,\n",
       "        1.2511e+00, 1.0346e+00, 1.1375e+00, 1.1822e+00, 1.4023e+00, 1.1227e+00,\n",
       "        1.2915e+00, 3.5039e-02, 1.2217e+01, 1.4350e+00, 1.4025e+00, 2.3862e+00,\n",
       "        8.5499e-01, 1.3179e+00, 1.2637e+00, 1.2388e+00, 1.0809e+00, 1.5234e+00,\n",
       "        1.4024e+00, 1.2991e+00, 1.5354e+00, 1.1690e+00, 1.2194e+00, 2.6955e+00,\n",
       "        1.2617e+00, 1.2485e+00, 1.3482e+00, 6.9770e-01, 1.4888e+00, 1.0986e+00,\n",
       "        1.6696e+00, 1.1986e+00, 1.1655e+00, 1.1134e+00, 1.0508e+00, 1.2227e+00,\n",
       "        2.3545e+00, 1.2345e+00, 1.0825e+00, 1.2153e+00, 1.2073e+00, 1.0666e+00,\n",
       "        4.3418e+00, 1.1837e+00, 1.2441e+00, 1.2461e+00, 1.2586e+00, 1.2292e+00,\n",
       "        1.4278e+00, 1.4742e+00, 1.2469e+00, 1.5043e+00, 1.4920e+00, 1.0824e+00,\n",
       "        1.9560e+00, 1.4904e+00, 1.2004e+00, 1.1992e+00, 1.1798e+00, 1.0748e+00,\n",
       "        1.1701e+00, 1.1871e+00, 1.2570e+00, 1.2104e+00, 1.6994e+01, 1.2695e+00,\n",
       "        1.2397e+00, 1.2462e+00, 1.1837e+00, 1.4884e+00, 1.2487e+00, 1.2075e+00,\n",
       "        1.4805e+00, 2.7156e+00, 1.2308e+00, 1.1758e+00, 1.2199e+01, 1.2564e+00,\n",
       "        1.3756e+00, 1.2305e+00, 1.2151e+00, 3.5184e-02, 1.2539e+00, 1.2619e+00,\n",
       "        1.3423e+00, 1.2802e+00, 1.1453e+00, 1.8877e+00, 1.3793e+00, 2.7507e+00,\n",
       "        1.7741e+00, 1.3170e+00, 1.2972e+00, 1.6555e+00, 1.3009e+00, 1.3419e+00,\n",
       "        1.1063e+00, 1.2773e+00, 9.6680e-01, 1.2736e+00, 1.2227e+00, 1.2159e+00,\n",
       "        1.3187e+00, 1.1759e+00, 1.0922e+00, 1.1300e+00, 1.2853e+00, 1.2227e+00,\n",
       "        1.1478e+00, 1.3477e+00, 1.0232e+00, 1.1962e+00, 1.1798e+00, 7.3442e+00,\n",
       "        5.5998e-03, 4.2853e-02, 1.1763e+00, 1.2247e+00, 1.4425e+00, 1.2482e+00,\n",
       "        1.1936e+00, 1.1623e+00, 1.5431e+00, 1.2553e+00, 1.2461e+00, 1.4025e+00,\n",
       "        1.0510e+00, 1.1926e+00, 1.1642e+00, 1.1370e+00, 1.7419e+01, 1.7540e+00,\n",
       "        1.2953e+00, 1.1212e+00, 1.2787e+00, 1.1915e+00, 1.4268e+00, 4.1753e+00,\n",
       "        1.4481e+00, 1.1768e+00, 1.1994e+00, 1.2464e+00, 1.4068e+00, 1.2426e+00,\n",
       "        1.0352e+00, 2.2258e+00, 1.7040e+00, 1.2463e+00, 1.3851e+00, 1.4013e+00,\n",
       "        1.1661e+00, 1.3970e+00, 1.3403e+00, 1.2852e+00, 1.1684e+00, 1.2515e+00,\n",
       "        1.2318e+00, 1.2731e+00, 1.1832e+00, 2.3393e+00, 2.0250e+00, 2.1031e+00,\n",
       "        1.9473e+00, 1.0853e+00, 1.0114e+00, 1.2650e+00, 1.2014e+00, 1.0996e+00,\n",
       "        1.2435e+00, 1.3647e+00, 1.1999e+00, 1.3419e+00, 1.4270e+00, 1.2332e+00,\n",
       "        2.2816e+00, 1.2234e+00, 1.1839e+00, 2.4615e+00, 1.2603e+00, 1.3412e+00,\n",
       "        1.2818e+00, 1.1999e+00, 1.4258e+00, 1.1138e+00, 1.1914e+00, 2.0622e+00,\n",
       "        1.1712e+00, 1.3323e+00, 2.9923e+00, 1.2178e+00, 1.2220e+00, 1.2960e+00,\n",
       "        1.2466e+00, 1.4102e+00, 1.3290e+00, 1.2458e+00, 1.1273e+00, 1.1836e+00,\n",
       "        1.2652e+00, 1.2907e+00, 1.9197e+00, 1.1735e+00, 1.4725e+00, 1.4414e+00,\n",
       "        1.1830e+00, 1.3088e+00, 1.1055e+00, 1.0831e+00, 1.2468e+00, 1.3466e+00,\n",
       "        1.1992e+00, 1.2368e+00, 1.4933e+00, 1.1602e+00, 1.2542e+00, 1.3133e+00,\n",
       "        1.4812e+00, 1.2707e+00, 1.2185e+00, 1.2779e+00, 1.2339e+00, 1.4316e+00,\n",
       "        1.6659e+00, 1.2227e+00, 1.2312e+00, 1.2383e+00, 1.2305e+00, 1.4299e+00,\n",
       "        1.0813e+00, 1.2005e+00, 1.2228e+00, 1.2314e+00, 1.2383e+00, 1.2539e+00,\n",
       "        1.3949e+00, 1.3330e+00, 1.0798e+00, 1.2699e+00, 1.2942e+00, 1.2252e+00,\n",
       "        1.3091e+00, 1.2312e+00, 1.8579e+00, 1.2031e+00, 1.3398e+00, 1.3956e+00,\n",
       "        1.2026e+00, 1.1759e+00, 1.1842e+00, 1.1479e+00, 1.2016e+00, 1.2587e+00,\n",
       "        1.1211e+00, 1.3564e+00, 1.0669e+00, 1.2955e+00, 1.5078e+00, 2.3227e+00,\n",
       "        1.3065e+00, 1.1133e+00, 1.1542e+00, 6.1745e+00, 1.2328e+00, 1.2865e+00,\n",
       "        1.2617e+00, 1.2497e+00, 1.1554e+00, 1.1533e+00, 1.2032e+00, 2.2578e+00,\n",
       "        1.1680e+00, 1.0742e+00, 1.2881e+00, 1.2808e+00, 1.3027e+00, 1.1446e+00,\n",
       "        1.2920e+00, 1.5471e+00, 1.4432e+00, 1.2617e+00, 1.1531e+00, 1.5527e+00,\n",
       "        1.1369e+00, 1.5745e+00, 1.2476e+00, 1.4768e+00, 1.3202e+00, 1.2254e+00,\n",
       "        1.2874e+00, 2.2262e+00, 1.2796e+00, 1.3802e+00, 1.1289e+00, 1.4846e+00,\n",
       "        1.1908e+00, 1.3086e+00, 1.1986e+00, 1.1980e+00, 1.2156e+00, 1.6095e+00,\n",
       "        1.3010e+00, 1.4810e+00, 2.0002e+00, 1.0530e+00, 2.1401e+00, 1.1956e+00,\n",
       "        1.0898e+00, 1.1557e+00, 1.6530e+00, 1.1836e+00, 1.1818e+00, 1.1835e+00,\n",
       "        1.3206e+00, 3.3972e+00, 1.3472e+00, 1.2540e+00, 1.2671e+00, 1.2726e+00,\n",
       "        1.1836e+00, 1.4586e+00, 1.2540e+00, 1.1450e+00, 1.3078e+00, 1.1806e+00,\n",
       "        1.2149e+00, 1.2552e+00, 1.1542e+00, 1.1541e+00, 1.2383e+00, 1.3058e+00,\n",
       "        1.0963e+00, 1.1029e+00, 1.3066e+00, 1.7412e+00, 1.0508e+00, 1.5009e+00,\n",
       "        1.3564e+00, 1.0530e+01, 1.1796e+00, 1.1801e+00, 1.8887e+00, 1.4579e+00,\n",
       "        1.1528e+00, 6.6027e-01, 1.3696e+00, 1.0898e+00, 1.2464e+00, 1.2540e+00,\n",
       "        1.1379e+00, 1.3102e+00, 1.1453e+00, 1.2852e+00, 1.8692e+00, 1.1606e+00,\n",
       "        2.4319e+00, 1.4304e+00, 1.2322e+00, 1.2283e+00, 2.8226e+00, 1.3143e+00,\n",
       "        1.5046e+00, 1.3252e+00, 1.3366e+00, 1.1009e+00, 1.2071e+00, 1.3483e+00,\n",
       "        1.2312e+00, 1.3353e+00, 1.2706e+00, 1.2247e+00, 1.1510e+00, 1.1626e+00,\n",
       "        1.4471e+00, 1.8308e+00, 1.3415e+00, 1.1664e+00, 1.4809e+00, 1.1465e+00,\n",
       "        1.2681e+00, 2.1403e+00, 1.4574e+00, 1.1446e+00, 1.2617e+00, 1.4746e+00,\n",
       "        1.2107e+00, 1.3090e+00, 1.0051e+00, 1.2245e+00, 1.2793e+00, 1.3636e+00,\n",
       "        1.1871e+00, 1.3660e+00, 1.1758e+00, 1.4514e+00, 1.1525e+00, 1.1731e+00,\n",
       "        4.2194e+00, 1.1660e+00, 1.1625e+00, 1.1034e+00, 1.0980e+00, 1.2070e+00],\n",
       "       requires_grad=True)"
      ]
     },
     "execution_count": 117,
     "metadata": {},
     "output_type": "execute_result"
    }
   ],
   "source": [
    "gpt2.transformer.ln_f.weight"
   ]
  },
  {
   "cell_type": "code",
   "execution_count": null,
   "metadata": {},
   "outputs": [],
   "source": []
  }
 ],
 "metadata": {
  "interpreter": {
   "hash": "33f2ef3ad334a810217b2a14b1cd1bf23c64c43c532b58054dd12ce727e9eaa0"
  },
  "kernelspec": {
   "display_name": "Python 3.9.7 64-bit ('interp': conda)",
   "language": "python",
   "name": "python3"
  },
  "language_info": {
   "codemirror_mode": {
    "name": "ipython",
    "version": 3
   },
   "file_extension": ".py",
   "mimetype": "text/x-python",
   "name": "python",
   "nbconvert_exporter": "python",
   "pygments_lexer": "ipython3",
   "version": "3.9.7"
  },
  "orig_nbformat": 4
 },
 "nbformat": 4,
 "nbformat_minor": 2
}
