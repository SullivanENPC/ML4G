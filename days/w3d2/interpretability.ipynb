{
 "cells": [
  {
   "cell_type": "code",
   "execution_count": null,
   "metadata": {},
   "outputs": [],
   "source": [
    "import json\n",
    "import w3d2_tests\n",
    "import transformers\n",
    "import torch\n",
    "import einops\n",
    "import matplotlib.pyplot as plt\n",
    "\n",
    "model = w3d2_tests.get_minigpt(\"model.pt\")\n",
    "tokenizer = transformers.GPT2Tokenizer.from_pretrained(\"gpt2\")\n",
    "tokenizer._add_tokens([\"[BEGIN]\", \"[END]\"])\n",
    "tokenizer.pad_token = \"[END]\"\n",
    "tokenizer.eos_token = \"[END]\"\n",
    "\n",
    "# 50258 is the pad_token_id\n",
    "# 50257 is the BEGIN token id\n",
    "\n",
    "with open(\"test_tokens_owt_subset.json\") as f:\n",
    "    test_tokens = torch.LongTensor(json.load(f))[:,1:]\n"
   ]
  },
  {
   "cell_type": "code",
   "execution_count": null,
   "metadata": {},
   "outputs": [
    {
     "data": {
      "text/plain": [
       "torch.Size([2048, 512])"
      ]
     },
     "execution_count": 3,
     "metadata": {},
     "output_type": "execute_result"
    }
   ],
   "source": [
    "# batch_size, seq_len\n",
    "test_tokens.shape"
   ]
  },
  {
   "cell_type": "code",
   "execution_count": null,
   "metadata": {},
   "outputs": [
    {
     "name": "stdout",
     "output_type": "stream",
     "text": [
      "{'input_ids': [18927], 'attention_mask': [1]}\n"
     ]
    },
    {
     "data": {
      "text/plain": [
       "'something'"
      ]
     },
     "execution_count": 24,
     "metadata": {},
     "output_type": "execute_result"
    }
   ],
   "source": [
    "print(tokenizer('something'))\n",
    "tokenizer.decode(tokenizer('something')['input_ids'])\n"
   ]
  },
  {
   "cell_type": "code",
   "execution_count": null,
   "metadata": {},
   "outputs": [
    {
     "data": {
      "text/plain": [
       "' Fathom Events and Warner Bros. Entertainment bring the beloved film, The NeverEnding Story back to select cinemas nationwide for a special two-day event on Sunday, September 4 and Wednesday, September 7. The NeverEnding Story tells the story of Bastian (Barret Oliver) who, on his way to school one day, ducks into a bookstore to avoid bullies. Sneaking away with a book called \\\\\\\\\\\\\"The NeverEnding Story,\\\\\\\\\\\\\" Bastian begins reading it in the school attic. The novel is about Fantasia, a fantasy land threatened by \\\\\\\\\\\\\"The Nothing,\\\\\\\\\\\\\" a darkness that destroys everything it touches. The kingdom needs the help of a human child to survive. When Bastian reads a description of himself in the book, he begins to wonder if Fantasia is real and needs him in order to survive. [END] [END] [END] [END] [END] [END] [END] [END] [END] [END] [END] [END] [END] [END] [END] [END] [END] [END] [END] [END] [END] [END] [END] [END] [END] [END] [END] [END] [END] [END] [END] [END] [END] [END] [END] [END] [END] [END] [END] [END] [END] [END] [END] [END] [END] [END] [END] [END] [END] [END] [END] [END] [END] [END] [END] [END] [END] [END] [END] [END] [END] [END] [END] [END] [END] [END] [END] [END] [END] [END] [END] [END] [END] [END] [END] [END] [END] [END] [END] [END] [END] [END] [END] [END] [END] [END] [END] [END] [END] [END] [END] [END] [END] [END] [END] [END] [END] [END] [END] [END] [END] [END] [END] [END] [END] [END] [END] [END] [END] [END] [END] [END] [END] [END] [END] [END] [END] [END] [END] [END] [END] [END] [END] [END] [END] [END] [END] [END] [END] [END] [END] [END] [END] [END] [END] [END] [END] [END] [END] [END] [END] [END] [END] [END] [END] [END] [END] [END] [END] [END] [END] [END] [END] [END] [END] [END] [END] [END] [END] [END] [END] [END] [END] [END] [END] [END] [END] [END] [END] [END] [END] [END] [END] [END] [END] [END] [END] [END] [END] [END] [END] [END] [END] [END] [END] [END] [END] [END] [END] [END] [END] [END] [END] [END] [END] [END] [END] [END] [END] [END] [END] [END] [END] [END] [END] [END] [END] [END] [END] [END] [END] [END] [END] [END] [END] [END] [END] [END] [END] [END] [END] [END] [END] [END] [END] [END] [END] [END] [END] [END] [END] [END] [END] [END] [END] [END] [END] [END] [END] [END] [END] [END] [END] [END] [END] [END] [END] [END] [END] [END] [END] [END] [END] [END] [END] [END] [END] [END] [END] [END] [END] [END] [END] [END] [END] [END] [END] [END] [END] [END] [END] [END] [END] [END] [END] [END] [END] [END] [END] [END] [END] [END] [END] [END] [END] [END] [END] [END] [END] [END] [END] [END] [END] [END] [END] [END] [END] [END] [END] [END] [END] [END] [END] [END] [END] [END] [END] [END] [END] [END] [END] [END] [END] [END] [END] [END] [END] [END] [END] [END] [END] [END] [END] [END] [END] [END] [END] [END] [END] [END] [END] [END] [END] [END] [END] [END] [END] [END] [END]'"
      ]
     },
     "execution_count": 30,
     "metadata": {},
     "output_type": "execute_result"
    }
   ],
   "source": [
    "tokenizer.decode(test_tokens[0])"
   ]
  },
  {
   "cell_type": "code",
   "execution_count": null,
   "metadata": {},
   "outputs": [
    {
     "data": {
      "text/plain": [
       "MiniGPT(\n",
       "  (token_embedding): Embedding(50259, 256)\n",
       "  (pos_embedding): Embedding(512, 256)\n",
       "  (blocks): Sequential(\n",
       "    (0): UniAttention(\n",
       "      (project_qkv): Linear(in_features=256, out_features=768, bias=False)\n",
       "      (project_output): Linear(in_features=256, out_features=256, bias=False)\n",
       "    )\n",
       "    (1): UniAttention(\n",
       "      (project_qkv): Linear(in_features=256, out_features=768, bias=False)\n",
       "      (project_output): Linear(in_features=256, out_features=256, bias=False)\n",
       "    )\n",
       "  )\n",
       ")"
      ]
     },
     "execution_count": 38,
     "metadata": {},
     "output_type": "execute_result"
    }
   ],
   "source": [
    "model"
   ]
  },
  {
   "cell_type": "code",
   "execution_count": 204,
   "metadata": {},
   "outputs": [
    {
     "name": "stdout",
     "output_type": "stream",
     "text": [
      "[[50257, 1135, 3290, 6600, 4771, 8566, 13, 775, 3290, 287, 262, 3952, 13, 775, 3290, 2712, 9669, 13, 775, 3290, 9644, 257, 9283, 13, 775, 3290, 4673, 546, 4572, 4673, 13, 775, 3290, 2111, 284, 14257, 13, 775, 3290, 10416, 13, 775, 3290, 2712, 351, 262, 5874, 7509, 13]]\n",
      " We dog\n",
      "shape: torch.Size([49, 49])\n",
      "mean: tensor(1.3396)\n",
      "var: 41.99254608154297\n",
      "   0.056      0.0      0.0      0.0      0.0      0.0      0.0      0.0      0.0      0.0\n",
      "  -0.031     -2.3      0.0      0.0      0.0      0.0      0.0      0.0      0.0      0.0\n",
      "   -0.32    -0.59     -8.0      0.0      0.0      0.0      0.0      0.0      0.0      0.0\n",
      "   -0.17     -3.5   -0.066      7.9      0.0      0.0      0.0      0.0      0.0      0.0\n",
      "   -0.38     -3.0     -3.8  1.6e+01  1.2e+01      0.0      0.0      0.0      0.0      0.0\n",
      "   -0.44     0.54      2.1      7.5      6.4  1.6e+01      0.0      0.0      0.0      0.0\n",
      "   -0.29      6.5     -5.3     -2.7     -3.5     -3.8     -1.4      0.0      0.0      0.0\n",
      "   0.051    -0.93  2.4e+01     -8.9     -9.1 -1.3e+01    -0.95    -0.68      0.0      0.0\n",
      "   -0.23    -0.17     -8.2  3.3e+01      6.7  1.9e+01      5.1     -0.7     -9.3      0.0\n",
      "    0.13    -0.48      3.5     -6.3      7.3     0.49    -0.88     0.17      3.0     -6.2\n",
      "AxesImage(54,36;334.8x217.44)\n"
     ]
    },
    {
     "data": {
      "image/png": "[encoded data removed]",
      "text/plain": [
       "<Figure size 432x288 with 1 Axes>"
      ]
     },
     "metadata": {
      "needs_background": "light"
     },
     "output_type": "display_data"
    },
    {
     "name": "stdout",
     "output_type": "stream",
     "text": [
      "\n",
      "shape: torch.Size([49, 49])\n",
      "mean: tensor(-0.3108)\n",
      "var: 2.9323997497558594\n",
      "  -0.086      0.0      0.0      0.0      0.0      0.0      0.0      0.0      0.0      0.0\n",
      "     4.9      1.8      0.0      0.0      0.0      0.0      0.0      0.0      0.0      0.0\n",
      "     7.2     -3.5      1.1      0.0      0.0      0.0      0.0      0.0      0.0      0.0\n",
      "     5.5      1.6      2.1      3.6      0.0      0.0      0.0      0.0      0.0      0.0\n",
      "     7.5     -3.2      1.7      1.2      1.4      0.0      0.0      0.0      0.0      0.0\n",
      "     7.1     -1.3      3.1      3.1      3.1      2.2      0.0      0.0      0.0      0.0\n",
      "     1.9      6.5     0.95      1.0     0.91     0.84     0.79      0.0      0.0      0.0\n",
      "     2.8     0.42     -3.5     -1.9     -1.8     -2.0     -2.5     -2.7      0.0      0.0\n",
      "     5.8     -5.1     0.55     0.18    -0.58     -1.1     -1.1     -1.4     -2.1      0.0\n",
      "     3.3      1.2     0.29      1.3      1.9      1.7      1.8      1.9      2.1      2.1\n",
      "AxesImage(54,36;334.8x217.44)\n"
     ]
    },
    {
     "data": {
      "image/png": "[encoded data removed]",
      "text/plain": [
       "<Figure size 432x288 with 1 Axes>"
      ]
     },
     "metadata": {
      "needs_background": "light"
     },
     "output_type": "display_data"
    },
    {
     "name": "stdout",
     "output_type": "stream",
     "text": [
      "\n",
      "shape: torch.Size([49, 49])\n",
      "mean: tensor(-0.4231)\n",
      "var: 1.107300877571106\n",
      "  0.0061      0.0      0.0      0.0      0.0      0.0      0.0      0.0      0.0      0.0\n",
      "  -0.062     -2.7      0.0      0.0      0.0      0.0      0.0      0.0      0.0      0.0\n",
      "   -0.24     -1.2     -1.2      0.0      0.0      0.0      0.0      0.0      0.0      0.0\n",
      "   -0.21    -0.92     -2.1     -1.6      0.0      0.0      0.0      0.0      0.0      0.0\n",
      "   -0.14    -0.19     -1.7     -1.8     -3.8      0.0      0.0      0.0      0.0      0.0\n",
      "   -0.24    -0.37     -1.4     0.56     -2.8    -0.72      0.0      0.0      0.0      0.0\n",
      "   -0.19      0.3     -1.9    -0.56     -3.4     -1.1      1.4      0.0      0.0      0.0\n",
      "    -0.2     0.44     -2.1    -0.92     -2.6     -1.2      1.6    -0.54      0.0      0.0\n",
      "   -0.19     0.29     -2.0    -0.34     -2.9     -1.4      1.2    -0.83     -2.9      0.0\n",
      "   -0.21     0.36     -2.2     -1.3     -2.8     -2.6     0.72    -0.56     -3.0    -0.47\n",
      "AxesImage(54,36;334.8x217.44)\n"
     ]
    },
    {
     "data": {
      "image/png": "[encoded data removed]",
      "text/plain": [
       "<Figure size 432x288 with 1 Axes>"
      ]
     },
     "metadata": {
      "needs_background": "light"
     },
     "output_type": "display_data"
    },
    {
     "name": "stdout",
     "output_type": "stream",
     "text": [
      "\n",
      "shape: torch.Size([49, 49])\n",
      "mean: tensor(-1.0923)\n",
      "var: 18.90360450744629\n",
      "-5.6e+01      0.0      0.0      0.0      0.0      0.0      0.0      0.0      0.0      0.0\n",
      " 2.3e+01     -5.5      0.0      0.0      0.0      0.0      0.0      0.0      0.0      0.0\n",
      " 2.8e+01     -3.9     -4.8      0.0      0.0      0.0      0.0      0.0      0.0      0.0\n",
      " 2.8e+01     -3.8     -4.5     -5.0      0.0      0.0      0.0      0.0      0.0      0.0\n",
      " 2.9e+01     -3.5     -4.3     -4.7     -4.5      0.0      0.0      0.0      0.0      0.0\n",
      " 2.9e+01     -2.5     -3.7     -4.2     -4.1     -3.9      0.0      0.0      0.0      0.0\n",
      " 2.9e+01     -2.7     -3.8     -4.3     -4.2     -4.1     -4.1      0.0      0.0      0.0\n",
      " 2.9e+01     -2.2     -3.5     -4.1     -4.0     -3.9     -3.9     -3.8      0.0      0.0\n",
      " 2.8e+01     -2.2     -3.4     -4.0     -3.9     -3.8     -3.8     -3.7     -3.7      0.0\n",
      " 2.8e+01     -1.4     -3.2     -3.9     -3.7     -3.6     -3.6     -3.5     -3.5     -3.9\n",
      "AxesImage(54,36;334.8x217.44)\n"
     ]
    },
    {
     "data": {
      "image/png": "[encoded data removed]",
      "text/plain": [
       "<Figure size 432x288 with 1 Axes>"
      ]
     },
     "metadata": {
      "needs_background": "light"
     },
     "output_type": "display_data"
    },
    {
     "name": "stdout",
     "output_type": "stream",
     "text": [
      "\n",
      "aggregated\n",
      "shape: torch.Size([49, 49])\n",
      "mean: tensor(-0.4866)\n",
      "var: 63.597373962402344\n",
      "AxesImage(54,36;334.8x217.44)\n"
     ]
    },
    {
     "data": {
      "image/png": "[encoded data removed]",
      "text/plain": [
       "<Figure size 432x288 with 1 Axes>"
      ]
     },
     "metadata": {
      "needs_background": "light"
     },
     "output_type": "display_data"
    }
   ],
   "source": [
    "def compute_attention_terms(sentence):\n",
    "    \"\"\"batch_size seq_len\"\"\"\n",
    "    token_embedding = model.token_embedding(sentence)\n",
    "    \n",
    "    # Get the positions, then index into the position embedding\n",
    "    seq_len = sentence.shape[1]\n",
    "    pos_inds = torch.arange(seq_len).unsqueeze(0)\n",
    "    pos_embedding = model.pos_embedding(pos_inds)\n",
    "    \n",
    "    LAYER = 1\n",
    "    HEAD = 4\n",
    "    \n",
    "    aggregated = 0\n",
    "    \n",
    "    for l in range(LAYER):\n",
    "        token_embedding += model.blocks[l](token_embedding, model.pos_embedding)\n",
    "    \n",
    "    for query_embedding in (token_embedding, pos_embedding):\n",
    "        for key_embedding in (token_embedding, pos_embedding):\n",
    "            query = model.blocks[LAYER].project_qkv(query_embedding)[:, :, :256]\n",
    "            key = model.blocks[LAYER].project_qkv(key_embedding)[:, :, 256:512]\n",
    "\n",
    "            # reshape\n",
    "            num_heads = 8\n",
    "            query = einops.rearrange(query, 'batch seq_len (num_heads head_size) -> batch num_heads seq_len head_size', num_heads=num_heads)\n",
    "            key = einops.rearrange(key, 'batch seq_len (num_heads head_size) -> batch num_heads seq_len head_size', num_heads=num_heads)\n",
    "            \n",
    "            # Extract the desired Q and K matrices\n",
    "            # Each matrix: seq_len, hidden size\n",
    "            result = torch.einsum('b h q c, b h k c -> b h q k', query, key)\n",
    "            # Want to get embedding1 in Q space, and embedding2 in K space\n",
    "            \n",
    "            result = result[0][HEAD] # head 0\n",
    "            result = torch.tril(result)\n",
    "\n",
    "            print('shape:', result.shape)\n",
    "            print('mean:', torch.mean(result).detach())\n",
    "            # Compute variance across token pairs\n",
    "            print('var:', torch.var(result, unbiased=False).detach().item())\n",
    "            \n",
    "            \n",
    "            \n",
    "            for y in range(10):\n",
    "                l = []\n",
    "                for x in range(10):\n",
    "                    l.append(f'{result[y, x].item():8.2}')\n",
    "                print(' '.join(l))\n",
    "            print(plt.imshow(torch.nn.Softmax(dim=-1)(result)[:10,:10].detach()))\n",
    "            plt.show()\n",
    "            \n",
    "            print()\n",
    "            aggregated += result\n",
    "    print('aggregated')\n",
    "    print('shape:', aggregated.shape)\n",
    "    print('mean:', torch.mean(aggregated).detach())\n",
    "    # Compute variance across token pairs\n",
    "    print('var:', torch.var(aggregated, unbiased=False).detach().item())\n",
    "    print(plt.imshow(torch.nn.Softmax(dim=-1)(aggregated)[:10,:10].detach()))\n",
    "    plt.show()\n",
    "    \n",
    "    # Compute variance across sentences (i.e. across the batch)\n",
    "    \n",
    "sentences = ['''[BEGIN] We dog eating ice cream. We dog in the park. We dog playing basketball. We dog throwing a baseball. We dog learning about machine learning. We dog trying to debug. We dog confused. We dog playing with the visualizer.''']\n",
    "tokens = tokenizer(sentences)['input_ids']\n",
    "print(tokens)\n",
    "print(tokenizer.decode([tokens[0][7], tokens[0][2]]))\n",
    "compute_attention_terms(torch.tensor(tokens, dtype=torch.long))\n",
    "\n",
    "# Are the position most interested in those that are index one more than the key?"
   ]
  },
  {
   "cell_type": "code",
   "execution_count": 205,
   "metadata": {},
   "outputs": [],
   "source": [
    "import math"
   ]
  },
  {
   "cell_type": "code",
   "execution_count": 206,
   "metadata": {},
   "outputs": [
    {
     "data": {
      "text/plain": [
       "torch.Size([512])"
      ]
     },
     "execution_count": 206,
     "metadata": {},
     "output_type": "execute_result"
    }
   ],
   "source": [
    "test_tokens[0].shape"
   ]
  },
  {
   "cell_type": "markdown",
   "metadata": {},
   "source": [
    "Observations\n",
    "* position-position has largest magnitude\n",
    "* position-position: we see that a position pays attention to keys from previous index (from the diagonal i+1, i)\n",
    "* token-token: we see that a token pays quite a bit of attention to itself (the diagonal)\n",
    "\n",
    "Examples: we, circuit, model, \\-\n",
    "\n",
    "Mask out upper triangular, then plt.imshow to print out intensities (of the sum "
   ]
  },
  {
   "cell_type": "code",
   "execution_count": 207,
   "metadata": {},
   "outputs": [
    {
     "name": "stdout",
     "output_type": "stream",
     "text": [
      "[BEGIN] We dog eating ice cream. We dog in the park. We dog playing basketball. We dog throwing a baseball. We dog learning about machine learning. We dog trying to debug. We dog confused. We dog playing with the visualizer.\n",
      "torch.Size([768, 256])\n",
      "torch.Size([256, 256])\n",
      "torch.Size([8, 256, 32])\n",
      "torch.Size([256, 32])\n",
      "torch.Size([768, 256])\n",
      "torch.Size([256, 256])\n",
      "torch.Size([8, 256, 32])\n",
      "torch.Size([256, 32])\n"
     ]
    },
    {
     "name": "stderr",
     "output_type": "stream",
     "text": [
      "<ipython-input-207-03c50d38fa82>:26: UserWarning: To copy construct from a tensor, it is recommended to use sourceTensor.clone().detach() or sourceTensor.clone().detach().requires_grad_(True), rather than torch.tensor(sourceTensor).\n",
      "  mask = torch.tensor(torch.triu(torch.ones(seq_len, seq_len), diagonal=1), dtype=torch.bool)\n"
     ]
    },
    {
     "data": {
      "image/png": "[encoded data removed]",
      "text/plain": [
       "<Figure size 432x288 with 1 Axes>"
      ]
     },
     "metadata": {
      "needs_background": "light"
     },
     "output_type": "display_data"
    },
    {
     "data": {
      "text/plain": [
       "[(0, 'ationalmitteddaybornNovemberweightarbonnik Mandatoryachy'),\n",
       " (1, 'ationalborndayNovembermittedarbonweight Mandatorygennik'),\n",
       " (2, 'ationaldaymittedbornNovemberweightarbon Mandatorynikachy'),\n",
       " (3, 'day Earlyational Bynikmitted LateweightEarly Modern'),\n",
       " (4, ' Early Modern By Lateday Nevertheless MichaelnikEarlyational'),\n",
       " (5,\n",
       "  ' November Federal October January Decemberachy Nevertheless Late Courtbo'),\n",
       " (6, 'WewebornyoubefiWashingtonnewReutersOur'),\n",
       " (7, ' dog Dog Progressivept Teen Marshal Michael Modern child pet'),\n",
       " (8,\n",
       "  ' eating owning buying Wo ticking esche Eating earning skipping recovering'),\n",
       " (9, ' MichaelReutersbornWashingtonday Latecomweight EarlyOctober'),\n",
       " (10, ' MichaeldayReuters ProgressiveachyWashington Modernborn Lateweight'),\n",
       " (11, 'borndayNovemberReutersationalweightOctoberAFPWashingtoncom'),\n",
       " (12, 'WeweGurepguyouOurIntroduinfgre'),\n",
       " (13, ' dog Dog pet nat MarshalDog quad dogs canine detective'),\n",
       " (14,\n",
       "  ' eating recovering storing occupying esche ate buying skipping owning ticking'),\n",
       " (15, ' ice court snow Beast sheet Kal October bed pink Moto'),\n",
       " (16,\n",
       "  ' November October January December April September dawnOctober Federal August'),\n",
       " (17, 'WeweGurep WegugreGreIntroduFeel'),\n",
       " (18, ' dog Dog pet stret nat dogs quadDog bug canine'),\n",
       " (19,\n",
       "  ' eatingReading performing playing recoveringWATCHShape organizing eats dying'),\n",
       " (20, ' court ice Beast Guant Mirage paper Ice snow Coff incoming'),\n",
       " (21, ' ice paper incoming snow gold Janet court classical Michael word'),\n",
       " (22, ' October November snow April dawn sworn late magic court gray'),\n",
       " (23, 'WeweGu WerepgreguGreIntroduFeel'),\n",
       " (24, ' dog Dog pet stret nat dogs bug quadDog canine'),\n",
       " (25,\n",
       "  ' esche eating recovering staging eats ate performing storingWATCH clearing'),\n",
       " (26, ' ice Jeff incoming paper a gold action word Michael charcoal'),\n",
       " (27,\n",
       "  ' charcoal linenSup wearingSIGN voluntary flaming antiquAncient shrouded'),\n",
       " (28,\n",
       "  ' recovering escheWATCH eating clearing skipping staging readingReading performing'),\n",
       " (29, ' aboutottenST 204ieri 41677 27ARA»'),\n",
       " (30, 'WeGuwe WeGregrerepguFeelIntrodu'),\n",
       " (31, ' dog Dog pet stret dogs nat bug quadDog canine'),\n",
       " (32,\n",
       "  ' esche recoveringWATCH staging eating clearing performing skipping exercising eats'),\n",
       " (33, 'FO metric about collects receivesables alarmFR than hire'),\n",
       " (34, ' dog pet Dog stret Marshal canine detective avid practice lun'),\n",
       " (35, ' incoming paperFRARA emergency ice committeeKN courtRAG'),\n",
       " (36, 'We WeGuweGregrerepFeelgu cyt'),\n",
       " (37, ' dog Dog pet stret dogs nat bug quadDog canine'),\n",
       " (38,\n",
       "  ' escheWATCH recovering exercising skipping clearing staging exiting optingSIGN'),\n",
       " (39, ' lun pet respond dog unpaid charcoal stret volunteer lav resp'),\n",
       " (40, 'We WeGuweGregrerepFeelgu Sinn'),\n",
       " (41, ' dog Dog pet stret dogs nat bug quad canineDog'),\n",
       " (42,\n",
       "  ' recovering esche exiting clearingSIGN skipping exercisingReading clicking jugg'),\n",
       " (43,\n",
       "  ' basketballRated magic baseball executionKN ceremonial blood court dust'),\n",
       " (44, ' pigeon machine DGCLE emergency charcoal traveller canine hogKN'),\n",
       " (45, ' lun petjew dog lav yoga Marshal witch pand rou'),\n",
       " (46, 'IJUTWASHINGTONWashingtonNEWFOUN JeffUSSONDON'),\n",
       " (47,\n",
       "  ' attend practicing recoveringSIGNReading become becoming return receiving returning'),\n",
       " (48, 'We WeGuwegreGrerep cyt Sinngu')]"
      ]
     },
     "execution_count": 207,
     "metadata": {},
     "output_type": "execute_result"
    },
    {
     "data": {
      "image/png": "[encoded data removed]",
      "text/plain": [
       "<Figure size 432x288 with 1 Axes>"
      ]
     },
     "metadata": {
      "needs_background": "light"
     },
     "output_type": "display_data"
    }
   ],
   "source": [
    "\n",
    "def virtual_head(tokens, layer0_head_idx, layer1_head_idx, model):\n",
    "    # embedding.shape = [batch, seq_len, hidden_size]\n",
    "    # precompute the attention matrices\n",
    "    # A = softmax(((emb * Q)^T * K * emb) / sqrt(d))\n",
    "    \n",
    "    def get_stuff(token_emb, layer, head_idx):\n",
    "        \n",
    "        pos_ids = torch.arange(token_emb.shape[1]).unsqueeze(0)\n",
    "        emb = model.pos_embedding(pos_ids) + token_emb\n",
    "        query = model.blocks[layer].project_qkv(emb)[:, :, :256]\n",
    "        key = model.blocks[layer].project_qkv(emb)[:, :, 256:512]\n",
    "        # val = model.blocks[layer].project_qkv(emb)[:, :, 512:]\n",
    "        \n",
    "        # reshape\n",
    "        num_heads = 8\n",
    "        query = einops.rearrange(query, 'batch seq_len (num_heads head_size) -> batch num_heads seq_len head_size', num_heads=num_heads)\n",
    "        key = einops.rearrange(key, 'batch seq_len (num_heads head_size) -> batch num_heads seq_len head_size', num_heads=num_heads)\n",
    "        # val = einops.rearrange(val, 'batch seq_len (num_heads head_size) -> batch num_heads seq_len head_size', num_heads=num_heads)\n",
    "\n",
    "        attn = torch.einsum('b h q c, b h k c -> b h q k', query, key)\n",
    "        # Want to get embedding1 in Q space, and embedding2 in K space\n",
    "\n",
    "        attn = attn[0][head_idx] # batch 0\n",
    "\n",
    "        seq_len = emb.shape[1] # (batch, seq, hidden_size)\n",
    "        mask = torch.tensor(torch.triu(torch.ones(seq_len, seq_len), diagonal=1), dtype=torch.bool)\n",
    "        attn[mask] = -1000000\n",
    "        attn /= math.sqrt(query.shape[-1])\n",
    "        # For each query, we have a probability distribution over keys\n",
    "        attn = torch.nn.Softmax(dim=-1)(attn)\n",
    "        \n",
    "        ## get ov ###\n",
    "        # project_qkv.weight should be a 768x768 matrix (hidden_size=768)\n",
    "        print(model.blocks[layer].project_qkv.weight.shape)\n",
    "        # ... V\n",
    "        val_mat = model.blocks[layer].project_qkv.weight[512:,:]\n",
    "        print(val_mat.shape)\n",
    "        val_mat = einops.rearrange(val_mat, '(num_heads head_size) hidden_size -> num_heads hidden_size head_size', num_heads=num_heads)\n",
    "        \n",
    "        print(val_mat.shape)\n",
    "        val_mat = val_mat[head_idx]  # now shape = (hidden_size, head_size)\n",
    "        print(val_mat.shape)\n",
    "        head_size = 256//num_heads\n",
    "        output = model.blocks[layer].project_output.weight[:, head_size*head_idx:head_size*(head_idx+1)]\n",
    "        output = einops.rearrange(output, 'hidden_size head_size -> head_size hidden_size')\n",
    "        # val_head: hidden_size head_size\n",
    "        # output: head_size, hidden_size??\n",
    "        # softmax(...)V W_O\n",
    "        ov = val_mat @ output\n",
    "        \n",
    "        # OV emb\n",
    "        return attn, ov\n",
    "    \n",
    "    ##### lAYER 0 ######\n",
    "    token_embedding = model.token_embedding(tokens)\n",
    "    attn0, ov0 = get_stuff(token_embedding, 0, layer0_head_idx)\n",
    "    # (seq_len seq_len), (seq_len, hidden_size)\n",
    "    \n",
    "    ##### LAYER 1 ######\n",
    "    emb = token_embedding + model.blocks[0](token_embedding, model.pos_embedding)\n",
    "    attn1, ov1 = get_stuff(emb, 1, layer1_head_idx)\n",
    "    plt.imshow(attn0.detach())\n",
    "    plt.show()\n",
    "    plt.imshow(attn1.detach())\n",
    "\n",
    "    # token_embedding: batch_size, seq_len, embedding_size (probs hidden_size?)\n",
    "    # attn0: seq_len, seq_len\n",
    "    # ov0: hidden_size, hidden_size=c\n",
    "    emb1 = torch.einsum('b k c, q k, c d -> b q d', token_embedding, attn0, ov0)\n",
    "    emb2 = torch.einsum('b k c, q k, c d -> b q d ', emb1+token_embedding, attn1, ov1)\n",
    "    # We want: seq_len, hidden_size\n",
    "    logits = torch.einsum('bnl, vl -> bnv', emb2, model.token_embedding.weight)\n",
    "    # multiply by the relevant model_weights, and the embedding to get the vocab logits\n",
    "    _, tokens = torch.topk(logits, k=10, dim=-1)\n",
    "    # print(tokens)\n",
    "    return [(i, x) for i, x in enumerate(tokenizer.batch_decode(tokens[0]))]\n",
    "    # We want: seq_len, vocab_size for each pair of heads\n",
    "print(tokenizer.decode(tokens[0]))\n",
    "virtual_head(torch.tensor(tokens, dtype=torch.long), 0, 4, model)"
   ]
  },
  {
   "cell_type": "code",
   "execution_count": null,
   "metadata": {},
   "outputs": [
    {
     "data": {
      "text/plain": [
       "['[BEGIN] We are eating ice cream. We sit in the park.']"
      ]
     },
     "execution_count": 137,
     "metadata": {},
     "output_type": "execute_result"
    }
   ],
   "source": [
    "tokenizer.batch_decode(tokens)"
   ]
  },
  {
   "cell_type": "code",
   "execution_count": null,
   "metadata": {},
   "outputs": [],
   "source": []
  }
 ],
 "metadata": {
  "kernelspec": {
   "display_name": "Python 3",
   "language": "python",
   "name": "python3"
  },
  "language_info": {
   "codemirror_mode": {
    "name": "ipython",
    "version": 3
   },
   "file_extension": ".py",
   "mimetype": "text/x-python",
   "name": "python",
   "nbconvert_exporter": "python",
   "pygments_lexer": "ipython3",
   "version": "3.8.10"
  }
 },
 "nbformat": 4,
 "nbformat_minor": 4
}
