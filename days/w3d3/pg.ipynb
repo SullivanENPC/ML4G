{
 "cells": [
  {
   "cell_type": "markdown",
   "id": "f1bf87ed-124a-4dea-b3b1-37da62b97959",
   "metadata": {},
   "source": [
    "This notebook implements policy gradient RL."
   ]
  },
  {
   "cell_type": "markdown",
   "id": "42835638-b727-4594-803f-f6385047c5e1",
   "metadata": {},
   "source": [
    "### Import libraries"
   ]
  },
  {
   "cell_type": "code",
   "execution_count": 86,
   "id": "7866500e-9347-4126-b481-10ed71ff21ee",
   "metadata": {},
   "outputs": [],
   "source": [
    "import collections\n",
    "import dataclasses\n",
    "import random\n",
    "from typing import Optional\n",
    "\n",
    "import gym\n",
    "import matplotlib.pyplot as plt\n",
    "import numpy as np\n",
    "import pandas as pd\n",
    "import torch as t\n",
    "from days.atari_wrappers import AtariWrapper\n",
    "from einops import rearrange, reduce, repeat\n",
    "from IPython.display import Video\n",
    "from torch import nn, optim\n",
    "from tqdm.auto import tqdm\n",
    "import copy\n",
    "\n",
    "import rl_tests\n",
    "from video_recorder import VideoRecorder"
   ]
  },
  {
   "cell_type": "markdown",
   "id": "4a35f0f4-fd45-444e-a1e6-ba8155b7ca81",
   "metadata": {},
   "source": [
    "### Define networks"
   ]
  },
  {
   "cell_type": "code",
   "execution_count": 87,
   "id": "cbc21e3f-eb3a-49a2-915c-5a55daf4fb52",
   "metadata": {},
   "outputs": [],
   "source": [
    "class PolicyMLP(nn.Module):\n",
    "    def __init__(\n",
    "        self,\n",
    "        in_size: int,\n",
    "        hidden_size: int,\n",
    "        out_size: int,\n",
    "    ):\n",
    "        super().__init__()\n",
    "        self.seq = nn.Sequential(\n",
    "            nn.Linear(in_size, hidden_size),\n",
    "            nn.ReLU(),\n",
    "            nn.Linear(hidden_size, hidden_size),\n",
    "            nn.ReLU(),\n",
    "            nn.Linear(hidden_size, out_size),\n",
    "            nn.LogSoftmax(dim=-1),\n",
    "        )\n",
    "\n",
    "    def forward(\n",
    "        self,\n",
    "        obs: t.Tensor,  # Tensor[..., obs_shape]\n",
    "    ) -> t.Tensor:\n",
    "        \"\"\"\n",
    "        return: Tensor[..., num_actions]\n",
    "        \"\"\"\n",
    "        return self.seq(obs)\n",
    "\n",
    "    @property\n",
    "    def device(self):\n",
    "        return next(self.parameters()).device\n",
    "\n",
    "    @property\n",
    "    def dtype(self):\n",
    "        return next(self.parameters()).dtype"
   ]
  },
  {
   "cell_type": "code",
   "execution_count": 88,
   "id": "275bc940-d988-4e3f-83bc-ef398e4ab8d7",
   "metadata": {},
   "outputs": [],
   "source": [
    "class AtariConv(nn.Module):\n",
    "    def __init__(self, obs_n_channels, n_action_space):\n",
    "        super().__init__()\n",
    "        self.obs_n_channels = obs_n_channels\n",
    "        self.n_action_space = n_action_space\n",
    "        self.layers = nn.Sequential(\n",
    "            nn.Conv2d(obs_n_channels, 32, 8, stride=4),\n",
    "            nn.ReLU(),\n",
    "            nn.Conv2d(32, 64, 4, stride=2),\n",
    "            nn.ReLU(),\n",
    "            nn.Conv2d(64, 64, 3, stride=1),\n",
    "            nn.ReLU(),\n",
    "            nn.Flatten(),\n",
    "            nn.Linear(3136, n_action_space),\n",
    "            # linear / logsoftmax?\n",
    "        )\n",
    "\n",
    "    def forward(self, obs):\n",
    "        if len(obs.shape) == 3:\n",
    "            obs = rearrange(obs, \"h w c -> 1 c h w\")\n",
    "            return self.layers(obs)[0]\n",
    "\n",
    "        assert len(obs.shape) == 4\n",
    "        obs = rearrange(obs, \"b h w c -> b c h w\")\n",
    "        return self.layers(obs)\n",
    "\n",
    "    @property\n",
    "    def device(self):\n",
    "        return next(self.parameters()).device\n",
    "\n",
    "    @property\n",
    "    def dtype(self):\n",
    "        return next(self.parameters()).dtype"
   ]
  },
  {
   "cell_type": "markdown",
   "id": "50e923b7-de25-4393-ab5b-9c329e119310",
   "metadata": {},
   "source": [
    "### Policy gradient training"
   ]
  },
  {
   "cell_type": "code",
   "execution_count": 119,
   "id": "27456e77-295e-45b3-b0f9-1d179b919bb7",
   "metadata": {},
   "outputs": [],
   "source": [
    "def evaluate(\n",
    "    model: nn.Module,\n",
    "    env: gym.Env,\n",
    "    video_path: Optional[str] = None,\n",
    ") -> tuple[float, int]:\n",
    "    total_reward: float = 0\n",
    "    steps_taken: int = 0\n",
    "\n",
    "    if video_path is not None:\n",
    "        recorder = VideoRecorder(env, video_path)\n",
    "\n",
    "    running_gamma: float = 1\n",
    "    done: bool = False\n",
    "    obs: np.ndarray = env.reset()\n",
    "    while not done:\n",
    "        if video_path is not None:\n",
    "            recorder.capture_frame()\n",
    "        with t.no_grad():\n",
    "            probs = t.exp(model(t.tensor(obs, dtype=model.dtype, device=model.device)))\n",
    "        action = t.multinomial(probs, num_samples=1).item()\n",
    "        obs, reward, done, _ = env.step(action)\n",
    "\n",
    "        total_reward += reward\n",
    "        steps_taken += 1\n",
    "\n",
    "    if video_path is not None:\n",
    "        recorder.close()\n",
    "    return total_reward, steps_taken\n",
    "\n",
    "\n",
    "def policy_grad_train(\n",
    "    model: nn.Module,\n",
    "    env: gym.Env,\n",
    "    n_updates: int,\n",
    "    batch_size: int,\n",
    "    eval_freq: int = 100,\n",
    "    gamma: float = 1.0,\n",
    "    lr: float = 1e-3,\n",
    "    seed: int = 42,\n",
    "):\n",
    "    env.seed(seed)\n",
    "    env.action_space.seed(seed)\n",
    "\n",
    "    opt = optim.Adam(model.parameters(), lr=lr)\n",
    "\n",
    "    perf_history: list[float] = []\n",
    "    loss_history: list[float] = []\n",
    "    obs: np.ndarray = env.reset()\n",
    "\n",
    "    for i in tqdm(range(n_updates)):\n",
    "\n",
    "        obs = env.reset()\n",
    "        trajectories_completed = 0\n",
    "        done = False\n",
    "\n",
    "        loss = 0\n",
    "        steps_taken = 0\n",
    "\n",
    "        pbar = tqdm(total=batch_size, leave=False)\n",
    "        while steps_taken < batch_size:\n",
    "            total_reward: int = 0\n",
    "            sum_log_probs = 0\n",
    "\n",
    "            obs = env.reset()\n",
    "            running_gamma = 1\n",
    "            done = False\n",
    "            while not done:\n",
    "                log_probs = model(t.tensor(obs, dtype=model.dtype, device=model.device))\n",
    "                action = t.multinomial(t.exp(log_probs.detach()), num_samples=1).item()\n",
    "                obs, reward, done, _ = env.step(action)\n",
    "\n",
    "                sum_log_probs += log_probs[action]\n",
    "                total_reward += reward * running_gamma\n",
    "                running_gamma *= gamma\n",
    "\n",
    "                steps_taken += 1\n",
    "                pbar.update(1)\n",
    "            trajectories_completed += 1\n",
    "            loss -= total_reward * sum_log_probs\n",
    "\n",
    "        pbar.close()\n",
    "\n",
    "        loss /= trajectories_completed\n",
    "        \n",
    "        opt.zero_grad()\n",
    "        loss.backward()\n",
    "        opt.step()\n",
    "        \n",
    "        loss_history.append(loss.item())\n",
    "\n",
    "        if i % eval_freq == 0:\n",
    "            fresh_env = copy.deepcopy(env)\n",
    "            fresh_env.seed(seed)\n",
    "            fresh_env.action_space.seed(seed)\n",
    "\n",
    "            reward, steps = evaluate(\n",
    "                model,\n",
    "                fresh_env,\n",
    "                f\"videos/cartpole_pg/{i:03}.mp4\"\n",
    "            )\n",
    "            perf_history.append(reward)\n",
    "    return loss_history, perf_history"
   ]
  },
  {
   "cell_type": "code",
   "execution_count": 120,
   "id": "90d0cb4c-ca3f-4dbe-85e4-1e9e7f3fc7ee",
   "metadata": {},
   "outputs": [],
   "source": [
    "SEED = 42\n",
    "t.manual_seed(SEED)\n",
    "random.seed(SEED)\n",
    "\n",
    "env = gym.make(\"CartPole-v1\")\n",
    "model = PolicyMLP(\n",
    "    in_size=env.observation_space.shape[0],\n",
    "    hidden_size=64,\n",
    "    out_size=env.action_space.n,\n",
    ").cuda()\n",
    "\n"
   ]
  },
  {
   "cell_type": "code",
   "execution_count": 121,
   "id": "79156541-7d58-4144-b815-0933f567ccb0",
   "metadata": {},
   "outputs": [
    {
     "data": {
      "text/plain": [
       "(11.0, 11)"
      ]
     },
     "execution_count": 121,
     "metadata": {},
     "output_type": "execute_result"
    }
   ],
   "source": [
    "evaluate(model, env)"
   ]
  },
  {
   "cell_type": "code",
   "execution_count": 122,
   "id": "036e6352-bd54-44bf-ae72-7d9f3478ca85",
   "metadata": {},
   "outputs": [
    {
     "data": {
      "application/vnd.jupyter.widget-view+json": {
       "model_id": "94ff647e06014283b837134e07718b6f",
       "version_major": 2,
       "version_minor": 0
      },
      "text/plain": [
       "  0%|          | 0/40 [00:00<?, ?it/s]"
      ]
     },
     "metadata": {},
     "output_type": "display_data"
    },
    {
     "data": {
      "application/vnd.jupyter.widget-view+json": {
       "model_id": "e8ef4e5c9308425f9e83558072d599ca",
       "version_major": 2,
       "version_minor": 0
      },
      "text/plain": [
       "  0%|          | 0/5000 [00:00<?, ?it/s]"
      ]
     },
     "metadata": {},
     "output_type": "display_data"
    },
    {
     "data": {
      "application/vnd.jupyter.widget-view+json": {
       "model_id": "0092c4f9d5654a0496a1b2ecf9efaab3",
       "version_major": 2,
       "version_minor": 0
      },
      "text/plain": [
       "  0%|          | 0/5000 [00:00<?, ?it/s]"
      ]
     },
     "metadata": {},
     "output_type": "display_data"
    },
    {
     "data": {
      "application/vnd.jupyter.widget-view+json": {
       "model_id": "483e98eae7e04b83989e2e1e321c6147",
       "version_major": 2,
       "version_minor": 0
      },
      "text/plain": [
       "  0%|          | 0/5000 [00:00<?, ?it/s]"
      ]
     },
     "metadata": {},
     "output_type": "display_data"
    },
    {
     "data": {
      "application/vnd.jupyter.widget-view+json": {
       "model_id": "1571cc48ccb74576bf2542d3b57a4dff",
       "version_major": 2,
       "version_minor": 0
      },
      "text/plain": [
       "  0%|          | 0/5000 [00:00<?, ?it/s]"
      ]
     },
     "metadata": {},
     "output_type": "display_data"
    },
    {
     "data": {
      "application/vnd.jupyter.widget-view+json": {
       "model_id": "ef7a361e9a33423c8db1c2aad1e60391",
       "version_major": 2,
       "version_minor": 0
      },
      "text/plain": [
       "  0%|          | 0/5000 [00:00<?, ?it/s]"
      ]
     },
     "metadata": {},
     "output_type": "display_data"
    },
    {
     "data": {
      "application/vnd.jupyter.widget-view+json": {
       "model_id": "c27adfeea77f45b7b3301d668324f3de",
       "version_major": 2,
       "version_minor": 0
      },
      "text/plain": [
       "  0%|          | 0/5000 [00:00<?, ?it/s]"
      ]
     },
     "metadata": {},
     "output_type": "display_data"
    },
    {
     "data": {
      "application/vnd.jupyter.widget-view+json": {
       "model_id": "4c22c3eaa5914f439e233aea7d5740c6",
       "version_major": 2,
       "version_minor": 0
      },
      "text/plain": [
       "  0%|          | 0/5000 [00:00<?, ?it/s]"
      ]
     },
     "metadata": {},
     "output_type": "display_data"
    },
    {
     "data": {
      "application/vnd.jupyter.widget-view+json": {
       "model_id": "50b04d2e81e44d94ac66d312400795c4",
       "version_major": 2,
       "version_minor": 0
      },
      "text/plain": [
       "  0%|          | 0/5000 [00:00<?, ?it/s]"
      ]
     },
     "metadata": {},
     "output_type": "display_data"
    },
    {
     "data": {
      "application/vnd.jupyter.widget-view+json": {
       "model_id": "50553d14663f42489d62f20b70d61902",
       "version_major": 2,
       "version_minor": 0
      },
      "text/plain": [
       "  0%|          | 0/5000 [00:00<?, ?it/s]"
      ]
     },
     "metadata": {},
     "output_type": "display_data"
    },
    {
     "data": {
      "application/vnd.jupyter.widget-view+json": {
       "model_id": "7cd03bfbc8ea4c78868233c20940d023",
       "version_major": 2,
       "version_minor": 0
      },
      "text/plain": [
       "  0%|          | 0/5000 [00:00<?, ?it/s]"
      ]
     },
     "metadata": {},
     "output_type": "display_data"
    },
    {
     "data": {
      "application/vnd.jupyter.widget-view+json": {
       "model_id": "6d8adb5e21294625b957ae995d82ea89",
       "version_major": 2,
       "version_minor": 0
      },
      "text/plain": [
       "  0%|          | 0/5000 [00:00<?, ?it/s]"
      ]
     },
     "metadata": {},
     "output_type": "display_data"
    },
    {
     "data": {
      "application/vnd.jupyter.widget-view+json": {
       "model_id": "a62b413bd0064425a5cd13c432dce73f",
       "version_major": 2,
       "version_minor": 0
      },
      "text/plain": [
       "  0%|          | 0/5000 [00:00<?, ?it/s]"
      ]
     },
     "metadata": {},
     "output_type": "display_data"
    },
    {
     "data": {
      "application/vnd.jupyter.widget-view+json": {
       "model_id": "6f4f7236ac04463e958e4efd2f5dabbd",
       "version_major": 2,
       "version_minor": 0
      },
      "text/plain": [
       "  0%|          | 0/5000 [00:00<?, ?it/s]"
      ]
     },
     "metadata": {},
     "output_type": "display_data"
    },
    {
     "data": {
      "application/vnd.jupyter.widget-view+json": {
       "model_id": "d6fa611c4b73405b8b86ef26d5c9ca6b",
       "version_major": 2,
       "version_minor": 0
      },
      "text/plain": [
       "  0%|          | 0/5000 [00:00<?, ?it/s]"
      ]
     },
     "metadata": {},
     "output_type": "display_data"
    },
    {
     "data": {
      "application/vnd.jupyter.widget-view+json": {
       "model_id": "1f2ac6bf7d9a454eb67e729c9646df56",
       "version_major": 2,
       "version_minor": 0
      },
      "text/plain": [
       "  0%|          | 0/5000 [00:00<?, ?it/s]"
      ]
     },
     "metadata": {},
     "output_type": "display_data"
    },
    {
     "data": {
      "application/vnd.jupyter.widget-view+json": {
       "model_id": "4bb409d00db1404d86f06d1ff5897b8b",
       "version_major": 2,
       "version_minor": 0
      },
      "text/plain": [
       "  0%|          | 0/5000 [00:00<?, ?it/s]"
      ]
     },
     "metadata": {},
     "output_type": "display_data"
    },
    {
     "data": {
      "application/vnd.jupyter.widget-view+json": {
       "model_id": "6ebb30c2f651419eb9b845f21265ade8",
       "version_major": 2,
       "version_minor": 0
      },
      "text/plain": [
       "  0%|          | 0/5000 [00:00<?, ?it/s]"
      ]
     },
     "metadata": {},
     "output_type": "display_data"
    },
    {
     "data": {
      "application/vnd.jupyter.widget-view+json": {
       "model_id": "5bd1dc980aad464d9fabf7e2b1828593",
       "version_major": 2,
       "version_minor": 0
      },
      "text/plain": [
       "  0%|          | 0/5000 [00:00<?, ?it/s]"
      ]
     },
     "metadata": {},
     "output_type": "display_data"
    },
    {
     "data": {
      "application/vnd.jupyter.widget-view+json": {
       "model_id": "24b0ee194e5d4fc7b5c29fc954b45bcd",
       "version_major": 2,
       "version_minor": 0
      },
      "text/plain": [
       "  0%|          | 0/5000 [00:00<?, ?it/s]"
      ]
     },
     "metadata": {},
     "output_type": "display_data"
    },
    {
     "data": {
      "application/vnd.jupyter.widget-view+json": {
       "model_id": "2a7b509895cb4c8f9006e771438d671b",
       "version_major": 2,
       "version_minor": 0
      },
      "text/plain": [
       "  0%|          | 0/5000 [00:00<?, ?it/s]"
      ]
     },
     "metadata": {},
     "output_type": "display_data"
    },
    {
     "data": {
      "application/vnd.jupyter.widget-view+json": {
       "model_id": "45326d9000414baeb812f707902fdd75",
       "version_major": 2,
       "version_minor": 0
      },
      "text/plain": [
       "  0%|          | 0/5000 [00:00<?, ?it/s]"
      ]
     },
     "metadata": {},
     "output_type": "display_data"
    },
    {
     "data": {
      "application/vnd.jupyter.widget-view+json": {
       "model_id": "a3d1fd9e41534288b131c5a651615d57",
       "version_major": 2,
       "version_minor": 0
      },
      "text/plain": [
       "  0%|          | 0/5000 [00:00<?, ?it/s]"
      ]
     },
     "metadata": {},
     "output_type": "display_data"
    },
    {
     "data": {
      "application/vnd.jupyter.widget-view+json": {
       "model_id": "794a76feadf74528a1a8364e3ca9a963",
       "version_major": 2,
       "version_minor": 0
      },
      "text/plain": [
       "  0%|          | 0/5000 [00:00<?, ?it/s]"
      ]
     },
     "metadata": {},
     "output_type": "display_data"
    },
    {
     "data": {
      "application/vnd.jupyter.widget-view+json": {
       "model_id": "93153b68a4cc483ea839355c40765f98",
       "version_major": 2,
       "version_minor": 0
      },
      "text/plain": [
       "  0%|          | 0/5000 [00:00<?, ?it/s]"
      ]
     },
     "metadata": {},
     "output_type": "display_data"
    },
    {
     "data": {
      "application/vnd.jupyter.widget-view+json": {
       "model_id": "9f30dfcf370240cfae8dd30147d33e7f",
       "version_major": 2,
       "version_minor": 0
      },
      "text/plain": [
       "  0%|          | 0/5000 [00:00<?, ?it/s]"
      ]
     },
     "metadata": {},
     "output_type": "display_data"
    },
    {
     "data": {
      "application/vnd.jupyter.widget-view+json": {
       "model_id": "5233ea36ea744243b2c4a3b24c526114",
       "version_major": 2,
       "version_minor": 0
      },
      "text/plain": [
       "  0%|          | 0/5000 [00:00<?, ?it/s]"
      ]
     },
     "metadata": {},
     "output_type": "display_data"
    },
    {
     "data": {
      "application/vnd.jupyter.widget-view+json": {
       "model_id": "f6f54ef5a3314437ac6bf9231b78d87b",
       "version_major": 2,
       "version_minor": 0
      },
      "text/plain": [
       "  0%|          | 0/5000 [00:00<?, ?it/s]"
      ]
     },
     "metadata": {},
     "output_type": "display_data"
    },
    {
     "data": {
      "application/vnd.jupyter.widget-view+json": {
       "model_id": "bf00e045acf74cf98478c0f370c81aa1",
       "version_major": 2,
       "version_minor": 0
      },
      "text/plain": [
       "  0%|          | 0/5000 [00:00<?, ?it/s]"
      ]
     },
     "metadata": {},
     "output_type": "display_data"
    },
    {
     "data": {
      "application/vnd.jupyter.widget-view+json": {
       "model_id": "585588b1cf5749b5a7aa6b304dfae1d4",
       "version_major": 2,
       "version_minor": 0
      },
      "text/plain": [
       "  0%|          | 0/5000 [00:00<?, ?it/s]"
      ]
     },
     "metadata": {},
     "output_type": "display_data"
    },
    {
     "data": {
      "application/vnd.jupyter.widget-view+json": {
       "model_id": "36dadea13c0a4133a9d00421f84a35c5",
       "version_major": 2,
       "version_minor": 0
      },
      "text/plain": [
       "  0%|          | 0/5000 [00:00<?, ?it/s]"
      ]
     },
     "metadata": {},
     "output_type": "display_data"
    },
    {
     "data": {
      "application/vnd.jupyter.widget-view+json": {
       "model_id": "67700a3fc32043039c1d87edde014598",
       "version_major": 2,
       "version_minor": 0
      },
      "text/plain": [
       "  0%|          | 0/5000 [00:00<?, ?it/s]"
      ]
     },
     "metadata": {},
     "output_type": "display_data"
    },
    {
     "data": {
      "application/vnd.jupyter.widget-view+json": {
       "model_id": "aa888b84ae4749d4a788178039c36305",
       "version_major": 2,
       "version_minor": 0
      },
      "text/plain": [
       "  0%|          | 0/5000 [00:00<?, ?it/s]"
      ]
     },
     "metadata": {},
     "output_type": "display_data"
    },
    {
     "data": {
      "application/vnd.jupyter.widget-view+json": {
       "model_id": "e745483313f245dfb8a79eae9e55d59a",
       "version_major": 2,
       "version_minor": 0
      },
      "text/plain": [
       "  0%|          | 0/5000 [00:00<?, ?it/s]"
      ]
     },
     "metadata": {},
     "output_type": "display_data"
    },
    {
     "data": {
      "application/vnd.jupyter.widget-view+json": {
       "model_id": "f750071b62d84c98956462212e092de1",
       "version_major": 2,
       "version_minor": 0
      },
      "text/plain": [
       "  0%|          | 0/5000 [00:00<?, ?it/s]"
      ]
     },
     "metadata": {},
     "output_type": "display_data"
    },
    {
     "data": {
      "application/vnd.jupyter.widget-view+json": {
       "model_id": "d5ef99cdee5643238b858b07af0082bf",
       "version_major": 2,
       "version_minor": 0
      },
      "text/plain": [
       "  0%|          | 0/5000 [00:00<?, ?it/s]"
      ]
     },
     "metadata": {},
     "output_type": "display_data"
    },
    {
     "data": {
      "application/vnd.jupyter.widget-view+json": {
       "model_id": "b13c7668e88b43a7adae0ce6755e8203",
       "version_major": 2,
       "version_minor": 0
      },
      "text/plain": [
       "  0%|          | 0/5000 [00:00<?, ?it/s]"
      ]
     },
     "metadata": {},
     "output_type": "display_data"
    },
    {
     "data": {
      "application/vnd.jupyter.widget-view+json": {
       "model_id": "e9ba62ed4e6f406f844290faf55f1cbd",
       "version_major": 2,
       "version_minor": 0
      },
      "text/plain": [
       "  0%|          | 0/5000 [00:00<?, ?it/s]"
      ]
     },
     "metadata": {},
     "output_type": "display_data"
    },
    {
     "data": {
      "application/vnd.jupyter.widget-view+json": {
       "model_id": "6684efed5d0343e98fab9a1f9383725e",
       "version_major": 2,
       "version_minor": 0
      },
      "text/plain": [
       "  0%|          | 0/5000 [00:00<?, ?it/s]"
      ]
     },
     "metadata": {},
     "output_type": "display_data"
    },
    {
     "data": {
      "application/vnd.jupyter.widget-view+json": {
       "model_id": "e8b9759201d447798b24151a9629e993",
       "version_major": 2,
       "version_minor": 0
      },
      "text/plain": [
       "  0%|          | 0/5000 [00:00<?, ?it/s]"
      ]
     },
     "metadata": {},
     "output_type": "display_data"
    },
    {
     "data": {
      "application/vnd.jupyter.widget-view+json": {
       "model_id": "dbe874871df245f1b579c3288c90a4bc",
       "version_major": 2,
       "version_minor": 0
      },
      "text/plain": [
       "  0%|          | 0/5000 [00:00<?, ?it/s]"
      ]
     },
     "metadata": {},
     "output_type": "display_data"
    }
   ],
   "source": [
    "loss_history, perf_history = policy_grad_train(\n",
    "    model = model,\n",
    "    env = env,\n",
    "    n_updates = 40,\n",
    "    batch_size = 5000,\n",
    "    eval_freq = 1,\n",
    "    gamma = 1.0,\n",
    "    lr = 1e-2,\n",
    "    seed = 42,\n",
    ")"
   ]
  },
  {
   "cell_type": "code",
   "execution_count": 123,
   "id": "22de9bcb-150c-407d-b7a9-dfdfd12f7991",
   "metadata": {},
   "outputs": [
    {
     "data": {
      "text/plain": [
       "[<matplotlib.lines.Line2D at 0x7f6c7c0e69d0>]"
      ]
     },
     "execution_count": 123,
     "metadata": {},
     "output_type": "execute_result"
    },
    {
     "data": {
      "image/png": "[encoded data removed]",
      "text/plain": [
       "<Figure size 432x288 with 1 Axes>"
      ]
     },
     "metadata": {
      "needs_background": "light"
     },
     "output_type": "display_data"
    }
   ],
   "source": [
    "plt.plot(perf_history)"
   ]
  },
  {
   "cell_type": "markdown",
   "id": "bee2e0be-752c-4d13-8096-a39b59933aef",
   "metadata": {},
   "source": [
    "### Rewards to go"
   ]
  },
  {
   "cell_type": "code",
   "execution_count": 129,
   "id": "c7256450-3710-4cfd-a865-03d192cebee6",
   "metadata": {},
   "outputs": [],
   "source": [
    "def policy_grad_train_rtg(\n",
    "    model: nn.Module,\n",
    "    env: gym.Env,\n",
    "    n_updates: int,\n",
    "    batch_size: int,\n",
    "    eval_freq: int = 100,\n",
    "    gamma: float = 1.0,\n",
    "    lr: float = 1e-3,\n",
    "    seed: int = 42,\n",
    "):\n",
    "    env.seed(seed)\n",
    "    env.action_space.seed(seed)\n",
    "\n",
    "    opt = optim.Adam(model.parameters(), lr=lr)\n",
    "\n",
    "    perf_history: list[float] = []\n",
    "    loss_history: list[float] = []\n",
    "    obs: np.ndarray = env.reset()\n",
    "\n",
    "    for i in tqdm(range(n_updates)):\n",
    "\n",
    "        obs = env.reset()\n",
    "        trajectories_completed = 0\n",
    "        done = False\n",
    "\n",
    "        loss = 0\n",
    "        steps_taken = 0\n",
    "\n",
    "        pbar = tqdm(total=batch_size, leave=False)\n",
    "        while steps_taken < batch_size:\n",
    "            stored_log_probs = []\n",
    "            rewards = []\n",
    "\n",
    "            obs = env.reset()\n",
    "            running_gamma = 1\n",
    "            done = False\n",
    "            while not done:\n",
    "                log_probs = model(t.tensor(obs, dtype=model.dtype, device=model.device))\n",
    "                action = t.multinomial(t.exp(log_probs.detach()), num_samples=1).item()\n",
    "                obs, reward, done, _ = env.step(action)\n",
    "\n",
    "                stored_log_probs.append(log_probs[action])\n",
    "                rewards.append(reward * running_gamma)\n",
    "                running_gamma *= gamma\n",
    "\n",
    "                steps_taken += 1\n",
    "                pbar.update(1)\n",
    "            trajectories_completed += 1\n",
    "            for j in range(len(stored_log_probs)):\n",
    "                loss -= sum(rewards[j:]) * stored_log_probs[j]\n",
    "\n",
    "        pbar.close()\n",
    "\n",
    "        opt.zero_grad()\n",
    "        loss /= trajectories_completed\n",
    "        loss_history.append(loss.item())\n",
    "        loss.backward()\n",
    "        opt.step()\n",
    "\n",
    "        if i % eval_freq == 0:\n",
    "            fresh_env = copy.deepcopy(env)\n",
    "            fresh_env.seed(seed)\n",
    "            fresh_env.action_space.seed(seed)\n",
    "\n",
    "            reward, steps = evaluate(\n",
    "                model,\n",
    "                fresh_env,\n",
    "                f\"videos/cartpole_pg_tg/{i:03}.mp4\"\n",
    "            )\n",
    "            perf_history.append(reward)\n",
    "    return loss_history, perf_history"
   ]
  },
  {
   "cell_type": "code",
   "execution_count": 130,
   "id": "6ad5f1ea-38b0-40ab-b29e-11fa08308d5e",
   "metadata": {},
   "outputs": [
    {
     "data": {
      "application/vnd.jupyter.widget-view+json": {
       "model_id": "8d7ab5ec3b444ce6b1fa583e672d8679",
       "version_major": 2,
       "version_minor": 0
      },
      "text/plain": [
       "  0%|          | 0/40 [00:00<?, ?it/s]"
      ]
     },
     "metadata": {},
     "output_type": "display_data"
    },
    {
     "data": {
      "application/vnd.jupyter.widget-view+json": {
       "model_id": "17b3a11fe55c42dc9ee42be9b24d6c5e",
       "version_major": 2,
       "version_minor": 0
      },
      "text/plain": [
       "  0%|          | 0/5000 [00:00<?, ?it/s]"
      ]
     },
     "metadata": {},
     "output_type": "display_data"
    },
    {
     "data": {
      "application/vnd.jupyter.widget-view+json": {
       "model_id": "596066cde8174782a251872ddb22baf6",
       "version_major": 2,
       "version_minor": 0
      },
      "text/plain": [
       "  0%|          | 0/5000 [00:00<?, ?it/s]"
      ]
     },
     "metadata": {},
     "output_type": "display_data"
    },
    {
     "data": {
      "application/vnd.jupyter.widget-view+json": {
       "model_id": "6625d42cb7124632aa8d4dd41db4cea2",
       "version_major": 2,
       "version_minor": 0
      },
      "text/plain": [
       "  0%|          | 0/5000 [00:00<?, ?it/s]"
      ]
     },
     "metadata": {},
     "output_type": "display_data"
    },
    {
     "data": {
      "application/vnd.jupyter.widget-view+json": {
       "model_id": "1726b3dd5548467e84375a71ce771945",
       "version_major": 2,
       "version_minor": 0
      },
      "text/plain": [
       "  0%|          | 0/5000 [00:00<?, ?it/s]"
      ]
     },
     "metadata": {},
     "output_type": "display_data"
    },
    {
     "data": {
      "application/vnd.jupyter.widget-view+json": {
       "model_id": "81e8527ea17441eca4088b5f28d6e1d0",
       "version_major": 2,
       "version_minor": 0
      },
      "text/plain": [
       "  0%|          | 0/5000 [00:00<?, ?it/s]"
      ]
     },
     "metadata": {},
     "output_type": "display_data"
    },
    {
     "data": {
      "application/vnd.jupyter.widget-view+json": {
       "model_id": "d81c6aaef08c46cc846aad491533a157",
       "version_major": 2,
       "version_minor": 0
      },
      "text/plain": [
       "  0%|          | 0/5000 [00:00<?, ?it/s]"
      ]
     },
     "metadata": {},
     "output_type": "display_data"
    },
    {
     "data": {
      "application/vnd.jupyter.widget-view+json": {
       "model_id": "f4c757c831f74b75b7b69a7580f24e94",
       "version_major": 2,
       "version_minor": 0
      },
      "text/plain": [
       "  0%|          | 0/5000 [00:00<?, ?it/s]"
      ]
     },
     "metadata": {},
     "output_type": "display_data"
    },
    {
     "data": {
      "application/vnd.jupyter.widget-view+json": {
       "model_id": "bd801e26eebb415e91f1c3376e63ee58",
       "version_major": 2,
       "version_minor": 0
      },
      "text/plain": [
       "  0%|          | 0/5000 [00:00<?, ?it/s]"
      ]
     },
     "metadata": {},
     "output_type": "display_data"
    },
    {
     "data": {
      "application/vnd.jupyter.widget-view+json": {
       "model_id": "40d00fd2cb98429ca0a58755a7bf7767",
       "version_major": 2,
       "version_minor": 0
      },
      "text/plain": [
       "  0%|          | 0/5000 [00:00<?, ?it/s]"
      ]
     },
     "metadata": {},
     "output_type": "display_data"
    },
    {
     "data": {
      "application/vnd.jupyter.widget-view+json": {
       "model_id": "5c8a7e9cb886486a870e80dbfff1568d",
       "version_major": 2,
       "version_minor": 0
      },
      "text/plain": [
       "  0%|          | 0/5000 [00:00<?, ?it/s]"
      ]
     },
     "metadata": {},
     "output_type": "display_data"
    },
    {
     "data": {
      "application/vnd.jupyter.widget-view+json": {
       "model_id": "fddecd9144da4657a3121e4171a46c45",
       "version_major": 2,
       "version_minor": 0
      },
      "text/plain": [
       "  0%|          | 0/5000 [00:00<?, ?it/s]"
      ]
     },
     "metadata": {},
     "output_type": "display_data"
    },
    {
     "data": {
      "application/vnd.jupyter.widget-view+json": {
       "model_id": "f68d602d7bfe461c855a64578acfbc8c",
       "version_major": 2,
       "version_minor": 0
      },
      "text/plain": [
       "  0%|          | 0/5000 [00:00<?, ?it/s]"
      ]
     },
     "metadata": {},
     "output_type": "display_data"
    },
    {
     "data": {
      "application/vnd.jupyter.widget-view+json": {
       "model_id": "77ff5fb278e240dbb4f3ceec0c83ae77",
       "version_major": 2,
       "version_minor": 0
      },
      "text/plain": [
       "  0%|          | 0/5000 [00:00<?, ?it/s]"
      ]
     },
     "metadata": {},
     "output_type": "display_data"
    },
    {
     "data": {
      "application/vnd.jupyter.widget-view+json": {
       "model_id": "e78d9db9b1af47f4a5c6c54900a09e86",
       "version_major": 2,
       "version_minor": 0
      },
      "text/plain": [
       "  0%|          | 0/5000 [00:00<?, ?it/s]"
      ]
     },
     "metadata": {},
     "output_type": "display_data"
    },
    {
     "data": {
      "application/vnd.jupyter.widget-view+json": {
       "model_id": "4eaaee7658144ae1a4da55817eefe5a8",
       "version_major": 2,
       "version_minor": 0
      },
      "text/plain": [
       "  0%|          | 0/5000 [00:00<?, ?it/s]"
      ]
     },
     "metadata": {},
     "output_type": "display_data"
    },
    {
     "data": {
      "application/vnd.jupyter.widget-view+json": {
       "model_id": "58fa5b0e5ae44808a6149e6158101b6a",
       "version_major": 2,
       "version_minor": 0
      },
      "text/plain": [
       "  0%|          | 0/5000 [00:00<?, ?it/s]"
      ]
     },
     "metadata": {},
     "output_type": "display_data"
    },
    {
     "data": {
      "application/vnd.jupyter.widget-view+json": {
       "model_id": "2704f23435444ed29e691107933ae683",
       "version_major": 2,
       "version_minor": 0
      },
      "text/plain": [
       "  0%|          | 0/5000 [00:00<?, ?it/s]"
      ]
     },
     "metadata": {},
     "output_type": "display_data"
    },
    {
     "data": {
      "application/vnd.jupyter.widget-view+json": {
       "model_id": "c316fd2f9f39469eb5671d00ea69a828",
       "version_major": 2,
       "version_minor": 0
      },
      "text/plain": [
       "  0%|          | 0/5000 [00:00<?, ?it/s]"
      ]
     },
     "metadata": {},
     "output_type": "display_data"
    },
    {
     "data": {
      "application/vnd.jupyter.widget-view+json": {
       "model_id": "d8e809cf03d541f7925601ab510ea293",
       "version_major": 2,
       "version_minor": 0
      },
      "text/plain": [
       "  0%|          | 0/5000 [00:00<?, ?it/s]"
      ]
     },
     "metadata": {},
     "output_type": "display_data"
    },
    {
     "data": {
      "application/vnd.jupyter.widget-view+json": {
       "model_id": "c4d0bc8b5fa0421fa89c3bcca068acc7",
       "version_major": 2,
       "version_minor": 0
      },
      "text/plain": [
       "  0%|          | 0/5000 [00:00<?, ?it/s]"
      ]
     },
     "metadata": {},
     "output_type": "display_data"
    },
    {
     "data": {
      "application/vnd.jupyter.widget-view+json": {
       "model_id": "3181cb09a1904f6aa08e17a0231ad535",
       "version_major": 2,
       "version_minor": 0
      },
      "text/plain": [
       "  0%|          | 0/5000 [00:00<?, ?it/s]"
      ]
     },
     "metadata": {},
     "output_type": "display_data"
    },
    {
     "data": {
      "application/vnd.jupyter.widget-view+json": {
       "model_id": "367ec0b50fa7478a9757231c194cd195",
       "version_major": 2,
       "version_minor": 0
      },
      "text/plain": [
       "  0%|          | 0/5000 [00:00<?, ?it/s]"
      ]
     },
     "metadata": {},
     "output_type": "display_data"
    },
    {
     "data": {
      "application/vnd.jupyter.widget-view+json": {
       "model_id": "8ea655333ffe4b209b764da850dddde6",
       "version_major": 2,
       "version_minor": 0
      },
      "text/plain": [
       "  0%|          | 0/5000 [00:00<?, ?it/s]"
      ]
     },
     "metadata": {},
     "output_type": "display_data"
    },
    {
     "data": {
      "application/vnd.jupyter.widget-view+json": {
       "model_id": "7ed1c18e1b6f4c90a3709c2ebda99da0",
       "version_major": 2,
       "version_minor": 0
      },
      "text/plain": [
       "  0%|          | 0/5000 [00:00<?, ?it/s]"
      ]
     },
     "metadata": {},
     "output_type": "display_data"
    },
    {
     "data": {
      "application/vnd.jupyter.widget-view+json": {
       "model_id": "1c9fd77ea3284aff86780458fc00a9fb",
       "version_major": 2,
       "version_minor": 0
      },
      "text/plain": [
       "  0%|          | 0/5000 [00:00<?, ?it/s]"
      ]
     },
     "metadata": {},
     "output_type": "display_data"
    },
    {
     "data": {
      "application/vnd.jupyter.widget-view+json": {
       "model_id": "a3086813fa674876b0ad1cc29fb49a36",
       "version_major": 2,
       "version_minor": 0
      },
      "text/plain": [
       "  0%|          | 0/5000 [00:00<?, ?it/s]"
      ]
     },
     "metadata": {},
     "output_type": "display_data"
    },
    {
     "data": {
      "application/vnd.jupyter.widget-view+json": {
       "model_id": "aaedf7de7b104be68d3157b8bb0ccb01",
       "version_major": 2,
       "version_minor": 0
      },
      "text/plain": [
       "  0%|          | 0/5000 [00:00<?, ?it/s]"
      ]
     },
     "metadata": {},
     "output_type": "display_data"
    },
    {
     "data": {
      "application/vnd.jupyter.widget-view+json": {
       "model_id": "1c80ef60d80c402490d5e56e7d4e28e1",
       "version_major": 2,
       "version_minor": 0
      },
      "text/plain": [
       "  0%|          | 0/5000 [00:00<?, ?it/s]"
      ]
     },
     "metadata": {},
     "output_type": "display_data"
    },
    {
     "data": {
      "application/vnd.jupyter.widget-view+json": {
       "model_id": "e697f0c6eeee435b8b94212befc09ee7",
       "version_major": 2,
       "version_minor": 0
      },
      "text/plain": [
       "  0%|          | 0/5000 [00:00<?, ?it/s]"
      ]
     },
     "metadata": {},
     "output_type": "display_data"
    },
    {
     "data": {
      "application/vnd.jupyter.widget-view+json": {
       "model_id": "bad507f5168e4293831e030575d587b3",
       "version_major": 2,
       "version_minor": 0
      },
      "text/plain": [
       "  0%|          | 0/5000 [00:00<?, ?it/s]"
      ]
     },
     "metadata": {},
     "output_type": "display_data"
    },
    {
     "data": {
      "application/vnd.jupyter.widget-view+json": {
       "model_id": "354cec5860e24ea6980562b21f4c40a6",
       "version_major": 2,
       "version_minor": 0
      },
      "text/plain": [
       "  0%|          | 0/5000 [00:00<?, ?it/s]"
      ]
     },
     "metadata": {},
     "output_type": "display_data"
    },
    {
     "data": {
      "application/vnd.jupyter.widget-view+json": {
       "model_id": "1c829778f4da4268a1169a99487ed2c1",
       "version_major": 2,
       "version_minor": 0
      },
      "text/plain": [
       "  0%|          | 0/5000 [00:00<?, ?it/s]"
      ]
     },
     "metadata": {},
     "output_type": "display_data"
    },
    {
     "data": {
      "application/vnd.jupyter.widget-view+json": {
       "model_id": "1ad0c32419404fcb8cd249fa17fd00d9",
       "version_major": 2,
       "version_minor": 0
      },
      "text/plain": [
       "  0%|          | 0/5000 [00:00<?, ?it/s]"
      ]
     },
     "metadata": {},
     "output_type": "display_data"
    },
    {
     "data": {
      "application/vnd.jupyter.widget-view+json": {
       "model_id": "1977c60fb1e54d1fa2bbe27dd20f5bbc",
       "version_major": 2,
       "version_minor": 0
      },
      "text/plain": [
       "  0%|          | 0/5000 [00:00<?, ?it/s]"
      ]
     },
     "metadata": {},
     "output_type": "display_data"
    },
    {
     "data": {
      "application/vnd.jupyter.widget-view+json": {
       "model_id": "68474296b9f0471ea7635e85cc7035c4",
       "version_major": 2,
       "version_minor": 0
      },
      "text/plain": [
       "  0%|          | 0/5000 [00:00<?, ?it/s]"
      ]
     },
     "metadata": {},
     "output_type": "display_data"
    },
    {
     "data": {
      "application/vnd.jupyter.widget-view+json": {
       "model_id": "113256ce6a634b359a2bc7419e944b0c",
       "version_major": 2,
       "version_minor": 0
      },
      "text/plain": [
       "  0%|          | 0/5000 [00:00<?, ?it/s]"
      ]
     },
     "metadata": {},
     "output_type": "display_data"
    },
    {
     "data": {
      "application/vnd.jupyter.widget-view+json": {
       "model_id": "360e5b2b05964c8f90e96546ae1c7408",
       "version_major": 2,
       "version_minor": 0
      },
      "text/plain": [
       "  0%|          | 0/5000 [00:00<?, ?it/s]"
      ]
     },
     "metadata": {},
     "output_type": "display_data"
    },
    {
     "data": {
      "application/vnd.jupyter.widget-view+json": {
       "model_id": "9175340f72724b14b814b44896abe58f",
       "version_major": 2,
       "version_minor": 0
      },
      "text/plain": [
       "  0%|          | 0/5000 [00:00<?, ?it/s]"
      ]
     },
     "metadata": {},
     "output_type": "display_data"
    },
    {
     "data": {
      "application/vnd.jupyter.widget-view+json": {
       "model_id": "8ff01210e0a147dd94ca172ef3352508",
       "version_major": 2,
       "version_minor": 0
      },
      "text/plain": [
       "  0%|          | 0/5000 [00:00<?, ?it/s]"
      ]
     },
     "metadata": {},
     "output_type": "display_data"
    },
    {
     "data": {
      "application/vnd.jupyter.widget-view+json": {
       "model_id": "f1200e14e9c14dc5971a35d375db978c",
       "version_major": 2,
       "version_minor": 0
      },
      "text/plain": [
       "  0%|          | 0/5000 [00:00<?, ?it/s]"
      ]
     },
     "metadata": {},
     "output_type": "display_data"
    }
   ],
   "source": [
    "SEED = 42\n",
    "t.manual_seed(SEED)\n",
    "random.seed(SEED)\n",
    "\n",
    "env = gym.make(\"CartPole-v1\")\n",
    "model = PolicyMLP(\n",
    "    in_size=env.observation_space.shape[0],\n",
    "    hidden_size=64,\n",
    "    out_size=env.action_space.n,\n",
    ").cuda()\n",
    "\n",
    "evaluate(model, env)\n",
    "\n",
    "loss_history_rtg, perf_history_rtg = policy_grad_train_rtg(\n",
    "    model = model,\n",
    "    env = env,\n",
    "    n_updates = 40,\n",
    "    batch_size = 5000,\n",
    "    eval_freq = 1,\n",
    "    gamma = 1.0,\n",
    "    lr = 1e-2,\n",
    "    seed = 42,\n",
    ")"
   ]
  },
  {
   "cell_type": "code",
   "execution_count": 131,
   "id": "bed986ff-6422-4de8-a971-8091b3b295c0",
   "metadata": {},
   "outputs": [
    {
     "data": {
      "text/plain": [
       "[<matplotlib.lines.Line2D at 0x7f6c26346c40>]"
      ]
     },
     "execution_count": 131,
     "metadata": {},
     "output_type": "execute_result"
    },
    {
     "data": {
      "image/png": "[encoded data removed]",
      "text/plain": [
       "<Figure size 432x288 with 1 Axes>"
      ]
     },
     "metadata": {
      "needs_background": "light"
     },
     "output_type": "display_data"
    }
   ],
   "source": [
    "plt.plot(perf_history_rtg)"
   ]
  },
  {
   "cell_type": "code",
   "execution_count": 132,
   "id": "79da98c2-095c-402f-a29a-c00db8b827e2",
   "metadata": {},
   "outputs": [
    {
     "data": {
      "text/plain": [
       "[<matplotlib.lines.Line2D at 0x7f6c263c09a0>]"
      ]
     },
     "execution_count": 132,
     "metadata": {},
     "output_type": "execute_result"
    },
    {
     "data": {
      "image/png": "[encoded data removed]",
      "text/plain": [
       "<Figure size 432x288 with 1 Axes>"
      ]
     },
     "metadata": {
      "needs_background": "light"
     },
     "output_type": "display_data"
    }
   ],
   "source": [
    "plt.plot(loss_history_rtg)"
   ]
  },
  {
   "cell_type": "code",
   "execution_count": null,
   "id": "e37d0258-8d71-4577-b1e5-576936630ab0",
   "metadata": {},
   "outputs": [],
   "source": []
  }
 ],
 "metadata": {
  "kernelspec": {
   "display_name": "Python 3 (ipykernel)",
   "language": "python",
   "name": "python3"
  },
  "language_info": {
   "codemirror_mode": {
    "name": "ipython",
    "version": 3
   },
   "file_extension": ".py",
   "mimetype": "text/x-python",
   "name": "python",
   "nbconvert_exporter": "python",
   "pygments_lexer": "ipython3",
   "version": "3.9.5"
  }
 },
 "nbformat": 4,
 "nbformat_minor": 5
}
