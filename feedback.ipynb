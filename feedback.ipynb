{
 "cells": [
  {
   "cell_type": "code",
   "execution_count": null,
   "metadata": {},
   "outputs": [],
   "source": [
    "rm_config = {\n",
    "    \"batch_size\": 64,\n",
    "    \"lr\": 1e-5,\n",
    "}"
   ]
  },
  {
   "cell_type": "code",
   "execution_count": 18,
   "metadata": {},
   "outputs": [],
   "source": [
    "import json\n",
    "import os\n",
    "import pandas as pd\n",
    "\n",
    "def load_batch(batch, path=\"comparisons/\"):\n",
    "    samples = []\n",
    "    for line in open(os.path.join(path, f\"batch{batch}.json\")):\n",
    "        samples.append(json.loads(line))\n",
    "    df = pd.DataFrame()\n",
    "    df[\"post\"] = [sample[\"info\"][\"post\"] for sample in samples]\n",
    "    df[\"title\"] = [sample[\"info\"][\"title\"] for sample in samples]\n",
    "    df[\"sum0\"] = [sample[\"summaries\"][0][\"text\"] for sample in samples]\n",
    "    df[\"sum1\"] = [sample[\"summaries\"][1][\"text\"] for sample in samples]\n",
    "    df[\"choice\"] = [sample[\"choice\"] for sample in samples]\n",
    "    return df"
   ]
  },
  {
   "cell_type": "code",
   "execution_count": null,
   "metadata": {},
   "outputs": [],
   "source": [
    "class RewardModel(nn.Module):\n",
    "    \n",
    "    def __init__(self):\n",
    "        super().__init__()  # TODO add scalar prediction head\n",
    "    \n",
    "    def load_weights(self):\n",
    "        pass  # TODO gpt-2 fine-tuned on autoregressive classification task\n",
    "    \n",
    "    def forward(self, x):\n",
    "        pass  # TODO pass through extra head\n",
    "    \n",
    "    \n",
    "reward_model = RewardModel()"
   ]
  },
  {
   "cell_type": "code",
   "execution_count": null,
   "metadata": {},
   "outputs": [],
   "source": [
    "import math\n",
    "\n",
    "\n",
    "def fine_tune(reward_model, minibatch_size=16):\n",
    "    for batch in range(3, 21):\n",
    "        batch = load_batch(batch).sample(frac=1)\n",
    "        for mb in range(math.ceil(batch.shape[0] / minibatch_size)):\n",
    "            minibatch = batch.iloc[mb * minibatch_size : min((mb + 1) * minibatch_size, batch.shape[0])]\n",
    "            # TODO predict reward for both summaries\n",
    "            # TODO compute loss\n",
    "            # TODO backprop\n",
    "    # TODO normalize output (mu=0)\n",
    "\n",
    "fine_tune(reward_model)"
   ]
  }
 ],
 "metadata": {
  "kernelspec": {
   "display_name": "Python 3",
   "language": "python",
   "name": "python3"
  },
  "language_info": {
   "codemirror_mode": {
    "name": "ipython",
    "version": 3
   },
   "file_extension": ".py",
   "mimetype": "text/x-python",
   "name": "python",
   "nbconvert_exporter": "python",
   "pygments_lexer": "ipython3",
   "version": "3.8.5"
  }
 },
 "nbformat": 4,
 "nbformat_minor": 4
}
