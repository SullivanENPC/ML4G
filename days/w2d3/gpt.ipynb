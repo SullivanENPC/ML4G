{
 "cells": [
  {
   "cell_type": "code",
   "execution_count": 1,
   "metadata": {},
   "outputs": [],
   "source": [
    "import gpt_tests\n",
    "from bert_sol import BertEmbedding, BertBlock, mapkey\n",
    "from bert_tests import get_pretrained_bert\n",
    "\n",
    "import math\n",
    "\n",
    "import torch as t\n",
    "import torch.nn as nn\n",
    "import torch.nn.functional as F\n",
    "import matplotlib.pyplot as plt\n",
    "\n",
    "import transformers\n",
    "from einops import rearrange, reduce, repeat\n",
    "from dataclasses import dataclass\n",
    "from torch import einsum\n",
    "from torchtyping import TensorType\n",
    "from typing import Optional"
   ]
  },
  {
   "cell_type": "code",
   "execution_count": 2,
   "metadata": {},
   "outputs": [],
   "source": [
    "DEVICE = t.device(\"cpu\")"
   ]
  },
  {
   "cell_type": "code",
   "execution_count": 3,
   "metadata": {},
   "outputs": [
    {
     "name": "stdout",
     "output_type": "stream",
     "text": [
      "Congrats! You've passed the test!\n",
      "Checking encoding:\n",
      "Congrats! You've passed the test!\n",
      "Checking new key and value:\n",
      "Congrats! You've passed the test!\n"
     ]
    }
   ],
   "source": [
    "class Attention(nn.Module):\n",
    "    \n",
    "    def __init__(self, hidden_size: int, num_heads: int):\n",
    "        super().__init__()\n",
    "        self.hidden_size = hidden_size\n",
    "        self.num_heads = num_heads\n",
    "        self.head_size = hidden_size // num_heads\n",
    "        self.attn_layer = nn.Linear(hidden_size, 3*hidden_size)\n",
    "        self.output_layer = nn.Linear(hidden_size, hidden_size)\n",
    "        \n",
    "    def forward(\n",
    "            self,\n",
    "            input: TensorType[\"batch_size\", \"seq_len\", \"hidden_size\"],\n",
    "            past_key_values: Optional[TensorType[\"num_heads\", \"seq_len\", \"2*head_size\"]] = None,\n",
    "            return_key_values: bool = False,\n",
    "            neg_inf=-1e4\n",
    "        ):\n",
    "\n",
    "        if past_key_values is None:\n",
    "            batch_size, seq_len, hidden_size = input.shape\n",
    "            queries, keys, values = t.split(self.attn_layer(input), hidden_size, dim=-1)\n",
    "            queries = rearrange(queries, \"b n (h p)-> b h n p\", h=self.num_heads)\n",
    "            keys = rearrange(keys, \"b n (h p) -> b h n p\", h=self.num_heads)\n",
    "            values = rearrange(values, \"b n (h p) -> b h n p\", h=self.num_heads)\n",
    "            attn_score = einsum(\"b h t p, b h f p -> b h t f\", queries, keys) / math.sqrt(self.head_size)\n",
    "            mask = t.ones((seq_len, seq_len), dtype=t.bool, device=DEVICE).triu(diagonal=1)\n",
    "            mask = repeat(mask, \"t f -> b h t f\", b=batch_size, h=self.num_heads)\n",
    "            attn_score[mask] = neg_inf\n",
    "\n",
    "            # calculate output\n",
    "            attn_pattern = t.softmax(attn_score, dim=-1)\n",
    "            attn_concat = einsum(\"b h t f, b h f p -> b h t p\", attn_pattern, values)\n",
    "            attn_concat = rearrange(attn_concat, \"b h t p -> b t (h p)\")\n",
    "            \n",
    "            return self.output_layer(attn_concat)\n",
    "        else:\n",
    "            _, _, hidden_size = input.shape\n",
    "            num_heads, seq_len, _ = past_key_values.shape\n",
    "            input = input[0, 0]\n",
    "            query, key, value = t.split(self.attn_layer(input), hidden_size, dim=-1)\n",
    "            query = rearrange(query, \"(h p) -> h p\", h=num_heads)\n",
    "            key = rearrange(key, \"(h p) -> h p\", h=num_heads).unsqueeze(-2)\n",
    "            value = rearrange(value, \"(h p) -> h p\", h=num_heads).unsqueeze(-2)\n",
    "            past_keys, past_values = t.split(past_key_values, self.head_size, dim=-1)\n",
    "            keys = t.cat((past_keys, key), dim=-2)\n",
    "            values = t.cat((past_values, value), dim=-2)\n",
    "            attn_score = einsum(\"h p, h n p -> h n\", query, keys) / math.sqrt(self.head_size)\n",
    "            attn_pattern = t.softmax(attn_score, dim=-1)\n",
    "            attn = einsum(\"h n, h n p -> h p\", attn_pattern, values)\n",
    "            output = self.output_layer(rearrange(attn, \"h p -> (h p)\"))\n",
    "            return (\n",
    "                output,\n",
    "                t.cat((key, value), dim=-1)\n",
    "            ) if return_key_values else output\n",
    "\n",
    "gpt_tests.test_unidirectional_attn(Attention)\n",
    "gpt_tests.test_attn_cache(Attention)"
   ]
  },
  {
   "cell_type": "code",
   "execution_count": 6,
   "metadata": {},
   "outputs": [
    {
     "name": "stdout",
     "output_type": "stream",
     "text": [
      "Congrats! You've passed the test!\n"
     ]
    }
   ],
   "source": [
    "class Block(nn.Module):\n",
    "\n",
    "    def __init__(\n",
    "        self,\n",
    "        hidden_size: int,\n",
    "        num_heads: int,\n",
    "        dropout: float,\n",
    "        layer_norm_epsilon: float\n",
    "    ):\n",
    "        super().__init__()\n",
    "        self.layer_norm_1 = nn.LayerNorm(hidden_size, eps=layer_norm_epsilon)\n",
    "        self.attention = Attention(hidden_size, num_heads)\n",
    "        self.layer_norm_2 = nn.LayerNorm(hidden_size, eps=layer_norm_epsilon)\n",
    "        self.linear_1 = nn.Linear(hidden_size, 4*hidden_size)\n",
    "        self.linear_2 = nn.Linear(4*hidden_size, hidden_size)\n",
    "        self.dropout = nn.Dropout(p=dropout)\n",
    "\n",
    "    def forward(\n",
    "            self,\n",
    "            input: TensorType[\"batch_size\", \"seq_len\", \"hidden_size\"],\n",
    "            past_key_values: Optional[TensorType[\"num_heads\", \"seq_len\", \"2*head_size\"]] = None,\n",
    "            return_key_values: bool = False,\n",
    "        ):\n",
    "        if past_key_values is None:\n",
    "            residual_attn = input + self.attention(self.layer_norm_1(input))\n",
    "            normed_attn = self.layer_norm_2(residual_attn)\n",
    "            mlp = self.linear_2(F.gelu(self.linear_1(normed_attn)))\n",
    "            dropout = self.dropout(mlp)\n",
    "            return residual_attn + dropout\n",
    "        else:\n",
    "            residual_attn, key_values = input + self.attention(\n",
    "                self.layer_norm_1(input),\n",
    "                past_key_values=past_key_values,\n",
    "                return_key_values=True,\n",
    "            )\n",
    "            normed_attn = self.layer_norm_2(residual_attn)\n",
    "            mlp = self.linear_2(F.gelu(self.linear_1(normed_attn)))\n",
    "            dropout = self.dropout(mlp)\n",
    "            output = residual_attn + dropout\n",
    "            return (output, key_values) if return_key_values else output\n",
    "\n",
    "\n",
    "gpt_tests.test_gpt_block(Block)"
   ]
  },
  {
   "cell_type": "code",
   "execution_count": null,
   "metadata": {},
   "outputs": [],
   "source": [
    "@dataclass\n",
    "class GPT2Output:\n",
    "    logits: TensorType[\"batch_size\", \"vocab_size\"]\n",
    "    final_encoding: TensorType[\"batch_size\", \"hidden_size\"]\n",
    "    encoding: TensorType[\"batch_size\", \"seq_len\", \"hidden_size\"]"
   ]
  },
  {
   "cell_type": "code",
   "execution_count": 7,
   "metadata": {},
   "outputs": [
    {
     "data": {
      "text/plain": [
       "tensor([], size=(2, 0))"
      ]
     },
     "execution_count": 7,
     "metadata": {},
     "output_type": "execute_result"
    }
   ],
   "source": [
    "t.zeros(2, 0)"
   ]
  },
  {
   "cell_type": "code",
   "execution_count": null,
   "metadata": {},
   "outputs": [],
   "source": [
    "class GPT2(nn.Module):\n",
    "\n",
    "    def __init__(\n",
    "        self,\n",
    "        num_layers: int,\n",
    "        num_heads: int,\n",
    "        vocab_size: int,\n",
    "        hidden_size: int,\n",
    "        max_position_embeddings: int,\n",
    "        dropout: float,\n",
    "        layer_norm_epsilon: float,\n",
    "        use_cache: bool = False,\n",
    "    ):\n",
    "        super().__init__()\n",
    "        self.token_embedding = nn.Embedding(vocab_size, hidden_size)\n",
    "        self.pos_embedding = nn.Embedding(max_position_embeddings, hidden_size)\n",
    "        self.dropout = nn.Dropout(p=dropout)\n",
    "        self.blocks = nn.Sequential(\n",
    "            *(Block(\n",
    "                hidden_size=hidden_size,\n",
    "                num_heads=num_heads,\n",
    "                dropout=dropout,\n",
    "                layer_norm_epsilon=layer_norm_epsilon\n",
    "            ) for _ in range(num_layers))\n",
    "        )\n",
    "        self.layer_norm = nn.LayerNorm(hidden_size, eps=layer_norm_epsilon)\n",
    "        head_size = hidden_size // num_heads\n",
    "        self.use_cache = use_cache\n",
    "        self.cache = t.zeros(num_layers, num_heads, 0, 2 * head_size, device=DEVICE)\n",
    "\n",
    "    def forward(self, input_ids: TensorType[\"batch_size\", \"seq_length\"]):\n",
    "        if self.use_cache:\n",
    "            for block in self.blocks:\n",
    "                keys = block()\n",
    "        else:\n",
    "            batch_size, seq_len = input_ids.shape\n",
    "            token_embedding = self.token_embedding(input_ids)\n",
    "            pos_embedding = self.pos_embedding(t.arange(seq_len, device=DEVICE))\n",
    "            embedding = self.dropout(token_embedding + pos_embedding)\n",
    "            block_output = self.blocks(embedding)\n",
    "            enconding = self.layer_norm(block_output)\n",
    "            final_encoding = enconding[:,-1,:]\n",
    "            logits = final_encoding @ self.token_embedding.weight.T\n",
    "            return GPT2Output(\n",
    "                logits=logits,\n",
    "                final_encoding=final_encoding,\n",
    "                encoding=enconding\n",
    "            )\n"
   ]
  },
  {
   "cell_type": "code",
   "execution_count": null,
   "metadata": {},
   "outputs": [],
   "source": [
    "gpt_tests.test_gpt(GPT2)"
   ]
  },
  {
   "cell_type": "code",
   "execution_count": null,
   "metadata": {},
   "outputs": [],
   "source": [
    "our_gpt = GPT2(num_layers=12, num_heads=12, vocab_size=50257, hidden_size=768, max_position_embeddings=1024, dropout=0.1, layer_norm_epsilon=1e-5)\n",
    "their_gpt = gpt_tests.get_pretrained_gpt()"
   ]
  },
  {
   "cell_type": "code",
   "execution_count": null,
   "metadata": {},
   "outputs": [],
   "source": [
    "def align_state_dicts(our_model, their_model):\n",
    "    print(f\"{len(our_model.state_dict())} {len(their_model.state_dict())}\")\n",
    "\n",
    "    for our_key, their_key in zip(our_model.state_dict(), their_model.state_dict()):\n",
    "        print(f\"{our_key:40}{their_key}\")\n",
    "\n",
    "# align_state_dicts(our_gpt, their_gpt)"
   ]
  },
  {
   "cell_type": "code",
   "execution_count": null,
   "metadata": {},
   "outputs": [],
   "source": [
    "def transfer_their_weights_to_ours(our_gpt, their_gpt):\n",
    "    new_state_dict = {key: their_value for key, their_value in zip(our_gpt.state_dict().keys(), their_gpt.state_dict().values())}\n",
    "    our_gpt.load_state_dict(new_state_dict)\n",
    "\n",
    "transfer_their_weights_to_ours(our_gpt=our_gpt, their_gpt=their_gpt)"
   ]
  },
  {
   "cell_type": "code",
   "execution_count": null,
   "metadata": {},
   "outputs": [],
   "source": [
    "class Bert(nn.Module):\n",
    "    def __init__(self, vocab_size, hidden_size, max_position_embeddings, type_vocab_size,\n",
    "                 dropout, intermediate_size, num_heads, num_layers):\n",
    "        super().__init__()\n",
    "        self.embed = BertEmbedding(vocab_size, hidden_size, max_position_embeddings,\n",
    "                                   type_vocab_size, dropout)\n",
    "        self.blocks = nn.Sequential(*[\n",
    "            BertBlock(hidden_size, intermediate_size, num_heads, dropout)\n",
    "            for _ in range(num_layers)\n",
    "        ])\n",
    "        self.lin = nn.Linear(hidden_size, hidden_size)\n",
    "        self.layer_norm = nn.LayerNorm(hidden_size)\n",
    "        self.unembed = nn.Linear(hidden_size, vocab_size)\n",
    "        \n",
    "    def forward(self, input_ids):\n",
    "        token_type_ids = t.zeros_like(input_ids, dtype=int)\n",
    "        emb = self.embed(input_ids, token_type_ids)\n",
    "        self._enc = enc = self.blocks(emb)\n",
    "        enc = self.lin(enc)\n",
    "        logits = self.unembed(self.layer_norm(F.gelu(enc)))\n",
    "        return GPT2Output(\n",
    "            logits=logits[:,-1,:],\n",
    "            final_encoding=enc[:,-1,:],\n",
    "            encoding=enc\n",
    "        )\n",
    "\n",
    "config = {\n",
    "    \"vocab_size\": 28996,\n",
    "    \"intermediate_size\": 3072,\n",
    "    \"hidden_size\": 768,\n",
    "    \"num_layers\": 12,\n",
    "    \"num_heads\": 12,\n",
    "    \"max_position_embeddings\": 512,\n",
    "    \"dropout\": 0.1,\n",
    "    \"type_vocab_size\": 2,\n",
    "}\n",
    "\n",
    "our_bert = Bert(**config)\n",
    "pretrained_bert = get_pretrained_bert()\n",
    "mapped_state_dict = { mapkey(k): v for k, v in pretrained_bert.state_dict().items() if not k.startswith('classification_head') }\n",
    "our_bert.load_state_dict(mapped_state_dict)"
   ]
  },
  {
   "cell_type": "code",
   "execution_count": null,
   "metadata": {},
   "outputs": [],
   "source": [
    "sentences = [\n",
    "    \"My life motto:\",\n",
    "    \"My life motto: Fortune\",\n",
    "    \"My life motto: Fortune favors\",\n",
    "    \"My life motto: Fortune favors the\",\n",
    "    \"My life motto: Fortune favors the bold\"\n",
    "]\n",
    "\n",
    "tokenizer = transformers.AutoTokenizer.from_pretrained(\"bert-base-cased\")\n",
    "input_ids = t.tensor(tokenizer(sentences, padding=\"longest\").input_ids)"
   ]
  },
  {
   "cell_type": "code",
   "execution_count": null,
   "metadata": {},
   "outputs": [],
   "source": [
    "our_gpt.eval()\n",
    "our_bert.eval()\n",
    "\n",
    "encodings_gpt = our_gpt(input_ids).encoding\n",
    "encodings_bert = our_bert(input_ids).encoding\n",
    "\n",
    "for i in range(len(sentences)):\n",
    "    print(f\"Sentence #{i + 1}\")\n",
    "    print(f\"GPT: {encodings_gpt[i, 3, :10]}\\nBERT: {encodings_bert[i, 3, :10]}\")"
   ]
  },
  {
   "cell_type": "markdown",
   "metadata": {},
   "source": [
    "### Is the embedding matrix orthogonal?"
   ]
  },
  {
   "cell_type": "code",
   "execution_count": null,
   "metadata": {},
   "outputs": [],
   "source": [
    "token_embedding_weight = our_gpt.token_embedding.weight\n",
    "matrix = t.detach(token_embedding_weight.T @ token_embedding_weight)"
   ]
  },
  {
   "cell_type": "code",
   "execution_count": null,
   "metadata": {},
   "outputs": [],
   "source": [
    "normed_matrix = (matrix - matrix.mean()) / matrix.std()"
   ]
  },
  {
   "cell_type": "code",
   "execution_count": null,
   "metadata": {},
   "outputs": [],
   "source": [
    "normed_matrix.eig()"
   ]
  },
  {
   "cell_type": "code",
   "execution_count": null,
   "metadata": {},
   "outputs": [],
   "source": [
    "normed_matrix.trace() / 768"
   ]
  },
  {
   "cell_type": "code",
   "execution_count": null,
   "metadata": {},
   "outputs": [],
   "source": [
    "t.norm(normed_matrix - 762.1544 * t.eye(*matrix.shape))"
   ]
  },
  {
   "cell_type": "code",
   "execution_count": null,
   "metadata": {},
   "outputs": [],
   "source": [
    "matrix.abs().trace() / matrix.abs().sum(dim=1).mean()"
   ]
  },
  {
   "cell_type": "code",
   "execution_count": null,
   "metadata": {},
   "outputs": [],
   "source": [
    "plt.imshow(t.abs(matrix) / t.norm(matrix, dim=0, keepdim=True))"
   ]
  },
  {
   "cell_type": "code",
   "execution_count": null,
   "metadata": {},
   "outputs": [],
   "source": [
    "plt.imshow(t.eye(*matrix.shape) / t.norm(matrix, dim=0, keepdim=True))"
   ]
  },
  {
   "cell_type": "code",
   "execution_count": null,
   "metadata": {},
   "outputs": [],
   "source": []
  }
 ],
 "metadata": {
  "interpreter": {
   "hash": "767d51c1340bd893661ea55ea3124f6de3c7a262a8b4abca0554b478b1e2ff90"
  },
  "kernelspec": {
   "display_name": "Python 3.8.5 64-bit",
   "language": "python",
   "name": "python3"
  },
  "language_info": {
   "codemirror_mode": {
    "name": "ipython",
    "version": 3
   },
   "file_extension": ".py",
   "mimetype": "text/x-python",
   "name": "python",
   "nbconvert_exporter": "python",
   "pygments_lexer": "ipython3",
   "version": "3.8.5"
  },
  "orig_nbformat": 4
 },
 "nbformat": 4,
 "nbformat_minor": 2
}
