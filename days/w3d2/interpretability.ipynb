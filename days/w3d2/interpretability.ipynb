{
 "cells": [
  {
   "cell_type": "code",
   "execution_count": 1,
   "metadata": {},
   "outputs": [],
   "source": [
    "%load_ext autoreload\n",
    "%autoreload 2\n",
    "\n",
    "import json\n",
    "import w3d2_tests\n",
    "import transformers\n",
    "import torch\n",
    "import torch as t\n",
    "from torch import nn\n",
    "import einops\n",
    "import matplotlib.pyplot as plt\n",
    "\n",
    "model = w3d2_tests.get_minigpt(\"model.pt\")\n",
    "tokenizer = transformers.GPT2Tokenizer.from_pretrained(\"gpt2\")\n",
    "tokenizer._add_tokens([\"[BEGIN]\", \"[END]\"])\n",
    "tokenizer.pad_token = \"[END]\"\n",
    "tokenizer.eos_token = \"[END]\"\n",
    "# 50258 is the pad_token_id\n",
    "# 50257 is the BEGIN token id\n",
    "\n",
    "with open(\"test_tokens_owt_subset.json\") as f:\n",
    "    test_tokens = torch.LongTensor(json.load(f))[:,:512]\n"
   ]
  },
  {
   "cell_type": "code",
   "execution_count": 2,
   "metadata": {},
   "outputs": [],
   "source": [
    "class UniAttention(nn.Module):\n",
    "    def __init__(self, hidden_size, num_heads):\n",
    "        super().__init__()\n",
    "        self.project_qkv = nn.Linear(hidden_size, hidden_size * 3, bias=False)\n",
    "        self.project_output = nn.Linear(hidden_size, hidden_size, bias=False)\n",
    "        \n",
    "        self.hidden_size = hidden_size\n",
    "        self.head_size = hidden_size // num_heads\n",
    "        self.n_heads = num_heads\n",
    "\n",
    "    def forward(self, x: t.Tensor, pos_embedding):\n",
    "        batch, seq_len = x.shape[:2]\n",
    "        pos_ids = t.arange(x.shape[1]).unsqueeze(0).to(x.device)\n",
    "        pos_emb = pos_embedding(pos_ids)\n",
    "\n",
    "        q, k, _ = t.split(self.project_qkv(x + pos_emb), self.hidden_size, dim=-1)\n",
    "        _, _, v = t.split(self.project_qkv(x), self.hidden_size, dim=-1)\n",
    "        \n",
    "        q = einops.rearrange(q, 'b n (h l) -> b h n l', l=self.head_size)\n",
    "        k = einops.rearrange(k, 'b n (h l) -> b h n l', l=self.head_size)\n",
    "        v = einops.rearrange(v, 'b n (h l) -> b h n l', l=self.head_size)\n",
    "        \n",
    "        neg_inf = t.tensor(-1e4).to(x.device)\n",
    "        q_ind = t.arange(seq_len).unsqueeze(1)\n",
    "        k_ind = t.arange(seq_len).unsqueeze(0)\n",
    "        mask = (q_ind < k_ind).to(x.device)\n",
    "        attn_scores = t.einsum('bhql, bhkl -> bhqk', q, k) / math.sqrt(self.head_size)\n",
    "        attn_scores = t.where(mask, neg_inf, attn_scores)\n",
    "\n",
    "        self._attn_scores = attn_scores.detach()[0]\n",
    "        probs = attn_scores.softmax(dim=-1)\n",
    "        combined_v = t.einsum('bhqk, bhkl -> bhql', probs, v)\n",
    "        combined_v = einops.rearrange(combined_v, 'b h q l -> b q (h l)')\n",
    "        self._combined_v = combined_v\n",
    "        out = self.project_output(combined_v)\n",
    "        return out\n"
   ]
  },
  {
   "cell_type": "code",
   "execution_count": 3,
   "metadata": {},
   "outputs": [],
   "source": [
    "# class MiniGPT(nn.Module):\n",
    "#     def __init__(self, num_heads=8, vocab_size=50259, hidden_size=256,\n",
    "#                  max_position_embeddings=512):\n",
    "#         super().__init__()\n",
    "#         self.token_embedding = nn.Embedding(vocab_size, hidden_size)\n",
    "#         self.pos_embedding = nn.Embedding(max_position_embeddings, hidden_size)\n",
    "#         self.blocks = nn.Sequential(\n",
    "#             UniAttention(hidden_size, num_heads),\n",
    "#             UniAttention(hidden_size, num_heads),\n",
    "#         )\n",
    "        \n",
    "#     def forward(self, input_ids):\n",
    "#         emb = self.token_embedding(input_ids)\n",
    "#         for block in self.blocks:\n",
    "#             emb = emb + block(emb, self.pos_embedding)\n",
    "#         return t.einsum('bnl, vl -> bnv', emb, self.token_embedding.weight)\n",
    "\n",
    "    \n",
    "    \n",
    "def weight_matrix(model, qkvo: str, layer: int, head: int):\n",
    "    layer = model.blocks[layer]\n",
    "    if qkvo == 'o':\n",
    "        res = layer.project_output.weight[:, head*layer.head_size:(head+1)*layer.head_size]\n",
    "        return res\n",
    "    weights = layer.project_qkv.weight\n",
    "    q, k, v = t.split(weights, layer.hidden_size, dim=0)\n",
    "    # Shapes are: output, input\n",
    "    # QKV map to each head, that's why that's the head*layer... is on LHS\n",
    "    if qkvo == 'q':\n",
    "        return q[head*layer.head_size:(head+1)*layer.head_size, :]\n",
    "    elif qkvo == 'k':\n",
    "        return k[head*layer.head_size:(head+1)*layer.head_size, :]\n",
    "    elif qkvo == 'v':\n",
    "        return v[head*layer.head_size:(head+1)*layer.head_size, :]\n",
    "    else:\n",
    "        raise ValueError(f'Unexpected qkvo value \"{qkvo}\"')\n",
    "\n",
    "# w3d2_tests.test_weight_matrix(weight_matrix)\n"
   ]
  },
  {
   "cell_type": "code",
   "execution_count": 4,
   "metadata": {},
   "outputs": [
    {
     "name": "stdout",
     "output_type": "stream",
     "text": [
      "Congrats! You've passed the test!\n",
      "Congrats! You've passed the test!\n"
     ]
    }
   ],
   "source": [
    "\n",
    "\n",
    "def attention_presoftmax(model, input_ids, neg_inf=-1e4):\n",
    "    model(input_ids)\n",
    "    neg_inf = t.tensor(neg_inf).to(input_ids.device)\n",
    "    \n",
    "    batch, seq_len = input_ids.shape[:2]\n",
    "    q_ind = t.arange(seq_len).unsqueeze(1)\n",
    "    k_ind = t.arange(seq_len).unsqueeze(0)\n",
    "    \n",
    "    mask = (q_ind < k_ind).to(input_ids.device)\n",
    "    all_attn_scores = []\n",
    "    \n",
    "    for layer in model.blocks:\n",
    "        all_attn_scores.append(t.where(mask, neg_inf, layer._attn_scores))\n",
    "    \n",
    "    # layer._attn_scores shape: batch_size, hidden_size, seq_len, seq_len\n",
    "    result = t.stack(all_attn_scores, dim=0)\n",
    "    return result\n",
    "\n",
    "w3d2_tests.test_attention_presoftmax(attention_presoftmax)\n",
    "\n",
    "def attention_softmaxed(model, input_ids):\n",
    "    attn_scores = attention_presoftmax(model, input_ids)\n",
    "    return attn_scores.softmax(dim=-1)\n",
    "\n",
    "w3d2_tests.test_attention_softmaxed(attention_softmaxed)\n",
    "\n"
   ]
  },
  {
   "cell_type": "code",
   "execution_count": 5,
   "metadata": {},
   "outputs": [
    {
     "name": "stdout",
     "output_type": "stream",
     "text": [
      "Congrats! You've passed the test!\n"
     ]
    }
   ],
   "source": [
    "\n",
    "def layer0_embedding_contributions(model, input_ids):\n",
    "    token_embeddings = model.token_embedding(input_ids)\n",
    "    model(input_ids)\n",
    "    \n",
    "    # what's in the doc: batch_size, seq_len, hidden_size\n",
    "    # what we have? batch_size, num_heads, seq_len, head_size\n",
    "    block = model.blocks[0]\n",
    "    combined_v = block._combined_v\n",
    "    \n",
    "    split_v = einops.rearrange(combined_v, 'batch_size seq_len (num_heads head_size) -> num_heads batch_size seq_len head_size', \n",
    "                               num_heads=block.n_heads)\n",
    "\n",
    "    layer_head_outputs = [t.einsum('bsn, on -> bso', split_v[i], weight_matrix(model, 'o', 0, i)) for i in range (block.n_heads)]\n",
    "    return [token_embeddings] + layer_head_outputs\n",
    "        \n",
    "w3d2_tests.test_layer0_embedding_contributions(layer0_embedding_contributions)\n",
    "        "
   ]
  },
  {
   "cell_type": "code",
   "execution_count": 6,
   "metadata": {},
   "outputs": [
    {
     "name": "stdout",
     "output_type": "stream",
     "text": [
      "expected[1][1]=tensor([[[-4.9771e-04, -9.7052e-03,  1.4165e-02,  ..., -7.1923e-03,\n",
      "           8.7951e-03,  1.2432e-02],\n",
      "         [-5.4336e-04, -1.4060e-02,  1.2033e-02,  ..., -1.4916e-02,\n",
      "           1.0521e-02,  4.1670e-03],\n",
      "         [-7.6825e-05, -1.4130e-02,  1.0433e-02,  ..., -1.6977e-02,\n",
      "           1.1078e-02,  1.5323e-03],\n",
      "         ...,\n",
      "         [-4.3942e-04, -1.0419e-02,  9.4183e-03,  ..., -1.8466e-02,\n",
      "           1.0260e-02,  7.1619e-06],\n",
      "         [ 2.1126e-04, -8.7242e-03,  7.5222e-03,  ..., -2.0696e-02,\n",
      "           9.9822e-03, -2.0267e-03],\n",
      "         [-5.2381e-05, -6.1574e-03,  6.6062e-03,  ..., -1.7786e-02,\n",
      "           8.5225e-03, -8.6275e-04]]], grad_fn=<ViewBackward0>)\n",
      "9\n",
      "torch.Size([1, 10, 256])\n",
      "actual[1][1]=tensor([[[-4.9771e-04, -9.7052e-03,  1.4165e-02,  ..., -7.1923e-03,\n",
      "           8.7951e-03,  1.2432e-02],\n",
      "         [-5.4559e-04, -1.4272e-02,  1.1930e-02,  ..., -1.5292e-02,\n",
      "           1.0605e-02,  3.7644e-03],\n",
      "         [ 7.5567e-05, -1.3327e-02,  1.0344e-02,  ..., -1.6149e-02,\n",
      "           1.0923e-02,  2.2854e-03],\n",
      "         ...,\n",
      "         [-3.9393e-04, -9.9825e-03,  8.2672e-03,  ..., -2.0986e-02,\n",
      "           1.0415e-02, -2.4102e-03],\n",
      "         [-1.8904e-04, -8.3843e-03,  7.6967e-03,  ..., -2.1251e-02,\n",
      "           9.9837e-03, -2.9499e-03],\n",
      "         [-4.1813e-06, -6.5841e-03,  6.7759e-03,  ..., -1.8634e-02,\n",
      "           8.8756e-03, -1.4473e-03]]], grad_fn=<ViewBackward0>)\n",
      "actual[1][1] - expected[1][1]=tensor([[[-1.3970e-09,  0.0000e+00, -4.6566e-09,  ...,  1.8626e-09,\n",
      "           1.8626e-09,  3.7253e-09],\n",
      "         [-2.2247e-06, -2.1211e-04, -1.0383e-04,  ..., -3.7614e-04,\n",
      "           8.4060e-05, -4.0255e-04],\n",
      "         [ 1.5239e-04,  8.0314e-04, -8.9386e-05,  ...,  8.2713e-04,\n",
      "          -1.5515e-04,  7.5304e-04],\n",
      "         ...,\n",
      "         [ 4.5492e-05,  4.3611e-04, -1.1511e-03,  ..., -2.5195e-03,\n",
      "           1.5437e-04, -2.4174e-03],\n",
      "         [-4.0030e-04,  3.3986e-04,  1.7449e-04,  ..., -5.5474e-04,\n",
      "           1.5283e-06, -9.2328e-04],\n",
      "         [ 4.8200e-05, -4.2661e-04,  1.6970e-04,  ..., -8.4866e-04,\n",
      "           3.5315e-04, -5.8452e-04]]], grad_fn=<SubBackward0>)\n"
     ]
    },
    {
     "ename": "AssertionError",
     "evalue": "",
     "output_type": "error",
     "traceback": [
      "\u001b[0;31m---------------------------------------------------------------------------\u001b[0m",
      "\u001b[0;31mAssertionError\u001b[0m                            Traceback (most recent call last)",
      "\u001b[0;32m<ipython-input-6-cefa222bd0be>\u001b[0m in \u001b[0;36m<module>\u001b[0;34m\u001b[0m\n\u001b[1;32m     25\u001b[0m     \u001b[0;32mreturn\u001b[0m \u001b[0mresults\u001b[0m\u001b[0;34m\u001b[0m\u001b[0;34m\u001b[0m\u001b[0m\n\u001b[1;32m     26\u001b[0m \u001b[0;34m\u001b[0m\u001b[0m\n\u001b[0;32m---> 27\u001b[0;31m \u001b[0mw3d2_tests\u001b[0m\u001b[0;34m.\u001b[0m\u001b[0mtest_layer1_embedding_contributions\u001b[0m\u001b[0;34m(\u001b[0m\u001b[0mlayer1_embedding_contributions\u001b[0m\u001b[0;34m)\u001b[0m\u001b[0;34m\u001b[0m\u001b[0;34m\u001b[0m\u001b[0m\n\u001b[0m",
      "\u001b[0;32m~/yulong-tim/mlab/days/w3d2/w3d2_tests.py\u001b[0m in \u001b[0;36mtest_layer1_embedding_contributions\u001b[0;34m(f)\u001b[0m\n\u001b[1;32m    220\u001b[0m     \u001b[0mprint\u001b[0m\u001b[0;34m(\u001b[0m\u001b[0;34mf\"{actual[1][1]=}\"\u001b[0m\u001b[0;34m)\u001b[0m\u001b[0;34m\u001b[0m\u001b[0;34m\u001b[0m\u001b[0m\n\u001b[1;32m    221\u001b[0m     \u001b[0mprint\u001b[0m\u001b[0;34m(\u001b[0m\u001b[0;34mf\"{actual[1][1] - expected[1][1]=}\"\u001b[0m\u001b[0;34m)\u001b[0m\u001b[0;34m\u001b[0m\u001b[0;34m\u001b[0m\u001b[0m\n\u001b[0;32m--> 222\u001b[0;31m     \u001b[0m_check_equal\u001b[0m\u001b[0;34m(\u001b[0m\u001b[0mexpected\u001b[0m\u001b[0;34m,\u001b[0m \u001b[0mactual\u001b[0m\u001b[0;34m)\u001b[0m\u001b[0;34m\u001b[0m\u001b[0;34m\u001b[0m\u001b[0m\n\u001b[0m\u001b[1;32m    223\u001b[0m \u001b[0;34m\u001b[0m\u001b[0m\n\u001b[1;32m    224\u001b[0m \u001b[0;34m\u001b[0m\u001b[0m\n",
      "\u001b[0;32m~/yulong-tim/mlab/days/w3d2/w3d2_tests.py\u001b[0m in \u001b[0;36m_check_equal\u001b[0;34m(tensor1, tensor2, print_congrats)\u001b[0m\n\u001b[1;32m    174\u001b[0m         \u001b[0;32massert\u001b[0m \u001b[0mlen\u001b[0m\u001b[0;34m(\u001b[0m\u001b[0mtensor1\u001b[0m\u001b[0;34m)\u001b[0m \u001b[0;34m==\u001b[0m \u001b[0mlen\u001b[0m\u001b[0;34m(\u001b[0m\u001b[0mtensor2\u001b[0m\u001b[0;34m)\u001b[0m\u001b[0;34m\u001b[0m\u001b[0;34m\u001b[0m\u001b[0m\n\u001b[1;32m    175\u001b[0m         \u001b[0;32mfor\u001b[0m \u001b[0mt1\u001b[0m\u001b[0;34m,\u001b[0m \u001b[0mt2\u001b[0m \u001b[0;32min\u001b[0m \u001b[0mzip\u001b[0m\u001b[0;34m(\u001b[0m\u001b[0mtensor1\u001b[0m\u001b[0;34m,\u001b[0m \u001b[0mtensor2\u001b[0m\u001b[0;34m)\u001b[0m\u001b[0;34m:\u001b[0m\u001b[0;34m\u001b[0m\u001b[0;34m\u001b[0m\u001b[0m\n\u001b[0;32m--> 176\u001b[0;31m             \u001b[0m_check_equal\u001b[0m\u001b[0;34m(\u001b[0m\u001b[0mt1\u001b[0m\u001b[0;34m,\u001b[0m \u001b[0mt2\u001b[0m\u001b[0;34m,\u001b[0m \u001b[0mprint_congrats\u001b[0m\u001b[0;34m=\u001b[0m\u001b[0;32mFalse\u001b[0m\u001b[0;34m)\u001b[0m\u001b[0;34m\u001b[0m\u001b[0;34m\u001b[0m\u001b[0m\n\u001b[0m\u001b[1;32m    177\u001b[0m     \u001b[0;32melse\u001b[0m\u001b[0;34m:\u001b[0m\u001b[0;34m\u001b[0m\u001b[0;34m\u001b[0m\u001b[0m\n\u001b[1;32m    178\u001b[0m         \u001b[0;32massert\u001b[0m \u001b[0mt\u001b[0m\u001b[0;34m.\u001b[0m\u001b[0mallclose\u001b[0m\u001b[0;34m(\u001b[0m\u001b[0mtensor1\u001b[0m\u001b[0;34m,\u001b[0m \u001b[0mtensor2\u001b[0m\u001b[0;34m,\u001b[0m \u001b[0matol\u001b[0m\u001b[0;34m=\u001b[0m\u001b[0;36m1e-4\u001b[0m\u001b[0;34m,\u001b[0m \u001b[0mrtol\u001b[0m\u001b[0;34m=\u001b[0m\u001b[0;36m1e-4\u001b[0m\u001b[0;34m)\u001b[0m\u001b[0;34m\u001b[0m\u001b[0;34m\u001b[0m\u001b[0m\n",
      "\u001b[0;32m~/yulong-tim/mlab/days/w3d2/w3d2_tests.py\u001b[0m in \u001b[0;36m_check_equal\u001b[0;34m(tensor1, tensor2, print_congrats)\u001b[0m\n\u001b[1;32m    174\u001b[0m         \u001b[0;32massert\u001b[0m \u001b[0mlen\u001b[0m\u001b[0;34m(\u001b[0m\u001b[0mtensor1\u001b[0m\u001b[0;34m)\u001b[0m \u001b[0;34m==\u001b[0m \u001b[0mlen\u001b[0m\u001b[0;34m(\u001b[0m\u001b[0mtensor2\u001b[0m\u001b[0;34m)\u001b[0m\u001b[0;34m\u001b[0m\u001b[0;34m\u001b[0m\u001b[0m\n\u001b[1;32m    175\u001b[0m         \u001b[0;32mfor\u001b[0m \u001b[0mt1\u001b[0m\u001b[0;34m,\u001b[0m \u001b[0mt2\u001b[0m \u001b[0;32min\u001b[0m \u001b[0mzip\u001b[0m\u001b[0;34m(\u001b[0m\u001b[0mtensor1\u001b[0m\u001b[0;34m,\u001b[0m \u001b[0mtensor2\u001b[0m\u001b[0;34m)\u001b[0m\u001b[0;34m:\u001b[0m\u001b[0;34m\u001b[0m\u001b[0;34m\u001b[0m\u001b[0m\n\u001b[0;32m--> 176\u001b[0;31m             \u001b[0m_check_equal\u001b[0m\u001b[0;34m(\u001b[0m\u001b[0mt1\u001b[0m\u001b[0;34m,\u001b[0m \u001b[0mt2\u001b[0m\u001b[0;34m,\u001b[0m \u001b[0mprint_congrats\u001b[0m\u001b[0;34m=\u001b[0m\u001b[0;32mFalse\u001b[0m\u001b[0;34m)\u001b[0m\u001b[0;34m\u001b[0m\u001b[0;34m\u001b[0m\u001b[0m\n\u001b[0m\u001b[1;32m    177\u001b[0m     \u001b[0;32melse\u001b[0m\u001b[0;34m:\u001b[0m\u001b[0;34m\u001b[0m\u001b[0;34m\u001b[0m\u001b[0m\n\u001b[1;32m    178\u001b[0m         \u001b[0;32massert\u001b[0m \u001b[0mt\u001b[0m\u001b[0;34m.\u001b[0m\u001b[0mallclose\u001b[0m\u001b[0;34m(\u001b[0m\u001b[0mtensor1\u001b[0m\u001b[0;34m,\u001b[0m \u001b[0mtensor2\u001b[0m\u001b[0;34m,\u001b[0m \u001b[0matol\u001b[0m\u001b[0;34m=\u001b[0m\u001b[0;36m1e-4\u001b[0m\u001b[0;34m,\u001b[0m \u001b[0mrtol\u001b[0m\u001b[0;34m=\u001b[0m\u001b[0;36m1e-4\u001b[0m\u001b[0;34m)\u001b[0m\u001b[0;34m\u001b[0m\u001b[0;34m\u001b[0m\u001b[0m\n",
      "\u001b[0;32m~/yulong-tim/mlab/days/w3d2/w3d2_tests.py\u001b[0m in \u001b[0;36m_check_equal\u001b[0;34m(tensor1, tensor2, print_congrats)\u001b[0m\n\u001b[1;32m    176\u001b[0m             \u001b[0m_check_equal\u001b[0m\u001b[0;34m(\u001b[0m\u001b[0mt1\u001b[0m\u001b[0;34m,\u001b[0m \u001b[0mt2\u001b[0m\u001b[0;34m,\u001b[0m \u001b[0mprint_congrats\u001b[0m\u001b[0;34m=\u001b[0m\u001b[0;32mFalse\u001b[0m\u001b[0;34m)\u001b[0m\u001b[0;34m\u001b[0m\u001b[0;34m\u001b[0m\u001b[0m\n\u001b[1;32m    177\u001b[0m     \u001b[0;32melse\u001b[0m\u001b[0;34m:\u001b[0m\u001b[0;34m\u001b[0m\u001b[0;34m\u001b[0m\u001b[0m\n\u001b[0;32m--> 178\u001b[0;31m         \u001b[0;32massert\u001b[0m \u001b[0mt\u001b[0m\u001b[0;34m.\u001b[0m\u001b[0mallclose\u001b[0m\u001b[0;34m(\u001b[0m\u001b[0mtensor1\u001b[0m\u001b[0;34m,\u001b[0m \u001b[0mtensor2\u001b[0m\u001b[0;34m,\u001b[0m \u001b[0matol\u001b[0m\u001b[0;34m=\u001b[0m\u001b[0;36m1e-4\u001b[0m\u001b[0;34m,\u001b[0m \u001b[0mrtol\u001b[0m\u001b[0;34m=\u001b[0m\u001b[0;36m1e-4\u001b[0m\u001b[0;34m)\u001b[0m\u001b[0;34m\u001b[0m\u001b[0;34m\u001b[0m\u001b[0m\n\u001b[0m\u001b[1;32m    179\u001b[0m     \u001b[0;32mif\u001b[0m \u001b[0mprint_congrats\u001b[0m\u001b[0;34m:\u001b[0m\u001b[0;34m\u001b[0m\u001b[0;34m\u001b[0m\u001b[0m\n\u001b[1;32m    180\u001b[0m         \u001b[0mprint\u001b[0m\u001b[0;34m(\u001b[0m\u001b[0;34m\"Congrats! You've passed the test!\"\u001b[0m\u001b[0;34m)\u001b[0m\u001b[0;34m\u001b[0m\u001b[0;34m\u001b[0m\u001b[0m\n",
      "\u001b[0;31mAssertionError\u001b[0m: "
     ]
    }
   ],
   "source": [
    "\n",
    "def layer1_embedding_contributions(model, input_ids):\n",
    "    \n",
    "    token_embeddings = model.token_embedding(input_ids)\n",
    "    model(input_ids)\n",
    "    \n",
    "    layer0_contributions = layer0_embedding_contributions(model, input_ids)\n",
    "    print(len(layer0_contributions))\n",
    "    \n",
    "    results = []\n",
    "    \n",
    "    for layer0_contribution in layer0_contributions:\n",
    "        layer_outputs = [layer0_contribution]\n",
    "        block = model.blocks[1]\n",
    "        block(layer0_contribution, model.pos_embedding)\n",
    "        combined_v = block._combined_v\n",
    "    \n",
    "        split_v = einops.rearrange(combined_v, \n",
    "                                   'batch_size seq_len (num_heads head_size) -> num_heads batch_size seq_len head_size', \n",
    "                                   num_heads=block.n_heads)\n",
    "        layer_outputs += [t.einsum('bsn, on -> bso', split_v[i], weight_matrix(model, 'o', 1, i)) for i in range (block.n_heads)]\n",
    "        results.append(layer_outputs)\n",
    "    print(results[2][2].shape)\n",
    "    \n",
    "    # each item is: batch_size, seq_len, hidden_size\n",
    "    return results\n",
    "\n",
    "w3d2_tests.test_layer1_embedding_contributions(layer1_embedding_contributions)\n"
   ]
  },
  {
   "cell_type": "code",
   "execution_count": null,
   "metadata": {},
   "outputs": [],
   "source": [
    "t.allclose(torch.tensor(1), torch.tensor([1, 2]))"
   ]
  },
  {
   "cell_type": "code",
   "execution_count": 8,
   "metadata": {},
   "outputs": [],
   "source": [
    "def vis_attention(model, layer, head, input_ids, tokenizer=tokenizer):\n",
    "    attentions = attention_softmaxed(model, input_ids)\n",
    "    plt.imshow(attentions[layer, head])\n"
   ]
  },
  {
   "cell_type": "code",
   "execution_count": 9,
   "metadata": {},
   "outputs": [
    {
     "data": {
      "text/plain": [
       "(tensor([[50257, 17250,   703,   389,   345,    30, 50258],\n",
       "         [50257,    40,   716,  1804,   880,    13, 50258]]),\n",
       " torch.Size([2, 7]))"
      ]
     },
     "execution_count": 9,
     "metadata": {},
     "output_type": "execute_result"
    }
   ],
   "source": [
    "input_ids = tokenizer(['[BEGIN] Hi how are you? [END]', '[BEGIN] I am doing well. [END]'], return_tensors='pt')['input_ids']\n",
    "input_ids, input_ids.shape"
   ]
  },
  {
   "cell_type": "code",
   "execution_count": null,
   "metadata": {},
   "outputs": [],
   "source": [
    "for layer in range(2):\n",
    "    for head in range(8):\n",
    "        print(f\"{layer=}\", f\"{head=}\")\n",
    "        vis_attention(model, layer=layer, head=head, input_ids=input_ids)\n",
    "        plt.show()"
   ]
  },
  {
   "cell_type": "code",
   "execution_count": null,
   "metadata": {},
   "outputs": [],
   "source": [
    "input_ids"
   ]
  },
  {
   "cell_type": "code",
   "execution_count": 40,
   "metadata": {},
   "outputs": [
    {
     "name": "stdout",
     "output_type": "stream",
     "text": [
      "9\n",
      "torch.Size([1, 12, 256])\n"
     ]
    },
    {
     "ename": "NameError",
     "evalue": "name 'i' is not defined",
     "output_type": "error",
     "traceback": [
      "\u001b[0;31m---------------------------------------------------------------------------\u001b[0m",
      "\u001b[0;31mNameError\u001b[0m                                 Traceback (most recent call last)",
      "\u001b[0;32m<ipython-input-40-bd0d440d3b54>\u001b[0m in \u001b[0;36m<module>\u001b[0;34m\u001b[0m\n\u001b[1;32m      2\u001b[0m \u001b[0;34m\u001b[0m\u001b[0m\n\u001b[1;32m      3\u001b[0m \u001b[0mlayer1_contributions\u001b[0m \u001b[0;34m=\u001b[0m \u001b[0mlayer1_embedding_contributions\u001b[0m\u001b[0;34m(\u001b[0m\u001b[0mmodel\u001b[0m\u001b[0;34m,\u001b[0m \u001b[0minput_ids\u001b[0m\u001b[0;34m)\u001b[0m\u001b[0;34m\u001b[0m\u001b[0;34m\u001b[0m\u001b[0m\n\u001b[0;32m----> 4\u001b[0;31m \u001b[0mlayer1_contributions\u001b[0m\u001b[0;34m[\u001b[0m\u001b[0mi\u001b[0m\u001b[0;34m]\u001b[0m\u001b[0;34m[\u001b[0m\u001b[0mj\u001b[0m\u001b[0;34m]\u001b[0m\u001b[0;34m\u001b[0m\u001b[0;34m\u001b[0m\u001b[0m\n\u001b[0m",
      "\u001b[0;31mNameError\u001b[0m: name 'i' is not defined"
     ]
    }
   ],
   "source": [
    "input_ids = tokenizer(['[BEGIN] Hi how are you. Hi really good. Hi.'], return_tensors='pt')['input_ids']\n",
    "\n",
    "layer1_contributions = layer1_embedding_contributions(model, input_ids)\n",
    "layer1_contributions[i][j]"
   ]
  },
  {
   "cell_type": "code",
   "execution_count": 41,
   "metadata": {},
   "outputs": [
    {
     "data": {
      "text/plain": [
       "[tensor([[ 0.7769,  0.7754, 18.6025, 21.0893, 20.2699, 16.5687, 15.5548, 29.6031,\n",
       "          13.2295, 15.0390, 16.8253, 30.0753]], grad_fn=<SumBackward1>),\n",
       " tensor([[0.3200, 0.3199, 2.3385, 3.7999, 3.7689, 2.8225, 2.4293, 2.7209, 2.7246,\n",
       "          3.1062, 2.7983, 3.4419]], grad_fn=<SumBackward1>),\n",
       " tensor([[0.3694, 0.3693, 0.4882, 1.1471, 1.1320, 0.8694, 1.6841, 0.6595, 1.1185,\n",
       "          0.9741, 2.3032, 0.8091]], grad_fn=<SumBackward1>),\n",
       " tensor([[0.5374, 0.5370, 2.5654, 3.2426, 4.1631, 3.7899, 3.1187, 4.1566, 4.0884,\n",
       "          4.0029, 3.1161, 4.7299]], grad_fn=<SumBackward1>),\n",
       " tensor([[0.4345, 0.4338, 3.5867, 4.7422, 4.6748, 4.1146, 4.2799, 4.6940, 4.1544,\n",
       "          3.7634, 4.3731, 4.8611]], grad_fn=<SumBackward1>),\n",
       " tensor([[0.6660, 0.6660, 0.6424, 0.6541, 0.6765, 0.6750, 0.6819, 0.6618, 0.6563,\n",
       "          0.6743, 0.6728, 0.6685]], grad_fn=<SumBackward1>),\n",
       " tensor([[0.5457, 0.5457, 0.9964, 1.5978, 1.4584, 1.5005, 1.7658, 2.2193, 2.5046,\n",
       "          2.7745, 2.9028, 3.4151]], grad_fn=<SumBackward1>),\n",
       " tensor([[0.5306, 0.5304, 0.7729, 1.3099, 1.5071, 1.6909, 2.0641, 2.1725, 2.7351,\n",
       "          2.9779, 3.3001, 3.0967]], grad_fn=<SumBackward1>),\n",
       " tensor([[0.3589, 0.3589, 0.9040, 1.3295, 0.8455, 0.6048, 1.0359, 3.4871, 2.0359,\n",
       "          3.6593, 1.8180, 3.7908]], grad_fn=<SumBackward1>)]"
      ]
     },
     "execution_count": 41,
     "metadata": {},
     "output_type": "execute_result"
    }
   ],
   "source": [
    "[i.abs().sum(dim=-1) for i in layer1_contributions[1]]"
   ]
  },
  {
   "cell_type": "code",
   "execution_count": 44,
   "metadata": {},
   "outputs": [
    {
     "data": {
      "text/plain": [
       "['uctpenicceryolengressrigesticocateotic',\n",
       " 'uctpenicceryolengressrigesticocateotic',\n",
       " 'Civil Dull Appalach Asgardsecure CrowunningUrban Voldemortiant',\n",
       " ' Thiel GPS mainland Tibet WiSnowAllenCivil Dull Maps',\n",
       " ' TibetChina Thiel Gibraltar GPS mainland TibetanijingVPN Swansea',\n",
       " ' TibetChinaijingVPN Tibetan Thiel Beijing Snowden PruittPrivacy',\n",
       " ' TibetChinaijing BeijingPrivacy Tibetan China Thiel GPS Dalai',\n",
       " ' TibetChina BeijingPrivacyijing Tibetan Thiel GPS China Dalai',\n",
       " ' TibetChinaPrivacy Beijing Thielijing China Bezos Tibetan Dalai',\n",
       " ' TibetChinaPrivacy Beijing Dalaiijing Bezos China Tibetan Alibaba',\n",
       " ' TibetChina BeijingPrivacy China Bezos Dalai Tibetanijing Alibaba',\n",
       " 'China TibetPrivacy Beijing Bezos China Dalai Tibetan Thielijing']"
      ]
     },
     "execution_count": 44,
     "metadata": {},
     "output_type": "execute_result"
    }
   ],
   "source": [
    "# Unembed l0h0, l1h4 and check the tokens\n",
    "# emb = layer1_contributions[1][5] + layer1_contributions[0][0]\n",
    "emb = layer1_contributions[1][5] + layer1_contributions[1][7]\n",
    "\n",
    "logits = t.einsum('bnl, vl -> bnv', emb, model.token_embedding.weight)\n",
    "tokenizer.batch_decode(torch.topk(logits, k=10, dim=-1).indices.squeeze())"
   ]
  },
  {
   "cell_type": "code",
   "execution_count": null,
   "metadata": {},
   "outputs": [],
   "source": [
    "[i.abs().sum() for i in layer1_contributions[1]]\n",
    "\n",
    "# Take unembedding of this, and see if there's copying behaviour"
   ]
  },
  {
   "cell_type": "code",
   "execution_count": null,
   "metadata": {},
   "outputs": [],
   "source": [
    "[i.sum() for i in layer1_contributions[1]]"
   ]
  },
  {
   "cell_type": "code",
   "execution_count": null,
   "metadata": {},
   "outputs": [],
   "source": [
    "[i.abs().sum() for i in layer1_contributions[0]]"
   ]
  },
  {
   "cell_type": "code",
   "execution_count": null,
   "metadata": {},
   "outputs": [],
   "source": [
    "[i.abs().sum() for i in layer1_contributions[3]]"
   ]
  },
  {
   "cell_type": "code",
   "execution_count": 10,
   "metadata": {},
   "outputs": [],
   "source": [
    "x = attention_softmaxed(model, input_ids)"
   ]
  },
  {
   "cell_type": "code",
   "execution_count": 63,
   "metadata": {},
   "outputs": [],
   "source": [
    "def virtual_head(model, embedding, layer0_head_idx, layer1_head_idx, attn_precomputed):\n",
    "    probs = attn_precomputed\n",
    "\n",
    "    if layer0_head_idx == model.blocks[0].n_heads:\n",
    "        out = embedding\n",
    "    else:\n",
    "        Wv0 = weight_matrix(model, 'v', 0, layer0_head_idx)\n",
    "        Wo0 = weight_matrix(model, 'o', 0, layer0_head_idx)\n",
    "\n",
    "        v = t.einsum('bsi, ji -> bsj', embedding, Wv0)\n",
    "        combined_v = t.einsum('qk, bkl -> bql', probs[0, layer0_head_idx], v)\n",
    "        out = t.einsum('bsi, ji -> bsj', combined_v, Wo0)\n",
    "    \n",
    "    if layer1_head_idx == model.blocks[1].n_heads:\n",
    "        embeddings = embedding\n",
    "    else:\n",
    "        Wv1 = weight_matrix(model, 'v', 1, layer1_head_idx)\n",
    "        Wo1 = weight_matrix(model, 'o', 1, layer1_head_idx)\n",
    "\n",
    "        v = t.einsum('bsi, ji -> bsj', out, Wv1)\n",
    "        combined_v = t.einsum('qk, bkl -> bql', probs[1, layer1_head_idx], v)\n",
    "        embeddings = t.einsum('bsi, ji -> bsj', combined_v, Wo1)\n",
    "    return t.einsum('bnl, vl -> bnv', embeddings, model.token_embedding.weight)\n",
    "\n",
    "\n",
    "def all_virtual_attn_heads(model, sentence):\n",
    "    input_ids = tokenizer([sentence], return_tensors='pt')['input_ids']\n",
    "    token_embeddings = model.token_embedding(input_ids)\n",
    "    attn_precomputed = attention_softmaxed(model, input_ids)\n",
    "    \n",
    "    out = []\n",
    "    for i in range(model.blocks[0].n_heads+1):\n",
    "        row = []\n",
    "        for j in range(model.blocks[0].n_heads+1):\n",
    "            row.append(virtual_head(model, token_embeddings, i, j, attn_precomputed))\n",
    "        out.append(t.stack(row, dim=1))\n",
    "    x = t.stack(out, dim=1)\n",
    "    return einops.rearrange(x, 'b i j n h -> b n i j h')\n",
    "\n",
    "v_a_h = all_virtual_attn_heads(model, '[BEGIN] Hi how are you. Hi really good. Hi.')"
   ]
  },
  {
   "cell_type": "code",
   "execution_count": 66,
   "metadata": {},
   "outputs": [],
   "source": [
    "v_a_h = v_a_h.squeeze(0)"
   ]
  },
  {
   "cell_type": "code",
   "execution_count": 65,
   "metadata": {},
   "outputs": [
    {
     "data": {
      "text/plain": [
       "torch.Size([1, 12, 9, 9, 50259])"
      ]
     },
     "execution_count": 65,
     "metadata": {},
     "output_type": "execute_result"
    }
   ],
   "source": [
    "v_a_h.shape"
   ]
  },
  {
   "cell_type": "code",
   "execution_count": 67,
   "metadata": {},
   "outputs": [
    {
     "data": {
      "text/plain": [
       "<matplotlib.image.AxesImage at 0x7efd2db95940>"
      ]
     },
     "execution_count": 67,
     "metadata": {},
     "output_type": "execute_result"
    },
    {
     "data": {
      "image/png": "[encoded data removed]",
      "text/plain": [
       "<Figure size 432x288 with 1 Axes>"
      ]
     },
     "metadata": {
      "needs_background": "light"
     },
     "output_type": "display_data"
    }
   ],
   "source": [
    "plt.imshow(v_a_h.sum(dim=[0,-1]).detach().numpy())"
   ]
  },
  {
   "cell_type": "code",
   "execution_count": null,
   "metadata": {},
   "outputs": [],
   "source": []
  }
 ],
 "metadata": {
  "kernelspec": {
   "display_name": "Python 3",
   "language": "python",
   "name": "python3"
  },
  "language_info": {
   "codemirror_mode": {
    "name": "ipython",
    "version": 3
   },
   "file_extension": ".py",
   "mimetype": "text/x-python",
   "name": "python",
   "nbconvert_exporter": "python",
   "pygments_lexer": "ipython3",
   "version": "3.8.10"
  }
 },
 "nbformat": 4,
 "nbformat_minor": 4
}
