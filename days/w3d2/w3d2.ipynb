{
 "cells": [
  {
   "cell_type": "code",
   "execution_count": 1,
   "metadata": {},
   "outputs": [],
   "source": [
    "import json\n",
    "import w3d2_tests\n",
    "import transformers\n",
    "import torch\n",
    "\n",
    "model = w3d2_tests.get_minigpt(\"model.pt\")\n",
    "tokenizer = transformers.GPT2Tokenizer.from_pretrained(\"gpt2\")\n",
    "# 50258 is the pad_token_id\n",
    "# 50257 is the BEGIN token id\n",
    "\n",
    "with open(\"test_tokens_owt_subset.json\") as f:\n",
    "    test_tokens = torch.LongTensor(json.load(f))[:,:]\n"
   ]
  },
  {
   "cell_type": "code",
   "execution_count": null,
   "metadata": {},
   "outputs": [
    {
     "name": "stdout",
     "output_type": "stream",
     "text": [
      "tensor([[50257,   376, 32910,  ..., 50258, 50258, 50258],\n",
      "        [50257,   383, 23020,  ...,   314,   373,  2252],\n",
      "        [50257,  1318,   389,  ..., 50258, 50258, 50258],\n",
      "        ...,\n",
      "        [50257, 42272, 15773,  ..., 50258, 50258, 50258],\n",
      "        [50257,   449,    54,  ...,   287,   262,  1578],\n",
      "        [50257, 19020,  2198,  ...,   383, 19020,  6822]])\n"
     ]
    }
   ],
   "source": [
    "print(test_tokens)"
   ]
  },
  {
   "cell_type": "code",
   "execution_count": null,
   "metadata": {},
   "outputs": [
    {
     "data": {
      "text/plain": [
       "MiniGPT(\n",
       "  (token_embedding): Embedding(50259, 256)\n",
       "  (pos_embedding): Embedding(512, 256)\n",
       "  (blocks): Sequential(\n",
       "    (0): UniAttention(\n",
       "      (project_qkv): Linear(in_features=256, out_features=768, bias=False)\n",
       "      (project_output): Linear(in_features=256, out_features=256, bias=False)\n",
       "    )\n",
       "    (1): UniAttention(\n",
       "      (project_qkv): Linear(in_features=256, out_features=768, bias=False)\n",
       "      (project_output): Linear(in_features=256, out_features=256, bias=False)\n",
       "    )\n",
       "  )\n",
       ")"
      ]
     },
     "execution_count": 6,
     "metadata": {},
     "output_type": "execute_result"
    }
   ],
   "source": [
    "model"
   ]
  },
  {
   "cell_type": "code",
   "execution_count": null,
   "metadata": {},
   "outputs": [
    {
     "data": {
      "text/plain": [
       "Linear(in_features=256, out_features=768, bias=False)"
      ]
     },
     "execution_count": 11,
     "metadata": {},
     "output_type": "execute_result"
    }
   ],
   "source": [
    "model.blocks[0].project_qkv"
   ]
  },
  {
   "cell_type": "code",
   "execution_count": 13,
   "metadata": {},
   "outputs": [],
   "source": [
    "import torch as t\n",
    "\n",
    "def contributions_to_attention(test_tokens, model):\n",
    "    num_heads = model.n_heads\n",
    "    hidden_size = model.hidden_size\n",
    "    head_size = model.head_size\n",
    "    # terms = 4\n",
    "    # data = torch.zeros((test_tokens.shape[0],\n",
    "    #                     test_tokens.shape[1],\n",
    "    #                     test_tokens.shape[1],\n",
    "    #                     num_heads,\n",
    "    #                     terms))\n",
    "    \n",
    "    pos_emb = model.pos_embedding(test_tokens)\n",
    "    tok_emb = model.token_embedding(test_tokens)\n",
    "        \n",
    "    qkv = model.blocks[0].project_qkv\n",
    "    \n",
    "    \n",
    "    q_tok, k_tok, _ = t.split(qkv(tok_emb), hidden_size, dim=-1)\n",
    "    q_pos, k_pos, _ = t.split(qkv(pos_emb), hidden_size, dim=-1)\n",
    "    \n",
    "    q_tok = einops.rearrange(q_tok, 'b n (h l) -> b h n l', l=head_size)\n",
    "    k_tok = einops.rearrange(k_tok, 'b n (h l) -> b h n l', l=head_size)\n",
    "    q_pos = einops.rearrange(q_pos, 'b n (h l) -> b h n l', l=head_size)\n",
    "    k_pos = einops.rearrange(k_pos, 'b n (h l) -> b h n l', l=head_size)\n",
    "\n",
    "    neg_inf = t.tensor(-1e4).to(test_tokens.device)\n",
    "    q_ind = t.arange(seq_len).unsqueeze(1)\n",
    "    k_ind = t.arange(seq_len).unsqueeze(0)\n",
    "    \n",
    "    mask = (q_ind < k_ind).to(test_tokens.device)\n",
    "    \n",
    "    token_token_component = t.einsum('bhql, bhkl -> bhqk', q_tok, k_tok) / math.sqrt(head_size)\n",
    "    token_position_component = t.einsum('bhql, bhkl -> bhqk', q_tok, k_pos) / math.sqrt(head_size)\n",
    "    position_token_component = t.einsum('bhql, bhkl -> bhqk', q_pos, k_tok) / math.sqrt(head_size)\n",
    "    position_position_component = t.einsum('bhql, bhkl -> bhqk', q_pos, k_pos) / math.sqrt(head_size)\n",
    "    \n",
    "    token_token_component = t.where(mask, neg_inf, token_token_component)\n",
    "    token_position_component = t.where(mask, neg_inf, token_position_component)\n",
    "    position_token_component = t.where(mask, neg_inf, position_token_component)\n",
    "    position_position_component = t.where(mask, neg_inf, position_position_component)\n",
    "    \n",
    "    return token_token_component, token_position_component, position_token_component, position_position_component\n",
    "    \n",
    "    \n",
    "    # number of test examples \n",
    "    # sequence len (first word index)\n",
    "    # sequence len (second word index)\n",
    "    # head num\n",
    "    # term in score"
   ]
  },
  {
   "cell_type": "code",
   "execution_count": 14,
   "metadata": {},
   "outputs": [
    {
     "name": "stdout",
     "output_type": "stream",
     "text": [
      "tensor(0.1179)\n"
     ]
    },
    {
     "data": {
      "image/png": "[encoded data removed]",
      "text/plain": [
       "<Figure size 432x288 with 2 Axes>"
      ]
     },
     "metadata": {
      "needs_background": "light"
     },
     "output_type": "display_data"
    }
   ],
   "source": [
    "from matplotlib import pyplot as plt\n",
    "import einops\n",
    "from transformers import GPT2Model, GPT2Tokenizer\n",
    "\n",
    "tokenizer = GPT2Tokenizer.from_pretrained('gpt2')\n",
    "gpt2 = GPT2Model.from_pretrained('gpt2')\n",
    "\n",
    "\n",
    "def position_embedding(seq_len, model_pos_embedding):\n",
    "    pos_ids = t.arange(seq_len)\n",
    "    pos_emb = model_pos_embedding(pos_ids)\n",
    "\n",
    "    pos_emb_1 = einops.repeat(pos_emb, \"a h -> a b h\", b = seq_len)\n",
    "    pos_emb_2 = einops.repeat(pos_emb, \"b h -> a b h\", a = seq_len)\n",
    "\n",
    "    out = t.einsum(\"abh,abh->ab\",pos_emb_1, pos_emb_2)/(t.linalg.norm(pos_emb_1, dim=-1)  * t.linalg.norm(pos_emb_2, dim=-1))\n",
    "    # out = out[450:,450:]\n",
    "    plt.imshow(t.linalg.norm(pos_emb_1[1000:,1000:], dim=-1).detach())\n",
    "    print(t.linalg.norm(pos_emb_1[-1,-1], dim=-1).detach())\n",
    "    plt.colorbar()\n",
    "    plt.show()\n",
    "    return out\n",
    "    # return (out - t.min(out)) / t.max(out)\n",
    "\n",
    "    \n",
    "\n",
    "# out = position_embedding(1024,gpt2.wpe)\n",
    "# # out = position_embedding(512,model.pos_embedding)\n",
    "# out = (t.abs(out) < 0.1)\n",
    "# out = out.detach().numpy()\n",
    "\n",
    "# plt.imshow(out, vmin = -1, vmax = 1)\n",
    "# plt.colorbar()\n",
    "\n",
    "out = position_embedding(1024,gpt2.wpe)\n",
    "\n",
    "\n"
   ]
  },
  {
   "cell_type": "code",
   "execution_count": null,
   "metadata": {},
   "outputs": [],
   "source": []
  }
 ],
 "metadata": {
  "kernelspec": {
   "display_name": "Python 3",
   "language": "python",
   "name": "python3"
  },
  "language_info": {
   "codemirror_mode": {
    "name": "ipython",
    "version": 3
   },
   "file_extension": ".py",
   "mimetype": "text/x-python",
   "name": "python",
   "nbconvert_exporter": "python",
   "pygments_lexer": "ipython3",
   "version": "3.8.5"
  }
 },
 "nbformat": 4,
 "nbformat_minor": 4
}
