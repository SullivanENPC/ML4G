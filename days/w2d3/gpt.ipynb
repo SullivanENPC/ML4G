{
 "cells": [
  {
   "cell_type": "code",
   "execution_count": 1,
   "metadata": {},
   "outputs": [],
   "source": [
    "import math\n",
    "\n",
    "import torch as t\n",
    "import torch.nn as nn\n",
    "import torch.nn.functional as F\n",
    "\n",
    "from torch import einsum\n",
    "from einops import rearrange, reduce, repeat\n",
    "from torchtyping import TensorType\n",
    "\n",
    "import gpt_tests"
   ]
  },
  {
   "cell_type": "code",
   "execution_count": 2,
   "metadata": {},
   "outputs": [],
   "source": [
    "DEVICE = t.device(\"cpu\")"
   ]
  },
  {
   "cell_type": "code",
   "execution_count": 10,
   "metadata": {},
   "outputs": [],
   "source": [
    "class Attention(nn.Module):\n",
    "    \n",
    "    def __init__(self, hidden_size: int, num_heads: int):\n",
    "        super().__init__()\n",
    "        self.hidden_size = hidden_size\n",
    "        self.num_heads = num_heads\n",
    "        self.head_size = hidden_size // num_heads\n",
    "        self.attn_layer = nn.Linear(hidden_size, 3*hidden_size)\n",
    "        self.output_layer = nn.Linear(hidden_size, hidden_size)\n",
    "        \n",
    "    def forward(self, input: TensorType[\"batch_size\", \"seq_len\", \"hidden_size\"], neg_inf=-1e4):\n",
    "        batch_size, seq_len, hidden_size = input.shape\n",
    "\n",
    "        # calculate attn_score\n",
    "        queries, keys, values = t.split(self.attn_layer(input), hidden_size, dim=-1)\n",
    "        queries = rearrange(queries, \"b n (h p)-> b h n p\", h=self.num_heads)\n",
    "        keys = rearrange(keys, \"b n (h p) -> b h n p\", h=self.num_heads)\n",
    "        values = rearrange(values, \"b n (h p) -> b h n p\", h=self.num_heads)\n",
    "        attn_score = einsum(\"b h t p, b h f p -> b h t f\", queries, keys) / math.sqrt(self.head_size)\n",
    "        mask = t.ones((seq_len, seq_len), dtype=t.bool, device=DEVICE).triu(diagonal=1)\n",
    "        mask = repeat(mask, \"t f -> b h t f\", b=batch_size, h=self.num_heads)\n",
    "        attn_score[mask] = neg_inf\n",
    "\n",
    "        # calculate output\n",
    "        attn_pattern = t.softmax(attn_score, dim=-1)\n",
    "        attn_concat = einsum(\"b h t f, b h f p -> b h t p\", attn_pattern, values)\n",
    "        attn_concat = rearrange(attn_concat, \"b h t p -> b t (h p)\")\n",
    "        \n",
    "        return self.output_layer(attn_concat)"
   ]
  },
  {
   "cell_type": "code",
   "execution_count": 11,
   "metadata": {},
   "outputs": [
    {
     "name": "stdout",
     "output_type": "stream",
     "text": [
      "Congrats! You've passed the test!\n"
     ]
    }
   ],
   "source": [
    "gpt_tests.test_unidirectional_attn(Attention)"
   ]
  },
  {
   "cell_type": "code",
   "execution_count": 15,
   "metadata": {},
   "outputs": [],
   "source": [
    "class Block(nn.Module):\n",
    "\n",
    "    def __init__(\n",
    "        self,\n",
    "        hidden_size: int,\n",
    "        num_heads: int,\n",
    "        dropout: float,\n",
    "        layer_norm_epsilon: float\n",
    "    ):\n",
    "        super().__init__()\n",
    "        self.layer_norm_1 = nn.LayerNorm(hidden_size, eps=layer_norm_epsilon)\n",
    "        self.attention = Attention(hidden_size, num_heads)\n",
    "        self.layer_norm_2 = nn.LayerNorm(hidden_size, eps=layer_norm_epsilon)\n",
    "        self.linear_1 = nn.Linear(hidden_size, 4*hidden_size)\n",
    "        self.linear_2 = nn.Linear(4*hidden_size, hidden_size)\n",
    "        self.dropout = nn.Dropout(p=dropout)\n",
    "\n",
    "    def forward(self, input: TensorType[\"batch_size\", \"seq_len\", \"hidden_size\"]):\n",
    "        residual_attn = input + self.attention(self.layer_norm_1(input))\n",
    "        normed_attn = self.layer_norm_2(residual_attn)\n",
    "        mlp = self.linear_2(F.gelu(self.linear_1(normed_attn)))\n",
    "        dropout = self.dropout(mlp)\n",
    "        return residual_attn + dropout\n"
   ]
  },
  {
   "cell_type": "code",
   "execution_count": 16,
   "metadata": {},
   "outputs": [
    {
     "name": "stdout",
     "output_type": "stream",
     "text": [
      "Congrats! You've passed the test!\n"
     ]
    }
   ],
   "source": [
    "gpt_tests.test_gpt_block(Block)"
   ]
  },
  {
   "cell_type": "code",
   "execution_count": null,
   "metadata": {},
   "outputs": [],
   "source": []
  }
 ],
 "metadata": {
  "interpreter": {
   "hash": "767d51c1340bd893661ea55ea3124f6de3c7a262a8b4abca0554b478b1e2ff90"
  },
  "kernelspec": {
   "display_name": "Python 3.8.5 64-bit",
   "language": "python",
   "name": "python3"
  },
  "language_info": {
   "codemirror_mode": {
    "name": "ipython",
    "version": 3
   },
   "file_extension": ".py",
   "mimetype": "text/x-python",
   "name": "python",
   "nbconvert_exporter": "python",
   "pygments_lexer": "ipython3",
   "version": "3.8.5"
  },
  "orig_nbformat": 4
 },
 "nbformat": 4,
 "nbformat_minor": 2
}
