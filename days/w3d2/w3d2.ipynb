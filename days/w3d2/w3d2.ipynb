{
 "cells": [
  {
   "cell_type": "code",
   "execution_count": 1,
   "metadata": {},
   "outputs": [],
   "source": [
    "gpt_specs = {\n",
    "            \"num_layers\": 2,\n",
    "        \"num_heads\": 8,\n",
    "        \"head_size\": 32,\n",
    "        \"vocab_size\": 50259,\n",
    "        \"hidden_size\": 256,\n",
    "        \"max_position_embeddings\": 512\n",
    "}"
   ]
  },
  {
   "cell_type": "code",
   "execution_count": 69,
   "metadata": {},
   "outputs": [],
   "source": [
    "import json\n",
    "import w3d2_tests\n",
    "import transformers\n",
    "import torch\n",
    "from einops import rearrange, reduce, repeat\n",
    "\n",
    "model = w3d2_tests.get_minigpt(\"model.pt\")\n",
    "tokenizer = transformers.GPT2Tokenizer.from_pretrained(\"gpt2\")\n",
    "tokenizer._add_tokens([\"[BEGIN]\", \"[END]\"])\n",
    "tokenizer.pad_token = \"[END]\"\n",
    "tokenizer.eos_token = \"[END]\"\n",
    "# 50258 is the pad_token_id\n",
    "# 50257 is the BEGIN token id\n",
    "\n",
    "with open(\"test_tokens_owt_subset.json\") as f:\n",
    "    test_tokens = torch.LongTensor(json.load(f))[:,:512]\n",
    "\n",
    "sentences = [\"So far, we've developed a theoretical model for understanding two-layer attention-only models.\",\n",
    "            \"We have an overall equation describing the logits (the OV circuit), and then an equation describing how each attention head's attention pattern is computed (the QK circuit).\",\n",
    "             \"But how do we understand them in practice?\",\n",
    "             \"In this section, we'll reverse engineer a single two-layer model.\"]"
   ]
  },
  {
   "cell_type": "code",
   "execution_count": 70,
   "metadata": {},
   "outputs": [
    {
     "data": {
      "text/plain": [
       "odict_keys(['token_embedding.weight', 'pos_embedding.weight', 'blocks.0.project_qkv.weight', 'blocks.0.project_output.weight', 'blocks.1.project_qkv.weight', 'blocks.1.project_output.weight'])"
      ]
     },
     "execution_count": 70,
     "metadata": {},
     "output_type": "execute_result"
    }
   ],
   "source": [
    "model.state_dict().keys()"
   ]
  },
  {
   "cell_type": "markdown",
   "metadata": {},
   "source": [
    "# 1\n",
    "\n",
    "1,4 and 1,6 are induction heads\n",
    "\n",
    "repetitive sentences repsond best. Key/sum and query/sum make it most obvious"
   ]
  },
  {
   "cell_type": "code",
   "execution_count": 71,
   "metadata": {
    "tags": []
   },
   "outputs": [],
   "source": [
    "def get_pairs(sentence):\n",
    "    tokens = torch.tensor(tokenizer('[BEGIN] ' + sentence)['input_ids'])\n",
    "    positions = torch.arange(len(tokens))\n",
    "    # prod_tokens = rearrange(torch.cartesian_prod(tokens, tokens),\n",
    "    #                         \"(seq_len1 seq_len2) a -> seq_len1 seq_len2 a\",\n",
    "    #                         seq_len1 = len(tokens), \n",
    "    #                         seq_len2 = len(tokens))\n",
    "    # prod_positions = rearrange(torch.cartesian_prod(positions, positions),\n",
    "    #                         \"(seq_len1 seq_len2) a -> seq_len1 seq_len2 a\",\n",
    "    #                         seq_len1 = len(tokens), \n",
    "    #                         seq_len2 = len(tokens))\n",
    "    return tokens, positions"
   ]
  },
  {
   "cell_type": "code",
   "execution_count": 38,
   "metadata": {},
   "outputs": [],
   "source": [
    "def embed_pairs(prod_tokens, prod_positions):\n",
    "    return model.token_embedding(prod_tokens), model.pos_embedding(prod_positions)"
   ]
  },
  {
   "cell_type": "code",
   "execution_count": 39,
   "metadata": {},
   "outputs": [],
   "source": [
    "pairs = get_pairs(sentence)"
   ]
  },
  {
   "cell_type": "code",
   "execution_count": 40,
   "metadata": {},
   "outputs": [
    {
     "data": {
      "text/plain": [
       "(torch.Size([23, 256]), torch.Size([23, 256]))"
      ]
     },
     "execution_count": 40,
     "metadata": {},
     "output_type": "execute_result"
    }
   ],
   "source": [
    "embed_pairs(*pairs)[0].shape, embed_pairs(*pairs)[1].shape"
   ]
  },
  {
   "cell_type": "code",
   "execution_count": 156,
   "metadata": {},
   "outputs": [
    {
     "name": "stdout",
     "output_type": "stream",
     "text": [
      "torch.Size([2, 2, 8, 23, 23])\n",
      "tensor([[[0., 0., 0., 0., 0., 0., 0., 0.],\n",
      "         [0., 0., 0., 0., 0., 0., 0., 0.]],\n",
      "\n",
      "        [[0., 0., 0., 0., 0., 0., 0., 0.],\n",
      "         [0., 0., 0., 0., 0., 0., 0., 0.]]], grad_fn=<SelectBackward0>)\n"
     ]
    }
   ],
   "source": [
    "def attention_terms(token_embeddings, position_embeddings):\n",
    "    # out: [seqlen, seqlen, 4]\n",
    "    seq_len = token_embeddings.shape[0]\n",
    "    block = model.blocks[0]\n",
    "    \n",
    "    token_q, token_k, _ = torch.split(block.project_qkv(token_embeddings), block.hidden_size, dim=-1)\n",
    "    pos_q, pos_k, _ = torch.split(block.project_qkv(position_embeddings), block.hidden_size, dim=-1)\n",
    "    \n",
    "    Qs = torch.stack([token_q, pos_q], dim=0) # [2, seqlen, channel_size * heads]\n",
    "    Ks = torch.stack([token_k, pos_k], dim=0) # [2, seqlen, channel_size * heads]\n",
    "\n",
    "    Qs = rearrange(Qs, 'b n (h l) -> b h n l', l=block.head_size)\n",
    "    Ks = rearrange(Ks, 'b n (h l) -> b h n l', l=block.head_size)\n",
    "\n",
    "    neg_inf = torch.tensor(-1e4)\n",
    "    q_ind = torch.arange(seq_len).unsqueeze(1)\n",
    "    k_ind = torch.arange(seq_len).unsqueeze(0)\n",
    "    mask = (q_ind < k_ind)\n",
    "    \n",
    "    # ahls = [from token/pos, head, from seqlen, channel_size]\n",
    "    # bhms = [to token/pos, head, to seqlen, channel_size]\n",
    "    # abhlm = [from token/pos, to token/pos, head, from seqlen, to seqlen]\n",
    "    attn_scores = torch.einsum('ahql, bhkl -> abhqk', Qs, Ks) / torch.sqrt(torch.tensor(block.head_size))\n",
    "    \n",
    "    attn_scores = torch.where(mask, torch.tensor(0.0), attn_scores)\n",
    "    print(attn_scores.shape)\n",
    "    return attn_scores\n",
    "\n",
    "print(attention_terms(*embed_pairs(*pairs))[...,0,5])"
   ]
  },
  {
   "cell_type": "code",
   "execution_count": 83,
   "metadata": {
    "tags": []
   },
   "outputs": [
    {
     "name": "stdout",
     "output_type": "stream",
     "text": [
      "torch.Size([2, 2, 8, 2, 2])\n"
     ]
    },
    {
     "data": {
      "text/plain": [
       "tensor([[[[[ 2.8871e-02,  0.0000e+00],\n",
       "           [ 2.8871e-02,  2.8871e-02]],\n",
       "\n",
       "          [[ 4.7161e-01,  0.0000e+00],\n",
       "           [ 4.7161e-01,  4.7161e-01]],\n",
       "\n",
       "          [[-6.2885e-02,  0.0000e+00],\n",
       "           [-6.2885e-02, -6.2885e-02]],\n",
       "\n",
       "          [[ 1.9016e-01,  0.0000e+00],\n",
       "           [ 1.9016e-01,  1.9016e-01]],\n",
       "\n",
       "          [[ 3.4188e-02,  0.0000e+00],\n",
       "           [ 3.4188e-02,  3.4188e-02]],\n",
       "\n",
       "          [[ 2.2956e-03,  0.0000e+00],\n",
       "           [ 2.2956e-03,  2.2956e-03]],\n",
       "\n",
       "          [[-2.1738e-02,  0.0000e+00],\n",
       "           [-2.1738e-02, -2.1738e-02]],\n",
       "\n",
       "          [[ 1.4150e-01,  0.0000e+00],\n",
       "           [ 1.4150e-01,  1.4150e-01]]],\n",
       "\n",
       "\n",
       "         [[[-5.4702e-01,  0.0000e+00],\n",
       "           [-5.4702e-01, -3.1719e-01]],\n",
       "\n",
       "          [[-6.6569e-01,  0.0000e+00],\n",
       "           [-6.6569e-01, -1.1154e+00]],\n",
       "\n",
       "          [[ 2.1303e-01,  0.0000e+00],\n",
       "           [ 2.1303e-01,  2.3693e-01]],\n",
       "\n",
       "          [[-7.9324e-01,  0.0000e+00],\n",
       "           [-7.9324e-01, -1.9892e-01]],\n",
       "\n",
       "          [[-8.2894e-01,  0.0000e+00],\n",
       "           [-8.2894e-01, -1.7500e-01]],\n",
       "\n",
       "          [[-4.9332e-02,  0.0000e+00],\n",
       "           [-4.9332e-02, -2.4266e-01]],\n",
       "\n",
       "          [[ 2.1441e-01,  0.0000e+00],\n",
       "           [ 2.1441e-01, -1.1478e-01]],\n",
       "\n",
       "          [[ 5.3599e-01,  0.0000e+00],\n",
       "           [ 5.3599e-01, -1.9203e-01]]]],\n",
       "\n",
       "\n",
       "\n",
       "        [[[[ 1.2304e-01,  0.0000e+00],\n",
       "           [ 2.7020e-01,  2.7020e-01]],\n",
       "\n",
       "          [[-1.7407e+00,  0.0000e+00],\n",
       "           [ 4.1169e-01,  4.1169e-01]],\n",
       "\n",
       "          [[ 1.0121e-01,  0.0000e+00],\n",
       "           [ 3.8446e-03,  3.8446e-03]],\n",
       "\n",
       "          [[-1.1294e-01,  0.0000e+00],\n",
       "           [ 2.5491e-01,  2.5491e-01]],\n",
       "\n",
       "          [[-5.4964e-02,  0.0000e+00],\n",
       "           [ 2.5686e-02,  2.5686e-02]],\n",
       "\n",
       "          [[-4.5230e-03,  0.0000e+00],\n",
       "           [ 3.3403e-01,  3.3403e-01]],\n",
       "\n",
       "          [[-1.5570e-01,  0.0000e+00],\n",
       "           [-4.4318e-03, -4.4318e-03]],\n",
       "\n",
       "          [[ 4.2079e-01,  0.0000e+00],\n",
       "           [ 9.2103e-02,  9.2103e-02]]],\n",
       "\n",
       "\n",
       "         [[[-9.6268e+00,  0.0000e+00],\n",
       "           [ 2.9623e+00, -3.0244e+00]],\n",
       "\n",
       "          [[ 7.7028e+00,  0.0000e+00],\n",
       "           [-5.5471e+00, -1.6581e-01]],\n",
       "\n",
       "          [[-5.0919e+00,  0.0000e+00],\n",
       "           [ 1.9019e+00, -1.0596e+00]],\n",
       "\n",
       "          [[ 5.4712e+00,  0.0000e+00],\n",
       "           [-8.8730e-01, -5.5081e-01]],\n",
       "\n",
       "          [[-1.1853e+01,  0.0000e+00],\n",
       "           [ 1.1966e+00, -3.7654e+00]],\n",
       "\n",
       "          [[-8.0459e+00,  0.0000e+00],\n",
       "           [-1.6262e+00, -1.4364e+00]],\n",
       "\n",
       "          [[-1.1755e+00,  0.0000e+00],\n",
       "           [ 7.5087e-01, -3.9192e+00]],\n",
       "\n",
       "          [[ 8.4958e-01,  0.0000e+00],\n",
       "           [ 6.9951e-01,  1.7034e+00]]]]], grad_fn=<SWhereBackward0>)"
      ]
     },
     "execution_count": 83,
     "metadata": {},
     "output_type": "execute_result"
    }
   ],
   "source": [
    "def attention_terms_for_sentence(sentence):\n",
    "    pairs = get_pairs(sentence)\n",
    "    embeddings = embed_pairs(*pairs)\n",
    "    return attention_terms(*embeddings)\n",
    "\n",
    "attention_terms_for_sentence('[BEGIN]')"
   ]
  },
  {
   "cell_type": "code",
   "execution_count": 84,
   "metadata": {},
   "outputs": [
    {
     "name": "stdout",
     "output_type": "stream",
     "text": [
      "torch.Size([2, 2, 8, 20, 20])\n",
      "torch.Size([2, 2, 8, 36, 36])\n",
      "torch.Size([2, 2, 8, 10, 10])\n",
      "torch.Size([2, 2, 8, 16, 16])\n"
     ]
    }
   ],
   "source": [
    "all_attentions = [attention_terms_for_sentence(sentence) for sentence in sentences]"
   ]
  },
  {
   "cell_type": "code",
   "execution_count": 85,
   "metadata": {},
   "outputs": [
    {
     "data": {
      "text/plain": [
       "tensor([[0.7388, 1.2714],\n",
       "        [0.0859, 3.4455]], grad_fn=<VarBackward0>)"
      ]
     },
     "execution_count": 85,
     "metadata": {},
     "output_type": "execute_result"
    }
   ],
   "source": [
    "torch.var(all_attentions[0], dim=(-3, -2, -1)) # var across heads, q seqlen, k seqlen"
   ]
  },
  {
   "cell_type": "markdown",
   "metadata": {},
   "source": [
    "tok -> tok: 0.7388\n",
    "\n",
    "tok -> pos: 1.2714\n",
    "\n",
    "pos -> tok: 0.0859\n",
    "pos -> pos: 3.4455"
   ]
  },
  {
   "cell_type": "code",
   "execution_count": 105,
   "metadata": {},
   "outputs": [
    {
     "data": {
      "text/plain": [
       "tensor([[[0.4230, 3.1142, 0.1544, 0.6491, 0.5342, 0.1480, 0.1028, 0.7341],\n",
       "         [0.6292, 3.3412, 0.0606, 2.4552, 0.2904, 0.2766, 0.3713, 2.5883]],\n",
       "\n",
       "        [[0.1494, 0.1798, 0.0564, 0.0495, 0.0849, 0.0522, 0.0405, 0.0741],\n",
       "         [5.2241, 8.5230, 0.8698, 2.9895, 4.3183, 0.7165, 2.1021, 2.0308]]],\n",
       "       grad_fn=<VarBackward0>)"
      ]
     },
     "execution_count": 105,
     "metadata": {},
     "output_type": "execute_result"
    }
   ],
   "source": [
    "v = torch.var(all_attentions[0], dim=(-2, -1)) # var across q seqlen, k seqlen\n",
    "v"
   ]
  },
  {
   "cell_type": "code",
   "execution_count": 95,
   "metadata": {},
   "outputs": [
    {
     "data": {
      "text/plain": [
       "tensor([[[-0.0855,  0.1958, -0.0664, -0.0591, -0.0019, -0.0140, -0.0126,\n",
       "           0.0988],\n",
       "         [-0.2898, -0.2064, -0.0487, -0.5731, -0.2372, -0.3386, -0.3767,\n",
       "          -0.4558]],\n",
       "\n",
       "        [[-0.0317,  0.0133, -0.0060,  0.0221, -0.0114,  0.0047, -0.0133,\n",
       "          -0.0065],\n",
       "         [-0.4704, -1.0729, -0.7590, -1.0918, -1.5435, -0.6604, -1.2764,\n",
       "          -0.8703]]], grad_fn=<MeanBackward1>)"
      ]
     },
     "execution_count": 95,
     "metadata": {},
     "output_type": "execute_result"
    }
   ],
   "source": [
    "m = torch.mean(all_attentions[0], dim=(-2, -1)) # mean across q seqlen, k seqlen\n",
    "m"
   ]
  },
  {
   "cell_type": "code",
   "execution_count": 106,
   "metadata": {},
   "outputs": [],
   "source": [
    "import plotly.express as px\n",
    "import pandas\n",
    "v = rearrange(v, \"a b c -> c (a b)\")"
   ]
  },
  {
   "cell_type": "code",
   "execution_count": 116,
   "metadata": {},
   "outputs": [
    {
     "data": {
      "application/vnd.plotly.v1+json": {
       "config": {
        "plotlyServerURL": "https://plot.ly"
       },
       "data": [
        {
         "alignmentgroup": "True",
         "hovertemplate": "category=0<br>heads=%{x}<br>variance=%{y}<extra></extra>",
         "legendgroup": "0",
         "marker": {
          "color": "#636efa",
          "pattern": {
           "shape": ""
          }
         },
         "name": "0",
         "offsetgroup": "0",
         "orientation": "v",
         "showlegend": true,
         "textposition": "auto",
         "type": "bar",
         "x": [
          0,
          1,
          2,
          3,
          4,
          5,
          6,
          7
         ],
         "xaxis": "x",
         "y": [
          0.42297685146331787,
          3.1142375469207764,
          0.1544027179479599,
          0.6491005420684814,
          0.5342315435409546,
          0.14801855385303497,
          0.10280556231737137,
          0.7341074347496033
         ],
         "yaxis": "y"
        },
        {
         "alignmentgroup": "True",
         "hovertemplate": "category=1<br>heads=%{x}<br>variance=%{y}<extra></extra>",
         "legendgroup": "1",
         "marker": {
          "color": "#EF553B",
          "pattern": {
           "shape": ""
          }
         },
         "name": "1",
         "offsetgroup": "1",
         "orientation": "v",
         "showlegend": true,
         "textposition": "auto",
         "type": "bar",
         "x": [
          0,
          1,
          2,
          3,
          4,
          5,
          6,
          7
         ],
         "xaxis": "x",
         "y": [
          0.629184901714325,
          3.3412418365478516,
          0.06064039096236229,
          2.4551961421966553,
          0.2904202938079834,
          0.2765638828277588,
          0.37126433849334717,
          2.5883429050445557
         ],
         "yaxis": "y"
        },
        {
         "alignmentgroup": "True",
         "hovertemplate": "category=2<br>heads=%{x}<br>variance=%{y}<extra></extra>",
         "legendgroup": "2",
         "marker": {
          "color": "#00cc96",
          "pattern": {
           "shape": ""
          }
         },
         "name": "2",
         "offsetgroup": "2",
         "orientation": "v",
         "showlegend": true,
         "textposition": "auto",
         "type": "bar",
         "x": [
          0,
          1,
          2,
          3,
          4,
          5,
          6,
          7
         ],
         "xaxis": "x",
         "y": [
          0.1494092345237732,
          0.1797914206981659,
          0.0564114935696125,
          0.04949013516306877,
          0.08489809930324554,
          0.05223472788929939,
          0.04048563912510872,
          0.07414446026086807
         ],
         "yaxis": "y"
        },
        {
         "alignmentgroup": "True",
         "hovertemplate": "category=3<br>heads=%{x}<br>variance=%{y}<extra></extra>",
         "legendgroup": "3",
         "marker": {
          "color": "#ab63fa",
          "pattern": {
           "shape": ""
          }
         },
         "name": "3",
         "offsetgroup": "3",
         "orientation": "v",
         "showlegend": true,
         "textposition": "auto",
         "type": "bar",
         "x": [
          0,
          1,
          2,
          3,
          4,
          5,
          6,
          7
         ],
         "xaxis": "x",
         "y": [
          5.224061965942383,
          8.523024559020996,
          0.8698301911354065,
          2.9894931316375732,
          4.318295478820801,
          0.7165282964706421,
          2.1020781993865967,
          2.0308289527893066
         ],
         "yaxis": "y"
        }
       ],
       "layout": {
        "autosize": true,
        "barmode": "group",
        "legend": {
         "title": {
          "text": "category"
         },
         "tracegroupgap": 0
        },
        "margin": {
         "t": 60
        },
        "template": {
         "data": {
          "bar": [
           {
            "error_x": {
             "color": "#2a3f5f"
            },
            "error_y": {
             "color": "#2a3f5f"
            },
            "marker": {
             "line": {
              "color": "#E5ECF6",
              "width": 0.5
             },
             "pattern": {
              "fillmode": "overlay",
              "size": 10,
              "solidity": 0.2
             }
            },
            "type": "bar"
           }
          ],
          "barpolar": [
           {
            "marker": {
             "line": {
              "color": "#E5ECF6",
              "width": 0.5
             },
             "pattern": {
              "fillmode": "overlay",
              "size": 10,
              "solidity": 0.2
             }
            },
            "type": "barpolar"
           }
          ],
          "carpet": [
           {
            "aaxis": {
             "endlinecolor": "#2a3f5f",
             "gridcolor": "white",
             "linecolor": "white",
             "minorgridcolor": "white",
             "startlinecolor": "#2a3f5f"
            },
            "baxis": {
             "endlinecolor": "#2a3f5f",
             "gridcolor": "white",
             "linecolor": "white",
             "minorgridcolor": "white",
             "startlinecolor": "#2a3f5f"
            },
            "type": "carpet"
           }
          ],
          "choropleth": [
           {
            "colorbar": {
             "outlinewidth": 0,
             "ticks": ""
            },
            "type": "choropleth"
           }
          ],
          "contour": [
           {
            "colorbar": {
             "outlinewidth": 0,
             "ticks": ""
            },
            "colorscale": [
             [
              0,
              "#0d0887"
             ],
             [
              0.1111111111111111,
              "#46039f"
             ],
             [
              0.2222222222222222,
              "#7201a8"
             ],
             [
              0.3333333333333333,
              "#9c179e"
             ],
             [
              0.4444444444444444,
              "#bd3786"
             ],
             [
              0.5555555555555556,
              "#d8576b"
             ],
             [
              0.6666666666666666,
              "#ed7953"
             ],
             [
              0.7777777777777778,
              "#fb9f3a"
             ],
             [
              0.8888888888888888,
              "#fdca26"
             ],
             [
              1,
              "#f0f921"
             ]
            ],
            "type": "contour"
           }
          ],
          "contourcarpet": [
           {
            "colorbar": {
             "outlinewidth": 0,
             "ticks": ""
            },
            "type": "contourcarpet"
           }
          ],
          "heatmap": [
           {
            "colorbar": {
             "outlinewidth": 0,
             "ticks": ""
            },
            "colorscale": [
             [
              0,
              "#0d0887"
             ],
             [
              0.1111111111111111,
              "#46039f"
             ],
             [
              0.2222222222222222,
              "#7201a8"
             ],
             [
              0.3333333333333333,
              "#9c179e"
             ],
             [
              0.4444444444444444,
              "#bd3786"
             ],
             [
              0.5555555555555556,
              "#d8576b"
             ],
             [
              0.6666666666666666,
              "#ed7953"
             ],
             [
              0.7777777777777778,
              "#fb9f3a"
             ],
             [
              0.8888888888888888,
              "#fdca26"
             ],
             [
              1,
              "#f0f921"
             ]
            ],
            "type": "heatmap"
           }
          ],
          "heatmapgl": [
           {
            "colorbar": {
             "outlinewidth": 0,
             "ticks": ""
            },
            "colorscale": [
             [
              0,
              "#0d0887"
             ],
             [
              0.1111111111111111,
              "#46039f"
             ],
             [
              0.2222222222222222,
              "#7201a8"
             ],
             [
              0.3333333333333333,
              "#9c179e"
             ],
             [
              0.4444444444444444,
              "#bd3786"
             ],
             [
              0.5555555555555556,
              "#d8576b"
             ],
             [
              0.6666666666666666,
              "#ed7953"
             ],
             [
              0.7777777777777778,
              "#fb9f3a"
             ],
             [
              0.8888888888888888,
              "#fdca26"
             ],
             [
              1,
              "#f0f921"
             ]
            ],
            "type": "heatmapgl"
           }
          ],
          "histogram": [
           {
            "marker": {
             "pattern": {
              "fillmode": "overlay",
              "size": 10,
              "solidity": 0.2
             }
            },
            "type": "histogram"
           }
          ],
          "histogram2d": [
           {
            "colorbar": {
             "outlinewidth": 0,
             "ticks": ""
            },
            "colorscale": [
             [
              0,
              "#0d0887"
             ],
             [
              0.1111111111111111,
              "#46039f"
             ],
             [
              0.2222222222222222,
              "#7201a8"
             ],
             [
              0.3333333333333333,
              "#9c179e"
             ],
             [
              0.4444444444444444,
              "#bd3786"
             ],
             [
              0.5555555555555556,
              "#d8576b"
             ],
             [
              0.6666666666666666,
              "#ed7953"
             ],
             [
              0.7777777777777778,
              "#fb9f3a"
             ],
             [
              0.8888888888888888,
              "#fdca26"
             ],
             [
              1,
              "#f0f921"
             ]
            ],
            "type": "histogram2d"
           }
          ],
          "histogram2dcontour": [
           {
            "colorbar": {
             "outlinewidth": 0,
             "ticks": ""
            },
            "colorscale": [
             [
              0,
              "#0d0887"
             ],
             [
              0.1111111111111111,
              "#46039f"
             ],
             [
              0.2222222222222222,
              "#7201a8"
             ],
             [
              0.3333333333333333,
              "#9c179e"
             ],
             [
              0.4444444444444444,
              "#bd3786"
             ],
             [
              0.5555555555555556,
              "#d8576b"
             ],
             [
              0.6666666666666666,
              "#ed7953"
             ],
             [
              0.7777777777777778,
              "#fb9f3a"
             ],
             [
              0.8888888888888888,
              "#fdca26"
             ],
             [
              1,
              "#f0f921"
             ]
            ],
            "type": "histogram2dcontour"
           }
          ],
          "mesh3d": [
           {
            "colorbar": {
             "outlinewidth": 0,
             "ticks": ""
            },
            "type": "mesh3d"
           }
          ],
          "parcoords": [
           {
            "line": {
             "colorbar": {
              "outlinewidth": 0,
              "ticks": ""
             }
            },
            "type": "parcoords"
           }
          ],
          "pie": [
           {
            "automargin": true,
            "type": "pie"
           }
          ],
          "scatter": [
           {
            "marker": {
             "colorbar": {
              "outlinewidth": 0,
              "ticks": ""
             }
            },
            "type": "scatter"
           }
          ],
          "scatter3d": [
           {
            "line": {
             "colorbar": {
              "outlinewidth": 0,
              "ticks": ""
             }
            },
            "marker": {
             "colorbar": {
              "outlinewidth": 0,
              "ticks": ""
             }
            },
            "type": "scatter3d"
           }
          ],
          "scattercarpet": [
           {
            "marker": {
             "colorbar": {
              "outlinewidth": 0,
              "ticks": ""
             }
            },
            "type": "scattercarpet"
           }
          ],
          "scattergeo": [
           {
            "marker": {
             "colorbar": {
              "outlinewidth": 0,
              "ticks": ""
             }
            },
            "type": "scattergeo"
           }
          ],
          "scattergl": [
           {
            "marker": {
             "colorbar": {
              "outlinewidth": 0,
              "ticks": ""
             }
            },
            "type": "scattergl"
           }
          ],
          "scattermapbox": [
           {
            "marker": {
             "colorbar": {
              "outlinewidth": 0,
              "ticks": ""
             }
            },
            "type": "scattermapbox"
           }
          ],
          "scatterpolar": [
           {
            "marker": {
             "colorbar": {
              "outlinewidth": 0,
              "ticks": ""
             }
            },
            "type": "scatterpolar"
           }
          ],
          "scatterpolargl": [
           {
            "marker": {
             "colorbar": {
              "outlinewidth": 0,
              "ticks": ""
             }
            },
            "type": "scatterpolargl"
           }
          ],
          "scatterternary": [
           {
            "marker": {
             "colorbar": {
              "outlinewidth": 0,
              "ticks": ""
             }
            },
            "type": "scatterternary"
           }
          ],
          "surface": [
           {
            "colorbar": {
             "outlinewidth": 0,
             "ticks": ""
            },
            "colorscale": [
             [
              0,
              "#0d0887"
             ],
             [
              0.1111111111111111,
              "#46039f"
             ],
             [
              0.2222222222222222,
              "#7201a8"
             ],
             [
              0.3333333333333333,
              "#9c179e"
             ],
             [
              0.4444444444444444,
              "#bd3786"
             ],
             [
              0.5555555555555556,
              "#d8576b"
             ],
             [
              0.6666666666666666,
              "#ed7953"
             ],
             [
              0.7777777777777778,
              "#fb9f3a"
             ],
             [
              0.8888888888888888,
              "#fdca26"
             ],
             [
              1,
              "#f0f921"
             ]
            ],
            "type": "surface"
           }
          ],
          "table": [
           {
            "cells": {
             "fill": {
              "color": "#EBF0F8"
             },
             "line": {
              "color": "white"
             }
            },
            "header": {
             "fill": {
              "color": "#C8D4E3"
             },
             "line": {
              "color": "white"
             }
            },
            "type": "table"
           }
          ]
         },
         "layout": {
          "annotationdefaults": {
           "arrowcolor": "#2a3f5f",
           "arrowhead": 0,
           "arrowwidth": 1
          },
          "autotypenumbers": "strict",
          "coloraxis": {
           "colorbar": {
            "outlinewidth": 0,
            "ticks": ""
           }
          },
          "colorscale": {
           "diverging": [
            [
             0,
             "#8e0152"
            ],
            [
             0.1,
             "#c51b7d"
            ],
            [
             0.2,
             "#de77ae"
            ],
            [
             0.3,
             "#f1b6da"
            ],
            [
             0.4,
             "#fde0ef"
            ],
            [
             0.5,
             "#f7f7f7"
            ],
            [
             0.6,
             "#e6f5d0"
            ],
            [
             0.7,
             "#b8e186"
            ],
            [
             0.8,
             "#7fbc41"
            ],
            [
             0.9,
             "#4d9221"
            ],
            [
             1,
             "#276419"
            ]
           ],
           "sequential": [
            [
             0,
             "#0d0887"
            ],
            [
             0.1111111111111111,
             "#46039f"
            ],
            [
             0.2222222222222222,
             "#7201a8"
            ],
            [
             0.3333333333333333,
             "#9c179e"
            ],
            [
             0.4444444444444444,
             "#bd3786"
            ],
            [
             0.5555555555555556,
             "#d8576b"
            ],
            [
             0.6666666666666666,
             "#ed7953"
            ],
            [
             0.7777777777777778,
             "#fb9f3a"
            ],
            [
             0.8888888888888888,
             "#fdca26"
            ],
            [
             1,
             "#f0f921"
            ]
           ],
           "sequentialminus": [
            [
             0,
             "#0d0887"
            ],
            [
             0.1111111111111111,
             "#46039f"
            ],
            [
             0.2222222222222222,
             "#7201a8"
            ],
            [
             0.3333333333333333,
             "#9c179e"
            ],
            [
             0.4444444444444444,
             "#bd3786"
            ],
            [
             0.5555555555555556,
             "#d8576b"
            ],
            [
             0.6666666666666666,
             "#ed7953"
            ],
            [
             0.7777777777777778,
             "#fb9f3a"
            ],
            [
             0.8888888888888888,
             "#fdca26"
            ],
            [
             1,
             "#f0f921"
            ]
           ]
          },
          "colorway": [
           "#636efa",
           "#EF553B",
           "#00cc96",
           "#ab63fa",
           "#FFA15A",
           "#19d3f3",
           "#FF6692",
           "#B6E880",
           "#FF97FF",
           "#FECB52"
          ],
          "font": {
           "color": "#2a3f5f"
          },
          "geo": {
           "bgcolor": "white",
           "lakecolor": "white",
           "landcolor": "#E5ECF6",
           "showlakes": true,
           "showland": true,
           "subunitcolor": "white"
          },
          "hoverlabel": {
           "align": "left"
          },
          "hovermode": "closest",
          "mapbox": {
           "style": "light"
          },
          "paper_bgcolor": "white",
          "plot_bgcolor": "#E5ECF6",
          "polar": {
           "angularaxis": {
            "gridcolor": "white",
            "linecolor": "white",
            "ticks": ""
           },
           "bgcolor": "#E5ECF6",
           "radialaxis": {
            "gridcolor": "white",
            "linecolor": "white",
            "ticks": ""
           }
          },
          "scene": {
           "xaxis": {
            "backgroundcolor": "#E5ECF6",
            "gridcolor": "white",
            "gridwidth": 2,
            "linecolor": "white",
            "showbackground": true,
            "ticks": "",
            "zerolinecolor": "white"
           },
           "yaxis": {
            "backgroundcolor": "#E5ECF6",
            "gridcolor": "white",
            "gridwidth": 2,
            "linecolor": "white",
            "showbackground": true,
            "ticks": "",
            "zerolinecolor": "white"
           },
           "zaxis": {
            "backgroundcolor": "#E5ECF6",
            "gridcolor": "white",
            "gridwidth": 2,
            "linecolor": "white",
            "showbackground": true,
            "ticks": "",
            "zerolinecolor": "white"
           }
          },
          "shapedefaults": {
           "line": {
            "color": "#2a3f5f"
           }
          },
          "ternary": {
           "aaxis": {
            "gridcolor": "white",
            "linecolor": "white",
            "ticks": ""
           },
           "baxis": {
            "gridcolor": "white",
            "linecolor": "white",
            "ticks": ""
           },
           "bgcolor": "#E5ECF6",
           "caxis": {
            "gridcolor": "white",
            "linecolor": "white",
            "ticks": ""
           }
          },
          "title": {
           "x": 0.05
          },
          "xaxis": {
           "automargin": true,
           "gridcolor": "white",
           "linecolor": "white",
           "ticks": "",
           "title": {
            "standoff": 15
           },
           "zerolinecolor": "white",
           "zerolinewidth": 2
          },
          "yaxis": {
           "automargin": true,
           "gridcolor": "white",
           "linecolor": "white",
           "ticks": "",
           "title": {
            "standoff": 15
           },
           "zerolinecolor": "white",
           "zerolinewidth": 2
          }
         }
        },
        "xaxis": {
         "anchor": "y",
         "autorange": true,
         "domain": [
          0,
          1
         ],
         "range": [
          -0.5,
          7.5
         ],
         "title": {
          "text": "heads"
         },
         "type": "linear"
        },
        "yaxis": {
         "anchor": "x",
         "autorange": true,
         "domain": [
          0,
          1
         ],
         "range": [
          0,
          8.97160479896947
         ],
         "title": {
          "text": "variance"
         },
         "type": "linear"
        }
       }
      },
      "image/png": "[encoded data removed]",
      "text/html": [
       "<div>                            <div id=\"c1de8d1a-c398-4fc2-affa-e305a1592693\" class=\"plotly-graph-div\" style=\"height:525px; width:100%;\"></div>            <script type=\"text/javascript\">                require([\"plotly\"], function(Plotly) {                    window.PLOTLYENV=window.PLOTLYENV || {};                                    if (document.getElementById(\"c1de8d1a-c398-4fc2-affa-e305a1592693\")) {                    Plotly.newPlot(                        \"c1de8d1a-c398-4fc2-affa-e305a1592693\",                        [{\"alignmentgroup\":\"True\",\"hovertemplate\":\"category=0<br>heads=%{x}<br>variance=%{y}<extra></extra>\",\"legendgroup\":\"0\",\"marker\":{\"color\":\"#636efa\",\"pattern\":{\"shape\":\"\"}},\"name\":\"0\",\"offsetgroup\":\"0\",\"orientation\":\"v\",\"showlegend\":true,\"textposition\":\"auto\",\"x\":[0,1,2,3,4,5,6,7],\"xaxis\":\"x\",\"y\":[0.42297685146331787,3.1142375469207764,0.1544027179479599,0.6491005420684814,0.5342315435409546,0.14801855385303497,0.10280556231737137,0.7341074347496033],\"yaxis\":\"y\",\"type\":\"bar\"},{\"alignmentgroup\":\"True\",\"hovertemplate\":\"category=1<br>heads=%{x}<br>variance=%{y}<extra></extra>\",\"legendgroup\":\"1\",\"marker\":{\"color\":\"#EF553B\",\"pattern\":{\"shape\":\"\"}},\"name\":\"1\",\"offsetgroup\":\"1\",\"orientation\":\"v\",\"showlegend\":true,\"textposition\":\"auto\",\"x\":[0,1,2,3,4,5,6,7],\"xaxis\":\"x\",\"y\":[0.629184901714325,3.3412418365478516,0.06064039096236229,2.4551961421966553,0.2904202938079834,0.2765638828277588,0.37126433849334717,2.5883429050445557],\"yaxis\":\"y\",\"type\":\"bar\"},{\"alignmentgroup\":\"True\",\"hovertemplate\":\"category=2<br>heads=%{x}<br>variance=%{y}<extra></extra>\",\"legendgroup\":\"2\",\"marker\":{\"color\":\"#00cc96\",\"pattern\":{\"shape\":\"\"}},\"name\":\"2\",\"offsetgroup\":\"2\",\"orientation\":\"v\",\"showlegend\":true,\"textposition\":\"auto\",\"x\":[0,1,2,3,4,5,6,7],\"xaxis\":\"x\",\"y\":[0.1494092345237732,0.1797914206981659,0.0564114935696125,0.04949013516306877,0.08489809930324554,0.05223472788929939,0.04048563912510872,0.07414446026086807],\"yaxis\":\"y\",\"type\":\"bar\"},{\"alignmentgroup\":\"True\",\"hovertemplate\":\"category=3<br>heads=%{x}<br>variance=%{y}<extra></extra>\",\"legendgroup\":\"3\",\"marker\":{\"color\":\"#ab63fa\",\"pattern\":{\"shape\":\"\"}},\"name\":\"3\",\"offsetgroup\":\"3\",\"orientation\":\"v\",\"showlegend\":true,\"textposition\":\"auto\",\"x\":[0,1,2,3,4,5,6,7],\"xaxis\":\"x\",\"y\":[5.224061965942383,8.523024559020996,0.8698301911354065,2.9894931316375732,4.318295478820801,0.7165282964706421,2.1020781993865967,2.0308289527893066],\"yaxis\":\"y\",\"type\":\"bar\"}],                        {\"template\":{\"data\":{\"bar\":[{\"error_x\":{\"color\":\"#2a3f5f\"},\"error_y\":{\"color\":\"#2a3f5f\"},\"marker\":{\"line\":{\"color\":\"#E5ECF6\",\"width\":0.5},\"pattern\":{\"fillmode\":\"overlay\",\"size\":10,\"solidity\":0.2}},\"type\":\"bar\"}],\"barpolar\":[{\"marker\":{\"line\":{\"color\":\"#E5ECF6\",\"width\":0.5},\"pattern\":{\"fillmode\":\"overlay\",\"size\":10,\"solidity\":0.2}},\"type\":\"barpolar\"}],\"carpet\":[{\"aaxis\":{\"endlinecolor\":\"#2a3f5f\",\"gridcolor\":\"white\",\"linecolor\":\"white\",\"minorgridcolor\":\"white\",\"startlinecolor\":\"#2a3f5f\"},\"baxis\":{\"endlinecolor\":\"#2a3f5f\",\"gridcolor\":\"white\",\"linecolor\":\"white\",\"minorgridcolor\":\"white\",\"startlinecolor\":\"#2a3f5f\"},\"type\":\"carpet\"}],\"choropleth\":[{\"colorbar\":{\"outlinewidth\":0,\"ticks\":\"\"},\"type\":\"choropleth\"}],\"contour\":[{\"colorbar\":{\"outlinewidth\":0,\"ticks\":\"\"},\"colorscale\":[[0.0,\"#0d0887\"],[0.1111111111111111,\"#46039f\"],[0.2222222222222222,\"#7201a8\"],[0.3333333333333333,\"#9c179e\"],[0.4444444444444444,\"#bd3786\"],[0.5555555555555556,\"#d8576b\"],[0.6666666666666666,\"#ed7953\"],[0.7777777777777778,\"#fb9f3a\"],[0.8888888888888888,\"#fdca26\"],[1.0,\"#f0f921\"]],\"type\":\"contour\"}],\"contourcarpet\":[{\"colorbar\":{\"outlinewidth\":0,\"ticks\":\"\"},\"type\":\"contourcarpet\"}],\"heatmap\":[{\"colorbar\":{\"outlinewidth\":0,\"ticks\":\"\"},\"colorscale\":[[0.0,\"#0d0887\"],[0.1111111111111111,\"#46039f\"],[0.2222222222222222,\"#7201a8\"],[0.3333333333333333,\"#9c179e\"],[0.4444444444444444,\"#bd3786\"],[0.5555555555555556,\"#d8576b\"],[0.6666666666666666,\"#ed7953\"],[0.7777777777777778,\"#fb9f3a\"],[0.8888888888888888,\"#fdca26\"],[1.0,\"#f0f921\"]],\"type\":\"heatmap\"}],\"heatmapgl\":[{\"colorbar\":{\"outlinewidth\":0,\"ticks\":\"\"},\"colorscale\":[[0.0,\"#0d0887\"],[0.1111111111111111,\"#46039f\"],[0.2222222222222222,\"#7201a8\"],[0.3333333333333333,\"#9c179e\"],[0.4444444444444444,\"#bd3786\"],[0.5555555555555556,\"#d8576b\"],[0.6666666666666666,\"#ed7953\"],[0.7777777777777778,\"#fb9f3a\"],[0.8888888888888888,\"#fdca26\"],[1.0,\"#f0f921\"]],\"type\":\"heatmapgl\"}],\"histogram\":[{\"marker\":{\"pattern\":{\"fillmode\":\"overlay\",\"size\":10,\"solidity\":0.2}},\"type\":\"histogram\"}],\"histogram2d\":[{\"colorbar\":{\"outlinewidth\":0,\"ticks\":\"\"},\"colorscale\":[[0.0,\"#0d0887\"],[0.1111111111111111,\"#46039f\"],[0.2222222222222222,\"#7201a8\"],[0.3333333333333333,\"#9c179e\"],[0.4444444444444444,\"#bd3786\"],[0.5555555555555556,\"#d8576b\"],[0.6666666666666666,\"#ed7953\"],[0.7777777777777778,\"#fb9f3a\"],[0.8888888888888888,\"#fdca26\"],[1.0,\"#f0f921\"]],\"type\":\"histogram2d\"}],\"histogram2dcontour\":[{\"colorbar\":{\"outlinewidth\":0,\"ticks\":\"\"},\"colorscale\":[[0.0,\"#0d0887\"],[0.1111111111111111,\"#46039f\"],[0.2222222222222222,\"#7201a8\"],[0.3333333333333333,\"#9c179e\"],[0.4444444444444444,\"#bd3786\"],[0.5555555555555556,\"#d8576b\"],[0.6666666666666666,\"#ed7953\"],[0.7777777777777778,\"#fb9f3a\"],[0.8888888888888888,\"#fdca26\"],[1.0,\"#f0f921\"]],\"type\":\"histogram2dcontour\"}],\"mesh3d\":[{\"colorbar\":{\"outlinewidth\":0,\"ticks\":\"\"},\"type\":\"mesh3d\"}],\"parcoords\":[{\"line\":{\"colorbar\":{\"outlinewidth\":0,\"ticks\":\"\"}},\"type\":\"parcoords\"}],\"pie\":[{\"automargin\":true,\"type\":\"pie\"}],\"scatter\":[{\"marker\":{\"colorbar\":{\"outlinewidth\":0,\"ticks\":\"\"}},\"type\":\"scatter\"}],\"scatter3d\":[{\"line\":{\"colorbar\":{\"outlinewidth\":0,\"ticks\":\"\"}},\"marker\":{\"colorbar\":{\"outlinewidth\":0,\"ticks\":\"\"}},\"type\":\"scatter3d\"}],\"scattercarpet\":[{\"marker\":{\"colorbar\":{\"outlinewidth\":0,\"ticks\":\"\"}},\"type\":\"scattercarpet\"}],\"scattergeo\":[{\"marker\":{\"colorbar\":{\"outlinewidth\":0,\"ticks\":\"\"}},\"type\":\"scattergeo\"}],\"scattergl\":[{\"marker\":{\"colorbar\":{\"outlinewidth\":0,\"ticks\":\"\"}},\"type\":\"scattergl\"}],\"scattermapbox\":[{\"marker\":{\"colorbar\":{\"outlinewidth\":0,\"ticks\":\"\"}},\"type\":\"scattermapbox\"}],\"scatterpolar\":[{\"marker\":{\"colorbar\":{\"outlinewidth\":0,\"ticks\":\"\"}},\"type\":\"scatterpolar\"}],\"scatterpolargl\":[{\"marker\":{\"colorbar\":{\"outlinewidth\":0,\"ticks\":\"\"}},\"type\":\"scatterpolargl\"}],\"scatterternary\":[{\"marker\":{\"colorbar\":{\"outlinewidth\":0,\"ticks\":\"\"}},\"type\":\"scatterternary\"}],\"surface\":[{\"colorbar\":{\"outlinewidth\":0,\"ticks\":\"\"},\"colorscale\":[[0.0,\"#0d0887\"],[0.1111111111111111,\"#46039f\"],[0.2222222222222222,\"#7201a8\"],[0.3333333333333333,\"#9c179e\"],[0.4444444444444444,\"#bd3786\"],[0.5555555555555556,\"#d8576b\"],[0.6666666666666666,\"#ed7953\"],[0.7777777777777778,\"#fb9f3a\"],[0.8888888888888888,\"#fdca26\"],[1.0,\"#f0f921\"]],\"type\":\"surface\"}],\"table\":[{\"cells\":{\"fill\":{\"color\":\"#EBF0F8\"},\"line\":{\"color\":\"white\"}},\"header\":{\"fill\":{\"color\":\"#C8D4E3\"},\"line\":{\"color\":\"white\"}},\"type\":\"table\"}]},\"layout\":{\"annotationdefaults\":{\"arrowcolor\":\"#2a3f5f\",\"arrowhead\":0,\"arrowwidth\":1},\"autotypenumbers\":\"strict\",\"coloraxis\":{\"colorbar\":{\"outlinewidth\":0,\"ticks\":\"\"}},\"colorscale\":{\"diverging\":[[0,\"#8e0152\"],[0.1,\"#c51b7d\"],[0.2,\"#de77ae\"],[0.3,\"#f1b6da\"],[0.4,\"#fde0ef\"],[0.5,\"#f7f7f7\"],[0.6,\"#e6f5d0\"],[0.7,\"#b8e186\"],[0.8,\"#7fbc41\"],[0.9,\"#4d9221\"],[1,\"#276419\"]],\"sequential\":[[0.0,\"#0d0887\"],[0.1111111111111111,\"#46039f\"],[0.2222222222222222,\"#7201a8\"],[0.3333333333333333,\"#9c179e\"],[0.4444444444444444,\"#bd3786\"],[0.5555555555555556,\"#d8576b\"],[0.6666666666666666,\"#ed7953\"],[0.7777777777777778,\"#fb9f3a\"],[0.8888888888888888,\"#fdca26\"],[1.0,\"#f0f921\"]],\"sequentialminus\":[[0.0,\"#0d0887\"],[0.1111111111111111,\"#46039f\"],[0.2222222222222222,\"#7201a8\"],[0.3333333333333333,\"#9c179e\"],[0.4444444444444444,\"#bd3786\"],[0.5555555555555556,\"#d8576b\"],[0.6666666666666666,\"#ed7953\"],[0.7777777777777778,\"#fb9f3a\"],[0.8888888888888888,\"#fdca26\"],[1.0,\"#f0f921\"]]},\"colorway\":[\"#636efa\",\"#EF553B\",\"#00cc96\",\"#ab63fa\",\"#FFA15A\",\"#19d3f3\",\"#FF6692\",\"#B6E880\",\"#FF97FF\",\"#FECB52\"],\"font\":{\"color\":\"#2a3f5f\"},\"geo\":{\"bgcolor\":\"white\",\"lakecolor\":\"white\",\"landcolor\":\"#E5ECF6\",\"showlakes\":true,\"showland\":true,\"subunitcolor\":\"white\"},\"hoverlabel\":{\"align\":\"left\"},\"hovermode\":\"closest\",\"mapbox\":{\"style\":\"light\"},\"paper_bgcolor\":\"white\",\"plot_bgcolor\":\"#E5ECF6\",\"polar\":{\"angularaxis\":{\"gridcolor\":\"white\",\"linecolor\":\"white\",\"ticks\":\"\"},\"bgcolor\":\"#E5ECF6\",\"radialaxis\":{\"gridcolor\":\"white\",\"linecolor\":\"white\",\"ticks\":\"\"}},\"scene\":{\"xaxis\":{\"backgroundcolor\":\"#E5ECF6\",\"gridcolor\":\"white\",\"gridwidth\":2,\"linecolor\":\"white\",\"showbackground\":true,\"ticks\":\"\",\"zerolinecolor\":\"white\"},\"yaxis\":{\"backgroundcolor\":\"#E5ECF6\",\"gridcolor\":\"white\",\"gridwidth\":2,\"linecolor\":\"white\",\"showbackground\":true,\"ticks\":\"\",\"zerolinecolor\":\"white\"},\"zaxis\":{\"backgroundcolor\":\"#E5ECF6\",\"gridcolor\":\"white\",\"gridwidth\":2,\"linecolor\":\"white\",\"showbackground\":true,\"ticks\":\"\",\"zerolinecolor\":\"white\"}},\"shapedefaults\":{\"line\":{\"color\":\"#2a3f5f\"}},\"ternary\":{\"aaxis\":{\"gridcolor\":\"white\",\"linecolor\":\"white\",\"ticks\":\"\"},\"baxis\":{\"gridcolor\":\"white\",\"linecolor\":\"white\",\"ticks\":\"\"},\"bgcolor\":\"#E5ECF6\",\"caxis\":{\"gridcolor\":\"white\",\"linecolor\":\"white\",\"ticks\":\"\"}},\"title\":{\"x\":0.05},\"xaxis\":{\"automargin\":true,\"gridcolor\":\"white\",\"linecolor\":\"white\",\"ticks\":\"\",\"title\":{\"standoff\":15},\"zerolinecolor\":\"white\",\"zerolinewidth\":2},\"yaxis\":{\"automargin\":true,\"gridcolor\":\"white\",\"linecolor\":\"white\",\"ticks\":\"\",\"title\":{\"standoff\":15},\"zerolinecolor\":\"white\",\"zerolinewidth\":2}}},\"xaxis\":{\"anchor\":\"y\",\"domain\":[0.0,1.0],\"title\":{\"text\":\"heads\"}},\"yaxis\":{\"anchor\":\"x\",\"domain\":[0.0,1.0],\"title\":{\"text\":\"variance\"}},\"legend\":{\"title\":{\"text\":\"category\"},\"tracegroupgap\":0},\"margin\":{\"t\":60},\"barmode\":\"group\"},                        {\"responsive\": true}                    ).then(function(){\n",
       "                            \n",
       "var gd = document.getElementById('c1de8d1a-c398-4fc2-affa-e305a1592693');\n",
       "var x = new MutationObserver(function (mutations, observer) {{\n",
       "        var display = window.getComputedStyle(gd).display;\n",
       "        if (!display || display === 'none') {{\n",
       "            console.log([gd, 'removed!']);\n",
       "            Plotly.purge(gd);\n",
       "            observer.disconnect();\n",
       "        }}\n",
       "}});\n",
       "\n",
       "// Listen for the removal of the full notebook cells\n",
       "var notebookContainer = gd.closest('#notebook-container');\n",
       "if (notebookContainer) {{\n",
       "    x.observe(notebookContainer, {childList: true});\n",
       "}}\n",
       "\n",
       "// Listen for the clearing of the current output cell\n",
       "var outputEl = gd.closest('.output');\n",
       "if (outputEl) {{\n",
       "    x.observe(outputEl, {childList: true});\n",
       "}}\n",
       "\n",
       "                        })                };                });            </script>        </div>"
      ]
     },
     "metadata": {},
     "output_type": "display_data"
    }
   ],
   "source": [
    "fig = px.bar(v.detach().numpy(), barmode=\"group\", labels={'index': 'heads', 'value': 'variance', 'variable': 'category'})\n",
    "fig.show()"
   ]
  },
  {
   "cell_type": "markdown",
   "metadata": {},
   "source": [
    "Implementation of copying: \"canada (k)... in -> ???\"  q= k\n",
    "* Q - predicted class of tokens\n",
    "* K - token embeddings of previous tokens that match the class\n",
    "* V - previous token\n",
    "\n",
    "Implementation of shifting by one \n",
    "* Q - positional information of from token\n",
    "* K - positional information of to token\n",
    "* V - token information of from token - 1\n",
    "\n",
    "Implementation of induction head:\n",
    "* Q - current token\n",
    "* K - previous copies of this token\n",
    "* V - one position after previous copies of this token"
   ]
  },
  {
   "cell_type": "code",
   "execution_count": 118,
   "metadata": {},
   "outputs": [
    {
     "name": "stdout",
     "output_type": "stream",
     "text": [
      "b\n"
     ]
    }
   ],
   "source": [
    "# shift by one\n",
    "\n",
    "sentence = 'abab'\n",
    "residual_stream = [''] * 4\n",
    "\n",
    "def v(i):\n",
    "    return 2, sentence[i]\n",
    "\n",
    "def q(i):\n",
    "    return i\n",
    "\n",
    "def k(j):\n",
    "    return j + 1\n",
    "\n",
    "i = 2 # setence[i] == a\n",
    "for j in range(len(sentence)):\n",
    "    if q(i) == k(j):\n",
    "        location, value = v(j)\n",
    "        intermediate_values[location] = value\n",
    "\n",
    "return residual_stream[:2]"
   ]
  },
  {
   "cell_type": "code",
   "execution_count": 131,
   "metadata": {},
   "outputs": [
    {
     "name": "stdout",
     "output_type": "stream",
     "text": [
      "\n"
     ]
    }
   ],
   "source": [
    "# copying\n",
    "\n",
    "sentence = 'ca'\n",
    "residual_stream = [''] * 4\n",
    "\n",
    "def v(i):\n",
    "    return 0, sentence[i]\n",
    "\n",
    "def q(i):\n",
    "    if sentence[i] == 'a':\n",
    "        return (ord(sentence[i]) - ord('a')) // 2 # 0 for a and b\n",
    "    return 'x'\n",
    "\n",
    "def k(j):\n",
    "    return (ord(sentence[j]) - ord('a')) // 2 # 0 for a and b\n",
    "\n",
    "i = 1 # setence[i] == a\n",
    "for j in range(i):\n",
    "    if q(i) == k(j):\n",
    "        location, value = v(j)\n",
    "        residual_stream[location] = value\n",
    "\n",
    "print(residual_stream[0])"
   ]
  },
  {
   "cell_type": "code",
   "execution_count": 139,
   "metadata": {},
   "outputs": [
    {
     "name": "stdout",
     "output_type": "stream",
     "text": [
      "['a', '', 'b', 'a', 'b', '']\n"
     ]
    }
   ],
   "source": [
    "# shift by one\n",
    "\n",
    "sentence = 'abab'\n",
    "residual_stream = [''] * 6\n",
    "\n",
    "def v(i):\n",
    "    return 2 + i, sentence[i + 1]\n",
    "\n",
    "def q(i):\n",
    "    return i\n",
    "\n",
    "def k(j):\n",
    "    return j + 1\n",
    "\n",
    "for i in range(len(sentence)):\n",
    "    for j in range(i):\n",
    "        if q(i) == k(j):\n",
    "            location, value = v(j)\n",
    "            residual_stream[location] = value\n",
    "\n",
    "def v(i):\n",
    "    return 0, residual_stream[1 + i]\n",
    "\n",
    "def q(i):\n",
    "    return sentence[i]\n",
    "\n",
    "def k(j):\n",
    "    return residual_stream[2 + j]\n",
    "\n",
    "i = 3 # setence[i] == a\n",
    "for j in range(i):\n",
    "    if q(i) == k(j):\n",
    "        location, value = v(j)\n",
    "        residual_stream[location] = value\n",
    "\n",
    "print(residual_stream)"
   ]
  },
  {
   "cell_type": "code",
   "execution_count": 161,
   "metadata": {},
   "outputs": [
    {
     "name": "stdout",
     "output_type": "stream",
     "text": [
      "torch.Size([2, 2, 8, 36, 36])\n"
     ]
    }
   ],
   "source": [
    "# find which heads have large activations for shift-by-one, \n",
    "# and small activations for not-shift-by-one\n",
    "sentence = \"I am a dog\"\n",
    "pos_pos_activations = attention_terms_for_sentence(sentences[1])[1][1] # shape: [heads, seqlen, seqlen]"
   ]
  },
  {
   "cell_type": "code",
   "execution_count": 162,
   "metadata": {},
   "outputs": [
    {
     "data": {
      "application/vnd.plotly.v1+json": {
       "config": {
        "plotlyServerURL": "https://plot.ly"
       },
       "data": [
        {
         "coloraxis": "coloraxis",
         "hovertemplate": "x: %{x}<br>y: %{y}<br>color: %{z}<extra></extra>",
         "name": "0",
         "texttemplate": "%{z}",
         "type": "heatmap",
         "xaxis": "x",
         "yaxis": "y",
         "z": [
          [
           -9.626827239990234,
           0,
           0,
           0,
           0,
           0,
           0,
           0,
           0,
           0,
           0,
           0,
           0,
           0,
           0,
           0,
           0,
           0,
           0,
           0,
           0,
           0,
           0,
           0,
           0,
           0,
           0,
           0,
           0,
           0,
           0,
           0,
           0,
           0,
           0,
           0
          ],
          [
           2.9622981548309326,
           -3.0244123935699463,
           0,
           0,
           0,
           0,
           0,
           0,
           0,
           0,
           0,
           0,
           0,
           0,
           0,
           0,
           0,
           0,
           0,
           0,
           0,
           0,
           0,
           0,
           0,
           0,
           0,
           0,
           0,
           0,
           0,
           0,
           0,
           0,
           0,
           0
          ],
          [
           0.1428830623626709,
           4.058974266052246,
           0.1840706765651703,
           0,
           0,
           0,
           0,
           0,
           0,
           0,
           0,
           0,
           0,
           0,
           0,
           0,
           0,
           0,
           0,
           0,
           0,
           0,
           0,
           0,
           0,
           0,
           0,
           0,
           0,
           0,
           0,
           0,
           0,
           0,
           0,
           0
          ],
          [
           0.17340540885925293,
           -0.39870357513427734,
           4.5762939453125,
           -0.29326048493385315,
           0,
           0,
           0,
           0,
           0,
           0,
           0,
           0,
           0,
           0,
           0,
           0,
           0,
           0,
           0,
           0,
           0,
           0,
           0,
           0,
           0,
           0,
           0,
           0,
           0,
           0,
           0,
           0,
           0,
           0,
           0,
           0
          ],
          [
           0.40837013721466064,
           -2.75748872756958,
           -0.6573427319526672,
           4.269540786743164,
           0.06735964119434357,
           0,
           0,
           0,
           0,
           0,
           0,
           0,
           0,
           0,
           0,
           0,
           0,
           0,
           0,
           0,
           0,
           0,
           0,
           0,
           0,
           0,
           0,
           0,
           0,
           0,
           0,
           0,
           0,
           0,
           0,
           0
          ],
          [
           0.272356241941452,
           -2.2107152938842773,
           -3.133338451385498,
           -0.532951295375824,
           4.844217300415039,
           0.2513512372970581,
           0,
           0,
           0,
           0,
           0,
           0,
           0,
           0,
           0,
           0,
           0,
           0,
           0,
           0,
           0,
           0,
           0,
           0,
           0,
           0,
           0,
           0,
           0,
           0,
           0,
           0,
           0,
           0,
           0,
           0
          ],
          [
           0.8171212077140808,
           -1.745589017868042,
           -3.148677110671997,
           -2.8338708877563477,
           0.2624685764312744,
           5.120471000671387,
           0.5862398743629456,
           0,
           0,
           0,
           0,
           0,
           0,
           0,
           0,
           0,
           0,
           0,
           0,
           0,
           0,
           0,
           0,
           0,
           0,
           0,
           0,
           0,
           0,
           0,
           0,
           0,
           0,
           0,
           0,
           0
          ],
          [
           1.1861945390701294,
           -3.33689284324646,
           -2.097937822341919,
           -3.066446542739868,
           -2.75164794921875,
           0.3148288428783417,
           5.093475341796875,
           0.9436495900154114,
           0,
           0,
           0,
           0,
           0,
           0,
           0,
           0,
           0,
           0,
           0,
           0,
           0,
           0,
           0,
           0,
           0,
           0,
           0,
           0,
           0,
           0,
           0,
           0,
           0,
           0,
           0,
           0
          ],
          [
           1.149001121520996,
           -0.8712961077690125,
           -3.7284364700317383,
           -1.8157627582550049,
           -2.555251121520996,
           -2.4596517086029053,
           0.7527675032615662,
           5.780910491943359,
           1.2223694324493408,
           0,
           0,
           0,
           0,
           0,
           0,
           0,
           0,
           0,
           0,
           0,
           0,
           0,
           0,
           0,
           0,
           0,
           0,
           0,
           0,
           0,
           0,
           0,
           0,
           0,
           0,
           0
          ],
          [
           0.9552791714668274,
           -0.9245137572288513,
           -1.107733964920044,
           -4.619438171386719,
           -1.4866925477981567,
           -2.465345859527588,
           -2.523710250854492,
           1.0909205675125122,
           6.055203914642334,
           1.3522861003875732,
           0,
           0,
           0,
           0,
           0,
           0,
           0,
           0,
           0,
           0,
           0,
           0,
           0,
           0,
           0,
           0,
           0,
           0,
           0,
           0,
           0,
           0,
           0,
           0,
           0,
           0
          ],
          [
           1.2515538930892944,
           -4.4784770011901855,
           -1.1673601865768433,
           -1.5078057050704956,
           -4.462332248687744,
           -1.590660810470581,
           -2.902836561203003,
           -2.6641223430633545,
           0.9528499245643616,
           5.823136329650879,
           1.377445101737976,
           0,
           0,
           0,
           0,
           0,
           0,
           0,
           0,
           0,
           0,
           0,
           0,
           0,
           0,
           0,
           0,
           0,
           0,
           0,
           0,
           0,
           0,
           0,
           0,
           0
          ],
          [
           1.5803576707839966,
           -6.299768924713135,
           -4.65678596496582,
           -1.4115757942199707,
           -1.6345535516738892,
           -4.210244178771973,
           -1.93361496925354,
           -2.7827858924865723,
           -2.624990224838257,
           0.864080548286438,
           6.031601905822754,
           1.7620309591293335,
           0,
           0,
           0,
           0,
           0,
           0,
           0,
           0,
           0,
           0,
           0,
           0,
           0,
           0,
           0,
           0,
           0,
           0,
           0,
           0,
           0,
           0,
           0,
           0
          ],
          [
           1.5421141386032104,
           -1.1363329887390137,
           -6.822328090667725,
           -4.717132091522217,
           -0.9571250081062317,
           -0.8962728977203369,
           -3.5555837154388428,
           -1.3161338567733765,
           -1.9168691635131836,
           -2.1775131225585938,
           1.296628713607788,
           6.50808048248291,
           2.1699845790863037,
           0,
           0,
           0,
           0,
           0,
           0,
           0,
           0,
           0,
           0,
           0,
           0,
           0,
           0,
           0,
           0,
           0,
           0,
           0,
           0,
           0,
           0,
           0
          ],
          [
           1.6489328145980835,
           -0.7511842250823975,
           -1.390316367149353,
           -7.435785293579102,
           -4.728285312652588,
           -1.0892887115478516,
           -0.7667304873466492,
           -3.1333701610565186,
           -1.3607563972473145,
           -1.676727056503296,
           -1.6263595819473267,
           1.8807570934295654,
           6.849791049957275,
           2.5037217140197754,
           0,
           0,
           0,
           0,
           0,
           0,
           0,
           0,
           0,
           0,
           0,
           0,
           0,
           0,
           0,
           0,
           0,
           0,
           0,
           0,
           0,
           0
          ],
          [
           1.9465910196304321,
           -2.5439746379852295,
           -0.6423794627189636,
           -1.7904777526855469,
           -7.268550395965576,
           -4.87795352935791,
           -1.3462097644805908,
           -0.9442083835601807,
           -3.639167070388794,
           -1.41903555393219,
           -1.4584925174713135,
           -1.0283104181289673,
           1.850663423538208,
           6.717661380767822,
           2.1723968982696533,
           0,
           0,
           0,
           0,
           0,
           0,
           0,
           0,
           0,
           0,
           0,
           0,
           0,
           0,
           0,
           0,
           0,
           0,
           0,
           0,
           0
          ],
          [
           1.5990129709243774,
           -3.602943181991577,
           -2.683013439178467,
           -1.2019362449645996,
           -1.6481527090072632,
           -7.133181095123291,
           -4.641428470611572,
           -1.5984224081039429,
           -1.3697677850723267,
           -4.168922424316406,
           -0.9517470002174377,
           -1.3116240501403809,
           -1.0058468580245972,
           1.845023512840271,
           6.601810932159424,
           2.2324881553649902,
           0,
           0,
           0,
           0,
           0,
           0,
           0,
           0,
           0,
           0,
           0,
           0,
           0,
           0,
           0,
           0,
           0,
           0,
           0,
           0
          ],
          [
           1.6893950700759888,
           -1.9662283658981323,
           -4.419034004211426,
           -2.892954111099243,
           -0.5046147704124451,
           -1.0111967325210571,
           -6.695154666900635,
           -4.574704647064209,
           -1.5866656303405762,
           -1.6166462898254395,
           -3.824688673019409,
           -0.3748187720775604,
           -1.1924985647201538,
           -1.1308143138885498,
           1.9507391452789307,
           6.894132137298584,
           2.4272983074188232,
           0,
           0,
           0,
           0,
           0,
           0,
           0,
           0,
           0,
           0,
           0,
           0,
           0,
           0,
           0,
           0,
           0,
           0,
           0
          ],
          [
           2.142932891845703,
           -3.7283594608306885,
           -2.0807945728302,
           -4.928874969482422,
           -3.232290744781494,
           -0.8270310759544373,
           -1.0383721590042114,
           -6.400802135467529,
           -4.616575717926025,
           -1.9782358407974243,
           -1.7910789251327515,
           -3.6003646850585938,
           -0.33360275626182556,
           -1.2874118089675903,
           -1.2485604286193848,
           1.804288625717163,
           6.794820785522461,
           2.520321846008301,
           0,
           0,
           0,
           0,
           0,
           0,
           0,
           0,
           0,
           0,
           0,
           0,
           0,
           0,
           0,
           0,
           0,
           0
          ],
          [
           2.458486557006836,
           -2.738527297973633,
           -3.248622179031372,
           -1.5614854097366333,
           -5.147202014923096,
           -3.2843217849731445,
           -0.7682790756225586,
           -0.6663938760757446,
           -6.014784336090088,
           -4.233358860015869,
           -2.1531221866607666,
           -2.2063140869140625,
           -3.725480079650879,
           -0.29879459738731384,
           -1.3457003831863403,
           -1.1403896808624268,
           1.8393326997756958,
           6.851811408996582,
           2.5914714336395264,
           0,
           0,
           0,
           0,
           0,
           0,
           0,
           0,
           0,
           0,
           0,
           0,
           0,
           0,
           0,
           0,
           0
          ],
          [
           2.249152421951294,
           -0.815087616443634,
           -2.4777565002441406,
           -3.391577959060669,
           -2.319760799407959,
           -6.31196403503418,
           -3.7896130084991455,
           -0.5203942060470581,
           -0.40442970395088196,
           -5.928640842437744,
           -4.014026641845703,
           -2.6224827766418457,
           -3.246109962463379,
           -3.659134864807129,
           0.07033505290746689,
           -1.4199203252792358,
           -1.3313065767288208,
           2.100135087966919,
           7.016493320465088,
           2.4413747787475586,
           0,
           0,
           0,
           0,
           0,
           0,
           0,
           0,
           0,
           0,
           0,
           0,
           0,
           0,
           0,
           0
          ],
          [
           2.110476493835449,
           -1.6667696237564087,
           -1.4338781833648682,
           -2.9810361862182617,
           -2.5553081035614014,
           -2.35160493850708,
           -6.8018107414245605,
           -4.523059844970703,
           -0.10386936366558075,
           -0.39170223474502563,
           -5.179019927978516,
           -3.685615301132202,
           -2.7534031867980957,
           -4.321701526641846,
           -3.3787288665771484,
           0.31431838870048523,
           -1.297743320465088,
           -1.4596068859100342,
           2.2893805503845215,
           7.214382648468018,
           2.5743160247802734,
           0,
           0,
           0,
           0,
           0,
           0,
           0,
           0,
           0,
           0,
           0,
           0,
           0,
           0,
           0
          ],
          [
           2.5068747997283936,
           -4.518947124481201,
           -1.9451178312301636,
           -2.5290098190307617,
           -3.6384801864624023,
           -2.2934770584106445,
           -3.153578996658325,
           -7.690161228179932,
           -5.506639003753662,
           -0.6296639442443848,
           -0.8375254273414612,
           -4.403618812561035,
           -4.075490474700928,
           -3.8522584438323975,
           -5.686208248138428,
           -3.789818286895752,
           0.020547684282064438,
           -1.2674490213394165,
           -1.4841341972351074,
           1.8097118139266968,
           7.043511867523193,
           2.545808792114258,
           0,
           0,
           0,
           0,
           0,
           0,
           0,
           0,
           0,
           0,
           0,
           0,
           0,
           0
          ],
          [
           2.555180788040161,
           -3.750751256942749,
           -4.624128341674805,
           -2.431562900543213,
           -2.450532913208008,
           -3.3221428394317627,
           -1.829921841621399,
           -3.1560797691345215,
           -7.056164741516113,
           -5.773897647857666,
           -0.2267083376646042,
           -0.4733198285102844,
           -3.4867231845855713,
           -4.317905426025391,
           -3.7213680744171143,
           -5.673250675201416,
           -3.2580862045288086,
           -0.016257598996162415,
           -0.5088637471199036,
           -1.3714150190353394,
           2.2449073791503906,
           7.205563545227051,
           3.001979112625122,
           0,
           0,
           0,
           0,
           0,
           0,
           0,
           0,
           0,
           0,
           0,
           0,
           0
          ],
          [
           2.3794915676116943,
           0.5710746049880981,
           -3.693692207336426,
           -5.335262775421143,
           -3.174823760986328,
           -2.806036949157715,
           -3.57065749168396,
           -1.3284274339675903,
           -2.671130657196045,
           -6.805691719055176,
           -5.991732120513916,
           0.29100435972213745,
           -0.13271024823188782,
           -3.0552494525909424,
           -4.192715644836426,
           -3.677618980407715,
           -5.532044410705566,
           -3.1117331981658936,
           0.41679099202156067,
           -0.3447146713733673,
           -1.1888024806976318,
           2.546231746673584,
           7.619067192077637,
           3.180166244506836,
           0,
           0,
           0,
           0,
           0,
           0,
           0,
           0,
           0,
           0,
           0,
           0
          ],
          [
           2.341519355773926,
           -2.749969482421875,
           0.7811921834945679,
           -4.431386470794678,
           -5.45474910736084,
           -4.098267078399658,
           -3.4134011268615723,
           -4.186364650726318,
           -1.3809325695037842,
           -2.435748338699341,
           -6.002941131591797,
           -5.665227890014648,
           0.5840597748756409,
           0.03390520066022873,
           -2.6310665607452393,
           -4.225188255310059,
           -3.593082904815674,
           -5.488093852996826,
           -3.08735728263855,
           -0.15361952781677246,
           -0.28676337003707886,
           -0.9225101470947266,
           2.6774539947509766,
           7.593557357788086,
           2.824007511138916,
           0,
           0,
           0,
           0,
           0,
           0,
           0,
           0,
           0,
           0,
           0
          ],
          [
           2.501648426055908,
           -6.265771865844727,
           -2.8785016536712646,
           0.4549705684185028,
           -4.316749572753906,
           -5.403420925140381,
           -4.778722286224365,
           -4.295913219451904,
           -5.300025463104248,
           -1.9025213718414307,
           -2.114665985107422,
           -5.064560413360596,
           -5.611363410949707,
           0.13633468747138977,
           -0.500674307346344,
           -2.9223201274871826,
           -4.783871650695801,
           -3.7187366485595703,
           -5.245585918426514,
           -3.3040077686309814,
           -0.08785991370677948,
           0.06684606522321701,
           -0.5708703994750977,
           2.385376214981079,
           7.276263236999512,
           2.8944201469421387,
           0,
           0,
           0,
           0,
           0,
           0,
           0,
           0,
           0,
           0
          ],
          [
           2.478179454803467,
           -4.899316787719727,
           -6.395390033721924,
           -3.1992719173431396,
           0.7842400074005127,
           -3.6024169921875,
           -5.334138870239258,
           -5.0086236000061035,
           -4.423003196716309,
           -5.963160037994385,
           -1.992728352546692,
           -1.6495671272277832,
           -4.420384407043457,
           -5.527998447418213,
           0.19688008725643158,
           -0.2585882842540741,
           -2.8113315105438232,
           -5.215087413787842,
           -3.5043203830718994,
           -4.56524133682251,
           -3.2949910163879395,
           -0.34210288524627686,
           -0.039257679134607315,
           -0.5728110671043396,
           2.262066602706909,
           7.433897018432617,
           3.0460543632507324,
           0,
           0,
           0,
           0,
           0,
           0,
           0,
           0,
           0
          ],
          [
           2.7483978271484375,
           -1.49001944065094,
           -4.462228775024414,
           -5.807703018188477,
           -2.774172306060791,
           1.4857251644134521,
           -2.5992743968963623,
           -4.876075744628906,
           -5.283580780029297,
           -4.480226993560791,
           -5.933243274688721,
           -1.8080322742462158,
           -1.1024785041809082,
           -3.5894899368286133,
           -5.103269100189209,
           0.43068939447402954,
           0.6494524478912354,
           -2.3603901863098145,
           -5.177921772003174,
           -3.5154106616973877,
           -3.1949009895324707,
           -2.499084711074829,
           0.18163277208805084,
           0.018187755718827248,
           -0.013589282520115376,
           2.939883232116699,
           8.147846221923828,
           3.776991128921509,
           0,
           0,
           0,
           0,
           0,
           0,
           0,
           0
          ],
          [
           3.013667345046997,
           -2.899904251098633,
           -0.6637811064720154,
           -3.988327980041504,
           -5.757534027099609,
           -3.656346321105957,
           1.0989705324172974,
           -2.237980842590332,
           -5.596184253692627,
           -6.0633416175842285,
           -4.809882164001465,
           -6.272670269012451,
           -2.4079906940460205,
           -1.0755457878112793,
           -3.1287102699279785,
           -5.155576229095459,
           0.13509775698184967,
           0.6630738973617554,
           -2.6093873977661133,
           -6.228724956512451,
           -3.831463575363159,
           -1.90098237991333,
           -2.2957963943481445,
           -0.3263804018497467,
           -0.25207772850990295,
           0.25173521041870117,
           2.775440216064453,
           8.051733016967773,
           3.4751834869384766,
           0,
           0,
           0,
           0,
           0,
           0,
           0
          ],
          [
           2.797779083251953,
           -1.3365226984024048,
           -2.3634445667266846,
           -0.6814990639686584,
           -3.519137144088745,
           -5.55642032623291,
           -3.9671828746795654,
           1.085039496421814,
           -2.141221046447754,
           -6.2159104347229,
           -7.1235432624816895,
           -5.391829013824463,
           -6.72956657409668,
           -2.938671112060547,
           -1.3506795167922974,
           -2.723515510559082,
           -5.4257378578186035,
           -0.3977893888950348,
           0.5240874886512756,
           -2.851496934890747,
           -6.807344436645508,
           -4.005583763122559,
           -1.140899658203125,
           -2.134315013885498,
           -0.467817097902298,
           -0.13995198905467987,
           0.4242969751358032,
           2.9756662845611572,
           7.921069622039795,
           3.4408740997314453,
           0,
           0,
           0,
           0,
           0,
           0
          ],
          [
           2.4632089138031006,
           -2.674571990966797,
           -0.8875861167907715,
           -2.9707071781158447,
           -0.7592148184776306,
           -2.9711718559265137,
           -5.477293491363525,
           -4.541872024536133,
           0.9068217277526855,
           -2.0145232677459717,
           -6.424890518188477,
           -7.681546688079834,
           -5.704803943634033,
           -7.079819679260254,
           -3.5454587936401367,
           -1.3775569200515747,
           -2.4205799102783203,
           -5.461933135986328,
           -1.130427598953247,
           0.5049867033958435,
           -3.2609708309173584,
           -7.252955436706543,
           -4.604461193084717,
           -0.9296881556510925,
           -2.3119547367095947,
           -0.9875364899635315,
           -0.1400112807750702,
           0.32642531394958496,
           2.6165125370025635,
           7.852546691894531,
           3.151801109313965,
           0,
           0,
           0,
           0,
           0
          ],
          [
           2.8298234939575195,
           -5.1879072189331055,
           -2.8245368003845215,
           -0.5169879198074341,
           -2.4998011589050293,
           -0.7413011193275452,
           -2.765451192855835,
           -5.4083943367004395,
           -4.853452682495117,
           0.21664132177829742,
           -1.867563009262085,
           -6.302840709686279,
           -8.369100570678711,
           -6.41496467590332,
           -7.113329887390137,
           -3.882556200027466,
           -1.7073948383331299,
           -2.115903615951538,
           -4.920173168182373,
           -1.8760008811950684,
           0.5868817567825317,
           -3.295255422592163,
           -7.095211029052734,
           -5.488298416137695,
           -0.840202271938324,
           -2.3491358757019043,
           -1.313751220703125,
           -0.5670505166053772,
           0.2314026802778244,
           2.652653932571411,
           7.700440406799316,
           3.4912846088409424,
           0,
           0,
           0,
           0
          ],
          [
           2.862455129623413,
           -3.6758830547332764,
           -5.797789573669434,
           -3.250735282897949,
           -0.4467647075653076,
           -2.4270901679992676,
           -1.038818120956421,
           -1.9591100215911865,
           -4.557975769042969,
           -5.421382427215576,
           -0.18599273264408112,
           -1.549304723739624,
           -6.554417610168457,
           -9.226387977600098,
           -6.264824390411377,
           -6.760714054107666,
           -4.151973724365234,
           -1.9380203485488892,
           -1.4945579767227173,
           -4.782158851623535,
           -2.614427328109741,
           0.4187687337398529,
           -3.3587541580200195,
           -7.96633768081665,
           -5.988129138946533,
           -0.5224418044090271,
           -2.41512393951416,
           -1.5502229928970337,
           -0.6391385793685913,
           0.17735444009304047,
           2.420013189315796,
           7.879076957702637,
           3.39113712310791,
           0,
           0,
           0
          ],
          [
           2.8004050254821777,
           0.7947831749916077,
           -3.4842023849487305,
           -6.431820869445801,
           -3.6279492378234863,
           -0.279272198677063,
           -2.381605386734009,
           -0.9620037078857422,
           -1.0046491622924805,
           -3.4627299308776855,
           -5.32010555267334,
           -0.1645975410938263,
           -1.0449243783950806,
           -6.294559955596924,
           -9.070013046264648,
           -5.6532673835754395,
           -5.624029636383057,
           -3.952655553817749,
           -2.029954195022583,
           -1.290069341659546,
           -3.858478307723999,
           -2.7308318614959717,
           0.4419301152229309,
           -3.47477650642395,
           -7.995095252990723,
           -5.690539360046387,
           -0.13791091740131378,
           -1.9781802892684937,
           -1.6217771768569946,
           -0.49631375074386597,
           0.1942707598209381,
           2.8244428634643555,
           8.264594078063965,
           3.5546672344207764,
           0,
           0
          ],
          [
           2.594653367996216,
           -2.810360908508301,
           1.0563459396362305,
           -4.359726905822754,
           -7.10392951965332,
           -4.834675312042236,
           -1.178831696510315,
           -2.9571409225463867,
           -1.7175040245056152,
           -0.9710549712181091,
           -2.8745229244232178,
           -5.193288326263428,
           -0.744868278503418,
           -1.5942399501800537,
           -6.480352401733398,
           -9.5210599899292,
           -5.704983234405518,
           -5.138111114501953,
           -4.229055881500244,
           -3.134119987487793,
           -1.431401014328003,
           -2.878199577331543,
           -2.8757517337799072,
           -0.13109351694583893,
           -3.909364700317383,
           -7.690107345581055,
           -5.591235637664795,
           -0.3136626183986664,
           -2.739912271499634,
           -2.077563762664795,
           -0.6388799548149109,
           0.27706900238990784,
           2.731400966644287,
           7.986876487731934,
           3.259246826171875,
           0
          ],
          [
           2.635056734085083,
           -4.082073211669922,
           -2.9974799156188965,
           0.31119564175605774,
           -4.1639556884765625,
           -7.128298759460449,
           -5.403939723968506,
           -1.802103877067566,
           -3.331056594848633,
           -2.336808681488037,
           -0.938755214214325,
           -2.382157802581787,
           -5.477145195007324,
           -1.7207471132278442,
           -2.2597367763519287,
           -6.682279586791992,
           -9.980713844299316,
           -5.779191493988037,
           -4.585447311401367,
           -4.4913330078125,
           -3.249668836593628,
           -1.5173976421356201,
           -2.1511003971099854,
           -3.1507508754730225,
           -0.25597378611564636,
           -3.44612193107605,
           -7.298580169677734,
           -5.550807476043701,
           -0.7268615365028381,
           -3.0401389598846436,
           -2.1545817852020264,
           -0.3272179365158081,
           0.09408019483089447,
           2.6374192237854004,
           7.765352725982666,
           3.353243112564087
          ]
         ]
        }
       ],
       "layout": {
        "autosize": true,
        "coloraxis": {
         "colorscale": [
          [
           0,
           "#0d0887"
          ],
          [
           0.1111111111111111,
           "#46039f"
          ],
          [
           0.2222222222222222,
           "#7201a8"
          ],
          [
           0.3333333333333333,
           "#9c179e"
          ],
          [
           0.4444444444444444,
           "#bd3786"
          ],
          [
           0.5555555555555556,
           "#d8576b"
          ],
          [
           0.6666666666666666,
           "#ed7953"
          ],
          [
           0.7777777777777778,
           "#fb9f3a"
          ],
          [
           0.8888888888888888,
           "#fdca26"
          ],
          [
           1,
           "#f0f921"
          ]
         ]
        },
        "margin": {
         "t": 60
        },
        "template": {
         "data": {
          "bar": [
           {
            "error_x": {
             "color": "#2a3f5f"
            },
            "error_y": {
             "color": "#2a3f5f"
            },
            "marker": {
             "line": {
              "color": "#E5ECF6",
              "width": 0.5
             },
             "pattern": {
              "fillmode": "overlay",
              "size": 10,
              "solidity": 0.2
             }
            },
            "type": "bar"
           }
          ],
          "barpolar": [
           {
            "marker": {
             "line": {
              "color": "#E5ECF6",
              "width": 0.5
             },
             "pattern": {
              "fillmode": "overlay",
              "size": 10,
              "solidity": 0.2
             }
            },
            "type": "barpolar"
           }
          ],
          "carpet": [
           {
            "aaxis": {
             "endlinecolor": "#2a3f5f",
             "gridcolor": "white",
             "linecolor": "white",
             "minorgridcolor": "white",
             "startlinecolor": "#2a3f5f"
            },
            "baxis": {
             "endlinecolor": "#2a3f5f",
             "gridcolor": "white",
             "linecolor": "white",
             "minorgridcolor": "white",
             "startlinecolor": "#2a3f5f"
            },
            "type": "carpet"
           }
          ],
          "choropleth": [
           {
            "colorbar": {
             "outlinewidth": 0,
             "ticks": ""
            },
            "type": "choropleth"
           }
          ],
          "contour": [
           {
            "colorbar": {
             "outlinewidth": 0,
             "ticks": ""
            },
            "colorscale": [
             [
              0,
              "#0d0887"
             ],
             [
              0.1111111111111111,
              "#46039f"
             ],
             [
              0.2222222222222222,
              "#7201a8"
             ],
             [
              0.3333333333333333,
              "#9c179e"
             ],
             [
              0.4444444444444444,
              "#bd3786"
             ],
             [
              0.5555555555555556,
              "#d8576b"
             ],
             [
              0.6666666666666666,
              "#ed7953"
             ],
             [
              0.7777777777777778,
              "#fb9f3a"
             ],
             [
              0.8888888888888888,
              "#fdca26"
             ],
             [
              1,
              "#f0f921"
             ]
            ],
            "type": "contour"
           }
          ],
          "contourcarpet": [
           {
            "colorbar": {
             "outlinewidth": 0,
             "ticks": ""
            },
            "type": "contourcarpet"
           }
          ],
          "heatmap": [
           {
            "colorbar": {
             "outlinewidth": 0,
             "ticks": ""
            },
            "colorscale": [
             [
              0,
              "#0d0887"
             ],
             [
              0.1111111111111111,
              "#46039f"
             ],
             [
              0.2222222222222222,
              "#7201a8"
             ],
             [
              0.3333333333333333,
              "#9c179e"
             ],
             [
              0.4444444444444444,
              "#bd3786"
             ],
             [
              0.5555555555555556,
              "#d8576b"
             ],
             [
              0.6666666666666666,
              "#ed7953"
             ],
             [
              0.7777777777777778,
              "#fb9f3a"
             ],
             [
              0.8888888888888888,
              "#fdca26"
             ],
             [
              1,
              "#f0f921"
             ]
            ],
            "type": "heatmap"
           }
          ],
          "heatmapgl": [
           {
            "colorbar": {
             "outlinewidth": 0,
             "ticks": ""
            },
            "colorscale": [
             [
              0,
              "#0d0887"
             ],
             [
              0.1111111111111111,
              "#46039f"
             ],
             [
              0.2222222222222222,
              "#7201a8"
             ],
             [
              0.3333333333333333,
              "#9c179e"
             ],
             [
              0.4444444444444444,
              "#bd3786"
             ],
             [
              0.5555555555555556,
              "#d8576b"
             ],
             [
              0.6666666666666666,
              "#ed7953"
             ],
             [
              0.7777777777777778,
              "#fb9f3a"
             ],
             [
              0.8888888888888888,
              "#fdca26"
             ],
             [
              1,
              "#f0f921"
             ]
            ],
            "type": "heatmapgl"
           }
          ],
          "histogram": [
           {
            "marker": {
             "pattern": {
              "fillmode": "overlay",
              "size": 10,
              "solidity": 0.2
             }
            },
            "type": "histogram"
           }
          ],
          "histogram2d": [
           {
            "colorbar": {
             "outlinewidth": 0,
             "ticks": ""
            },
            "colorscale": [
             [
              0,
              "#0d0887"
             ],
             [
              0.1111111111111111,
              "#46039f"
             ],
             [
              0.2222222222222222,
              "#7201a8"
             ],
             [
              0.3333333333333333,
              "#9c179e"
             ],
             [
              0.4444444444444444,
              "#bd3786"
             ],
             [
              0.5555555555555556,
              "#d8576b"
             ],
             [
              0.6666666666666666,
              "#ed7953"
             ],
             [
              0.7777777777777778,
              "#fb9f3a"
             ],
             [
              0.8888888888888888,
              "#fdca26"
             ],
             [
              1,
              "#f0f921"
             ]
            ],
            "type": "histogram2d"
           }
          ],
          "histogram2dcontour": [
           {
            "colorbar": {
             "outlinewidth": 0,
             "ticks": ""
            },
            "colorscale": [
             [
              0,
              "#0d0887"
             ],
             [
              0.1111111111111111,
              "#46039f"
             ],
             [
              0.2222222222222222,
              "#7201a8"
             ],
             [
              0.3333333333333333,
              "#9c179e"
             ],
             [
              0.4444444444444444,
              "#bd3786"
             ],
             [
              0.5555555555555556,
              "#d8576b"
             ],
             [
              0.6666666666666666,
              "#ed7953"
             ],
             [
              0.7777777777777778,
              "#fb9f3a"
             ],
             [
              0.8888888888888888,
              "#fdca26"
             ],
             [
              1,
              "#f0f921"
             ]
            ],
            "type": "histogram2dcontour"
           }
          ],
          "mesh3d": [
           {
            "colorbar": {
             "outlinewidth": 0,
             "ticks": ""
            },
            "type": "mesh3d"
           }
          ],
          "parcoords": [
           {
            "line": {
             "colorbar": {
              "outlinewidth": 0,
              "ticks": ""
             }
            },
            "type": "parcoords"
           }
          ],
          "pie": [
           {
            "automargin": true,
            "type": "pie"
           }
          ],
          "scatter": [
           {
            "marker": {
             "colorbar": {
              "outlinewidth": 0,
              "ticks": ""
             }
            },
            "type": "scatter"
           }
          ],
          "scatter3d": [
           {
            "line": {
             "colorbar": {
              "outlinewidth": 0,
              "ticks": ""
             }
            },
            "marker": {
             "colorbar": {
              "outlinewidth": 0,
              "ticks": ""
             }
            },
            "type": "scatter3d"
           }
          ],
          "scattercarpet": [
           {
            "marker": {
             "colorbar": {
              "outlinewidth": 0,
              "ticks": ""
             }
            },
            "type": "scattercarpet"
           }
          ],
          "scattergeo": [
           {
            "marker": {
             "colorbar": {
              "outlinewidth": 0,
              "ticks": ""
             }
            },
            "type": "scattergeo"
           }
          ],
          "scattergl": [
           {
            "marker": {
             "colorbar": {
              "outlinewidth": 0,
              "ticks": ""
             }
            },
            "type": "scattergl"
           }
          ],
          "scattermapbox": [
           {
            "marker": {
             "colorbar": {
              "outlinewidth": 0,
              "ticks": ""
             }
            },
            "type": "scattermapbox"
           }
          ],
          "scatterpolar": [
           {
            "marker": {
             "colorbar": {
              "outlinewidth": 0,
              "ticks": ""
             }
            },
            "type": "scatterpolar"
           }
          ],
          "scatterpolargl": [
           {
            "marker": {
             "colorbar": {
              "outlinewidth": 0,
              "ticks": ""
             }
            },
            "type": "scatterpolargl"
           }
          ],
          "scatterternary": [
           {
            "marker": {
             "colorbar": {
              "outlinewidth": 0,
              "ticks": ""
             }
            },
            "type": "scatterternary"
           }
          ],
          "surface": [
           {
            "colorbar": {
             "outlinewidth": 0,
             "ticks": ""
            },
            "colorscale": [
             [
              0,
              "#0d0887"
             ],
             [
              0.1111111111111111,
              "#46039f"
             ],
             [
              0.2222222222222222,
              "#7201a8"
             ],
             [
              0.3333333333333333,
              "#9c179e"
             ],
             [
              0.4444444444444444,
              "#bd3786"
             ],
             [
              0.5555555555555556,
              "#d8576b"
             ],
             [
              0.6666666666666666,
              "#ed7953"
             ],
             [
              0.7777777777777778,
              "#fb9f3a"
             ],
             [
              0.8888888888888888,
              "#fdca26"
             ],
             [
              1,
              "#f0f921"
             ]
            ],
            "type": "surface"
           }
          ],
          "table": [
           {
            "cells": {
             "fill": {
              "color": "#EBF0F8"
             },
             "line": {
              "color": "white"
             }
            },
            "header": {
             "fill": {
              "color": "#C8D4E3"
             },
             "line": {
              "color": "white"
             }
            },
            "type": "table"
           }
          ]
         },
         "layout": {
          "annotationdefaults": {
           "arrowcolor": "#2a3f5f",
           "arrowhead": 0,
           "arrowwidth": 1
          },
          "autotypenumbers": "strict",
          "coloraxis": {
           "colorbar": {
            "outlinewidth": 0,
            "ticks": ""
           }
          },
          "colorscale": {
           "diverging": [
            [
             0,
             "#8e0152"
            ],
            [
             0.1,
             "#c51b7d"
            ],
            [
             0.2,
             "#de77ae"
            ],
            [
             0.3,
             "#f1b6da"
            ],
            [
             0.4,
             "#fde0ef"
            ],
            [
             0.5,
             "#f7f7f7"
            ],
            [
             0.6,
             "#e6f5d0"
            ],
            [
             0.7,
             "#b8e186"
            ],
            [
             0.8,
             "#7fbc41"
            ],
            [
             0.9,
             "#4d9221"
            ],
            [
             1,
             "#276419"
            ]
           ],
           "sequential": [
            [
             0,
             "#0d0887"
            ],
            [
             0.1111111111111111,
             "#46039f"
            ],
            [
             0.2222222222222222,
             "#7201a8"
            ],
            [
             0.3333333333333333,
             "#9c179e"
            ],
            [
             0.4444444444444444,
             "#bd3786"
            ],
            [
             0.5555555555555556,
             "#d8576b"
            ],
            [
             0.6666666666666666,
             "#ed7953"
            ],
            [
             0.7777777777777778,
             "#fb9f3a"
            ],
            [
             0.8888888888888888,
             "#fdca26"
            ],
            [
             1,
             "#f0f921"
            ]
           ],
           "sequentialminus": [
            [
             0,
             "#0d0887"
            ],
            [
             0.1111111111111111,
             "#46039f"
            ],
            [
             0.2222222222222222,
             "#7201a8"
            ],
            [
             0.3333333333333333,
             "#9c179e"
            ],
            [
             0.4444444444444444,
             "#bd3786"
            ],
            [
             0.5555555555555556,
             "#d8576b"
            ],
            [
             0.6666666666666666,
             "#ed7953"
            ],
            [
             0.7777777777777778,
             "#fb9f3a"
            ],
            [
             0.8888888888888888,
             "#fdca26"
            ],
            [
             1,
             "#f0f921"
            ]
           ]
          },
          "colorway": [
           "#636efa",
           "#EF553B",
           "#00cc96",
           "#ab63fa",
           "#FFA15A",
           "#19d3f3",
           "#FF6692",
           "#B6E880",
           "#FF97FF",
           "#FECB52"
          ],
          "font": {
           "color": "#2a3f5f"
          },
          "geo": {
           "bgcolor": "white",
           "lakecolor": "white",
           "landcolor": "#E5ECF6",
           "showlakes": true,
           "showland": true,
           "subunitcolor": "white"
          },
          "hoverlabel": {
           "align": "left"
          },
          "hovermode": "closest",
          "mapbox": {
           "style": "light"
          },
          "paper_bgcolor": "white",
          "plot_bgcolor": "#E5ECF6",
          "polar": {
           "angularaxis": {
            "gridcolor": "white",
            "linecolor": "white",
            "ticks": ""
           },
           "bgcolor": "#E5ECF6",
           "radialaxis": {
            "gridcolor": "white",
            "linecolor": "white",
            "ticks": ""
           }
          },
          "scene": {
           "xaxis": {
            "backgroundcolor": "#E5ECF6",
            "gridcolor": "white",
            "gridwidth": 2,
            "linecolor": "white",
            "showbackground": true,
            "ticks": "",
            "zerolinecolor": "white"
           },
           "yaxis": {
            "backgroundcolor": "#E5ECF6",
            "gridcolor": "white",
            "gridwidth": 2,
            "linecolor": "white",
            "showbackground": true,
            "ticks": "",
            "zerolinecolor": "white"
           },
           "zaxis": {
            "backgroundcolor": "#E5ECF6",
            "gridcolor": "white",
            "gridwidth": 2,
            "linecolor": "white",
            "showbackground": true,
            "ticks": "",
            "zerolinecolor": "white"
           }
          },
          "shapedefaults": {
           "line": {
            "color": "#2a3f5f"
           }
          },
          "ternary": {
           "aaxis": {
            "gridcolor": "white",
            "linecolor": "white",
            "ticks": ""
           },
           "baxis": {
            "gridcolor": "white",
            "linecolor": "white",
            "ticks": ""
           },
           "bgcolor": "#E5ECF6",
           "caxis": {
            "gridcolor": "white",
            "linecolor": "white",
            "ticks": ""
           }
          },
          "title": {
           "x": 0.05
          },
          "xaxis": {
           "automargin": true,
           "gridcolor": "white",
           "linecolor": "white",
           "ticks": "",
           "title": {
            "standoff": 15
           },
           "zerolinecolor": "white",
           "zerolinewidth": 2
          },
          "yaxis": {
           "automargin": true,
           "gridcolor": "white",
           "linecolor": "white",
           "ticks": "",
           "title": {
            "standoff": 15
           },
           "zerolinecolor": "white",
           "zerolinewidth": 2
          }
         }
        },
        "xaxis": {
         "anchor": "y",
         "autorange": true,
         "constrain": "domain",
         "domain": [
          0.4035087719298246,
          0.5964912280701754
         ],
         "range": [
          -0.5,
          35.5
         ],
         "scaleanchor": "y"
        },
        "yaxis": {
         "anchor": "x",
         "autorange": true,
         "constrain": "domain",
         "domain": [
          0,
          1
         ],
         "range": [
          35.5,
          -0.5
         ]
        }
       }
      },
      "image/png": "[encoded data removed]",
      "text/html": [
       "<div>                            <div id=\"ac515733-d8ff-4a31-ab6d-17e8ee4316ae\" class=\"plotly-graph-div\" style=\"height:525px; width:100%;\"></div>            <script type=\"text/javascript\">                require([\"plotly\"], function(Plotly) {                    window.PLOTLYENV=window.PLOTLYENV || {};                                    if (document.getElementById(\"ac515733-d8ff-4a31-ab6d-17e8ee4316ae\")) {                    Plotly.newPlot(                        \"ac515733-d8ff-4a31-ab6d-17e8ee4316ae\",                        [{\"coloraxis\":\"coloraxis\",\"name\":\"0\",\"texttemplate\":\"%{z}\",\"z\":[[-9.626827239990234,0.0,0.0,0.0,0.0,0.0,0.0,0.0,0.0,0.0,0.0,0.0,0.0,0.0,0.0,0.0,0.0,0.0,0.0,0.0,0.0,0.0,0.0,0.0,0.0,0.0,0.0,0.0,0.0,0.0,0.0,0.0,0.0,0.0,0.0,0.0],[2.9622981548309326,-3.0244123935699463,0.0,0.0,0.0,0.0,0.0,0.0,0.0,0.0,0.0,0.0,0.0,0.0,0.0,0.0,0.0,0.0,0.0,0.0,0.0,0.0,0.0,0.0,0.0,0.0,0.0,0.0,0.0,0.0,0.0,0.0,0.0,0.0,0.0,0.0],[0.1428830623626709,4.058974266052246,0.1840706765651703,0.0,0.0,0.0,0.0,0.0,0.0,0.0,0.0,0.0,0.0,0.0,0.0,0.0,0.0,0.0,0.0,0.0,0.0,0.0,0.0,0.0,0.0,0.0,0.0,0.0,0.0,0.0,0.0,0.0,0.0,0.0,0.0,0.0],[0.17340540885925293,-0.39870357513427734,4.5762939453125,-0.29326048493385315,0.0,0.0,0.0,0.0,0.0,0.0,0.0,0.0,0.0,0.0,0.0,0.0,0.0,0.0,0.0,0.0,0.0,0.0,0.0,0.0,0.0,0.0,0.0,0.0,0.0,0.0,0.0,0.0,0.0,0.0,0.0,0.0],[0.40837013721466064,-2.75748872756958,-0.6573427319526672,4.269540786743164,0.06735964119434357,0.0,0.0,0.0,0.0,0.0,0.0,0.0,0.0,0.0,0.0,0.0,0.0,0.0,0.0,0.0,0.0,0.0,0.0,0.0,0.0,0.0,0.0,0.0,0.0,0.0,0.0,0.0,0.0,0.0,0.0,0.0],[0.272356241941452,-2.2107152938842773,-3.133338451385498,-0.532951295375824,4.844217300415039,0.2513512372970581,0.0,0.0,0.0,0.0,0.0,0.0,0.0,0.0,0.0,0.0,0.0,0.0,0.0,0.0,0.0,0.0,0.0,0.0,0.0,0.0,0.0,0.0,0.0,0.0,0.0,0.0,0.0,0.0,0.0,0.0],[0.8171212077140808,-1.745589017868042,-3.148677110671997,-2.8338708877563477,0.2624685764312744,5.120471000671387,0.5862398743629456,0.0,0.0,0.0,0.0,0.0,0.0,0.0,0.0,0.0,0.0,0.0,0.0,0.0,0.0,0.0,0.0,0.0,0.0,0.0,0.0,0.0,0.0,0.0,0.0,0.0,0.0,0.0,0.0,0.0],[1.1861945390701294,-3.33689284324646,-2.097937822341919,-3.066446542739868,-2.75164794921875,0.3148288428783417,5.093475341796875,0.9436495900154114,0.0,0.0,0.0,0.0,0.0,0.0,0.0,0.0,0.0,0.0,0.0,0.0,0.0,0.0,0.0,0.0,0.0,0.0,0.0,0.0,0.0,0.0,0.0,0.0,0.0,0.0,0.0,0.0],[1.149001121520996,-0.8712961077690125,-3.7284364700317383,-1.8157627582550049,-2.555251121520996,-2.4596517086029053,0.7527675032615662,5.780910491943359,1.2223694324493408,0.0,0.0,0.0,0.0,0.0,0.0,0.0,0.0,0.0,0.0,0.0,0.0,0.0,0.0,0.0,0.0,0.0,0.0,0.0,0.0,0.0,0.0,0.0,0.0,0.0,0.0,0.0],[0.9552791714668274,-0.9245137572288513,-1.107733964920044,-4.619438171386719,-1.4866925477981567,-2.465345859527588,-2.523710250854492,1.0909205675125122,6.055203914642334,1.3522861003875732,0.0,0.0,0.0,0.0,0.0,0.0,0.0,0.0,0.0,0.0,0.0,0.0,0.0,0.0,0.0,0.0,0.0,0.0,0.0,0.0,0.0,0.0,0.0,0.0,0.0,0.0],[1.2515538930892944,-4.4784770011901855,-1.1673601865768433,-1.5078057050704956,-4.462332248687744,-1.590660810470581,-2.902836561203003,-2.6641223430633545,0.9528499245643616,5.823136329650879,1.377445101737976,0.0,0.0,0.0,0.0,0.0,0.0,0.0,0.0,0.0,0.0,0.0,0.0,0.0,0.0,0.0,0.0,0.0,0.0,0.0,0.0,0.0,0.0,0.0,0.0,0.0],[1.5803576707839966,-6.299768924713135,-4.65678596496582,-1.4115757942199707,-1.6345535516738892,-4.210244178771973,-1.93361496925354,-2.7827858924865723,-2.624990224838257,0.864080548286438,6.031601905822754,1.7620309591293335,0.0,0.0,0.0,0.0,0.0,0.0,0.0,0.0,0.0,0.0,0.0,0.0,0.0,0.0,0.0,0.0,0.0,0.0,0.0,0.0,0.0,0.0,0.0,0.0],[1.5421141386032104,-1.1363329887390137,-6.822328090667725,-4.717132091522217,-0.9571250081062317,-0.8962728977203369,-3.5555837154388428,-1.3161338567733765,-1.9168691635131836,-2.1775131225585938,1.296628713607788,6.50808048248291,2.1699845790863037,0.0,0.0,0.0,0.0,0.0,0.0,0.0,0.0,0.0,0.0,0.0,0.0,0.0,0.0,0.0,0.0,0.0,0.0,0.0,0.0,0.0,0.0,0.0],[1.6489328145980835,-0.7511842250823975,-1.390316367149353,-7.435785293579102,-4.728285312652588,-1.0892887115478516,-0.7667304873466492,-3.1333701610565186,-1.3607563972473145,-1.676727056503296,-1.6263595819473267,1.8807570934295654,6.849791049957275,2.5037217140197754,0.0,0.0,0.0,0.0,0.0,0.0,0.0,0.0,0.0,0.0,0.0,0.0,0.0,0.0,0.0,0.0,0.0,0.0,0.0,0.0,0.0,0.0],[1.9465910196304321,-2.5439746379852295,-0.6423794627189636,-1.7904777526855469,-7.268550395965576,-4.87795352935791,-1.3462097644805908,-0.9442083835601807,-3.639167070388794,-1.41903555393219,-1.4584925174713135,-1.0283104181289673,1.850663423538208,6.717661380767822,2.1723968982696533,0.0,0.0,0.0,0.0,0.0,0.0,0.0,0.0,0.0,0.0,0.0,0.0,0.0,0.0,0.0,0.0,0.0,0.0,0.0,0.0,0.0],[1.5990129709243774,-3.602943181991577,-2.683013439178467,-1.2019362449645996,-1.6481527090072632,-7.133181095123291,-4.641428470611572,-1.5984224081039429,-1.3697677850723267,-4.168922424316406,-0.9517470002174377,-1.3116240501403809,-1.0058468580245972,1.845023512840271,6.601810932159424,2.2324881553649902,0.0,0.0,0.0,0.0,0.0,0.0,0.0,0.0,0.0,0.0,0.0,0.0,0.0,0.0,0.0,0.0,0.0,0.0,0.0,0.0],[1.6893950700759888,-1.9662283658981323,-4.419034004211426,-2.892954111099243,-0.5046147704124451,-1.0111967325210571,-6.695154666900635,-4.574704647064209,-1.5866656303405762,-1.6166462898254395,-3.824688673019409,-0.3748187720775604,-1.1924985647201538,-1.1308143138885498,1.9507391452789307,6.894132137298584,2.4272983074188232,0.0,0.0,0.0,0.0,0.0,0.0,0.0,0.0,0.0,0.0,0.0,0.0,0.0,0.0,0.0,0.0,0.0,0.0,0.0],[2.142932891845703,-3.7283594608306885,-2.0807945728302,-4.928874969482422,-3.232290744781494,-0.8270310759544373,-1.0383721590042114,-6.400802135467529,-4.616575717926025,-1.9782358407974243,-1.7910789251327515,-3.6003646850585938,-0.33360275626182556,-1.2874118089675903,-1.2485604286193848,1.804288625717163,6.794820785522461,2.520321846008301,0.0,0.0,0.0,0.0,0.0,0.0,0.0,0.0,0.0,0.0,0.0,0.0,0.0,0.0,0.0,0.0,0.0,0.0],[2.458486557006836,-2.738527297973633,-3.248622179031372,-1.5614854097366333,-5.147202014923096,-3.2843217849731445,-0.7682790756225586,-0.6663938760757446,-6.014784336090088,-4.233358860015869,-2.1531221866607666,-2.2063140869140625,-3.725480079650879,-0.29879459738731384,-1.3457003831863403,-1.1403896808624268,1.8393326997756958,6.851811408996582,2.5914714336395264,0.0,0.0,0.0,0.0,0.0,0.0,0.0,0.0,0.0,0.0,0.0,0.0,0.0,0.0,0.0,0.0,0.0],[2.249152421951294,-0.815087616443634,-2.4777565002441406,-3.391577959060669,-2.319760799407959,-6.31196403503418,-3.7896130084991455,-0.5203942060470581,-0.40442970395088196,-5.928640842437744,-4.014026641845703,-2.6224827766418457,-3.246109962463379,-3.659134864807129,0.07033505290746689,-1.4199203252792358,-1.3313065767288208,2.100135087966919,7.016493320465088,2.4413747787475586,0.0,0.0,0.0,0.0,0.0,0.0,0.0,0.0,0.0,0.0,0.0,0.0,0.0,0.0,0.0,0.0],[2.110476493835449,-1.6667696237564087,-1.4338781833648682,-2.9810361862182617,-2.5553081035614014,-2.35160493850708,-6.8018107414245605,-4.523059844970703,-0.10386936366558075,-0.39170223474502563,-5.179019927978516,-3.685615301132202,-2.7534031867980957,-4.321701526641846,-3.3787288665771484,0.31431838870048523,-1.297743320465088,-1.4596068859100342,2.2893805503845215,7.214382648468018,2.5743160247802734,0.0,0.0,0.0,0.0,0.0,0.0,0.0,0.0,0.0,0.0,0.0,0.0,0.0,0.0,0.0],[2.5068747997283936,-4.518947124481201,-1.9451178312301636,-2.5290098190307617,-3.6384801864624023,-2.2934770584106445,-3.153578996658325,-7.690161228179932,-5.506639003753662,-0.6296639442443848,-0.8375254273414612,-4.403618812561035,-4.075490474700928,-3.8522584438323975,-5.686208248138428,-3.789818286895752,0.020547684282064438,-1.2674490213394165,-1.4841341972351074,1.8097118139266968,7.043511867523193,2.545808792114258,0.0,0.0,0.0,0.0,0.0,0.0,0.0,0.0,0.0,0.0,0.0,0.0,0.0,0.0],[2.555180788040161,-3.750751256942749,-4.624128341674805,-2.431562900543213,-2.450532913208008,-3.3221428394317627,-1.829921841621399,-3.1560797691345215,-7.056164741516113,-5.773897647857666,-0.2267083376646042,-0.4733198285102844,-3.4867231845855713,-4.317905426025391,-3.7213680744171143,-5.673250675201416,-3.2580862045288086,-0.016257598996162415,-0.5088637471199036,-1.3714150190353394,2.2449073791503906,7.205563545227051,3.001979112625122,0.0,0.0,0.0,0.0,0.0,0.0,0.0,0.0,0.0,0.0,0.0,0.0,0.0],[2.3794915676116943,0.5710746049880981,-3.693692207336426,-5.335262775421143,-3.174823760986328,-2.806036949157715,-3.57065749168396,-1.3284274339675903,-2.671130657196045,-6.805691719055176,-5.991732120513916,0.29100435972213745,-0.13271024823188782,-3.0552494525909424,-4.192715644836426,-3.677618980407715,-5.532044410705566,-3.1117331981658936,0.41679099202156067,-0.3447146713733673,-1.1888024806976318,2.546231746673584,7.619067192077637,3.180166244506836,0.0,0.0,0.0,0.0,0.0,0.0,0.0,0.0,0.0,0.0,0.0,0.0],[2.341519355773926,-2.749969482421875,0.7811921834945679,-4.431386470794678,-5.45474910736084,-4.098267078399658,-3.4134011268615723,-4.186364650726318,-1.3809325695037842,-2.435748338699341,-6.002941131591797,-5.665227890014648,0.5840597748756409,0.03390520066022873,-2.6310665607452393,-4.225188255310059,-3.593082904815674,-5.488093852996826,-3.08735728263855,-0.15361952781677246,-0.28676337003707886,-0.9225101470947266,2.6774539947509766,7.593557357788086,2.824007511138916,0.0,0.0,0.0,0.0,0.0,0.0,0.0,0.0,0.0,0.0,0.0],[2.501648426055908,-6.265771865844727,-2.8785016536712646,0.4549705684185028,-4.316749572753906,-5.403420925140381,-4.778722286224365,-4.295913219451904,-5.300025463104248,-1.9025213718414307,-2.114665985107422,-5.064560413360596,-5.611363410949707,0.13633468747138977,-0.500674307346344,-2.9223201274871826,-4.783871650695801,-3.7187366485595703,-5.245585918426514,-3.3040077686309814,-0.08785991370677948,0.06684606522321701,-0.5708703994750977,2.385376214981079,7.276263236999512,2.8944201469421387,0.0,0.0,0.0,0.0,0.0,0.0,0.0,0.0,0.0,0.0],[2.478179454803467,-4.899316787719727,-6.395390033721924,-3.1992719173431396,0.7842400074005127,-3.6024169921875,-5.334138870239258,-5.0086236000061035,-4.423003196716309,-5.963160037994385,-1.992728352546692,-1.6495671272277832,-4.420384407043457,-5.527998447418213,0.19688008725643158,-0.2585882842540741,-2.8113315105438232,-5.215087413787842,-3.5043203830718994,-4.56524133682251,-3.2949910163879395,-0.34210288524627686,-0.039257679134607315,-0.5728110671043396,2.262066602706909,7.433897018432617,3.0460543632507324,0.0,0.0,0.0,0.0,0.0,0.0,0.0,0.0,0.0],[2.7483978271484375,-1.49001944065094,-4.462228775024414,-5.807703018188477,-2.774172306060791,1.4857251644134521,-2.5992743968963623,-4.876075744628906,-5.283580780029297,-4.480226993560791,-5.933243274688721,-1.8080322742462158,-1.1024785041809082,-3.5894899368286133,-5.103269100189209,0.43068939447402954,0.6494524478912354,-2.3603901863098145,-5.177921772003174,-3.5154106616973877,-3.1949009895324707,-2.499084711074829,0.18163277208805084,0.018187755718827248,-0.013589282520115376,2.939883232116699,8.147846221923828,3.776991128921509,0.0,0.0,0.0,0.0,0.0,0.0,0.0,0.0],[3.013667345046997,-2.899904251098633,-0.6637811064720154,-3.988327980041504,-5.757534027099609,-3.656346321105957,1.0989705324172974,-2.237980842590332,-5.596184253692627,-6.0633416175842285,-4.809882164001465,-6.272670269012451,-2.4079906940460205,-1.0755457878112793,-3.1287102699279785,-5.155576229095459,0.13509775698184967,0.6630738973617554,-2.6093873977661133,-6.228724956512451,-3.831463575363159,-1.90098237991333,-2.2957963943481445,-0.3263804018497467,-0.25207772850990295,0.25173521041870117,2.775440216064453,8.051733016967773,3.4751834869384766,0.0,0.0,0.0,0.0,0.0,0.0,0.0],[2.797779083251953,-1.3365226984024048,-2.3634445667266846,-0.6814990639686584,-3.519137144088745,-5.55642032623291,-3.9671828746795654,1.085039496421814,-2.141221046447754,-6.2159104347229,-7.1235432624816895,-5.391829013824463,-6.72956657409668,-2.938671112060547,-1.3506795167922974,-2.723515510559082,-5.4257378578186035,-0.3977893888950348,0.5240874886512756,-2.851496934890747,-6.807344436645508,-4.005583763122559,-1.140899658203125,-2.134315013885498,-0.467817097902298,-0.13995198905467987,0.4242969751358032,2.9756662845611572,7.921069622039795,3.4408740997314453,0.0,0.0,0.0,0.0,0.0,0.0],[2.4632089138031006,-2.674571990966797,-0.8875861167907715,-2.9707071781158447,-0.7592148184776306,-2.9711718559265137,-5.477293491363525,-4.541872024536133,0.9068217277526855,-2.0145232677459717,-6.424890518188477,-7.681546688079834,-5.704803943634033,-7.079819679260254,-3.5454587936401367,-1.3775569200515747,-2.4205799102783203,-5.461933135986328,-1.130427598953247,0.5049867033958435,-3.2609708309173584,-7.252955436706543,-4.604461193084717,-0.9296881556510925,-2.3119547367095947,-0.9875364899635315,-0.1400112807750702,0.32642531394958496,2.6165125370025635,7.852546691894531,3.151801109313965,0.0,0.0,0.0,0.0,0.0],[2.8298234939575195,-5.1879072189331055,-2.8245368003845215,-0.5169879198074341,-2.4998011589050293,-0.7413011193275452,-2.765451192855835,-5.4083943367004395,-4.853452682495117,0.21664132177829742,-1.867563009262085,-6.302840709686279,-8.369100570678711,-6.41496467590332,-7.113329887390137,-3.882556200027466,-1.7073948383331299,-2.115903615951538,-4.920173168182373,-1.8760008811950684,0.5868817567825317,-3.295255422592163,-7.095211029052734,-5.488298416137695,-0.840202271938324,-2.3491358757019043,-1.313751220703125,-0.5670505166053772,0.2314026802778244,2.652653932571411,7.700440406799316,3.4912846088409424,0.0,0.0,0.0,0.0],[2.862455129623413,-3.6758830547332764,-5.797789573669434,-3.250735282897949,-0.4467647075653076,-2.4270901679992676,-1.038818120956421,-1.9591100215911865,-4.557975769042969,-5.421382427215576,-0.18599273264408112,-1.549304723739624,-6.554417610168457,-9.226387977600098,-6.264824390411377,-6.760714054107666,-4.151973724365234,-1.9380203485488892,-1.4945579767227173,-4.782158851623535,-2.614427328109741,0.4187687337398529,-3.3587541580200195,-7.96633768081665,-5.988129138946533,-0.5224418044090271,-2.41512393951416,-1.5502229928970337,-0.6391385793685913,0.17735444009304047,2.420013189315796,7.879076957702637,3.39113712310791,0.0,0.0,0.0],[2.8004050254821777,0.7947831749916077,-3.4842023849487305,-6.431820869445801,-3.6279492378234863,-0.279272198677063,-2.381605386734009,-0.9620037078857422,-1.0046491622924805,-3.4627299308776855,-5.32010555267334,-0.1645975410938263,-1.0449243783950806,-6.294559955596924,-9.070013046264648,-5.6532673835754395,-5.624029636383057,-3.952655553817749,-2.029954195022583,-1.290069341659546,-3.858478307723999,-2.7308318614959717,0.4419301152229309,-3.47477650642395,-7.995095252990723,-5.690539360046387,-0.13791091740131378,-1.9781802892684937,-1.6217771768569946,-0.49631375074386597,0.1942707598209381,2.8244428634643555,8.264594078063965,3.5546672344207764,0.0,0.0],[2.594653367996216,-2.810360908508301,1.0563459396362305,-4.359726905822754,-7.10392951965332,-4.834675312042236,-1.178831696510315,-2.9571409225463867,-1.7175040245056152,-0.9710549712181091,-2.8745229244232178,-5.193288326263428,-0.744868278503418,-1.5942399501800537,-6.480352401733398,-9.5210599899292,-5.704983234405518,-5.138111114501953,-4.229055881500244,-3.134119987487793,-1.431401014328003,-2.878199577331543,-2.8757517337799072,-0.13109351694583893,-3.909364700317383,-7.690107345581055,-5.591235637664795,-0.3136626183986664,-2.739912271499634,-2.077563762664795,-0.6388799548149109,0.27706900238990784,2.731400966644287,7.986876487731934,3.259246826171875,0.0],[2.635056734085083,-4.082073211669922,-2.9974799156188965,0.31119564175605774,-4.1639556884765625,-7.128298759460449,-5.403939723968506,-1.802103877067566,-3.331056594848633,-2.336808681488037,-0.938755214214325,-2.382157802581787,-5.477145195007324,-1.7207471132278442,-2.2597367763519287,-6.682279586791992,-9.980713844299316,-5.779191493988037,-4.585447311401367,-4.4913330078125,-3.249668836593628,-1.5173976421356201,-2.1511003971099854,-3.1507508754730225,-0.25597378611564636,-3.44612193107605,-7.298580169677734,-5.550807476043701,-0.7268615365028381,-3.0401389598846436,-2.1545817852020264,-0.3272179365158081,0.09408019483089447,2.6374192237854004,7.765352725982666,3.353243112564087]],\"type\":\"heatmap\",\"xaxis\":\"x\",\"yaxis\":\"y\",\"hovertemplate\":\"x: %{x}<br>y: %{y}<br>color: %{z}<extra></extra>\"}],                        {\"template\":{\"data\":{\"bar\":[{\"error_x\":{\"color\":\"#2a3f5f\"},\"error_y\":{\"color\":\"#2a3f5f\"},\"marker\":{\"line\":{\"color\":\"#E5ECF6\",\"width\":0.5},\"pattern\":{\"fillmode\":\"overlay\",\"size\":10,\"solidity\":0.2}},\"type\":\"bar\"}],\"barpolar\":[{\"marker\":{\"line\":{\"color\":\"#E5ECF6\",\"width\":0.5},\"pattern\":{\"fillmode\":\"overlay\",\"size\":10,\"solidity\":0.2}},\"type\":\"barpolar\"}],\"carpet\":[{\"aaxis\":{\"endlinecolor\":\"#2a3f5f\",\"gridcolor\":\"white\",\"linecolor\":\"white\",\"minorgridcolor\":\"white\",\"startlinecolor\":\"#2a3f5f\"},\"baxis\":{\"endlinecolor\":\"#2a3f5f\",\"gridcolor\":\"white\",\"linecolor\":\"white\",\"minorgridcolor\":\"white\",\"startlinecolor\":\"#2a3f5f\"},\"type\":\"carpet\"}],\"choropleth\":[{\"colorbar\":{\"outlinewidth\":0,\"ticks\":\"\"},\"type\":\"choropleth\"}],\"contour\":[{\"colorbar\":{\"outlinewidth\":0,\"ticks\":\"\"},\"colorscale\":[[0.0,\"#0d0887\"],[0.1111111111111111,\"#46039f\"],[0.2222222222222222,\"#7201a8\"],[0.3333333333333333,\"#9c179e\"],[0.4444444444444444,\"#bd3786\"],[0.5555555555555556,\"#d8576b\"],[0.6666666666666666,\"#ed7953\"],[0.7777777777777778,\"#fb9f3a\"],[0.8888888888888888,\"#fdca26\"],[1.0,\"#f0f921\"]],\"type\":\"contour\"}],\"contourcarpet\":[{\"colorbar\":{\"outlinewidth\":0,\"ticks\":\"\"},\"type\":\"contourcarpet\"}],\"heatmap\":[{\"colorbar\":{\"outlinewidth\":0,\"ticks\":\"\"},\"colorscale\":[[0.0,\"#0d0887\"],[0.1111111111111111,\"#46039f\"],[0.2222222222222222,\"#7201a8\"],[0.3333333333333333,\"#9c179e\"],[0.4444444444444444,\"#bd3786\"],[0.5555555555555556,\"#d8576b\"],[0.6666666666666666,\"#ed7953\"],[0.7777777777777778,\"#fb9f3a\"],[0.8888888888888888,\"#fdca26\"],[1.0,\"#f0f921\"]],\"type\":\"heatmap\"}],\"heatmapgl\":[{\"colorbar\":{\"outlinewidth\":0,\"ticks\":\"\"},\"colorscale\":[[0.0,\"#0d0887\"],[0.1111111111111111,\"#46039f\"],[0.2222222222222222,\"#7201a8\"],[0.3333333333333333,\"#9c179e\"],[0.4444444444444444,\"#bd3786\"],[0.5555555555555556,\"#d8576b\"],[0.6666666666666666,\"#ed7953\"],[0.7777777777777778,\"#fb9f3a\"],[0.8888888888888888,\"#fdca26\"],[1.0,\"#f0f921\"]],\"type\":\"heatmapgl\"}],\"histogram\":[{\"marker\":{\"pattern\":{\"fillmode\":\"overlay\",\"size\":10,\"solidity\":0.2}},\"type\":\"histogram\"}],\"histogram2d\":[{\"colorbar\":{\"outlinewidth\":0,\"ticks\":\"\"},\"colorscale\":[[0.0,\"#0d0887\"],[0.1111111111111111,\"#46039f\"],[0.2222222222222222,\"#7201a8\"],[0.3333333333333333,\"#9c179e\"],[0.4444444444444444,\"#bd3786\"],[0.5555555555555556,\"#d8576b\"],[0.6666666666666666,\"#ed7953\"],[0.7777777777777778,\"#fb9f3a\"],[0.8888888888888888,\"#fdca26\"],[1.0,\"#f0f921\"]],\"type\":\"histogram2d\"}],\"histogram2dcontour\":[{\"colorbar\":{\"outlinewidth\":0,\"ticks\":\"\"},\"colorscale\":[[0.0,\"#0d0887\"],[0.1111111111111111,\"#46039f\"],[0.2222222222222222,\"#7201a8\"],[0.3333333333333333,\"#9c179e\"],[0.4444444444444444,\"#bd3786\"],[0.5555555555555556,\"#d8576b\"],[0.6666666666666666,\"#ed7953\"],[0.7777777777777778,\"#fb9f3a\"],[0.8888888888888888,\"#fdca26\"],[1.0,\"#f0f921\"]],\"type\":\"histogram2dcontour\"}],\"mesh3d\":[{\"colorbar\":{\"outlinewidth\":0,\"ticks\":\"\"},\"type\":\"mesh3d\"}],\"parcoords\":[{\"line\":{\"colorbar\":{\"outlinewidth\":0,\"ticks\":\"\"}},\"type\":\"parcoords\"}],\"pie\":[{\"automargin\":true,\"type\":\"pie\"}],\"scatter\":[{\"marker\":{\"colorbar\":{\"outlinewidth\":0,\"ticks\":\"\"}},\"type\":\"scatter\"}],\"scatter3d\":[{\"line\":{\"colorbar\":{\"outlinewidth\":0,\"ticks\":\"\"}},\"marker\":{\"colorbar\":{\"outlinewidth\":0,\"ticks\":\"\"}},\"type\":\"scatter3d\"}],\"scattercarpet\":[{\"marker\":{\"colorbar\":{\"outlinewidth\":0,\"ticks\":\"\"}},\"type\":\"scattercarpet\"}],\"scattergeo\":[{\"marker\":{\"colorbar\":{\"outlinewidth\":0,\"ticks\":\"\"}},\"type\":\"scattergeo\"}],\"scattergl\":[{\"marker\":{\"colorbar\":{\"outlinewidth\":0,\"ticks\":\"\"}},\"type\":\"scattergl\"}],\"scattermapbox\":[{\"marker\":{\"colorbar\":{\"outlinewidth\":0,\"ticks\":\"\"}},\"type\":\"scattermapbox\"}],\"scatterpolar\":[{\"marker\":{\"colorbar\":{\"outlinewidth\":0,\"ticks\":\"\"}},\"type\":\"scatterpolar\"}],\"scatterpolargl\":[{\"marker\":{\"colorbar\":{\"outlinewidth\":0,\"ticks\":\"\"}},\"type\":\"scatterpolargl\"}],\"scatterternary\":[{\"marker\":{\"colorbar\":{\"outlinewidth\":0,\"ticks\":\"\"}},\"type\":\"scatterternary\"}],\"surface\":[{\"colorbar\":{\"outlinewidth\":0,\"ticks\":\"\"},\"colorscale\":[[0.0,\"#0d0887\"],[0.1111111111111111,\"#46039f\"],[0.2222222222222222,\"#7201a8\"],[0.3333333333333333,\"#9c179e\"],[0.4444444444444444,\"#bd3786\"],[0.5555555555555556,\"#d8576b\"],[0.6666666666666666,\"#ed7953\"],[0.7777777777777778,\"#fb9f3a\"],[0.8888888888888888,\"#fdca26\"],[1.0,\"#f0f921\"]],\"type\":\"surface\"}],\"table\":[{\"cells\":{\"fill\":{\"color\":\"#EBF0F8\"},\"line\":{\"color\":\"white\"}},\"header\":{\"fill\":{\"color\":\"#C8D4E3\"},\"line\":{\"color\":\"white\"}},\"type\":\"table\"}]},\"layout\":{\"annotationdefaults\":{\"arrowcolor\":\"#2a3f5f\",\"arrowhead\":0,\"arrowwidth\":1},\"autotypenumbers\":\"strict\",\"coloraxis\":{\"colorbar\":{\"outlinewidth\":0,\"ticks\":\"\"}},\"colorscale\":{\"diverging\":[[0,\"#8e0152\"],[0.1,\"#c51b7d\"],[0.2,\"#de77ae\"],[0.3,\"#f1b6da\"],[0.4,\"#fde0ef\"],[0.5,\"#f7f7f7\"],[0.6,\"#e6f5d0\"],[0.7,\"#b8e186\"],[0.8,\"#7fbc41\"],[0.9,\"#4d9221\"],[1,\"#276419\"]],\"sequential\":[[0.0,\"#0d0887\"],[0.1111111111111111,\"#46039f\"],[0.2222222222222222,\"#7201a8\"],[0.3333333333333333,\"#9c179e\"],[0.4444444444444444,\"#bd3786\"],[0.5555555555555556,\"#d8576b\"],[0.6666666666666666,\"#ed7953\"],[0.7777777777777778,\"#fb9f3a\"],[0.8888888888888888,\"#fdca26\"],[1.0,\"#f0f921\"]],\"sequentialminus\":[[0.0,\"#0d0887\"],[0.1111111111111111,\"#46039f\"],[0.2222222222222222,\"#7201a8\"],[0.3333333333333333,\"#9c179e\"],[0.4444444444444444,\"#bd3786\"],[0.5555555555555556,\"#d8576b\"],[0.6666666666666666,\"#ed7953\"],[0.7777777777777778,\"#fb9f3a\"],[0.8888888888888888,\"#fdca26\"],[1.0,\"#f0f921\"]]},\"colorway\":[\"#636efa\",\"#EF553B\",\"#00cc96\",\"#ab63fa\",\"#FFA15A\",\"#19d3f3\",\"#FF6692\",\"#B6E880\",\"#FF97FF\",\"#FECB52\"],\"font\":{\"color\":\"#2a3f5f\"},\"geo\":{\"bgcolor\":\"white\",\"lakecolor\":\"white\",\"landcolor\":\"#E5ECF6\",\"showlakes\":true,\"showland\":true,\"subunitcolor\":\"white\"},\"hoverlabel\":{\"align\":\"left\"},\"hovermode\":\"closest\",\"mapbox\":{\"style\":\"light\"},\"paper_bgcolor\":\"white\",\"plot_bgcolor\":\"#E5ECF6\",\"polar\":{\"angularaxis\":{\"gridcolor\":\"white\",\"linecolor\":\"white\",\"ticks\":\"\"},\"bgcolor\":\"#E5ECF6\",\"radialaxis\":{\"gridcolor\":\"white\",\"linecolor\":\"white\",\"ticks\":\"\"}},\"scene\":{\"xaxis\":{\"backgroundcolor\":\"#E5ECF6\",\"gridcolor\":\"white\",\"gridwidth\":2,\"linecolor\":\"white\",\"showbackground\":true,\"ticks\":\"\",\"zerolinecolor\":\"white\"},\"yaxis\":{\"backgroundcolor\":\"#E5ECF6\",\"gridcolor\":\"white\",\"gridwidth\":2,\"linecolor\":\"white\",\"showbackground\":true,\"ticks\":\"\",\"zerolinecolor\":\"white\"},\"zaxis\":{\"backgroundcolor\":\"#E5ECF6\",\"gridcolor\":\"white\",\"gridwidth\":2,\"linecolor\":\"white\",\"showbackground\":true,\"ticks\":\"\",\"zerolinecolor\":\"white\"}},\"shapedefaults\":{\"line\":{\"color\":\"#2a3f5f\"}},\"ternary\":{\"aaxis\":{\"gridcolor\":\"white\",\"linecolor\":\"white\",\"ticks\":\"\"},\"baxis\":{\"gridcolor\":\"white\",\"linecolor\":\"white\",\"ticks\":\"\"},\"bgcolor\":\"#E5ECF6\",\"caxis\":{\"gridcolor\":\"white\",\"linecolor\":\"white\",\"ticks\":\"\"}},\"title\":{\"x\":0.05},\"xaxis\":{\"automargin\":true,\"gridcolor\":\"white\",\"linecolor\":\"white\",\"ticks\":\"\",\"title\":{\"standoff\":15},\"zerolinecolor\":\"white\",\"zerolinewidth\":2},\"yaxis\":{\"automargin\":true,\"gridcolor\":\"white\",\"linecolor\":\"white\",\"ticks\":\"\",\"title\":{\"standoff\":15},\"zerolinecolor\":\"white\",\"zerolinewidth\":2}}},\"xaxis\":{\"anchor\":\"y\",\"domain\":[0.0,1.0],\"scaleanchor\":\"y\",\"constrain\":\"domain\"},\"yaxis\":{\"anchor\":\"x\",\"domain\":[0.0,1.0],\"autorange\":\"reversed\",\"constrain\":\"domain\"},\"coloraxis\":{\"colorscale\":[[0.0,\"#0d0887\"],[0.1111111111111111,\"#46039f\"],[0.2222222222222222,\"#7201a8\"],[0.3333333333333333,\"#9c179e\"],[0.4444444444444444,\"#bd3786\"],[0.5555555555555556,\"#d8576b\"],[0.6666666666666666,\"#ed7953\"],[0.7777777777777778,\"#fb9f3a\"],[0.8888888888888888,\"#fdca26\"],[1.0,\"#f0f921\"]]},\"margin\":{\"t\":60}},                        {\"responsive\": true}                    ).then(function(){\n",
       "                            \n",
       "var gd = document.getElementById('ac515733-d8ff-4a31-ab6d-17e8ee4316ae');\n",
       "var x = new MutationObserver(function (mutations, observer) {{\n",
       "        var display = window.getComputedStyle(gd).display;\n",
       "        if (!display || display === 'none') {{\n",
       "            console.log([gd, 'removed!']);\n",
       "            Plotly.purge(gd);\n",
       "            observer.disconnect();\n",
       "        }}\n",
       "}});\n",
       "\n",
       "// Listen for the removal of the full notebook cells\n",
       "var notebookContainer = gd.closest('#notebook-container');\n",
       "if (notebookContainer) {{\n",
       "    x.observe(notebookContainer, {childList: true});\n",
       "}}\n",
       "\n",
       "// Listen for the clearing of the current output cell\n",
       "var outputEl = gd.closest('.output');\n",
       "if (outputEl) {{\n",
       "    x.observe(outputEl, {childList: true});\n",
       "}}\n",
       "\n",
       "                        })                };                });            </script>        </div>"
      ]
     },
     "metadata": {},
     "output_type": "display_data"
    },
    {
     "data": {
      "application/vnd.plotly.v1+json": {
       "config": {
        "plotlyServerURL": "https://plot.ly"
       },
       "data": [
        {
         "coloraxis": "coloraxis",
         "hovertemplate": "x: %{x}<br>y: %{y}<br>color: %{z}<extra></extra>",
         "name": "0",
         "texttemplate": "%{z}",
         "type": "heatmap",
         "xaxis": "x",
         "yaxis": "y",
         "z": [
          [
           7.702769756317139,
           0,
           0,
           0,
           0,
           0,
           0,
           0,
           0,
           0,
           0,
           0,
           0,
           0,
           0,
           0,
           0,
           0,
           0,
           0,
           0,
           0,
           0,
           0,
           0,
           0,
           0,
           0,
           0,
           0,
           0,
           0,
           0,
           0,
           0,
           0
          ],
          [
           -5.5471367835998535,
           -0.165806382894516,
           0,
           0,
           0,
           0,
           0,
           0,
           0,
           0,
           0,
           0,
           0,
           0,
           0,
           0,
           0,
           0,
           0,
           0,
           0,
           0,
           0,
           0,
           0,
           0,
           0,
           0,
           0,
           0,
           0,
           0,
           0,
           0,
           0,
           0
          ],
          [
           -3.570702314376831,
           1.8810577392578125,
           2.384645462036133,
           0,
           0,
           0,
           0,
           0,
           0,
           0,
           0,
           0,
           0,
           0,
           0,
           0,
           0,
           0,
           0,
           0,
           0,
           0,
           0,
           0,
           0,
           0,
           0,
           0,
           0,
           0,
           0,
           0,
           0,
           0,
           0,
           0
          ],
          [
           -3.7417783737182617,
           -1.5904181003570557,
           3.1034963130950928,
           3.4294631481170654,
           0,
           0,
           0,
           0,
           0,
           0,
           0,
           0,
           0,
           0,
           0,
           0,
           0,
           0,
           0,
           0,
           0,
           0,
           0,
           0,
           0,
           0,
           0,
           0,
           0,
           0,
           0,
           0,
           0,
           0,
           0,
           0
          ],
          [
           -3.949371814727783,
           -4.172783374786377,
           -2.9818711280822754,
           2.6926217079162598,
           2.902411699295044,
           0,
           0,
           0,
           0,
           0,
           0,
           0,
           0,
           0,
           0,
           0,
           0,
           0,
           0,
           0,
           0,
           0,
           0,
           0,
           0,
           0,
           0,
           0,
           0,
           0,
           0,
           0,
           0,
           0,
           0,
           0
          ],
          [
           -3.6426470279693604,
           -3.3052239418029785,
           -5.006563186645508,
           -2.1519224643707275,
           3.2738983631134033,
           3.477128267288208,
           0,
           0,
           0,
           0,
           0,
           0,
           0,
           0,
           0,
           0,
           0,
           0,
           0,
           0,
           0,
           0,
           0,
           0,
           0,
           0,
           0,
           0,
           0,
           0,
           0,
           0,
           0,
           0,
           0,
           0
          ],
          [
           -3.012242078781128,
           -3.8775904178619385,
           -4.151414394378662,
           -4.660399436950684,
           -1.8162624835968018,
           3.670945405960083,
           3.8216168880462646,
           0,
           0,
           0,
           0,
           0,
           0,
           0,
           0,
           0,
           0,
           0,
           0,
           0,
           0,
           0,
           0,
           0,
           0,
           0,
           0,
           0,
           0,
           0,
           0,
           0,
           0,
           0,
           0,
           0
          ],
          [
           -3.0336620807647705,
           -4.078404426574707,
           -4.70589542388916,
           -4.175229072570801,
           -4.628669261932373,
           -1.6631439924240112,
           3.7725343704223633,
           4.111443519592285,
           0,
           0,
           0,
           0,
           0,
           0,
           0,
           0,
           0,
           0,
           0,
           0,
           0,
           0,
           0,
           0,
           0,
           0,
           0,
           0,
           0,
           0,
           0,
           0,
           0,
           0,
           0,
           0
          ],
          [
           -3.5409865379333496,
           -3.3600962162017822,
           -4.8593902587890625,
           -4.919321060180664,
           -4.124786853790283,
           -4.687002658843994,
           -1.7227267026901245,
           4.054452419281006,
           4.335156440734863,
           0,
           0,
           0,
           0,
           0,
           0,
           0,
           0,
           0,
           0,
           0,
           0,
           0,
           0,
           0,
           0,
           0,
           0,
           0,
           0,
           0,
           0,
           0,
           0,
           0,
           0,
           0
          ],
          [
           -3.045949697494507,
           -4.735658168792725,
           -3.102471113204956,
           -5.10161018371582,
           -4.495036602020264,
           -3.3577194213867188,
           -4.387806415557861,
           -1.514492392539978,
           4.417343616485596,
           4.547436237335205,
           0,
           0,
           0,
           0,
           0,
           0,
           0,
           0,
           0,
           0,
           0,
           0,
           0,
           0,
           0,
           0,
           0,
           0,
           0,
           0,
           0,
           0,
           0,
           0,
           0,
           0
          ],
          [
           -3.010805606842041,
           -7.681983470916748,
           -4.519626140594482,
           -2.8681800365448,
           -4.695708751678467,
           -3.88014554977417,
           -3.4451045989990234,
           -4.096839427947998,
           -0.8848400712013245,
           4.865693092346191,
           4.989783763885498,
           0,
           0,
           0,
           0,
           0,
           0,
           0,
           0,
           0,
           0,
           0,
           0,
           0,
           0,
           0,
           0,
           0,
           0,
           0,
           0,
           0,
           0,
           0,
           0,
           0
          ],
          [
           -2.5796618461608887,
           -5.935328960418701,
           -8.056148529052734,
           -4.069392681121826,
           -2.660604238510132,
           -4.072523593902588,
           -3.7359867095947266,
           -2.9331021308898926,
           -3.3495078086853027,
           -0.448590487241745,
           5.361536979675293,
           5.731631755828857,
           0,
           0,
           0,
           0,
           0,
           0,
           0,
           0,
           0,
           0,
           0,
           0,
           0,
           0,
           0,
           0,
           0,
           0,
           0,
           0,
           0,
           0,
           0,
           0
          ],
          [
           -2.0732839107513428,
           -2.1237852573394775,
           -6.4731059074401855,
           -8.022299766540527,
           -4.020374298095703,
           -2.2836687564849854,
           -3.483786106109619,
           -2.9208858013153076,
           -2.2805380821228027,
           -2.760993003845215,
           0.1499904841184616,
           5.967005252838135,
           6.158139705657959,
           0,
           0,
           0,
           0,
           0,
           0,
           0,
           0,
           0,
           0,
           0,
           0,
           0,
           0,
           0,
           0,
           0,
           0,
           0,
           0,
           0,
           0,
           0
          ],
          [
           -1.9983948469161987,
           -2.6860344409942627,
           -2.2000362873077393,
           -6.786269187927246,
           -8.113274574279785,
           -4.0823564529418945,
           -2.0094761848449707,
           -3.071268320083618,
           -3.0551788806915283,
           -2.115633964538574,
           -2.453089475631714,
           0.7544177174568176,
           6.437750339508057,
           6.775461196899414,
           0,
           0,
           0,
           0,
           0,
           0,
           0,
           0,
           0,
           0,
           0,
           0,
           0,
           0,
           0,
           0,
           0,
           0,
           0,
           0,
           0,
           0
          ],
          [
           -2.6473846435546875,
           -4.9147796630859375,
           -2.683804750442505,
           -2.446613073348999,
           -6.817105770111084,
           -8.199352264404297,
           -4.414638519287109,
           -2.2798755168914795,
           -3.4644174575805664,
           -3.267833709716797,
           -1.8856579065322876,
           -1.9235869646072388,
           0.816819429397583,
           6.378644943237305,
           6.4699387550354,
           0,
           0,
           0,
           0,
           0,
           0,
           0,
           0,
           0,
           0,
           0,
           0,
           0,
           0,
           0,
           0,
           0,
           0,
           0,
           0,
           0
          ],
          [
           -2.420196056365967,
           -4.911328315734863,
           -5.3152971267700195,
           -2.821464776992798,
           -2.408722162246704,
           -6.488734245300293,
           -7.885091304779053,
           -4.427417755126953,
           -2.527817726135254,
           -4.096045017242432,
           -3.1703100204467773,
           -1.7276557683944702,
           -2.1479382514953613,
           0.662396252155304,
           6.00239896774292,
           6.37552547454834,
           0,
           0,
           0,
           0,
           0,
           0,
           0,
           0,
           0,
           0,
           0,
           0,
           0,
           0,
           0,
           0,
           0,
           0,
           0,
           0
          ],
          [
           -1.7492570877075195,
           -4.574190616607666,
           -5.0862321853637695,
           -5.33901309967041,
           -2.474193811416626,
           -1.7404319047927856,
           -5.786890029907227,
           -7.36126708984375,
           -4.028629302978516,
           -2.608503580093384,
           -3.629333257675171,
           -2.4462156295776367,
           -1.315016269683838,
           -2.085625410079956,
           0.7689052224159241,
           6.24220609664917,
           6.570300579071045,
           0,
           0,
           0,
           0,
           0,
           0,
           0,
           0,
           0,
           0,
           0,
           0,
           0,
           0,
           0,
           0,
           0,
           0,
           0
          ],
          [
           -1.5227521657943726,
           -4.938264846801758,
           -4.6735310554504395,
           -5.483493804931641,
           -6.0581159591674805,
           -3.0194005966186523,
           -2.0586202144622803,
           -5.68475341796875,
           -7.165866851806641,
           -4.306421279907227,
           -2.9633491039276123,
           -3.6334104537963867,
           -2.215043544769287,
           -1.2846075296401978,
           -1.9777717590332031,
           0.8813793659210205,
           6.23469352722168,
           6.561337947845459,
           0,
           0,
           0,
           0,
           0,
           0,
           0,
           0,
           0,
           0,
           0,
           0,
           0,
           0,
           0,
           0,
           0,
           0
          ],
          [
           -1.921273112297058,
           -3.8270444869995117,
           -4.9887871742248535,
           -4.473632335662842,
           -6.0391693115234375,
           -6.744627475738525,
           -3.4595751762390137,
           -2.0326883792877197,
           -5.120089530944824,
           -6.727619647979736,
           -4.004026412963867,
           -3.2050154209136963,
           -3.9995148181915283,
           -2.351625442504883,
           -1.160938024520874,
           -1.8585642576217651,
           0.9122641682624817,
           6.316309452056885,
           6.835067272186279,
           0,
           0,
           0,
           0,
           0,
           0,
           0,
           0,
           0,
           0,
           0,
           0,
           0,
           0,
           0,
           0,
           0
          ],
          [
           -2.088371515274048,
           -3.2849156856536865,
           -4.33182430267334,
           -5.045891761779785,
           -4.802139759063721,
           -7.087071418762207,
           -7.893683433532715,
           -4.163844585418701,
           -1.9358359575271606,
           -5.2639899253845215,
           -6.613824367523193,
           -4.481320858001709,
           -4.545459270477295,
           -5.041041851043701,
           -2.4218504428863525,
           -1.377539873123169,
           -2.425238847732544,
           0.7035826444625854,
           6.30148983001709,
           6.796761512756348,
           0,
           0,
           0,
           0,
           0,
           0,
           0,
           0,
           0,
           0,
           0,
           0,
           0,
           0,
           0,
           0
          ],
          [
           -1.5755119323730469,
           -5.168328762054443,
           -3.345836639404297,
           -4.421308517456055,
           -4.4566545486450195,
           -4.0640411376953125,
           -7.407763481140137,
           -8.66869068145752,
           -4.022932052612305,
           -1.6628708839416504,
           -4.612517356872559,
           -5.625683307647705,
           -4.408156871795654,
           -5.28679895401001,
           -5.129460334777832,
           -2.025136947631836,
           -1.1378706693649292,
           -2.34686541557312,
           0.8757154941558838,
           6.4750142097473145,
           6.972656726837158,
           0,
           0,
           0,
           0,
           0,
           0,
           0,
           0,
           0,
           0,
           0,
           0,
           0,
           0,
           0
          ],
          [
           -1.4952938556671143,
           -6.149138927459717,
           -5.250258922576904,
           -3.5578978061676025,
           -4.516299247741699,
           -3.587930202484131,
           -3.9065840244293213,
           -7.765610218048096,
           -8.76346492767334,
           -4.2459797859191895,
           -1.5468741655349731,
           -3.5386996269226074,
           -4.8017706871032715,
           -4.47231388092041,
           -5.513565540313721,
           -4.959998607635498,
           -1.6502305269241333,
           -0.8423639535903931,
           -1.7962820529937744,
           0.911538302898407,
           6.7424397468566895,
           7.081671237945557,
           0,
           0,
           0,
           0,
           0,
           0,
           0,
           0,
           0,
           0,
           0,
           0,
           0,
           0
          ],
          [
           -1.352350115776062,
           -3.5994181632995605,
           -6.722323894500732,
           -5.438387870788574,
           -4.2855448722839355,
           -4.749404430389404,
           -3.7857577800750732,
           -3.9643802642822266,
           -7.678286075592041,
           -9.020169258117676,
           -4.416538238525391,
           -1.1991591453552246,
           -3.145386219024658,
           -4.430912017822266,
           -4.319786071777344,
           -5.40885066986084,
           -4.757721900939941,
           -1.52665376663208,
           -0.3848609924316406,
           -1.6575208902359009,
           1.3165315389633179,
           6.923459053039551,
           7.299638748168945,
           0,
           0,
           0,
           0,
           0,
           0,
           0,
           0,
           0,
           0,
           0,
           0,
           0
          ],
          [
           -1.4777543544769287,
           -2.600802183151245,
           -3.890327215194702,
           -7.1890339851379395,
           -6.205901622772217,
           -5.14699125289917,
           -5.421322345733643,
           -4.114406585693359,
           -3.925015926361084,
           -7.645073413848877,
           -9.12833023071289,
           -4.302972316741943,
           -1.0991636514663696,
           -2.7592062950134277,
           -4.246688365936279,
           -4.402280807495117,
           -5.684108734130859,
           -5.023179054260254,
           -1.753660798072815,
           -0.7074040770530701,
           -1.664662480354309,
           1.174927830696106,
           7.042794704437256,
           7.358887195587158,
           0,
           0,
           0,
           0,
           0,
           0,
           0,
           0,
           0,
           0,
           0,
           0
          ],
          [
           -1.3913778066635132,
           -6.271763324737549,
           -2.1418302059173584,
           -3.6808242797851562,
           -6.974018096923828,
           -6.37695837020874,
           -5.819190502166748,
           -6.165122985839844,
           -4.633858680725098,
           -3.8324928283691406,
           -7.1628193855285645,
           -8.495800971984863,
           -4.2101287841796875,
           -0.7026614546775818,
           -2.350377082824707,
           -3.88448166847229,
           -4.5706071853637695,
           -5.611573696136475,
           -5.074549198150635,
           -2.0210952758789062,
           -0.678267240524292,
           -1.5916978120803833,
           1.3272053003311157,
           7.148031234741211,
           7.392663955688477,
           0,
           0,
           0,
           0,
           0,
           0,
           0,
           0,
           0,
           0,
           0
          ],
          [
           -1.6303658485412598,
           -8.320259094238281,
           -6.584831714630127,
           -1.9778913259506226,
           -3.249359130859375,
           -6.437662601470947,
           -6.644814968109131,
           -6.292064666748047,
           -6.884451866149902,
           -5.376277923583984,
           -3.45971417427063,
           -6.034661293029785,
           -8.082764625549316,
           -4.0859856605529785,
           -0.7299908399581909,
           -2.2966432571411133,
           -4.466679573059082,
           -4.859340667724609,
           -5.4445061683654785,
           -4.942043304443359,
           -2.0814297199249268,
           -0.5751868486404419,
           -1.229880928993225,
           1.2249088287353516,
           7.157719135284424,
           7.479585647583008,
           0,
           0,
           0,
           0,
           0,
           0,
           0,
           0,
           0,
           0
          ],
          [
           -0.9063038229942322,
           -5.425599098205566,
           -8.537111282348633,
           -6.4077606201171875,
           -1.9306347370147705,
           -2.719365119934082,
           -6.116245746612549,
           -6.569221496582031,
           -6.6429595947265625,
           -7.708136558532715,
           -5.841424465179443,
           -3.391763210296631,
           -5.678903102874756,
           -7.640058994293213,
           -3.859555959701538,
           -0.5767592191696167,
           -2.1727993488311768,
           -4.647022724151611,
           -4.890693187713623,
           -5.076248645782471,
           -4.512208938598633,
           -2.0640201568603516,
           -0.3857387900352478,
           -1.0435148477554321,
           1.5618895292282104,
           7.5502028465271,
           7.723743915557861,
           0,
           0,
           0,
           0,
           0,
           0,
           0,
           0,
           0
          ],
          [
           -0.41239866614341736,
           -4.168478488922119,
           -5.165457725524902,
           -8.248065948486328,
           -6.608192443847656,
           -2.1897642612457275,
           -2.294903039932251,
           -5.663608074188232,
           -7.39011812210083,
           -7.6556782722473145,
           -8.412904739379883,
           -6.452266693115234,
           -3.7513461112976074,
           -5.404059886932373,
           -7.3468780517578125,
           -4.036363124847412,
           -0.3234347701072693,
           -1.8032782077789307,
           -4.975009441375732,
           -5.766890525817871,
           -4.736897945404053,
           -3.5360465049743652,
           -1.7653321027755737,
           -0.6450169682502747,
           -1.0355041027069092,
           2.0081920623779297,
           7.814575672149658,
           8.230033874511719,
           0,
           0,
           0,
           0,
           0,
           0,
           0,
           0
          ],
          [
           -0.9176567792892456,
           -4.526398658752441,
           -3.3446528911590576,
           -4.439979076385498,
           -7.643910884857178,
           -6.987748146057129,
           -2.588026285171509,
           -1.9737478494644165,
           -5.981000900268555,
           -8.263519287109375,
           -8.287981033325195,
           -8.869796752929688,
           -7.240630626678467,
           -4.084035873413086,
           -4.934517860412598,
           -6.884128570556641,
           -4.243001461029053,
           -0.21584711968898773,
           -1.7149488925933838,
           -5.6017022132873535,
           -6.105950355529785,
           -3.6700942516326904,
           -2.7476208209991455,
           -1.8642410039901733,
           -0.6835716366767883,
           -0.46486398577690125,
           2.040024757385254,
           7.831657886505127,
           8.095121383666992,
           0,
           0,
           0,
           0,
           0,
           0,
           0
          ],
          [
           -1.3866236209869385,
           -4.1571197509765625,
           -3.5859644412994385,
           -2.923903703689575,
           -3.6913528442382812,
           -7.1070756912231445,
           -7.0107574462890625,
           -2.554537057876587,
           -1.631516695022583,
           -6.328377723693848,
           -8.927735328674316,
           -9.096108436584473,
           -9.79535961151123,
           -8.123279571533203,
           -4.486550807952881,
           -4.8030314445495605,
           -7.14037561416626,
           -4.3576226234436035,
           -0.22483614087104797,
           -1.5155378580093384,
           -6.159043312072754,
           -6.231806755065918,
           -3.368354320526123,
           -2.3655967712402344,
           -1.8440368175506592,
           -0.6852083802223206,
           -0.5604840517044067,
           2.134141206741333,
           7.952884674072266,
           8.35622787475586,
           0,
           0,
           0,
           0,
           0,
           0
          ],
          [
           -1.327935814857483,
           -6.173649787902832,
           -3.8207366466522217,
           -3.794001817703247,
           -3.1165339946746826,
           -3.251157283782959,
           -6.8061909675598145,
           -7.4329752922058105,
           -3.0134994983673096,
           -2.077268600463867,
           -6.7662577629089355,
           -9.840493202209473,
           -10.132658004760742,
           -10.760766983032227,
           -9.091774940490723,
           -5.392458915710449,
           -5.192259311676025,
           -7.214831829071045,
           -5.063021659851074,
           -0.9557019472122192,
           -2.1679699420928955,
           -6.950695991516113,
           -7.1563239097595215,
           -3.763997793197632,
           -2.6848902702331543,
           -2.6847729682922363,
           -1.3088945150375366,
           -1.0029507875442505,
           1.5682692527770996,
           7.434745788574219,
           7.713280200958252,
           0,
           0,
           0,
           0,
           0
          ],
          [
           -1.0857653617858887,
           -6.8654985427856445,
           -6.120975494384766,
           -3.15045166015625,
           -3.0357184410095215,
           -2.5148069858551025,
           -2.85803484916687,
           -5.839744567871094,
           -6.780377388000488,
           -3.2143287658691406,
           -1.669966697692871,
           -5.912058353424072,
           -9.873457908630371,
           -10.386747360229492,
           -10.056801795959473,
           -8.654826164245605,
           -5.334674835205078,
           -4.464806079864502,
           -6.031888484954834,
           -4.857950687408447,
           -0.9172589778900146,
           -1.639065146446228,
           -6.6760687828063965,
           -7.521021842956543,
           -3.654865264892578,
           -2.1365609169006348,
           -2.6536107063293457,
           -1.387322187423706,
           -0.7821336388587952,
           1.8454618453979492,
           7.536063194274902,
           8.019227981567383,
           0,
           0,
           0,
           0
          ],
          [
           -0.9596465826034546,
           -3.504925012588501,
           -7.809261798858643,
           -6.742518901824951,
           -3.518695831298828,
           -3.287860870361328,
           -2.98685622215271,
           -2.429718255996704,
           -4.959362506866455,
           -7.002291679382324,
           -3.798581600189209,
           -1.660588264465332,
           -6.168486595153809,
           -10.643354415893555,
           -10.425254821777344,
           -9.845183372497559,
           -8.646151542663574,
           -5.433481216430664,
           -3.916191816329956,
           -5.676665306091309,
           -4.88146448135376,
           -0.948291540145874,
           -1.5696794986724854,
           -7.081986904144287,
           -7.928427696228027,
           -3.0591413974761963,
           -1.978851556777954,
           -2.503239631652832,
           -1.2643306255340576,
           -0.6943653225898743,
           1.6382461786270142,
           7.787195682525635,
           8.108210563659668,
           0,
           0,
           0
          ],
          [
           -0.8327001333236694,
           -2.3481318950653076,
           -3.486639976501465,
           -8.371481895446777,
           -7.580301761627197,
           -4.1353535652160645,
           -3.5861406326293945,
           -3.326500177383423,
           -2.4658474922180176,
           -4.276257514953613,
           -6.684739112854004,
           -3.8970370292663574,
           -1.7105475664138794,
           -5.967161655426025,
           -10.53712272644043,
           -10.341957092285156,
           -9.051511764526367,
           -7.965881824493408,
           -5.742389678955078,
           -4.277658939361572,
           -5.071995258331299,
           -4.458647727966309,
           -1.285111665725708,
           -1.8992602825164795,
           -7.329746246337891,
           -7.729715824127197,
           -2.9710304737091064,
           -1.792098879814148,
           -2.8079631328582764,
           -1.5593007802963257,
           -0.7211541533470154,
           1.8125863075256348,
           7.789389133453369,
           7.919820308685303,
           0,
           0
          ],
          [
           -1.232092261314392,
           -5.182570934295654,
           -1.866003155708313,
           -3.4799182415008545,
           -8.177430152893066,
           -7.8909831047058105,
           -4.688221454620361,
           -3.9065163135528564,
           -3.8052070140838623,
           -2.4664130210876465,
           -3.6398398876190186,
           -5.819320201873779,
           -4.054318904876709,
           -1.8882523775100708,
           -5.883896350860596,
           -10.445245742797852,
           -10.433775901794434,
           -8.237277030944824,
           -7.506515026092529,
           -6.020083427429199,
           -4.16597318649292,
           -4.114677429199219,
           -3.7875373363494873,
           -1.3139524459838867,
           -1.8390381336212158,
           -6.719803810119629,
           -7.14119291305542,
           -2.888193368911743,
           -1.847246527671814,
           -2.8517203330993652,
           -1.308051586151123,
           -0.5015108585357666,
           1.9778754711151123,
           7.789950847625732,
           7.9655985832214355,
           0
          ],
          [
           -1.5052275657653809,
           -5.714950084686279,
           -5.569680213928223,
           -2.2703161239624023,
           -3.291097402572632,
           -8.024130821228027,
           -8.33957576751709,
           -5.044900417327881,
           -4.241018295288086,
           -4.536025524139404,
           -2.5082898139953613,
           -2.9762773513793945,
           -6.005267143249512,
           -4.534100532531738,
           -2.354604721069336,
           -6.080501079559326,
           -11.108064651489258,
           -10.323613166809082,
           -7.6906609535217285,
           -7.027802467346191,
           -6.263378620147705,
           -4.292939186096191,
           -3.6471943855285645,
           -3.74776291847229,
           -1.2743074893951416,
           -1.4687261581420898,
           -6.272612571716309,
           -7.047544479370117,
           -2.5013248920440674,
           -1.9638164043426514,
           -3.09932279586792,
           -1.1258375644683838,
           -0.5405740141868591,
           1.7714930772781372,
           7.712338447570801,
           7.950870037078857
          ]
         ]
        }
       ],
       "layout": {
        "autosize": true,
        "coloraxis": {
         "colorscale": [
          [
           0,
           "#0d0887"
          ],
          [
           0.1111111111111111,
           "#46039f"
          ],
          [
           0.2222222222222222,
           "#7201a8"
          ],
          [
           0.3333333333333333,
           "#9c179e"
          ],
          [
           0.4444444444444444,
           "#bd3786"
          ],
          [
           0.5555555555555556,
           "#d8576b"
          ],
          [
           0.6666666666666666,
           "#ed7953"
          ],
          [
           0.7777777777777778,
           "#fb9f3a"
          ],
          [
           0.8888888888888888,
           "#fdca26"
          ],
          [
           1,
           "#f0f921"
          ]
         ]
        },
        "margin": {
         "t": 60
        },
        "template": {
         "data": {
          "bar": [
           {
            "error_x": {
             "color": "#2a3f5f"
            },
            "error_y": {
             "color": "#2a3f5f"
            },
            "marker": {
             "line": {
              "color": "#E5ECF6",
              "width": 0.5
             },
             "pattern": {
              "fillmode": "overlay",
              "size": 10,
              "solidity": 0.2
             }
            },
            "type": "bar"
           }
          ],
          "barpolar": [
           {
            "marker": {
             "line": {
              "color": "#E5ECF6",
              "width": 0.5
             },
             "pattern": {
              "fillmode": "overlay",
              "size": 10,
              "solidity": 0.2
             }
            },
            "type": "barpolar"
           }
          ],
          "carpet": [
           {
            "aaxis": {
             "endlinecolor": "#2a3f5f",
             "gridcolor": "white",
             "linecolor": "white",
             "minorgridcolor": "white",
             "startlinecolor": "#2a3f5f"
            },
            "baxis": {
             "endlinecolor": "#2a3f5f",
             "gridcolor": "white",
             "linecolor": "white",
             "minorgridcolor": "white",
             "startlinecolor": "#2a3f5f"
            },
            "type": "carpet"
           }
          ],
          "choropleth": [
           {
            "colorbar": {
             "outlinewidth": 0,
             "ticks": ""
            },
            "type": "choropleth"
           }
          ],
          "contour": [
           {
            "colorbar": {
             "outlinewidth": 0,
             "ticks": ""
            },
            "colorscale": [
             [
              0,
              "#0d0887"
             ],
             [
              0.1111111111111111,
              "#46039f"
             ],
             [
              0.2222222222222222,
              "#7201a8"
             ],
             [
              0.3333333333333333,
              "#9c179e"
             ],
             [
              0.4444444444444444,
              "#bd3786"
             ],
             [
              0.5555555555555556,
              "#d8576b"
             ],
             [
              0.6666666666666666,
              "#ed7953"
             ],
             [
              0.7777777777777778,
              "#fb9f3a"
             ],
             [
              0.8888888888888888,
              "#fdca26"
             ],
             [
              1,
              "#f0f921"
             ]
            ],
            "type": "contour"
           }
          ],
          "contourcarpet": [
           {
            "colorbar": {
             "outlinewidth": 0,
             "ticks": ""
            },
            "type": "contourcarpet"
           }
          ],
          "heatmap": [
           {
            "colorbar": {
             "outlinewidth": 0,
             "ticks": ""
            },
            "colorscale": [
             [
              0,
              "#0d0887"
             ],
             [
              0.1111111111111111,
              "#46039f"
             ],
             [
              0.2222222222222222,
              "#7201a8"
             ],
             [
              0.3333333333333333,
              "#9c179e"
             ],
             [
              0.4444444444444444,
              "#bd3786"
             ],
             [
              0.5555555555555556,
              "#d8576b"
             ],
             [
              0.6666666666666666,
              "#ed7953"
             ],
             [
              0.7777777777777778,
              "#fb9f3a"
             ],
             [
              0.8888888888888888,
              "#fdca26"
             ],
             [
              1,
              "#f0f921"
             ]
            ],
            "type": "heatmap"
           }
          ],
          "heatmapgl": [
           {
            "colorbar": {
             "outlinewidth": 0,
             "ticks": ""
            },
            "colorscale": [
             [
              0,
              "#0d0887"
             ],
             [
              0.1111111111111111,
              "#46039f"
             ],
             [
              0.2222222222222222,
              "#7201a8"
             ],
             [
              0.3333333333333333,
              "#9c179e"
             ],
             [
              0.4444444444444444,
              "#bd3786"
             ],
             [
              0.5555555555555556,
              "#d8576b"
             ],
             [
              0.6666666666666666,
              "#ed7953"
             ],
             [
              0.7777777777777778,
              "#fb9f3a"
             ],
             [
              0.8888888888888888,
              "#fdca26"
             ],
             [
              1,
              "#f0f921"
             ]
            ],
            "type": "heatmapgl"
           }
          ],
          "histogram": [
           {
            "marker": {
             "pattern": {
              "fillmode": "overlay",
              "size": 10,
              "solidity": 0.2
             }
            },
            "type": "histogram"
           }
          ],
          "histogram2d": [
           {
            "colorbar": {
             "outlinewidth": 0,
             "ticks": ""
            },
            "colorscale": [
             [
              0,
              "#0d0887"
             ],
             [
              0.1111111111111111,
              "#46039f"
             ],
             [
              0.2222222222222222,
              "#7201a8"
             ],
             [
              0.3333333333333333,
              "#9c179e"
             ],
             [
              0.4444444444444444,
              "#bd3786"
             ],
             [
              0.5555555555555556,
              "#d8576b"
             ],
             [
              0.6666666666666666,
              "#ed7953"
             ],
             [
              0.7777777777777778,
              "#fb9f3a"
             ],
             [
              0.8888888888888888,
              "#fdca26"
             ],
             [
              1,
              "#f0f921"
             ]
            ],
            "type": "histogram2d"
           }
          ],
          "histogram2dcontour": [
           {
            "colorbar": {
             "outlinewidth": 0,
             "ticks": ""
            },
            "colorscale": [
             [
              0,
              "#0d0887"
             ],
             [
              0.1111111111111111,
              "#46039f"
             ],
             [
              0.2222222222222222,
              "#7201a8"
             ],
             [
              0.3333333333333333,
              "#9c179e"
             ],
             [
              0.4444444444444444,
              "#bd3786"
             ],
             [
              0.5555555555555556,
              "#d8576b"
             ],
             [
              0.6666666666666666,
              "#ed7953"
             ],
             [
              0.7777777777777778,
              "#fb9f3a"
             ],
             [
              0.8888888888888888,
              "#fdca26"
             ],
             [
              1,
              "#f0f921"
             ]
            ],
            "type": "histogram2dcontour"
           }
          ],
          "mesh3d": [
           {
            "colorbar": {
             "outlinewidth": 0,
             "ticks": ""
            },
            "type": "mesh3d"
           }
          ],
          "parcoords": [
           {
            "line": {
             "colorbar": {
              "outlinewidth": 0,
              "ticks": ""
             }
            },
            "type": "parcoords"
           }
          ],
          "pie": [
           {
            "automargin": true,
            "type": "pie"
           }
          ],
          "scatter": [
           {
            "marker": {
             "colorbar": {
              "outlinewidth": 0,
              "ticks": ""
             }
            },
            "type": "scatter"
           }
          ],
          "scatter3d": [
           {
            "line": {
             "colorbar": {
              "outlinewidth": 0,
              "ticks": ""
             }
            },
            "marker": {
             "colorbar": {
              "outlinewidth": 0,
              "ticks": ""
             }
            },
            "type": "scatter3d"
           }
          ],
          "scattercarpet": [
           {
            "marker": {
             "colorbar": {
              "outlinewidth": 0,
              "ticks": ""
             }
            },
            "type": "scattercarpet"
           }
          ],
          "scattergeo": [
           {
            "marker": {
             "colorbar": {
              "outlinewidth": 0,
              "ticks": ""
             }
            },
            "type": "scattergeo"
           }
          ],
          "scattergl": [
           {
            "marker": {
             "colorbar": {
              "outlinewidth": 0,
              "ticks": ""
             }
            },
            "type": "scattergl"
           }
          ],
          "scattermapbox": [
           {
            "marker": {
             "colorbar": {
              "outlinewidth": 0,
              "ticks": ""
             }
            },
            "type": "scattermapbox"
           }
          ],
          "scatterpolar": [
           {
            "marker": {
             "colorbar": {
              "outlinewidth": 0,
              "ticks": ""
             }
            },
            "type": "scatterpolar"
           }
          ],
          "scatterpolargl": [
           {
            "marker": {
             "colorbar": {
              "outlinewidth": 0,
              "ticks": ""
             }
            },
            "type": "scatterpolargl"
           }
          ],
          "scatterternary": [
           {
            "marker": {
             "colorbar": {
              "outlinewidth": 0,
              "ticks": ""
             }
            },
            "type": "scatterternary"
           }
          ],
          "surface": [
           {
            "colorbar": {
             "outlinewidth": 0,
             "ticks": ""
            },
            "colorscale": [
             [
              0,
              "#0d0887"
             ],
             [
              0.1111111111111111,
              "#46039f"
             ],
             [
              0.2222222222222222,
              "#7201a8"
             ],
             [
              0.3333333333333333,
              "#9c179e"
             ],
             [
              0.4444444444444444,
              "#bd3786"
             ],
             [
              0.5555555555555556,
              "#d8576b"
             ],
             [
              0.6666666666666666,
              "#ed7953"
             ],
             [
              0.7777777777777778,
              "#fb9f3a"
             ],
             [
              0.8888888888888888,
              "#fdca26"
             ],
             [
              1,
              "#f0f921"
             ]
            ],
            "type": "surface"
           }
          ],
          "table": [
           {
            "cells": {
             "fill": {
              "color": "#EBF0F8"
             },
             "line": {
              "color": "white"
             }
            },
            "header": {
             "fill": {
              "color": "#C8D4E3"
             },
             "line": {
              "color": "white"
             }
            },
            "type": "table"
           }
          ]
         },
         "layout": {
          "annotationdefaults": {
           "arrowcolor": "#2a3f5f",
           "arrowhead": 0,
           "arrowwidth": 1
          },
          "autotypenumbers": "strict",
          "coloraxis": {
           "colorbar": {
            "outlinewidth": 0,
            "ticks": ""
           }
          },
          "colorscale": {
           "diverging": [
            [
             0,
             "#8e0152"
            ],
            [
             0.1,
             "#c51b7d"
            ],
            [
             0.2,
             "#de77ae"
            ],
            [
             0.3,
             "#f1b6da"
            ],
            [
             0.4,
             "#fde0ef"
            ],
            [
             0.5,
             "#f7f7f7"
            ],
            [
             0.6,
             "#e6f5d0"
            ],
            [
             0.7,
             "#b8e186"
            ],
            [
             0.8,
             "#7fbc41"
            ],
            [
             0.9,
             "#4d9221"
            ],
            [
             1,
             "#276419"
            ]
           ],
           "sequential": [
            [
             0,
             "#0d0887"
            ],
            [
             0.1111111111111111,
             "#46039f"
            ],
            [
             0.2222222222222222,
             "#7201a8"
            ],
            [
             0.3333333333333333,
             "#9c179e"
            ],
            [
             0.4444444444444444,
             "#bd3786"
            ],
            [
             0.5555555555555556,
             "#d8576b"
            ],
            [
             0.6666666666666666,
             "#ed7953"
            ],
            [
             0.7777777777777778,
             "#fb9f3a"
            ],
            [
             0.8888888888888888,
             "#fdca26"
            ],
            [
             1,
             "#f0f921"
            ]
           ],
           "sequentialminus": [
            [
             0,
             "#0d0887"
            ],
            [
             0.1111111111111111,
             "#46039f"
            ],
            [
             0.2222222222222222,
             "#7201a8"
            ],
            [
             0.3333333333333333,
             "#9c179e"
            ],
            [
             0.4444444444444444,
             "#bd3786"
            ],
            [
             0.5555555555555556,
             "#d8576b"
            ],
            [
             0.6666666666666666,
             "#ed7953"
            ],
            [
             0.7777777777777778,
             "#fb9f3a"
            ],
            [
             0.8888888888888888,
             "#fdca26"
            ],
            [
             1,
             "#f0f921"
            ]
           ]
          },
          "colorway": [
           "#636efa",
           "#EF553B",
           "#00cc96",
           "#ab63fa",
           "#FFA15A",
           "#19d3f3",
           "#FF6692",
           "#B6E880",
           "#FF97FF",
           "#FECB52"
          ],
          "font": {
           "color": "#2a3f5f"
          },
          "geo": {
           "bgcolor": "white",
           "lakecolor": "white",
           "landcolor": "#E5ECF6",
           "showlakes": true,
           "showland": true,
           "subunitcolor": "white"
          },
          "hoverlabel": {
           "align": "left"
          },
          "hovermode": "closest",
          "mapbox": {
           "style": "light"
          },
          "paper_bgcolor": "white",
          "plot_bgcolor": "#E5ECF6",
          "polar": {
           "angularaxis": {
            "gridcolor": "white",
            "linecolor": "white",
            "ticks": ""
           },
           "bgcolor": "#E5ECF6",
           "radialaxis": {
            "gridcolor": "white",
            "linecolor": "white",
            "ticks": ""
           }
          },
          "scene": {
           "xaxis": {
            "backgroundcolor": "#E5ECF6",
            "gridcolor": "white",
            "gridwidth": 2,
            "linecolor": "white",
            "showbackground": true,
            "ticks": "",
            "zerolinecolor": "white"
           },
           "yaxis": {
            "backgroundcolor": "#E5ECF6",
            "gridcolor": "white",
            "gridwidth": 2,
            "linecolor": "white",
            "showbackground": true,
            "ticks": "",
            "zerolinecolor": "white"
           },
           "zaxis": {
            "backgroundcolor": "#E5ECF6",
            "gridcolor": "white",
            "gridwidth": 2,
            "linecolor": "white",
            "showbackground": true,
            "ticks": "",
            "zerolinecolor": "white"
           }
          },
          "shapedefaults": {
           "line": {
            "color": "#2a3f5f"
           }
          },
          "ternary": {
           "aaxis": {
            "gridcolor": "white",
            "linecolor": "white",
            "ticks": ""
           },
           "baxis": {
            "gridcolor": "white",
            "linecolor": "white",
            "ticks": ""
           },
           "bgcolor": "#E5ECF6",
           "caxis": {
            "gridcolor": "white",
            "linecolor": "white",
            "ticks": ""
           }
          },
          "title": {
           "x": 0.05
          },
          "xaxis": {
           "automargin": true,
           "gridcolor": "white",
           "linecolor": "white",
           "ticks": "",
           "title": {
            "standoff": 15
           },
           "zerolinecolor": "white",
           "zerolinewidth": 2
          },
          "yaxis": {
           "automargin": true,
           "gridcolor": "white",
           "linecolor": "white",
           "ticks": "",
           "title": {
            "standoff": 15
           },
           "zerolinecolor": "white",
           "zerolinewidth": 2
          }
         }
        },
        "xaxis": {
         "anchor": "y",
         "autorange": true,
         "constrain": "domain",
         "domain": [
          0.4028268551236749,
          0.5971731448763251
         ],
         "range": [
          -0.5,
          35.5
         ],
         "scaleanchor": "y"
        },
        "yaxis": {
         "anchor": "x",
         "autorange": true,
         "constrain": "domain",
         "domain": [
          0,
          1
         ],
         "range": [
          35.5,
          -0.5
         ]
        }
       }
      },
      "image/png": "[encoded data removed]",
      "text/html": [
       "<div>                            <div id=\"054add2a-86bb-4ce9-ae4f-a9cc341bbd08\" class=\"plotly-graph-div\" style=\"height:525px; width:100%;\"></div>            <script type=\"text/javascript\">                require([\"plotly\"], function(Plotly) {                    window.PLOTLYENV=window.PLOTLYENV || {};                                    if (document.getElementById(\"054add2a-86bb-4ce9-ae4f-a9cc341bbd08\")) {                    Plotly.newPlot(                        \"054add2a-86bb-4ce9-ae4f-a9cc341bbd08\",                        [{\"coloraxis\":\"coloraxis\",\"name\":\"0\",\"texttemplate\":\"%{z}\",\"z\":[[7.702769756317139,0.0,0.0,0.0,0.0,0.0,0.0,0.0,0.0,0.0,0.0,0.0,0.0,0.0,0.0,0.0,0.0,0.0,0.0,0.0,0.0,0.0,0.0,0.0,0.0,0.0,0.0,0.0,0.0,0.0,0.0,0.0,0.0,0.0,0.0,0.0],[-5.5471367835998535,-0.165806382894516,0.0,0.0,0.0,0.0,0.0,0.0,0.0,0.0,0.0,0.0,0.0,0.0,0.0,0.0,0.0,0.0,0.0,0.0,0.0,0.0,0.0,0.0,0.0,0.0,0.0,0.0,0.0,0.0,0.0,0.0,0.0,0.0,0.0,0.0],[-3.570702314376831,1.8810577392578125,2.384645462036133,0.0,0.0,0.0,0.0,0.0,0.0,0.0,0.0,0.0,0.0,0.0,0.0,0.0,0.0,0.0,0.0,0.0,0.0,0.0,0.0,0.0,0.0,0.0,0.0,0.0,0.0,0.0,0.0,0.0,0.0,0.0,0.0,0.0],[-3.7417783737182617,-1.5904181003570557,3.1034963130950928,3.4294631481170654,0.0,0.0,0.0,0.0,0.0,0.0,0.0,0.0,0.0,0.0,0.0,0.0,0.0,0.0,0.0,0.0,0.0,0.0,0.0,0.0,0.0,0.0,0.0,0.0,0.0,0.0,0.0,0.0,0.0,0.0,0.0,0.0],[-3.949371814727783,-4.172783374786377,-2.9818711280822754,2.6926217079162598,2.902411699295044,0.0,0.0,0.0,0.0,0.0,0.0,0.0,0.0,0.0,0.0,0.0,0.0,0.0,0.0,0.0,0.0,0.0,0.0,0.0,0.0,0.0,0.0,0.0,0.0,0.0,0.0,0.0,0.0,0.0,0.0,0.0],[-3.6426470279693604,-3.3052239418029785,-5.006563186645508,-2.1519224643707275,3.2738983631134033,3.477128267288208,0.0,0.0,0.0,0.0,0.0,0.0,0.0,0.0,0.0,0.0,0.0,0.0,0.0,0.0,0.0,0.0,0.0,0.0,0.0,0.0,0.0,0.0,0.0,0.0,0.0,0.0,0.0,0.0,0.0,0.0],[-3.012242078781128,-3.8775904178619385,-4.151414394378662,-4.660399436950684,-1.8162624835968018,3.670945405960083,3.8216168880462646,0.0,0.0,0.0,0.0,0.0,0.0,0.0,0.0,0.0,0.0,0.0,0.0,0.0,0.0,0.0,0.0,0.0,0.0,0.0,0.0,0.0,0.0,0.0,0.0,0.0,0.0,0.0,0.0,0.0],[-3.0336620807647705,-4.078404426574707,-4.70589542388916,-4.175229072570801,-4.628669261932373,-1.6631439924240112,3.7725343704223633,4.111443519592285,0.0,0.0,0.0,0.0,0.0,0.0,0.0,0.0,0.0,0.0,0.0,0.0,0.0,0.0,0.0,0.0,0.0,0.0,0.0,0.0,0.0,0.0,0.0,0.0,0.0,0.0,0.0,0.0],[-3.5409865379333496,-3.3600962162017822,-4.8593902587890625,-4.919321060180664,-4.124786853790283,-4.687002658843994,-1.7227267026901245,4.054452419281006,4.335156440734863,0.0,0.0,0.0,0.0,0.0,0.0,0.0,0.0,0.0,0.0,0.0,0.0,0.0,0.0,0.0,0.0,0.0,0.0,0.0,0.0,0.0,0.0,0.0,0.0,0.0,0.0,0.0],[-3.045949697494507,-4.735658168792725,-3.102471113204956,-5.10161018371582,-4.495036602020264,-3.3577194213867188,-4.387806415557861,-1.514492392539978,4.417343616485596,4.547436237335205,0.0,0.0,0.0,0.0,0.0,0.0,0.0,0.0,0.0,0.0,0.0,0.0,0.0,0.0,0.0,0.0,0.0,0.0,0.0,0.0,0.0,0.0,0.0,0.0,0.0,0.0],[-3.010805606842041,-7.681983470916748,-4.519626140594482,-2.8681800365448,-4.695708751678467,-3.88014554977417,-3.4451045989990234,-4.096839427947998,-0.8848400712013245,4.865693092346191,4.989783763885498,0.0,0.0,0.0,0.0,0.0,0.0,0.0,0.0,0.0,0.0,0.0,0.0,0.0,0.0,0.0,0.0,0.0,0.0,0.0,0.0,0.0,0.0,0.0,0.0,0.0],[-2.5796618461608887,-5.935328960418701,-8.056148529052734,-4.069392681121826,-2.660604238510132,-4.072523593902588,-3.7359867095947266,-2.9331021308898926,-3.3495078086853027,-0.448590487241745,5.361536979675293,5.731631755828857,0.0,0.0,0.0,0.0,0.0,0.0,0.0,0.0,0.0,0.0,0.0,0.0,0.0,0.0,0.0,0.0,0.0,0.0,0.0,0.0,0.0,0.0,0.0,0.0],[-2.0732839107513428,-2.1237852573394775,-6.4731059074401855,-8.022299766540527,-4.020374298095703,-2.2836687564849854,-3.483786106109619,-2.9208858013153076,-2.2805380821228027,-2.760993003845215,0.1499904841184616,5.967005252838135,6.158139705657959,0.0,0.0,0.0,0.0,0.0,0.0,0.0,0.0,0.0,0.0,0.0,0.0,0.0,0.0,0.0,0.0,0.0,0.0,0.0,0.0,0.0,0.0,0.0],[-1.9983948469161987,-2.6860344409942627,-2.2000362873077393,-6.786269187927246,-8.113274574279785,-4.0823564529418945,-2.0094761848449707,-3.071268320083618,-3.0551788806915283,-2.115633964538574,-2.453089475631714,0.7544177174568176,6.437750339508057,6.775461196899414,0.0,0.0,0.0,0.0,0.0,0.0,0.0,0.0,0.0,0.0,0.0,0.0,0.0,0.0,0.0,0.0,0.0,0.0,0.0,0.0,0.0,0.0],[-2.6473846435546875,-4.9147796630859375,-2.683804750442505,-2.446613073348999,-6.817105770111084,-8.199352264404297,-4.414638519287109,-2.2798755168914795,-3.4644174575805664,-3.267833709716797,-1.8856579065322876,-1.9235869646072388,0.816819429397583,6.378644943237305,6.4699387550354,0.0,0.0,0.0,0.0,0.0,0.0,0.0,0.0,0.0,0.0,0.0,0.0,0.0,0.0,0.0,0.0,0.0,0.0,0.0,0.0,0.0],[-2.420196056365967,-4.911328315734863,-5.3152971267700195,-2.821464776992798,-2.408722162246704,-6.488734245300293,-7.885091304779053,-4.427417755126953,-2.527817726135254,-4.096045017242432,-3.1703100204467773,-1.7276557683944702,-2.1479382514953613,0.662396252155304,6.00239896774292,6.37552547454834,0.0,0.0,0.0,0.0,0.0,0.0,0.0,0.0,0.0,0.0,0.0,0.0,0.0,0.0,0.0,0.0,0.0,0.0,0.0,0.0],[-1.7492570877075195,-4.574190616607666,-5.0862321853637695,-5.33901309967041,-2.474193811416626,-1.7404319047927856,-5.786890029907227,-7.36126708984375,-4.028629302978516,-2.608503580093384,-3.629333257675171,-2.4462156295776367,-1.315016269683838,-2.085625410079956,0.7689052224159241,6.24220609664917,6.570300579071045,0.0,0.0,0.0,0.0,0.0,0.0,0.0,0.0,0.0,0.0,0.0,0.0,0.0,0.0,0.0,0.0,0.0,0.0,0.0],[-1.5227521657943726,-4.938264846801758,-4.6735310554504395,-5.483493804931641,-6.0581159591674805,-3.0194005966186523,-2.0586202144622803,-5.68475341796875,-7.165866851806641,-4.306421279907227,-2.9633491039276123,-3.6334104537963867,-2.215043544769287,-1.2846075296401978,-1.9777717590332031,0.8813793659210205,6.23469352722168,6.561337947845459,0.0,0.0,0.0,0.0,0.0,0.0,0.0,0.0,0.0,0.0,0.0,0.0,0.0,0.0,0.0,0.0,0.0,0.0],[-1.921273112297058,-3.8270444869995117,-4.9887871742248535,-4.473632335662842,-6.0391693115234375,-6.744627475738525,-3.4595751762390137,-2.0326883792877197,-5.120089530944824,-6.727619647979736,-4.004026412963867,-3.2050154209136963,-3.9995148181915283,-2.351625442504883,-1.160938024520874,-1.8585642576217651,0.9122641682624817,6.316309452056885,6.835067272186279,0.0,0.0,0.0,0.0,0.0,0.0,0.0,0.0,0.0,0.0,0.0,0.0,0.0,0.0,0.0,0.0,0.0],[-2.088371515274048,-3.2849156856536865,-4.33182430267334,-5.045891761779785,-4.802139759063721,-7.087071418762207,-7.893683433532715,-4.163844585418701,-1.9358359575271606,-5.2639899253845215,-6.613824367523193,-4.481320858001709,-4.545459270477295,-5.041041851043701,-2.4218504428863525,-1.377539873123169,-2.425238847732544,0.7035826444625854,6.30148983001709,6.796761512756348,0.0,0.0,0.0,0.0,0.0,0.0,0.0,0.0,0.0,0.0,0.0,0.0,0.0,0.0,0.0,0.0],[-1.5755119323730469,-5.168328762054443,-3.345836639404297,-4.421308517456055,-4.4566545486450195,-4.0640411376953125,-7.407763481140137,-8.66869068145752,-4.022932052612305,-1.6628708839416504,-4.612517356872559,-5.625683307647705,-4.408156871795654,-5.28679895401001,-5.129460334777832,-2.025136947631836,-1.1378706693649292,-2.34686541557312,0.8757154941558838,6.4750142097473145,6.972656726837158,0.0,0.0,0.0,0.0,0.0,0.0,0.0,0.0,0.0,0.0,0.0,0.0,0.0,0.0,0.0],[-1.4952938556671143,-6.149138927459717,-5.250258922576904,-3.5578978061676025,-4.516299247741699,-3.587930202484131,-3.9065840244293213,-7.765610218048096,-8.76346492767334,-4.2459797859191895,-1.5468741655349731,-3.5386996269226074,-4.8017706871032715,-4.47231388092041,-5.513565540313721,-4.959998607635498,-1.6502305269241333,-0.8423639535903931,-1.7962820529937744,0.911538302898407,6.7424397468566895,7.081671237945557,0.0,0.0,0.0,0.0,0.0,0.0,0.0,0.0,0.0,0.0,0.0,0.0,0.0,0.0],[-1.352350115776062,-3.5994181632995605,-6.722323894500732,-5.438387870788574,-4.2855448722839355,-4.749404430389404,-3.7857577800750732,-3.9643802642822266,-7.678286075592041,-9.020169258117676,-4.416538238525391,-1.1991591453552246,-3.145386219024658,-4.430912017822266,-4.319786071777344,-5.40885066986084,-4.757721900939941,-1.52665376663208,-0.3848609924316406,-1.6575208902359009,1.3165315389633179,6.923459053039551,7.299638748168945,0.0,0.0,0.0,0.0,0.0,0.0,0.0,0.0,0.0,0.0,0.0,0.0,0.0],[-1.4777543544769287,-2.600802183151245,-3.890327215194702,-7.1890339851379395,-6.205901622772217,-5.14699125289917,-5.421322345733643,-4.114406585693359,-3.925015926361084,-7.645073413848877,-9.12833023071289,-4.302972316741943,-1.0991636514663696,-2.7592062950134277,-4.246688365936279,-4.402280807495117,-5.684108734130859,-5.023179054260254,-1.753660798072815,-0.7074040770530701,-1.664662480354309,1.174927830696106,7.042794704437256,7.358887195587158,0.0,0.0,0.0,0.0,0.0,0.0,0.0,0.0,0.0,0.0,0.0,0.0],[-1.3913778066635132,-6.271763324737549,-2.1418302059173584,-3.6808242797851562,-6.974018096923828,-6.37695837020874,-5.819190502166748,-6.165122985839844,-4.633858680725098,-3.8324928283691406,-7.1628193855285645,-8.495800971984863,-4.2101287841796875,-0.7026614546775818,-2.350377082824707,-3.88448166847229,-4.5706071853637695,-5.611573696136475,-5.074549198150635,-2.0210952758789062,-0.678267240524292,-1.5916978120803833,1.3272053003311157,7.148031234741211,7.392663955688477,0.0,0.0,0.0,0.0,0.0,0.0,0.0,0.0,0.0,0.0,0.0],[-1.6303658485412598,-8.320259094238281,-6.584831714630127,-1.9778913259506226,-3.249359130859375,-6.437662601470947,-6.644814968109131,-6.292064666748047,-6.884451866149902,-5.376277923583984,-3.45971417427063,-6.034661293029785,-8.082764625549316,-4.0859856605529785,-0.7299908399581909,-2.2966432571411133,-4.466679573059082,-4.859340667724609,-5.4445061683654785,-4.942043304443359,-2.0814297199249268,-0.5751868486404419,-1.229880928993225,1.2249088287353516,7.157719135284424,7.479585647583008,0.0,0.0,0.0,0.0,0.0,0.0,0.0,0.0,0.0,0.0],[-0.9063038229942322,-5.425599098205566,-8.537111282348633,-6.4077606201171875,-1.9306347370147705,-2.719365119934082,-6.116245746612549,-6.569221496582031,-6.6429595947265625,-7.708136558532715,-5.841424465179443,-3.391763210296631,-5.678903102874756,-7.640058994293213,-3.859555959701538,-0.5767592191696167,-2.1727993488311768,-4.647022724151611,-4.890693187713623,-5.076248645782471,-4.512208938598633,-2.0640201568603516,-0.3857387900352478,-1.0435148477554321,1.5618895292282104,7.5502028465271,7.723743915557861,0.0,0.0,0.0,0.0,0.0,0.0,0.0,0.0,0.0],[-0.41239866614341736,-4.168478488922119,-5.165457725524902,-8.248065948486328,-6.608192443847656,-2.1897642612457275,-2.294903039932251,-5.663608074188232,-7.39011812210083,-7.6556782722473145,-8.412904739379883,-6.452266693115234,-3.7513461112976074,-5.404059886932373,-7.3468780517578125,-4.036363124847412,-0.3234347701072693,-1.8032782077789307,-4.975009441375732,-5.766890525817871,-4.736897945404053,-3.5360465049743652,-1.7653321027755737,-0.6450169682502747,-1.0355041027069092,2.0081920623779297,7.814575672149658,8.230033874511719,0.0,0.0,0.0,0.0,0.0,0.0,0.0,0.0],[-0.9176567792892456,-4.526398658752441,-3.3446528911590576,-4.439979076385498,-7.643910884857178,-6.987748146057129,-2.588026285171509,-1.9737478494644165,-5.981000900268555,-8.263519287109375,-8.287981033325195,-8.869796752929688,-7.240630626678467,-4.084035873413086,-4.934517860412598,-6.884128570556641,-4.243001461029053,-0.21584711968898773,-1.7149488925933838,-5.6017022132873535,-6.105950355529785,-3.6700942516326904,-2.7476208209991455,-1.8642410039901733,-0.6835716366767883,-0.46486398577690125,2.040024757385254,7.831657886505127,8.095121383666992,0.0,0.0,0.0,0.0,0.0,0.0,0.0],[-1.3866236209869385,-4.1571197509765625,-3.5859644412994385,-2.923903703689575,-3.6913528442382812,-7.1070756912231445,-7.0107574462890625,-2.554537057876587,-1.631516695022583,-6.328377723693848,-8.927735328674316,-9.096108436584473,-9.79535961151123,-8.123279571533203,-4.486550807952881,-4.8030314445495605,-7.14037561416626,-4.3576226234436035,-0.22483614087104797,-1.5155378580093384,-6.159043312072754,-6.231806755065918,-3.368354320526123,-2.3655967712402344,-1.8440368175506592,-0.6852083802223206,-0.5604840517044067,2.134141206741333,7.952884674072266,8.35622787475586,0.0,0.0,0.0,0.0,0.0,0.0],[-1.327935814857483,-6.173649787902832,-3.8207366466522217,-3.794001817703247,-3.1165339946746826,-3.251157283782959,-6.8061909675598145,-7.4329752922058105,-3.0134994983673096,-2.077268600463867,-6.7662577629089355,-9.840493202209473,-10.132658004760742,-10.760766983032227,-9.091774940490723,-5.392458915710449,-5.192259311676025,-7.214831829071045,-5.063021659851074,-0.9557019472122192,-2.1679699420928955,-6.950695991516113,-7.1563239097595215,-3.763997793197632,-2.6848902702331543,-2.6847729682922363,-1.3088945150375366,-1.0029507875442505,1.5682692527770996,7.434745788574219,7.713280200958252,0.0,0.0,0.0,0.0,0.0],[-1.0857653617858887,-6.8654985427856445,-6.120975494384766,-3.15045166015625,-3.0357184410095215,-2.5148069858551025,-2.85803484916687,-5.839744567871094,-6.780377388000488,-3.2143287658691406,-1.669966697692871,-5.912058353424072,-9.873457908630371,-10.386747360229492,-10.056801795959473,-8.654826164245605,-5.334674835205078,-4.464806079864502,-6.031888484954834,-4.857950687408447,-0.9172589778900146,-1.639065146446228,-6.6760687828063965,-7.521021842956543,-3.654865264892578,-2.1365609169006348,-2.6536107063293457,-1.387322187423706,-0.7821336388587952,1.8454618453979492,7.536063194274902,8.019227981567383,0.0,0.0,0.0,0.0],[-0.9596465826034546,-3.504925012588501,-7.809261798858643,-6.742518901824951,-3.518695831298828,-3.287860870361328,-2.98685622215271,-2.429718255996704,-4.959362506866455,-7.002291679382324,-3.798581600189209,-1.660588264465332,-6.168486595153809,-10.643354415893555,-10.425254821777344,-9.845183372497559,-8.646151542663574,-5.433481216430664,-3.916191816329956,-5.676665306091309,-4.88146448135376,-0.948291540145874,-1.5696794986724854,-7.081986904144287,-7.928427696228027,-3.0591413974761963,-1.978851556777954,-2.503239631652832,-1.2643306255340576,-0.6943653225898743,1.6382461786270142,7.787195682525635,8.108210563659668,0.0,0.0,0.0],[-0.8327001333236694,-2.3481318950653076,-3.486639976501465,-8.371481895446777,-7.580301761627197,-4.1353535652160645,-3.5861406326293945,-3.326500177383423,-2.4658474922180176,-4.276257514953613,-6.684739112854004,-3.8970370292663574,-1.7105475664138794,-5.967161655426025,-10.53712272644043,-10.341957092285156,-9.051511764526367,-7.965881824493408,-5.742389678955078,-4.277658939361572,-5.071995258331299,-4.458647727966309,-1.285111665725708,-1.8992602825164795,-7.329746246337891,-7.729715824127197,-2.9710304737091064,-1.792098879814148,-2.8079631328582764,-1.5593007802963257,-0.7211541533470154,1.8125863075256348,7.789389133453369,7.919820308685303,0.0,0.0],[-1.232092261314392,-5.182570934295654,-1.866003155708313,-3.4799182415008545,-8.177430152893066,-7.8909831047058105,-4.688221454620361,-3.9065163135528564,-3.8052070140838623,-2.4664130210876465,-3.6398398876190186,-5.819320201873779,-4.054318904876709,-1.8882523775100708,-5.883896350860596,-10.445245742797852,-10.433775901794434,-8.237277030944824,-7.506515026092529,-6.020083427429199,-4.16597318649292,-4.114677429199219,-3.7875373363494873,-1.3139524459838867,-1.8390381336212158,-6.719803810119629,-7.14119291305542,-2.888193368911743,-1.847246527671814,-2.8517203330993652,-1.308051586151123,-0.5015108585357666,1.9778754711151123,7.789950847625732,7.9655985832214355,0.0],[-1.5052275657653809,-5.714950084686279,-5.569680213928223,-2.2703161239624023,-3.291097402572632,-8.024130821228027,-8.33957576751709,-5.044900417327881,-4.241018295288086,-4.536025524139404,-2.5082898139953613,-2.9762773513793945,-6.005267143249512,-4.534100532531738,-2.354604721069336,-6.080501079559326,-11.108064651489258,-10.323613166809082,-7.6906609535217285,-7.027802467346191,-6.263378620147705,-4.292939186096191,-3.6471943855285645,-3.74776291847229,-1.2743074893951416,-1.4687261581420898,-6.272612571716309,-7.047544479370117,-2.5013248920440674,-1.9638164043426514,-3.09932279586792,-1.1258375644683838,-0.5405740141868591,1.7714930772781372,7.712338447570801,7.950870037078857]],\"type\":\"heatmap\",\"xaxis\":\"x\",\"yaxis\":\"y\",\"hovertemplate\":\"x: %{x}<br>y: %{y}<br>color: %{z}<extra></extra>\"}],                        {\"template\":{\"data\":{\"bar\":[{\"error_x\":{\"color\":\"#2a3f5f\"},\"error_y\":{\"color\":\"#2a3f5f\"},\"marker\":{\"line\":{\"color\":\"#E5ECF6\",\"width\":0.5},\"pattern\":{\"fillmode\":\"overlay\",\"size\":10,\"solidity\":0.2}},\"type\":\"bar\"}],\"barpolar\":[{\"marker\":{\"line\":{\"color\":\"#E5ECF6\",\"width\":0.5},\"pattern\":{\"fillmode\":\"overlay\",\"size\":10,\"solidity\":0.2}},\"type\":\"barpolar\"}],\"carpet\":[{\"aaxis\":{\"endlinecolor\":\"#2a3f5f\",\"gridcolor\":\"white\",\"linecolor\":\"white\",\"minorgridcolor\":\"white\",\"startlinecolor\":\"#2a3f5f\"},\"baxis\":{\"endlinecolor\":\"#2a3f5f\",\"gridcolor\":\"white\",\"linecolor\":\"white\",\"minorgridcolor\":\"white\",\"startlinecolor\":\"#2a3f5f\"},\"type\":\"carpet\"}],\"choropleth\":[{\"colorbar\":{\"outlinewidth\":0,\"ticks\":\"\"},\"type\":\"choropleth\"}],\"contour\":[{\"colorbar\":{\"outlinewidth\":0,\"ticks\":\"\"},\"colorscale\":[[0.0,\"#0d0887\"],[0.1111111111111111,\"#46039f\"],[0.2222222222222222,\"#7201a8\"],[0.3333333333333333,\"#9c179e\"],[0.4444444444444444,\"#bd3786\"],[0.5555555555555556,\"#d8576b\"],[0.6666666666666666,\"#ed7953\"],[0.7777777777777778,\"#fb9f3a\"],[0.8888888888888888,\"#fdca26\"],[1.0,\"#f0f921\"]],\"type\":\"contour\"}],\"contourcarpet\":[{\"colorbar\":{\"outlinewidth\":0,\"ticks\":\"\"},\"type\":\"contourcarpet\"}],\"heatmap\":[{\"colorbar\":{\"outlinewidth\":0,\"ticks\":\"\"},\"colorscale\":[[0.0,\"#0d0887\"],[0.1111111111111111,\"#46039f\"],[0.2222222222222222,\"#7201a8\"],[0.3333333333333333,\"#9c179e\"],[0.4444444444444444,\"#bd3786\"],[0.5555555555555556,\"#d8576b\"],[0.6666666666666666,\"#ed7953\"],[0.7777777777777778,\"#fb9f3a\"],[0.8888888888888888,\"#fdca26\"],[1.0,\"#f0f921\"]],\"type\":\"heatmap\"}],\"heatmapgl\":[{\"colorbar\":{\"outlinewidth\":0,\"ticks\":\"\"},\"colorscale\":[[0.0,\"#0d0887\"],[0.1111111111111111,\"#46039f\"],[0.2222222222222222,\"#7201a8\"],[0.3333333333333333,\"#9c179e\"],[0.4444444444444444,\"#bd3786\"],[0.5555555555555556,\"#d8576b\"],[0.6666666666666666,\"#ed7953\"],[0.7777777777777778,\"#fb9f3a\"],[0.8888888888888888,\"#fdca26\"],[1.0,\"#f0f921\"]],\"type\":\"heatmapgl\"}],\"histogram\":[{\"marker\":{\"pattern\":{\"fillmode\":\"overlay\",\"size\":10,\"solidity\":0.2}},\"type\":\"histogram\"}],\"histogram2d\":[{\"colorbar\":{\"outlinewidth\":0,\"ticks\":\"\"},\"colorscale\":[[0.0,\"#0d0887\"],[0.1111111111111111,\"#46039f\"],[0.2222222222222222,\"#7201a8\"],[0.3333333333333333,\"#9c179e\"],[0.4444444444444444,\"#bd3786\"],[0.5555555555555556,\"#d8576b\"],[0.6666666666666666,\"#ed7953\"],[0.7777777777777778,\"#fb9f3a\"],[0.8888888888888888,\"#fdca26\"],[1.0,\"#f0f921\"]],\"type\":\"histogram2d\"}],\"histogram2dcontour\":[{\"colorbar\":{\"outlinewidth\":0,\"ticks\":\"\"},\"colorscale\":[[0.0,\"#0d0887\"],[0.1111111111111111,\"#46039f\"],[0.2222222222222222,\"#7201a8\"],[0.3333333333333333,\"#9c179e\"],[0.4444444444444444,\"#bd3786\"],[0.5555555555555556,\"#d8576b\"],[0.6666666666666666,\"#ed7953\"],[0.7777777777777778,\"#fb9f3a\"],[0.8888888888888888,\"#fdca26\"],[1.0,\"#f0f921\"]],\"type\":\"histogram2dcontour\"}],\"mesh3d\":[{\"colorbar\":{\"outlinewidth\":0,\"ticks\":\"\"},\"type\":\"mesh3d\"}],\"parcoords\":[{\"line\":{\"colorbar\":{\"outlinewidth\":0,\"ticks\":\"\"}},\"type\":\"parcoords\"}],\"pie\":[{\"automargin\":true,\"type\":\"pie\"}],\"scatter\":[{\"marker\":{\"colorbar\":{\"outlinewidth\":0,\"ticks\":\"\"}},\"type\":\"scatter\"}],\"scatter3d\":[{\"line\":{\"colorbar\":{\"outlinewidth\":0,\"ticks\":\"\"}},\"marker\":{\"colorbar\":{\"outlinewidth\":0,\"ticks\":\"\"}},\"type\":\"scatter3d\"}],\"scattercarpet\":[{\"marker\":{\"colorbar\":{\"outlinewidth\":0,\"ticks\":\"\"}},\"type\":\"scattercarpet\"}],\"scattergeo\":[{\"marker\":{\"colorbar\":{\"outlinewidth\":0,\"ticks\":\"\"}},\"type\":\"scattergeo\"}],\"scattergl\":[{\"marker\":{\"colorbar\":{\"outlinewidth\":0,\"ticks\":\"\"}},\"type\":\"scattergl\"}],\"scattermapbox\":[{\"marker\":{\"colorbar\":{\"outlinewidth\":0,\"ticks\":\"\"}},\"type\":\"scattermapbox\"}],\"scatterpolar\":[{\"marker\":{\"colorbar\":{\"outlinewidth\":0,\"ticks\":\"\"}},\"type\":\"scatterpolar\"}],\"scatterpolargl\":[{\"marker\":{\"colorbar\":{\"outlinewidth\":0,\"ticks\":\"\"}},\"type\":\"scatterpolargl\"}],\"scatterternary\":[{\"marker\":{\"colorbar\":{\"outlinewidth\":0,\"ticks\":\"\"}},\"type\":\"scatterternary\"}],\"surface\":[{\"colorbar\":{\"outlinewidth\":0,\"ticks\":\"\"},\"colorscale\":[[0.0,\"#0d0887\"],[0.1111111111111111,\"#46039f\"],[0.2222222222222222,\"#7201a8\"],[0.3333333333333333,\"#9c179e\"],[0.4444444444444444,\"#bd3786\"],[0.5555555555555556,\"#d8576b\"],[0.6666666666666666,\"#ed7953\"],[0.7777777777777778,\"#fb9f3a\"],[0.8888888888888888,\"#fdca26\"],[1.0,\"#f0f921\"]],\"type\":\"surface\"}],\"table\":[{\"cells\":{\"fill\":{\"color\":\"#EBF0F8\"},\"line\":{\"color\":\"white\"}},\"header\":{\"fill\":{\"color\":\"#C8D4E3\"},\"line\":{\"color\":\"white\"}},\"type\":\"table\"}]},\"layout\":{\"annotationdefaults\":{\"arrowcolor\":\"#2a3f5f\",\"arrowhead\":0,\"arrowwidth\":1},\"autotypenumbers\":\"strict\",\"coloraxis\":{\"colorbar\":{\"outlinewidth\":0,\"ticks\":\"\"}},\"colorscale\":{\"diverging\":[[0,\"#8e0152\"],[0.1,\"#c51b7d\"],[0.2,\"#de77ae\"],[0.3,\"#f1b6da\"],[0.4,\"#fde0ef\"],[0.5,\"#f7f7f7\"],[0.6,\"#e6f5d0\"],[0.7,\"#b8e186\"],[0.8,\"#7fbc41\"],[0.9,\"#4d9221\"],[1,\"#276419\"]],\"sequential\":[[0.0,\"#0d0887\"],[0.1111111111111111,\"#46039f\"],[0.2222222222222222,\"#7201a8\"],[0.3333333333333333,\"#9c179e\"],[0.4444444444444444,\"#bd3786\"],[0.5555555555555556,\"#d8576b\"],[0.6666666666666666,\"#ed7953\"],[0.7777777777777778,\"#fb9f3a\"],[0.8888888888888888,\"#fdca26\"],[1.0,\"#f0f921\"]],\"sequentialminus\":[[0.0,\"#0d0887\"],[0.1111111111111111,\"#46039f\"],[0.2222222222222222,\"#7201a8\"],[0.3333333333333333,\"#9c179e\"],[0.4444444444444444,\"#bd3786\"],[0.5555555555555556,\"#d8576b\"],[0.6666666666666666,\"#ed7953\"],[0.7777777777777778,\"#fb9f3a\"],[0.8888888888888888,\"#fdca26\"],[1.0,\"#f0f921\"]]},\"colorway\":[\"#636efa\",\"#EF553B\",\"#00cc96\",\"#ab63fa\",\"#FFA15A\",\"#19d3f3\",\"#FF6692\",\"#B6E880\",\"#FF97FF\",\"#FECB52\"],\"font\":{\"color\":\"#2a3f5f\"},\"geo\":{\"bgcolor\":\"white\",\"lakecolor\":\"white\",\"landcolor\":\"#E5ECF6\",\"showlakes\":true,\"showland\":true,\"subunitcolor\":\"white\"},\"hoverlabel\":{\"align\":\"left\"},\"hovermode\":\"closest\",\"mapbox\":{\"style\":\"light\"},\"paper_bgcolor\":\"white\",\"plot_bgcolor\":\"#E5ECF6\",\"polar\":{\"angularaxis\":{\"gridcolor\":\"white\",\"linecolor\":\"white\",\"ticks\":\"\"},\"bgcolor\":\"#E5ECF6\",\"radialaxis\":{\"gridcolor\":\"white\",\"linecolor\":\"white\",\"ticks\":\"\"}},\"scene\":{\"xaxis\":{\"backgroundcolor\":\"#E5ECF6\",\"gridcolor\":\"white\",\"gridwidth\":2,\"linecolor\":\"white\",\"showbackground\":true,\"ticks\":\"\",\"zerolinecolor\":\"white\"},\"yaxis\":{\"backgroundcolor\":\"#E5ECF6\",\"gridcolor\":\"white\",\"gridwidth\":2,\"linecolor\":\"white\",\"showbackground\":true,\"ticks\":\"\",\"zerolinecolor\":\"white\"},\"zaxis\":{\"backgroundcolor\":\"#E5ECF6\",\"gridcolor\":\"white\",\"gridwidth\":2,\"linecolor\":\"white\",\"showbackground\":true,\"ticks\":\"\",\"zerolinecolor\":\"white\"}},\"shapedefaults\":{\"line\":{\"color\":\"#2a3f5f\"}},\"ternary\":{\"aaxis\":{\"gridcolor\":\"white\",\"linecolor\":\"white\",\"ticks\":\"\"},\"baxis\":{\"gridcolor\":\"white\",\"linecolor\":\"white\",\"ticks\":\"\"},\"bgcolor\":\"#E5ECF6\",\"caxis\":{\"gridcolor\":\"white\",\"linecolor\":\"white\",\"ticks\":\"\"}},\"title\":{\"x\":0.05},\"xaxis\":{\"automargin\":true,\"gridcolor\":\"white\",\"linecolor\":\"white\",\"ticks\":\"\",\"title\":{\"standoff\":15},\"zerolinecolor\":\"white\",\"zerolinewidth\":2},\"yaxis\":{\"automargin\":true,\"gridcolor\":\"white\",\"linecolor\":\"white\",\"ticks\":\"\",\"title\":{\"standoff\":15},\"zerolinecolor\":\"white\",\"zerolinewidth\":2}}},\"xaxis\":{\"anchor\":\"y\",\"domain\":[0.0,1.0],\"scaleanchor\":\"y\",\"constrain\":\"domain\"},\"yaxis\":{\"anchor\":\"x\",\"domain\":[0.0,1.0],\"autorange\":\"reversed\",\"constrain\":\"domain\"},\"coloraxis\":{\"colorscale\":[[0.0,\"#0d0887\"],[0.1111111111111111,\"#46039f\"],[0.2222222222222222,\"#7201a8\"],[0.3333333333333333,\"#9c179e\"],[0.4444444444444444,\"#bd3786\"],[0.5555555555555556,\"#d8576b\"],[0.6666666666666666,\"#ed7953\"],[0.7777777777777778,\"#fb9f3a\"],[0.8888888888888888,\"#fdca26\"],[1.0,\"#f0f921\"]]},\"margin\":{\"t\":60}},                        {\"responsive\": true}                    ).then(function(){\n",
       "                            \n",
       "var gd = document.getElementById('054add2a-86bb-4ce9-ae4f-a9cc341bbd08');\n",
       "var x = new MutationObserver(function (mutations, observer) {{\n",
       "        var display = window.getComputedStyle(gd).display;\n",
       "        if (!display || display === 'none') {{\n",
       "            console.log([gd, 'removed!']);\n",
       "            Plotly.purge(gd);\n",
       "            observer.disconnect();\n",
       "        }}\n",
       "}});\n",
       "\n",
       "// Listen for the removal of the full notebook cells\n",
       "var notebookContainer = gd.closest('#notebook-container');\n",
       "if (notebookContainer) {{\n",
       "    x.observe(notebookContainer, {childList: true});\n",
       "}}\n",
       "\n",
       "// Listen for the clearing of the current output cell\n",
       "var outputEl = gd.closest('.output');\n",
       "if (outputEl) {{\n",
       "    x.observe(outputEl, {childList: true});\n",
       "}}\n",
       "\n",
       "                        })                };                });            </script>        </div>"
      ]
     },
     "metadata": {},
     "output_type": "display_data"
    },
    {
     "data": {
      "application/vnd.plotly.v1+json": {
       "config": {
        "plotlyServerURL": "https://plot.ly"
       },
       "data": [
        {
         "coloraxis": "coloraxis",
         "hovertemplate": "x: %{x}<br>y: %{y}<br>color: %{z}<extra></extra>",
         "name": "0",
         "texttemplate": "%{z}",
         "type": "heatmap",
         "xaxis": "x",
         "yaxis": "y",
         "z": [
          [
           -5.091921329498291,
           0,
           0,
           0,
           0,
           0,
           0,
           0,
           0,
           0,
           0,
           0,
           0,
           0,
           0,
           0,
           0,
           0,
           0,
           0,
           0,
           0,
           0,
           0,
           0,
           0,
           0,
           0,
           0,
           0,
           0,
           0,
           0,
           0,
           0,
           0
          ],
          [
           1.90188467502594,
           -1.0595755577087402,
           0,
           0,
           0,
           0,
           0,
           0,
           0,
           0,
           0,
           0,
           0,
           0,
           0,
           0,
           0,
           0,
           0,
           0,
           0,
           0,
           0,
           0,
           0,
           0,
           0,
           0,
           0,
           0,
           0,
           0,
           0,
           0,
           0,
           0
          ],
          [
           0.9614365696907043,
           -1.7105112075805664,
           -1.619986653327942,
           0,
           0,
           0,
           0,
           0,
           0,
           0,
           0,
           0,
           0,
           0,
           0,
           0,
           0,
           0,
           0,
           0,
           0,
           0,
           0,
           0,
           0,
           0,
           0,
           0,
           0,
           0,
           0,
           0,
           0,
           0,
           0,
           0
          ],
          [
           1.0321483612060547,
           -1.6133289337158203,
           -1.5275044441223145,
           -1.5231178998947144,
           0,
           0,
           0,
           0,
           0,
           0,
           0,
           0,
           0,
           0,
           0,
           0,
           0,
           0,
           0,
           0,
           0,
           0,
           0,
           0,
           0,
           0,
           0,
           0,
           0,
           0,
           0,
           0,
           0,
           0,
           0,
           0
          ],
          [
           0.9053633213043213,
           -1.7823718786239624,
           -1.7004368305206299,
           -1.6516011953353882,
           -1.6058858633041382,
           0,
           0,
           0,
           0,
           0,
           0,
           0,
           0,
           0,
           0,
           0,
           0,
           0,
           0,
           0,
           0,
           0,
           0,
           0,
           0,
           0,
           0,
           0,
           0,
           0,
           0,
           0,
           0,
           0,
           0,
           0
          ],
          [
           0.8156672120094299,
           -1.8144659996032715,
           -1.7081657648086548,
           -1.6692864894866943,
           -1.6316242218017578,
           -1.5972974300384521,
           0,
           0,
           0,
           0,
           0,
           0,
           0,
           0,
           0,
           0,
           0,
           0,
           0,
           0,
           0,
           0,
           0,
           0,
           0,
           0,
           0,
           0,
           0,
           0,
           0,
           0,
           0,
           0,
           0,
           0
          ],
          [
           0.8233795166015625,
           -1.8353816270828247,
           -1.7738943099975586,
           -1.7474850416183472,
           -1.7160604000091553,
           -1.6770879030227661,
           -1.6312103271484375,
           0,
           0,
           0,
           0,
           0,
           0,
           0,
           0,
           0,
           0,
           0,
           0,
           0,
           0,
           0,
           0,
           0,
           0,
           0,
           0,
           0,
           0,
           0,
           0,
           0,
           0,
           0,
           0,
           0
          ],
          [
           0.7359866499900818,
           -1.979866623878479,
           -1.9337830543518066,
           -1.8945035934448242,
           -1.8674179315567017,
           -1.8231375217437744,
           -1.7833625078201294,
           -1.7335360050201416,
           0,
           0,
           0,
           0,
           0,
           0,
           0,
           0,
           0,
           0,
           0,
           0,
           0,
           0,
           0,
           0,
           0,
           0,
           0,
           0,
           0,
           0,
           0,
           0,
           0,
           0,
           0,
           0
          ],
          [
           0.8413985371589661,
           -1.9419054985046387,
           -1.8945646286010742,
           -1.8558849096298218,
           -1.8306859731674194,
           -1.7808541059494019,
           -1.742816686630249,
           -1.6911379098892212,
           -1.588423490524292,
           0,
           0,
           0,
           0,
           0,
           0,
           0,
           0,
           0,
           0,
           0,
           0,
           0,
           0,
           0,
           0,
           0,
           0,
           0,
           0,
           0,
           0,
           0,
           0,
           0,
           0,
           0
          ],
          [
           0.8520087599754333,
           -1.901548147201538,
           -1.8711422681808472,
           -1.8311229944229126,
           -1.8112307786941528,
           -1.7571513652801514,
           -1.724055528640747,
           -1.6792922019958496,
           -1.5741952657699585,
           -1.534143328666687,
           0,
           0,
           0,
           0,
           0,
           0,
           0,
           0,
           0,
           0,
           0,
           0,
           0,
           0,
           0,
           0,
           0,
           0,
           0,
           0,
           0,
           0,
           0,
           0,
           0,
           0
          ],
          [
           0.846315324306488,
           -1.9083036184310913,
           -1.8765087127685547,
           -1.841662049293518,
           -1.8224831819534302,
           -1.7640273571014404,
           -1.735788106918335,
           -1.6867109537124634,
           -1.5796478986740112,
           -1.5351704359054565,
           -1.5038723945617676,
           0,
           0,
           0,
           0,
           0,
           0,
           0,
           0,
           0,
           0,
           0,
           0,
           0,
           0,
           0,
           0,
           0,
           0,
           0,
           0,
           0,
           0,
           0,
           0,
           0
          ],
          [
           0.7720047831535339,
           -2.009798765182495,
           -1.9762918949127197,
           -1.9391909837722778,
           -1.9261202812194824,
           -1.8684653043746948,
           -1.8361868858337402,
           -1.79604971408844,
           -1.6910362243652344,
           -1.6432844400405884,
           -1.608468770980835,
           -1.5806832313537598,
           0,
           0,
           0,
           0,
           0,
           0,
           0,
           0,
           0,
           0,
           0,
           0,
           0,
           0,
           0,
           0,
           0,
           0,
           0,
           0,
           0,
           0,
           0,
           0
          ],
          [
           0.8235262632369995,
           -1.895548701286316,
           -1.887052297592163,
           -1.8569284677505493,
           -1.850715160369873,
           -1.7901840209960938,
           -1.761383295059204,
           -1.7246832847595215,
           -1.6233924627304077,
           -1.5775163173675537,
           -1.5456397533416748,
           -1.5153882503509521,
           -1.4653757810592651,
           0,
           0,
           0,
           0,
           0,
           0,
           0,
           0,
           0,
           0,
           0,
           0,
           0,
           0,
           0,
           0,
           0,
           0,
           0,
           0,
           0,
           0,
           0
          ],
          [
           0.8915989995002747,
           -1.9129765033721924,
           -1.8957654237747192,
           -1.8662842512130737,
           -1.8678630590438843,
           -1.809144377708435,
           -1.780151605606079,
           -1.744977355003357,
           -1.6506472826004028,
           -1.602425217628479,
           -1.576850175857544,
           -1.5301086902618408,
           -1.4904916286468506,
           -1.4750640392303467,
           0,
           0,
           0,
           0,
           0,
           0,
           0,
           0,
           0,
           0,
           0,
           0,
           0,
           0,
           0,
           0,
           0,
           0,
           0,
           0,
           0,
           0
          ],
          [
           0.9465682506561279,
           -1.9056804180145264,
           -1.922178030014038,
           -1.890242576599121,
           -1.8874452114105225,
           -1.832200050354004,
           -1.8028919696807861,
           -1.7778186798095703,
           -1.685471534729004,
           -1.6388261318206787,
           -1.615881323814392,
           -1.575962781906128,
           -1.5365018844604492,
           -1.5141749382019043,
           -1.479669213294983,
           0,
           0,
           0,
           0,
           0,
           0,
           0,
           0,
           0,
           0,
           0,
           0,
           0,
           0,
           0,
           0,
           0,
           0,
           0,
           0,
           0
          ],
          [
           0.9699127078056335,
           -1.8608238697052002,
           -1.8406347036361694,
           -1.8201252222061157,
           -1.8000041246414185,
           -1.7485411167144775,
           -1.7323389053344727,
           -1.7030353546142578,
           -1.618823766708374,
           -1.5763181447982788,
           -1.5465171337127686,
           -1.5028084516525269,
           -1.4630566835403442,
           -1.4487987756729126,
           -1.408664584159851,
           -1.347825527191162,
           0,
           0,
           0,
           0,
           0,
           0,
           0,
           0,
           0,
           0,
           0,
           0,
           0,
           0,
           0,
           0,
           0,
           0,
           0,
           0
          ],
          [
           0.8483491539955139,
           -1.8587045669555664,
           -1.853818416595459,
           -1.8279063701629639,
           -1.8258360624313354,
           -1.7791932821273804,
           -1.7553551197052002,
           -1.7350826263427734,
           -1.6498446464538574,
           -1.6016929149627686,
           -1.5835882425308228,
           -1.5393180847167969,
           -1.5007669925689697,
           -1.4846376180648804,
           -1.4534885883331299,
           -1.3801240921020508,
           -1.3756047487258911,
           0,
           0,
           0,
           0,
           0,
           0,
           0,
           0,
           0,
           0,
           0,
           0,
           0,
           0,
           0,
           0,
           0,
           0,
           0
          ],
          [
           0.9542728662490845,
           -1.7930084466934204,
           -1.8057852983474731,
           -1.7896482944488525,
           -1.785302758216858,
           -1.7417898178100586,
           -1.7210043668746948,
           -1.7028721570968628,
           -1.6349323987960815,
           -1.587341547012329,
           -1.571354866027832,
           -1.5341053009033203,
           -1.4955775737762451,
           -1.476629376411438,
           -1.4504902362823486,
           -1.3873869180679321,
           -1.3752567768096924,
           -1.3304293155670166,
           0,
           0,
           0,
           0,
           0,
           0,
           0,
           0,
           0,
           0,
           0,
           0,
           0,
           0,
           0,
           0,
           0,
           0
          ],
          [
           1.061997652053833,
           -1.762763500213623,
           -1.758257508277893,
           -1.7521370649337769,
           -1.7344820499420166,
           -1.696165919303894,
           -1.6803741455078125,
           -1.6623828411102295,
           -1.5988973379135132,
           -1.558061122894287,
           -1.5368081331253052,
           -1.501780390739441,
           -1.4592033624649048,
           -1.448928713798523,
           -1.4252997636795044,
           -1.3527969121932983,
           -1.346564769744873,
           -1.2952661514282227,
           -1.2340598106384277,
           0,
           0,
           0,
           0,
           0,
           0,
           0,
           0,
           0,
           0,
           0,
           0,
           0,
           0,
           0,
           0,
           0
          ],
          [
           1.0676623582839966,
           -1.776457667350769,
           -1.776568055152893,
           -1.7721548080444336,
           -1.7621307373046875,
           -1.7185057401657104,
           -1.7025283575057983,
           -1.682173252105713,
           -1.6162667274475098,
           -1.5748374462127686,
           -1.5622886419296265,
           -1.5212624073028564,
           -1.485285997390747,
           -1.4720118045806885,
           -1.4405838251113892,
           -1.3778387308120728,
           -1.3721137046813965,
           -1.3279038667678833,
           -1.2663253545761108,
           -1.2393686771392822,
           0,
           0,
           0,
           0,
           0,
           0,
           0,
           0,
           0,
           0,
           0,
           0,
           0,
           0,
           0,
           0
          ],
          [
           1.041832447052002,
           -1.7384165525436401,
           -1.740282654762268,
           -1.7367265224456787,
           -1.7238229513168335,
           -1.6820868253707886,
           -1.6715739965438843,
           -1.6539435386657715,
           -1.589232087135315,
           -1.548182725906372,
           -1.530200719833374,
           -1.4956239461898804,
           -1.4611355066299438,
           -1.4517817497253418,
           -1.4213900566101074,
           -1.3573719263076782,
           -1.3509368896484375,
           -1.3028591871261597,
           -1.2353675365447998,
           -1.2135562896728516,
           -1.1781423091888428,
           0,
           0,
           0,
           0,
           0,
           0,
           0,
           0,
           0,
           0,
           0,
           0,
           0,
           0,
           0
          ],
          [
           1.0621577501296997,
           -1.7256978750228882,
           -1.7320525646209717,
           -1.7289588451385498,
           -1.7251626253128052,
           -1.6860898733139038,
           -1.6697001457214355,
           -1.6487607955932617,
           -1.590026617050171,
           -1.5468289852142334,
           -1.5378724336624146,
           -1.5078647136688232,
           -1.4720079898834229,
           -1.4600239992141724,
           -1.432586431503296,
           -1.3693846464157104,
           -1.3632413148880005,
           -1.3135480880737305,
           -1.2501258850097656,
           -1.2223076820373535,
           -1.1878995895385742,
           -1.2528775930404663,
           0,
           0,
           0,
           0,
           0,
           0,
           0,
           0,
           0,
           0,
           0,
           0,
           0,
           0
          ],
          [
           1.0285775661468506,
           -1.7611392736434937,
           -1.7831553220748901,
           -1.7797430753707886,
           -1.768018126487732,
           -1.7320104837417603,
           -1.7127009630203247,
           -1.6989067792892456,
           -1.6404451131820679,
           -1.6011825799942017,
           -1.588714361190796,
           -1.5599000453948975,
           -1.5245535373687744,
           -1.5182147026062012,
           -1.4984002113342285,
           -1.4321447610855103,
           -1.424663782119751,
           -1.3699215650558472,
           -1.3111838102340698,
           -1.2871474027633667,
           -1.2565176486968994,
           -1.305626392364502,
           -1.2412198781967163,
           0,
           0,
           0,
           0,
           0,
           0,
           0,
           0,
           0,
           0,
           0,
           0,
           0
          ],
          [
           1.0989190340042114,
           -1.685220718383789,
           -1.702303171157837,
           -1.7154719829559326,
           -1.7096339464187622,
           -1.6729291677474976,
           -1.6547350883483887,
           -1.640744686126709,
           -1.5870252847671509,
           -1.5463107824325562,
           -1.5433461666107178,
           -1.515608310699463,
           -1.4796653985977173,
           -1.4727693796157837,
           -1.459281086921692,
           -1.3892369270324707,
           -1.3934553861618042,
           -1.3400698900222778,
           -1.2819654941558838,
           -1.2567683458328247,
           -1.227121114730835,
           -1.28390634059906,
           -1.214316725730896,
           -1.226185917854309,
           0,
           0,
           0,
           0,
           0,
           0,
           0,
           0,
           0,
           0,
           0,
           0
          ],
          [
           1.1664493083953857,
           -1.6559557914733887,
           -1.680396556854248,
           -1.6901748180389404,
           -1.6699161529541016,
           -1.6393330097198486,
           -1.6257445812225342,
           -1.6101213693618774,
           -1.5607116222381592,
           -1.5235434770584106,
           -1.5174241065979004,
           -1.493048906326294,
           -1.455802083015442,
           -1.4469265937805176,
           -1.4327696561813354,
           -1.3733590841293335,
           -1.3719286918640137,
           -1.3244564533233643,
           -1.2660205364227295,
           -1.2443677186965942,
           -1.2135580778121948,
           -1.26655912399292,
           -1.2005643844604492,
           -1.2034008502960205,
           -1.1880217790603638,
           0,
           0,
           0,
           0,
           0,
           0,
           0,
           0,
           0,
           0,
           0
          ],
          [
           1.1150298118591309,
           -1.6711734533309937,
           -1.6733957529067993,
           -1.6825625896453857,
           -1.6593579053878784,
           -1.6285020112991333,
           -1.6202833652496338,
           -1.5984612703323364,
           -1.5500614643096924,
           -1.5086230039596558,
           -1.498438835144043,
           -1.4822547435760498,
           -1.4451556205749512,
           -1.4367419481277466,
           -1.4190335273742676,
           -1.3645237684249878,
           -1.3609294891357422,
           -1.3130567073822021,
           -1.2530169486999512,
           -1.2187674045562744,
           -1.195563793182373,
           -1.2462103366851807,
           -1.1823039054870605,
           -1.1828773021697998,
           -1.160895824432373,
           -1.1664706468582153,
           0,
           0,
           0,
           0,
           0,
           0,
           0,
           0,
           0,
           0
          ],
          [
           1.1248990297317505,
           -1.662086009979248,
           -1.6632624864578247,
           -1.6807175874710083,
           -1.6587560176849365,
           -1.6256341934204102,
           -1.6171364784240723,
           -1.5952552556991577,
           -1.5479075908660889,
           -1.5097007751464844,
           -1.5041015148162842,
           -1.4842987060546875,
           -1.4450539350509644,
           -1.4449114799499512,
           -1.4322234392166138,
           -1.371606707572937,
           -1.3724850416183472,
           -1.3236290216445923,
           -1.2695733308792114,
           -1.240351676940918,
           -1.2192589044570923,
           -1.2616175413131714,
           -1.1977742910385132,
           -1.1952451467514038,
           -1.1800960302352905,
           -1.181471347808838,
           -1.1511541604995728,
           0,
           0,
           0,
           0,
           0,
           0,
           0,
           0,
           0
          ],
          [
           1.1162257194519043,
           -1.6800119876861572,
           -1.6729999780654907,
           -1.6989136934280396,
           -1.6805808544158936,
           -1.6551064252853394,
           -1.6424139738082886,
           -1.6238425970077515,
           -1.5818324089050293,
           -1.5392957925796509,
           -1.531636357307434,
           -1.5114023685455322,
           -1.471523642539978,
           -1.4733452796936035,
           -1.4618343114852905,
           -1.3997697830200195,
           -1.3944071531295776,
           -1.3481954336166382,
           -1.2909013032913208,
           -1.2675206661224365,
           -1.2413296699523926,
           -1.288563847541809,
           -1.2242748737335205,
           -1.2190606594085693,
           -1.2062102556228638,
           -1.203715205192566,
           -1.1669656038284302,
           -1.1701828241348267,
           0,
           0,
           0,
           0,
           0,
           0,
           0,
           0
          ],
          [
           1.1595871448516846,
           -1.6510213613510132,
           -1.660111427307129,
           -1.6823574304580688,
           -1.6655335426330566,
           -1.6321337223052979,
           -1.6286848783493042,
           -1.6054818630218506,
           -1.566949725151062,
           -1.526235818862915,
           -1.5233418941497803,
           -1.5077189207077026,
           -1.4775660037994385,
           -1.4730161428451538,
           -1.4582509994506836,
           -1.4096037149429321,
           -1.404293179512024,
           -1.3618814945220947,
           -1.302078127861023,
           -1.2734551429748535,
           -1.2583192586898804,
           -1.2919378280639648,
           -1.2410808801651,
           -1.2292910814285278,
           -1.2119585275650024,
           -1.2149983644485474,
           -1.186491847038269,
           -1.1844861507415771,
           -1.1465084552764893,
           0,
           0,
           0,
           0,
           0,
           0,
           0
          ],
          [
           1.151813268661499,
           -1.68211829662323,
           -1.6756882667541504,
           -1.6911165714263916,
           -1.6725860834121704,
           -1.642833948135376,
           -1.632789134979248,
           -1.6066290140151978,
           -1.5694382190704346,
           -1.53117835521698,
           -1.5253627300262451,
           -1.50986909866333,
           -1.4778199195861816,
           -1.4761719703674316,
           -1.468294382095337,
           -1.4050161838531494,
           -1.4108942747116089,
           -1.3585467338562012,
           -1.3025394678115845,
           -1.2822188138961792,
           -1.2623306512832642,
           -1.304059386253357,
           -1.244478702545166,
           -1.2479013204574585,
           -1.2273610830307007,
           -1.224785566329956,
           -1.195289969444275,
           -1.1892743110656738,
           -1.1492137908935547,
           -1.0804848670959473,
           0,
           0,
           0,
           0,
           0,
           0
          ],
          [
           1.1296361684799194,
           -1.6777397394180298,
           -1.6908414363861084,
           -1.7088768482208252,
           -1.6954678297042847,
           -1.6628248691558838,
           -1.6518923044204712,
           -1.632307529449463,
           -1.5920515060424805,
           -1.5561729669570923,
           -1.55728280544281,
           -1.5412660837173462,
           -1.5067678689956665,
           -1.5035943984985352,
           -1.4947057962417603,
           -1.4329723119735718,
           -1.4413357973098755,
           -1.3867788314819336,
           -1.3351823091506958,
           -1.3145477771759033,
           -1.289028286933899,
           -1.3308367729187012,
           -1.2761123180389404,
           -1.2738298177719116,
           -1.256999135017395,
           -1.256411075592041,
           -1.2266510725021362,
           -1.2171539068222046,
           -1.179658055305481,
           -1.1068509817123413,
           -1.1213290691375732,
           0,
           0,
           0,
           0,
           0
          ],
          [
           1.0970244407653809,
           -1.6701160669326782,
           -1.6719951629638672,
           -1.689913272857666,
           -1.673440933227539,
           -1.648250699043274,
           -1.640243649482727,
           -1.6188380718231201,
           -1.5789622068405151,
           -1.5399852991104126,
           -1.536089301109314,
           -1.5260294675827026,
           -1.4910842180252075,
           -1.4889726638793945,
           -1.472118854522705,
           -1.4220080375671387,
           -1.4202276468276978,
           -1.372456669807434,
           -1.3163498640060425,
           -1.2848656177520752,
           -1.2627167701721191,
           -1.3018299341201782,
           -1.2488598823547363,
           -1.2381342649459839,
           -1.222408413887024,
           -1.2211624383926392,
           -1.1915926933288574,
           -1.1880054473876953,
           -1.15373957157135,
           -1.0733351707458496,
           -1.0884060859680176,
           -1.0527012348175049,
           0,
           0,
           0,
           0
          ],
          [
           1.1473891735076904,
           -1.6741228103637695,
           -1.694148063659668,
           -1.7215538024902344,
           -1.7018873691558838,
           -1.6759214401245117,
           -1.6627116203308105,
           -1.6472694873809814,
           -1.6162663698196411,
           -1.5811567306518555,
           -1.5754284858703613,
           -1.5651601552963257,
           -1.5285091400146484,
           -1.5298417806625366,
           -1.5227575302124023,
           -1.467881202697754,
           -1.4638564586639404,
           -1.4106272459030151,
           -1.3590301275253296,
           -1.3414463996887207,
           -1.317391037940979,
           -1.3588124513626099,
           -1.3052711486816406,
           -1.3009555339813232,
           -1.2880817651748657,
           -1.2816219329833984,
           -1.2588294744491577,
           -1.2487770318984985,
           -1.2137552499771118,
           -1.1424424648284912,
           -1.1516761779785156,
           -1.1161707639694214,
           -1.0662521123886108,
           0,
           0,
           0
          ],
          [
           1.1513429880142212,
           -1.633515477180481,
           -1.6445624828338623,
           -1.6762068271636963,
           -1.6611298322677612,
           -1.6333091259002686,
           -1.6255483627319336,
           -1.6005146503448486,
           -1.5716384649276733,
           -1.5314784049987793,
           -1.5316044092178345,
           -1.5272293090820312,
           -1.4896268844604492,
           -1.4923344850540161,
           -1.4833569526672363,
           -1.4259319305419922,
           -1.431878685951233,
           -1.3792890310287476,
           -1.3256101608276367,
           -1.3015005588531494,
           -1.2831616401672363,
           -1.3231444358825684,
           -1.2702170610427856,
           -1.2647998332977295,
           -1.2494207620620728,
           -1.244541883468628,
           -1.2187138795852661,
           -1.2150334119796753,
           -1.1776431798934937,
           -1.0991981029510498,
           -1.1137927770614624,
           -1.0787959098815918,
           -1.0287675857543945,
           -1.028786063194275,
           0,
           0
          ],
          [
           1.062190055847168,
           -1.7213486433029175,
           -1.7396093606948853,
           -1.7703349590301514,
           -1.750895380973816,
           -1.7148691415786743,
           -1.6992065906524658,
           -1.6864758729934692,
           -1.6543867588043213,
           -1.6147887706756592,
           -1.6135462522506714,
           -1.6013298034667969,
           -1.5679717063903809,
           -1.5659147500991821,
           -1.5588736534118652,
           -1.503699779510498,
           -1.5016871690750122,
           -1.4538471698760986,
           -1.4033094644546509,
           -1.38056218624115,
           -1.3610819578170776,
           -1.403481364250183,
           -1.350080132484436,
           -1.345858097076416,
           -1.3321975469589233,
           -1.332238793373108,
           -1.3139145374298096,
           -1.301565170288086,
           -1.2709954977035522,
           -1.1951491832733154,
           -1.2083430290222168,
           -1.1796272993087769,
           -1.1292197704315186,
           -1.1166599988937378,
           -1.0948164463043213,
           0
          ],
          [
           1.0608237981796265,
           -1.7068819999694824,
           -1.7130725383758545,
           -1.7394112348556519,
           -1.7105084657669067,
           -1.6775072813034058,
           -1.6693289279937744,
           -1.6507177352905273,
           -1.6178501844406128,
           -1.5776357650756836,
           -1.571747064590454,
           -1.5663583278656006,
           -1.5307685136795044,
           -1.5300036668777466,
           -1.521662712097168,
           -1.467132806777954,
           -1.474287986755371,
           -1.4259673357009888,
           -1.367676854133606,
           -1.3401416540145874,
           -1.3214025497436523,
           -1.359636664390564,
           -1.3090108633041382,
           -1.3010085821151733,
           -1.2864965200424194,
           -1.2859042882919312,
           -1.2653907537460327,
           -1.2604246139526367,
           -1.226744294166565,
           -1.1483078002929688,
           -1.1594923734664917,
           -1.1258236169815063,
           -1.0763444900512695,
           -1.069330096244812,
           -1.0361055135726929,
           -0.9735956788063049
          ]
         ]
        }
       ],
       "layout": {
        "autosize": true,
        "coloraxis": {
         "colorscale": [
          [
           0,
           "#0d0887"
          ],
          [
           0.1111111111111111,
           "#46039f"
          ],
          [
           0.2222222222222222,
           "#7201a8"
          ],
          [
           0.3333333333333333,
           "#9c179e"
          ],
          [
           0.4444444444444444,
           "#bd3786"
          ],
          [
           0.5555555555555556,
           "#d8576b"
          ],
          [
           0.6666666666666666,
           "#ed7953"
          ],
          [
           0.7777777777777778,
           "#fb9f3a"
          ],
          [
           0.8888888888888888,
           "#fdca26"
          ],
          [
           1,
           "#f0f921"
          ]
         ]
        },
        "margin": {
         "t": 60
        },
        "template": {
         "data": {
          "bar": [
           {
            "error_x": {
             "color": "#2a3f5f"
            },
            "error_y": {
             "color": "#2a3f5f"
            },
            "marker": {
             "line": {
              "color": "#E5ECF6",
              "width": 0.5
             },
             "pattern": {
              "fillmode": "overlay",
              "size": 10,
              "solidity": 0.2
             }
            },
            "type": "bar"
           }
          ],
          "barpolar": [
           {
            "marker": {
             "line": {
              "color": "#E5ECF6",
              "width": 0.5
             },
             "pattern": {
              "fillmode": "overlay",
              "size": 10,
              "solidity": 0.2
             }
            },
            "type": "barpolar"
           }
          ],
          "carpet": [
           {
            "aaxis": {
             "endlinecolor": "#2a3f5f",
             "gridcolor": "white",
             "linecolor": "white",
             "minorgridcolor": "white",
             "startlinecolor": "#2a3f5f"
            },
            "baxis": {
             "endlinecolor": "#2a3f5f",
             "gridcolor": "white",
             "linecolor": "white",
             "minorgridcolor": "white",
             "startlinecolor": "#2a3f5f"
            },
            "type": "carpet"
           }
          ],
          "choropleth": [
           {
            "colorbar": {
             "outlinewidth": 0,
             "ticks": ""
            },
            "type": "choropleth"
           }
          ],
          "contour": [
           {
            "colorbar": {
             "outlinewidth": 0,
             "ticks": ""
            },
            "colorscale": [
             [
              0,
              "#0d0887"
             ],
             [
              0.1111111111111111,
              "#46039f"
             ],
             [
              0.2222222222222222,
              "#7201a8"
             ],
             [
              0.3333333333333333,
              "#9c179e"
             ],
             [
              0.4444444444444444,
              "#bd3786"
             ],
             [
              0.5555555555555556,
              "#d8576b"
             ],
             [
              0.6666666666666666,
              "#ed7953"
             ],
             [
              0.7777777777777778,
              "#fb9f3a"
             ],
             [
              0.8888888888888888,
              "#fdca26"
             ],
             [
              1,
              "#f0f921"
             ]
            ],
            "type": "contour"
           }
          ],
          "contourcarpet": [
           {
            "colorbar": {
             "outlinewidth": 0,
             "ticks": ""
            },
            "type": "contourcarpet"
           }
          ],
          "heatmap": [
           {
            "colorbar": {
             "outlinewidth": 0,
             "ticks": ""
            },
            "colorscale": [
             [
              0,
              "#0d0887"
             ],
             [
              0.1111111111111111,
              "#46039f"
             ],
             [
              0.2222222222222222,
              "#7201a8"
             ],
             [
              0.3333333333333333,
              "#9c179e"
             ],
             [
              0.4444444444444444,
              "#bd3786"
             ],
             [
              0.5555555555555556,
              "#d8576b"
             ],
             [
              0.6666666666666666,
              "#ed7953"
             ],
             [
              0.7777777777777778,
              "#fb9f3a"
             ],
             [
              0.8888888888888888,
              "#fdca26"
             ],
             [
              1,
              "#f0f921"
             ]
            ],
            "type": "heatmap"
           }
          ],
          "heatmapgl": [
           {
            "colorbar": {
             "outlinewidth": 0,
             "ticks": ""
            },
            "colorscale": [
             [
              0,
              "#0d0887"
             ],
             [
              0.1111111111111111,
              "#46039f"
             ],
             [
              0.2222222222222222,
              "#7201a8"
             ],
             [
              0.3333333333333333,
              "#9c179e"
             ],
             [
              0.4444444444444444,
              "#bd3786"
             ],
             [
              0.5555555555555556,
              "#d8576b"
             ],
             [
              0.6666666666666666,
              "#ed7953"
             ],
             [
              0.7777777777777778,
              "#fb9f3a"
             ],
             [
              0.8888888888888888,
              "#fdca26"
             ],
             [
              1,
              "#f0f921"
             ]
            ],
            "type": "heatmapgl"
           }
          ],
          "histogram": [
           {
            "marker": {
             "pattern": {
              "fillmode": "overlay",
              "size": 10,
              "solidity": 0.2
             }
            },
            "type": "histogram"
           }
          ],
          "histogram2d": [
           {
            "colorbar": {
             "outlinewidth": 0,
             "ticks": ""
            },
            "colorscale": [
             [
              0,
              "#0d0887"
             ],
             [
              0.1111111111111111,
              "#46039f"
             ],
             [
              0.2222222222222222,
              "#7201a8"
             ],
             [
              0.3333333333333333,
              "#9c179e"
             ],
             [
              0.4444444444444444,
              "#bd3786"
             ],
             [
              0.5555555555555556,
              "#d8576b"
             ],
             [
              0.6666666666666666,
              "#ed7953"
             ],
             [
              0.7777777777777778,
              "#fb9f3a"
             ],
             [
              0.8888888888888888,
              "#fdca26"
             ],
             [
              1,
              "#f0f921"
             ]
            ],
            "type": "histogram2d"
           }
          ],
          "histogram2dcontour": [
           {
            "colorbar": {
             "outlinewidth": 0,
             "ticks": ""
            },
            "colorscale": [
             [
              0,
              "#0d0887"
             ],
             [
              0.1111111111111111,
              "#46039f"
             ],
             [
              0.2222222222222222,
              "#7201a8"
             ],
             [
              0.3333333333333333,
              "#9c179e"
             ],
             [
              0.4444444444444444,
              "#bd3786"
             ],
             [
              0.5555555555555556,
              "#d8576b"
             ],
             [
              0.6666666666666666,
              "#ed7953"
             ],
             [
              0.7777777777777778,
              "#fb9f3a"
             ],
             [
              0.8888888888888888,
              "#fdca26"
             ],
             [
              1,
              "#f0f921"
             ]
            ],
            "type": "histogram2dcontour"
           }
          ],
          "mesh3d": [
           {
            "colorbar": {
             "outlinewidth": 0,
             "ticks": ""
            },
            "type": "mesh3d"
           }
          ],
          "parcoords": [
           {
            "line": {
             "colorbar": {
              "outlinewidth": 0,
              "ticks": ""
             }
            },
            "type": "parcoords"
           }
          ],
          "pie": [
           {
            "automargin": true,
            "type": "pie"
           }
          ],
          "scatter": [
           {
            "marker": {
             "colorbar": {
              "outlinewidth": 0,
              "ticks": ""
             }
            },
            "type": "scatter"
           }
          ],
          "scatter3d": [
           {
            "line": {
             "colorbar": {
              "outlinewidth": 0,
              "ticks": ""
             }
            },
            "marker": {
             "colorbar": {
              "outlinewidth": 0,
              "ticks": ""
             }
            },
            "type": "scatter3d"
           }
          ],
          "scattercarpet": [
           {
            "marker": {
             "colorbar": {
              "outlinewidth": 0,
              "ticks": ""
             }
            },
            "type": "scattercarpet"
           }
          ],
          "scattergeo": [
           {
            "marker": {
             "colorbar": {
              "outlinewidth": 0,
              "ticks": ""
             }
            },
            "type": "scattergeo"
           }
          ],
          "scattergl": [
           {
            "marker": {
             "colorbar": {
              "outlinewidth": 0,
              "ticks": ""
             }
            },
            "type": "scattergl"
           }
          ],
          "scattermapbox": [
           {
            "marker": {
             "colorbar": {
              "outlinewidth": 0,
              "ticks": ""
             }
            },
            "type": "scattermapbox"
           }
          ],
          "scatterpolar": [
           {
            "marker": {
             "colorbar": {
              "outlinewidth": 0,
              "ticks": ""
             }
            },
            "type": "scatterpolar"
           }
          ],
          "scatterpolargl": [
           {
            "marker": {
             "colorbar": {
              "outlinewidth": 0,
              "ticks": ""
             }
            },
            "type": "scatterpolargl"
           }
          ],
          "scatterternary": [
           {
            "marker": {
             "colorbar": {
              "outlinewidth": 0,
              "ticks": ""
             }
            },
            "type": "scatterternary"
           }
          ],
          "surface": [
           {
            "colorbar": {
             "outlinewidth": 0,
             "ticks": ""
            },
            "colorscale": [
             [
              0,
              "#0d0887"
             ],
             [
              0.1111111111111111,
              "#46039f"
             ],
             [
              0.2222222222222222,
              "#7201a8"
             ],
             [
              0.3333333333333333,
              "#9c179e"
             ],
             [
              0.4444444444444444,
              "#bd3786"
             ],
             [
              0.5555555555555556,
              "#d8576b"
             ],
             [
              0.6666666666666666,
              "#ed7953"
             ],
             [
              0.7777777777777778,
              "#fb9f3a"
             ],
             [
              0.8888888888888888,
              "#fdca26"
             ],
             [
              1,
              "#f0f921"
             ]
            ],
            "type": "surface"
           }
          ],
          "table": [
           {
            "cells": {
             "fill": {
              "color": "#EBF0F8"
             },
             "line": {
              "color": "white"
             }
            },
            "header": {
             "fill": {
              "color": "#C8D4E3"
             },
             "line": {
              "color": "white"
             }
            },
            "type": "table"
           }
          ]
         },
         "layout": {
          "annotationdefaults": {
           "arrowcolor": "#2a3f5f",
           "arrowhead": 0,
           "arrowwidth": 1
          },
          "autotypenumbers": "strict",
          "coloraxis": {
           "colorbar": {
            "outlinewidth": 0,
            "ticks": ""
           }
          },
          "colorscale": {
           "diverging": [
            [
             0,
             "#8e0152"
            ],
            [
             0.1,
             "#c51b7d"
            ],
            [
             0.2,
             "#de77ae"
            ],
            [
             0.3,
             "#f1b6da"
            ],
            [
             0.4,
             "#fde0ef"
            ],
            [
             0.5,
             "#f7f7f7"
            ],
            [
             0.6,
             "#e6f5d0"
            ],
            [
             0.7,
             "#b8e186"
            ],
            [
             0.8,
             "#7fbc41"
            ],
            [
             0.9,
             "#4d9221"
            ],
            [
             1,
             "#276419"
            ]
           ],
           "sequential": [
            [
             0,
             "#0d0887"
            ],
            [
             0.1111111111111111,
             "#46039f"
            ],
            [
             0.2222222222222222,
             "#7201a8"
            ],
            [
             0.3333333333333333,
             "#9c179e"
            ],
            [
             0.4444444444444444,
             "#bd3786"
            ],
            [
             0.5555555555555556,
             "#d8576b"
            ],
            [
             0.6666666666666666,
             "#ed7953"
            ],
            [
             0.7777777777777778,
             "#fb9f3a"
            ],
            [
             0.8888888888888888,
             "#fdca26"
            ],
            [
             1,
             "#f0f921"
            ]
           ],
           "sequentialminus": [
            [
             0,
             "#0d0887"
            ],
            [
             0.1111111111111111,
             "#46039f"
            ],
            [
             0.2222222222222222,
             "#7201a8"
            ],
            [
             0.3333333333333333,
             "#9c179e"
            ],
            [
             0.4444444444444444,
             "#bd3786"
            ],
            [
             0.5555555555555556,
             "#d8576b"
            ],
            [
             0.6666666666666666,
             "#ed7953"
            ],
            [
             0.7777777777777778,
             "#fb9f3a"
            ],
            [
             0.8888888888888888,
             "#fdca26"
            ],
            [
             1,
             "#f0f921"
            ]
           ]
          },
          "colorway": [
           "#636efa",
           "#EF553B",
           "#00cc96",
           "#ab63fa",
           "#FFA15A",
           "#19d3f3",
           "#FF6692",
           "#B6E880",
           "#FF97FF",
           "#FECB52"
          ],
          "font": {
           "color": "#2a3f5f"
          },
          "geo": {
           "bgcolor": "white",
           "lakecolor": "white",
           "landcolor": "#E5ECF6",
           "showlakes": true,
           "showland": true,
           "subunitcolor": "white"
          },
          "hoverlabel": {
           "align": "left"
          },
          "hovermode": "closest",
          "mapbox": {
           "style": "light"
          },
          "paper_bgcolor": "white",
          "plot_bgcolor": "#E5ECF6",
          "polar": {
           "angularaxis": {
            "gridcolor": "white",
            "linecolor": "white",
            "ticks": ""
           },
           "bgcolor": "#E5ECF6",
           "radialaxis": {
            "gridcolor": "white",
            "linecolor": "white",
            "ticks": ""
           }
          },
          "scene": {
           "xaxis": {
            "backgroundcolor": "#E5ECF6",
            "gridcolor": "white",
            "gridwidth": 2,
            "linecolor": "white",
            "showbackground": true,
            "ticks": "",
            "zerolinecolor": "white"
           },
           "yaxis": {
            "backgroundcolor": "#E5ECF6",
            "gridcolor": "white",
            "gridwidth": 2,
            "linecolor": "white",
            "showbackground": true,
            "ticks": "",
            "zerolinecolor": "white"
           },
           "zaxis": {
            "backgroundcolor": "#E5ECF6",
            "gridcolor": "white",
            "gridwidth": 2,
            "linecolor": "white",
            "showbackground": true,
            "ticks": "",
            "zerolinecolor": "white"
           }
          },
          "shapedefaults": {
           "line": {
            "color": "#2a3f5f"
           }
          },
          "ternary": {
           "aaxis": {
            "gridcolor": "white",
            "linecolor": "white",
            "ticks": ""
           },
           "baxis": {
            "gridcolor": "white",
            "linecolor": "white",
            "ticks": ""
           },
           "bgcolor": "#E5ECF6",
           "caxis": {
            "gridcolor": "white",
            "linecolor": "white",
            "ticks": ""
           }
          },
          "title": {
           "x": 0.05
          },
          "xaxis": {
           "automargin": true,
           "gridcolor": "white",
           "linecolor": "white",
           "ticks": "",
           "title": {
            "standoff": 15
           },
           "zerolinecolor": "white",
           "zerolinewidth": 2
          },
          "yaxis": {
           "automargin": true,
           "gridcolor": "white",
           "linecolor": "white",
           "ticks": "",
           "title": {
            "standoff": 15
           },
           "zerolinecolor": "white",
           "zerolinewidth": 2
          }
         }
        },
        "xaxis": {
         "anchor": "y",
         "autorange": true,
         "constrain": "domain",
         "domain": [
          0.4035087719298246,
          0.5964912280701754
         ],
         "range": [
          -0.5,
          35.5
         ],
         "scaleanchor": "y"
        },
        "yaxis": {
         "anchor": "x",
         "autorange": true,
         "constrain": "domain",
         "domain": [
          0,
          1
         ],
         "range": [
          35.5,
          -0.5
         ]
        }
       }
      },
      "image/png": "[encoded data removed]",
      "text/html": [
       "<div>                            <div id=\"1ff17b38-fdc5-471e-a39e-5bfdecaed065\" class=\"plotly-graph-div\" style=\"height:525px; width:100%;\"></div>            <script type=\"text/javascript\">                require([\"plotly\"], function(Plotly) {                    window.PLOTLYENV=window.PLOTLYENV || {};                                    if (document.getElementById(\"1ff17b38-fdc5-471e-a39e-5bfdecaed065\")) {                    Plotly.newPlot(                        \"1ff17b38-fdc5-471e-a39e-5bfdecaed065\",                        [{\"coloraxis\":\"coloraxis\",\"name\":\"0\",\"texttemplate\":\"%{z}\",\"z\":[[-5.091921329498291,0.0,0.0,0.0,0.0,0.0,0.0,0.0,0.0,0.0,0.0,0.0,0.0,0.0,0.0,0.0,0.0,0.0,0.0,0.0,0.0,0.0,0.0,0.0,0.0,0.0,0.0,0.0,0.0,0.0,0.0,0.0,0.0,0.0,0.0,0.0],[1.90188467502594,-1.0595755577087402,0.0,0.0,0.0,0.0,0.0,0.0,0.0,0.0,0.0,0.0,0.0,0.0,0.0,0.0,0.0,0.0,0.0,0.0,0.0,0.0,0.0,0.0,0.0,0.0,0.0,0.0,0.0,0.0,0.0,0.0,0.0,0.0,0.0,0.0],[0.9614365696907043,-1.7105112075805664,-1.619986653327942,0.0,0.0,0.0,0.0,0.0,0.0,0.0,0.0,0.0,0.0,0.0,0.0,0.0,0.0,0.0,0.0,0.0,0.0,0.0,0.0,0.0,0.0,0.0,0.0,0.0,0.0,0.0,0.0,0.0,0.0,0.0,0.0,0.0],[1.0321483612060547,-1.6133289337158203,-1.5275044441223145,-1.5231178998947144,0.0,0.0,0.0,0.0,0.0,0.0,0.0,0.0,0.0,0.0,0.0,0.0,0.0,0.0,0.0,0.0,0.0,0.0,0.0,0.0,0.0,0.0,0.0,0.0,0.0,0.0,0.0,0.0,0.0,0.0,0.0,0.0],[0.9053633213043213,-1.7823718786239624,-1.7004368305206299,-1.6516011953353882,-1.6058858633041382,0.0,0.0,0.0,0.0,0.0,0.0,0.0,0.0,0.0,0.0,0.0,0.0,0.0,0.0,0.0,0.0,0.0,0.0,0.0,0.0,0.0,0.0,0.0,0.0,0.0,0.0,0.0,0.0,0.0,0.0,0.0],[0.8156672120094299,-1.8144659996032715,-1.7081657648086548,-1.6692864894866943,-1.6316242218017578,-1.5972974300384521,0.0,0.0,0.0,0.0,0.0,0.0,0.0,0.0,0.0,0.0,0.0,0.0,0.0,0.0,0.0,0.0,0.0,0.0,0.0,0.0,0.0,0.0,0.0,0.0,0.0,0.0,0.0,0.0,0.0,0.0],[0.8233795166015625,-1.8353816270828247,-1.7738943099975586,-1.7474850416183472,-1.7160604000091553,-1.6770879030227661,-1.6312103271484375,0.0,0.0,0.0,0.0,0.0,0.0,0.0,0.0,0.0,0.0,0.0,0.0,0.0,0.0,0.0,0.0,0.0,0.0,0.0,0.0,0.0,0.0,0.0,0.0,0.0,0.0,0.0,0.0,0.0],[0.7359866499900818,-1.979866623878479,-1.9337830543518066,-1.8945035934448242,-1.8674179315567017,-1.8231375217437744,-1.7833625078201294,-1.7335360050201416,0.0,0.0,0.0,0.0,0.0,0.0,0.0,0.0,0.0,0.0,0.0,0.0,0.0,0.0,0.0,0.0,0.0,0.0,0.0,0.0,0.0,0.0,0.0,0.0,0.0,0.0,0.0,0.0],[0.8413985371589661,-1.9419054985046387,-1.8945646286010742,-1.8558849096298218,-1.8306859731674194,-1.7808541059494019,-1.742816686630249,-1.6911379098892212,-1.588423490524292,0.0,0.0,0.0,0.0,0.0,0.0,0.0,0.0,0.0,0.0,0.0,0.0,0.0,0.0,0.0,0.0,0.0,0.0,0.0,0.0,0.0,0.0,0.0,0.0,0.0,0.0,0.0],[0.8520087599754333,-1.901548147201538,-1.8711422681808472,-1.8311229944229126,-1.8112307786941528,-1.7571513652801514,-1.724055528640747,-1.6792922019958496,-1.5741952657699585,-1.534143328666687,0.0,0.0,0.0,0.0,0.0,0.0,0.0,0.0,0.0,0.0,0.0,0.0,0.0,0.0,0.0,0.0,0.0,0.0,0.0,0.0,0.0,0.0,0.0,0.0,0.0,0.0],[0.846315324306488,-1.9083036184310913,-1.8765087127685547,-1.841662049293518,-1.8224831819534302,-1.7640273571014404,-1.735788106918335,-1.6867109537124634,-1.5796478986740112,-1.5351704359054565,-1.5038723945617676,0.0,0.0,0.0,0.0,0.0,0.0,0.0,0.0,0.0,0.0,0.0,0.0,0.0,0.0,0.0,0.0,0.0,0.0,0.0,0.0,0.0,0.0,0.0,0.0,0.0],[0.7720047831535339,-2.009798765182495,-1.9762918949127197,-1.9391909837722778,-1.9261202812194824,-1.8684653043746948,-1.8361868858337402,-1.79604971408844,-1.6910362243652344,-1.6432844400405884,-1.608468770980835,-1.5806832313537598,0.0,0.0,0.0,0.0,0.0,0.0,0.0,0.0,0.0,0.0,0.0,0.0,0.0,0.0,0.0,0.0,0.0,0.0,0.0,0.0,0.0,0.0,0.0,0.0],[0.8235262632369995,-1.895548701286316,-1.887052297592163,-1.8569284677505493,-1.850715160369873,-1.7901840209960938,-1.761383295059204,-1.7246832847595215,-1.6233924627304077,-1.5775163173675537,-1.5456397533416748,-1.5153882503509521,-1.4653757810592651,0.0,0.0,0.0,0.0,0.0,0.0,0.0,0.0,0.0,0.0,0.0,0.0,0.0,0.0,0.0,0.0,0.0,0.0,0.0,0.0,0.0,0.0,0.0],[0.8915989995002747,-1.9129765033721924,-1.8957654237747192,-1.8662842512130737,-1.8678630590438843,-1.809144377708435,-1.780151605606079,-1.744977355003357,-1.6506472826004028,-1.602425217628479,-1.576850175857544,-1.5301086902618408,-1.4904916286468506,-1.4750640392303467,0.0,0.0,0.0,0.0,0.0,0.0,0.0,0.0,0.0,0.0,0.0,0.0,0.0,0.0,0.0,0.0,0.0,0.0,0.0,0.0,0.0,0.0],[0.9465682506561279,-1.9056804180145264,-1.922178030014038,-1.890242576599121,-1.8874452114105225,-1.832200050354004,-1.8028919696807861,-1.7778186798095703,-1.685471534729004,-1.6388261318206787,-1.615881323814392,-1.575962781906128,-1.5365018844604492,-1.5141749382019043,-1.479669213294983,0.0,0.0,0.0,0.0,0.0,0.0,0.0,0.0,0.0,0.0,0.0,0.0,0.0,0.0,0.0,0.0,0.0,0.0,0.0,0.0,0.0],[0.9699127078056335,-1.8608238697052002,-1.8406347036361694,-1.8201252222061157,-1.8000041246414185,-1.7485411167144775,-1.7323389053344727,-1.7030353546142578,-1.618823766708374,-1.5763181447982788,-1.5465171337127686,-1.5028084516525269,-1.4630566835403442,-1.4487987756729126,-1.408664584159851,-1.347825527191162,0.0,0.0,0.0,0.0,0.0,0.0,0.0,0.0,0.0,0.0,0.0,0.0,0.0,0.0,0.0,0.0,0.0,0.0,0.0,0.0],[0.8483491539955139,-1.8587045669555664,-1.853818416595459,-1.8279063701629639,-1.8258360624313354,-1.7791932821273804,-1.7553551197052002,-1.7350826263427734,-1.6498446464538574,-1.6016929149627686,-1.5835882425308228,-1.5393180847167969,-1.5007669925689697,-1.4846376180648804,-1.4534885883331299,-1.3801240921020508,-1.3756047487258911,0.0,0.0,0.0,0.0,0.0,0.0,0.0,0.0,0.0,0.0,0.0,0.0,0.0,0.0,0.0,0.0,0.0,0.0,0.0],[0.9542728662490845,-1.7930084466934204,-1.8057852983474731,-1.7896482944488525,-1.785302758216858,-1.7417898178100586,-1.7210043668746948,-1.7028721570968628,-1.6349323987960815,-1.587341547012329,-1.571354866027832,-1.5341053009033203,-1.4955775737762451,-1.476629376411438,-1.4504902362823486,-1.3873869180679321,-1.3752567768096924,-1.3304293155670166,0.0,0.0,0.0,0.0,0.0,0.0,0.0,0.0,0.0,0.0,0.0,0.0,0.0,0.0,0.0,0.0,0.0,0.0],[1.061997652053833,-1.762763500213623,-1.758257508277893,-1.7521370649337769,-1.7344820499420166,-1.696165919303894,-1.6803741455078125,-1.6623828411102295,-1.5988973379135132,-1.558061122894287,-1.5368081331253052,-1.501780390739441,-1.4592033624649048,-1.448928713798523,-1.4252997636795044,-1.3527969121932983,-1.346564769744873,-1.2952661514282227,-1.2340598106384277,0.0,0.0,0.0,0.0,0.0,0.0,0.0,0.0,0.0,0.0,0.0,0.0,0.0,0.0,0.0,0.0,0.0],[1.0676623582839966,-1.776457667350769,-1.776568055152893,-1.7721548080444336,-1.7621307373046875,-1.7185057401657104,-1.7025283575057983,-1.682173252105713,-1.6162667274475098,-1.5748374462127686,-1.5622886419296265,-1.5212624073028564,-1.485285997390747,-1.4720118045806885,-1.4405838251113892,-1.3778387308120728,-1.3721137046813965,-1.3279038667678833,-1.2663253545761108,-1.2393686771392822,0.0,0.0,0.0,0.0,0.0,0.0,0.0,0.0,0.0,0.0,0.0,0.0,0.0,0.0,0.0,0.0],[1.041832447052002,-1.7384165525436401,-1.740282654762268,-1.7367265224456787,-1.7238229513168335,-1.6820868253707886,-1.6715739965438843,-1.6539435386657715,-1.589232087135315,-1.548182725906372,-1.530200719833374,-1.4956239461898804,-1.4611355066299438,-1.4517817497253418,-1.4213900566101074,-1.3573719263076782,-1.3509368896484375,-1.3028591871261597,-1.2353675365447998,-1.2135562896728516,-1.1781423091888428,0.0,0.0,0.0,0.0,0.0,0.0,0.0,0.0,0.0,0.0,0.0,0.0,0.0,0.0,0.0],[1.0621577501296997,-1.7256978750228882,-1.7320525646209717,-1.7289588451385498,-1.7251626253128052,-1.6860898733139038,-1.6697001457214355,-1.6487607955932617,-1.590026617050171,-1.5468289852142334,-1.5378724336624146,-1.5078647136688232,-1.4720079898834229,-1.4600239992141724,-1.432586431503296,-1.3693846464157104,-1.3632413148880005,-1.3135480880737305,-1.2501258850097656,-1.2223076820373535,-1.1878995895385742,-1.2528775930404663,0.0,0.0,0.0,0.0,0.0,0.0,0.0,0.0,0.0,0.0,0.0,0.0,0.0,0.0],[1.0285775661468506,-1.7611392736434937,-1.7831553220748901,-1.7797430753707886,-1.768018126487732,-1.7320104837417603,-1.7127009630203247,-1.6989067792892456,-1.6404451131820679,-1.6011825799942017,-1.588714361190796,-1.5599000453948975,-1.5245535373687744,-1.5182147026062012,-1.4984002113342285,-1.4321447610855103,-1.424663782119751,-1.3699215650558472,-1.3111838102340698,-1.2871474027633667,-1.2565176486968994,-1.305626392364502,-1.2412198781967163,0.0,0.0,0.0,0.0,0.0,0.0,0.0,0.0,0.0,0.0,0.0,0.0,0.0],[1.0989190340042114,-1.685220718383789,-1.702303171157837,-1.7154719829559326,-1.7096339464187622,-1.6729291677474976,-1.6547350883483887,-1.640744686126709,-1.5870252847671509,-1.5463107824325562,-1.5433461666107178,-1.515608310699463,-1.4796653985977173,-1.4727693796157837,-1.459281086921692,-1.3892369270324707,-1.3934553861618042,-1.3400698900222778,-1.2819654941558838,-1.2567683458328247,-1.227121114730835,-1.28390634059906,-1.214316725730896,-1.226185917854309,0.0,0.0,0.0,0.0,0.0,0.0,0.0,0.0,0.0,0.0,0.0,0.0],[1.1664493083953857,-1.6559557914733887,-1.680396556854248,-1.6901748180389404,-1.6699161529541016,-1.6393330097198486,-1.6257445812225342,-1.6101213693618774,-1.5607116222381592,-1.5235434770584106,-1.5174241065979004,-1.493048906326294,-1.455802083015442,-1.4469265937805176,-1.4327696561813354,-1.3733590841293335,-1.3719286918640137,-1.3244564533233643,-1.2660205364227295,-1.2443677186965942,-1.2135580778121948,-1.26655912399292,-1.2005643844604492,-1.2034008502960205,-1.1880217790603638,0.0,0.0,0.0,0.0,0.0,0.0,0.0,0.0,0.0,0.0,0.0],[1.1150298118591309,-1.6711734533309937,-1.6733957529067993,-1.6825625896453857,-1.6593579053878784,-1.6285020112991333,-1.6202833652496338,-1.5984612703323364,-1.5500614643096924,-1.5086230039596558,-1.498438835144043,-1.4822547435760498,-1.4451556205749512,-1.4367419481277466,-1.4190335273742676,-1.3645237684249878,-1.3609294891357422,-1.3130567073822021,-1.2530169486999512,-1.2187674045562744,-1.195563793182373,-1.2462103366851807,-1.1823039054870605,-1.1828773021697998,-1.160895824432373,-1.1664706468582153,0.0,0.0,0.0,0.0,0.0,0.0,0.0,0.0,0.0,0.0],[1.1248990297317505,-1.662086009979248,-1.6632624864578247,-1.6807175874710083,-1.6587560176849365,-1.6256341934204102,-1.6171364784240723,-1.5952552556991577,-1.5479075908660889,-1.5097007751464844,-1.5041015148162842,-1.4842987060546875,-1.4450539350509644,-1.4449114799499512,-1.4322234392166138,-1.371606707572937,-1.3724850416183472,-1.3236290216445923,-1.2695733308792114,-1.240351676940918,-1.2192589044570923,-1.2616175413131714,-1.1977742910385132,-1.1952451467514038,-1.1800960302352905,-1.181471347808838,-1.1511541604995728,0.0,0.0,0.0,0.0,0.0,0.0,0.0,0.0,0.0],[1.1162257194519043,-1.6800119876861572,-1.6729999780654907,-1.6989136934280396,-1.6805808544158936,-1.6551064252853394,-1.6424139738082886,-1.6238425970077515,-1.5818324089050293,-1.5392957925796509,-1.531636357307434,-1.5114023685455322,-1.471523642539978,-1.4733452796936035,-1.4618343114852905,-1.3997697830200195,-1.3944071531295776,-1.3481954336166382,-1.2909013032913208,-1.2675206661224365,-1.2413296699523926,-1.288563847541809,-1.2242748737335205,-1.2190606594085693,-1.2062102556228638,-1.203715205192566,-1.1669656038284302,-1.1701828241348267,0.0,0.0,0.0,0.0,0.0,0.0,0.0,0.0],[1.1595871448516846,-1.6510213613510132,-1.660111427307129,-1.6823574304580688,-1.6655335426330566,-1.6321337223052979,-1.6286848783493042,-1.6054818630218506,-1.566949725151062,-1.526235818862915,-1.5233418941497803,-1.5077189207077026,-1.4775660037994385,-1.4730161428451538,-1.4582509994506836,-1.4096037149429321,-1.404293179512024,-1.3618814945220947,-1.302078127861023,-1.2734551429748535,-1.2583192586898804,-1.2919378280639648,-1.2410808801651,-1.2292910814285278,-1.2119585275650024,-1.2149983644485474,-1.186491847038269,-1.1844861507415771,-1.1465084552764893,0.0,0.0,0.0,0.0,0.0,0.0,0.0],[1.151813268661499,-1.68211829662323,-1.6756882667541504,-1.6911165714263916,-1.6725860834121704,-1.642833948135376,-1.632789134979248,-1.6066290140151978,-1.5694382190704346,-1.53117835521698,-1.5253627300262451,-1.50986909866333,-1.4778199195861816,-1.4761719703674316,-1.468294382095337,-1.4050161838531494,-1.4108942747116089,-1.3585467338562012,-1.3025394678115845,-1.2822188138961792,-1.2623306512832642,-1.304059386253357,-1.244478702545166,-1.2479013204574585,-1.2273610830307007,-1.224785566329956,-1.195289969444275,-1.1892743110656738,-1.1492137908935547,-1.0804848670959473,0.0,0.0,0.0,0.0,0.0,0.0],[1.1296361684799194,-1.6777397394180298,-1.6908414363861084,-1.7088768482208252,-1.6954678297042847,-1.6628248691558838,-1.6518923044204712,-1.632307529449463,-1.5920515060424805,-1.5561729669570923,-1.55728280544281,-1.5412660837173462,-1.5067678689956665,-1.5035943984985352,-1.4947057962417603,-1.4329723119735718,-1.4413357973098755,-1.3867788314819336,-1.3351823091506958,-1.3145477771759033,-1.289028286933899,-1.3308367729187012,-1.2761123180389404,-1.2738298177719116,-1.256999135017395,-1.256411075592041,-1.2266510725021362,-1.2171539068222046,-1.179658055305481,-1.1068509817123413,-1.1213290691375732,0.0,0.0,0.0,0.0,0.0],[1.0970244407653809,-1.6701160669326782,-1.6719951629638672,-1.689913272857666,-1.673440933227539,-1.648250699043274,-1.640243649482727,-1.6188380718231201,-1.5789622068405151,-1.5399852991104126,-1.536089301109314,-1.5260294675827026,-1.4910842180252075,-1.4889726638793945,-1.472118854522705,-1.4220080375671387,-1.4202276468276978,-1.372456669807434,-1.3163498640060425,-1.2848656177520752,-1.2627167701721191,-1.3018299341201782,-1.2488598823547363,-1.2381342649459839,-1.222408413887024,-1.2211624383926392,-1.1915926933288574,-1.1880054473876953,-1.15373957157135,-1.0733351707458496,-1.0884060859680176,-1.0527012348175049,0.0,0.0,0.0,0.0],[1.1473891735076904,-1.6741228103637695,-1.694148063659668,-1.7215538024902344,-1.7018873691558838,-1.6759214401245117,-1.6627116203308105,-1.6472694873809814,-1.6162663698196411,-1.5811567306518555,-1.5754284858703613,-1.5651601552963257,-1.5285091400146484,-1.5298417806625366,-1.5227575302124023,-1.467881202697754,-1.4638564586639404,-1.4106272459030151,-1.3590301275253296,-1.3414463996887207,-1.317391037940979,-1.3588124513626099,-1.3052711486816406,-1.3009555339813232,-1.2880817651748657,-1.2816219329833984,-1.2588294744491577,-1.2487770318984985,-1.2137552499771118,-1.1424424648284912,-1.1516761779785156,-1.1161707639694214,-1.0662521123886108,0.0,0.0,0.0],[1.1513429880142212,-1.633515477180481,-1.6445624828338623,-1.6762068271636963,-1.6611298322677612,-1.6333091259002686,-1.6255483627319336,-1.6005146503448486,-1.5716384649276733,-1.5314784049987793,-1.5316044092178345,-1.5272293090820312,-1.4896268844604492,-1.4923344850540161,-1.4833569526672363,-1.4259319305419922,-1.431878685951233,-1.3792890310287476,-1.3256101608276367,-1.3015005588531494,-1.2831616401672363,-1.3231444358825684,-1.2702170610427856,-1.2647998332977295,-1.2494207620620728,-1.244541883468628,-1.2187138795852661,-1.2150334119796753,-1.1776431798934937,-1.0991981029510498,-1.1137927770614624,-1.0787959098815918,-1.0287675857543945,-1.028786063194275,0.0,0.0],[1.062190055847168,-1.7213486433029175,-1.7396093606948853,-1.7703349590301514,-1.750895380973816,-1.7148691415786743,-1.6992065906524658,-1.6864758729934692,-1.6543867588043213,-1.6147887706756592,-1.6135462522506714,-1.6013298034667969,-1.5679717063903809,-1.5659147500991821,-1.5588736534118652,-1.503699779510498,-1.5016871690750122,-1.4538471698760986,-1.4033094644546509,-1.38056218624115,-1.3610819578170776,-1.403481364250183,-1.350080132484436,-1.345858097076416,-1.3321975469589233,-1.332238793373108,-1.3139145374298096,-1.301565170288086,-1.2709954977035522,-1.1951491832733154,-1.2083430290222168,-1.1796272993087769,-1.1292197704315186,-1.1166599988937378,-1.0948164463043213,0.0],[1.0608237981796265,-1.7068819999694824,-1.7130725383758545,-1.7394112348556519,-1.7105084657669067,-1.6775072813034058,-1.6693289279937744,-1.6507177352905273,-1.6178501844406128,-1.5776357650756836,-1.571747064590454,-1.5663583278656006,-1.5307685136795044,-1.5300036668777466,-1.521662712097168,-1.467132806777954,-1.474287986755371,-1.4259673357009888,-1.367676854133606,-1.3401416540145874,-1.3214025497436523,-1.359636664390564,-1.3090108633041382,-1.3010085821151733,-1.2864965200424194,-1.2859042882919312,-1.2653907537460327,-1.2604246139526367,-1.226744294166565,-1.1483078002929688,-1.1594923734664917,-1.1258236169815063,-1.0763444900512695,-1.069330096244812,-1.0361055135726929,-0.9735956788063049]],\"type\":\"heatmap\",\"xaxis\":\"x\",\"yaxis\":\"y\",\"hovertemplate\":\"x: %{x}<br>y: %{y}<br>color: %{z}<extra></extra>\"}],                        {\"template\":{\"data\":{\"bar\":[{\"error_x\":{\"color\":\"#2a3f5f\"},\"error_y\":{\"color\":\"#2a3f5f\"},\"marker\":{\"line\":{\"color\":\"#E5ECF6\",\"width\":0.5},\"pattern\":{\"fillmode\":\"overlay\",\"size\":10,\"solidity\":0.2}},\"type\":\"bar\"}],\"barpolar\":[{\"marker\":{\"line\":{\"color\":\"#E5ECF6\",\"width\":0.5},\"pattern\":{\"fillmode\":\"overlay\",\"size\":10,\"solidity\":0.2}},\"type\":\"barpolar\"}],\"carpet\":[{\"aaxis\":{\"endlinecolor\":\"#2a3f5f\",\"gridcolor\":\"white\",\"linecolor\":\"white\",\"minorgridcolor\":\"white\",\"startlinecolor\":\"#2a3f5f\"},\"baxis\":{\"endlinecolor\":\"#2a3f5f\",\"gridcolor\":\"white\",\"linecolor\":\"white\",\"minorgridcolor\":\"white\",\"startlinecolor\":\"#2a3f5f\"},\"type\":\"carpet\"}],\"choropleth\":[{\"colorbar\":{\"outlinewidth\":0,\"ticks\":\"\"},\"type\":\"choropleth\"}],\"contour\":[{\"colorbar\":{\"outlinewidth\":0,\"ticks\":\"\"},\"colorscale\":[[0.0,\"#0d0887\"],[0.1111111111111111,\"#46039f\"],[0.2222222222222222,\"#7201a8\"],[0.3333333333333333,\"#9c179e\"],[0.4444444444444444,\"#bd3786\"],[0.5555555555555556,\"#d8576b\"],[0.6666666666666666,\"#ed7953\"],[0.7777777777777778,\"#fb9f3a\"],[0.8888888888888888,\"#fdca26\"],[1.0,\"#f0f921\"]],\"type\":\"contour\"}],\"contourcarpet\":[{\"colorbar\":{\"outlinewidth\":0,\"ticks\":\"\"},\"type\":\"contourcarpet\"}],\"heatmap\":[{\"colorbar\":{\"outlinewidth\":0,\"ticks\":\"\"},\"colorscale\":[[0.0,\"#0d0887\"],[0.1111111111111111,\"#46039f\"],[0.2222222222222222,\"#7201a8\"],[0.3333333333333333,\"#9c179e\"],[0.4444444444444444,\"#bd3786\"],[0.5555555555555556,\"#d8576b\"],[0.6666666666666666,\"#ed7953\"],[0.7777777777777778,\"#fb9f3a\"],[0.8888888888888888,\"#fdca26\"],[1.0,\"#f0f921\"]],\"type\":\"heatmap\"}],\"heatmapgl\":[{\"colorbar\":{\"outlinewidth\":0,\"ticks\":\"\"},\"colorscale\":[[0.0,\"#0d0887\"],[0.1111111111111111,\"#46039f\"],[0.2222222222222222,\"#7201a8\"],[0.3333333333333333,\"#9c179e\"],[0.4444444444444444,\"#bd3786\"],[0.5555555555555556,\"#d8576b\"],[0.6666666666666666,\"#ed7953\"],[0.7777777777777778,\"#fb9f3a\"],[0.8888888888888888,\"#fdca26\"],[1.0,\"#f0f921\"]],\"type\":\"heatmapgl\"}],\"histogram\":[{\"marker\":{\"pattern\":{\"fillmode\":\"overlay\",\"size\":10,\"solidity\":0.2}},\"type\":\"histogram\"}],\"histogram2d\":[{\"colorbar\":{\"outlinewidth\":0,\"ticks\":\"\"},\"colorscale\":[[0.0,\"#0d0887\"],[0.1111111111111111,\"#46039f\"],[0.2222222222222222,\"#7201a8\"],[0.3333333333333333,\"#9c179e\"],[0.4444444444444444,\"#bd3786\"],[0.5555555555555556,\"#d8576b\"],[0.6666666666666666,\"#ed7953\"],[0.7777777777777778,\"#fb9f3a\"],[0.8888888888888888,\"#fdca26\"],[1.0,\"#f0f921\"]],\"type\":\"histogram2d\"}],\"histogram2dcontour\":[{\"colorbar\":{\"outlinewidth\":0,\"ticks\":\"\"},\"colorscale\":[[0.0,\"#0d0887\"],[0.1111111111111111,\"#46039f\"],[0.2222222222222222,\"#7201a8\"],[0.3333333333333333,\"#9c179e\"],[0.4444444444444444,\"#bd3786\"],[0.5555555555555556,\"#d8576b\"],[0.6666666666666666,\"#ed7953\"],[0.7777777777777778,\"#fb9f3a\"],[0.8888888888888888,\"#fdca26\"],[1.0,\"#f0f921\"]],\"type\":\"histogram2dcontour\"}],\"mesh3d\":[{\"colorbar\":{\"outlinewidth\":0,\"ticks\":\"\"},\"type\":\"mesh3d\"}],\"parcoords\":[{\"line\":{\"colorbar\":{\"outlinewidth\":0,\"ticks\":\"\"}},\"type\":\"parcoords\"}],\"pie\":[{\"automargin\":true,\"type\":\"pie\"}],\"scatter\":[{\"marker\":{\"colorbar\":{\"outlinewidth\":0,\"ticks\":\"\"}},\"type\":\"scatter\"}],\"scatter3d\":[{\"line\":{\"colorbar\":{\"outlinewidth\":0,\"ticks\":\"\"}},\"marker\":{\"colorbar\":{\"outlinewidth\":0,\"ticks\":\"\"}},\"type\":\"scatter3d\"}],\"scattercarpet\":[{\"marker\":{\"colorbar\":{\"outlinewidth\":0,\"ticks\":\"\"}},\"type\":\"scattercarpet\"}],\"scattergeo\":[{\"marker\":{\"colorbar\":{\"outlinewidth\":0,\"ticks\":\"\"}},\"type\":\"scattergeo\"}],\"scattergl\":[{\"marker\":{\"colorbar\":{\"outlinewidth\":0,\"ticks\":\"\"}},\"type\":\"scattergl\"}],\"scattermapbox\":[{\"marker\":{\"colorbar\":{\"outlinewidth\":0,\"ticks\":\"\"}},\"type\":\"scattermapbox\"}],\"scatterpolar\":[{\"marker\":{\"colorbar\":{\"outlinewidth\":0,\"ticks\":\"\"}},\"type\":\"scatterpolar\"}],\"scatterpolargl\":[{\"marker\":{\"colorbar\":{\"outlinewidth\":0,\"ticks\":\"\"}},\"type\":\"scatterpolargl\"}],\"scatterternary\":[{\"marker\":{\"colorbar\":{\"outlinewidth\":0,\"ticks\":\"\"}},\"type\":\"scatterternary\"}],\"surface\":[{\"colorbar\":{\"outlinewidth\":0,\"ticks\":\"\"},\"colorscale\":[[0.0,\"#0d0887\"],[0.1111111111111111,\"#46039f\"],[0.2222222222222222,\"#7201a8\"],[0.3333333333333333,\"#9c179e\"],[0.4444444444444444,\"#bd3786\"],[0.5555555555555556,\"#d8576b\"],[0.6666666666666666,\"#ed7953\"],[0.7777777777777778,\"#fb9f3a\"],[0.8888888888888888,\"#fdca26\"],[1.0,\"#f0f921\"]],\"type\":\"surface\"}],\"table\":[{\"cells\":{\"fill\":{\"color\":\"#EBF0F8\"},\"line\":{\"color\":\"white\"}},\"header\":{\"fill\":{\"color\":\"#C8D4E3\"},\"line\":{\"color\":\"white\"}},\"type\":\"table\"}]},\"layout\":{\"annotationdefaults\":{\"arrowcolor\":\"#2a3f5f\",\"arrowhead\":0,\"arrowwidth\":1},\"autotypenumbers\":\"strict\",\"coloraxis\":{\"colorbar\":{\"outlinewidth\":0,\"ticks\":\"\"}},\"colorscale\":{\"diverging\":[[0,\"#8e0152\"],[0.1,\"#c51b7d\"],[0.2,\"#de77ae\"],[0.3,\"#f1b6da\"],[0.4,\"#fde0ef\"],[0.5,\"#f7f7f7\"],[0.6,\"#e6f5d0\"],[0.7,\"#b8e186\"],[0.8,\"#7fbc41\"],[0.9,\"#4d9221\"],[1,\"#276419\"]],\"sequential\":[[0.0,\"#0d0887\"],[0.1111111111111111,\"#46039f\"],[0.2222222222222222,\"#7201a8\"],[0.3333333333333333,\"#9c179e\"],[0.4444444444444444,\"#bd3786\"],[0.5555555555555556,\"#d8576b\"],[0.6666666666666666,\"#ed7953\"],[0.7777777777777778,\"#fb9f3a\"],[0.8888888888888888,\"#fdca26\"],[1.0,\"#f0f921\"]],\"sequentialminus\":[[0.0,\"#0d0887\"],[0.1111111111111111,\"#46039f\"],[0.2222222222222222,\"#7201a8\"],[0.3333333333333333,\"#9c179e\"],[0.4444444444444444,\"#bd3786\"],[0.5555555555555556,\"#d8576b\"],[0.6666666666666666,\"#ed7953\"],[0.7777777777777778,\"#fb9f3a\"],[0.8888888888888888,\"#fdca26\"],[1.0,\"#f0f921\"]]},\"colorway\":[\"#636efa\",\"#EF553B\",\"#00cc96\",\"#ab63fa\",\"#FFA15A\",\"#19d3f3\",\"#FF6692\",\"#B6E880\",\"#FF97FF\",\"#FECB52\"],\"font\":{\"color\":\"#2a3f5f\"},\"geo\":{\"bgcolor\":\"white\",\"lakecolor\":\"white\",\"landcolor\":\"#E5ECF6\",\"showlakes\":true,\"showland\":true,\"subunitcolor\":\"white\"},\"hoverlabel\":{\"align\":\"left\"},\"hovermode\":\"closest\",\"mapbox\":{\"style\":\"light\"},\"paper_bgcolor\":\"white\",\"plot_bgcolor\":\"#E5ECF6\",\"polar\":{\"angularaxis\":{\"gridcolor\":\"white\",\"linecolor\":\"white\",\"ticks\":\"\"},\"bgcolor\":\"#E5ECF6\",\"radialaxis\":{\"gridcolor\":\"white\",\"linecolor\":\"white\",\"ticks\":\"\"}},\"scene\":{\"xaxis\":{\"backgroundcolor\":\"#E5ECF6\",\"gridcolor\":\"white\",\"gridwidth\":2,\"linecolor\":\"white\",\"showbackground\":true,\"ticks\":\"\",\"zerolinecolor\":\"white\"},\"yaxis\":{\"backgroundcolor\":\"#E5ECF6\",\"gridcolor\":\"white\",\"gridwidth\":2,\"linecolor\":\"white\",\"showbackground\":true,\"ticks\":\"\",\"zerolinecolor\":\"white\"},\"zaxis\":{\"backgroundcolor\":\"#E5ECF6\",\"gridcolor\":\"white\",\"gridwidth\":2,\"linecolor\":\"white\",\"showbackground\":true,\"ticks\":\"\",\"zerolinecolor\":\"white\"}},\"shapedefaults\":{\"line\":{\"color\":\"#2a3f5f\"}},\"ternary\":{\"aaxis\":{\"gridcolor\":\"white\",\"linecolor\":\"white\",\"ticks\":\"\"},\"baxis\":{\"gridcolor\":\"white\",\"linecolor\":\"white\",\"ticks\":\"\"},\"bgcolor\":\"#E5ECF6\",\"caxis\":{\"gridcolor\":\"white\",\"linecolor\":\"white\",\"ticks\":\"\"}},\"title\":{\"x\":0.05},\"xaxis\":{\"automargin\":true,\"gridcolor\":\"white\",\"linecolor\":\"white\",\"ticks\":\"\",\"title\":{\"standoff\":15},\"zerolinecolor\":\"white\",\"zerolinewidth\":2},\"yaxis\":{\"automargin\":true,\"gridcolor\":\"white\",\"linecolor\":\"white\",\"ticks\":\"\",\"title\":{\"standoff\":15},\"zerolinecolor\":\"white\",\"zerolinewidth\":2}}},\"xaxis\":{\"anchor\":\"y\",\"domain\":[0.0,1.0],\"scaleanchor\":\"y\",\"constrain\":\"domain\"},\"yaxis\":{\"anchor\":\"x\",\"domain\":[0.0,1.0],\"autorange\":\"reversed\",\"constrain\":\"domain\"},\"coloraxis\":{\"colorscale\":[[0.0,\"#0d0887\"],[0.1111111111111111,\"#46039f\"],[0.2222222222222222,\"#7201a8\"],[0.3333333333333333,\"#9c179e\"],[0.4444444444444444,\"#bd3786\"],[0.5555555555555556,\"#d8576b\"],[0.6666666666666666,\"#ed7953\"],[0.7777777777777778,\"#fb9f3a\"],[0.8888888888888888,\"#fdca26\"],[1.0,\"#f0f921\"]]},\"margin\":{\"t\":60}},                        {\"responsive\": true}                    ).then(function(){\n",
       "                            \n",
       "var gd = document.getElementById('1ff17b38-fdc5-471e-a39e-5bfdecaed065');\n",
       "var x = new MutationObserver(function (mutations, observer) {{\n",
       "        var display = window.getComputedStyle(gd).display;\n",
       "        if (!display || display === 'none') {{\n",
       "            console.log([gd, 'removed!']);\n",
       "            Plotly.purge(gd);\n",
       "            observer.disconnect();\n",
       "        }}\n",
       "}});\n",
       "\n",
       "// Listen for the removal of the full notebook cells\n",
       "var notebookContainer = gd.closest('#notebook-container');\n",
       "if (notebookContainer) {{\n",
       "    x.observe(notebookContainer, {childList: true});\n",
       "}}\n",
       "\n",
       "// Listen for the clearing of the current output cell\n",
       "var outputEl = gd.closest('.output');\n",
       "if (outputEl) {{\n",
       "    x.observe(outputEl, {childList: true});\n",
       "}}\n",
       "\n",
       "                        })                };                });            </script>        </div>"
      ]
     },
     "metadata": {},
     "output_type": "display_data"
    },
    {
     "data": {
      "application/vnd.plotly.v1+json": {
       "config": {
        "plotlyServerURL": "https://plot.ly"
       },
       "data": [
        {
         "coloraxis": "coloraxis",
         "hovertemplate": "x: %{x}<br>y: %{y}<br>color: %{z}<extra></extra>",
         "name": "0",
         "texttemplate": "%{z}",
         "type": "heatmap",
         "xaxis": "x",
         "yaxis": "y",
         "z": [
          [
           5.4712324142456055,
           0,
           0,
           0,
           0,
           0,
           0,
           0,
           0,
           0,
           0,
           0,
           0,
           0,
           0,
           0,
           0,
           0,
           0,
           0,
           0,
           0,
           0,
           0,
           0,
           0,
           0,
           0,
           0,
           0,
           0,
           0,
           0,
           0,
           0,
           0
          ],
          [
           -0.8873035311698914,
           -0.5508150458335876,
           0,
           0,
           0,
           0,
           0,
           0,
           0,
           0,
           0,
           0,
           0,
           0,
           0,
           0,
           0,
           0,
           0,
           0,
           0,
           0,
           0,
           0,
           0,
           0,
           0,
           0,
           0,
           0,
           0,
           0,
           0,
           0,
           0,
           0
          ],
          [
           -2.223762273788452,
           -0.05816487595438957,
           -0.2949424386024475,
           0,
           0,
           0,
           0,
           0,
           0,
           0,
           0,
           0,
           0,
           0,
           0,
           0,
           0,
           0,
           0,
           0,
           0,
           0,
           0,
           0,
           0,
           0,
           0,
           0,
           0,
           0,
           0,
           0,
           0,
           0,
           0,
           0
          ],
          [
           -3.0929296016693115,
           -2.0764658451080322,
           -0.840357780456543,
           -0.9221460819244385,
           0,
           0,
           0,
           0,
           0,
           0,
           0,
           0,
           0,
           0,
           0,
           0,
           0,
           0,
           0,
           0,
           0,
           0,
           0,
           0,
           0,
           0,
           0,
           0,
           0,
           0,
           0,
           0,
           0,
           0,
           0,
           0
          ],
          [
           -2.89104962348938,
           -3.0604968070983887,
           -2.4710965156555176,
           -0.6523299217224121,
           -0.5851238369941711,
           0,
           0,
           0,
           0,
           0,
           0,
           0,
           0,
           0,
           0,
           0,
           0,
           0,
           0,
           0,
           0,
           0,
           0,
           0,
           0,
           0,
           0,
           0,
           0,
           0,
           0,
           0,
           0,
           0,
           0,
           0
          ],
          [
           -2.7332003116607666,
           -3.253967046737671,
           -3.5216729640960693,
           -2.1502444744110107,
           -0.35905706882476807,
           -0.2981444001197815,
           0,
           0,
           0,
           0,
           0,
           0,
           0,
           0,
           0,
           0,
           0,
           0,
           0,
           0,
           0,
           0,
           0,
           0,
           0,
           0,
           0,
           0,
           0,
           0,
           0,
           0,
           0,
           0,
           0,
           0
          ],
          [
           -2.0154712200164795,
           -3.3018925189971924,
           -3.436964988708496,
           -3.074425220489502,
           -1.7633546590805054,
           0.027507783845067024,
           0.002270969795063138,
           0,
           0,
           0,
           0,
           0,
           0,
           0,
           0,
           0,
           0,
           0,
           0,
           0,
           0,
           0,
           0,
           0,
           0,
           0,
           0,
           0,
           0,
           0,
           0,
           0,
           0,
           0,
           0,
           0
          ],
          [
           -1.7129286527633667,
           -3.2932493686676025,
           -3.581247091293335,
           -3.1902434825897217,
           -2.825843095779419,
           -1.4442386627197266,
           0.31020429730415344,
           0.3802574574947357,
           0,
           0,
           0,
           0,
           0,
           0,
           0,
           0,
           0,
           0,
           0,
           0,
           0,
           0,
           0,
           0,
           0,
           0,
           0,
           0,
           0,
           0,
           0,
           0,
           0,
           0,
           0,
           0
          ],
          [
           -1.4785964488983154,
           -2.963273525238037,
           -3.4867777824401855,
           -3.333970546722412,
           -2.82122802734375,
           -2.514040231704712,
           -1.171202540397644,
           0.7425515055656433,
           0.7426419258117676,
           0,
           0,
           0,
           0,
           0,
           0,
           0,
           0,
           0,
           0,
           0,
           0,
           0,
           0,
           0,
           0,
           0,
           0,
           0,
           0,
           0,
           0,
           0,
           0,
           0,
           0,
           0
          ],
          [
           -1.3132292032241821,
           -3.5129311084747314,
           -3.294919013977051,
           -3.674490213394165,
           -3.2876338958740234,
           -2.7394022941589355,
           -2.4890265464782715,
           -1.0746376514434814,
           0.8079719543457031,
           0.755841851234436,
           0,
           0,
           0,
           0,
           0,
           0,
           0,
           0,
           0,
           0,
           0,
           0,
           0,
           0,
           0,
           0,
           0,
           0,
           0,
           0,
           0,
           0,
           0,
           0,
           0,
           0
          ],
          [
           -1.177247166633606,
           -4.387688159942627,
           -3.63051438331604,
           -3.0756616592407227,
           -3.414492607116699,
           -3.0110626220703125,
           -2.5804731845855713,
           -2.223149061203003,
           -0.8031322360038757,
           1.0506197214126587,
           1.0746002197265625,
           0,
           0,
           0,
           0,
           0,
           0,
           0,
           0,
           0,
           0,
           0,
           0,
           0,
           0,
           0,
           0,
           0,
           0,
           0,
           0,
           0,
           0,
           0,
           0,
           0
          ],
          [
           -0.7797973155975342,
           -4.2583909034729,
           -4.782822608947754,
           -3.5089516639709473,
           -2.9899585247039795,
           -3.170222282409668,
           -2.915868043899536,
           -2.401759624481201,
           -2.017401933670044,
           -0.6277130246162415,
           1.221483826637268,
           1.3751540184020996,
           0,
           0,
           0,
           0,
           0,
           0,
           0,
           0,
           0,
           0,
           0,
           0,
           0,
           0,
           0,
           0,
           0,
           0,
           0,
           0,
           0,
           0,
           0,
           0
          ],
          [
           -0.9016638994216919,
           -3.341895580291748,
           -4.693603515625,
           -4.967595100402832,
           -3.6636252403259277,
           -3.025681257247925,
           -3.2151403427124023,
           -2.8355484008789062,
           -2.3220419883728027,
           -1.895055890083313,
           -0.5504673719406128,
           1.4649429321289062,
           1.4973037242889404,
           0,
           0,
           0,
           0,
           0,
           0,
           0,
           0,
           0,
           0,
           0,
           0,
           0,
           0,
           0,
           0,
           0,
           0,
           0,
           0,
           0,
           0,
           0
          ],
          [
           -0.9103406667709351,
           -3.0050814151763916,
           -3.343374729156494,
           -4.697803974151611,
           -4.881352424621582,
           -3.6230499744415283,
           -2.860929489135742,
           -3.0054774284362793,
           -2.8297340869903564,
           -2.217741012573242,
           -1.7532061338424683,
           -0.17200444638729095,
           1.732257604598999,
           1.7574501037597656,
           0,
           0,
           0,
           0,
           0,
           0,
           0,
           0,
           0,
           0,
           0,
           0,
           0,
           0,
           0,
           0,
           0,
           0,
           0,
           0,
           0,
           0
          ],
          [
           -0.6549521684646606,
           -3.289505958557129,
           -3.0296106338500977,
           -3.1357741355895996,
           -4.330682277679443,
           -4.606551170349121,
           -3.3326618671417236,
           -2.646806001663208,
           -2.9350788593292236,
           -2.6627869606018066,
           -1.901680827140808,
           -1.2902525663375854,
           0.06567927449941635,
           1.950036883354187,
           1.9047260284423828,
           0,
           0,
           0,
           0,
           0,
           0,
           0,
           0,
           0,
           0,
           0,
           0,
           0,
           0,
           0,
           0,
           0,
           0,
           0,
           0,
           0
          ],
          [
           -0.8250291347503662,
           -3.72396183013916,
           -4.001044750213623,
           -3.2354896068573,
           -3.1853253841400146,
           -4.348820686340332,
           -4.593409538269043,
           -3.548510789871216,
           -3.0148186683654785,
           -3.291645050048828,
           -2.769587993621826,
           -1.9148144721984863,
           -1.450507640838623,
           -0.007562282495200634,
           1.8057448863983154,
           1.863464593887329,
           0,
           0,
           0,
           0,
           0,
           0,
           0,
           0,
           0,
           0,
           0,
           0,
           0,
           0,
           0,
           0,
           0,
           0,
           0,
           0
          ],
          [
           -0.9735074043273926,
           -3.9303042888641357,
           -4.30724573135376,
           -4.091493606567383,
           -3.2065823078155518,
           -3.113030433654785,
           -4.329792022705078,
           -4.714228630065918,
           -3.727729558944702,
           -3.1826353073120117,
           -3.275312662124634,
           -2.5874435901641846,
           -1.9316585063934326,
           -1.561625361442566,
           -0.07034648209810257,
           1.8473570346832275,
           1.8745476007461548,
           0,
           0,
           0,
           0,
           0,
           0,
           0,
           0,
           0,
           0,
           0,
           0,
           0,
           0,
           0,
           0,
           0,
           0,
           0
          ],
          [
           -0.3831130862236023,
           -3.5625860691070557,
           -3.7387454509735107,
           -3.925920248031616,
           -3.9426608085632324,
           -2.9853200912475586,
           -2.849245309829712,
           -3.9670252799987793,
           -4.392622470855713,
           -3.4747488498687744,
           -3.064948320388794,
           -2.968376398086548,
           -2.315631866455078,
           -1.7250874042510986,
           -1.3008381128311157,
           0.24490836262702942,
           2.0981199741363525,
           2.083097457885742,
           0,
           0,
           0,
           0,
           0,
           0,
           0,
           0,
           0,
           0,
           0,
           0,
           0,
           0,
           0,
           0,
           0,
           0
          ],
          [
           -0.24146199226379395,
           -3.1513421535491943,
           -3.562589168548584,
           -3.5074167251586914,
           -4.013363361358643,
           -4.071817398071289,
           -3.1482367515563965,
           -2.860874891281128,
           -3.841878890991211,
           -4.237438678741455,
           -3.5450892448425293,
           -3.1854474544525146,
           -3.224346160888672,
           -2.5031731128692627,
           -1.7266803979873657,
           -1.2123656272888184,
           0.2312944531440735,
           2.0876169204711914,
           2.0198018550872803,
           0,
           0,
           0,
           0,
           0,
           0,
           0,
           0,
           0,
           0,
           0,
           0,
           0,
           0,
           0,
           0,
           0
          ],
          [
           -0.03833584859967232,
           -2.896939754486084,
           -3.228924512863159,
           -3.51598858833313,
           -3.672832489013672,
           -4.37163782119751,
           -4.492068290710449,
           -3.337552070617676,
           -2.77347993850708,
           -3.7528464794158936,
           -4.201258659362793,
           -3.5730085372924805,
           -3.5722391605377197,
           -3.518970489501953,
           -2.393224000930786,
           -1.634222149848938,
           -1.2801209688186646,
           0.3367396593093872,
           2.1538565158843994,
           2.101747989654541,
           0,
           0,
           0,
           0,
           0,
           0,
           0,
           0,
           0,
           0,
           0,
           0,
           0,
           0,
           0,
           0
          ],
          [
           -0.2724281847476959,
           -3.611887216567993,
           -3.1016621589660645,
           -3.37958025932312,
           -3.6266260147094727,
           -3.772886037826538,
           -4.803476333618164,
           -4.969823837280273,
           -3.4778859615325928,
           -2.7632904052734375,
           -3.6584229469299316,
           -3.9826550483703613,
           -3.8142993450164795,
           -4.026941776275635,
           -3.611865997314453,
           -2.42093563079834,
           -1.7081025838851929,
           -1.2361531257629395,
           0.36288976669311523,
           2.181460380554199,
           2.238070249557495,
           0,
           0,
           0,
           0,
           0,
           0,
           0,
           0,
           0,
           0,
           0,
           0,
           0,
           0,
           0
          ],
          [
           0.10869450867176056,
           -3.9439754486083984,
           -3.5461080074310303,
           -3.092168092727661,
           -3.519056797027588,
           -3.3910694122314453,
           -3.7819018363952637,
           -4.982571125030518,
           -5.074827194213867,
           -3.5092616081237793,
           -2.7682292461395264,
           -3.3238444328308105,
           -3.871408700942993,
           -3.9876368045806885,
           -4.174905300140381,
           -3.713609218597412,
           -2.3288538455963135,
           -1.4918041229248047,
           -1.0540087223052979,
           0.34637215733528137,
           2.3203821182250977,
           2.3146560192108154,
           0,
           0,
           0,
           0,
           0,
           0,
           0,
           0,
           0,
           0,
           0,
           0,
           0,
           0
          ],
          [
           -0.10669919848442078,
           -3.4898173809051514,
           -4.085561275482178,
           -3.7051753997802734,
           -3.4821596145629883,
           -3.588761806488037,
           -3.539020299911499,
           -3.887425184249878,
           -4.972773551940918,
           -5.031644821166992,
           -3.601698875427246,
           -2.555440902709961,
           -3.1660146713256836,
           -3.779055118560791,
           -3.9437198638916016,
           -4.218429088592529,
           -3.6849417686462402,
           -2.3163249492645264,
           -1.443447470664978,
           -1.089855432510376,
           0.46330955624580383,
           2.39129900932312,
           2.3738880157470703,
           0,
           0,
           0,
           0,
           0,
           0,
           0,
           0,
           0,
           0,
           0,
           0,
           0
          ],
          [
           -0.025910355150699615,
           -2.944518804550171,
           -3.3473739624023438,
           -4.278857231140137,
           -4.033199310302734,
           -3.7615349292755127,
           -3.8499746322631836,
           -3.6005659103393555,
           -3.7771332263946533,
           -4.781209468841553,
           -4.975767612457275,
           -3.276616334915161,
           -2.2987098693847656,
           -2.959984064102173,
           -3.6384828090667725,
           -3.962604522705078,
           -4.234551429748535,
           -3.6504833698272705,
           -2.2107319831848145,
           -1.4300594329833984,
           -0.9800878167152405,
           0.5413663387298584,
           2.491436004638672,
           2.4699556827545166,
           0,
           0,
           0,
           0,
           0,
           0,
           0,
           0,
           0,
           0,
           0,
           0
          ],
          [
           0.16834771633148193,
           -3.751474618911743,
           -2.678865432739258,
           -3.1980035305023193,
           -4.1790595054626465,
           -4.089881420135498,
           -3.9192745685577393,
           -4.01492977142334,
           -3.7178828716278076,
           -3.5732052326202393,
           -4.468501567840576,
           -4.529415607452393,
           -3.0559868812561035,
           -2.0542101860046387,
           -2.6996982097625732,
           -3.505801200866699,
           -3.883857011795044,
           -4.037654876708984,
           -3.4747400283813477,
           -2.2146475315093994,
           -1.2228673696517944,
           -0.7943982481956482,
           0.65716153383255,
           2.5806102752685547,
           2.5346508026123047,
           0,
           0,
           0,
           0,
           0,
           0,
           0,
           0,
           0,
           0,
           0
          ],
          [
           0.13682080805301666,
           -4.742996692657471,
           -4.00391960144043,
           -2.660353899002075,
           -3.1089980602264404,
           -4.01882266998291,
           -4.158309459686279,
           -4.153207778930664,
           -4.386022567749023,
           -3.8477234840393066,
           -3.366757869720459,
           -3.9422919750213623,
           -4.226237773895264,
           -2.8666324615478516,
           -1.9778693914413452,
           -2.671610116958618,
           -3.5149147510528564,
           -3.8054232597351074,
           -3.899047613143921,
           -3.3694169521331787,
           -1.9479353427886963,
           -0.985447347164154,
           -0.5772866010665894,
           0.7311670780181885,
           2.7132630348205566,
           2.685485601425171,
           0,
           0,
           0,
           0,
           0,
           0,
           0,
           0,
           0,
           0
          ],
          [
           0.5046740174293518,
           -4.086294174194336,
           -4.722631454467773,
           -3.906742572784424,
           -2.636535167694092,
           -2.8943560123443604,
           -4.027119159698486,
           -4.346591949462891,
           -4.537519931793213,
           -4.671876430511475,
           -4.113278388977051,
           -3.264003276824951,
           -3.7235631942749023,
           -4.042729377746582,
           -2.8536007404327393,
           -1.9922665357589722,
           -2.6411826610565186,
           -3.6902101039886475,
           -4.004683971405029,
           -3.8573272228240967,
           -3.162971019744873,
           -1.9132001399993896,
           -0.9563461542129517,
           -0.5355913043022156,
           0.7998874187469482,
           2.7411348819732666,
           2.7911362648010254,
           0,
           0,
           0,
           0,
           0,
           0,
           0,
           0,
           0
          ],
          [
           0.38283008337020874,
           -3.2799317836761475,
           -3.6443657875061035,
           -4.444718360900879,
           -3.821946144104004,
           -2.524697780609131,
           -2.7298009395599365,
           -3.9264280796051025,
           -4.713237762451172,
           -4.804799556732178,
           -4.984982013702393,
           -4.1621222496032715,
           -3.2305755615234375,
           -3.583651065826416,
           -3.920987129211426,
           -2.7830963134765625,
           -1.7361546754837036,
           -2.4587509632110596,
           -3.753214120864868,
           -4.0857319831848145,
           -3.508265733718872,
           -2.6564693450927734,
           -1.7041151523590088,
           -0.9329007863998413,
           -0.44997328519821167,
           1.0190695524215698,
           3.036184549331665,
           3.0199286937713623,
           0,
           0,
           0,
           0,
           0,
           0,
           0,
           0
          ],
          [
           0.530392587184906,
           -2.8659420013427734,
           -2.575883150100708,
           -3.133688449859619,
           -4.059690952301025,
           -3.7239863872528076,
           -2.472217082977295,
           -2.5636634826660156,
           -4.09780216217041,
           -4.9651031494140625,
           -5.173120498657227,
           -5.18179988861084,
           -4.400475978851318,
           -3.3161373138427734,
           -3.4156835079193115,
           -3.7004833221435547,
           -2.692875385284424,
           -1.6563878059387207,
           -2.514991044998169,
           -3.9575445652008057,
           -4.087992191314697,
           -3.091066837310791,
           -2.403069019317627,
           -1.7124961614608765,
           -0.9148768782615662,
           -0.2869635224342346,
           1.1419123411178589,
           3.1260111331939697,
           3.002826690673828,
           0,
           0,
           0,
           0,
           0,
           0,
           0
          ],
          [
           0.3486916422843933,
           -3.0429508686065674,
           -2.763422966003418,
           -2.7005116939544678,
           -3.1060173511505127,
           -4.1085944175720215,
           -3.959467649459839,
           -2.767704725265503,
           -2.880876064300537,
           -4.5524516105651855,
           -5.6436848640441895,
           -5.813583850860596,
           -5.865090847015381,
           -5.046614170074463,
           -3.7188262939453125,
           -3.6006977558135986,
           -3.9676997661590576,
           -2.9715514183044434,
           -2.018754720687866,
           -2.81380558013916,
           -4.312132358551025,
           -4.231544494628906,
           -3.1368281841278076,
           -2.471362829208374,
           -1.8121118545532227,
           -1.0422508716583252,
           -0.37176698446273804,
           1.073904037475586,
           2.9760379791259766,
           2.9193766117095947,
           0,
           0,
           0,
           0,
           0,
           0
          ],
          [
           0.24681369960308075,
           -3.7227025032043457,
           -2.9079580307006836,
           -2.840303421020508,
           -2.751516580581665,
           -2.981879472732544,
           -4.0203752517700195,
           -4.120903015136719,
           -2.959627628326416,
           -2.984011650085449,
           -4.769874572753906,
           -5.992849826812744,
           -6.2876691818237305,
           -6.325372219085693,
           -5.40706729888916,
           -4.038243770599365,
           -3.693565845489502,
           -3.9145500659942627,
           -3.201681613922119,
           -2.273094654083252,
           -2.897998571395874,
           -4.4476447105407715,
           -4.4591193199157715,
           -3.3196821212768555,
           -2.500640630722046,
           -2.0729100704193115,
           -1.1789731979370117,
           -0.4317375719547272,
           0.9675994515419006,
           2.8892288208007812,
           2.8610124588012695,
           0,
           0,
           0,
           0,
           0
          ],
          [
           0.531744122505188,
           -3.993665933609009,
           -3.418023109436035,
           -2.5452492237091064,
           -2.532701015472412,
           -2.404818534851074,
           -2.695002317428589,
           -3.6224727630615234,
           -3.8017780780792236,
           -2.8194222450256348,
           -2.8831539154052734,
           -4.5858330726623535,
           -6.124099254608154,
           -6.475654125213623,
           -6.154117107391357,
           -5.323585510253906,
           -3.954237937927246,
           -3.379392623901367,
           -3.6374666690826416,
           -3.211660385131836,
           -2.2088544368743896,
           -2.773603677749634,
           -4.433042526245117,
           -4.644395351409912,
           -3.188486099243164,
           -2.4040143489837646,
           -2.029916763305664,
           -1.0940191745758057,
           -0.2628764808177948,
           1.1169812679290771,
           3.0794451236724854,
           3.1463499069213867,
           0,
           0,
           0,
           0
          ],
          [
           0.46091097593307495,
           -3.434887647628784,
           -4.209572792053223,
           -3.903653621673584,
           -2.9661505222320557,
           -2.75496506690979,
           -2.7118828296661377,
           -2.655548334121704,
           -3.3364169597625732,
           -3.805774450302124,
           -3.1968135833740234,
           -3.029656171798706,
           -4.803499221801758,
           -6.565319061279297,
           -6.6167707443237305,
           -6.250896453857422,
           -5.424535274505615,
           -4.054909706115723,
           -3.395235538482666,
           -3.71575927734375,
           -3.4094879627227783,
           -2.469975233078003,
           -3.0200812816619873,
           -4.781979084014893,
           -4.933817386627197,
           -3.3188722133636475,
           -2.5617167949676514,
           -2.1559481620788574,
           -1.2839140892028809,
           -0.487728476524353,
           0.8499715328216553,
           2.9421191215515137,
           2.920336961746216,
           0,
           0,
           0
          ],
          [
           0.26363131403923035,
           -3.015984296798706,
           -3.2393195629119873,
           -4.796149730682373,
           -4.51051139831543,
           -3.4938759803771973,
           -3.176962375640869,
           -2.931863307952881,
           -2.5848169326782227,
           -3.068444013595581,
           -3.797466516494751,
           -3.1762454509735107,
           -3.0441842079162598,
           -4.931905746459961,
           -6.553157806396484,
           -6.715516567230225,
           -6.095889568328857,
           -5.220309257507324,
           -4.111691474914551,
           -3.5553393363952637,
           -3.660609006881714,
           -3.4298484325408936,
           -2.746371269226074,
           -3.3185269832611084,
           -5.082921504974365,
           -5.036102294921875,
           -3.4048149585723877,
           -2.5764353275299072,
           -2.3256986141204834,
           -1.4393688440322876,
           -0.6035282611846924,
           0.9134470820426941,
           2.9298877716064453,
           2.969817638397217,
           0,
           0
          ],
          [
           0.4085735082626343,
           -3.572755813598633,
           -2.5596556663513184,
           -3.426999807357788,
           -4.860729217529297,
           -4.794151306152344,
           -3.6984119415283203,
           -3.272632598876953,
           -2.991685152053833,
           -2.509371757507324,
           -2.8768484592437744,
           -3.5546436309814453,
           -3.254784107208252,
           -3.2192492485046387,
           -4.89622688293457,
           -6.688788414001465,
           -6.672029495239258,
           -5.660686016082764,
           -4.911343097686768,
           -4.19536828994751,
           -3.419767379760742,
           -3.32844614982605,
           -3.2339107990264893,
           -2.752511978149414,
           -3.2702088356018066,
           -4.797333240509033,
           -4.762479782104492,
           -3.1201305389404297,
           -2.383538246154785,
           -2.189115524291992,
           -1.272355079650879,
           -0.2665446698665619,
           1.044761061668396,
           3.1595091819763184,
           3.107436180114746,
           0
          ],
          [
           0.5477688908576965,
           -3.9226555824279785,
           -3.517841339111328,
           -2.840972423553467,
           -3.348464250564575,
           -4.839841365814209,
           -4.8495893478393555,
           -3.8198390007019043,
           -3.3282179832458496,
           -3.0946576595306396,
           -2.426997423171997,
           -2.627723455429077,
           -3.5492353439331055,
           -3.453277587890625,
           -3.3714380264282227,
           -5.123576641082764,
           -6.823018550872803,
           -6.5366315841674805,
           -5.420891761779785,
           -4.793561935424805,
           -4.070008277893066,
           -3.3325607776641846,
           -3.0895636081695557,
           -3.0927579402923584,
           -2.5710501670837402,
           -2.9758682250976562,
           -4.467453956604004,
           -4.469339370727539,
           -2.8711442947387695,
           -2.325216293334961,
           -2.1873679161071777,
           -0.9949111342430115,
           -0.2644258141517639,
           1.244458794593811,
           3.2593417167663574,
           3.223111629486084
          ]
         ]
        }
       ],
       "layout": {
        "autosize": true,
        "coloraxis": {
         "colorscale": [
          [
           0,
           "#0d0887"
          ],
          [
           0.1111111111111111,
           "#46039f"
          ],
          [
           0.2222222222222222,
           "#7201a8"
          ],
          [
           0.3333333333333333,
           "#9c179e"
          ],
          [
           0.4444444444444444,
           "#bd3786"
          ],
          [
           0.5555555555555556,
           "#d8576b"
          ],
          [
           0.6666666666666666,
           "#ed7953"
          ],
          [
           0.7777777777777778,
           "#fb9f3a"
          ],
          [
           0.8888888888888888,
           "#fdca26"
          ],
          [
           1,
           "#f0f921"
          ]
         ]
        },
        "margin": {
         "t": 60
        },
        "template": {
         "data": {
          "bar": [
           {
            "error_x": {
             "color": "#2a3f5f"
            },
            "error_y": {
             "color": "#2a3f5f"
            },
            "marker": {
             "line": {
              "color": "#E5ECF6",
              "width": 0.5
             },
             "pattern": {
              "fillmode": "overlay",
              "size": 10,
              "solidity": 0.2
             }
            },
            "type": "bar"
           }
          ],
          "barpolar": [
           {
            "marker": {
             "line": {
              "color": "#E5ECF6",
              "width": 0.5
             },
             "pattern": {
              "fillmode": "overlay",
              "size": 10,
              "solidity": 0.2
             }
            },
            "type": "barpolar"
           }
          ],
          "carpet": [
           {
            "aaxis": {
             "endlinecolor": "#2a3f5f",
             "gridcolor": "white",
             "linecolor": "white",
             "minorgridcolor": "white",
             "startlinecolor": "#2a3f5f"
            },
            "baxis": {
             "endlinecolor": "#2a3f5f",
             "gridcolor": "white",
             "linecolor": "white",
             "minorgridcolor": "white",
             "startlinecolor": "#2a3f5f"
            },
            "type": "carpet"
           }
          ],
          "choropleth": [
           {
            "colorbar": {
             "outlinewidth": 0,
             "ticks": ""
            },
            "type": "choropleth"
           }
          ],
          "contour": [
           {
            "colorbar": {
             "outlinewidth": 0,
             "ticks": ""
            },
            "colorscale": [
             [
              0,
              "#0d0887"
             ],
             [
              0.1111111111111111,
              "#46039f"
             ],
             [
              0.2222222222222222,
              "#7201a8"
             ],
             [
              0.3333333333333333,
              "#9c179e"
             ],
             [
              0.4444444444444444,
              "#bd3786"
             ],
             [
              0.5555555555555556,
              "#d8576b"
             ],
             [
              0.6666666666666666,
              "#ed7953"
             ],
             [
              0.7777777777777778,
              "#fb9f3a"
             ],
             [
              0.8888888888888888,
              "#fdca26"
             ],
             [
              1,
              "#f0f921"
             ]
            ],
            "type": "contour"
           }
          ],
          "contourcarpet": [
           {
            "colorbar": {
             "outlinewidth": 0,
             "ticks": ""
            },
            "type": "contourcarpet"
           }
          ],
          "heatmap": [
           {
            "colorbar": {
             "outlinewidth": 0,
             "ticks": ""
            },
            "colorscale": [
             [
              0,
              "#0d0887"
             ],
             [
              0.1111111111111111,
              "#46039f"
             ],
             [
              0.2222222222222222,
              "#7201a8"
             ],
             [
              0.3333333333333333,
              "#9c179e"
             ],
             [
              0.4444444444444444,
              "#bd3786"
             ],
             [
              0.5555555555555556,
              "#d8576b"
             ],
             [
              0.6666666666666666,
              "#ed7953"
             ],
             [
              0.7777777777777778,
              "#fb9f3a"
             ],
             [
              0.8888888888888888,
              "#fdca26"
             ],
             [
              1,
              "#f0f921"
             ]
            ],
            "type": "heatmap"
           }
          ],
          "heatmapgl": [
           {
            "colorbar": {
             "outlinewidth": 0,
             "ticks": ""
            },
            "colorscale": [
             [
              0,
              "#0d0887"
             ],
             [
              0.1111111111111111,
              "#46039f"
             ],
             [
              0.2222222222222222,
              "#7201a8"
             ],
             [
              0.3333333333333333,
              "#9c179e"
             ],
             [
              0.4444444444444444,
              "#bd3786"
             ],
             [
              0.5555555555555556,
              "#d8576b"
             ],
             [
              0.6666666666666666,
              "#ed7953"
             ],
             [
              0.7777777777777778,
              "#fb9f3a"
             ],
             [
              0.8888888888888888,
              "#fdca26"
             ],
             [
              1,
              "#f0f921"
             ]
            ],
            "type": "heatmapgl"
           }
          ],
          "histogram": [
           {
            "marker": {
             "pattern": {
              "fillmode": "overlay",
              "size": 10,
              "solidity": 0.2
             }
            },
            "type": "histogram"
           }
          ],
          "histogram2d": [
           {
            "colorbar": {
             "outlinewidth": 0,
             "ticks": ""
            },
            "colorscale": [
             [
              0,
              "#0d0887"
             ],
             [
              0.1111111111111111,
              "#46039f"
             ],
             [
              0.2222222222222222,
              "#7201a8"
             ],
             [
              0.3333333333333333,
              "#9c179e"
             ],
             [
              0.4444444444444444,
              "#bd3786"
             ],
             [
              0.5555555555555556,
              "#d8576b"
             ],
             [
              0.6666666666666666,
              "#ed7953"
             ],
             [
              0.7777777777777778,
              "#fb9f3a"
             ],
             [
              0.8888888888888888,
              "#fdca26"
             ],
             [
              1,
              "#f0f921"
             ]
            ],
            "type": "histogram2d"
           }
          ],
          "histogram2dcontour": [
           {
            "colorbar": {
             "outlinewidth": 0,
             "ticks": ""
            },
            "colorscale": [
             [
              0,
              "#0d0887"
             ],
             [
              0.1111111111111111,
              "#46039f"
             ],
             [
              0.2222222222222222,
              "#7201a8"
             ],
             [
              0.3333333333333333,
              "#9c179e"
             ],
             [
              0.4444444444444444,
              "#bd3786"
             ],
             [
              0.5555555555555556,
              "#d8576b"
             ],
             [
              0.6666666666666666,
              "#ed7953"
             ],
             [
              0.7777777777777778,
              "#fb9f3a"
             ],
             [
              0.8888888888888888,
              "#fdca26"
             ],
             [
              1,
              "#f0f921"
             ]
            ],
            "type": "histogram2dcontour"
           }
          ],
          "mesh3d": [
           {
            "colorbar": {
             "outlinewidth": 0,
             "ticks": ""
            },
            "type": "mesh3d"
           }
          ],
          "parcoords": [
           {
            "line": {
             "colorbar": {
              "outlinewidth": 0,
              "ticks": ""
             }
            },
            "type": "parcoords"
           }
          ],
          "pie": [
           {
            "automargin": true,
            "type": "pie"
           }
          ],
          "scatter": [
           {
            "marker": {
             "colorbar": {
              "outlinewidth": 0,
              "ticks": ""
             }
            },
            "type": "scatter"
           }
          ],
          "scatter3d": [
           {
            "line": {
             "colorbar": {
              "outlinewidth": 0,
              "ticks": ""
             }
            },
            "marker": {
             "colorbar": {
              "outlinewidth": 0,
              "ticks": ""
             }
            },
            "type": "scatter3d"
           }
          ],
          "scattercarpet": [
           {
            "marker": {
             "colorbar": {
              "outlinewidth": 0,
              "ticks": ""
             }
            },
            "type": "scattercarpet"
           }
          ],
          "scattergeo": [
           {
            "marker": {
             "colorbar": {
              "outlinewidth": 0,
              "ticks": ""
             }
            },
            "type": "scattergeo"
           }
          ],
          "scattergl": [
           {
            "marker": {
             "colorbar": {
              "outlinewidth": 0,
              "ticks": ""
             }
            },
            "type": "scattergl"
           }
          ],
          "scattermapbox": [
           {
            "marker": {
             "colorbar": {
              "outlinewidth": 0,
              "ticks": ""
             }
            },
            "type": "scattermapbox"
           }
          ],
          "scatterpolar": [
           {
            "marker": {
             "colorbar": {
              "outlinewidth": 0,
              "ticks": ""
             }
            },
            "type": "scatterpolar"
           }
          ],
          "scatterpolargl": [
           {
            "marker": {
             "colorbar": {
              "outlinewidth": 0,
              "ticks": ""
             }
            },
            "type": "scatterpolargl"
           }
          ],
          "scatterternary": [
           {
            "marker": {
             "colorbar": {
              "outlinewidth": 0,
              "ticks": ""
             }
            },
            "type": "scatterternary"
           }
          ],
          "surface": [
           {
            "colorbar": {
             "outlinewidth": 0,
             "ticks": ""
            },
            "colorscale": [
             [
              0,
              "#0d0887"
             ],
             [
              0.1111111111111111,
              "#46039f"
             ],
             [
              0.2222222222222222,
              "#7201a8"
             ],
             [
              0.3333333333333333,
              "#9c179e"
             ],
             [
              0.4444444444444444,
              "#bd3786"
             ],
             [
              0.5555555555555556,
              "#d8576b"
             ],
             [
              0.6666666666666666,
              "#ed7953"
             ],
             [
              0.7777777777777778,
              "#fb9f3a"
             ],
             [
              0.8888888888888888,
              "#fdca26"
             ],
             [
              1,
              "#f0f921"
             ]
            ],
            "type": "surface"
           }
          ],
          "table": [
           {
            "cells": {
             "fill": {
              "color": "#EBF0F8"
             },
             "line": {
              "color": "white"
             }
            },
            "header": {
             "fill": {
              "color": "#C8D4E3"
             },
             "line": {
              "color": "white"
             }
            },
            "type": "table"
           }
          ]
         },
         "layout": {
          "annotationdefaults": {
           "arrowcolor": "#2a3f5f",
           "arrowhead": 0,
           "arrowwidth": 1
          },
          "autotypenumbers": "strict",
          "coloraxis": {
           "colorbar": {
            "outlinewidth": 0,
            "ticks": ""
           }
          },
          "colorscale": {
           "diverging": [
            [
             0,
             "#8e0152"
            ],
            [
             0.1,
             "#c51b7d"
            ],
            [
             0.2,
             "#de77ae"
            ],
            [
             0.3,
             "#f1b6da"
            ],
            [
             0.4,
             "#fde0ef"
            ],
            [
             0.5,
             "#f7f7f7"
            ],
            [
             0.6,
             "#e6f5d0"
            ],
            [
             0.7,
             "#b8e186"
            ],
            [
             0.8,
             "#7fbc41"
            ],
            [
             0.9,
             "#4d9221"
            ],
            [
             1,
             "#276419"
            ]
           ],
           "sequential": [
            [
             0,
             "#0d0887"
            ],
            [
             0.1111111111111111,
             "#46039f"
            ],
            [
             0.2222222222222222,
             "#7201a8"
            ],
            [
             0.3333333333333333,
             "#9c179e"
            ],
            [
             0.4444444444444444,
             "#bd3786"
            ],
            [
             0.5555555555555556,
             "#d8576b"
            ],
            [
             0.6666666666666666,
             "#ed7953"
            ],
            [
             0.7777777777777778,
             "#fb9f3a"
            ],
            [
             0.8888888888888888,
             "#fdca26"
            ],
            [
             1,
             "#f0f921"
            ]
           ],
           "sequentialminus": [
            [
             0,
             "#0d0887"
            ],
            [
             0.1111111111111111,
             "#46039f"
            ],
            [
             0.2222222222222222,
             "#7201a8"
            ],
            [
             0.3333333333333333,
             "#9c179e"
            ],
            [
             0.4444444444444444,
             "#bd3786"
            ],
            [
             0.5555555555555556,
             "#d8576b"
            ],
            [
             0.6666666666666666,
             "#ed7953"
            ],
            [
             0.7777777777777778,
             "#fb9f3a"
            ],
            [
             0.8888888888888888,
             "#fdca26"
            ],
            [
             1,
             "#f0f921"
            ]
           ]
          },
          "colorway": [
           "#636efa",
           "#EF553B",
           "#00cc96",
           "#ab63fa",
           "#FFA15A",
           "#19d3f3",
           "#FF6692",
           "#B6E880",
           "#FF97FF",
           "#FECB52"
          ],
          "font": {
           "color": "#2a3f5f"
          },
          "geo": {
           "bgcolor": "white",
           "lakecolor": "white",
           "landcolor": "#E5ECF6",
           "showlakes": true,
           "showland": true,
           "subunitcolor": "white"
          },
          "hoverlabel": {
           "align": "left"
          },
          "hovermode": "closest",
          "mapbox": {
           "style": "light"
          },
          "paper_bgcolor": "white",
          "plot_bgcolor": "#E5ECF6",
          "polar": {
           "angularaxis": {
            "gridcolor": "white",
            "linecolor": "white",
            "ticks": ""
           },
           "bgcolor": "#E5ECF6",
           "radialaxis": {
            "gridcolor": "white",
            "linecolor": "white",
            "ticks": ""
           }
          },
          "scene": {
           "xaxis": {
            "backgroundcolor": "#E5ECF6",
            "gridcolor": "white",
            "gridwidth": 2,
            "linecolor": "white",
            "showbackground": true,
            "ticks": "",
            "zerolinecolor": "white"
           },
           "yaxis": {
            "backgroundcolor": "#E5ECF6",
            "gridcolor": "white",
            "gridwidth": 2,
            "linecolor": "white",
            "showbackground": true,
            "ticks": "",
            "zerolinecolor": "white"
           },
           "zaxis": {
            "backgroundcolor": "#E5ECF6",
            "gridcolor": "white",
            "gridwidth": 2,
            "linecolor": "white",
            "showbackground": true,
            "ticks": "",
            "zerolinecolor": "white"
           }
          },
          "shapedefaults": {
           "line": {
            "color": "#2a3f5f"
           }
          },
          "ternary": {
           "aaxis": {
            "gridcolor": "white",
            "linecolor": "white",
            "ticks": ""
           },
           "baxis": {
            "gridcolor": "white",
            "linecolor": "white",
            "ticks": ""
           },
           "bgcolor": "#E5ECF6",
           "caxis": {
            "gridcolor": "white",
            "linecolor": "white",
            "ticks": ""
           }
          },
          "title": {
           "x": 0.05
          },
          "xaxis": {
           "automargin": true,
           "gridcolor": "white",
           "linecolor": "white",
           "ticks": "",
           "title": {
            "standoff": 15
           },
           "zerolinecolor": "white",
           "zerolinewidth": 2
          },
          "yaxis": {
           "automargin": true,
           "gridcolor": "white",
           "linecolor": "white",
           "ticks": "",
           "title": {
            "standoff": 15
           },
           "zerolinecolor": "white",
           "zerolinewidth": 2
          }
         }
        },
        "xaxis": {
         "anchor": "y",
         "autorange": true,
         "constrain": "domain",
         "domain": [
          0.4035087719298246,
          0.5964912280701754
         ],
         "range": [
          -0.5,
          35.5
         ],
         "scaleanchor": "y"
        },
        "yaxis": {
         "anchor": "x",
         "autorange": true,
         "constrain": "domain",
         "domain": [
          0,
          1
         ],
         "range": [
          35.5,
          -0.5
         ]
        }
       }
      },
      "image/png": "[encoded data removed]",
      "text/html": [
       "<div>                            <div id=\"560a78c5-8d8a-4854-aefb-abd4f5ac4833\" class=\"plotly-graph-div\" style=\"height:525px; width:100%;\"></div>            <script type=\"text/javascript\">                require([\"plotly\"], function(Plotly) {                    window.PLOTLYENV=window.PLOTLYENV || {};                                    if (document.getElementById(\"560a78c5-8d8a-4854-aefb-abd4f5ac4833\")) {                    Plotly.newPlot(                        \"560a78c5-8d8a-4854-aefb-abd4f5ac4833\",                        [{\"coloraxis\":\"coloraxis\",\"name\":\"0\",\"texttemplate\":\"%{z}\",\"z\":[[5.4712324142456055,0.0,0.0,0.0,0.0,0.0,0.0,0.0,0.0,0.0,0.0,0.0,0.0,0.0,0.0,0.0,0.0,0.0,0.0,0.0,0.0,0.0,0.0,0.0,0.0,0.0,0.0,0.0,0.0,0.0,0.0,0.0,0.0,0.0,0.0,0.0],[-0.8873035311698914,-0.5508150458335876,0.0,0.0,0.0,0.0,0.0,0.0,0.0,0.0,0.0,0.0,0.0,0.0,0.0,0.0,0.0,0.0,0.0,0.0,0.0,0.0,0.0,0.0,0.0,0.0,0.0,0.0,0.0,0.0,0.0,0.0,0.0,0.0,0.0,0.0],[-2.223762273788452,-0.05816487595438957,-0.2949424386024475,0.0,0.0,0.0,0.0,0.0,0.0,0.0,0.0,0.0,0.0,0.0,0.0,0.0,0.0,0.0,0.0,0.0,0.0,0.0,0.0,0.0,0.0,0.0,0.0,0.0,0.0,0.0,0.0,0.0,0.0,0.0,0.0,0.0],[-3.0929296016693115,-2.0764658451080322,-0.840357780456543,-0.9221460819244385,0.0,0.0,0.0,0.0,0.0,0.0,0.0,0.0,0.0,0.0,0.0,0.0,0.0,0.0,0.0,0.0,0.0,0.0,0.0,0.0,0.0,0.0,0.0,0.0,0.0,0.0,0.0,0.0,0.0,0.0,0.0,0.0],[-2.89104962348938,-3.0604968070983887,-2.4710965156555176,-0.6523299217224121,-0.5851238369941711,0.0,0.0,0.0,0.0,0.0,0.0,0.0,0.0,0.0,0.0,0.0,0.0,0.0,0.0,0.0,0.0,0.0,0.0,0.0,0.0,0.0,0.0,0.0,0.0,0.0,0.0,0.0,0.0,0.0,0.0,0.0],[-2.7332003116607666,-3.253967046737671,-3.5216729640960693,-2.1502444744110107,-0.35905706882476807,-0.2981444001197815,0.0,0.0,0.0,0.0,0.0,0.0,0.0,0.0,0.0,0.0,0.0,0.0,0.0,0.0,0.0,0.0,0.0,0.0,0.0,0.0,0.0,0.0,0.0,0.0,0.0,0.0,0.0,0.0,0.0,0.0],[-2.0154712200164795,-3.3018925189971924,-3.436964988708496,-3.074425220489502,-1.7633546590805054,0.027507783845067024,0.002270969795063138,0.0,0.0,0.0,0.0,0.0,0.0,0.0,0.0,0.0,0.0,0.0,0.0,0.0,0.0,0.0,0.0,0.0,0.0,0.0,0.0,0.0,0.0,0.0,0.0,0.0,0.0,0.0,0.0,0.0],[-1.7129286527633667,-3.2932493686676025,-3.581247091293335,-3.1902434825897217,-2.825843095779419,-1.4442386627197266,0.31020429730415344,0.3802574574947357,0.0,0.0,0.0,0.0,0.0,0.0,0.0,0.0,0.0,0.0,0.0,0.0,0.0,0.0,0.0,0.0,0.0,0.0,0.0,0.0,0.0,0.0,0.0,0.0,0.0,0.0,0.0,0.0],[-1.4785964488983154,-2.963273525238037,-3.4867777824401855,-3.333970546722412,-2.82122802734375,-2.514040231704712,-1.171202540397644,0.7425515055656433,0.7426419258117676,0.0,0.0,0.0,0.0,0.0,0.0,0.0,0.0,0.0,0.0,0.0,0.0,0.0,0.0,0.0,0.0,0.0,0.0,0.0,0.0,0.0,0.0,0.0,0.0,0.0,0.0,0.0],[-1.3132292032241821,-3.5129311084747314,-3.294919013977051,-3.674490213394165,-3.2876338958740234,-2.7394022941589355,-2.4890265464782715,-1.0746376514434814,0.8079719543457031,0.755841851234436,0.0,0.0,0.0,0.0,0.0,0.0,0.0,0.0,0.0,0.0,0.0,0.0,0.0,0.0,0.0,0.0,0.0,0.0,0.0,0.0,0.0,0.0,0.0,0.0,0.0,0.0],[-1.177247166633606,-4.387688159942627,-3.63051438331604,-3.0756616592407227,-3.414492607116699,-3.0110626220703125,-2.5804731845855713,-2.223149061203003,-0.8031322360038757,1.0506197214126587,1.0746002197265625,0.0,0.0,0.0,0.0,0.0,0.0,0.0,0.0,0.0,0.0,0.0,0.0,0.0,0.0,0.0,0.0,0.0,0.0,0.0,0.0,0.0,0.0,0.0,0.0,0.0],[-0.7797973155975342,-4.2583909034729,-4.782822608947754,-3.5089516639709473,-2.9899585247039795,-3.170222282409668,-2.915868043899536,-2.401759624481201,-2.017401933670044,-0.6277130246162415,1.221483826637268,1.3751540184020996,0.0,0.0,0.0,0.0,0.0,0.0,0.0,0.0,0.0,0.0,0.0,0.0,0.0,0.0,0.0,0.0,0.0,0.0,0.0,0.0,0.0,0.0,0.0,0.0],[-0.9016638994216919,-3.341895580291748,-4.693603515625,-4.967595100402832,-3.6636252403259277,-3.025681257247925,-3.2151403427124023,-2.8355484008789062,-2.3220419883728027,-1.895055890083313,-0.5504673719406128,1.4649429321289062,1.4973037242889404,0.0,0.0,0.0,0.0,0.0,0.0,0.0,0.0,0.0,0.0,0.0,0.0,0.0,0.0,0.0,0.0,0.0,0.0,0.0,0.0,0.0,0.0,0.0],[-0.9103406667709351,-3.0050814151763916,-3.343374729156494,-4.697803974151611,-4.881352424621582,-3.6230499744415283,-2.860929489135742,-3.0054774284362793,-2.8297340869903564,-2.217741012573242,-1.7532061338424683,-0.17200444638729095,1.732257604598999,1.7574501037597656,0.0,0.0,0.0,0.0,0.0,0.0,0.0,0.0,0.0,0.0,0.0,0.0,0.0,0.0,0.0,0.0,0.0,0.0,0.0,0.0,0.0,0.0],[-0.6549521684646606,-3.289505958557129,-3.0296106338500977,-3.1357741355895996,-4.330682277679443,-4.606551170349121,-3.3326618671417236,-2.646806001663208,-2.9350788593292236,-2.6627869606018066,-1.901680827140808,-1.2902525663375854,0.06567927449941635,1.950036883354187,1.9047260284423828,0.0,0.0,0.0,0.0,0.0,0.0,0.0,0.0,0.0,0.0,0.0,0.0,0.0,0.0,0.0,0.0,0.0,0.0,0.0,0.0,0.0],[-0.8250291347503662,-3.72396183013916,-4.001044750213623,-3.2354896068573,-3.1853253841400146,-4.348820686340332,-4.593409538269043,-3.548510789871216,-3.0148186683654785,-3.291645050048828,-2.769587993621826,-1.9148144721984863,-1.450507640838623,-0.007562282495200634,1.8057448863983154,1.863464593887329,0.0,0.0,0.0,0.0,0.0,0.0,0.0,0.0,0.0,0.0,0.0,0.0,0.0,0.0,0.0,0.0,0.0,0.0,0.0,0.0],[-0.9735074043273926,-3.9303042888641357,-4.30724573135376,-4.091493606567383,-3.2065823078155518,-3.113030433654785,-4.329792022705078,-4.714228630065918,-3.727729558944702,-3.1826353073120117,-3.275312662124634,-2.5874435901641846,-1.9316585063934326,-1.561625361442566,-0.07034648209810257,1.8473570346832275,1.8745476007461548,0.0,0.0,0.0,0.0,0.0,0.0,0.0,0.0,0.0,0.0,0.0,0.0,0.0,0.0,0.0,0.0,0.0,0.0,0.0],[-0.3831130862236023,-3.5625860691070557,-3.7387454509735107,-3.925920248031616,-3.9426608085632324,-2.9853200912475586,-2.849245309829712,-3.9670252799987793,-4.392622470855713,-3.4747488498687744,-3.064948320388794,-2.968376398086548,-2.315631866455078,-1.7250874042510986,-1.3008381128311157,0.24490836262702942,2.0981199741363525,2.083097457885742,0.0,0.0,0.0,0.0,0.0,0.0,0.0,0.0,0.0,0.0,0.0,0.0,0.0,0.0,0.0,0.0,0.0,0.0],[-0.24146199226379395,-3.1513421535491943,-3.562589168548584,-3.5074167251586914,-4.013363361358643,-4.071817398071289,-3.1482367515563965,-2.860874891281128,-3.841878890991211,-4.237438678741455,-3.5450892448425293,-3.1854474544525146,-3.224346160888672,-2.5031731128692627,-1.7266803979873657,-1.2123656272888184,0.2312944531440735,2.0876169204711914,2.0198018550872803,0.0,0.0,0.0,0.0,0.0,0.0,0.0,0.0,0.0,0.0,0.0,0.0,0.0,0.0,0.0,0.0,0.0],[-0.03833584859967232,-2.896939754486084,-3.228924512863159,-3.51598858833313,-3.672832489013672,-4.37163782119751,-4.492068290710449,-3.337552070617676,-2.77347993850708,-3.7528464794158936,-4.201258659362793,-3.5730085372924805,-3.5722391605377197,-3.518970489501953,-2.393224000930786,-1.634222149848938,-1.2801209688186646,0.3367396593093872,2.1538565158843994,2.101747989654541,0.0,0.0,0.0,0.0,0.0,0.0,0.0,0.0,0.0,0.0,0.0,0.0,0.0,0.0,0.0,0.0],[-0.2724281847476959,-3.611887216567993,-3.1016621589660645,-3.37958025932312,-3.6266260147094727,-3.772886037826538,-4.803476333618164,-4.969823837280273,-3.4778859615325928,-2.7632904052734375,-3.6584229469299316,-3.9826550483703613,-3.8142993450164795,-4.026941776275635,-3.611865997314453,-2.42093563079834,-1.7081025838851929,-1.2361531257629395,0.36288976669311523,2.181460380554199,2.238070249557495,0.0,0.0,0.0,0.0,0.0,0.0,0.0,0.0,0.0,0.0,0.0,0.0,0.0,0.0,0.0],[0.10869450867176056,-3.9439754486083984,-3.5461080074310303,-3.092168092727661,-3.519056797027588,-3.3910694122314453,-3.7819018363952637,-4.982571125030518,-5.074827194213867,-3.5092616081237793,-2.7682292461395264,-3.3238444328308105,-3.871408700942993,-3.9876368045806885,-4.174905300140381,-3.713609218597412,-2.3288538455963135,-1.4918041229248047,-1.0540087223052979,0.34637215733528137,2.3203821182250977,2.3146560192108154,0.0,0.0,0.0,0.0,0.0,0.0,0.0,0.0,0.0,0.0,0.0,0.0,0.0,0.0],[-0.10669919848442078,-3.4898173809051514,-4.085561275482178,-3.7051753997802734,-3.4821596145629883,-3.588761806488037,-3.539020299911499,-3.887425184249878,-4.972773551940918,-5.031644821166992,-3.601698875427246,-2.555440902709961,-3.1660146713256836,-3.779055118560791,-3.9437198638916016,-4.218429088592529,-3.6849417686462402,-2.3163249492645264,-1.443447470664978,-1.089855432510376,0.46330955624580383,2.39129900932312,2.3738880157470703,0.0,0.0,0.0,0.0,0.0,0.0,0.0,0.0,0.0,0.0,0.0,0.0,0.0],[-0.025910355150699615,-2.944518804550171,-3.3473739624023438,-4.278857231140137,-4.033199310302734,-3.7615349292755127,-3.8499746322631836,-3.6005659103393555,-3.7771332263946533,-4.781209468841553,-4.975767612457275,-3.276616334915161,-2.2987098693847656,-2.959984064102173,-3.6384828090667725,-3.962604522705078,-4.234551429748535,-3.6504833698272705,-2.2107319831848145,-1.4300594329833984,-0.9800878167152405,0.5413663387298584,2.491436004638672,2.4699556827545166,0.0,0.0,0.0,0.0,0.0,0.0,0.0,0.0,0.0,0.0,0.0,0.0],[0.16834771633148193,-3.751474618911743,-2.678865432739258,-3.1980035305023193,-4.1790595054626465,-4.089881420135498,-3.9192745685577393,-4.01492977142334,-3.7178828716278076,-3.5732052326202393,-4.468501567840576,-4.529415607452393,-3.0559868812561035,-2.0542101860046387,-2.6996982097625732,-3.505801200866699,-3.883857011795044,-4.037654876708984,-3.4747400283813477,-2.2146475315093994,-1.2228673696517944,-0.7943982481956482,0.65716153383255,2.5806102752685547,2.5346508026123047,0.0,0.0,0.0,0.0,0.0,0.0,0.0,0.0,0.0,0.0,0.0],[0.13682080805301666,-4.742996692657471,-4.00391960144043,-2.660353899002075,-3.1089980602264404,-4.01882266998291,-4.158309459686279,-4.153207778930664,-4.386022567749023,-3.8477234840393066,-3.366757869720459,-3.9422919750213623,-4.226237773895264,-2.8666324615478516,-1.9778693914413452,-2.671610116958618,-3.5149147510528564,-3.8054232597351074,-3.899047613143921,-3.3694169521331787,-1.9479353427886963,-0.985447347164154,-0.5772866010665894,0.7311670780181885,2.7132630348205566,2.685485601425171,0.0,0.0,0.0,0.0,0.0,0.0,0.0,0.0,0.0,0.0],[0.5046740174293518,-4.086294174194336,-4.722631454467773,-3.906742572784424,-2.636535167694092,-2.8943560123443604,-4.027119159698486,-4.346591949462891,-4.537519931793213,-4.671876430511475,-4.113278388977051,-3.264003276824951,-3.7235631942749023,-4.042729377746582,-2.8536007404327393,-1.9922665357589722,-2.6411826610565186,-3.6902101039886475,-4.004683971405029,-3.8573272228240967,-3.162971019744873,-1.9132001399993896,-0.9563461542129517,-0.5355913043022156,0.7998874187469482,2.7411348819732666,2.7911362648010254,0.0,0.0,0.0,0.0,0.0,0.0,0.0,0.0,0.0],[0.38283008337020874,-3.2799317836761475,-3.6443657875061035,-4.444718360900879,-3.821946144104004,-2.524697780609131,-2.7298009395599365,-3.9264280796051025,-4.713237762451172,-4.804799556732178,-4.984982013702393,-4.1621222496032715,-3.2305755615234375,-3.583651065826416,-3.920987129211426,-2.7830963134765625,-1.7361546754837036,-2.4587509632110596,-3.753214120864868,-4.0857319831848145,-3.508265733718872,-2.6564693450927734,-1.7041151523590088,-0.9329007863998413,-0.44997328519821167,1.0190695524215698,3.036184549331665,3.0199286937713623,0.0,0.0,0.0,0.0,0.0,0.0,0.0,0.0],[0.530392587184906,-2.8659420013427734,-2.575883150100708,-3.133688449859619,-4.059690952301025,-3.7239863872528076,-2.472217082977295,-2.5636634826660156,-4.09780216217041,-4.9651031494140625,-5.173120498657227,-5.18179988861084,-4.400475978851318,-3.3161373138427734,-3.4156835079193115,-3.7004833221435547,-2.692875385284424,-1.6563878059387207,-2.514991044998169,-3.9575445652008057,-4.087992191314697,-3.091066837310791,-2.403069019317627,-1.7124961614608765,-0.9148768782615662,-0.2869635224342346,1.1419123411178589,3.1260111331939697,3.002826690673828,0.0,0.0,0.0,0.0,0.0,0.0,0.0],[0.3486916422843933,-3.0429508686065674,-2.763422966003418,-2.7005116939544678,-3.1060173511505127,-4.1085944175720215,-3.959467649459839,-2.767704725265503,-2.880876064300537,-4.5524516105651855,-5.6436848640441895,-5.813583850860596,-5.865090847015381,-5.046614170074463,-3.7188262939453125,-3.6006977558135986,-3.9676997661590576,-2.9715514183044434,-2.018754720687866,-2.81380558013916,-4.312132358551025,-4.231544494628906,-3.1368281841278076,-2.471362829208374,-1.8121118545532227,-1.0422508716583252,-0.37176698446273804,1.073904037475586,2.9760379791259766,2.9193766117095947,0.0,0.0,0.0,0.0,0.0,0.0],[0.24681369960308075,-3.7227025032043457,-2.9079580307006836,-2.840303421020508,-2.751516580581665,-2.981879472732544,-4.0203752517700195,-4.120903015136719,-2.959627628326416,-2.984011650085449,-4.769874572753906,-5.992849826812744,-6.2876691818237305,-6.325372219085693,-5.40706729888916,-4.038243770599365,-3.693565845489502,-3.9145500659942627,-3.201681613922119,-2.273094654083252,-2.897998571395874,-4.4476447105407715,-4.4591193199157715,-3.3196821212768555,-2.500640630722046,-2.0729100704193115,-1.1789731979370117,-0.4317375719547272,0.9675994515419006,2.8892288208007812,2.8610124588012695,0.0,0.0,0.0,0.0,0.0],[0.531744122505188,-3.993665933609009,-3.418023109436035,-2.5452492237091064,-2.532701015472412,-2.404818534851074,-2.695002317428589,-3.6224727630615234,-3.8017780780792236,-2.8194222450256348,-2.8831539154052734,-4.5858330726623535,-6.124099254608154,-6.475654125213623,-6.154117107391357,-5.323585510253906,-3.954237937927246,-3.379392623901367,-3.6374666690826416,-3.211660385131836,-2.2088544368743896,-2.773603677749634,-4.433042526245117,-4.644395351409912,-3.188486099243164,-2.4040143489837646,-2.029916763305664,-1.0940191745758057,-0.2628764808177948,1.1169812679290771,3.0794451236724854,3.1463499069213867,0.0,0.0,0.0,0.0],[0.46091097593307495,-3.434887647628784,-4.209572792053223,-3.903653621673584,-2.9661505222320557,-2.75496506690979,-2.7118828296661377,-2.655548334121704,-3.3364169597625732,-3.805774450302124,-3.1968135833740234,-3.029656171798706,-4.803499221801758,-6.565319061279297,-6.6167707443237305,-6.250896453857422,-5.424535274505615,-4.054909706115723,-3.395235538482666,-3.71575927734375,-3.4094879627227783,-2.469975233078003,-3.0200812816619873,-4.781979084014893,-4.933817386627197,-3.3188722133636475,-2.5617167949676514,-2.1559481620788574,-1.2839140892028809,-0.487728476524353,0.8499715328216553,2.9421191215515137,2.920336961746216,0.0,0.0,0.0],[0.26363131403923035,-3.015984296798706,-3.2393195629119873,-4.796149730682373,-4.51051139831543,-3.4938759803771973,-3.176962375640869,-2.931863307952881,-2.5848169326782227,-3.068444013595581,-3.797466516494751,-3.1762454509735107,-3.0441842079162598,-4.931905746459961,-6.553157806396484,-6.715516567230225,-6.095889568328857,-5.220309257507324,-4.111691474914551,-3.5553393363952637,-3.660609006881714,-3.4298484325408936,-2.746371269226074,-3.3185269832611084,-5.082921504974365,-5.036102294921875,-3.4048149585723877,-2.5764353275299072,-2.3256986141204834,-1.4393688440322876,-0.6035282611846924,0.9134470820426941,2.9298877716064453,2.969817638397217,0.0,0.0],[0.4085735082626343,-3.572755813598633,-2.5596556663513184,-3.426999807357788,-4.860729217529297,-4.794151306152344,-3.6984119415283203,-3.272632598876953,-2.991685152053833,-2.509371757507324,-2.8768484592437744,-3.5546436309814453,-3.254784107208252,-3.2192492485046387,-4.89622688293457,-6.688788414001465,-6.672029495239258,-5.660686016082764,-4.911343097686768,-4.19536828994751,-3.419767379760742,-3.32844614982605,-3.2339107990264893,-2.752511978149414,-3.2702088356018066,-4.797333240509033,-4.762479782104492,-3.1201305389404297,-2.383538246154785,-2.189115524291992,-1.272355079650879,-0.2665446698665619,1.044761061668396,3.1595091819763184,3.107436180114746,0.0],[0.5477688908576965,-3.9226555824279785,-3.517841339111328,-2.840972423553467,-3.348464250564575,-4.839841365814209,-4.8495893478393555,-3.8198390007019043,-3.3282179832458496,-3.0946576595306396,-2.426997423171997,-2.627723455429077,-3.5492353439331055,-3.453277587890625,-3.3714380264282227,-5.123576641082764,-6.823018550872803,-6.5366315841674805,-5.420891761779785,-4.793561935424805,-4.070008277893066,-3.3325607776641846,-3.0895636081695557,-3.0927579402923584,-2.5710501670837402,-2.9758682250976562,-4.467453956604004,-4.469339370727539,-2.8711442947387695,-2.325216293334961,-2.1873679161071777,-0.9949111342430115,-0.2644258141517639,1.244458794593811,3.2593417167663574,3.223111629486084]],\"type\":\"heatmap\",\"xaxis\":\"x\",\"yaxis\":\"y\",\"hovertemplate\":\"x: %{x}<br>y: %{y}<br>color: %{z}<extra></extra>\"}],                        {\"template\":{\"data\":{\"bar\":[{\"error_x\":{\"color\":\"#2a3f5f\"},\"error_y\":{\"color\":\"#2a3f5f\"},\"marker\":{\"line\":{\"color\":\"#E5ECF6\",\"width\":0.5},\"pattern\":{\"fillmode\":\"overlay\",\"size\":10,\"solidity\":0.2}},\"type\":\"bar\"}],\"barpolar\":[{\"marker\":{\"line\":{\"color\":\"#E5ECF6\",\"width\":0.5},\"pattern\":{\"fillmode\":\"overlay\",\"size\":10,\"solidity\":0.2}},\"type\":\"barpolar\"}],\"carpet\":[{\"aaxis\":{\"endlinecolor\":\"#2a3f5f\",\"gridcolor\":\"white\",\"linecolor\":\"white\",\"minorgridcolor\":\"white\",\"startlinecolor\":\"#2a3f5f\"},\"baxis\":{\"endlinecolor\":\"#2a3f5f\",\"gridcolor\":\"white\",\"linecolor\":\"white\",\"minorgridcolor\":\"white\",\"startlinecolor\":\"#2a3f5f\"},\"type\":\"carpet\"}],\"choropleth\":[{\"colorbar\":{\"outlinewidth\":0,\"ticks\":\"\"},\"type\":\"choropleth\"}],\"contour\":[{\"colorbar\":{\"outlinewidth\":0,\"ticks\":\"\"},\"colorscale\":[[0.0,\"#0d0887\"],[0.1111111111111111,\"#46039f\"],[0.2222222222222222,\"#7201a8\"],[0.3333333333333333,\"#9c179e\"],[0.4444444444444444,\"#bd3786\"],[0.5555555555555556,\"#d8576b\"],[0.6666666666666666,\"#ed7953\"],[0.7777777777777778,\"#fb9f3a\"],[0.8888888888888888,\"#fdca26\"],[1.0,\"#f0f921\"]],\"type\":\"contour\"}],\"contourcarpet\":[{\"colorbar\":{\"outlinewidth\":0,\"ticks\":\"\"},\"type\":\"contourcarpet\"}],\"heatmap\":[{\"colorbar\":{\"outlinewidth\":0,\"ticks\":\"\"},\"colorscale\":[[0.0,\"#0d0887\"],[0.1111111111111111,\"#46039f\"],[0.2222222222222222,\"#7201a8\"],[0.3333333333333333,\"#9c179e\"],[0.4444444444444444,\"#bd3786\"],[0.5555555555555556,\"#d8576b\"],[0.6666666666666666,\"#ed7953\"],[0.7777777777777778,\"#fb9f3a\"],[0.8888888888888888,\"#fdca26\"],[1.0,\"#f0f921\"]],\"type\":\"heatmap\"}],\"heatmapgl\":[{\"colorbar\":{\"outlinewidth\":0,\"ticks\":\"\"},\"colorscale\":[[0.0,\"#0d0887\"],[0.1111111111111111,\"#46039f\"],[0.2222222222222222,\"#7201a8\"],[0.3333333333333333,\"#9c179e\"],[0.4444444444444444,\"#bd3786\"],[0.5555555555555556,\"#d8576b\"],[0.6666666666666666,\"#ed7953\"],[0.7777777777777778,\"#fb9f3a\"],[0.8888888888888888,\"#fdca26\"],[1.0,\"#f0f921\"]],\"type\":\"heatmapgl\"}],\"histogram\":[{\"marker\":{\"pattern\":{\"fillmode\":\"overlay\",\"size\":10,\"solidity\":0.2}},\"type\":\"histogram\"}],\"histogram2d\":[{\"colorbar\":{\"outlinewidth\":0,\"ticks\":\"\"},\"colorscale\":[[0.0,\"#0d0887\"],[0.1111111111111111,\"#46039f\"],[0.2222222222222222,\"#7201a8\"],[0.3333333333333333,\"#9c179e\"],[0.4444444444444444,\"#bd3786\"],[0.5555555555555556,\"#d8576b\"],[0.6666666666666666,\"#ed7953\"],[0.7777777777777778,\"#fb9f3a\"],[0.8888888888888888,\"#fdca26\"],[1.0,\"#f0f921\"]],\"type\":\"histogram2d\"}],\"histogram2dcontour\":[{\"colorbar\":{\"outlinewidth\":0,\"ticks\":\"\"},\"colorscale\":[[0.0,\"#0d0887\"],[0.1111111111111111,\"#46039f\"],[0.2222222222222222,\"#7201a8\"],[0.3333333333333333,\"#9c179e\"],[0.4444444444444444,\"#bd3786\"],[0.5555555555555556,\"#d8576b\"],[0.6666666666666666,\"#ed7953\"],[0.7777777777777778,\"#fb9f3a\"],[0.8888888888888888,\"#fdca26\"],[1.0,\"#f0f921\"]],\"type\":\"histogram2dcontour\"}],\"mesh3d\":[{\"colorbar\":{\"outlinewidth\":0,\"ticks\":\"\"},\"type\":\"mesh3d\"}],\"parcoords\":[{\"line\":{\"colorbar\":{\"outlinewidth\":0,\"ticks\":\"\"}},\"type\":\"parcoords\"}],\"pie\":[{\"automargin\":true,\"type\":\"pie\"}],\"scatter\":[{\"marker\":{\"colorbar\":{\"outlinewidth\":0,\"ticks\":\"\"}},\"type\":\"scatter\"}],\"scatter3d\":[{\"line\":{\"colorbar\":{\"outlinewidth\":0,\"ticks\":\"\"}},\"marker\":{\"colorbar\":{\"outlinewidth\":0,\"ticks\":\"\"}},\"type\":\"scatter3d\"}],\"scattercarpet\":[{\"marker\":{\"colorbar\":{\"outlinewidth\":0,\"ticks\":\"\"}},\"type\":\"scattercarpet\"}],\"scattergeo\":[{\"marker\":{\"colorbar\":{\"outlinewidth\":0,\"ticks\":\"\"}},\"type\":\"scattergeo\"}],\"scattergl\":[{\"marker\":{\"colorbar\":{\"outlinewidth\":0,\"ticks\":\"\"}},\"type\":\"scattergl\"}],\"scattermapbox\":[{\"marker\":{\"colorbar\":{\"outlinewidth\":0,\"ticks\":\"\"}},\"type\":\"scattermapbox\"}],\"scatterpolar\":[{\"marker\":{\"colorbar\":{\"outlinewidth\":0,\"ticks\":\"\"}},\"type\":\"scatterpolar\"}],\"scatterpolargl\":[{\"marker\":{\"colorbar\":{\"outlinewidth\":0,\"ticks\":\"\"}},\"type\":\"scatterpolargl\"}],\"scatterternary\":[{\"marker\":{\"colorbar\":{\"outlinewidth\":0,\"ticks\":\"\"}},\"type\":\"scatterternary\"}],\"surface\":[{\"colorbar\":{\"outlinewidth\":0,\"ticks\":\"\"},\"colorscale\":[[0.0,\"#0d0887\"],[0.1111111111111111,\"#46039f\"],[0.2222222222222222,\"#7201a8\"],[0.3333333333333333,\"#9c179e\"],[0.4444444444444444,\"#bd3786\"],[0.5555555555555556,\"#d8576b\"],[0.6666666666666666,\"#ed7953\"],[0.7777777777777778,\"#fb9f3a\"],[0.8888888888888888,\"#fdca26\"],[1.0,\"#f0f921\"]],\"type\":\"surface\"}],\"table\":[{\"cells\":{\"fill\":{\"color\":\"#EBF0F8\"},\"line\":{\"color\":\"white\"}},\"header\":{\"fill\":{\"color\":\"#C8D4E3\"},\"line\":{\"color\":\"white\"}},\"type\":\"table\"}]},\"layout\":{\"annotationdefaults\":{\"arrowcolor\":\"#2a3f5f\",\"arrowhead\":0,\"arrowwidth\":1},\"autotypenumbers\":\"strict\",\"coloraxis\":{\"colorbar\":{\"outlinewidth\":0,\"ticks\":\"\"}},\"colorscale\":{\"diverging\":[[0,\"#8e0152\"],[0.1,\"#c51b7d\"],[0.2,\"#de77ae\"],[0.3,\"#f1b6da\"],[0.4,\"#fde0ef\"],[0.5,\"#f7f7f7\"],[0.6,\"#e6f5d0\"],[0.7,\"#b8e186\"],[0.8,\"#7fbc41\"],[0.9,\"#4d9221\"],[1,\"#276419\"]],\"sequential\":[[0.0,\"#0d0887\"],[0.1111111111111111,\"#46039f\"],[0.2222222222222222,\"#7201a8\"],[0.3333333333333333,\"#9c179e\"],[0.4444444444444444,\"#bd3786\"],[0.5555555555555556,\"#d8576b\"],[0.6666666666666666,\"#ed7953\"],[0.7777777777777778,\"#fb9f3a\"],[0.8888888888888888,\"#fdca26\"],[1.0,\"#f0f921\"]],\"sequentialminus\":[[0.0,\"#0d0887\"],[0.1111111111111111,\"#46039f\"],[0.2222222222222222,\"#7201a8\"],[0.3333333333333333,\"#9c179e\"],[0.4444444444444444,\"#bd3786\"],[0.5555555555555556,\"#d8576b\"],[0.6666666666666666,\"#ed7953\"],[0.7777777777777778,\"#fb9f3a\"],[0.8888888888888888,\"#fdca26\"],[1.0,\"#f0f921\"]]},\"colorway\":[\"#636efa\",\"#EF553B\",\"#00cc96\",\"#ab63fa\",\"#FFA15A\",\"#19d3f3\",\"#FF6692\",\"#B6E880\",\"#FF97FF\",\"#FECB52\"],\"font\":{\"color\":\"#2a3f5f\"},\"geo\":{\"bgcolor\":\"white\",\"lakecolor\":\"white\",\"landcolor\":\"#E5ECF6\",\"showlakes\":true,\"showland\":true,\"subunitcolor\":\"white\"},\"hoverlabel\":{\"align\":\"left\"},\"hovermode\":\"closest\",\"mapbox\":{\"style\":\"light\"},\"paper_bgcolor\":\"white\",\"plot_bgcolor\":\"#E5ECF6\",\"polar\":{\"angularaxis\":{\"gridcolor\":\"white\",\"linecolor\":\"white\",\"ticks\":\"\"},\"bgcolor\":\"#E5ECF6\",\"radialaxis\":{\"gridcolor\":\"white\",\"linecolor\":\"white\",\"ticks\":\"\"}},\"scene\":{\"xaxis\":{\"backgroundcolor\":\"#E5ECF6\",\"gridcolor\":\"white\",\"gridwidth\":2,\"linecolor\":\"white\",\"showbackground\":true,\"ticks\":\"\",\"zerolinecolor\":\"white\"},\"yaxis\":{\"backgroundcolor\":\"#E5ECF6\",\"gridcolor\":\"white\",\"gridwidth\":2,\"linecolor\":\"white\",\"showbackground\":true,\"ticks\":\"\",\"zerolinecolor\":\"white\"},\"zaxis\":{\"backgroundcolor\":\"#E5ECF6\",\"gridcolor\":\"white\",\"gridwidth\":2,\"linecolor\":\"white\",\"showbackground\":true,\"ticks\":\"\",\"zerolinecolor\":\"white\"}},\"shapedefaults\":{\"line\":{\"color\":\"#2a3f5f\"}},\"ternary\":{\"aaxis\":{\"gridcolor\":\"white\",\"linecolor\":\"white\",\"ticks\":\"\"},\"baxis\":{\"gridcolor\":\"white\",\"linecolor\":\"white\",\"ticks\":\"\"},\"bgcolor\":\"#E5ECF6\",\"caxis\":{\"gridcolor\":\"white\",\"linecolor\":\"white\",\"ticks\":\"\"}},\"title\":{\"x\":0.05},\"xaxis\":{\"automargin\":true,\"gridcolor\":\"white\",\"linecolor\":\"white\",\"ticks\":\"\",\"title\":{\"standoff\":15},\"zerolinecolor\":\"white\",\"zerolinewidth\":2},\"yaxis\":{\"automargin\":true,\"gridcolor\":\"white\",\"linecolor\":\"white\",\"ticks\":\"\",\"title\":{\"standoff\":15},\"zerolinecolor\":\"white\",\"zerolinewidth\":2}}},\"xaxis\":{\"anchor\":\"y\",\"domain\":[0.0,1.0],\"scaleanchor\":\"y\",\"constrain\":\"domain\"},\"yaxis\":{\"anchor\":\"x\",\"domain\":[0.0,1.0],\"autorange\":\"reversed\",\"constrain\":\"domain\"},\"coloraxis\":{\"colorscale\":[[0.0,\"#0d0887\"],[0.1111111111111111,\"#46039f\"],[0.2222222222222222,\"#7201a8\"],[0.3333333333333333,\"#9c179e\"],[0.4444444444444444,\"#bd3786\"],[0.5555555555555556,\"#d8576b\"],[0.6666666666666666,\"#ed7953\"],[0.7777777777777778,\"#fb9f3a\"],[0.8888888888888888,\"#fdca26\"],[1.0,\"#f0f921\"]]},\"margin\":{\"t\":60}},                        {\"responsive\": true}                    ).then(function(){\n",
       "                            \n",
       "var gd = document.getElementById('560a78c5-8d8a-4854-aefb-abd4f5ac4833');\n",
       "var x = new MutationObserver(function (mutations, observer) {{\n",
       "        var display = window.getComputedStyle(gd).display;\n",
       "        if (!display || display === 'none') {{\n",
       "            console.log([gd, 'removed!']);\n",
       "            Plotly.purge(gd);\n",
       "            observer.disconnect();\n",
       "        }}\n",
       "}});\n",
       "\n",
       "// Listen for the removal of the full notebook cells\n",
       "var notebookContainer = gd.closest('#notebook-container');\n",
       "if (notebookContainer) {{\n",
       "    x.observe(notebookContainer, {childList: true});\n",
       "}}\n",
       "\n",
       "// Listen for the clearing of the current output cell\n",
       "var outputEl = gd.closest('.output');\n",
       "if (outputEl) {{\n",
       "    x.observe(outputEl, {childList: true});\n",
       "}}\n",
       "\n",
       "                        })                };                });            </script>        </div>"
      ]
     },
     "metadata": {},
     "output_type": "display_data"
    },
    {
     "data": {
      "application/vnd.plotly.v1+json": {
       "config": {
        "plotlyServerURL": "https://plot.ly"
       },
       "data": [
        {
         "coloraxis": "coloraxis",
         "hovertemplate": "x: %{x}<br>y: %{y}<br>color: %{z}<extra></extra>",
         "name": "0",
         "texttemplate": "%{z}",
         "type": "heatmap",
         "xaxis": "x",
         "yaxis": "y",
         "z": [
          [
           -11.853020668029785,
           0,
           0,
           0,
           0,
           0,
           0,
           0,
           0,
           0,
           0,
           0,
           0,
           0,
           0,
           0,
           0,
           0,
           0,
           0,
           0,
           0,
           0,
           0,
           0,
           0,
           0,
           0,
           0,
           0,
           0,
           0,
           0,
           0,
           0,
           0
          ],
          [
           1.1965597867965698,
           -3.7654366493225098,
           0,
           0,
           0,
           0,
           0,
           0,
           0,
           0,
           0,
           0,
           0,
           0,
           0,
           0,
           0,
           0,
           0,
           0,
           0,
           0,
           0,
           0,
           0,
           0,
           0,
           0,
           0,
           0,
           0,
           0,
           0,
           0,
           0,
           0
          ],
          [
           -0.2952010929584503,
           -1.784881830215454,
           -3.0019302368164062,
           0,
           0,
           0,
           0,
           0,
           0,
           0,
           0,
           0,
           0,
           0,
           0,
           0,
           0,
           0,
           0,
           0,
           0,
           0,
           0,
           0,
           0,
           0,
           0,
           0,
           0,
           0,
           0,
           0,
           0,
           0,
           0,
           0
          ],
          [
           -0.03600487858057022,
           -2.7623047828674316,
           -1.5401846170425415,
           -2.7474193572998047,
           0,
           0,
           0,
           0,
           0,
           0,
           0,
           0,
           0,
           0,
           0,
           0,
           0,
           0,
           0,
           0,
           0,
           0,
           0,
           0,
           0,
           0,
           0,
           0,
           0,
           0,
           0,
           0,
           0,
           0,
           0,
           0
          ],
          [
           0.125167578458786,
           -3.721316337585449,
           -3.104959487915039,
           -1.3626352548599243,
           -2.5371103286743164,
           0,
           0,
           0,
           0,
           0,
           0,
           0,
           0,
           0,
           0,
           0,
           0,
           0,
           0,
           0,
           0,
           0,
           0,
           0,
           0,
           0,
           0,
           0,
           0,
           0,
           0,
           0,
           0,
           0,
           0,
           0
          ],
          [
           0.21579624712467194,
           -3.997894048690796,
           -3.7867045402526855,
           -2.79708194732666,
           -1.175666332244873,
           -2.35153865814209,
           0,
           0,
           0,
           0,
           0,
           0,
           0,
           0,
           0,
           0,
           0,
           0,
           0,
           0,
           0,
           0,
           0,
           0,
           0,
           0,
           0,
           0,
           0,
           0,
           0,
           0,
           0,
           0,
           0,
           0
          ],
          [
           0.42463868856430054,
           -4.106073379516602,
           -4.411756992340088,
           -3.6661605834960938,
           -2.67741322517395,
           -1.00356125831604,
           -2.117382764816284,
           0,
           0,
           0,
           0,
           0,
           0,
           0,
           0,
           0,
           0,
           0,
           0,
           0,
           0,
           0,
           0,
           0,
           0,
           0,
           0,
           0,
           0,
           0,
           0,
           0,
           0,
           0,
           0,
           0
          ],
          [
           0.5766687989234924,
           -4.712031364440918,
           -4.247743606567383,
           -4.257660388946533,
           -3.5840771198272705,
           -2.471125841140747,
           -0.8327661156654358,
           -1.9627710580825806,
           0,
           0,
           0,
           0,
           0,
           0,
           0,
           0,
           0,
           0,
           0,
           0,
           0,
           0,
           0,
           0,
           0,
           0,
           0,
           0,
           0,
           0,
           0,
           0,
           0,
           0,
           0,
           0
          ],
          [
           0.8145534992218018,
           -4.161218643188477,
           -4.894363880157471,
           -4.048027515411377,
           -4.072145462036133,
           -3.4258904457092285,
           -2.2344818115234375,
           -0.5922788977622986,
           -1.7447755336761475,
           0,
           0,
           0,
           0,
           0,
           0,
           0,
           0,
           0,
           0,
           0,
           0,
           0,
           0,
           0,
           0,
           0,
           0,
           0,
           0,
           0,
           0,
           0,
           0,
           0,
           0,
           0
          ],
          [
           0.9999622106552124,
           -4.178431034088135,
           -4.004141807556152,
           -4.779996395111084,
           -3.794323444366455,
           -3.837400436401367,
           -3.18466854095459,
           -1.9756214618682861,
           -0.43108564615249634,
           -1.5762220621109009,
           0,
           0,
           0,
           0,
           0,
           0,
           0,
           0,
           0,
           0,
           0,
           0,
           0,
           0,
           0,
           0,
           0,
           0,
           0,
           0,
           0,
           0,
           0,
           0,
           0,
           0
          ],
          [
           1.1399338245391846,
           -5.12551736831665,
           -4.350557804107666,
           -3.9805405139923096,
           -4.749445915222168,
           -3.724959373474121,
           -3.8050765991210938,
           -3.191866159439087,
           -2.037104368209839,
           -0.36816978454589844,
           -1.4394234418869019,
           0,
           0,
           0,
           0,
           0,
           0,
           0,
           0,
           0,
           0,
           0,
           0,
           0,
           0,
           0,
           0,
           0,
           0,
           0,
           0,
           0,
           0,
           0,
           0,
           0
          ],
          [
           1.3367254734039307,
           -5.957430839538574,
           -5.21621561050415,
           -4.240001678466797,
           -4.058434963226318,
           -4.59617805480957,
           -3.6832478046417236,
           -3.7002081871032715,
           -3.200155258178711,
           -1.9353423118591309,
           -0.233086496591568,
           -1.2639381885528564,
           0,
           0,
           0,
           0,
           0,
           0,
           0,
           0,
           0,
           0,
           0,
           0,
           0,
           0,
           0,
           0,
           0,
           0,
           0,
           0,
           0,
           0,
           0,
           0
          ],
          [
           1.291236400604248,
           -4.679664611816406,
           -6.100942611694336,
           -5.2239251136779785,
           -4.220742702484131,
           -3.7932801246643066,
           -4.300835609436035,
           -3.4855141639709473,
           -3.484222412109375,
           -2.931654930114746,
           -1.7131638526916504,
           0.013503176160156727,
           -1.0988752841949463,
           0,
           0,
           0,
           0,
           0,
           0,
           0,
           0,
           0,
           0,
           0,
           0,
           0,
           0,
           0,
           0,
           0,
           0,
           0,
           0,
           0,
           0,
           0
          ],
          [
           1.4926141500473022,
           -4.196760654449463,
           -4.404644012451172,
           -5.952355861663818,
           -5.003281593322754,
           -3.9905006885528564,
           -3.4883875846862793,
           -4.0647196769714355,
           -3.4036664962768555,
           -3.1857569217681885,
           -2.577934741973877,
           -1.3490278720855713,
           0.31044527888298035,
           -0.821184515953064,
           0,
           0,
           0,
           0,
           0,
           0,
           0,
           0,
           0,
           0,
           0,
           0,
           0,
           0,
           0,
           0,
           0,
           0,
           0,
           0,
           0,
           0
          ],
          [
           1.5540428161621094,
           -4.547226428985596,
           -4.398956775665283,
           -4.511699676513672,
           -5.872568130493164,
           -5.096621513366699,
           -4.0429463386535645,
           -3.640895366668701,
           -4.226357460021973,
           -3.3766722679138184,
           -3.130697727203369,
           -2.440896511077881,
           -1.4222546815872192,
           0.21195241808891296,
           -0.9105542898178101,
           0,
           0,
           0,
           0,
           0,
           0,
           0,
           0,
           0,
           0,
           0,
           0,
           0,
           0,
           0,
           0,
           0,
           0,
           0,
           0,
           0
          ],
          [
           1.770209789276123,
           -4.87009334564209,
           -4.474794387817383,
           -4.124612331390381,
           -4.11106014251709,
           -5.635497570037842,
           -4.687025547027588,
           -3.8994498252868652,
           -3.5792899131774902,
           -4.1912150382995605,
           -3.0551598072052,
           -2.9638214111328125,
           -2.355700969696045,
           -1.3145831823349,
           0.29019251465797424,
           -0.8297406435012817,
           0,
           0,
           0,
           0,
           0,
           0,
           0,
           0,
           0,
           0,
           0,
           0,
           0,
           0,
           0,
           0,
           0,
           0,
           0,
           0
          ],
          [
           1.6808762550354004,
           -4.544189929962158,
           -5.222885608673096,
           -4.450355052947998,
           -3.963376522064209,
           -3.9876585006713867,
           -5.425633907318115,
           -4.702085971832275,
           -3.9660236835479736,
           -3.596600294113159,
           -4.041882514953613,
           -2.9168832302093506,
           -3.005948066711426,
           -2.4117729663848877,
           -1.3070275783538818,
           0.33045631647109985,
           -0.8591670393943787,
           0,
           0,
           0,
           0,
           0,
           0,
           0,
           0,
           0,
           0,
           0,
           0,
           0,
           0,
           0,
           0,
           0,
           0,
           0
          ],
          [
           1.8969286680221558,
           -4.9398603439331055,
           -4.507781028747559,
           -5.151462554931641,
           -4.46401309967041,
           -3.960469961166382,
           -3.8037028312683105,
           -5.304911136627197,
           -4.684603691101074,
           -3.934201240539551,
           -3.5085136890411377,
           -3.896075963973999,
           -2.782548666000366,
           -2.894082546234131,
           -2.3002915382385254,
           -1.2331278324127197,
           0.43252745270729065,
           -0.6704275012016296,
           0,
           0,
           0,
           0,
           0,
           0,
           0,
           0,
           0,
           0,
           0,
           0,
           0,
           0,
           0,
           0,
           0,
           0
          ],
          [
           2.0647077560424805,
           -4.574666500091553,
           -4.930844306945801,
           -4.2705769538879395,
           -5.251530170440674,
           -4.52641487121582,
           -3.922025680541992,
           -3.758901596069336,
           -5.179281234741211,
           -4.498530387878418,
           -3.9449117183685303,
           -3.6293787956237793,
           -3.963543653488159,
           -2.8722798824310303,
           -2.900897264480591,
           -2.2735142707824707,
           -1.2677878141403198,
           0.4726337492465973,
           -0.6655508875846863,
           0,
           0,
           0,
           0,
           0,
           0,
           0,
           0,
           0,
           0,
           0,
           0,
           0,
           0,
           0,
           0,
           0
          ],
          [
           2.0326149463653564,
           -4.2594523429870605,
           -4.5136847496032715,
           -4.8404436111450195,
           -4.563916206359863,
           -5.655795097351074,
           -4.7286882400512695,
           -3.9605960845947266,
           -3.75834584236145,
           -5.117607593536377,
           -4.490200042724609,
           -4.155834674835205,
           -4.064265251159668,
           -4.088656425476074,
           -2.786766767501831,
           -2.935256004333496,
           -2.4022488594055176,
           -1.1155664920806885,
           0.5516470074653625,
           -0.6835471987724304,
           0,
           0,
           0,
           0,
           0,
           0,
           0,
           0,
           0,
           0,
           0,
           0,
           0,
           0,
           0,
           0
          ],
          [
           2.2208940982818604,
           -4.108658313751221,
           -4.007678508758545,
           -4.142877101898193,
           -4.402097702026367,
           -4.369490146636963,
           -5.500641822814941,
           -4.7662248611450195,
           -3.674334764480591,
           -3.4091365337371826,
           -4.588651657104492,
           -4.2097086906433105,
           -4.0240159034729,
           -4.162941932678223,
           -3.727130889892578,
           -2.571911096572876,
           -2.7749648094177246,
           -2.1538243293762207,
           -0.8894643187522888,
           0.7489497065544128,
           -0.3431621789932251,
           0,
           0,
           0,
           0,
           0,
           0,
           0,
           0,
           0,
           0,
           0,
           0,
           0,
           0,
           0
          ],
          [
           2.197500705718994,
           -5.359506607055664,
           -4.527699947357178,
           -4.470195770263672,
           -4.769972801208496,
           -4.605778217315674,
           -4.861534118652344,
           -6.0991926193237305,
           -5.4156389236450195,
           -3.9323668479919434,
           -3.7146711349487305,
           -4.582022190093994,
           -4.568009376525879,
           -4.424620151519775,
           -4.617950916290283,
           -3.980050802230835,
           -2.8324217796325684,
           -2.775498390197754,
           -2.308844804763794,
           -1.1615688800811768,
           0.724783182144165,
           -0.43351995944976807,
           0,
           0,
           0,
           0,
           0,
           0,
           0,
           0,
           0,
           0,
           0,
           0,
           0,
           0
          ],
          [
           2.206386089324951,
           -5.050016403198242,
           -5.055843353271484,
           -4.388524055480957,
           -4.366600513458252,
           -4.543942451477051,
           -4.2018303871154785,
           -4.744865417480469,
           -5.732569694519043,
           -5.164860248565674,
           -3.5273971557617188,
           -3.4403486251831055,
           -4.091352462768555,
           -4.405032157897949,
           -4.184236526489258,
           -4.572353839874268,
           -3.7313923835754395,
           -2.6360743045806885,
           -2.4295713901519775,
           -2.163980007171631,
           -0.7067712545394897,
           0.9118402004241943,
           -0.18976503610610962,
           0,
           0,
           0,
           0,
           0,
           0,
           0,
           0,
           0,
           0,
           0,
           0,
           0
          ],
          [
           2.326352596282959,
           -3.9883131980895996,
           -5.015483379364014,
           -5.331593990325928,
           -4.8287835121154785,
           -4.5833024978637695,
           -4.694694995880127,
           -4.239819526672363,
           -4.700350761413574,
           -5.590159893035889,
           -5.2677001953125,
           -3.454897165298462,
           -3.4039130210876465,
           -4.030615329742432,
           -4.411957263946533,
           -4.25937557220459,
           -4.658262252807617,
           -3.7350213527679443,
           -2.5606188774108887,
           -2.420116901397705,
           -1.990389347076416,
           -0.7165206074714661,
           0.9050244092941284,
           -0.16849273443222046,
           0,
           0,
           0,
           0,
           0,
           0,
           0,
           0,
           0,
           0,
           0,
           0
          ],
          [
           2.484121322631836,
           -4.486654758453369,
           -3.4903781414031982,
           -4.862717151641846,
           -5.115162372589111,
           -4.921507358551025,
           -4.490087509155273,
           -4.755131721496582,
           -4.0355939865112305,
           -4.369421482086182,
           -5.0991129875183105,
           -5.006165504455566,
           -3.088679313659668,
           -3.1208207607269287,
           -3.590941905975342,
           -4.257936477661133,
           -4.052928924560547,
           -4.436154365539551,
           -3.459380626678467,
           -2.5310709476470947,
           -2.087139368057251,
           -1.7854632139205933,
           -0.5549383163452148,
           1.1217095851898193,
           -0.040593717247247696,
           0,
           0,
           0,
           0,
           0,
           0,
           0,
           0,
           0,
           0,
           0
          ],
          [
           2.453809976577759,
           -5.7265167236328125,
           -4.808326721191406,
           -3.6997182369232178,
           -4.9953508377075195,
           -5.304493427276611,
           -5.177282333374023,
           -4.897260665893555,
           -5.176210880279541,
           -4.197459697723389,
           -4.301715850830078,
           -4.910059452056885,
           -5.017752170562744,
           -3.200291633605957,
           -3.1979336738586426,
           -3.7789394855499268,
           -4.533365726470947,
           -4.148822784423828,
           -4.403324604034424,
           -3.6239013671875,
           -2.4450981616973877,
           -2.094123125076294,
           -1.786899447441101,
           -0.6433294415473938,
           1.072077989578247,
           -0.04854050651192665,
           0,
           0,
           0,
           0,
           0,
           0,
           0,
           0,
           0,
           0
          ],
          [
           2.5327024459838867,
           -5.713233470916748,
           -5.697717189788818,
           -4.842718124389648,
           -3.6728808879852295,
           -4.897040843963623,
           -5.197364807128906,
           -5.312379837036133,
           -5.095711708068848,
           -5.468841552734375,
           -4.297961711883545,
           -4.301573753356934,
           -4.7829155921936035,
           -4.991504669189453,
           -3.2175846099853516,
           -3.351853847503662,
           -3.888453245162964,
           -4.674572467803955,
           -4.140688419342041,
           -4.374494552612305,
           -3.5770435333251953,
           -2.5837185382843018,
           -2.1965272426605225,
           -1.8091727495193481,
           -0.692487895488739,
           1.0043729543685913,
           -0.1377723664045334,
           0,
           0,
           0,
           0,
           0,
           0,
           0,
           0,
           0
          ],
          [
           2.6299688816070557,
           -4.755367755889893,
           -5.5990071296691895,
           -5.6849284172058105,
           -4.888540744781494,
           -3.615522623062134,
           -4.692722797393799,
           -5.294584274291992,
           -5.639796733856201,
           -5.313751220703125,
           -5.652754783630371,
           -4.43180513381958,
           -4.258554458618164,
           -4.670623302459717,
           -4.928417205810547,
           -3.225152015686035,
           -3.1376445293426514,
           -3.783890962600708,
           -4.675405025482178,
           -4.254216194152832,
           -3.86360764503479,
           -3.3871450424194336,
           -2.3998332023620605,
           -2.1903276443481445,
           -1.6371155977249146,
           -0.5125374794006348,
           1.1688774824142456,
           -0.025300120934844017,
           0,
           0,
           0,
           0,
           0,
           0,
           0,
           0
          ],
          [
           2.7908263206481934,
           -4.714515686035156,
           -4.168609142303467,
           -5.1706929206848145,
           -5.383930683135986,
           -4.925477981567383,
           -3.4740915298461914,
           -4.4875664710998535,
           -5.380171298980713,
           -5.818417072296143,
           -5.398062705993652,
           -5.750603199005127,
           -4.505006790161133,
           -4.206878662109375,
           -4.372224807739258,
           -4.782407760620117,
           -3.1480793952941895,
           -2.979904890060425,
           -3.631538152694702,
           -4.831897258758545,
           -4.086378574371338,
           -3.3941242694854736,
           -3.158451795578003,
           -2.3851165771484375,
           -2.174675464630127,
           -1.4746339321136475,
           -0.49166297912597656,
           1.1660162210464478,
           -0.028843091800808907,
           0,
           0,
           0,
           0,
           0,
           0,
           0
          ],
          [
           2.775646448135376,
           -4.250461578369141,
           -4.524582386016846,
           -3.994486093521118,
           -4.885789394378662,
           -5.325748443603516,
           -4.869940757751465,
           -3.425137996673584,
           -4.448843955993652,
           -5.625121593475342,
           -6.184580326080322,
           -5.740607261657715,
           -6.095688819885254,
           -4.836928367614746,
           -4.283143043518066,
           -4.346695423126221,
           -4.966544151306152,
           -3.2497334480285645,
           -2.9157874584198,
           -3.791452646255493,
           -4.9068121910095215,
           -4.157851219177246,
           -3.134892702102661,
           -3.2159152030944824,
           -2.429558277130127,
           -2.1965789794921875,
           -1.563385248184204,
           -0.5709914565086365,
           1.1922731399536133,
           0.08853812515735626,
           0,
           0,
           0,
           0,
           0,
           0
          ],
          [
           2.7451210021972656,
           -4.624684810638428,
           -3.842756748199463,
           -4.3706769943237305,
           -3.853750705718994,
           -4.672638893127441,
           -5.04599666595459,
           -4.854152202606201,
           -3.464754343032837,
           -4.418071269989014,
           -5.649616718292236,
           -6.434671878814697,
           -5.973721981048584,
           -6.254289150238037,
           -4.949373245239258,
           -4.392411231994629,
           -4.340247631072998,
           -4.795475959777832,
           -3.317176103591919,
           -3.018597364425659,
           -3.8920252323150635,
           -5.004330158233643,
           -4.310866832733154,
           -3.1244771480560303,
           -3.1702122688293457,
           -2.558828830718994,
           -2.2332215309143066,
           -1.5035120248794556,
           -0.46589475870132446,
           1.2623875141143799,
           -0.006227639503777027,
           0,
           0,
           0,
           0,
           0
          ],
          [
           2.790102481842041,
           -5.489370346069336,
           -4.743589401245117,
           -3.8384318351745605,
           -4.428005218505859,
           -3.9685041904449463,
           -4.541506767272949,
           -5.086426734924316,
           -5.029998302459717,
           -3.6749966144561768,
           -4.387553691864014,
           -5.742844581604004,
           -6.696490287780762,
           -6.175553321838379,
           -6.204455852508545,
           -5.129827499389648,
           -4.528507232666016,
           -4.159111022949219,
           -4.647207736968994,
           -3.697054862976074,
           -2.9645638465881348,
           -3.982715129852295,
           -4.967548847198486,
           -4.574671268463135,
           -2.9729888439178467,
           -3.181950807571411,
           -2.6861214637756348,
           -2.274168014526367,
           -1.4153258800506592,
           -0.4385358691215515,
           1.1755125522613525,
           0.1588408499956131,
           0,
           0,
           0,
           0
          ],
          [
           2.7342209815979004,
           -5.408945083618164,
           -5.488502502441406,
           -4.872005939483643,
           -3.9494662284851074,
           -4.406345844268799,
           -3.840259313583374,
           -4.23370885848999,
           -4.8051252365112305,
           -5.034585952758789,
           -3.671193838119507,
           -4.323655128479004,
           -5.745204448699951,
           -6.847146034240723,
           -6.083702564239502,
           -6.20972204208374,
           -5.1673383712768555,
           -4.361474990844727,
           -3.8950469493865967,
           -4.635569095611572,
           -3.7458126544952393,
           -2.9382998943328857,
           -3.9796366691589355,
           -5.131708145141602,
           -4.62611722946167,
           -2.9248085021972656,
           -3.2023556232452393,
           -2.6534414291381836,
           -2.208822250366211,
           -1.4452630281448364,
           -0.527502715587616,
           1.2937697172164917,
           0.12394937127828598,
           0,
           0,
           0
          ],
          [
           2.7464542388916016,
           -4.079608917236328,
           -5.081387519836426,
           -5.743900299072266,
           -5.110238075256348,
           -3.9727885723114014,
           -4.334640026092529,
           -3.829724073410034,
           -3.9397411346435547,
           -4.359028339385986,
           -4.872198581695557,
           -3.5779707431793213,
           -4.048702716827393,
           -5.613663673400879,
           -6.6818928718566895,
           -5.882984161376953,
           -5.81972599029541,
           -4.908098220825195,
           -4.244929790496826,
           -3.81795597076416,
           -4.189088344573975,
           -3.7225637435913086,
           -2.89813494682312,
           -4.0223541259765625,
           -5.131382942199707,
           -4.561159610748291,
           -2.834353446960449,
           -3.1228320598602295,
           -2.6620895862579346,
           -2.131638765335083,
           -1.4243556261062622,
           -0.3203791081905365,
           1.4120025634765625,
           0.31514742970466614,
           0,
           0
          ],
          [
           2.930222988128662,
           -4.7196245193481445,
           -3.617412805557251,
           -5.206175327301025,
           -5.84900426864624,
           -5.403748512268066,
           -4.092624664306641,
           -4.453300952911377,
           -3.9695568084716797,
           -3.8176491260528564,
           -4.087116241455078,
           -4.766149997711182,
           -3.609400987625122,
           -4.165798664093018,
           -5.531022548675537,
           -6.77305793762207,
           -5.830912113189697,
           -5.493492603302002,
           -4.798779487609863,
           -4.443281650543213,
           -3.676333427429199,
           -3.7888667583465576,
           -3.651270627975464,
           -2.9095211029052734,
           -4.028143405914307,
           -4.886672496795654,
           -4.4113593101501465,
           -2.780179023742676,
           -3.1610751152038574,
           -2.6134331226348877,
           -2.141902446746826,
           -1.2748185396194458,
           -0.32025787234306335,
           1.484485387802124,
           0.2942403256893158,
           0
          ],
          [
           3.0151541233062744,
           -5.192020893096924,
           -4.749717712402344,
           -3.8472776412963867,
           -5.176572322845459,
           -5.956408500671387,
           -5.473373889923096,
           -4.269572734832764,
           -4.591859817504883,
           -4.10459566116333,
           -3.7507026195526123,
           -3.961277484893799,
           -4.861025333404541,
           -3.9031708240509033,
           -4.310488700866699,
           -5.724102973937988,
           -7.004857063293457,
           -5.747304916381836,
           -5.246045112609863,
           -4.892298221588135,
           -4.302886009216309,
           -3.630448579788208,
           -3.5270748138427734,
           -3.723055124282837,
           -2.8555562496185303,
           -3.838393449783325,
           -4.801483154296875,
           -4.391782760620117,
           -2.7262356281280518,
           -3.1328487396240234,
           -2.6620867252349854,
           -1.901713252067566,
           -1.2704821825027466,
           -0.16882190108299255,
           1.5768468379974365,
           0.44499531388282776
          ]
         ]
        }
       ],
       "layout": {
        "autosize": true,
        "coloraxis": {
         "colorscale": [
          [
           0,
           "#0d0887"
          ],
          [
           0.1111111111111111,
           "#46039f"
          ],
          [
           0.2222222222222222,
           "#7201a8"
          ],
          [
           0.3333333333333333,
           "#9c179e"
          ],
          [
           0.4444444444444444,
           "#bd3786"
          ],
          [
           0.5555555555555556,
           "#d8576b"
          ],
          [
           0.6666666666666666,
           "#ed7953"
          ],
          [
           0.7777777777777778,
           "#fb9f3a"
          ],
          [
           0.8888888888888888,
           "#fdca26"
          ],
          [
           1,
           "#f0f921"
          ]
         ]
        },
        "margin": {
         "t": 60
        },
        "template": {
         "data": {
          "bar": [
           {
            "error_x": {
             "color": "#2a3f5f"
            },
            "error_y": {
             "color": "#2a3f5f"
            },
            "marker": {
             "line": {
              "color": "#E5ECF6",
              "width": 0.5
             },
             "pattern": {
              "fillmode": "overlay",
              "size": 10,
              "solidity": 0.2
             }
            },
            "type": "bar"
           }
          ],
          "barpolar": [
           {
            "marker": {
             "line": {
              "color": "#E5ECF6",
              "width": 0.5
             },
             "pattern": {
              "fillmode": "overlay",
              "size": 10,
              "solidity": 0.2
             }
            },
            "type": "barpolar"
           }
          ],
          "carpet": [
           {
            "aaxis": {
             "endlinecolor": "#2a3f5f",
             "gridcolor": "white",
             "linecolor": "white",
             "minorgridcolor": "white",
             "startlinecolor": "#2a3f5f"
            },
            "baxis": {
             "endlinecolor": "#2a3f5f",
             "gridcolor": "white",
             "linecolor": "white",
             "minorgridcolor": "white",
             "startlinecolor": "#2a3f5f"
            },
            "type": "carpet"
           }
          ],
          "choropleth": [
           {
            "colorbar": {
             "outlinewidth": 0,
             "ticks": ""
            },
            "type": "choropleth"
           }
          ],
          "contour": [
           {
            "colorbar": {
             "outlinewidth": 0,
             "ticks": ""
            },
            "colorscale": [
             [
              0,
              "#0d0887"
             ],
             [
              0.1111111111111111,
              "#46039f"
             ],
             [
              0.2222222222222222,
              "#7201a8"
             ],
             [
              0.3333333333333333,
              "#9c179e"
             ],
             [
              0.4444444444444444,
              "#bd3786"
             ],
             [
              0.5555555555555556,
              "#d8576b"
             ],
             [
              0.6666666666666666,
              "#ed7953"
             ],
             [
              0.7777777777777778,
              "#fb9f3a"
             ],
             [
              0.8888888888888888,
              "#fdca26"
             ],
             [
              1,
              "#f0f921"
             ]
            ],
            "type": "contour"
           }
          ],
          "contourcarpet": [
           {
            "colorbar": {
             "outlinewidth": 0,
             "ticks": ""
            },
            "type": "contourcarpet"
           }
          ],
          "heatmap": [
           {
            "colorbar": {
             "outlinewidth": 0,
             "ticks": ""
            },
            "colorscale": [
             [
              0,
              "#0d0887"
             ],
             [
              0.1111111111111111,
              "#46039f"
             ],
             [
              0.2222222222222222,
              "#7201a8"
             ],
             [
              0.3333333333333333,
              "#9c179e"
             ],
             [
              0.4444444444444444,
              "#bd3786"
             ],
             [
              0.5555555555555556,
              "#d8576b"
             ],
             [
              0.6666666666666666,
              "#ed7953"
             ],
             [
              0.7777777777777778,
              "#fb9f3a"
             ],
             [
              0.8888888888888888,
              "#fdca26"
             ],
             [
              1,
              "#f0f921"
             ]
            ],
            "type": "heatmap"
           }
          ],
          "heatmapgl": [
           {
            "colorbar": {
             "outlinewidth": 0,
             "ticks": ""
            },
            "colorscale": [
             [
              0,
              "#0d0887"
             ],
             [
              0.1111111111111111,
              "#46039f"
             ],
             [
              0.2222222222222222,
              "#7201a8"
             ],
             [
              0.3333333333333333,
              "#9c179e"
             ],
             [
              0.4444444444444444,
              "#bd3786"
             ],
             [
              0.5555555555555556,
              "#d8576b"
             ],
             [
              0.6666666666666666,
              "#ed7953"
             ],
             [
              0.7777777777777778,
              "#fb9f3a"
             ],
             [
              0.8888888888888888,
              "#fdca26"
             ],
             [
              1,
              "#f0f921"
             ]
            ],
            "type": "heatmapgl"
           }
          ],
          "histogram": [
           {
            "marker": {
             "pattern": {
              "fillmode": "overlay",
              "size": 10,
              "solidity": 0.2
             }
            },
            "type": "histogram"
           }
          ],
          "histogram2d": [
           {
            "colorbar": {
             "outlinewidth": 0,
             "ticks": ""
            },
            "colorscale": [
             [
              0,
              "#0d0887"
             ],
             [
              0.1111111111111111,
              "#46039f"
             ],
             [
              0.2222222222222222,
              "#7201a8"
             ],
             [
              0.3333333333333333,
              "#9c179e"
             ],
             [
              0.4444444444444444,
              "#bd3786"
             ],
             [
              0.5555555555555556,
              "#d8576b"
             ],
             [
              0.6666666666666666,
              "#ed7953"
             ],
             [
              0.7777777777777778,
              "#fb9f3a"
             ],
             [
              0.8888888888888888,
              "#fdca26"
             ],
             [
              1,
              "#f0f921"
             ]
            ],
            "type": "histogram2d"
           }
          ],
          "histogram2dcontour": [
           {
            "colorbar": {
             "outlinewidth": 0,
             "ticks": ""
            },
            "colorscale": [
             [
              0,
              "#0d0887"
             ],
             [
              0.1111111111111111,
              "#46039f"
             ],
             [
              0.2222222222222222,
              "#7201a8"
             ],
             [
              0.3333333333333333,
              "#9c179e"
             ],
             [
              0.4444444444444444,
              "#bd3786"
             ],
             [
              0.5555555555555556,
              "#d8576b"
             ],
             [
              0.6666666666666666,
              "#ed7953"
             ],
             [
              0.7777777777777778,
              "#fb9f3a"
             ],
             [
              0.8888888888888888,
              "#fdca26"
             ],
             [
              1,
              "#f0f921"
             ]
            ],
            "type": "histogram2dcontour"
           }
          ],
          "mesh3d": [
           {
            "colorbar": {
             "outlinewidth": 0,
             "ticks": ""
            },
            "type": "mesh3d"
           }
          ],
          "parcoords": [
           {
            "line": {
             "colorbar": {
              "outlinewidth": 0,
              "ticks": ""
             }
            },
            "type": "parcoords"
           }
          ],
          "pie": [
           {
            "automargin": true,
            "type": "pie"
           }
          ],
          "scatter": [
           {
            "marker": {
             "colorbar": {
              "outlinewidth": 0,
              "ticks": ""
             }
            },
            "type": "scatter"
           }
          ],
          "scatter3d": [
           {
            "line": {
             "colorbar": {
              "outlinewidth": 0,
              "ticks": ""
             }
            },
            "marker": {
             "colorbar": {
              "outlinewidth": 0,
              "ticks": ""
             }
            },
            "type": "scatter3d"
           }
          ],
          "scattercarpet": [
           {
            "marker": {
             "colorbar": {
              "outlinewidth": 0,
              "ticks": ""
             }
            },
            "type": "scattercarpet"
           }
          ],
          "scattergeo": [
           {
            "marker": {
             "colorbar": {
              "outlinewidth": 0,
              "ticks": ""
             }
            },
            "type": "scattergeo"
           }
          ],
          "scattergl": [
           {
            "marker": {
             "colorbar": {
              "outlinewidth": 0,
              "ticks": ""
             }
            },
            "type": "scattergl"
           }
          ],
          "scattermapbox": [
           {
            "marker": {
             "colorbar": {
              "outlinewidth": 0,
              "ticks": ""
             }
            },
            "type": "scattermapbox"
           }
          ],
          "scatterpolar": [
           {
            "marker": {
             "colorbar": {
              "outlinewidth": 0,
              "ticks": ""
             }
            },
            "type": "scatterpolar"
           }
          ],
          "scatterpolargl": [
           {
            "marker": {
             "colorbar": {
              "outlinewidth": 0,
              "ticks": ""
             }
            },
            "type": "scatterpolargl"
           }
          ],
          "scatterternary": [
           {
            "marker": {
             "colorbar": {
              "outlinewidth": 0,
              "ticks": ""
             }
            },
            "type": "scatterternary"
           }
          ],
          "surface": [
           {
            "colorbar": {
             "outlinewidth": 0,
             "ticks": ""
            },
            "colorscale": [
             [
              0,
              "#0d0887"
             ],
             [
              0.1111111111111111,
              "#46039f"
             ],
             [
              0.2222222222222222,
              "#7201a8"
             ],
             [
              0.3333333333333333,
              "#9c179e"
             ],
             [
              0.4444444444444444,
              "#bd3786"
             ],
             [
              0.5555555555555556,
              "#d8576b"
             ],
             [
              0.6666666666666666,
              "#ed7953"
             ],
             [
              0.7777777777777778,
              "#fb9f3a"
             ],
             [
              0.8888888888888888,
              "#fdca26"
             ],
             [
              1,
              "#f0f921"
             ]
            ],
            "type": "surface"
           }
          ],
          "table": [
           {
            "cells": {
             "fill": {
              "color": "#EBF0F8"
             },
             "line": {
              "color": "white"
             }
            },
            "header": {
             "fill": {
              "color": "#C8D4E3"
             },
             "line": {
              "color": "white"
             }
            },
            "type": "table"
           }
          ]
         },
         "layout": {
          "annotationdefaults": {
           "arrowcolor": "#2a3f5f",
           "arrowhead": 0,
           "arrowwidth": 1
          },
          "autotypenumbers": "strict",
          "coloraxis": {
           "colorbar": {
            "outlinewidth": 0,
            "ticks": ""
           }
          },
          "colorscale": {
           "diverging": [
            [
             0,
             "#8e0152"
            ],
            [
             0.1,
             "#c51b7d"
            ],
            [
             0.2,
             "#de77ae"
            ],
            [
             0.3,
             "#f1b6da"
            ],
            [
             0.4,
             "#fde0ef"
            ],
            [
             0.5,
             "#f7f7f7"
            ],
            [
             0.6,
             "#e6f5d0"
            ],
            [
             0.7,
             "#b8e186"
            ],
            [
             0.8,
             "#7fbc41"
            ],
            [
             0.9,
             "#4d9221"
            ],
            [
             1,
             "#276419"
            ]
           ],
           "sequential": [
            [
             0,
             "#0d0887"
            ],
            [
             0.1111111111111111,
             "#46039f"
            ],
            [
             0.2222222222222222,
             "#7201a8"
            ],
            [
             0.3333333333333333,
             "#9c179e"
            ],
            [
             0.4444444444444444,
             "#bd3786"
            ],
            [
             0.5555555555555556,
             "#d8576b"
            ],
            [
             0.6666666666666666,
             "#ed7953"
            ],
            [
             0.7777777777777778,
             "#fb9f3a"
            ],
            [
             0.8888888888888888,
             "#fdca26"
            ],
            [
             1,
             "#f0f921"
            ]
           ],
           "sequentialminus": [
            [
             0,
             "#0d0887"
            ],
            [
             0.1111111111111111,
             "#46039f"
            ],
            [
             0.2222222222222222,
             "#7201a8"
            ],
            [
             0.3333333333333333,
             "#9c179e"
            ],
            [
             0.4444444444444444,
             "#bd3786"
            ],
            [
             0.5555555555555556,
             "#d8576b"
            ],
            [
             0.6666666666666666,
             "#ed7953"
            ],
            [
             0.7777777777777778,
             "#fb9f3a"
            ],
            [
             0.8888888888888888,
             "#fdca26"
            ],
            [
             1,
             "#f0f921"
            ]
           ]
          },
          "colorway": [
           "#636efa",
           "#EF553B",
           "#00cc96",
           "#ab63fa",
           "#FFA15A",
           "#19d3f3",
           "#FF6692",
           "#B6E880",
           "#FF97FF",
           "#FECB52"
          ],
          "font": {
           "color": "#2a3f5f"
          },
          "geo": {
           "bgcolor": "white",
           "lakecolor": "white",
           "landcolor": "#E5ECF6",
           "showlakes": true,
           "showland": true,
           "subunitcolor": "white"
          },
          "hoverlabel": {
           "align": "left"
          },
          "hovermode": "closest",
          "mapbox": {
           "style": "light"
          },
          "paper_bgcolor": "white",
          "plot_bgcolor": "#E5ECF6",
          "polar": {
           "angularaxis": {
            "gridcolor": "white",
            "linecolor": "white",
            "ticks": ""
           },
           "bgcolor": "#E5ECF6",
           "radialaxis": {
            "gridcolor": "white",
            "linecolor": "white",
            "ticks": ""
           }
          },
          "scene": {
           "xaxis": {
            "backgroundcolor": "#E5ECF6",
            "gridcolor": "white",
            "gridwidth": 2,
            "linecolor": "white",
            "showbackground": true,
            "ticks": "",
            "zerolinecolor": "white"
           },
           "yaxis": {
            "backgroundcolor": "#E5ECF6",
            "gridcolor": "white",
            "gridwidth": 2,
            "linecolor": "white",
            "showbackground": true,
            "ticks": "",
            "zerolinecolor": "white"
           },
           "zaxis": {
            "backgroundcolor": "#E5ECF6",
            "gridcolor": "white",
            "gridwidth": 2,
            "linecolor": "white",
            "showbackground": true,
            "ticks": "",
            "zerolinecolor": "white"
           }
          },
          "shapedefaults": {
           "line": {
            "color": "#2a3f5f"
           }
          },
          "ternary": {
           "aaxis": {
            "gridcolor": "white",
            "linecolor": "white",
            "ticks": ""
           },
           "baxis": {
            "gridcolor": "white",
            "linecolor": "white",
            "ticks": ""
           },
           "bgcolor": "#E5ECF6",
           "caxis": {
            "gridcolor": "white",
            "linecolor": "white",
            "ticks": ""
           }
          },
          "title": {
           "x": 0.05
          },
          "xaxis": {
           "automargin": true,
           "gridcolor": "white",
           "linecolor": "white",
           "ticks": "",
           "title": {
            "standoff": 15
           },
           "zerolinecolor": "white",
           "zerolinewidth": 2
          },
          "yaxis": {
           "automargin": true,
           "gridcolor": "white",
           "linecolor": "white",
           "ticks": "",
           "title": {
            "standoff": 15
           },
           "zerolinecolor": "white",
           "zerolinewidth": 2
          }
         }
        },
        "xaxis": {
         "anchor": "y",
         "autorange": true,
         "constrain": "domain",
         "domain": [
          0.4028268551236749,
          0.5971731448763251
         ],
         "range": [
          -0.5,
          35.5
         ],
         "scaleanchor": "y"
        },
        "yaxis": {
         "anchor": "x",
         "autorange": true,
         "constrain": "domain",
         "domain": [
          0,
          1
         ],
         "range": [
          35.5,
          -0.5
         ]
        }
       }
      },
      "image/png": "[encoded data removed]",
      "text/html": [
       "<div>                            <div id=\"3433a9ad-c382-44a1-9236-82b0640d6f94\" class=\"plotly-graph-div\" style=\"height:525px; width:100%;\"></div>            <script type=\"text/javascript\">                require([\"plotly\"], function(Plotly) {                    window.PLOTLYENV=window.PLOTLYENV || {};                                    if (document.getElementById(\"3433a9ad-c382-44a1-9236-82b0640d6f94\")) {                    Plotly.newPlot(                        \"3433a9ad-c382-44a1-9236-82b0640d6f94\",                        [{\"coloraxis\":\"coloraxis\",\"name\":\"0\",\"texttemplate\":\"%{z}\",\"z\":[[-11.853020668029785,0.0,0.0,0.0,0.0,0.0,0.0,0.0,0.0,0.0,0.0,0.0,0.0,0.0,0.0,0.0,0.0,0.0,0.0,0.0,0.0,0.0,0.0,0.0,0.0,0.0,0.0,0.0,0.0,0.0,0.0,0.0,0.0,0.0,0.0,0.0],[1.1965597867965698,-3.7654366493225098,0.0,0.0,0.0,0.0,0.0,0.0,0.0,0.0,0.0,0.0,0.0,0.0,0.0,0.0,0.0,0.0,0.0,0.0,0.0,0.0,0.0,0.0,0.0,0.0,0.0,0.0,0.0,0.0,0.0,0.0,0.0,0.0,0.0,0.0],[-0.2952010929584503,-1.784881830215454,-3.0019302368164062,0.0,0.0,0.0,0.0,0.0,0.0,0.0,0.0,0.0,0.0,0.0,0.0,0.0,0.0,0.0,0.0,0.0,0.0,0.0,0.0,0.0,0.0,0.0,0.0,0.0,0.0,0.0,0.0,0.0,0.0,0.0,0.0,0.0],[-0.03600487858057022,-2.7623047828674316,-1.5401846170425415,-2.7474193572998047,0.0,0.0,0.0,0.0,0.0,0.0,0.0,0.0,0.0,0.0,0.0,0.0,0.0,0.0,0.0,0.0,0.0,0.0,0.0,0.0,0.0,0.0,0.0,0.0,0.0,0.0,0.0,0.0,0.0,0.0,0.0,0.0],[0.125167578458786,-3.721316337585449,-3.104959487915039,-1.3626352548599243,-2.5371103286743164,0.0,0.0,0.0,0.0,0.0,0.0,0.0,0.0,0.0,0.0,0.0,0.0,0.0,0.0,0.0,0.0,0.0,0.0,0.0,0.0,0.0,0.0,0.0,0.0,0.0,0.0,0.0,0.0,0.0,0.0,0.0],[0.21579624712467194,-3.997894048690796,-3.7867045402526855,-2.79708194732666,-1.175666332244873,-2.35153865814209,0.0,0.0,0.0,0.0,0.0,0.0,0.0,0.0,0.0,0.0,0.0,0.0,0.0,0.0,0.0,0.0,0.0,0.0,0.0,0.0,0.0,0.0,0.0,0.0,0.0,0.0,0.0,0.0,0.0,0.0],[0.42463868856430054,-4.106073379516602,-4.411756992340088,-3.6661605834960938,-2.67741322517395,-1.00356125831604,-2.117382764816284,0.0,0.0,0.0,0.0,0.0,0.0,0.0,0.0,0.0,0.0,0.0,0.0,0.0,0.0,0.0,0.0,0.0,0.0,0.0,0.0,0.0,0.0,0.0,0.0,0.0,0.0,0.0,0.0,0.0],[0.5766687989234924,-4.712031364440918,-4.247743606567383,-4.257660388946533,-3.5840771198272705,-2.471125841140747,-0.8327661156654358,-1.9627710580825806,0.0,0.0,0.0,0.0,0.0,0.0,0.0,0.0,0.0,0.0,0.0,0.0,0.0,0.0,0.0,0.0,0.0,0.0,0.0,0.0,0.0,0.0,0.0,0.0,0.0,0.0,0.0,0.0],[0.8145534992218018,-4.161218643188477,-4.894363880157471,-4.048027515411377,-4.072145462036133,-3.4258904457092285,-2.2344818115234375,-0.5922788977622986,-1.7447755336761475,0.0,0.0,0.0,0.0,0.0,0.0,0.0,0.0,0.0,0.0,0.0,0.0,0.0,0.0,0.0,0.0,0.0,0.0,0.0,0.0,0.0,0.0,0.0,0.0,0.0,0.0,0.0],[0.9999622106552124,-4.178431034088135,-4.004141807556152,-4.779996395111084,-3.794323444366455,-3.837400436401367,-3.18466854095459,-1.9756214618682861,-0.43108564615249634,-1.5762220621109009,0.0,0.0,0.0,0.0,0.0,0.0,0.0,0.0,0.0,0.0,0.0,0.0,0.0,0.0,0.0,0.0,0.0,0.0,0.0,0.0,0.0,0.0,0.0,0.0,0.0,0.0],[1.1399338245391846,-5.12551736831665,-4.350557804107666,-3.9805405139923096,-4.749445915222168,-3.724959373474121,-3.8050765991210938,-3.191866159439087,-2.037104368209839,-0.36816978454589844,-1.4394234418869019,0.0,0.0,0.0,0.0,0.0,0.0,0.0,0.0,0.0,0.0,0.0,0.0,0.0,0.0,0.0,0.0,0.0,0.0,0.0,0.0,0.0,0.0,0.0,0.0,0.0],[1.3367254734039307,-5.957430839538574,-5.21621561050415,-4.240001678466797,-4.058434963226318,-4.59617805480957,-3.6832478046417236,-3.7002081871032715,-3.200155258178711,-1.9353423118591309,-0.233086496591568,-1.2639381885528564,0.0,0.0,0.0,0.0,0.0,0.0,0.0,0.0,0.0,0.0,0.0,0.0,0.0,0.0,0.0,0.0,0.0,0.0,0.0,0.0,0.0,0.0,0.0,0.0],[1.291236400604248,-4.679664611816406,-6.100942611694336,-5.2239251136779785,-4.220742702484131,-3.7932801246643066,-4.300835609436035,-3.4855141639709473,-3.484222412109375,-2.931654930114746,-1.7131638526916504,0.013503176160156727,-1.0988752841949463,0.0,0.0,0.0,0.0,0.0,0.0,0.0,0.0,0.0,0.0,0.0,0.0,0.0,0.0,0.0,0.0,0.0,0.0,0.0,0.0,0.0,0.0,0.0],[1.4926141500473022,-4.196760654449463,-4.404644012451172,-5.952355861663818,-5.003281593322754,-3.9905006885528564,-3.4883875846862793,-4.0647196769714355,-3.4036664962768555,-3.1857569217681885,-2.577934741973877,-1.3490278720855713,0.31044527888298035,-0.821184515953064,0.0,0.0,0.0,0.0,0.0,0.0,0.0,0.0,0.0,0.0,0.0,0.0,0.0,0.0,0.0,0.0,0.0,0.0,0.0,0.0,0.0,0.0],[1.5540428161621094,-4.547226428985596,-4.398956775665283,-4.511699676513672,-5.872568130493164,-5.096621513366699,-4.0429463386535645,-3.640895366668701,-4.226357460021973,-3.3766722679138184,-3.130697727203369,-2.440896511077881,-1.4222546815872192,0.21195241808891296,-0.9105542898178101,0.0,0.0,0.0,0.0,0.0,0.0,0.0,0.0,0.0,0.0,0.0,0.0,0.0,0.0,0.0,0.0,0.0,0.0,0.0,0.0,0.0],[1.770209789276123,-4.87009334564209,-4.474794387817383,-4.124612331390381,-4.11106014251709,-5.635497570037842,-4.687025547027588,-3.8994498252868652,-3.5792899131774902,-4.1912150382995605,-3.0551598072052,-2.9638214111328125,-2.355700969696045,-1.3145831823349,0.29019251465797424,-0.8297406435012817,0.0,0.0,0.0,0.0,0.0,0.0,0.0,0.0,0.0,0.0,0.0,0.0,0.0,0.0,0.0,0.0,0.0,0.0,0.0,0.0],[1.6808762550354004,-4.544189929962158,-5.222885608673096,-4.450355052947998,-3.963376522064209,-3.9876585006713867,-5.425633907318115,-4.702085971832275,-3.9660236835479736,-3.596600294113159,-4.041882514953613,-2.9168832302093506,-3.005948066711426,-2.4117729663848877,-1.3070275783538818,0.33045631647109985,-0.8591670393943787,0.0,0.0,0.0,0.0,0.0,0.0,0.0,0.0,0.0,0.0,0.0,0.0,0.0,0.0,0.0,0.0,0.0,0.0,0.0],[1.8969286680221558,-4.9398603439331055,-4.507781028747559,-5.151462554931641,-4.46401309967041,-3.960469961166382,-3.8037028312683105,-5.304911136627197,-4.684603691101074,-3.934201240539551,-3.5085136890411377,-3.896075963973999,-2.782548666000366,-2.894082546234131,-2.3002915382385254,-1.2331278324127197,0.43252745270729065,-0.6704275012016296,0.0,0.0,0.0,0.0,0.0,0.0,0.0,0.0,0.0,0.0,0.0,0.0,0.0,0.0,0.0,0.0,0.0,0.0],[2.0647077560424805,-4.574666500091553,-4.930844306945801,-4.2705769538879395,-5.251530170440674,-4.52641487121582,-3.922025680541992,-3.758901596069336,-5.179281234741211,-4.498530387878418,-3.9449117183685303,-3.6293787956237793,-3.963543653488159,-2.8722798824310303,-2.900897264480591,-2.2735142707824707,-1.2677878141403198,0.4726337492465973,-0.6655508875846863,0.0,0.0,0.0,0.0,0.0,0.0,0.0,0.0,0.0,0.0,0.0,0.0,0.0,0.0,0.0,0.0,0.0],[2.0326149463653564,-4.2594523429870605,-4.5136847496032715,-4.8404436111450195,-4.563916206359863,-5.655795097351074,-4.7286882400512695,-3.9605960845947266,-3.75834584236145,-5.117607593536377,-4.490200042724609,-4.155834674835205,-4.064265251159668,-4.088656425476074,-2.786766767501831,-2.935256004333496,-2.4022488594055176,-1.1155664920806885,0.5516470074653625,-0.6835471987724304,0.0,0.0,0.0,0.0,0.0,0.0,0.0,0.0,0.0,0.0,0.0,0.0,0.0,0.0,0.0,0.0],[2.2208940982818604,-4.108658313751221,-4.007678508758545,-4.142877101898193,-4.402097702026367,-4.369490146636963,-5.500641822814941,-4.7662248611450195,-3.674334764480591,-3.4091365337371826,-4.588651657104492,-4.2097086906433105,-4.0240159034729,-4.162941932678223,-3.727130889892578,-2.571911096572876,-2.7749648094177246,-2.1538243293762207,-0.8894643187522888,0.7489497065544128,-0.3431621789932251,0.0,0.0,0.0,0.0,0.0,0.0,0.0,0.0,0.0,0.0,0.0,0.0,0.0,0.0,0.0],[2.197500705718994,-5.359506607055664,-4.527699947357178,-4.470195770263672,-4.769972801208496,-4.605778217315674,-4.861534118652344,-6.0991926193237305,-5.4156389236450195,-3.9323668479919434,-3.7146711349487305,-4.582022190093994,-4.568009376525879,-4.424620151519775,-4.617950916290283,-3.980050802230835,-2.8324217796325684,-2.775498390197754,-2.308844804763794,-1.1615688800811768,0.724783182144165,-0.43351995944976807,0.0,0.0,0.0,0.0,0.0,0.0,0.0,0.0,0.0,0.0,0.0,0.0,0.0,0.0],[2.206386089324951,-5.050016403198242,-5.055843353271484,-4.388524055480957,-4.366600513458252,-4.543942451477051,-4.2018303871154785,-4.744865417480469,-5.732569694519043,-5.164860248565674,-3.5273971557617188,-3.4403486251831055,-4.091352462768555,-4.405032157897949,-4.184236526489258,-4.572353839874268,-3.7313923835754395,-2.6360743045806885,-2.4295713901519775,-2.163980007171631,-0.7067712545394897,0.9118402004241943,-0.18976503610610962,0.0,0.0,0.0,0.0,0.0,0.0,0.0,0.0,0.0,0.0,0.0,0.0,0.0],[2.326352596282959,-3.9883131980895996,-5.015483379364014,-5.331593990325928,-4.8287835121154785,-4.5833024978637695,-4.694694995880127,-4.239819526672363,-4.700350761413574,-5.590159893035889,-5.2677001953125,-3.454897165298462,-3.4039130210876465,-4.030615329742432,-4.411957263946533,-4.25937557220459,-4.658262252807617,-3.7350213527679443,-2.5606188774108887,-2.420116901397705,-1.990389347076416,-0.7165206074714661,0.9050244092941284,-0.16849273443222046,0.0,0.0,0.0,0.0,0.0,0.0,0.0,0.0,0.0,0.0,0.0,0.0],[2.484121322631836,-4.486654758453369,-3.4903781414031982,-4.862717151641846,-5.115162372589111,-4.921507358551025,-4.490087509155273,-4.755131721496582,-4.0355939865112305,-4.369421482086182,-5.0991129875183105,-5.006165504455566,-3.088679313659668,-3.1208207607269287,-3.590941905975342,-4.257936477661133,-4.052928924560547,-4.436154365539551,-3.459380626678467,-2.5310709476470947,-2.087139368057251,-1.7854632139205933,-0.5549383163452148,1.1217095851898193,-0.040593717247247696,0.0,0.0,0.0,0.0,0.0,0.0,0.0,0.0,0.0,0.0,0.0],[2.453809976577759,-5.7265167236328125,-4.808326721191406,-3.6997182369232178,-4.9953508377075195,-5.304493427276611,-5.177282333374023,-4.897260665893555,-5.176210880279541,-4.197459697723389,-4.301715850830078,-4.910059452056885,-5.017752170562744,-3.200291633605957,-3.1979336738586426,-3.7789394855499268,-4.533365726470947,-4.148822784423828,-4.403324604034424,-3.6239013671875,-2.4450981616973877,-2.094123125076294,-1.786899447441101,-0.6433294415473938,1.072077989578247,-0.04854050651192665,0.0,0.0,0.0,0.0,0.0,0.0,0.0,0.0,0.0,0.0],[2.5327024459838867,-5.713233470916748,-5.697717189788818,-4.842718124389648,-3.6728808879852295,-4.897040843963623,-5.197364807128906,-5.312379837036133,-5.095711708068848,-5.468841552734375,-4.297961711883545,-4.301573753356934,-4.7829155921936035,-4.991504669189453,-3.2175846099853516,-3.351853847503662,-3.888453245162964,-4.674572467803955,-4.140688419342041,-4.374494552612305,-3.5770435333251953,-2.5837185382843018,-2.1965272426605225,-1.8091727495193481,-0.692487895488739,1.0043729543685913,-0.1377723664045334,0.0,0.0,0.0,0.0,0.0,0.0,0.0,0.0,0.0],[2.6299688816070557,-4.755367755889893,-5.5990071296691895,-5.6849284172058105,-4.888540744781494,-3.615522623062134,-4.692722797393799,-5.294584274291992,-5.639796733856201,-5.313751220703125,-5.652754783630371,-4.43180513381958,-4.258554458618164,-4.670623302459717,-4.928417205810547,-3.225152015686035,-3.1376445293426514,-3.783890962600708,-4.675405025482178,-4.254216194152832,-3.86360764503479,-3.3871450424194336,-2.3998332023620605,-2.1903276443481445,-1.6371155977249146,-0.5125374794006348,1.1688774824142456,-0.025300120934844017,0.0,0.0,0.0,0.0,0.0,0.0,0.0,0.0],[2.7908263206481934,-4.714515686035156,-4.168609142303467,-5.1706929206848145,-5.383930683135986,-4.925477981567383,-3.4740915298461914,-4.4875664710998535,-5.380171298980713,-5.818417072296143,-5.398062705993652,-5.750603199005127,-4.505006790161133,-4.206878662109375,-4.372224807739258,-4.782407760620117,-3.1480793952941895,-2.979904890060425,-3.631538152694702,-4.831897258758545,-4.086378574371338,-3.3941242694854736,-3.158451795578003,-2.3851165771484375,-2.174675464630127,-1.4746339321136475,-0.49166297912597656,1.1660162210464478,-0.028843091800808907,0.0,0.0,0.0,0.0,0.0,0.0,0.0],[2.775646448135376,-4.250461578369141,-4.524582386016846,-3.994486093521118,-4.885789394378662,-5.325748443603516,-4.869940757751465,-3.425137996673584,-4.448843955993652,-5.625121593475342,-6.184580326080322,-5.740607261657715,-6.095688819885254,-4.836928367614746,-4.283143043518066,-4.346695423126221,-4.966544151306152,-3.2497334480285645,-2.9157874584198,-3.791452646255493,-4.9068121910095215,-4.157851219177246,-3.134892702102661,-3.2159152030944824,-2.429558277130127,-2.1965789794921875,-1.563385248184204,-0.5709914565086365,1.1922731399536133,0.08853812515735626,0.0,0.0,0.0,0.0,0.0,0.0],[2.7451210021972656,-4.624684810638428,-3.842756748199463,-4.3706769943237305,-3.853750705718994,-4.672638893127441,-5.04599666595459,-4.854152202606201,-3.464754343032837,-4.418071269989014,-5.649616718292236,-6.434671878814697,-5.973721981048584,-6.254289150238037,-4.949373245239258,-4.392411231994629,-4.340247631072998,-4.795475959777832,-3.317176103591919,-3.018597364425659,-3.8920252323150635,-5.004330158233643,-4.310866832733154,-3.1244771480560303,-3.1702122688293457,-2.558828830718994,-2.2332215309143066,-1.5035120248794556,-0.46589475870132446,1.2623875141143799,-0.006227639503777027,0.0,0.0,0.0,0.0,0.0],[2.790102481842041,-5.489370346069336,-4.743589401245117,-3.8384318351745605,-4.428005218505859,-3.9685041904449463,-4.541506767272949,-5.086426734924316,-5.029998302459717,-3.6749966144561768,-4.387553691864014,-5.742844581604004,-6.696490287780762,-6.175553321838379,-6.204455852508545,-5.129827499389648,-4.528507232666016,-4.159111022949219,-4.647207736968994,-3.697054862976074,-2.9645638465881348,-3.982715129852295,-4.967548847198486,-4.574671268463135,-2.9729888439178467,-3.181950807571411,-2.6861214637756348,-2.274168014526367,-1.4153258800506592,-0.4385358691215515,1.1755125522613525,0.1588408499956131,0.0,0.0,0.0,0.0],[2.7342209815979004,-5.408945083618164,-5.488502502441406,-4.872005939483643,-3.9494662284851074,-4.406345844268799,-3.840259313583374,-4.23370885848999,-4.8051252365112305,-5.034585952758789,-3.671193838119507,-4.323655128479004,-5.745204448699951,-6.847146034240723,-6.083702564239502,-6.20972204208374,-5.1673383712768555,-4.361474990844727,-3.8950469493865967,-4.635569095611572,-3.7458126544952393,-2.9382998943328857,-3.9796366691589355,-5.131708145141602,-4.62611722946167,-2.9248085021972656,-3.2023556232452393,-2.6534414291381836,-2.208822250366211,-1.4452630281448364,-0.527502715587616,1.2937697172164917,0.12394937127828598,0.0,0.0,0.0],[2.7464542388916016,-4.079608917236328,-5.081387519836426,-5.743900299072266,-5.110238075256348,-3.9727885723114014,-4.334640026092529,-3.829724073410034,-3.9397411346435547,-4.359028339385986,-4.872198581695557,-3.5779707431793213,-4.048702716827393,-5.613663673400879,-6.6818928718566895,-5.882984161376953,-5.81972599029541,-4.908098220825195,-4.244929790496826,-3.81795597076416,-4.189088344573975,-3.7225637435913086,-2.89813494682312,-4.0223541259765625,-5.131382942199707,-4.561159610748291,-2.834353446960449,-3.1228320598602295,-2.6620895862579346,-2.131638765335083,-1.4243556261062622,-0.3203791081905365,1.4120025634765625,0.31514742970466614,0.0,0.0],[2.930222988128662,-4.7196245193481445,-3.617412805557251,-5.206175327301025,-5.84900426864624,-5.403748512268066,-4.092624664306641,-4.453300952911377,-3.9695568084716797,-3.8176491260528564,-4.087116241455078,-4.766149997711182,-3.609400987625122,-4.165798664093018,-5.531022548675537,-6.77305793762207,-5.830912113189697,-5.493492603302002,-4.798779487609863,-4.443281650543213,-3.676333427429199,-3.7888667583465576,-3.651270627975464,-2.9095211029052734,-4.028143405914307,-4.886672496795654,-4.4113593101501465,-2.780179023742676,-3.1610751152038574,-2.6134331226348877,-2.141902446746826,-1.2748185396194458,-0.32025787234306335,1.484485387802124,0.2942403256893158,0.0],[3.0151541233062744,-5.192020893096924,-4.749717712402344,-3.8472776412963867,-5.176572322845459,-5.956408500671387,-5.473373889923096,-4.269572734832764,-4.591859817504883,-4.10459566116333,-3.7507026195526123,-3.961277484893799,-4.861025333404541,-3.9031708240509033,-4.310488700866699,-5.724102973937988,-7.004857063293457,-5.747304916381836,-5.246045112609863,-4.892298221588135,-4.302886009216309,-3.630448579788208,-3.5270748138427734,-3.723055124282837,-2.8555562496185303,-3.838393449783325,-4.801483154296875,-4.391782760620117,-2.7262356281280518,-3.1328487396240234,-2.6620867252349854,-1.901713252067566,-1.2704821825027466,-0.16882190108299255,1.5768468379974365,0.44499531388282776]],\"type\":\"heatmap\",\"xaxis\":\"x\",\"yaxis\":\"y\",\"hovertemplate\":\"x: %{x}<br>y: %{y}<br>color: %{z}<extra></extra>\"}],                        {\"template\":{\"data\":{\"bar\":[{\"error_x\":{\"color\":\"#2a3f5f\"},\"error_y\":{\"color\":\"#2a3f5f\"},\"marker\":{\"line\":{\"color\":\"#E5ECF6\",\"width\":0.5},\"pattern\":{\"fillmode\":\"overlay\",\"size\":10,\"solidity\":0.2}},\"type\":\"bar\"}],\"barpolar\":[{\"marker\":{\"line\":{\"color\":\"#E5ECF6\",\"width\":0.5},\"pattern\":{\"fillmode\":\"overlay\",\"size\":10,\"solidity\":0.2}},\"type\":\"barpolar\"}],\"carpet\":[{\"aaxis\":{\"endlinecolor\":\"#2a3f5f\",\"gridcolor\":\"white\",\"linecolor\":\"white\",\"minorgridcolor\":\"white\",\"startlinecolor\":\"#2a3f5f\"},\"baxis\":{\"endlinecolor\":\"#2a3f5f\",\"gridcolor\":\"white\",\"linecolor\":\"white\",\"minorgridcolor\":\"white\",\"startlinecolor\":\"#2a3f5f\"},\"type\":\"carpet\"}],\"choropleth\":[{\"colorbar\":{\"outlinewidth\":0,\"ticks\":\"\"},\"type\":\"choropleth\"}],\"contour\":[{\"colorbar\":{\"outlinewidth\":0,\"ticks\":\"\"},\"colorscale\":[[0.0,\"#0d0887\"],[0.1111111111111111,\"#46039f\"],[0.2222222222222222,\"#7201a8\"],[0.3333333333333333,\"#9c179e\"],[0.4444444444444444,\"#bd3786\"],[0.5555555555555556,\"#d8576b\"],[0.6666666666666666,\"#ed7953\"],[0.7777777777777778,\"#fb9f3a\"],[0.8888888888888888,\"#fdca26\"],[1.0,\"#f0f921\"]],\"type\":\"contour\"}],\"contourcarpet\":[{\"colorbar\":{\"outlinewidth\":0,\"ticks\":\"\"},\"type\":\"contourcarpet\"}],\"heatmap\":[{\"colorbar\":{\"outlinewidth\":0,\"ticks\":\"\"},\"colorscale\":[[0.0,\"#0d0887\"],[0.1111111111111111,\"#46039f\"],[0.2222222222222222,\"#7201a8\"],[0.3333333333333333,\"#9c179e\"],[0.4444444444444444,\"#bd3786\"],[0.5555555555555556,\"#d8576b\"],[0.6666666666666666,\"#ed7953\"],[0.7777777777777778,\"#fb9f3a\"],[0.8888888888888888,\"#fdca26\"],[1.0,\"#f0f921\"]],\"type\":\"heatmap\"}],\"heatmapgl\":[{\"colorbar\":{\"outlinewidth\":0,\"ticks\":\"\"},\"colorscale\":[[0.0,\"#0d0887\"],[0.1111111111111111,\"#46039f\"],[0.2222222222222222,\"#7201a8\"],[0.3333333333333333,\"#9c179e\"],[0.4444444444444444,\"#bd3786\"],[0.5555555555555556,\"#d8576b\"],[0.6666666666666666,\"#ed7953\"],[0.7777777777777778,\"#fb9f3a\"],[0.8888888888888888,\"#fdca26\"],[1.0,\"#f0f921\"]],\"type\":\"heatmapgl\"}],\"histogram\":[{\"marker\":{\"pattern\":{\"fillmode\":\"overlay\",\"size\":10,\"solidity\":0.2}},\"type\":\"histogram\"}],\"histogram2d\":[{\"colorbar\":{\"outlinewidth\":0,\"ticks\":\"\"},\"colorscale\":[[0.0,\"#0d0887\"],[0.1111111111111111,\"#46039f\"],[0.2222222222222222,\"#7201a8\"],[0.3333333333333333,\"#9c179e\"],[0.4444444444444444,\"#bd3786\"],[0.5555555555555556,\"#d8576b\"],[0.6666666666666666,\"#ed7953\"],[0.7777777777777778,\"#fb9f3a\"],[0.8888888888888888,\"#fdca26\"],[1.0,\"#f0f921\"]],\"type\":\"histogram2d\"}],\"histogram2dcontour\":[{\"colorbar\":{\"outlinewidth\":0,\"ticks\":\"\"},\"colorscale\":[[0.0,\"#0d0887\"],[0.1111111111111111,\"#46039f\"],[0.2222222222222222,\"#7201a8\"],[0.3333333333333333,\"#9c179e\"],[0.4444444444444444,\"#bd3786\"],[0.5555555555555556,\"#d8576b\"],[0.6666666666666666,\"#ed7953\"],[0.7777777777777778,\"#fb9f3a\"],[0.8888888888888888,\"#fdca26\"],[1.0,\"#f0f921\"]],\"type\":\"histogram2dcontour\"}],\"mesh3d\":[{\"colorbar\":{\"outlinewidth\":0,\"ticks\":\"\"},\"type\":\"mesh3d\"}],\"parcoords\":[{\"line\":{\"colorbar\":{\"outlinewidth\":0,\"ticks\":\"\"}},\"type\":\"parcoords\"}],\"pie\":[{\"automargin\":true,\"type\":\"pie\"}],\"scatter\":[{\"marker\":{\"colorbar\":{\"outlinewidth\":0,\"ticks\":\"\"}},\"type\":\"scatter\"}],\"scatter3d\":[{\"line\":{\"colorbar\":{\"outlinewidth\":0,\"ticks\":\"\"}},\"marker\":{\"colorbar\":{\"outlinewidth\":0,\"ticks\":\"\"}},\"type\":\"scatter3d\"}],\"scattercarpet\":[{\"marker\":{\"colorbar\":{\"outlinewidth\":0,\"ticks\":\"\"}},\"type\":\"scattercarpet\"}],\"scattergeo\":[{\"marker\":{\"colorbar\":{\"outlinewidth\":0,\"ticks\":\"\"}},\"type\":\"scattergeo\"}],\"scattergl\":[{\"marker\":{\"colorbar\":{\"outlinewidth\":0,\"ticks\":\"\"}},\"type\":\"scattergl\"}],\"scattermapbox\":[{\"marker\":{\"colorbar\":{\"outlinewidth\":0,\"ticks\":\"\"}},\"type\":\"scattermapbox\"}],\"scatterpolar\":[{\"marker\":{\"colorbar\":{\"outlinewidth\":0,\"ticks\":\"\"}},\"type\":\"scatterpolar\"}],\"scatterpolargl\":[{\"marker\":{\"colorbar\":{\"outlinewidth\":0,\"ticks\":\"\"}},\"type\":\"scatterpolargl\"}],\"scatterternary\":[{\"marker\":{\"colorbar\":{\"outlinewidth\":0,\"ticks\":\"\"}},\"type\":\"scatterternary\"}],\"surface\":[{\"colorbar\":{\"outlinewidth\":0,\"ticks\":\"\"},\"colorscale\":[[0.0,\"#0d0887\"],[0.1111111111111111,\"#46039f\"],[0.2222222222222222,\"#7201a8\"],[0.3333333333333333,\"#9c179e\"],[0.4444444444444444,\"#bd3786\"],[0.5555555555555556,\"#d8576b\"],[0.6666666666666666,\"#ed7953\"],[0.7777777777777778,\"#fb9f3a\"],[0.8888888888888888,\"#fdca26\"],[1.0,\"#f0f921\"]],\"type\":\"surface\"}],\"table\":[{\"cells\":{\"fill\":{\"color\":\"#EBF0F8\"},\"line\":{\"color\":\"white\"}},\"header\":{\"fill\":{\"color\":\"#C8D4E3\"},\"line\":{\"color\":\"white\"}},\"type\":\"table\"}]},\"layout\":{\"annotationdefaults\":{\"arrowcolor\":\"#2a3f5f\",\"arrowhead\":0,\"arrowwidth\":1},\"autotypenumbers\":\"strict\",\"coloraxis\":{\"colorbar\":{\"outlinewidth\":0,\"ticks\":\"\"}},\"colorscale\":{\"diverging\":[[0,\"#8e0152\"],[0.1,\"#c51b7d\"],[0.2,\"#de77ae\"],[0.3,\"#f1b6da\"],[0.4,\"#fde0ef\"],[0.5,\"#f7f7f7\"],[0.6,\"#e6f5d0\"],[0.7,\"#b8e186\"],[0.8,\"#7fbc41\"],[0.9,\"#4d9221\"],[1,\"#276419\"]],\"sequential\":[[0.0,\"#0d0887\"],[0.1111111111111111,\"#46039f\"],[0.2222222222222222,\"#7201a8\"],[0.3333333333333333,\"#9c179e\"],[0.4444444444444444,\"#bd3786\"],[0.5555555555555556,\"#d8576b\"],[0.6666666666666666,\"#ed7953\"],[0.7777777777777778,\"#fb9f3a\"],[0.8888888888888888,\"#fdca26\"],[1.0,\"#f0f921\"]],\"sequentialminus\":[[0.0,\"#0d0887\"],[0.1111111111111111,\"#46039f\"],[0.2222222222222222,\"#7201a8\"],[0.3333333333333333,\"#9c179e\"],[0.4444444444444444,\"#bd3786\"],[0.5555555555555556,\"#d8576b\"],[0.6666666666666666,\"#ed7953\"],[0.7777777777777778,\"#fb9f3a\"],[0.8888888888888888,\"#fdca26\"],[1.0,\"#f0f921\"]]},\"colorway\":[\"#636efa\",\"#EF553B\",\"#00cc96\",\"#ab63fa\",\"#FFA15A\",\"#19d3f3\",\"#FF6692\",\"#B6E880\",\"#FF97FF\",\"#FECB52\"],\"font\":{\"color\":\"#2a3f5f\"},\"geo\":{\"bgcolor\":\"white\",\"lakecolor\":\"white\",\"landcolor\":\"#E5ECF6\",\"showlakes\":true,\"showland\":true,\"subunitcolor\":\"white\"},\"hoverlabel\":{\"align\":\"left\"},\"hovermode\":\"closest\",\"mapbox\":{\"style\":\"light\"},\"paper_bgcolor\":\"white\",\"plot_bgcolor\":\"#E5ECF6\",\"polar\":{\"angularaxis\":{\"gridcolor\":\"white\",\"linecolor\":\"white\",\"ticks\":\"\"},\"bgcolor\":\"#E5ECF6\",\"radialaxis\":{\"gridcolor\":\"white\",\"linecolor\":\"white\",\"ticks\":\"\"}},\"scene\":{\"xaxis\":{\"backgroundcolor\":\"#E5ECF6\",\"gridcolor\":\"white\",\"gridwidth\":2,\"linecolor\":\"white\",\"showbackground\":true,\"ticks\":\"\",\"zerolinecolor\":\"white\"},\"yaxis\":{\"backgroundcolor\":\"#E5ECF6\",\"gridcolor\":\"white\",\"gridwidth\":2,\"linecolor\":\"white\",\"showbackground\":true,\"ticks\":\"\",\"zerolinecolor\":\"white\"},\"zaxis\":{\"backgroundcolor\":\"#E5ECF6\",\"gridcolor\":\"white\",\"gridwidth\":2,\"linecolor\":\"white\",\"showbackground\":true,\"ticks\":\"\",\"zerolinecolor\":\"white\"}},\"shapedefaults\":{\"line\":{\"color\":\"#2a3f5f\"}},\"ternary\":{\"aaxis\":{\"gridcolor\":\"white\",\"linecolor\":\"white\",\"ticks\":\"\"},\"baxis\":{\"gridcolor\":\"white\",\"linecolor\":\"white\",\"ticks\":\"\"},\"bgcolor\":\"#E5ECF6\",\"caxis\":{\"gridcolor\":\"white\",\"linecolor\":\"white\",\"ticks\":\"\"}},\"title\":{\"x\":0.05},\"xaxis\":{\"automargin\":true,\"gridcolor\":\"white\",\"linecolor\":\"white\",\"ticks\":\"\",\"title\":{\"standoff\":15},\"zerolinecolor\":\"white\",\"zerolinewidth\":2},\"yaxis\":{\"automargin\":true,\"gridcolor\":\"white\",\"linecolor\":\"white\",\"ticks\":\"\",\"title\":{\"standoff\":15},\"zerolinecolor\":\"white\",\"zerolinewidth\":2}}},\"xaxis\":{\"anchor\":\"y\",\"domain\":[0.0,1.0],\"scaleanchor\":\"y\",\"constrain\":\"domain\"},\"yaxis\":{\"anchor\":\"x\",\"domain\":[0.0,1.0],\"autorange\":\"reversed\",\"constrain\":\"domain\"},\"coloraxis\":{\"colorscale\":[[0.0,\"#0d0887\"],[0.1111111111111111,\"#46039f\"],[0.2222222222222222,\"#7201a8\"],[0.3333333333333333,\"#9c179e\"],[0.4444444444444444,\"#bd3786\"],[0.5555555555555556,\"#d8576b\"],[0.6666666666666666,\"#ed7953\"],[0.7777777777777778,\"#fb9f3a\"],[0.8888888888888888,\"#fdca26\"],[1.0,\"#f0f921\"]]},\"margin\":{\"t\":60}},                        {\"responsive\": true}                    ).then(function(){\n",
       "                            \n",
       "var gd = document.getElementById('3433a9ad-c382-44a1-9236-82b0640d6f94');\n",
       "var x = new MutationObserver(function (mutations, observer) {{\n",
       "        var display = window.getComputedStyle(gd).display;\n",
       "        if (!display || display === 'none') {{\n",
       "            console.log([gd, 'removed!']);\n",
       "            Plotly.purge(gd);\n",
       "            observer.disconnect();\n",
       "        }}\n",
       "}});\n",
       "\n",
       "// Listen for the removal of the full notebook cells\n",
       "var notebookContainer = gd.closest('#notebook-container');\n",
       "if (notebookContainer) {{\n",
       "    x.observe(notebookContainer, {childList: true});\n",
       "}}\n",
       "\n",
       "// Listen for the clearing of the current output cell\n",
       "var outputEl = gd.closest('.output');\n",
       "if (outputEl) {{\n",
       "    x.observe(outputEl, {childList: true});\n",
       "}}\n",
       "\n",
       "                        })                };                });            </script>        </div>"
      ]
     },
     "metadata": {},
     "output_type": "display_data"
    },
    {
     "data": {
      "application/vnd.plotly.v1+json": {
       "config": {
        "plotlyServerURL": "https://plot.ly"
       },
       "data": [
        {
         "coloraxis": "coloraxis",
         "hovertemplate": "x: %{x}<br>y: %{y}<br>color: %{z}<extra></extra>",
         "name": "0",
         "texttemplate": "%{z}",
         "type": "heatmap",
         "xaxis": "x",
         "yaxis": "y",
         "z": [
          [
           -8.045899391174316,
           0,
           0,
           0,
           0,
           0,
           0,
           0,
           0,
           0,
           0,
           0,
           0,
           0,
           0,
           0,
           0,
           0,
           0,
           0,
           0,
           0,
           0,
           0,
           0,
           0,
           0,
           0,
           0,
           0,
           0,
           0,
           0,
           0,
           0,
           0
          ],
          [
           -1.6262074708938599,
           -1.4363569021224976,
           0,
           0,
           0,
           0,
           0,
           0,
           0,
           0,
           0,
           0,
           0,
           0,
           0,
           0,
           0,
           0,
           0,
           0,
           0,
           0,
           0,
           0,
           0,
           0,
           0,
           0,
           0,
           0,
           0,
           0,
           0,
           0,
           0,
           0
          ],
          [
           -0.09381639957427979,
           -0.8207414150238037,
           -0.6761000752449036,
           0,
           0,
           0,
           0,
           0,
           0,
           0,
           0,
           0,
           0,
           0,
           0,
           0,
           0,
           0,
           0,
           0,
           0,
           0,
           0,
           0,
           0,
           0,
           0,
           0,
           0,
           0,
           0,
           0,
           0,
           0,
           0,
           0
          ],
          [
           -0.23932963609695435,
           -0.9563694000244141,
           -0.9582251310348511,
           -0.851539671421051,
           0,
           0,
           0,
           0,
           0,
           0,
           0,
           0,
           0,
           0,
           0,
           0,
           0,
           0,
           0,
           0,
           0,
           0,
           0,
           0,
           0,
           0,
           0,
           0,
           0,
           0,
           0,
           0,
           0,
           0,
           0,
           0
          ],
          [
           -0.3431629240512848,
           -1.0678385496139526,
           -1.0098285675048828,
           -0.928229808807373,
           -0.8350115418434143,
           0,
           0,
           0,
           0,
           0,
           0,
           0,
           0,
           0,
           0,
           0,
           0,
           0,
           0,
           0,
           0,
           0,
           0,
           0,
           0,
           0,
           0,
           0,
           0,
           0,
           0,
           0,
           0,
           0,
           0,
           0
          ],
          [
           -0.2119811624288559,
           -1.0672646760940552,
           -1.1012531518936157,
           -0.9752100110054016,
           -0.837814450263977,
           -0.7694377899169922,
           0,
           0,
           0,
           0,
           0,
           0,
           0,
           0,
           0,
           0,
           0,
           0,
           0,
           0,
           0,
           0,
           0,
           0,
           0,
           0,
           0,
           0,
           0,
           0,
           0,
           0,
           0,
           0,
           0,
           0
          ],
          [
           -0.14183884859085083,
           -1.0934185981750488,
           -1.142436146736145,
           -1.0505613088607788,
           -0.8862587809562683,
           -0.7806879281997681,
           -0.7499570846557617,
           0,
           0,
           0,
           0,
           0,
           0,
           0,
           0,
           0,
           0,
           0,
           0,
           0,
           0,
           0,
           0,
           0,
           0,
           0,
           0,
           0,
           0,
           0,
           0,
           0,
           0,
           0,
           0,
           0
          ],
          [
           -0.20903891324996948,
           -1.2501904964447021,
           -1.2924708127975464,
           -1.2020580768585205,
           -1.0334848165512085,
           -0.8712996244430542,
           -0.7998985052108765,
           -0.6934657096862793,
           0,
           0,
           0,
           0,
           0,
           0,
           0,
           0,
           0,
           0,
           0,
           0,
           0,
           0,
           0,
           0,
           0,
           0,
           0,
           0,
           0,
           0,
           0,
           0,
           0,
           0,
           0,
           0
          ],
          [
           -0.14228840172290802,
           -1.4072024822235107,
           -1.4979878664016724,
           -1.4188700914382935,
           -1.234665036201477,
           -1.0376038551330566,
           -0.9245442152023315,
           -0.7820731401443481,
           -0.739188551902771,
           0,
           0,
           0,
           0,
           0,
           0,
           0,
           0,
           0,
           0,
           0,
           0,
           0,
           0,
           0,
           0,
           0,
           0,
           0,
           0,
           0,
           0,
           0,
           0,
           0,
           0,
           0
          ],
          [
           -0.12236751616001129,
           -1.4197059869766235,
           -1.5455567836761475,
           -1.4941405057907104,
           -1.3299765586853027,
           -1.116843581199646,
           -0.9744912981987,
           -0.7954806685447693,
           -0.7302359938621521,
           -0.6789941191673279,
           0,
           0,
           0,
           0,
           0,
           0,
           0,
           0,
           0,
           0,
           0,
           0,
           0,
           0,
           0,
           0,
           0,
           0,
           0,
           0,
           0,
           0,
           0,
           0,
           0,
           0
          ],
          [
           -0.12092164903879166,
           -1.5074995756149292,
           -1.641821026802063,
           -1.602743148803711,
           -1.4494266510009766,
           -1.2389321327209473,
           -1.092885971069336,
           -0.9080648422241211,
           -0.7993565797805786,
           -0.7153335213661194,
           -0.6537402868270874,
           0,
           0,
           0,
           0,
           0,
           0,
           0,
           0,
           0,
           0,
           0,
           0,
           0,
           0,
           0,
           0,
           0,
           0,
           0,
           0,
           0,
           0,
           0,
           0,
           0
          ],
          [
           -0.085335873067379,
           -1.655761957168579,
           -1.823468565940857,
           -1.7896206378936768,
           -1.6596018075942993,
           -1.4587135314941406,
           -1.3234971761703491,
           -1.133086919784546,
           -1.0012668371200562,
           -0.8646122813224792,
           -0.7586251497268677,
           -0.6855199337005615,
           0,
           0,
           0,
           0,
           0,
           0,
           0,
           0,
           0,
           0,
           0,
           0,
           0,
           0,
           0,
           0,
           0,
           0,
           0,
           0,
           0,
           0,
           0,
           0
          ],
          [
           -0.11231555044651031,
           -1.7083714008331299,
           -1.828062653541565,
           -1.8315951824188232,
           -1.7049813270568848,
           -1.5288459062576294,
           -1.4024081230163574,
           -1.2131975889205933,
           -1.0737817287445068,
           -0.9036855101585388,
           -0.7581572532653809,
           -0.6467480659484863,
           -0.5712277293205261,
           0,
           0,
           0,
           0,
           0,
           0,
           0,
           0,
           0,
           0,
           0,
           0,
           0,
           0,
           0,
           0,
           0,
           0,
           0,
           0,
           0,
           0,
           0
          ],
          [
           -0.016125516965985298,
           -1.8616400957107544,
           -1.9981244802474976,
           -1.9733089208602905,
           -1.8732717037200928,
           -1.6969331502914429,
           -1.5782119035720825,
           -1.4050601720809937,
           -1.2573930025100708,
           -1.0727810859680176,
           -0.9059961438179016,
           -0.7470625042915344,
           -0.6394456028938293,
           -0.6207560896873474,
           0,
           0,
           0,
           0,
           0,
           0,
           0,
           0,
           0,
           0,
           0,
           0,
           0,
           0,
           0,
           0,
           0,
           0,
           0,
           0,
           0,
           0
          ],
          [
           -0.09906866401433945,
           -2.009690046310425,
           -2.112694025039673,
           -2.08298659324646,
           -1.9828455448150635,
           -1.8198680877685547,
           -1.724202275276184,
           -1.5691492557525635,
           -1.4213653802871704,
           -1.2496672868728638,
           -1.080029845237732,
           -0.9008676409721375,
           -0.7558407783508301,
           -0.6782699227333069,
           -0.6406210660934448,
           0,
           0,
           0,
           0,
           0,
           0,
           0,
           0,
           0,
           0,
           0,
           0,
           0,
           0,
           0,
           0,
           0,
           0,
           0,
           0,
           0
          ],
          [
           0.0010156701318919659,
           -1.9929710626602173,
           -2.1118969917297363,
           -2.0710301399230957,
           -1.9796727895736694,
           -1.8369543552398682,
           -1.7597399950027466,
           -1.6291967630386353,
           -1.5094388723373413,
           -1.3593565225601196,
           -1.2103585004806519,
           -1.0276786088943481,
           -0.8438456654548645,
           -0.7062341570854187,
           -0.6060832142829895,
           -0.5384010076522827,
           0,
           0,
           0,
           0,
           0,
           0,
           0,
           0,
           0,
           0,
           0,
           0,
           0,
           0,
           0,
           0,
           0,
           0,
           0,
           0
          ],
          [
           -0.06370232254266739,
           -2.0997276306152344,
           -2.1909706592559814,
           -2.1654927730560303,
           -2.079472064971924,
           -1.930738091468811,
           -1.8562638759613037,
           -1.730865716934204,
           -1.647596001625061,
           -1.516292929649353,
           -1.4041838645935059,
           -1.2212707996368408,
           -1.0124588012695312,
           -0.8353941440582275,
           -0.680526077747345,
           -0.5747848153114319,
           -0.5276183485984802,
           0,
           0,
           0,
           0,
           0,
           0,
           0,
           0,
           0,
           0,
           0,
           0,
           0,
           0,
           0,
           0,
           0,
           0,
           0
          ],
          [
           -0.0252353735268116,
           -2.2277400493621826,
           -2.288065195083618,
           -2.2489395141601562,
           -2.1582164764404297,
           -2.0282933712005615,
           -1.9640960693359375,
           -1.8519377708435059,
           -1.7640745639801025,
           -1.6560238599777222,
           -1.548921823501587,
           -1.3567663431167603,
           -1.1380527019500732,
           -0.9349339604377747,
           -0.7447398900985718,
           -0.5962284803390503,
           -0.5174108147621155,
           -0.4475369155406952,
           0,
           0,
           0,
           0,
           0,
           0,
           0,
           0,
           0,
           0,
           0,
           0,
           0,
           0,
           0,
           0,
           0,
           0
          ],
          [
           0.0318659208714962,
           -2.3334429264068604,
           -2.349745273590088,
           -2.3162124156951904,
           -2.234713554382324,
           -2.097743511199951,
           -2.0366811752319336,
           -1.9422897100448608,
           -1.8774079084396362,
           -1.783515214920044,
           -1.688264012336731,
           -1.4997352361679077,
           -1.2712382078170776,
           -1.0686808824539185,
           -0.851222574710846,
           -0.6827774047851562,
           -0.5637060403823853,
           -0.4679865539073944,
           -0.45624369382858276,
           0,
           0,
           0,
           0,
           0,
           0,
           0,
           0,
           0,
           0,
           0,
           0,
           0,
           0,
           0,
           0,
           0
          ],
          [
           0.05977880582213402,
           -2.4446096420288086,
           -2.464132308959961,
           -2.4159982204437256,
           -2.3318240642547607,
           -2.2105636596679688,
           -2.1640355587005615,
           -2.085249900817871,
           -2.0173888206481934,
           -1.925482988357544,
           -1.828727126121521,
           -1.6395856142044067,
           -1.4053233861923218,
           -1.2034101486206055,
           -0.9797177314758301,
           -0.7943313717842102,
           -0.6642777919769287,
           -0.5449336767196655,
           -0.4806336462497711,
           -0.4556930959224701,
           0,
           0,
           0,
           0,
           0,
           0,
           0,
           0,
           0,
           0,
           0,
           0,
           0,
           0,
           0,
           0
          ],
          [
           0.08440728485584259,
           -2.5308096408843994,
           -2.5375823974609375,
           -2.4718191623687744,
           -2.383150339126587,
           -2.262434720993042,
           -2.2352399826049805,
           -2.180779218673706,
           -2.1302592754364014,
           -2.0336689949035645,
           -1.9516410827636719,
           -1.757789134979248,
           -1.5388586521148682,
           -1.3452608585357666,
           -1.140656590461731,
           -0.9547861814498901,
           -0.7988805174827576,
           -0.6505945324897766,
           -0.5409978628158569,
           -0.46237385272979736,
           -0.45379504561424255,
           0,
           0,
           0,
           0,
           0,
           0,
           0,
           0,
           0,
           0,
           0,
           0,
           0,
           0,
           0
          ],
          [
           0.02578975446522236,
           -2.680062770843506,
           -2.6386382579803467,
           -2.565579652786255,
           -2.4681999683380127,
           -2.362145185470581,
           -2.3512461185455322,
           -2.324449300765991,
           -2.2723491191864014,
           -2.1749343872070312,
           -2.080434799194336,
           -1.8974804878234863,
           -1.6878952980041504,
           -1.5226291418075562,
           -1.34281587600708,
           -1.1691174507141113,
           -1.0089744329452515,
           -0.8356345295906067,
           -0.6641234755516052,
           -0.5498777031898499,
           -0.46174004673957825,
           -0.41658908128738403,
           0,
           0,
           0,
           0,
           0,
           0,
           0,
           0,
           0,
           0,
           0,
           0,
           0,
           0
          ],
          [
           0.07822857052087784,
           -2.72888445854187,
           -2.649775981903076,
           -2.5617847442626953,
           -2.464951992034912,
           -2.36143159866333,
           -2.360114097595215,
           -2.356478214263916,
           -2.3135409355163574,
           -2.2111923694610596,
           -2.1183509826660156,
           -1.9594898223876953,
           -1.7759380340576172,
           -1.6492549180984497,
           -1.498364806175232,
           -1.3474903106689453,
           -1.1808955669403076,
           -0.9882910251617432,
           -0.7737624645233154,
           -0.6141723990440369,
           -0.45704033970832825,
           -0.3669722080230713,
           -0.3272262513637543,
           0,
           0,
           0,
           0,
           0,
           0,
           0,
           0,
           0,
           0,
           0,
           0,
           0
          ],
          [
           0.09152273833751678,
           -2.9128577709198,
           -2.8218259811401367,
           -2.7444684505462646,
           -2.6385746002197266,
           -2.517364978790283,
           -2.499162197113037,
           -2.4936110973358154,
           -2.4541077613830566,
           -2.3504550457000732,
           -2.2658822536468506,
           -2.1267426013946533,
           -1.9630869626998901,
           -1.8777906894683838,
           -1.755263328552246,
           -1.6235458850860596,
           -1.446643352508545,
           -1.2414735555648804,
           -1.011195421218872,
           -0.817055344581604,
           -0.6199533343315125,
           -0.5005024075508118,
           -0.43315356969833374,
           -0.33057430386543274,
           0,
           0,
           0,
           0,
           0,
           0,
           0,
           0,
           0,
           0,
           0,
           0
          ],
          [
           0.1967700868844986,
           -2.9888856410980225,
           -2.8947699069976807,
           -2.8200275897979736,
           -2.7048771381378174,
           -2.5689308643341064,
           -2.5352330207824707,
           -2.5097615718841553,
           -2.467947483062744,
           -2.3679254055023193,
           -2.300412178039551,
           -2.1786322593688965,
           -2.035614013671875,
           -1.9763957262039185,
           -1.8550547361373901,
           -1.730672001838684,
           -1.5530614852905273,
           -1.3442904949188232,
           -1.1012524366378784,
           -0.914368748664856,
           -0.7030047178268433,
           -0.5669657588005066,
           -0.4733213782310486,
           -0.3464432954788208,
           -0.34127864241600037,
           0,
           0,
           0,
           0,
           0,
           0,
           0,
           0,
           0,
           0,
           0
          ],
          [
           0.13045553863048553,
           -3.0763392448425293,
           -2.9283623695373535,
           -2.891052007675171,
           -2.785083293914795,
           -2.637688159942627,
           -2.5867714881896973,
           -2.5626347064971924,
           -2.531392812728882,
           -2.4340789318084717,
           -2.3830807209014893,
           -2.2929179668426514,
           -2.1631953716278076,
           -2.1043944358825684,
           -1.9929888248443604,
           -1.8829224109649658,
           -1.7039788961410522,
           -1.4892761707305908,
           -1.2668434381484985,
           -1.0899772644042969,
           -0.8836929202079773,
           -0.7332415580749512,
           -0.6293137073516846,
           -0.46371757984161377,
           -0.40439102053642273,
           -0.3628268539905548,
           0,
           0,
           0,
           0,
           0,
           0,
           0,
           0,
           0,
           0
          ],
          [
           0.19918087124824524,
           -3.1601059436798096,
           -2.9600629806518555,
           -2.9458513259887695,
           -2.855081558227539,
           -2.7248167991638184,
           -2.678583860397339,
           -2.6396963596343994,
           -2.6048197746276855,
           -2.511431932449341,
           -2.46529221534729,
           -2.3895034790039062,
           -2.2634057998657227,
           -2.2203052043914795,
           -2.103726863861084,
           -1.9932849407196045,
           -1.8105260133743286,
           -1.6042358875274658,
           -1.396183967590332,
           -1.2330759763717651,
           -1.035326600074768,
           -0.8822256326675415,
           -0.7610267996788025,
           -0.5611196160316467,
           -0.4694339632987976,
           -0.3711859881877899,
           -0.28845512866973877,
           0,
           0,
           0,
           0,
           0,
           0,
           0,
           0,
           0
          ],
          [
           0.2554062604904175,
           -3.2604479789733887,
           -3.018714427947998,
           -3.0266218185424805,
           -2.94289493560791,
           -2.8238656520843506,
           -2.784621000289917,
           -2.7375917434692383,
           -2.705117702484131,
           -2.6234030723571777,
           -2.592625141143799,
           -2.513986110687256,
           -2.385197877883911,
           -2.326780319213867,
           -2.1995151042938232,
           -2.0767619609832764,
           -1.8962459564208984,
           -1.698375940322876,
           -1.5101276636123657,
           -1.3744683265686035,
           -1.209403157234192,
           -1.0606074333190918,
           -0.925877034664154,
           -0.710174560546875,
           -0.5914621353149414,
           -0.4419272840023041,
           -0.2971016764640808,
           -0.28851082921028137,
           0,
           0,
           0,
           0,
           0,
           0,
           0,
           0
          ],
          [
           0.3158539831638336,
           -3.2434051036834717,
           -2.9938805103302,
           -2.9975898265838623,
           -2.924715757369995,
           -2.821851968765259,
           -2.785527467727661,
           -2.754323959350586,
           -2.745842695236206,
           -2.682840347290039,
           -2.66558837890625,
           -2.590132236480713,
           -2.4562339782714844,
           -2.3718421459198,
           -2.233494281768799,
           -2.1011838912963867,
           -1.9237760305404663,
           -1.7300004959106445,
           -1.577309250831604,
           -1.4698230028152466,
           -1.327430248260498,
           -1.1843385696411133,
           -1.0535434484481812,
           -0.8363129496574402,
           -0.6924545764923096,
           -0.5287947654724121,
           -0.33519628643989563,
           -0.269258588552475,
           -0.14598345756530762,
           0,
           0,
           0,
           0,
           0,
           0,
           0
          ],
          [
           0.3154554069042206,
           -3.267120122909546,
           -2.973358392715454,
           -2.981403350830078,
           -2.9021341800689697,
           -2.7916629314422607,
           -2.772803783416748,
           -2.7595603466033936,
           -2.7774007320404053,
           -2.7507801055908203,
           -2.7564358711242676,
           -2.6983795166015625,
           -2.5604140758514404,
           -2.461852550506592,
           -2.300861358642578,
           -2.1495749950408936,
           -1.9711881875991821,
           -1.7799409627914429,
           -1.658254623413086,
           -1.5654206275939941,
           -1.4470224380493164,
           -1.305698275566101,
           -1.1635713577270508,
           -0.9418262839317322,
           -0.7793342471122742,
           -0.6024481058120728,
           -0.3810764253139496,
           -0.2819063067436218,
           -0.12105025351047516,
           -0.0336652509868145,
           0,
           0,
           0,
           0,
           0,
           0
          ],
          [
           0.33142930269241333,
           -3.287335157394409,
           -3.022003650665283,
           -3.0046403408050537,
           -2.9061131477355957,
           -2.7957944869995117,
           -2.777174234390259,
           -2.7671475410461426,
           -2.7985072135925293,
           -2.7891266345977783,
           -2.823930025100708,
           -2.7829737663269043,
           -2.663482666015625,
           -2.5716116428375244,
           -2.4143331050872803,
           -2.252276659011841,
           -2.079606533050537,
           -1.8947017192840576,
           -1.7845990657806396,
           -1.6907508373260498,
           -1.5770540237426758,
           -1.4342870712280273,
           -1.2824561595916748,
           -1.0515044927597046,
           -0.8749697804450989,
           -0.6892761588096619,
           -0.4636709690093994,
           -0.3459952771663666,
           -0.1653537154197693,
           -0.047491539269685745,
           -0.023648228496313095,
           0,
           0,
           0,
           0,
           0
          ],
          [
           0.31507304310798645,
           -3.2173054218292236,
           -2.9520931243896484,
           -2.939594030380249,
           -2.8310611248016357,
           -2.727167844772339,
           -2.707451105117798,
           -2.7010788917541504,
           -2.7255280017852783,
           -2.7286131381988525,
           -2.7653605937957764,
           -2.745493173599243,
           -2.6544103622436523,
           -2.591557741165161,
           -2.457120656967163,
           -2.313774585723877,
           -2.1623191833496094,
           -1.9895217418670654,
           -1.8802270889282227,
           -1.7884550094604492,
           -1.6637911796569824,
           -1.5112375020980835,
           -1.3524937629699707,
           -1.1293612718582153,
           -0.9531295895576477,
           -0.7601877450942993,
           -0.5330417156219482,
           -0.41864296793937683,
           -0.22337855398654938,
           -0.0739842876791954,
           -0.002304177498444915,
           0.028848033398389816,
           0,
           0,
           0,
           0
          ],
          [
           0.3920077085494995,
           -3.2542648315429688,
           -3.034412384033203,
           -3.0187923908233643,
           -2.903477907180786,
           -2.7918453216552734,
           -2.7542388439178467,
           -2.7405622005462646,
           -2.7465155124664307,
           -2.731332302093506,
           -2.75346302986145,
           -2.74238920211792,
           -2.678173065185547,
           -2.659848213195801,
           -2.565061569213867,
           -2.45961856842041,
           -2.3407034873962402,
           -2.1748504638671875,
           -2.057068109512329,
           -1.9637755155563354,
           -1.8001788854599,
           -1.642164945602417,
           -1.4841006994247437,
           -1.2830175161361694,
           -1.11380934715271,
           -0.9314011335372925,
           -0.7235672473907471,
           -0.6174073219299316,
           -0.4289522171020508,
           -0.24518705904483795,
           -0.13174650073051453,
           -0.03498086705803871,
           -0.02305055782198906,
           0,
           0,
           0
          ],
          [
           0.3072890341281891,
           -3.388678789138794,
           -3.179198980331421,
           -3.171851873397827,
           -3.0547187328338623,
           -2.9395058155059814,
           -2.8763771057128906,
           -2.8314151763916016,
           -2.8000071048736572,
           -2.741960287094116,
           -2.7339389324188232,
           -2.7098870277404785,
           -2.676456928253174,
           -2.7021517753601074,
           -2.6664609909057617,
           -2.6187124252319336,
           -2.5342166423797607,
           -2.394028425216675,
           -2.2775766849517822,
           -2.1775145530700684,
           -2.005703926086426,
           -1.8440377712249756,
           -1.704521894454956,
           -1.520972728729248,
           -1.3642301559448242,
           -1.171260118484497,
           -0.9782710075378418,
           -0.8732784986495972,
           -0.6780880689620972,
           -0.46681252121925354,
           -0.31072527170181274,
           -0.15423718094825745,
           -0.0811770036816597,
           -0.0036840143147855997,
           0,
           0
          ],
          [
           0.3859553337097168,
           -3.462315082550049,
           -3.2140274047851562,
           -3.218759298324585,
           -3.1129369735717773,
           -3.0018529891967773,
           -2.941645383834839,
           -2.8860013484954834,
           -2.8236002922058105,
           -2.7370829582214355,
           -2.680762529373169,
           -2.6447534561157227,
           -2.612617015838623,
           -2.6656606197357178,
           -2.6702492237091064,
           -2.6689653396606445,
           -2.6128172874450684,
           -2.494211196899414,
           -2.3688719272613525,
           -2.2624502182006836,
           -2.067237377166748,
           -1.9256709814071655,
           -1.8049050569534302,
           -1.6455776691436768,
           -1.5194082260131836,
           -1.3511478900909424,
           -1.173816442489624,
           -1.068723440170288,
           -0.8664965033531189,
           -0.6447347402572632,
           -0.4743918180465698,
           -0.2734391689300537,
           -0.17517539858818054,
           -0.0421149767935276,
           0.015447797253727913,
           0
          ],
          [
           0.4172782897949219,
           -3.544935703277588,
           -3.3001744747161865,
           -3.3186633586883545,
           -3.235344648361206,
           -3.1345221996307373,
           -3.0810139179229736,
           -3.037916660308838,
           -2.973788261413574,
           -2.8622238636016846,
           -2.786661148071289,
           -2.732527732849121,
           -2.692758560180664,
           -2.7544400691986084,
           -2.7754459381103516,
           -2.7860801219940186,
           -2.741442918777466,
           -2.6241719722747803,
           -2.5055158138275146,
           -2.394115924835205,
           -2.1917531490325928,
           -2.049032211303711,
           -1.949509620666504,
           -1.818820834159851,
           -1.7102618217468262,
           -1.5625981092453003,
           -1.3896039724349976,
           -1.2894777059555054,
           -1.0829532146453857,
           -0.8444622159004211,
           -0.6556859612464905,
           -0.43997853994369507,
           -0.3187580108642578,
           -0.15423952043056488,
           -0.07022633403539658,
           0.033012062311172485
          ]
         ]
        }
       ],
       "layout": {
        "autosize": true,
        "coloraxis": {
         "colorscale": [
          [
           0,
           "#0d0887"
          ],
          [
           0.1111111111111111,
           "#46039f"
          ],
          [
           0.2222222222222222,
           "#7201a8"
          ],
          [
           0.3333333333333333,
           "#9c179e"
          ],
          [
           0.4444444444444444,
           "#bd3786"
          ],
          [
           0.5555555555555556,
           "#d8576b"
          ],
          [
           0.6666666666666666,
           "#ed7953"
          ],
          [
           0.7777777777777778,
           "#fb9f3a"
          ],
          [
           0.8888888888888888,
           "#fdca26"
          ],
          [
           1,
           "#f0f921"
          ]
         ]
        },
        "margin": {
         "t": 60
        },
        "template": {
         "data": {
          "bar": [
           {
            "error_x": {
             "color": "#2a3f5f"
            },
            "error_y": {
             "color": "#2a3f5f"
            },
            "marker": {
             "line": {
              "color": "#E5ECF6",
              "width": 0.5
             },
             "pattern": {
              "fillmode": "overlay",
              "size": 10,
              "solidity": 0.2
             }
            },
            "type": "bar"
           }
          ],
          "barpolar": [
           {
            "marker": {
             "line": {
              "color": "#E5ECF6",
              "width": 0.5
             },
             "pattern": {
              "fillmode": "overlay",
              "size": 10,
              "solidity": 0.2
             }
            },
            "type": "barpolar"
           }
          ],
          "carpet": [
           {
            "aaxis": {
             "endlinecolor": "#2a3f5f",
             "gridcolor": "white",
             "linecolor": "white",
             "minorgridcolor": "white",
             "startlinecolor": "#2a3f5f"
            },
            "baxis": {
             "endlinecolor": "#2a3f5f",
             "gridcolor": "white",
             "linecolor": "white",
             "minorgridcolor": "white",
             "startlinecolor": "#2a3f5f"
            },
            "type": "carpet"
           }
          ],
          "choropleth": [
           {
            "colorbar": {
             "outlinewidth": 0,
             "ticks": ""
            },
            "type": "choropleth"
           }
          ],
          "contour": [
           {
            "colorbar": {
             "outlinewidth": 0,
             "ticks": ""
            },
            "colorscale": [
             [
              0,
              "#0d0887"
             ],
             [
              0.1111111111111111,
              "#46039f"
             ],
             [
              0.2222222222222222,
              "#7201a8"
             ],
             [
              0.3333333333333333,
              "#9c179e"
             ],
             [
              0.4444444444444444,
              "#bd3786"
             ],
             [
              0.5555555555555556,
              "#d8576b"
             ],
             [
              0.6666666666666666,
              "#ed7953"
             ],
             [
              0.7777777777777778,
              "#fb9f3a"
             ],
             [
              0.8888888888888888,
              "#fdca26"
             ],
             [
              1,
              "#f0f921"
             ]
            ],
            "type": "contour"
           }
          ],
          "contourcarpet": [
           {
            "colorbar": {
             "outlinewidth": 0,
             "ticks": ""
            },
            "type": "contourcarpet"
           }
          ],
          "heatmap": [
           {
            "colorbar": {
             "outlinewidth": 0,
             "ticks": ""
            },
            "colorscale": [
             [
              0,
              "#0d0887"
             ],
             [
              0.1111111111111111,
              "#46039f"
             ],
             [
              0.2222222222222222,
              "#7201a8"
             ],
             [
              0.3333333333333333,
              "#9c179e"
             ],
             [
              0.4444444444444444,
              "#bd3786"
             ],
             [
              0.5555555555555556,
              "#d8576b"
             ],
             [
              0.6666666666666666,
              "#ed7953"
             ],
             [
              0.7777777777777778,
              "#fb9f3a"
             ],
             [
              0.8888888888888888,
              "#fdca26"
             ],
             [
              1,
              "#f0f921"
             ]
            ],
            "type": "heatmap"
           }
          ],
          "heatmapgl": [
           {
            "colorbar": {
             "outlinewidth": 0,
             "ticks": ""
            },
            "colorscale": [
             [
              0,
              "#0d0887"
             ],
             [
              0.1111111111111111,
              "#46039f"
             ],
             [
              0.2222222222222222,
              "#7201a8"
             ],
             [
              0.3333333333333333,
              "#9c179e"
             ],
             [
              0.4444444444444444,
              "#bd3786"
             ],
             [
              0.5555555555555556,
              "#d8576b"
             ],
             [
              0.6666666666666666,
              "#ed7953"
             ],
             [
              0.7777777777777778,
              "#fb9f3a"
             ],
             [
              0.8888888888888888,
              "#fdca26"
             ],
             [
              1,
              "#f0f921"
             ]
            ],
            "type": "heatmapgl"
           }
          ],
          "histogram": [
           {
            "marker": {
             "pattern": {
              "fillmode": "overlay",
              "size": 10,
              "solidity": 0.2
             }
            },
            "type": "histogram"
           }
          ],
          "histogram2d": [
           {
            "colorbar": {
             "outlinewidth": 0,
             "ticks": ""
            },
            "colorscale": [
             [
              0,
              "#0d0887"
             ],
             [
              0.1111111111111111,
              "#46039f"
             ],
             [
              0.2222222222222222,
              "#7201a8"
             ],
             [
              0.3333333333333333,
              "#9c179e"
             ],
             [
              0.4444444444444444,
              "#bd3786"
             ],
             [
              0.5555555555555556,
              "#d8576b"
             ],
             [
              0.6666666666666666,
              "#ed7953"
             ],
             [
              0.7777777777777778,
              "#fb9f3a"
             ],
             [
              0.8888888888888888,
              "#fdca26"
             ],
             [
              1,
              "#f0f921"
             ]
            ],
            "type": "histogram2d"
           }
          ],
          "histogram2dcontour": [
           {
            "colorbar": {
             "outlinewidth": 0,
             "ticks": ""
            },
            "colorscale": [
             [
              0,
              "#0d0887"
             ],
             [
              0.1111111111111111,
              "#46039f"
             ],
             [
              0.2222222222222222,
              "#7201a8"
             ],
             [
              0.3333333333333333,
              "#9c179e"
             ],
             [
              0.4444444444444444,
              "#bd3786"
             ],
             [
              0.5555555555555556,
              "#d8576b"
             ],
             [
              0.6666666666666666,
              "#ed7953"
             ],
             [
              0.7777777777777778,
              "#fb9f3a"
             ],
             [
              0.8888888888888888,
              "#fdca26"
             ],
             [
              1,
              "#f0f921"
             ]
            ],
            "type": "histogram2dcontour"
           }
          ],
          "mesh3d": [
           {
            "colorbar": {
             "outlinewidth": 0,
             "ticks": ""
            },
            "type": "mesh3d"
           }
          ],
          "parcoords": [
           {
            "line": {
             "colorbar": {
              "outlinewidth": 0,
              "ticks": ""
             }
            },
            "type": "parcoords"
           }
          ],
          "pie": [
           {
            "automargin": true,
            "type": "pie"
           }
          ],
          "scatter": [
           {
            "marker": {
             "colorbar": {
              "outlinewidth": 0,
              "ticks": ""
             }
            },
            "type": "scatter"
           }
          ],
          "scatter3d": [
           {
            "line": {
             "colorbar": {
              "outlinewidth": 0,
              "ticks": ""
             }
            },
            "marker": {
             "colorbar": {
              "outlinewidth": 0,
              "ticks": ""
             }
            },
            "type": "scatter3d"
           }
          ],
          "scattercarpet": [
           {
            "marker": {
             "colorbar": {
              "outlinewidth": 0,
              "ticks": ""
             }
            },
            "type": "scattercarpet"
           }
          ],
          "scattergeo": [
           {
            "marker": {
             "colorbar": {
              "outlinewidth": 0,
              "ticks": ""
             }
            },
            "type": "scattergeo"
           }
          ],
          "scattergl": [
           {
            "marker": {
             "colorbar": {
              "outlinewidth": 0,
              "ticks": ""
             }
            },
            "type": "scattergl"
           }
          ],
          "scattermapbox": [
           {
            "marker": {
             "colorbar": {
              "outlinewidth": 0,
              "ticks": ""
             }
            },
            "type": "scattermapbox"
           }
          ],
          "scatterpolar": [
           {
            "marker": {
             "colorbar": {
              "outlinewidth": 0,
              "ticks": ""
             }
            },
            "type": "scatterpolar"
           }
          ],
          "scatterpolargl": [
           {
            "marker": {
             "colorbar": {
              "outlinewidth": 0,
              "ticks": ""
             }
            },
            "type": "scatterpolargl"
           }
          ],
          "scatterternary": [
           {
            "marker": {
             "colorbar": {
              "outlinewidth": 0,
              "ticks": ""
             }
            },
            "type": "scatterternary"
           }
          ],
          "surface": [
           {
            "colorbar": {
             "outlinewidth": 0,
             "ticks": ""
            },
            "colorscale": [
             [
              0,
              "#0d0887"
             ],
             [
              0.1111111111111111,
              "#46039f"
             ],
             [
              0.2222222222222222,
              "#7201a8"
             ],
             [
              0.3333333333333333,
              "#9c179e"
             ],
             [
              0.4444444444444444,
              "#bd3786"
             ],
             [
              0.5555555555555556,
              "#d8576b"
             ],
             [
              0.6666666666666666,
              "#ed7953"
             ],
             [
              0.7777777777777778,
              "#fb9f3a"
             ],
             [
              0.8888888888888888,
              "#fdca26"
             ],
             [
              1,
              "#f0f921"
             ]
            ],
            "type": "surface"
           }
          ],
          "table": [
           {
            "cells": {
             "fill": {
              "color": "#EBF0F8"
             },
             "line": {
              "color": "white"
             }
            },
            "header": {
             "fill": {
              "color": "#C8D4E3"
             },
             "line": {
              "color": "white"
             }
            },
            "type": "table"
           }
          ]
         },
         "layout": {
          "annotationdefaults": {
           "arrowcolor": "#2a3f5f",
           "arrowhead": 0,
           "arrowwidth": 1
          },
          "autotypenumbers": "strict",
          "coloraxis": {
           "colorbar": {
            "outlinewidth": 0,
            "ticks": ""
           }
          },
          "colorscale": {
           "diverging": [
            [
             0,
             "#8e0152"
            ],
            [
             0.1,
             "#c51b7d"
            ],
            [
             0.2,
             "#de77ae"
            ],
            [
             0.3,
             "#f1b6da"
            ],
            [
             0.4,
             "#fde0ef"
            ],
            [
             0.5,
             "#f7f7f7"
            ],
            [
             0.6,
             "#e6f5d0"
            ],
            [
             0.7,
             "#b8e186"
            ],
            [
             0.8,
             "#7fbc41"
            ],
            [
             0.9,
             "#4d9221"
            ],
            [
             1,
             "#276419"
            ]
           ],
           "sequential": [
            [
             0,
             "#0d0887"
            ],
            [
             0.1111111111111111,
             "#46039f"
            ],
            [
             0.2222222222222222,
             "#7201a8"
            ],
            [
             0.3333333333333333,
             "#9c179e"
            ],
            [
             0.4444444444444444,
             "#bd3786"
            ],
            [
             0.5555555555555556,
             "#d8576b"
            ],
            [
             0.6666666666666666,
             "#ed7953"
            ],
            [
             0.7777777777777778,
             "#fb9f3a"
            ],
            [
             0.8888888888888888,
             "#fdca26"
            ],
            [
             1,
             "#f0f921"
            ]
           ],
           "sequentialminus": [
            [
             0,
             "#0d0887"
            ],
            [
             0.1111111111111111,
             "#46039f"
            ],
            [
             0.2222222222222222,
             "#7201a8"
            ],
            [
             0.3333333333333333,
             "#9c179e"
            ],
            [
             0.4444444444444444,
             "#bd3786"
            ],
            [
             0.5555555555555556,
             "#d8576b"
            ],
            [
             0.6666666666666666,
             "#ed7953"
            ],
            [
             0.7777777777777778,
             "#fb9f3a"
            ],
            [
             0.8888888888888888,
             "#fdca26"
            ],
            [
             1,
             "#f0f921"
            ]
           ]
          },
          "colorway": [
           "#636efa",
           "#EF553B",
           "#00cc96",
           "#ab63fa",
           "#FFA15A",
           "#19d3f3",
           "#FF6692",
           "#B6E880",
           "#FF97FF",
           "#FECB52"
          ],
          "font": {
           "color": "#2a3f5f"
          },
          "geo": {
           "bgcolor": "white",
           "lakecolor": "white",
           "landcolor": "#E5ECF6",
           "showlakes": true,
           "showland": true,
           "subunitcolor": "white"
          },
          "hoverlabel": {
           "align": "left"
          },
          "hovermode": "closest",
          "mapbox": {
           "style": "light"
          },
          "paper_bgcolor": "white",
          "plot_bgcolor": "#E5ECF6",
          "polar": {
           "angularaxis": {
            "gridcolor": "white",
            "linecolor": "white",
            "ticks": ""
           },
           "bgcolor": "#E5ECF6",
           "radialaxis": {
            "gridcolor": "white",
            "linecolor": "white",
            "ticks": ""
           }
          },
          "scene": {
           "xaxis": {
            "backgroundcolor": "#E5ECF6",
            "gridcolor": "white",
            "gridwidth": 2,
            "linecolor": "white",
            "showbackground": true,
            "ticks": "",
            "zerolinecolor": "white"
           },
           "yaxis": {
            "backgroundcolor": "#E5ECF6",
            "gridcolor": "white",
            "gridwidth": 2,
            "linecolor": "white",
            "showbackground": true,
            "ticks": "",
            "zerolinecolor": "white"
           },
           "zaxis": {
            "backgroundcolor": "#E5ECF6",
            "gridcolor": "white",
            "gridwidth": 2,
            "linecolor": "white",
            "showbackground": true,
            "ticks": "",
            "zerolinecolor": "white"
           }
          },
          "shapedefaults": {
           "line": {
            "color": "#2a3f5f"
           }
          },
          "ternary": {
           "aaxis": {
            "gridcolor": "white",
            "linecolor": "white",
            "ticks": ""
           },
           "baxis": {
            "gridcolor": "white",
            "linecolor": "white",
            "ticks": ""
           },
           "bgcolor": "#E5ECF6",
           "caxis": {
            "gridcolor": "white",
            "linecolor": "white",
            "ticks": ""
           }
          },
          "title": {
           "x": 0.05
          },
          "xaxis": {
           "automargin": true,
           "gridcolor": "white",
           "linecolor": "white",
           "ticks": "",
           "title": {
            "standoff": 15
           },
           "zerolinecolor": "white",
           "zerolinewidth": 2
          },
          "yaxis": {
           "automargin": true,
           "gridcolor": "white",
           "linecolor": "white",
           "ticks": "",
           "title": {
            "standoff": 15
           },
           "zerolinecolor": "white",
           "zerolinewidth": 2
          }
         }
        },
        "xaxis": {
         "anchor": "y",
         "autorange": true,
         "constrain": "domain",
         "domain": [
          0.4035087719298246,
          0.5964912280701754
         ],
         "range": [
          -0.5,
          35.5
         ],
         "scaleanchor": "y"
        },
        "yaxis": {
         "anchor": "x",
         "autorange": true,
         "constrain": "domain",
         "domain": [
          0,
          1
         ],
         "range": [
          35.5,
          -0.5
         ]
        }
       }
      },
      "image/png": "[encoded data removed]",
      "text/html": [
       "<div>                            <div id=\"3117a5e0-620b-421a-aced-cb8145427903\" class=\"plotly-graph-div\" style=\"height:525px; width:100%;\"></div>            <script type=\"text/javascript\">                require([\"plotly\"], function(Plotly) {                    window.PLOTLYENV=window.PLOTLYENV || {};                                    if (document.getElementById(\"3117a5e0-620b-421a-aced-cb8145427903\")) {                    Plotly.newPlot(                        \"3117a5e0-620b-421a-aced-cb8145427903\",                        [{\"coloraxis\":\"coloraxis\",\"name\":\"0\",\"texttemplate\":\"%{z}\",\"z\":[[-8.045899391174316,0.0,0.0,0.0,0.0,0.0,0.0,0.0,0.0,0.0,0.0,0.0,0.0,0.0,0.0,0.0,0.0,0.0,0.0,0.0,0.0,0.0,0.0,0.0,0.0,0.0,0.0,0.0,0.0,0.0,0.0,0.0,0.0,0.0,0.0,0.0],[-1.6262074708938599,-1.4363569021224976,0.0,0.0,0.0,0.0,0.0,0.0,0.0,0.0,0.0,0.0,0.0,0.0,0.0,0.0,0.0,0.0,0.0,0.0,0.0,0.0,0.0,0.0,0.0,0.0,0.0,0.0,0.0,0.0,0.0,0.0,0.0,0.0,0.0,0.0],[-0.09381639957427979,-0.8207414150238037,-0.6761000752449036,0.0,0.0,0.0,0.0,0.0,0.0,0.0,0.0,0.0,0.0,0.0,0.0,0.0,0.0,0.0,0.0,0.0,0.0,0.0,0.0,0.0,0.0,0.0,0.0,0.0,0.0,0.0,0.0,0.0,0.0,0.0,0.0,0.0],[-0.23932963609695435,-0.9563694000244141,-0.9582251310348511,-0.851539671421051,0.0,0.0,0.0,0.0,0.0,0.0,0.0,0.0,0.0,0.0,0.0,0.0,0.0,0.0,0.0,0.0,0.0,0.0,0.0,0.0,0.0,0.0,0.0,0.0,0.0,0.0,0.0,0.0,0.0,0.0,0.0,0.0],[-0.3431629240512848,-1.0678385496139526,-1.0098285675048828,-0.928229808807373,-0.8350115418434143,0.0,0.0,0.0,0.0,0.0,0.0,0.0,0.0,0.0,0.0,0.0,0.0,0.0,0.0,0.0,0.0,0.0,0.0,0.0,0.0,0.0,0.0,0.0,0.0,0.0,0.0,0.0,0.0,0.0,0.0,0.0],[-0.2119811624288559,-1.0672646760940552,-1.1012531518936157,-0.9752100110054016,-0.837814450263977,-0.7694377899169922,0.0,0.0,0.0,0.0,0.0,0.0,0.0,0.0,0.0,0.0,0.0,0.0,0.0,0.0,0.0,0.0,0.0,0.0,0.0,0.0,0.0,0.0,0.0,0.0,0.0,0.0,0.0,0.0,0.0,0.0],[-0.14183884859085083,-1.0934185981750488,-1.142436146736145,-1.0505613088607788,-0.8862587809562683,-0.7806879281997681,-0.7499570846557617,0.0,0.0,0.0,0.0,0.0,0.0,0.0,0.0,0.0,0.0,0.0,0.0,0.0,0.0,0.0,0.0,0.0,0.0,0.0,0.0,0.0,0.0,0.0,0.0,0.0,0.0,0.0,0.0,0.0],[-0.20903891324996948,-1.2501904964447021,-1.2924708127975464,-1.2020580768585205,-1.0334848165512085,-0.8712996244430542,-0.7998985052108765,-0.6934657096862793,0.0,0.0,0.0,0.0,0.0,0.0,0.0,0.0,0.0,0.0,0.0,0.0,0.0,0.0,0.0,0.0,0.0,0.0,0.0,0.0,0.0,0.0,0.0,0.0,0.0,0.0,0.0,0.0],[-0.14228840172290802,-1.4072024822235107,-1.4979878664016724,-1.4188700914382935,-1.234665036201477,-1.0376038551330566,-0.9245442152023315,-0.7820731401443481,-0.739188551902771,0.0,0.0,0.0,0.0,0.0,0.0,0.0,0.0,0.0,0.0,0.0,0.0,0.0,0.0,0.0,0.0,0.0,0.0,0.0,0.0,0.0,0.0,0.0,0.0,0.0,0.0,0.0],[-0.12236751616001129,-1.4197059869766235,-1.5455567836761475,-1.4941405057907104,-1.3299765586853027,-1.116843581199646,-0.9744912981987,-0.7954806685447693,-0.7302359938621521,-0.6789941191673279,0.0,0.0,0.0,0.0,0.0,0.0,0.0,0.0,0.0,0.0,0.0,0.0,0.0,0.0,0.0,0.0,0.0,0.0,0.0,0.0,0.0,0.0,0.0,0.0,0.0,0.0],[-0.12092164903879166,-1.5074995756149292,-1.641821026802063,-1.602743148803711,-1.4494266510009766,-1.2389321327209473,-1.092885971069336,-0.9080648422241211,-0.7993565797805786,-0.7153335213661194,-0.6537402868270874,0.0,0.0,0.0,0.0,0.0,0.0,0.0,0.0,0.0,0.0,0.0,0.0,0.0,0.0,0.0,0.0,0.0,0.0,0.0,0.0,0.0,0.0,0.0,0.0,0.0],[-0.085335873067379,-1.655761957168579,-1.823468565940857,-1.7896206378936768,-1.6596018075942993,-1.4587135314941406,-1.3234971761703491,-1.133086919784546,-1.0012668371200562,-0.8646122813224792,-0.7586251497268677,-0.6855199337005615,0.0,0.0,0.0,0.0,0.0,0.0,0.0,0.0,0.0,0.0,0.0,0.0,0.0,0.0,0.0,0.0,0.0,0.0,0.0,0.0,0.0,0.0,0.0,0.0],[-0.11231555044651031,-1.7083714008331299,-1.828062653541565,-1.8315951824188232,-1.7049813270568848,-1.5288459062576294,-1.4024081230163574,-1.2131975889205933,-1.0737817287445068,-0.9036855101585388,-0.7581572532653809,-0.6467480659484863,-0.5712277293205261,0.0,0.0,0.0,0.0,0.0,0.0,0.0,0.0,0.0,0.0,0.0,0.0,0.0,0.0,0.0,0.0,0.0,0.0,0.0,0.0,0.0,0.0,0.0],[-0.016125516965985298,-1.8616400957107544,-1.9981244802474976,-1.9733089208602905,-1.8732717037200928,-1.6969331502914429,-1.5782119035720825,-1.4050601720809937,-1.2573930025100708,-1.0727810859680176,-0.9059961438179016,-0.7470625042915344,-0.6394456028938293,-0.6207560896873474,0.0,0.0,0.0,0.0,0.0,0.0,0.0,0.0,0.0,0.0,0.0,0.0,0.0,0.0,0.0,0.0,0.0,0.0,0.0,0.0,0.0,0.0],[-0.09906866401433945,-2.009690046310425,-2.112694025039673,-2.08298659324646,-1.9828455448150635,-1.8198680877685547,-1.724202275276184,-1.5691492557525635,-1.4213653802871704,-1.2496672868728638,-1.080029845237732,-0.9008676409721375,-0.7558407783508301,-0.6782699227333069,-0.6406210660934448,0.0,0.0,0.0,0.0,0.0,0.0,0.0,0.0,0.0,0.0,0.0,0.0,0.0,0.0,0.0,0.0,0.0,0.0,0.0,0.0,0.0],[0.0010156701318919659,-1.9929710626602173,-2.1118969917297363,-2.0710301399230957,-1.9796727895736694,-1.8369543552398682,-1.7597399950027466,-1.6291967630386353,-1.5094388723373413,-1.3593565225601196,-1.2103585004806519,-1.0276786088943481,-0.8438456654548645,-0.7062341570854187,-0.6060832142829895,-0.5384010076522827,0.0,0.0,0.0,0.0,0.0,0.0,0.0,0.0,0.0,0.0,0.0,0.0,0.0,0.0,0.0,0.0,0.0,0.0,0.0,0.0],[-0.06370232254266739,-2.0997276306152344,-2.1909706592559814,-2.1654927730560303,-2.079472064971924,-1.930738091468811,-1.8562638759613037,-1.730865716934204,-1.647596001625061,-1.516292929649353,-1.4041838645935059,-1.2212707996368408,-1.0124588012695312,-0.8353941440582275,-0.680526077747345,-0.5747848153114319,-0.5276183485984802,0.0,0.0,0.0,0.0,0.0,0.0,0.0,0.0,0.0,0.0,0.0,0.0,0.0,0.0,0.0,0.0,0.0,0.0,0.0],[-0.0252353735268116,-2.2277400493621826,-2.288065195083618,-2.2489395141601562,-2.1582164764404297,-2.0282933712005615,-1.9640960693359375,-1.8519377708435059,-1.7640745639801025,-1.6560238599777222,-1.548921823501587,-1.3567663431167603,-1.1380527019500732,-0.9349339604377747,-0.7447398900985718,-0.5962284803390503,-0.5174108147621155,-0.4475369155406952,0.0,0.0,0.0,0.0,0.0,0.0,0.0,0.0,0.0,0.0,0.0,0.0,0.0,0.0,0.0,0.0,0.0,0.0],[0.0318659208714962,-2.3334429264068604,-2.349745273590088,-2.3162124156951904,-2.234713554382324,-2.097743511199951,-2.0366811752319336,-1.9422897100448608,-1.8774079084396362,-1.783515214920044,-1.688264012336731,-1.4997352361679077,-1.2712382078170776,-1.0686808824539185,-0.851222574710846,-0.6827774047851562,-0.5637060403823853,-0.4679865539073944,-0.45624369382858276,0.0,0.0,0.0,0.0,0.0,0.0,0.0,0.0,0.0,0.0,0.0,0.0,0.0,0.0,0.0,0.0,0.0],[0.05977880582213402,-2.4446096420288086,-2.464132308959961,-2.4159982204437256,-2.3318240642547607,-2.2105636596679688,-2.1640355587005615,-2.085249900817871,-2.0173888206481934,-1.925482988357544,-1.828727126121521,-1.6395856142044067,-1.4053233861923218,-1.2034101486206055,-0.9797177314758301,-0.7943313717842102,-0.6642777919769287,-0.5449336767196655,-0.4806336462497711,-0.4556930959224701,0.0,0.0,0.0,0.0,0.0,0.0,0.0,0.0,0.0,0.0,0.0,0.0,0.0,0.0,0.0,0.0],[0.08440728485584259,-2.5308096408843994,-2.5375823974609375,-2.4718191623687744,-2.383150339126587,-2.262434720993042,-2.2352399826049805,-2.180779218673706,-2.1302592754364014,-2.0336689949035645,-1.9516410827636719,-1.757789134979248,-1.5388586521148682,-1.3452608585357666,-1.140656590461731,-0.9547861814498901,-0.7988805174827576,-0.6505945324897766,-0.5409978628158569,-0.46237385272979736,-0.45379504561424255,0.0,0.0,0.0,0.0,0.0,0.0,0.0,0.0,0.0,0.0,0.0,0.0,0.0,0.0,0.0],[0.02578975446522236,-2.680062770843506,-2.6386382579803467,-2.565579652786255,-2.4681999683380127,-2.362145185470581,-2.3512461185455322,-2.324449300765991,-2.2723491191864014,-2.1749343872070312,-2.080434799194336,-1.8974804878234863,-1.6878952980041504,-1.5226291418075562,-1.34281587600708,-1.1691174507141113,-1.0089744329452515,-0.8356345295906067,-0.6641234755516052,-0.5498777031898499,-0.46174004673957825,-0.41658908128738403,0.0,0.0,0.0,0.0,0.0,0.0,0.0,0.0,0.0,0.0,0.0,0.0,0.0,0.0],[0.07822857052087784,-2.72888445854187,-2.649775981903076,-2.5617847442626953,-2.464951992034912,-2.36143159866333,-2.360114097595215,-2.356478214263916,-2.3135409355163574,-2.2111923694610596,-2.1183509826660156,-1.9594898223876953,-1.7759380340576172,-1.6492549180984497,-1.498364806175232,-1.3474903106689453,-1.1808955669403076,-0.9882910251617432,-0.7737624645233154,-0.6141723990440369,-0.45704033970832825,-0.3669722080230713,-0.3272262513637543,0.0,0.0,0.0,0.0,0.0,0.0,0.0,0.0,0.0,0.0,0.0,0.0,0.0],[0.09152273833751678,-2.9128577709198,-2.8218259811401367,-2.7444684505462646,-2.6385746002197266,-2.517364978790283,-2.499162197113037,-2.4936110973358154,-2.4541077613830566,-2.3504550457000732,-2.2658822536468506,-2.1267426013946533,-1.9630869626998901,-1.8777906894683838,-1.755263328552246,-1.6235458850860596,-1.446643352508545,-1.2414735555648804,-1.011195421218872,-0.817055344581604,-0.6199533343315125,-0.5005024075508118,-0.43315356969833374,-0.33057430386543274,0.0,0.0,0.0,0.0,0.0,0.0,0.0,0.0,0.0,0.0,0.0,0.0],[0.1967700868844986,-2.9888856410980225,-2.8947699069976807,-2.8200275897979736,-2.7048771381378174,-2.5689308643341064,-2.5352330207824707,-2.5097615718841553,-2.467947483062744,-2.3679254055023193,-2.300412178039551,-2.1786322593688965,-2.035614013671875,-1.9763957262039185,-1.8550547361373901,-1.730672001838684,-1.5530614852905273,-1.3442904949188232,-1.1012524366378784,-0.914368748664856,-0.7030047178268433,-0.5669657588005066,-0.4733213782310486,-0.3464432954788208,-0.34127864241600037,0.0,0.0,0.0,0.0,0.0,0.0,0.0,0.0,0.0,0.0,0.0],[0.13045553863048553,-3.0763392448425293,-2.9283623695373535,-2.891052007675171,-2.785083293914795,-2.637688159942627,-2.5867714881896973,-2.5626347064971924,-2.531392812728882,-2.4340789318084717,-2.3830807209014893,-2.2929179668426514,-2.1631953716278076,-2.1043944358825684,-1.9929888248443604,-1.8829224109649658,-1.7039788961410522,-1.4892761707305908,-1.2668434381484985,-1.0899772644042969,-0.8836929202079773,-0.7332415580749512,-0.6293137073516846,-0.46371757984161377,-0.40439102053642273,-0.3628268539905548,0.0,0.0,0.0,0.0,0.0,0.0,0.0,0.0,0.0,0.0],[0.19918087124824524,-3.1601059436798096,-2.9600629806518555,-2.9458513259887695,-2.855081558227539,-2.7248167991638184,-2.678583860397339,-2.6396963596343994,-2.6048197746276855,-2.511431932449341,-2.46529221534729,-2.3895034790039062,-2.2634057998657227,-2.2203052043914795,-2.103726863861084,-1.9932849407196045,-1.8105260133743286,-1.6042358875274658,-1.396183967590332,-1.2330759763717651,-1.035326600074768,-0.8822256326675415,-0.7610267996788025,-0.5611196160316467,-0.4694339632987976,-0.3711859881877899,-0.28845512866973877,0.0,0.0,0.0,0.0,0.0,0.0,0.0,0.0,0.0],[0.2554062604904175,-3.2604479789733887,-3.018714427947998,-3.0266218185424805,-2.94289493560791,-2.8238656520843506,-2.784621000289917,-2.7375917434692383,-2.705117702484131,-2.6234030723571777,-2.592625141143799,-2.513986110687256,-2.385197877883911,-2.326780319213867,-2.1995151042938232,-2.0767619609832764,-1.8962459564208984,-1.698375940322876,-1.5101276636123657,-1.3744683265686035,-1.209403157234192,-1.0606074333190918,-0.925877034664154,-0.710174560546875,-0.5914621353149414,-0.4419272840023041,-0.2971016764640808,-0.28851082921028137,0.0,0.0,0.0,0.0,0.0,0.0,0.0,0.0],[0.3158539831638336,-3.2434051036834717,-2.9938805103302,-2.9975898265838623,-2.924715757369995,-2.821851968765259,-2.785527467727661,-2.754323959350586,-2.745842695236206,-2.682840347290039,-2.66558837890625,-2.590132236480713,-2.4562339782714844,-2.3718421459198,-2.233494281768799,-2.1011838912963867,-1.9237760305404663,-1.7300004959106445,-1.577309250831604,-1.4698230028152466,-1.327430248260498,-1.1843385696411133,-1.0535434484481812,-0.8363129496574402,-0.6924545764923096,-0.5287947654724121,-0.33519628643989563,-0.269258588552475,-0.14598345756530762,0.0,0.0,0.0,0.0,0.0,0.0,0.0],[0.3154554069042206,-3.267120122909546,-2.973358392715454,-2.981403350830078,-2.9021341800689697,-2.7916629314422607,-2.772803783416748,-2.7595603466033936,-2.7774007320404053,-2.7507801055908203,-2.7564358711242676,-2.6983795166015625,-2.5604140758514404,-2.461852550506592,-2.300861358642578,-2.1495749950408936,-1.9711881875991821,-1.7799409627914429,-1.658254623413086,-1.5654206275939941,-1.4470224380493164,-1.305698275566101,-1.1635713577270508,-0.9418262839317322,-0.7793342471122742,-0.6024481058120728,-0.3810764253139496,-0.2819063067436218,-0.12105025351047516,-0.0336652509868145,0.0,0.0,0.0,0.0,0.0,0.0],[0.33142930269241333,-3.287335157394409,-3.022003650665283,-3.0046403408050537,-2.9061131477355957,-2.7957944869995117,-2.777174234390259,-2.7671475410461426,-2.7985072135925293,-2.7891266345977783,-2.823930025100708,-2.7829737663269043,-2.663482666015625,-2.5716116428375244,-2.4143331050872803,-2.252276659011841,-2.079606533050537,-1.8947017192840576,-1.7845990657806396,-1.6907508373260498,-1.5770540237426758,-1.4342870712280273,-1.2824561595916748,-1.0515044927597046,-0.8749697804450989,-0.6892761588096619,-0.4636709690093994,-0.3459952771663666,-0.1653537154197693,-0.047491539269685745,-0.023648228496313095,0.0,0.0,0.0,0.0,0.0],[0.31507304310798645,-3.2173054218292236,-2.9520931243896484,-2.939594030380249,-2.8310611248016357,-2.727167844772339,-2.707451105117798,-2.7010788917541504,-2.7255280017852783,-2.7286131381988525,-2.7653605937957764,-2.745493173599243,-2.6544103622436523,-2.591557741165161,-2.457120656967163,-2.313774585723877,-2.1623191833496094,-1.9895217418670654,-1.8802270889282227,-1.7884550094604492,-1.6637911796569824,-1.5112375020980835,-1.3524937629699707,-1.1293612718582153,-0.9531295895576477,-0.7601877450942993,-0.5330417156219482,-0.41864296793937683,-0.22337855398654938,-0.0739842876791954,-0.002304177498444915,0.028848033398389816,0.0,0.0,0.0,0.0],[0.3920077085494995,-3.2542648315429688,-3.034412384033203,-3.0187923908233643,-2.903477907180786,-2.7918453216552734,-2.7542388439178467,-2.7405622005462646,-2.7465155124664307,-2.731332302093506,-2.75346302986145,-2.74238920211792,-2.678173065185547,-2.659848213195801,-2.565061569213867,-2.45961856842041,-2.3407034873962402,-2.1748504638671875,-2.057068109512329,-1.9637755155563354,-1.8001788854599,-1.642164945602417,-1.4841006994247437,-1.2830175161361694,-1.11380934715271,-0.9314011335372925,-0.7235672473907471,-0.6174073219299316,-0.4289522171020508,-0.24518705904483795,-0.13174650073051453,-0.03498086705803871,-0.02305055782198906,0.0,0.0,0.0],[0.3072890341281891,-3.388678789138794,-3.179198980331421,-3.171851873397827,-3.0547187328338623,-2.9395058155059814,-2.8763771057128906,-2.8314151763916016,-2.8000071048736572,-2.741960287094116,-2.7339389324188232,-2.7098870277404785,-2.676456928253174,-2.7021517753601074,-2.6664609909057617,-2.6187124252319336,-2.5342166423797607,-2.394028425216675,-2.2775766849517822,-2.1775145530700684,-2.005703926086426,-1.8440377712249756,-1.704521894454956,-1.520972728729248,-1.3642301559448242,-1.171260118484497,-0.9782710075378418,-0.8732784986495972,-0.6780880689620972,-0.46681252121925354,-0.31072527170181274,-0.15423718094825745,-0.0811770036816597,-0.0036840143147855997,0.0,0.0],[0.3859553337097168,-3.462315082550049,-3.2140274047851562,-3.218759298324585,-3.1129369735717773,-3.0018529891967773,-2.941645383834839,-2.8860013484954834,-2.8236002922058105,-2.7370829582214355,-2.680762529373169,-2.6447534561157227,-2.612617015838623,-2.6656606197357178,-2.6702492237091064,-2.6689653396606445,-2.6128172874450684,-2.494211196899414,-2.3688719272613525,-2.2624502182006836,-2.067237377166748,-1.9256709814071655,-1.8049050569534302,-1.6455776691436768,-1.5194082260131836,-1.3511478900909424,-1.173816442489624,-1.068723440170288,-0.8664965033531189,-0.6447347402572632,-0.4743918180465698,-0.2734391689300537,-0.17517539858818054,-0.0421149767935276,0.015447797253727913,0.0],[0.4172782897949219,-3.544935703277588,-3.3001744747161865,-3.3186633586883545,-3.235344648361206,-3.1345221996307373,-3.0810139179229736,-3.037916660308838,-2.973788261413574,-2.8622238636016846,-2.786661148071289,-2.732527732849121,-2.692758560180664,-2.7544400691986084,-2.7754459381103516,-2.7860801219940186,-2.741442918777466,-2.6241719722747803,-2.5055158138275146,-2.394115924835205,-2.1917531490325928,-2.049032211303711,-1.949509620666504,-1.818820834159851,-1.7102618217468262,-1.5625981092453003,-1.3896039724349976,-1.2894777059555054,-1.0829532146453857,-0.8444622159004211,-0.6556859612464905,-0.43997853994369507,-0.3187580108642578,-0.15423952043056488,-0.07022633403539658,0.033012062311172485]],\"type\":\"heatmap\",\"xaxis\":\"x\",\"yaxis\":\"y\",\"hovertemplate\":\"x: %{x}<br>y: %{y}<br>color: %{z}<extra></extra>\"}],                        {\"template\":{\"data\":{\"bar\":[{\"error_x\":{\"color\":\"#2a3f5f\"},\"error_y\":{\"color\":\"#2a3f5f\"},\"marker\":{\"line\":{\"color\":\"#E5ECF6\",\"width\":0.5},\"pattern\":{\"fillmode\":\"overlay\",\"size\":10,\"solidity\":0.2}},\"type\":\"bar\"}],\"barpolar\":[{\"marker\":{\"line\":{\"color\":\"#E5ECF6\",\"width\":0.5},\"pattern\":{\"fillmode\":\"overlay\",\"size\":10,\"solidity\":0.2}},\"type\":\"barpolar\"}],\"carpet\":[{\"aaxis\":{\"endlinecolor\":\"#2a3f5f\",\"gridcolor\":\"white\",\"linecolor\":\"white\",\"minorgridcolor\":\"white\",\"startlinecolor\":\"#2a3f5f\"},\"baxis\":{\"endlinecolor\":\"#2a3f5f\",\"gridcolor\":\"white\",\"linecolor\":\"white\",\"minorgridcolor\":\"white\",\"startlinecolor\":\"#2a3f5f\"},\"type\":\"carpet\"}],\"choropleth\":[{\"colorbar\":{\"outlinewidth\":0,\"ticks\":\"\"},\"type\":\"choropleth\"}],\"contour\":[{\"colorbar\":{\"outlinewidth\":0,\"ticks\":\"\"},\"colorscale\":[[0.0,\"#0d0887\"],[0.1111111111111111,\"#46039f\"],[0.2222222222222222,\"#7201a8\"],[0.3333333333333333,\"#9c179e\"],[0.4444444444444444,\"#bd3786\"],[0.5555555555555556,\"#d8576b\"],[0.6666666666666666,\"#ed7953\"],[0.7777777777777778,\"#fb9f3a\"],[0.8888888888888888,\"#fdca26\"],[1.0,\"#f0f921\"]],\"type\":\"contour\"}],\"contourcarpet\":[{\"colorbar\":{\"outlinewidth\":0,\"ticks\":\"\"},\"type\":\"contourcarpet\"}],\"heatmap\":[{\"colorbar\":{\"outlinewidth\":0,\"ticks\":\"\"},\"colorscale\":[[0.0,\"#0d0887\"],[0.1111111111111111,\"#46039f\"],[0.2222222222222222,\"#7201a8\"],[0.3333333333333333,\"#9c179e\"],[0.4444444444444444,\"#bd3786\"],[0.5555555555555556,\"#d8576b\"],[0.6666666666666666,\"#ed7953\"],[0.7777777777777778,\"#fb9f3a\"],[0.8888888888888888,\"#fdca26\"],[1.0,\"#f0f921\"]],\"type\":\"heatmap\"}],\"heatmapgl\":[{\"colorbar\":{\"outlinewidth\":0,\"ticks\":\"\"},\"colorscale\":[[0.0,\"#0d0887\"],[0.1111111111111111,\"#46039f\"],[0.2222222222222222,\"#7201a8\"],[0.3333333333333333,\"#9c179e\"],[0.4444444444444444,\"#bd3786\"],[0.5555555555555556,\"#d8576b\"],[0.6666666666666666,\"#ed7953\"],[0.7777777777777778,\"#fb9f3a\"],[0.8888888888888888,\"#fdca26\"],[1.0,\"#f0f921\"]],\"type\":\"heatmapgl\"}],\"histogram\":[{\"marker\":{\"pattern\":{\"fillmode\":\"overlay\",\"size\":10,\"solidity\":0.2}},\"type\":\"histogram\"}],\"histogram2d\":[{\"colorbar\":{\"outlinewidth\":0,\"ticks\":\"\"},\"colorscale\":[[0.0,\"#0d0887\"],[0.1111111111111111,\"#46039f\"],[0.2222222222222222,\"#7201a8\"],[0.3333333333333333,\"#9c179e\"],[0.4444444444444444,\"#bd3786\"],[0.5555555555555556,\"#d8576b\"],[0.6666666666666666,\"#ed7953\"],[0.7777777777777778,\"#fb9f3a\"],[0.8888888888888888,\"#fdca26\"],[1.0,\"#f0f921\"]],\"type\":\"histogram2d\"}],\"histogram2dcontour\":[{\"colorbar\":{\"outlinewidth\":0,\"ticks\":\"\"},\"colorscale\":[[0.0,\"#0d0887\"],[0.1111111111111111,\"#46039f\"],[0.2222222222222222,\"#7201a8\"],[0.3333333333333333,\"#9c179e\"],[0.4444444444444444,\"#bd3786\"],[0.5555555555555556,\"#d8576b\"],[0.6666666666666666,\"#ed7953\"],[0.7777777777777778,\"#fb9f3a\"],[0.8888888888888888,\"#fdca26\"],[1.0,\"#f0f921\"]],\"type\":\"histogram2dcontour\"}],\"mesh3d\":[{\"colorbar\":{\"outlinewidth\":0,\"ticks\":\"\"},\"type\":\"mesh3d\"}],\"parcoords\":[{\"line\":{\"colorbar\":{\"outlinewidth\":0,\"ticks\":\"\"}},\"type\":\"parcoords\"}],\"pie\":[{\"automargin\":true,\"type\":\"pie\"}],\"scatter\":[{\"marker\":{\"colorbar\":{\"outlinewidth\":0,\"ticks\":\"\"}},\"type\":\"scatter\"}],\"scatter3d\":[{\"line\":{\"colorbar\":{\"outlinewidth\":0,\"ticks\":\"\"}},\"marker\":{\"colorbar\":{\"outlinewidth\":0,\"ticks\":\"\"}},\"type\":\"scatter3d\"}],\"scattercarpet\":[{\"marker\":{\"colorbar\":{\"outlinewidth\":0,\"ticks\":\"\"}},\"type\":\"scattercarpet\"}],\"scattergeo\":[{\"marker\":{\"colorbar\":{\"outlinewidth\":0,\"ticks\":\"\"}},\"type\":\"scattergeo\"}],\"scattergl\":[{\"marker\":{\"colorbar\":{\"outlinewidth\":0,\"ticks\":\"\"}},\"type\":\"scattergl\"}],\"scattermapbox\":[{\"marker\":{\"colorbar\":{\"outlinewidth\":0,\"ticks\":\"\"}},\"type\":\"scattermapbox\"}],\"scatterpolar\":[{\"marker\":{\"colorbar\":{\"outlinewidth\":0,\"ticks\":\"\"}},\"type\":\"scatterpolar\"}],\"scatterpolargl\":[{\"marker\":{\"colorbar\":{\"outlinewidth\":0,\"ticks\":\"\"}},\"type\":\"scatterpolargl\"}],\"scatterternary\":[{\"marker\":{\"colorbar\":{\"outlinewidth\":0,\"ticks\":\"\"}},\"type\":\"scatterternary\"}],\"surface\":[{\"colorbar\":{\"outlinewidth\":0,\"ticks\":\"\"},\"colorscale\":[[0.0,\"#0d0887\"],[0.1111111111111111,\"#46039f\"],[0.2222222222222222,\"#7201a8\"],[0.3333333333333333,\"#9c179e\"],[0.4444444444444444,\"#bd3786\"],[0.5555555555555556,\"#d8576b\"],[0.6666666666666666,\"#ed7953\"],[0.7777777777777778,\"#fb9f3a\"],[0.8888888888888888,\"#fdca26\"],[1.0,\"#f0f921\"]],\"type\":\"surface\"}],\"table\":[{\"cells\":{\"fill\":{\"color\":\"#EBF0F8\"},\"line\":{\"color\":\"white\"}},\"header\":{\"fill\":{\"color\":\"#C8D4E3\"},\"line\":{\"color\":\"white\"}},\"type\":\"table\"}]},\"layout\":{\"annotationdefaults\":{\"arrowcolor\":\"#2a3f5f\",\"arrowhead\":0,\"arrowwidth\":1},\"autotypenumbers\":\"strict\",\"coloraxis\":{\"colorbar\":{\"outlinewidth\":0,\"ticks\":\"\"}},\"colorscale\":{\"diverging\":[[0,\"#8e0152\"],[0.1,\"#c51b7d\"],[0.2,\"#de77ae\"],[0.3,\"#f1b6da\"],[0.4,\"#fde0ef\"],[0.5,\"#f7f7f7\"],[0.6,\"#e6f5d0\"],[0.7,\"#b8e186\"],[0.8,\"#7fbc41\"],[0.9,\"#4d9221\"],[1,\"#276419\"]],\"sequential\":[[0.0,\"#0d0887\"],[0.1111111111111111,\"#46039f\"],[0.2222222222222222,\"#7201a8\"],[0.3333333333333333,\"#9c179e\"],[0.4444444444444444,\"#bd3786\"],[0.5555555555555556,\"#d8576b\"],[0.6666666666666666,\"#ed7953\"],[0.7777777777777778,\"#fb9f3a\"],[0.8888888888888888,\"#fdca26\"],[1.0,\"#f0f921\"]],\"sequentialminus\":[[0.0,\"#0d0887\"],[0.1111111111111111,\"#46039f\"],[0.2222222222222222,\"#7201a8\"],[0.3333333333333333,\"#9c179e\"],[0.4444444444444444,\"#bd3786\"],[0.5555555555555556,\"#d8576b\"],[0.6666666666666666,\"#ed7953\"],[0.7777777777777778,\"#fb9f3a\"],[0.8888888888888888,\"#fdca26\"],[1.0,\"#f0f921\"]]},\"colorway\":[\"#636efa\",\"#EF553B\",\"#00cc96\",\"#ab63fa\",\"#FFA15A\",\"#19d3f3\",\"#FF6692\",\"#B6E880\",\"#FF97FF\",\"#FECB52\"],\"font\":{\"color\":\"#2a3f5f\"},\"geo\":{\"bgcolor\":\"white\",\"lakecolor\":\"white\",\"landcolor\":\"#E5ECF6\",\"showlakes\":true,\"showland\":true,\"subunitcolor\":\"white\"},\"hoverlabel\":{\"align\":\"left\"},\"hovermode\":\"closest\",\"mapbox\":{\"style\":\"light\"},\"paper_bgcolor\":\"white\",\"plot_bgcolor\":\"#E5ECF6\",\"polar\":{\"angularaxis\":{\"gridcolor\":\"white\",\"linecolor\":\"white\",\"ticks\":\"\"},\"bgcolor\":\"#E5ECF6\",\"radialaxis\":{\"gridcolor\":\"white\",\"linecolor\":\"white\",\"ticks\":\"\"}},\"scene\":{\"xaxis\":{\"backgroundcolor\":\"#E5ECF6\",\"gridcolor\":\"white\",\"gridwidth\":2,\"linecolor\":\"white\",\"showbackground\":true,\"ticks\":\"\",\"zerolinecolor\":\"white\"},\"yaxis\":{\"backgroundcolor\":\"#E5ECF6\",\"gridcolor\":\"white\",\"gridwidth\":2,\"linecolor\":\"white\",\"showbackground\":true,\"ticks\":\"\",\"zerolinecolor\":\"white\"},\"zaxis\":{\"backgroundcolor\":\"#E5ECF6\",\"gridcolor\":\"white\",\"gridwidth\":2,\"linecolor\":\"white\",\"showbackground\":true,\"ticks\":\"\",\"zerolinecolor\":\"white\"}},\"shapedefaults\":{\"line\":{\"color\":\"#2a3f5f\"}},\"ternary\":{\"aaxis\":{\"gridcolor\":\"white\",\"linecolor\":\"white\",\"ticks\":\"\"},\"baxis\":{\"gridcolor\":\"white\",\"linecolor\":\"white\",\"ticks\":\"\"},\"bgcolor\":\"#E5ECF6\",\"caxis\":{\"gridcolor\":\"white\",\"linecolor\":\"white\",\"ticks\":\"\"}},\"title\":{\"x\":0.05},\"xaxis\":{\"automargin\":true,\"gridcolor\":\"white\",\"linecolor\":\"white\",\"ticks\":\"\",\"title\":{\"standoff\":15},\"zerolinecolor\":\"white\",\"zerolinewidth\":2},\"yaxis\":{\"automargin\":true,\"gridcolor\":\"white\",\"linecolor\":\"white\",\"ticks\":\"\",\"title\":{\"standoff\":15},\"zerolinecolor\":\"white\",\"zerolinewidth\":2}}},\"xaxis\":{\"anchor\":\"y\",\"domain\":[0.0,1.0],\"scaleanchor\":\"y\",\"constrain\":\"domain\"},\"yaxis\":{\"anchor\":\"x\",\"domain\":[0.0,1.0],\"autorange\":\"reversed\",\"constrain\":\"domain\"},\"coloraxis\":{\"colorscale\":[[0.0,\"#0d0887\"],[0.1111111111111111,\"#46039f\"],[0.2222222222222222,\"#7201a8\"],[0.3333333333333333,\"#9c179e\"],[0.4444444444444444,\"#bd3786\"],[0.5555555555555556,\"#d8576b\"],[0.6666666666666666,\"#ed7953\"],[0.7777777777777778,\"#fb9f3a\"],[0.8888888888888888,\"#fdca26\"],[1.0,\"#f0f921\"]]},\"margin\":{\"t\":60}},                        {\"responsive\": true}                    ).then(function(){\n",
       "                            \n",
       "var gd = document.getElementById('3117a5e0-620b-421a-aced-cb8145427903');\n",
       "var x = new MutationObserver(function (mutations, observer) {{\n",
       "        var display = window.getComputedStyle(gd).display;\n",
       "        if (!display || display === 'none') {{\n",
       "            console.log([gd, 'removed!']);\n",
       "            Plotly.purge(gd);\n",
       "            observer.disconnect();\n",
       "        }}\n",
       "}});\n",
       "\n",
       "// Listen for the removal of the full notebook cells\n",
       "var notebookContainer = gd.closest('#notebook-container');\n",
       "if (notebookContainer) {{\n",
       "    x.observe(notebookContainer, {childList: true});\n",
       "}}\n",
       "\n",
       "// Listen for the clearing of the current output cell\n",
       "var outputEl = gd.closest('.output');\n",
       "if (outputEl) {{\n",
       "    x.observe(outputEl, {childList: true});\n",
       "}}\n",
       "\n",
       "                        })                };                });            </script>        </div>"
      ]
     },
     "metadata": {},
     "output_type": "display_data"
    },
    {
     "data": {
      "application/vnd.plotly.v1+json": {
       "config": {
        "plotlyServerURL": "https://plot.ly"
       },
       "data": [
        {
         "coloraxis": "coloraxis",
         "hovertemplate": "x: %{x}<br>y: %{y}<br>color: %{z}<extra></extra>",
         "name": "0",
         "texttemplate": "%{z}",
         "type": "heatmap",
         "xaxis": "x",
         "yaxis": "y",
         "z": [
          [
           -1.1754568815231323,
           0,
           0,
           0,
           0,
           0,
           0,
           0,
           0,
           0,
           0,
           0,
           0,
           0,
           0,
           0,
           0,
           0,
           0,
           0,
           0,
           0,
           0,
           0,
           0,
           0,
           0,
           0,
           0,
           0,
           0,
           0,
           0,
           0,
           0,
           0
          ],
          [
           0.7508743405342102,
           -3.9191668033599854,
           0,
           0,
           0,
           0,
           0,
           0,
           0,
           0,
           0,
           0,
           0,
           0,
           0,
           0,
           0,
           0,
           0,
           0,
           0,
           0,
           0,
           0,
           0,
           0,
           0,
           0,
           0,
           0,
           0,
           0,
           0,
           0,
           0,
           0
          ],
          [
           -0.3515896797180176,
           -3.051724433898926,
           -3.146083354949951,
           0,
           0,
           0,
           0,
           0,
           0,
           0,
           0,
           0,
           0,
           0,
           0,
           0,
           0,
           0,
           0,
           0,
           0,
           0,
           0,
           0,
           0,
           0,
           0,
           0,
           0,
           0,
           0,
           0,
           0,
           0,
           0,
           0
          ],
          [
           -1.1921074390411377,
           -2.8558058738708496,
           -2.7702507972717285,
           -3.1279428005218506,
           0,
           0,
           0,
           0,
           0,
           0,
           0,
           0,
           0,
           0,
           0,
           0,
           0,
           0,
           0,
           0,
           0,
           0,
           0,
           0,
           0,
           0,
           0,
           0,
           0,
           0,
           0,
           0,
           0,
           0,
           0,
           0
          ],
          [
           -1.318251371383667,
           -2.9743049144744873,
           -2.5122013092041016,
           -2.5551774501800537,
           -2.8610408306121826,
           0,
           0,
           0,
           0,
           0,
           0,
           0,
           0,
           0,
           0,
           0,
           0,
           0,
           0,
           0,
           0,
           0,
           0,
           0,
           0,
           0,
           0,
           0,
           0,
           0,
           0,
           0,
           0,
           0,
           0,
           0
          ],
          [
           -1.1688016653060913,
           -3.236346960067749,
           -2.6671385765075684,
           -2.2850520610809326,
           -2.3609628677368164,
           -2.6202375888824463,
           0,
           0,
           0,
           0,
           0,
           0,
           0,
           0,
           0,
           0,
           0,
           0,
           0,
           0,
           0,
           0,
           0,
           0,
           0,
           0,
           0,
           0,
           0,
           0,
           0,
           0,
           0,
           0,
           0,
           0
          ],
          [
           -1.1915637254714966,
           -3.5042107105255127,
           -3.144144058227539,
           -2.585195779800415,
           -2.2337119579315186,
           -2.173356771469116,
           -2.5631003379821777,
           0,
           0,
           0,
           0,
           0,
           0,
           0,
           0,
           0,
           0,
           0,
           0,
           0,
           0,
           0,
           0,
           0,
           0,
           0,
           0,
           0,
           0,
           0,
           0,
           0,
           0,
           0,
           0,
           0
          ],
          [
           -1.0313814878463745,
           -3.5239381790161133,
           -3.392338514328003,
           -3.000819206237793,
           -2.414194107055664,
           -1.903741478919983,
           -1.9875212907791138,
           -2.3524601459503174,
           0,
           0,
           0,
           0,
           0,
           0,
           0,
           0,
           0,
           0,
           0,
           0,
           0,
           0,
           0,
           0,
           0,
           0,
           0,
           0,
           0,
           0,
           0,
           0,
           0,
           0,
           0,
           0
          ],
          [
           -0.9901699423789978,
           -3.537208080291748,
           -3.37200665473938,
           -3.3093037605285645,
           -2.9109349250793457,
           -2.2327730655670166,
           -1.8319647312164307,
           -1.8382463455200195,
           -2.1688451766967773,
           0,
           0,
           0,
           0,
           0,
           0,
           0,
           0,
           0,
           0,
           0,
           0,
           0,
           0,
           0,
           0,
           0,
           0,
           0,
           0,
           0,
           0,
           0,
           0,
           0,
           0,
           0
          ],
          [
           -0.8961061835289001,
           -3.473790168762207,
           -3.202617645263672,
           -3.237130880355835,
           -3.124457597732544,
           -2.63606333732605,
           -2.0607876777648926,
           -1.6395667791366577,
           -1.6363871097564697,
           -1.9435429573059082,
           0,
           0,
           0,
           0,
           0,
           0,
           0,
           0,
           0,
           0,
           0,
           0,
           0,
           0,
           0,
           0,
           0,
           0,
           0,
           0,
           0,
           0,
           0,
           0,
           0,
           0
          ],
          [
           -0.7857741117477417,
           -3.569990873336792,
           -3.137661933898926,
           -3.0066635608673096,
           -2.962789535522461,
           -2.7603976726531982,
           -2.3767757415771484,
           -1.7994613647460938,
           -1.3630504608154297,
           -1.3676763772964478,
           -1.6597260236740112,
           0,
           0,
           0,
           0,
           0,
           0,
           0,
           0,
           0,
           0,
           0,
           0,
           0,
           0,
           0,
           0,
           0,
           0,
           0,
           0,
           0,
           0,
           0,
           0,
           0
          ],
          [
           -0.8298120498657227,
           -3.9251515865325928,
           -3.6309945583343506,
           -3.273287534713745,
           -3.0614750385284424,
           -2.926135778427124,
           -2.8493924140930176,
           -2.4849483966827393,
           -1.883000135421753,
           -1.4508289098739624,
           -1.4351527690887451,
           -1.6953706741333008,
           0,
           0,
           0,
           0,
           0,
           0,
           0,
           0,
           0,
           0,
           0,
           0,
           0,
           0,
           0,
           0,
           0,
           0,
           0,
           0,
           0,
           0,
           0,
           0
          ],
          [
           -0.7738908529281616,
           -3.9371087551116943,
           -3.88303542137146,
           -3.5825984477996826,
           -3.142489194869995,
           -2.8116724491119385,
           -2.801285743713379,
           -2.7066173553466797,
           -2.289621114730835,
           -1.6797209978103638,
           -1.2655366659164429,
           -1.215898871421814,
           -1.51125168800354,
           0,
           0,
           0,
           0,
           0,
           0,
           0,
           0,
           0,
           0,
           0,
           0,
           0,
           0,
           0,
           0,
           0,
           0,
           0,
           0,
           0,
           0,
           0
          ],
          [
           -0.7434220910072327,
           -3.877225160598755,
           -3.984447479248047,
           -3.9630424976348877,
           -3.5514938831329346,
           -3.020054340362549,
           -2.7894346714019775,
           -2.7396509647369385,
           -2.6309337615966797,
           -2.1827924251556396,
           -1.589806318283081,
           -1.0922011137008667,
           -1.060442566871643,
           -1.4209010601043701,
           0,
           0,
           0,
           0,
           0,
           0,
           0,
           0,
           0,
           0,
           0,
           0,
           0,
           0,
           0,
           0,
           0,
           0,
           0,
           0,
           0,
           0
          ],
          [
           -0.7168445587158203,
           -3.656874656677246,
           -3.701566219329834,
           -3.905283212661743,
           -3.771444320678711,
           -3.323294162750244,
           -2.879328489303589,
           -2.6095590591430664,
           -2.5659689903259277,
           -2.4193947315216064,
           -2.005265712738037,
           -1.3573100566864014,
           -0.8990484476089478,
           -0.8871739506721497,
           -1.2554113864898682,
           0,
           0,
           0,
           0,
           0,
           0,
           0,
           0,
           0,
           0,
           0,
           0,
           0,
           0,
           0,
           0,
           0,
           0,
           0,
           0,
           0
          ],
          [
           -0.6303195357322693,
           -3.727498769760132,
           -3.5668697357177734,
           -3.6678824424743652,
           -3.754868984222412,
           -3.6190736293792725,
           -3.2816848754882812,
           -2.8652029037475586,
           -2.627772808074951,
           -2.5216667652130127,
           -2.334772825241089,
           -1.8607934713363647,
           -1.2448804378509521,
           -0.7970439791679382,
           -0.8243908286094666,
           -1.0945236682891846,
           0,
           0,
           0,
           0,
           0,
           0,
           0,
           0,
           0,
           0,
           0,
           0,
           0,
           0,
           0,
           0,
           0,
           0,
           0,
           0
          ],
          [
           -0.7145106196403503,
           -4.029785633087158,
           -3.759735584259033,
           -3.5589823722839355,
           -3.5538814067840576,
           -3.608088970184326,
           -3.592478036880493,
           -3.297805070877075,
           -2.886850118637085,
           -2.564296245574951,
           -2.4073126316070557,
           -2.1907761096954346,
           -1.7738112211227417,
           -1.1911962032318115,
           -0.7790477275848389,
           -0.7020472884178162,
           -1.1377170085906982,
           0,
           0,
           0,
           0,
           0,
           0,
           0,
           0,
           0,
           0,
           0,
           0,
           0,
           0,
           0,
           0,
           0,
           0,
           0
          ],
          [
           -0.604952871799469,
           -4.228127479553223,
           -4.143254280090332,
           -3.8573601245880127,
           -3.5629775524139404,
           -3.4075253009796143,
           -3.5044353008270264,
           -3.5058369636535645,
           -3.2608888149261475,
           -2.835571527481079,
           -2.4938266277313232,
           -2.2472071647644043,
           -2.037339687347412,
           -1.6776114702224731,
           -1.144681692123413,
           -0.6558020114898682,
           -0.6839936375617981,
           -1.0331333875656128,
           0,
           0,
           0,
           0,
           0,
           0,
           0,
           0,
           0,
           0,
           0,
           0,
           0,
           0,
           0,
           0,
           0,
           0
          ],
          [
           -0.580025315284729,
           -4.183859825134277,
           -4.201878547668457,
           -4.148102283477783,
           -3.8723597526550293,
           -3.48922061920166,
           -3.360461711883545,
           -3.4080047607421875,
           -3.4402172565460205,
           -3.2445807456970215,
           -2.9002504348754883,
           -2.502842664718628,
           -2.2344377040863037,
           -2.0391838550567627,
           -1.6797842979431152,
           -1.0835469961166382,
           -0.6734546422958374,
           -0.603699266910553,
           -1.0124197006225586,
           0,
           0,
           0,
           0,
           0,
           0,
           0,
           0,
           0,
           0,
           0,
           0,
           0,
           0,
           0,
           0,
           0
          ],
          [
           -0.4338186979293823,
           -3.964545488357544,
           -3.8814711570739746,
           -4.086432933807373,
           -4.0985798835754395,
           -3.7789719104766846,
           -3.4129018783569336,
           -3.195298194885254,
           -3.2144784927368164,
           -3.28556752204895,
           -3.172037363052368,
           -2.7951722145080566,
           -2.3639519214630127,
           -2.0935370922088623,
           -1.877774953842163,
           -1.4663125276565552,
           -0.9813382029533386,
           -0.4770253002643585,
           -0.5062363743782043,
           -0.8923365473747253,
           0,
           0,
           0,
           0,
           0,
           0,
           0,
           0,
           0,
           0,
           0,
           0,
           0,
           0,
           0,
           0
          ],
          [
           -0.3577679693698883,
           -3.9784069061279297,
           -3.7005207538604736,
           -3.798815965652466,
           -4.010501861572266,
           -4.012336730957031,
           -3.814859390258789,
           -3.449031352996826,
           -3.1333606243133545,
           -3.1044671535491943,
           -3.1858747005462646,
           -3.1046595573425293,
           -2.779076337814331,
           -2.4092490673065186,
           -2.0578808784484863,
           -1.753799557685852,
           -1.445785403251648,
           -0.8459063768386841,
           -0.40817293524742126,
           -0.36690813302993774,
           -0.7710229754447937,
           0,
           0,
           0,
           0,
           0,
           0,
           0,
           0,
           0,
           0,
           0,
           0,
           0,
           0,
           0
          ],
          [
           -0.26530465483665466,
           -4.130325794219971,
           -3.861694574356079,
           -3.6968801021575928,
           -3.707378387451172,
           -3.8147366046905518,
           -3.9994161128997803,
           -3.910677433013916,
           -3.4727768898010254,
           -3.080717086791992,
           -2.9617972373962402,
           -3.017207622528076,
           -3.0258281230926514,
           -2.870077133178711,
           -2.4042768478393555,
           -1.9574347734451294,
           -1.6805254220962524,
           -1.3002279996871948,
           -0.8030526638031006,
           -0.36239343881607056,
           -0.3283216655254364,
           -0.6452435851097107,
           0,
           0,
           0,
           0,
           0,
           0,
           0,
           0,
           0,
           0,
           0,
           0,
           0,
           0
          ],
          [
           -0.25950515270233154,
           -4.149123191833496,
           -4.058508396148682,
           -3.9089419841766357,
           -3.661006450653076,
           -3.521244525909424,
           -3.7670388221740723,
           -4.0028910636901855,
           -3.842982769012451,
           -3.3737263679504395,
           -2.960716724395752,
           -2.7809038162231445,
           -2.8898470401763916,
           -3.063772439956665,
           -2.8271522521972656,
           -2.3287768363952637,
           -1.878986120223999,
           -1.547642469406128,
           -1.2000670433044434,
           -0.7205301523208618,
           -0.24170240759849548,
           -0.14897596836090088,
           -0.5698962211608887,
           0,
           0,
           0,
           0,
           0,
           0,
           0,
           0,
           0,
           0,
           0,
           0,
           0
          ],
          [
           -0.28368687629699707,
           -4.067948341369629,
           -4.063281536102295,
           -4.1978535652160645,
           -4.003479480743408,
           -3.6347432136535645,
           -3.561905860900879,
           -3.757091760635376,
           -3.929753065109253,
           -3.757045269012451,
           -3.3389809131622314,
           -2.8492655754089355,
           -2.6804039478302,
           -2.912601947784424,
           -3.0549426078796387,
           -2.8110008239746094,
           -2.3141393661499023,
           -1.7988194227218628,
           -1.487668514251709,
           -1.1972689628601074,
           -0.6637519001960754,
           -0.13190768659114838,
           -0.14071448147296906,
           -0.5170092582702637,
           0,
           0,
           0,
           0,
           0,
           0,
           0,
           0,
           0,
           0,
           0,
           0
          ],
          [
           -0.23958079516887665,
           -3.940394163131714,
           -3.7787322998046875,
           -4.037896156311035,
           -4.143019199371338,
           -3.8962817192077637,
           -3.599248170852661,
           -3.4450626373291016,
           -3.5471839904785156,
           -3.6504509449005127,
           -3.550230026245117,
           -3.077657699584961,
           -2.587249279022217,
           -2.471505641937256,
           -2.687189817428589,
           -2.818817615509033,
           -2.6523663997650146,
           -2.080735206604004,
           -1.59100341796875,
           -1.3064061403274536,
           -0.991755485534668,
           -0.4146089553833008,
           0.05133722350001335,
           0.10912452638149261,
           -0.3908841609954834,
           0,
           0,
           0,
           0,
           0,
           0,
           0,
           0,
           0,
           0,
           0
          ],
          [
           -0.30164140462875366,
           -4.248318672180176,
           -3.817333221435547,
           -3.819535732269287,
           -4.004712104797363,
           -4.059844493865967,
           -3.9926846027374268,
           -3.7424659729003906,
           -3.535714626312256,
           -3.4907402992248535,
           -3.574516773223877,
           -3.427366018295288,
           -3.016672134399414,
           -2.638188123703003,
           -2.537524938583374,
           -2.6962249279022217,
           -2.8841888904571533,
           -2.635840654373169,
           -2.1046829223632812,
           -1.5890370607376099,
           -1.2812238931655884,
           -0.9177075028419495,
           -0.4120062291622162,
           0.10594866424798965,
           0.06458445638418198,
           -0.36066341400146484,
           0,
           0,
           0,
           0,
           0,
           0,
           0,
           0,
           0,
           0
          ],
          [
           -0.0881374254822731,
           -4.4921650886535645,
           -4.082828521728516,
           -3.8239290714263916,
           -3.7549426555633545,
           -3.853508949279785,
           -4.11069917678833,
           -4.114483833312988,
           -3.857125997543335,
           -3.4994447231292725,
           -3.4051477909088135,
           -3.3925864696502686,
           -3.2480461597442627,
           -2.943120241165161,
           -2.581533908843994,
           -2.4461398124694824,
           -2.65663480758667,
           -2.8114006519317627,
           -2.576322317123413,
           -1.994263768196106,
           -1.4587223529815674,
           -1.1495240926742554,
           -0.8782626390457153,
           -0.2850612699985504,
           0.16625095903873444,
           0.15766748785972595,
           -0.2631201148033142,
           0,
           0,
           0,
           0,
           0,
           0,
           0,
           0,
           0
          ],
          [
           -0.19687442481517792,
           -4.654887676239014,
           -4.487695217132568,
           -4.257263660430908,
           -3.921596050262451,
           -3.718696355819702,
           -3.977731704711914,
           -4.280972957611084,
           -4.351167678833008,
           -3.9789469242095947,
           -3.6386396884918213,
           -3.4247055053710938,
           -3.356039524078369,
           -3.271723747253418,
           -2.9511494636535645,
           -2.5269992351531982,
           -2.3909826278686523,
           -2.6003291606903076,
           -2.7759482860565186,
           -2.5059382915496826,
           -1.8603184223175049,
           -1.3424042463302612,
           -1.1819636821746826,
           -0.8415657877922058,
           -0.28871574997901917,
           0.2162495255470276,
           0.21653993427753448,
           -0.2506996691226959,
           0,
           0,
           0,
           0,
           0,
           0,
           0,
           0
          ],
          [
           -0.15877306461334229,
           -4.395187854766846,
           -4.327332019805908,
           -4.462498664855957,
           -4.221238613128662,
           -3.777440071105957,
           -3.6771414279937744,
           -3.9150137901306152,
           -4.330204010009766,
           -4.364260196685791,
           -4.095587253570557,
           -3.631357431411743,
           -3.2967708110809326,
           -3.214348316192627,
           -3.1389949321746826,
           -2.7666544914245605,
           -2.3583648204803467,
           -2.234528064727783,
           -2.5066685676574707,
           -2.6893763542175293,
           -2.3190901279449463,
           -1.6116666793823242,
           -1.2260546684265137,
           -1.0340666770935059,
           -0.7763903737068176,
           -0.18597659468650818,
           0.35282114148139954,
           0.3618370294570923,
           -0.15253683924674988,
           0,
           0,
           0,
           0,
           0,
           0,
           0
          ],
          [
           -0.08631277084350586,
           -4.093958854675293,
           -3.7807514667510986,
           -4.1194748878479,
           -4.250622272491455,
           -3.9829115867614746,
           -3.6689200401306152,
           -3.5793519020080566,
           -3.953334093093872,
           -4.358898162841797,
           -4.499107837677002,
           -4.176479816436768,
           -3.6140005588531494,
           -3.24839448928833,
           -3.172112464904785,
           -2.984567403793335,
           -2.640108585357666,
           -2.1986985206604004,
           -2.186446189880371,
           -2.494739055633545,
           -2.5714809894561768,
           -2.0638582706451416,
           -1.4512900114059448,
           -1.07173490524292,
           -0.9774530529975891,
           -0.6960206031799316,
           -0.030784647911787033,
           0.5329784154891968,
           0.47193101048469543,
           -0.03060263767838478,
           0,
           0,
           0,
           0,
           0,
           0
          ],
          [
           -0.07556440681219101,
           -4.214567184448242,
           -3.613304615020752,
           -3.7211790084838867,
           -3.987210988998413,
           -4.065509796142578,
           -3.9405508041381836,
           -3.6831114292144775,
           -3.6732900142669678,
           -3.9895923137664795,
           -4.425711154937744,
           -4.569323539733887,
           -4.207025051116943,
           -3.675947666168213,
           -3.2922279834747314,
           -3.0749013423919678,
           -2.925651788711548,
           -2.5026700496673584,
           -2.188214063644409,
           -2.2148468494415283,
           -2.456631660461426,
           -2.392374277114868,
           -1.9535316228866577,
           -1.350593090057373,
           -1.036446452140808,
           -0.9424496293067932,
           -0.5636948943138123,
           0.09316035360097885,
           0.5696008205413818,
           0.5306420922279358,
           0.07106871157884598,
           0,
           0,
           0,
           0,
           0
          ],
          [
           -0.08357798308134079,
           -4.327025890350342,
           -3.7278988361358643,
           -3.4988033771514893,
           -3.5160281658172607,
           -3.6697282791137695,
           -3.8980653285980225,
           -3.8725688457489014,
           -3.672135591506958,
           -3.6390888690948486,
           -3.9733924865722656,
           -4.419558525085449,
           -4.5407867431640625,
           -4.270805835723877,
           -3.6927566528320312,
           -3.2164673805236816,
           -2.994428873062134,
           -2.7561845779418945,
           -2.437798261642456,
           -2.1821069717407227,
           -2.1897711753845215,
           -2.334886074066162,
           -2.3535006046295166,
           -1.8994826078414917,
           -1.3284474611282349,
           -1.0136699676513672,
           -0.828732967376709,
           -0.4387463331222534,
           0.15717476606369019,
           0.641785740852356,
           0.6432328224182129,
           0.23357248306274414,
           0,
           0,
           0,
           0
          ],
          [
           -0.08138208091259003,
           -4.557291030883789,
           -4.183806896209717,
           -3.941457986831665,
           -3.615355968475342,
           -3.444934844970703,
           -3.68751859664917,
           -3.9364075660705566,
           -3.9301669597625732,
           -3.7333719730377197,
           -3.762025833129883,
           -4.082998752593994,
           -4.498068332672119,
           -4.734214782714844,
           -4.384740352630615,
           -3.7498490810394287,
           -3.2209441661834717,
           -2.9476394653320312,
           -2.793757677078247,
           -2.5600850582122803,
           -2.241992712020874,
           -2.1806678771972656,
           -2.45479416847229,
           -2.43023943901062,
           -1.965438723564148,
           -1.3272690773010254,
           -0.9791175127029419,
           -0.7726789712905884,
           -0.4605593681335449,
           0.11476199328899384,
           0.6528075933456421,
           0.7081802487373352,
           0.1803235411643982,
           0,
           0,
           0
          ],
          [
           -0.04075872153043747,
           -4.425084590911865,
           -4.206969738006592,
           -4.309131145477295,
           -3.9877240657806396,
           -3.535524606704712,
           -3.43009877204895,
           -3.579554557800293,
           -3.76246976852417,
           -3.7279984951019287,
           -3.6378281116485596,
           -3.6773338317871094,
           -3.9820454120635986,
           -4.514271259307861,
           -4.65225076675415,
           -4.280167102813721,
           -3.6202683448791504,
           -3.064392328262329,
           -2.876682996749878,
           -2.8215441703796387,
           -2.4994547367095947,
           -2.164044141769409,
           -2.291020154953003,
           -2.5434131622314453,
           -2.5139684677124023,
           -1.910618543624878,
           -1.2812031507492065,
           -0.8846157789230347,
           -0.7420080304145813,
           -0.41479647159576416,
           0.23443254828453064,
           0.7937798500061035,
           0.7137075662612915,
           0.2209470570087433,
           0,
           0
          ],
          [
           0.04850802198052406,
           -4.165891170501709,
           -3.864253044128418,
           -4.253209590911865,
           -4.2353973388671875,
           -3.863718271255493,
           -3.4800972938537598,
           -3.2880547046661377,
           -3.379106044769287,
           -3.5302090644836426,
           -3.5699574947357178,
           -3.5018436908721924,
           -3.5385894775390625,
           -3.9490950107574463,
           -4.381171226501465,
           -4.478184700012207,
           -4.065901279449463,
           -3.3285396099090576,
           -2.8675363063812256,
           -2.7966251373291016,
           -2.6254143714904785,
           -2.2278285026550293,
           -2.0340538024902344,
           -2.164682149887085,
           -2.4564695358276367,
           -2.2696876525878906,
           -1.6950055360794067,
           -1.075549602508545,
           -0.7894655466079712,
           -0.6436408162117004,
           -0.2649419605731964,
           0.41831648349761963,
           0.8582022190093994,
           0.8046460747718811,
           0.3368243873119354,
           0
          ],
          [
           0.04881332069635391,
           -4.21460485458374,
           -3.695295810699463,
           -4.0155110359191895,
           -4.233746528625488,
           -4.208616256713867,
           -3.96233868598938,
           -3.5754048824310303,
           -3.3533668518066406,
           -3.3802006244659424,
           -3.5281882286071777,
           -3.597830295562744,
           -3.555915594100952,
           -3.709233045578003,
           -4.039672374725342,
           -4.394927978515625,
           -4.451061248779297,
           -3.9120826721191406,
           -3.260457992553711,
           -2.891711473464966,
           -2.715444564819336,
           -2.465618133544922,
           -2.152841806411743,
           -1.9544486999511719,
           -2.1389057636260986,
           -2.282907485961914,
           -2.0998363494873047,
           -1.5798594951629639,
           -1.0405616760253906,
           -0.7386305928230286,
           -0.5603350400924683,
           -0.11072234064340591,
           0.4501284062862396,
           0.9091789126396179,
           0.862603485584259,
           0.47834208607673645
          ]
         ]
        }
       ],
       "layout": {
        "autosize": true,
        "coloraxis": {
         "colorscale": [
          [
           0,
           "#0d0887"
          ],
          [
           0.1111111111111111,
           "#46039f"
          ],
          [
           0.2222222222222222,
           "#7201a8"
          ],
          [
           0.3333333333333333,
           "#9c179e"
          ],
          [
           0.4444444444444444,
           "#bd3786"
          ],
          [
           0.5555555555555556,
           "#d8576b"
          ],
          [
           0.6666666666666666,
           "#ed7953"
          ],
          [
           0.7777777777777778,
           "#fb9f3a"
          ],
          [
           0.8888888888888888,
           "#fdca26"
          ],
          [
           1,
           "#f0f921"
          ]
         ]
        },
        "margin": {
         "t": 60
        },
        "template": {
         "data": {
          "bar": [
           {
            "error_x": {
             "color": "#2a3f5f"
            },
            "error_y": {
             "color": "#2a3f5f"
            },
            "marker": {
             "line": {
              "color": "#E5ECF6",
              "width": 0.5
             },
             "pattern": {
              "fillmode": "overlay",
              "size": 10,
              "solidity": 0.2
             }
            },
            "type": "bar"
           }
          ],
          "barpolar": [
           {
            "marker": {
             "line": {
              "color": "#E5ECF6",
              "width": 0.5
             },
             "pattern": {
              "fillmode": "overlay",
              "size": 10,
              "solidity": 0.2
             }
            },
            "type": "barpolar"
           }
          ],
          "carpet": [
           {
            "aaxis": {
             "endlinecolor": "#2a3f5f",
             "gridcolor": "white",
             "linecolor": "white",
             "minorgridcolor": "white",
             "startlinecolor": "#2a3f5f"
            },
            "baxis": {
             "endlinecolor": "#2a3f5f",
             "gridcolor": "white",
             "linecolor": "white",
             "minorgridcolor": "white",
             "startlinecolor": "#2a3f5f"
            },
            "type": "carpet"
           }
          ],
          "choropleth": [
           {
            "colorbar": {
             "outlinewidth": 0,
             "ticks": ""
            },
            "type": "choropleth"
           }
          ],
          "contour": [
           {
            "colorbar": {
             "outlinewidth": 0,
             "ticks": ""
            },
            "colorscale": [
             [
              0,
              "#0d0887"
             ],
             [
              0.1111111111111111,
              "#46039f"
             ],
             [
              0.2222222222222222,
              "#7201a8"
             ],
             [
              0.3333333333333333,
              "#9c179e"
             ],
             [
              0.4444444444444444,
              "#bd3786"
             ],
             [
              0.5555555555555556,
              "#d8576b"
             ],
             [
              0.6666666666666666,
              "#ed7953"
             ],
             [
              0.7777777777777778,
              "#fb9f3a"
             ],
             [
              0.8888888888888888,
              "#fdca26"
             ],
             [
              1,
              "#f0f921"
             ]
            ],
            "type": "contour"
           }
          ],
          "contourcarpet": [
           {
            "colorbar": {
             "outlinewidth": 0,
             "ticks": ""
            },
            "type": "contourcarpet"
           }
          ],
          "heatmap": [
           {
            "colorbar": {
             "outlinewidth": 0,
             "ticks": ""
            },
            "colorscale": [
             [
              0,
              "#0d0887"
             ],
             [
              0.1111111111111111,
              "#46039f"
             ],
             [
              0.2222222222222222,
              "#7201a8"
             ],
             [
              0.3333333333333333,
              "#9c179e"
             ],
             [
              0.4444444444444444,
              "#bd3786"
             ],
             [
              0.5555555555555556,
              "#d8576b"
             ],
             [
              0.6666666666666666,
              "#ed7953"
             ],
             [
              0.7777777777777778,
              "#fb9f3a"
             ],
             [
              0.8888888888888888,
              "#fdca26"
             ],
             [
              1,
              "#f0f921"
             ]
            ],
            "type": "heatmap"
           }
          ],
          "heatmapgl": [
           {
            "colorbar": {
             "outlinewidth": 0,
             "ticks": ""
            },
            "colorscale": [
             [
              0,
              "#0d0887"
             ],
             [
              0.1111111111111111,
              "#46039f"
             ],
             [
              0.2222222222222222,
              "#7201a8"
             ],
             [
              0.3333333333333333,
              "#9c179e"
             ],
             [
              0.4444444444444444,
              "#bd3786"
             ],
             [
              0.5555555555555556,
              "#d8576b"
             ],
             [
              0.6666666666666666,
              "#ed7953"
             ],
             [
              0.7777777777777778,
              "#fb9f3a"
             ],
             [
              0.8888888888888888,
              "#fdca26"
             ],
             [
              1,
              "#f0f921"
             ]
            ],
            "type": "heatmapgl"
           }
          ],
          "histogram": [
           {
            "marker": {
             "pattern": {
              "fillmode": "overlay",
              "size": 10,
              "solidity": 0.2
             }
            },
            "type": "histogram"
           }
          ],
          "histogram2d": [
           {
            "colorbar": {
             "outlinewidth": 0,
             "ticks": ""
            },
            "colorscale": [
             [
              0,
              "#0d0887"
             ],
             [
              0.1111111111111111,
              "#46039f"
             ],
             [
              0.2222222222222222,
              "#7201a8"
             ],
             [
              0.3333333333333333,
              "#9c179e"
             ],
             [
              0.4444444444444444,
              "#bd3786"
             ],
             [
              0.5555555555555556,
              "#d8576b"
             ],
             [
              0.6666666666666666,
              "#ed7953"
             ],
             [
              0.7777777777777778,
              "#fb9f3a"
             ],
             [
              0.8888888888888888,
              "#fdca26"
             ],
             [
              1,
              "#f0f921"
             ]
            ],
            "type": "histogram2d"
           }
          ],
          "histogram2dcontour": [
           {
            "colorbar": {
             "outlinewidth": 0,
             "ticks": ""
            },
            "colorscale": [
             [
              0,
              "#0d0887"
             ],
             [
              0.1111111111111111,
              "#46039f"
             ],
             [
              0.2222222222222222,
              "#7201a8"
             ],
             [
              0.3333333333333333,
              "#9c179e"
             ],
             [
              0.4444444444444444,
              "#bd3786"
             ],
             [
              0.5555555555555556,
              "#d8576b"
             ],
             [
              0.6666666666666666,
              "#ed7953"
             ],
             [
              0.7777777777777778,
              "#fb9f3a"
             ],
             [
              0.8888888888888888,
              "#fdca26"
             ],
             [
              1,
              "#f0f921"
             ]
            ],
            "type": "histogram2dcontour"
           }
          ],
          "mesh3d": [
           {
            "colorbar": {
             "outlinewidth": 0,
             "ticks": ""
            },
            "type": "mesh3d"
           }
          ],
          "parcoords": [
           {
            "line": {
             "colorbar": {
              "outlinewidth": 0,
              "ticks": ""
             }
            },
            "type": "parcoords"
           }
          ],
          "pie": [
           {
            "automargin": true,
            "type": "pie"
           }
          ],
          "scatter": [
           {
            "marker": {
             "colorbar": {
              "outlinewidth": 0,
              "ticks": ""
             }
            },
            "type": "scatter"
           }
          ],
          "scatter3d": [
           {
            "line": {
             "colorbar": {
              "outlinewidth": 0,
              "ticks": ""
             }
            },
            "marker": {
             "colorbar": {
              "outlinewidth": 0,
              "ticks": ""
             }
            },
            "type": "scatter3d"
           }
          ],
          "scattercarpet": [
           {
            "marker": {
             "colorbar": {
              "outlinewidth": 0,
              "ticks": ""
             }
            },
            "type": "scattercarpet"
           }
          ],
          "scattergeo": [
           {
            "marker": {
             "colorbar": {
              "outlinewidth": 0,
              "ticks": ""
             }
            },
            "type": "scattergeo"
           }
          ],
          "scattergl": [
           {
            "marker": {
             "colorbar": {
              "outlinewidth": 0,
              "ticks": ""
             }
            },
            "type": "scattergl"
           }
          ],
          "scattermapbox": [
           {
            "marker": {
             "colorbar": {
              "outlinewidth": 0,
              "ticks": ""
             }
            },
            "type": "scattermapbox"
           }
          ],
          "scatterpolar": [
           {
            "marker": {
             "colorbar": {
              "outlinewidth": 0,
              "ticks": ""
             }
            },
            "type": "scatterpolar"
           }
          ],
          "scatterpolargl": [
           {
            "marker": {
             "colorbar": {
              "outlinewidth": 0,
              "ticks": ""
             }
            },
            "type": "scatterpolargl"
           }
          ],
          "scatterternary": [
           {
            "marker": {
             "colorbar": {
              "outlinewidth": 0,
              "ticks": ""
             }
            },
            "type": "scatterternary"
           }
          ],
          "surface": [
           {
            "colorbar": {
             "outlinewidth": 0,
             "ticks": ""
            },
            "colorscale": [
             [
              0,
              "#0d0887"
             ],
             [
              0.1111111111111111,
              "#46039f"
             ],
             [
              0.2222222222222222,
              "#7201a8"
             ],
             [
              0.3333333333333333,
              "#9c179e"
             ],
             [
              0.4444444444444444,
              "#bd3786"
             ],
             [
              0.5555555555555556,
              "#d8576b"
             ],
             [
              0.6666666666666666,
              "#ed7953"
             ],
             [
              0.7777777777777778,
              "#fb9f3a"
             ],
             [
              0.8888888888888888,
              "#fdca26"
             ],
             [
              1,
              "#f0f921"
             ]
            ],
            "type": "surface"
           }
          ],
          "table": [
           {
            "cells": {
             "fill": {
              "color": "#EBF0F8"
             },
             "line": {
              "color": "white"
             }
            },
            "header": {
             "fill": {
              "color": "#C8D4E3"
             },
             "line": {
              "color": "white"
             }
            },
            "type": "table"
           }
          ]
         },
         "layout": {
          "annotationdefaults": {
           "arrowcolor": "#2a3f5f",
           "arrowhead": 0,
           "arrowwidth": 1
          },
          "autotypenumbers": "strict",
          "coloraxis": {
           "colorbar": {
            "outlinewidth": 0,
            "ticks": ""
           }
          },
          "colorscale": {
           "diverging": [
            [
             0,
             "#8e0152"
            ],
            [
             0.1,
             "#c51b7d"
            ],
            [
             0.2,
             "#de77ae"
            ],
            [
             0.3,
             "#f1b6da"
            ],
            [
             0.4,
             "#fde0ef"
            ],
            [
             0.5,
             "#f7f7f7"
            ],
            [
             0.6,
             "#e6f5d0"
            ],
            [
             0.7,
             "#b8e186"
            ],
            [
             0.8,
             "#7fbc41"
            ],
            [
             0.9,
             "#4d9221"
            ],
            [
             1,
             "#276419"
            ]
           ],
           "sequential": [
            [
             0,
             "#0d0887"
            ],
            [
             0.1111111111111111,
             "#46039f"
            ],
            [
             0.2222222222222222,
             "#7201a8"
            ],
            [
             0.3333333333333333,
             "#9c179e"
            ],
            [
             0.4444444444444444,
             "#bd3786"
            ],
            [
             0.5555555555555556,
             "#d8576b"
            ],
            [
             0.6666666666666666,
             "#ed7953"
            ],
            [
             0.7777777777777778,
             "#fb9f3a"
            ],
            [
             0.8888888888888888,
             "#fdca26"
            ],
            [
             1,
             "#f0f921"
            ]
           ],
           "sequentialminus": [
            [
             0,
             "#0d0887"
            ],
            [
             0.1111111111111111,
             "#46039f"
            ],
            [
             0.2222222222222222,
             "#7201a8"
            ],
            [
             0.3333333333333333,
             "#9c179e"
            ],
            [
             0.4444444444444444,
             "#bd3786"
            ],
            [
             0.5555555555555556,
             "#d8576b"
            ],
            [
             0.6666666666666666,
             "#ed7953"
            ],
            [
             0.7777777777777778,
             "#fb9f3a"
            ],
            [
             0.8888888888888888,
             "#fdca26"
            ],
            [
             1,
             "#f0f921"
            ]
           ]
          },
          "colorway": [
           "#636efa",
           "#EF553B",
           "#00cc96",
           "#ab63fa",
           "#FFA15A",
           "#19d3f3",
           "#FF6692",
           "#B6E880",
           "#FF97FF",
           "#FECB52"
          ],
          "font": {
           "color": "#2a3f5f"
          },
          "geo": {
           "bgcolor": "white",
           "lakecolor": "white",
           "landcolor": "#E5ECF6",
           "showlakes": true,
           "showland": true,
           "subunitcolor": "white"
          },
          "hoverlabel": {
           "align": "left"
          },
          "hovermode": "closest",
          "mapbox": {
           "style": "light"
          },
          "paper_bgcolor": "white",
          "plot_bgcolor": "#E5ECF6",
          "polar": {
           "angularaxis": {
            "gridcolor": "white",
            "linecolor": "white",
            "ticks": ""
           },
           "bgcolor": "#E5ECF6",
           "radialaxis": {
            "gridcolor": "white",
            "linecolor": "white",
            "ticks": ""
           }
          },
          "scene": {
           "xaxis": {
            "backgroundcolor": "#E5ECF6",
            "gridcolor": "white",
            "gridwidth": 2,
            "linecolor": "white",
            "showbackground": true,
            "ticks": "",
            "zerolinecolor": "white"
           },
           "yaxis": {
            "backgroundcolor": "#E5ECF6",
            "gridcolor": "white",
            "gridwidth": 2,
            "linecolor": "white",
            "showbackground": true,
            "ticks": "",
            "zerolinecolor": "white"
           },
           "zaxis": {
            "backgroundcolor": "#E5ECF6",
            "gridcolor": "white",
            "gridwidth": 2,
            "linecolor": "white",
            "showbackground": true,
            "ticks": "",
            "zerolinecolor": "white"
           }
          },
          "shapedefaults": {
           "line": {
            "color": "#2a3f5f"
           }
          },
          "ternary": {
           "aaxis": {
            "gridcolor": "white",
            "linecolor": "white",
            "ticks": ""
           },
           "baxis": {
            "gridcolor": "white",
            "linecolor": "white",
            "ticks": ""
           },
           "bgcolor": "#E5ECF6",
           "caxis": {
            "gridcolor": "white",
            "linecolor": "white",
            "ticks": ""
           }
          },
          "title": {
           "x": 0.05
          },
          "xaxis": {
           "automargin": true,
           "gridcolor": "white",
           "linecolor": "white",
           "ticks": "",
           "title": {
            "standoff": 15
           },
           "zerolinecolor": "white",
           "zerolinewidth": 2
          },
          "yaxis": {
           "automargin": true,
           "gridcolor": "white",
           "linecolor": "white",
           "ticks": "",
           "title": {
            "standoff": 15
           },
           "zerolinecolor": "white",
           "zerolinewidth": 2
          }
         }
        },
        "xaxis": {
         "anchor": "y",
         "autorange": true,
         "constrain": "domain",
         "domain": [
          0.4035087719298246,
          0.5964912280701754
         ],
         "range": [
          -0.5,
          35.5
         ],
         "scaleanchor": "y"
        },
        "yaxis": {
         "anchor": "x",
         "autorange": true,
         "constrain": "domain",
         "domain": [
          0,
          1
         ],
         "range": [
          35.5,
          -0.5
         ]
        }
       }
      },
      "image/png": "[encoded data removed]",
      "text/html": [
       "<div>                            <div id=\"1d57356e-ccb9-418a-9411-7a81d0d183d7\" class=\"plotly-graph-div\" style=\"height:525px; width:100%;\"></div>            <script type=\"text/javascript\">                require([\"plotly\"], function(Plotly) {                    window.PLOTLYENV=window.PLOTLYENV || {};                                    if (document.getElementById(\"1d57356e-ccb9-418a-9411-7a81d0d183d7\")) {                    Plotly.newPlot(                        \"1d57356e-ccb9-418a-9411-7a81d0d183d7\",                        [{\"coloraxis\":\"coloraxis\",\"name\":\"0\",\"texttemplate\":\"%{z}\",\"z\":[[-1.1754568815231323,0.0,0.0,0.0,0.0,0.0,0.0,0.0,0.0,0.0,0.0,0.0,0.0,0.0,0.0,0.0,0.0,0.0,0.0,0.0,0.0,0.0,0.0,0.0,0.0,0.0,0.0,0.0,0.0,0.0,0.0,0.0,0.0,0.0,0.0,0.0],[0.7508743405342102,-3.9191668033599854,0.0,0.0,0.0,0.0,0.0,0.0,0.0,0.0,0.0,0.0,0.0,0.0,0.0,0.0,0.0,0.0,0.0,0.0,0.0,0.0,0.0,0.0,0.0,0.0,0.0,0.0,0.0,0.0,0.0,0.0,0.0,0.0,0.0,0.0],[-0.3515896797180176,-3.051724433898926,-3.146083354949951,0.0,0.0,0.0,0.0,0.0,0.0,0.0,0.0,0.0,0.0,0.0,0.0,0.0,0.0,0.0,0.0,0.0,0.0,0.0,0.0,0.0,0.0,0.0,0.0,0.0,0.0,0.0,0.0,0.0,0.0,0.0,0.0,0.0],[-1.1921074390411377,-2.8558058738708496,-2.7702507972717285,-3.1279428005218506,0.0,0.0,0.0,0.0,0.0,0.0,0.0,0.0,0.0,0.0,0.0,0.0,0.0,0.0,0.0,0.0,0.0,0.0,0.0,0.0,0.0,0.0,0.0,0.0,0.0,0.0,0.0,0.0,0.0,0.0,0.0,0.0],[-1.318251371383667,-2.9743049144744873,-2.5122013092041016,-2.5551774501800537,-2.8610408306121826,0.0,0.0,0.0,0.0,0.0,0.0,0.0,0.0,0.0,0.0,0.0,0.0,0.0,0.0,0.0,0.0,0.0,0.0,0.0,0.0,0.0,0.0,0.0,0.0,0.0,0.0,0.0,0.0,0.0,0.0,0.0],[-1.1688016653060913,-3.236346960067749,-2.6671385765075684,-2.2850520610809326,-2.3609628677368164,-2.6202375888824463,0.0,0.0,0.0,0.0,0.0,0.0,0.0,0.0,0.0,0.0,0.0,0.0,0.0,0.0,0.0,0.0,0.0,0.0,0.0,0.0,0.0,0.0,0.0,0.0,0.0,0.0,0.0,0.0,0.0,0.0],[-1.1915637254714966,-3.5042107105255127,-3.144144058227539,-2.585195779800415,-2.2337119579315186,-2.173356771469116,-2.5631003379821777,0.0,0.0,0.0,0.0,0.0,0.0,0.0,0.0,0.0,0.0,0.0,0.0,0.0,0.0,0.0,0.0,0.0,0.0,0.0,0.0,0.0,0.0,0.0,0.0,0.0,0.0,0.0,0.0,0.0],[-1.0313814878463745,-3.5239381790161133,-3.392338514328003,-3.000819206237793,-2.414194107055664,-1.903741478919983,-1.9875212907791138,-2.3524601459503174,0.0,0.0,0.0,0.0,0.0,0.0,0.0,0.0,0.0,0.0,0.0,0.0,0.0,0.0,0.0,0.0,0.0,0.0,0.0,0.0,0.0,0.0,0.0,0.0,0.0,0.0,0.0,0.0],[-0.9901699423789978,-3.537208080291748,-3.37200665473938,-3.3093037605285645,-2.9109349250793457,-2.2327730655670166,-1.8319647312164307,-1.8382463455200195,-2.1688451766967773,0.0,0.0,0.0,0.0,0.0,0.0,0.0,0.0,0.0,0.0,0.0,0.0,0.0,0.0,0.0,0.0,0.0,0.0,0.0,0.0,0.0,0.0,0.0,0.0,0.0,0.0,0.0],[-0.8961061835289001,-3.473790168762207,-3.202617645263672,-3.237130880355835,-3.124457597732544,-2.63606333732605,-2.0607876777648926,-1.6395667791366577,-1.6363871097564697,-1.9435429573059082,0.0,0.0,0.0,0.0,0.0,0.0,0.0,0.0,0.0,0.0,0.0,0.0,0.0,0.0,0.0,0.0,0.0,0.0,0.0,0.0,0.0,0.0,0.0,0.0,0.0,0.0],[-0.7857741117477417,-3.569990873336792,-3.137661933898926,-3.0066635608673096,-2.962789535522461,-2.7603976726531982,-2.3767757415771484,-1.7994613647460938,-1.3630504608154297,-1.3676763772964478,-1.6597260236740112,0.0,0.0,0.0,0.0,0.0,0.0,0.0,0.0,0.0,0.0,0.0,0.0,0.0,0.0,0.0,0.0,0.0,0.0,0.0,0.0,0.0,0.0,0.0,0.0,0.0],[-0.8298120498657227,-3.9251515865325928,-3.6309945583343506,-3.273287534713745,-3.0614750385284424,-2.926135778427124,-2.8493924140930176,-2.4849483966827393,-1.883000135421753,-1.4508289098739624,-1.4351527690887451,-1.6953706741333008,0.0,0.0,0.0,0.0,0.0,0.0,0.0,0.0,0.0,0.0,0.0,0.0,0.0,0.0,0.0,0.0,0.0,0.0,0.0,0.0,0.0,0.0,0.0,0.0],[-0.7738908529281616,-3.9371087551116943,-3.88303542137146,-3.5825984477996826,-3.142489194869995,-2.8116724491119385,-2.801285743713379,-2.7066173553466797,-2.289621114730835,-1.6797209978103638,-1.2655366659164429,-1.215898871421814,-1.51125168800354,0.0,0.0,0.0,0.0,0.0,0.0,0.0,0.0,0.0,0.0,0.0,0.0,0.0,0.0,0.0,0.0,0.0,0.0,0.0,0.0,0.0,0.0,0.0],[-0.7434220910072327,-3.877225160598755,-3.984447479248047,-3.9630424976348877,-3.5514938831329346,-3.020054340362549,-2.7894346714019775,-2.7396509647369385,-2.6309337615966797,-2.1827924251556396,-1.589806318283081,-1.0922011137008667,-1.060442566871643,-1.4209010601043701,0.0,0.0,0.0,0.0,0.0,0.0,0.0,0.0,0.0,0.0,0.0,0.0,0.0,0.0,0.0,0.0,0.0,0.0,0.0,0.0,0.0,0.0],[-0.7168445587158203,-3.656874656677246,-3.701566219329834,-3.905283212661743,-3.771444320678711,-3.323294162750244,-2.879328489303589,-2.6095590591430664,-2.5659689903259277,-2.4193947315216064,-2.005265712738037,-1.3573100566864014,-0.8990484476089478,-0.8871739506721497,-1.2554113864898682,0.0,0.0,0.0,0.0,0.0,0.0,0.0,0.0,0.0,0.0,0.0,0.0,0.0,0.0,0.0,0.0,0.0,0.0,0.0,0.0,0.0],[-0.6303195357322693,-3.727498769760132,-3.5668697357177734,-3.6678824424743652,-3.754868984222412,-3.6190736293792725,-3.2816848754882812,-2.8652029037475586,-2.627772808074951,-2.5216667652130127,-2.334772825241089,-1.8607934713363647,-1.2448804378509521,-0.7970439791679382,-0.8243908286094666,-1.0945236682891846,0.0,0.0,0.0,0.0,0.0,0.0,0.0,0.0,0.0,0.0,0.0,0.0,0.0,0.0,0.0,0.0,0.0,0.0,0.0,0.0],[-0.7145106196403503,-4.029785633087158,-3.759735584259033,-3.5589823722839355,-3.5538814067840576,-3.608088970184326,-3.592478036880493,-3.297805070877075,-2.886850118637085,-2.564296245574951,-2.4073126316070557,-2.1907761096954346,-1.7738112211227417,-1.1911962032318115,-0.7790477275848389,-0.7020472884178162,-1.1377170085906982,0.0,0.0,0.0,0.0,0.0,0.0,0.0,0.0,0.0,0.0,0.0,0.0,0.0,0.0,0.0,0.0,0.0,0.0,0.0],[-0.604952871799469,-4.228127479553223,-4.143254280090332,-3.8573601245880127,-3.5629775524139404,-3.4075253009796143,-3.5044353008270264,-3.5058369636535645,-3.2608888149261475,-2.835571527481079,-2.4938266277313232,-2.2472071647644043,-2.037339687347412,-1.6776114702224731,-1.144681692123413,-0.6558020114898682,-0.6839936375617981,-1.0331333875656128,0.0,0.0,0.0,0.0,0.0,0.0,0.0,0.0,0.0,0.0,0.0,0.0,0.0,0.0,0.0,0.0,0.0,0.0],[-0.580025315284729,-4.183859825134277,-4.201878547668457,-4.148102283477783,-3.8723597526550293,-3.48922061920166,-3.360461711883545,-3.4080047607421875,-3.4402172565460205,-3.2445807456970215,-2.9002504348754883,-2.502842664718628,-2.2344377040863037,-2.0391838550567627,-1.6797842979431152,-1.0835469961166382,-0.6734546422958374,-0.603699266910553,-1.0124197006225586,0.0,0.0,0.0,0.0,0.0,0.0,0.0,0.0,0.0,0.0,0.0,0.0,0.0,0.0,0.0,0.0,0.0],[-0.4338186979293823,-3.964545488357544,-3.8814711570739746,-4.086432933807373,-4.0985798835754395,-3.7789719104766846,-3.4129018783569336,-3.195298194885254,-3.2144784927368164,-3.28556752204895,-3.172037363052368,-2.7951722145080566,-2.3639519214630127,-2.0935370922088623,-1.877774953842163,-1.4663125276565552,-0.9813382029533386,-0.4770253002643585,-0.5062363743782043,-0.8923365473747253,0.0,0.0,0.0,0.0,0.0,0.0,0.0,0.0,0.0,0.0,0.0,0.0,0.0,0.0,0.0,0.0],[-0.3577679693698883,-3.9784069061279297,-3.7005207538604736,-3.798815965652466,-4.010501861572266,-4.012336730957031,-3.814859390258789,-3.449031352996826,-3.1333606243133545,-3.1044671535491943,-3.1858747005462646,-3.1046595573425293,-2.779076337814331,-2.4092490673065186,-2.0578808784484863,-1.753799557685852,-1.445785403251648,-0.8459063768386841,-0.40817293524742126,-0.36690813302993774,-0.7710229754447937,0.0,0.0,0.0,0.0,0.0,0.0,0.0,0.0,0.0,0.0,0.0,0.0,0.0,0.0,0.0],[-0.26530465483665466,-4.130325794219971,-3.861694574356079,-3.6968801021575928,-3.707378387451172,-3.8147366046905518,-3.9994161128997803,-3.910677433013916,-3.4727768898010254,-3.080717086791992,-2.9617972373962402,-3.017207622528076,-3.0258281230926514,-2.870077133178711,-2.4042768478393555,-1.9574347734451294,-1.6805254220962524,-1.3002279996871948,-0.8030526638031006,-0.36239343881607056,-0.3283216655254364,-0.6452435851097107,0.0,0.0,0.0,0.0,0.0,0.0,0.0,0.0,0.0,0.0,0.0,0.0,0.0,0.0],[-0.25950515270233154,-4.149123191833496,-4.058508396148682,-3.9089419841766357,-3.661006450653076,-3.521244525909424,-3.7670388221740723,-4.0028910636901855,-3.842982769012451,-3.3737263679504395,-2.960716724395752,-2.7809038162231445,-2.8898470401763916,-3.063772439956665,-2.8271522521972656,-2.3287768363952637,-1.878986120223999,-1.547642469406128,-1.2000670433044434,-0.7205301523208618,-0.24170240759849548,-0.14897596836090088,-0.5698962211608887,0.0,0.0,0.0,0.0,0.0,0.0,0.0,0.0,0.0,0.0,0.0,0.0,0.0],[-0.28368687629699707,-4.067948341369629,-4.063281536102295,-4.1978535652160645,-4.003479480743408,-3.6347432136535645,-3.561905860900879,-3.757091760635376,-3.929753065109253,-3.757045269012451,-3.3389809131622314,-2.8492655754089355,-2.6804039478302,-2.912601947784424,-3.0549426078796387,-2.8110008239746094,-2.3141393661499023,-1.7988194227218628,-1.487668514251709,-1.1972689628601074,-0.6637519001960754,-0.13190768659114838,-0.14071448147296906,-0.5170092582702637,0.0,0.0,0.0,0.0,0.0,0.0,0.0,0.0,0.0,0.0,0.0,0.0],[-0.23958079516887665,-3.940394163131714,-3.7787322998046875,-4.037896156311035,-4.143019199371338,-3.8962817192077637,-3.599248170852661,-3.4450626373291016,-3.5471839904785156,-3.6504509449005127,-3.550230026245117,-3.077657699584961,-2.587249279022217,-2.471505641937256,-2.687189817428589,-2.818817615509033,-2.6523663997650146,-2.080735206604004,-1.59100341796875,-1.3064061403274536,-0.991755485534668,-0.4146089553833008,0.05133722350001335,0.10912452638149261,-0.3908841609954834,0.0,0.0,0.0,0.0,0.0,0.0,0.0,0.0,0.0,0.0,0.0],[-0.30164140462875366,-4.248318672180176,-3.817333221435547,-3.819535732269287,-4.004712104797363,-4.059844493865967,-3.9926846027374268,-3.7424659729003906,-3.535714626312256,-3.4907402992248535,-3.574516773223877,-3.427366018295288,-3.016672134399414,-2.638188123703003,-2.537524938583374,-2.6962249279022217,-2.8841888904571533,-2.635840654373169,-2.1046829223632812,-1.5890370607376099,-1.2812238931655884,-0.9177075028419495,-0.4120062291622162,0.10594866424798965,0.06458445638418198,-0.36066341400146484,0.0,0.0,0.0,0.0,0.0,0.0,0.0,0.0,0.0,0.0],[-0.0881374254822731,-4.4921650886535645,-4.082828521728516,-3.8239290714263916,-3.7549426555633545,-3.853508949279785,-4.11069917678833,-4.114483833312988,-3.857125997543335,-3.4994447231292725,-3.4051477909088135,-3.3925864696502686,-3.2480461597442627,-2.943120241165161,-2.581533908843994,-2.4461398124694824,-2.65663480758667,-2.8114006519317627,-2.576322317123413,-1.994263768196106,-1.4587223529815674,-1.1495240926742554,-0.8782626390457153,-0.2850612699985504,0.16625095903873444,0.15766748785972595,-0.2631201148033142,0.0,0.0,0.0,0.0,0.0,0.0,0.0,0.0,0.0],[-0.19687442481517792,-4.654887676239014,-4.487695217132568,-4.257263660430908,-3.921596050262451,-3.718696355819702,-3.977731704711914,-4.280972957611084,-4.351167678833008,-3.9789469242095947,-3.6386396884918213,-3.4247055053710938,-3.356039524078369,-3.271723747253418,-2.9511494636535645,-2.5269992351531982,-2.3909826278686523,-2.6003291606903076,-2.7759482860565186,-2.5059382915496826,-1.8603184223175049,-1.3424042463302612,-1.1819636821746826,-0.8415657877922058,-0.28871574997901917,0.2162495255470276,0.21653993427753448,-0.2506996691226959,0.0,0.0,0.0,0.0,0.0,0.0,0.0,0.0],[-0.15877306461334229,-4.395187854766846,-4.327332019805908,-4.462498664855957,-4.221238613128662,-3.777440071105957,-3.6771414279937744,-3.9150137901306152,-4.330204010009766,-4.364260196685791,-4.095587253570557,-3.631357431411743,-3.2967708110809326,-3.214348316192627,-3.1389949321746826,-2.7666544914245605,-2.3583648204803467,-2.234528064727783,-2.5066685676574707,-2.6893763542175293,-2.3190901279449463,-1.6116666793823242,-1.2260546684265137,-1.0340666770935059,-0.7763903737068176,-0.18597659468650818,0.35282114148139954,0.3618370294570923,-0.15253683924674988,0.0,0.0,0.0,0.0,0.0,0.0,0.0],[-0.08631277084350586,-4.093958854675293,-3.7807514667510986,-4.1194748878479,-4.250622272491455,-3.9829115867614746,-3.6689200401306152,-3.5793519020080566,-3.953334093093872,-4.358898162841797,-4.499107837677002,-4.176479816436768,-3.6140005588531494,-3.24839448928833,-3.172112464904785,-2.984567403793335,-2.640108585357666,-2.1986985206604004,-2.186446189880371,-2.494739055633545,-2.5714809894561768,-2.0638582706451416,-1.4512900114059448,-1.07173490524292,-0.9774530529975891,-0.6960206031799316,-0.030784647911787033,0.5329784154891968,0.47193101048469543,-0.03060263767838478,0.0,0.0,0.0,0.0,0.0,0.0],[-0.07556440681219101,-4.214567184448242,-3.613304615020752,-3.7211790084838867,-3.987210988998413,-4.065509796142578,-3.9405508041381836,-3.6831114292144775,-3.6732900142669678,-3.9895923137664795,-4.425711154937744,-4.569323539733887,-4.207025051116943,-3.675947666168213,-3.2922279834747314,-3.0749013423919678,-2.925651788711548,-2.5026700496673584,-2.188214063644409,-2.2148468494415283,-2.456631660461426,-2.392374277114868,-1.9535316228866577,-1.350593090057373,-1.036446452140808,-0.9424496293067932,-0.5636948943138123,0.09316035360097885,0.5696008205413818,0.5306420922279358,0.07106871157884598,0.0,0.0,0.0,0.0,0.0],[-0.08357798308134079,-4.327025890350342,-3.7278988361358643,-3.4988033771514893,-3.5160281658172607,-3.6697282791137695,-3.8980653285980225,-3.8725688457489014,-3.672135591506958,-3.6390888690948486,-3.9733924865722656,-4.419558525085449,-4.5407867431640625,-4.270805835723877,-3.6927566528320312,-3.2164673805236816,-2.994428873062134,-2.7561845779418945,-2.437798261642456,-2.1821069717407227,-2.1897711753845215,-2.334886074066162,-2.3535006046295166,-1.8994826078414917,-1.3284474611282349,-1.0136699676513672,-0.828732967376709,-0.4387463331222534,0.15717476606369019,0.641785740852356,0.6432328224182129,0.23357248306274414,0.0,0.0,0.0,0.0],[-0.08138208091259003,-4.557291030883789,-4.183806896209717,-3.941457986831665,-3.615355968475342,-3.444934844970703,-3.68751859664917,-3.9364075660705566,-3.9301669597625732,-3.7333719730377197,-3.762025833129883,-4.082998752593994,-4.498068332672119,-4.734214782714844,-4.384740352630615,-3.7498490810394287,-3.2209441661834717,-2.9476394653320312,-2.793757677078247,-2.5600850582122803,-2.241992712020874,-2.1806678771972656,-2.45479416847229,-2.43023943901062,-1.965438723564148,-1.3272690773010254,-0.9791175127029419,-0.7726789712905884,-0.4605593681335449,0.11476199328899384,0.6528075933456421,0.7081802487373352,0.1803235411643982,0.0,0.0,0.0],[-0.04075872153043747,-4.425084590911865,-4.206969738006592,-4.309131145477295,-3.9877240657806396,-3.535524606704712,-3.43009877204895,-3.579554557800293,-3.76246976852417,-3.7279984951019287,-3.6378281116485596,-3.6773338317871094,-3.9820454120635986,-4.514271259307861,-4.65225076675415,-4.280167102813721,-3.6202683448791504,-3.064392328262329,-2.876682996749878,-2.8215441703796387,-2.4994547367095947,-2.164044141769409,-2.291020154953003,-2.5434131622314453,-2.5139684677124023,-1.910618543624878,-1.2812031507492065,-0.8846157789230347,-0.7420080304145813,-0.41479647159576416,0.23443254828453064,0.7937798500061035,0.7137075662612915,0.2209470570087433,0.0,0.0],[0.04850802198052406,-4.165891170501709,-3.864253044128418,-4.253209590911865,-4.2353973388671875,-3.863718271255493,-3.4800972938537598,-3.2880547046661377,-3.379106044769287,-3.5302090644836426,-3.5699574947357178,-3.5018436908721924,-3.5385894775390625,-3.9490950107574463,-4.381171226501465,-4.478184700012207,-4.065901279449463,-3.3285396099090576,-2.8675363063812256,-2.7966251373291016,-2.6254143714904785,-2.2278285026550293,-2.0340538024902344,-2.164682149887085,-2.4564695358276367,-2.2696876525878906,-1.6950055360794067,-1.075549602508545,-0.7894655466079712,-0.6436408162117004,-0.2649419605731964,0.41831648349761963,0.8582022190093994,0.8046460747718811,0.3368243873119354,0.0],[0.04881332069635391,-4.21460485458374,-3.695295810699463,-4.0155110359191895,-4.233746528625488,-4.208616256713867,-3.96233868598938,-3.5754048824310303,-3.3533668518066406,-3.3802006244659424,-3.5281882286071777,-3.597830295562744,-3.555915594100952,-3.709233045578003,-4.039672374725342,-4.394927978515625,-4.451061248779297,-3.9120826721191406,-3.260457992553711,-2.891711473464966,-2.715444564819336,-2.465618133544922,-2.152841806411743,-1.9544486999511719,-2.1389057636260986,-2.282907485961914,-2.0998363494873047,-1.5798594951629639,-1.0405616760253906,-0.7386305928230286,-0.5603350400924683,-0.11072234064340591,0.4501284062862396,0.9091789126396179,0.862603485584259,0.47834208607673645]],\"type\":\"heatmap\",\"xaxis\":\"x\",\"yaxis\":\"y\",\"hovertemplate\":\"x: %{x}<br>y: %{y}<br>color: %{z}<extra></extra>\"}],                        {\"template\":{\"data\":{\"bar\":[{\"error_x\":{\"color\":\"#2a3f5f\"},\"error_y\":{\"color\":\"#2a3f5f\"},\"marker\":{\"line\":{\"color\":\"#E5ECF6\",\"width\":0.5},\"pattern\":{\"fillmode\":\"overlay\",\"size\":10,\"solidity\":0.2}},\"type\":\"bar\"}],\"barpolar\":[{\"marker\":{\"line\":{\"color\":\"#E5ECF6\",\"width\":0.5},\"pattern\":{\"fillmode\":\"overlay\",\"size\":10,\"solidity\":0.2}},\"type\":\"barpolar\"}],\"carpet\":[{\"aaxis\":{\"endlinecolor\":\"#2a3f5f\",\"gridcolor\":\"white\",\"linecolor\":\"white\",\"minorgridcolor\":\"white\",\"startlinecolor\":\"#2a3f5f\"},\"baxis\":{\"endlinecolor\":\"#2a3f5f\",\"gridcolor\":\"white\",\"linecolor\":\"white\",\"minorgridcolor\":\"white\",\"startlinecolor\":\"#2a3f5f\"},\"type\":\"carpet\"}],\"choropleth\":[{\"colorbar\":{\"outlinewidth\":0,\"ticks\":\"\"},\"type\":\"choropleth\"}],\"contour\":[{\"colorbar\":{\"outlinewidth\":0,\"ticks\":\"\"},\"colorscale\":[[0.0,\"#0d0887\"],[0.1111111111111111,\"#46039f\"],[0.2222222222222222,\"#7201a8\"],[0.3333333333333333,\"#9c179e\"],[0.4444444444444444,\"#bd3786\"],[0.5555555555555556,\"#d8576b\"],[0.6666666666666666,\"#ed7953\"],[0.7777777777777778,\"#fb9f3a\"],[0.8888888888888888,\"#fdca26\"],[1.0,\"#f0f921\"]],\"type\":\"contour\"}],\"contourcarpet\":[{\"colorbar\":{\"outlinewidth\":0,\"ticks\":\"\"},\"type\":\"contourcarpet\"}],\"heatmap\":[{\"colorbar\":{\"outlinewidth\":0,\"ticks\":\"\"},\"colorscale\":[[0.0,\"#0d0887\"],[0.1111111111111111,\"#46039f\"],[0.2222222222222222,\"#7201a8\"],[0.3333333333333333,\"#9c179e\"],[0.4444444444444444,\"#bd3786\"],[0.5555555555555556,\"#d8576b\"],[0.6666666666666666,\"#ed7953\"],[0.7777777777777778,\"#fb9f3a\"],[0.8888888888888888,\"#fdca26\"],[1.0,\"#f0f921\"]],\"type\":\"heatmap\"}],\"heatmapgl\":[{\"colorbar\":{\"outlinewidth\":0,\"ticks\":\"\"},\"colorscale\":[[0.0,\"#0d0887\"],[0.1111111111111111,\"#46039f\"],[0.2222222222222222,\"#7201a8\"],[0.3333333333333333,\"#9c179e\"],[0.4444444444444444,\"#bd3786\"],[0.5555555555555556,\"#d8576b\"],[0.6666666666666666,\"#ed7953\"],[0.7777777777777778,\"#fb9f3a\"],[0.8888888888888888,\"#fdca26\"],[1.0,\"#f0f921\"]],\"type\":\"heatmapgl\"}],\"histogram\":[{\"marker\":{\"pattern\":{\"fillmode\":\"overlay\",\"size\":10,\"solidity\":0.2}},\"type\":\"histogram\"}],\"histogram2d\":[{\"colorbar\":{\"outlinewidth\":0,\"ticks\":\"\"},\"colorscale\":[[0.0,\"#0d0887\"],[0.1111111111111111,\"#46039f\"],[0.2222222222222222,\"#7201a8\"],[0.3333333333333333,\"#9c179e\"],[0.4444444444444444,\"#bd3786\"],[0.5555555555555556,\"#d8576b\"],[0.6666666666666666,\"#ed7953\"],[0.7777777777777778,\"#fb9f3a\"],[0.8888888888888888,\"#fdca26\"],[1.0,\"#f0f921\"]],\"type\":\"histogram2d\"}],\"histogram2dcontour\":[{\"colorbar\":{\"outlinewidth\":0,\"ticks\":\"\"},\"colorscale\":[[0.0,\"#0d0887\"],[0.1111111111111111,\"#46039f\"],[0.2222222222222222,\"#7201a8\"],[0.3333333333333333,\"#9c179e\"],[0.4444444444444444,\"#bd3786\"],[0.5555555555555556,\"#d8576b\"],[0.6666666666666666,\"#ed7953\"],[0.7777777777777778,\"#fb9f3a\"],[0.8888888888888888,\"#fdca26\"],[1.0,\"#f0f921\"]],\"type\":\"histogram2dcontour\"}],\"mesh3d\":[{\"colorbar\":{\"outlinewidth\":0,\"ticks\":\"\"},\"type\":\"mesh3d\"}],\"parcoords\":[{\"line\":{\"colorbar\":{\"outlinewidth\":0,\"ticks\":\"\"}},\"type\":\"parcoords\"}],\"pie\":[{\"automargin\":true,\"type\":\"pie\"}],\"scatter\":[{\"marker\":{\"colorbar\":{\"outlinewidth\":0,\"ticks\":\"\"}},\"type\":\"scatter\"}],\"scatter3d\":[{\"line\":{\"colorbar\":{\"outlinewidth\":0,\"ticks\":\"\"}},\"marker\":{\"colorbar\":{\"outlinewidth\":0,\"ticks\":\"\"}},\"type\":\"scatter3d\"}],\"scattercarpet\":[{\"marker\":{\"colorbar\":{\"outlinewidth\":0,\"ticks\":\"\"}},\"type\":\"scattercarpet\"}],\"scattergeo\":[{\"marker\":{\"colorbar\":{\"outlinewidth\":0,\"ticks\":\"\"}},\"type\":\"scattergeo\"}],\"scattergl\":[{\"marker\":{\"colorbar\":{\"outlinewidth\":0,\"ticks\":\"\"}},\"type\":\"scattergl\"}],\"scattermapbox\":[{\"marker\":{\"colorbar\":{\"outlinewidth\":0,\"ticks\":\"\"}},\"type\":\"scattermapbox\"}],\"scatterpolar\":[{\"marker\":{\"colorbar\":{\"outlinewidth\":0,\"ticks\":\"\"}},\"type\":\"scatterpolar\"}],\"scatterpolargl\":[{\"marker\":{\"colorbar\":{\"outlinewidth\":0,\"ticks\":\"\"}},\"type\":\"scatterpolargl\"}],\"scatterternary\":[{\"marker\":{\"colorbar\":{\"outlinewidth\":0,\"ticks\":\"\"}},\"type\":\"scatterternary\"}],\"surface\":[{\"colorbar\":{\"outlinewidth\":0,\"ticks\":\"\"},\"colorscale\":[[0.0,\"#0d0887\"],[0.1111111111111111,\"#46039f\"],[0.2222222222222222,\"#7201a8\"],[0.3333333333333333,\"#9c179e\"],[0.4444444444444444,\"#bd3786\"],[0.5555555555555556,\"#d8576b\"],[0.6666666666666666,\"#ed7953\"],[0.7777777777777778,\"#fb9f3a\"],[0.8888888888888888,\"#fdca26\"],[1.0,\"#f0f921\"]],\"type\":\"surface\"}],\"table\":[{\"cells\":{\"fill\":{\"color\":\"#EBF0F8\"},\"line\":{\"color\":\"white\"}},\"header\":{\"fill\":{\"color\":\"#C8D4E3\"},\"line\":{\"color\":\"white\"}},\"type\":\"table\"}]},\"layout\":{\"annotationdefaults\":{\"arrowcolor\":\"#2a3f5f\",\"arrowhead\":0,\"arrowwidth\":1},\"autotypenumbers\":\"strict\",\"coloraxis\":{\"colorbar\":{\"outlinewidth\":0,\"ticks\":\"\"}},\"colorscale\":{\"diverging\":[[0,\"#8e0152\"],[0.1,\"#c51b7d\"],[0.2,\"#de77ae\"],[0.3,\"#f1b6da\"],[0.4,\"#fde0ef\"],[0.5,\"#f7f7f7\"],[0.6,\"#e6f5d0\"],[0.7,\"#b8e186\"],[0.8,\"#7fbc41\"],[0.9,\"#4d9221\"],[1,\"#276419\"]],\"sequential\":[[0.0,\"#0d0887\"],[0.1111111111111111,\"#46039f\"],[0.2222222222222222,\"#7201a8\"],[0.3333333333333333,\"#9c179e\"],[0.4444444444444444,\"#bd3786\"],[0.5555555555555556,\"#d8576b\"],[0.6666666666666666,\"#ed7953\"],[0.7777777777777778,\"#fb9f3a\"],[0.8888888888888888,\"#fdca26\"],[1.0,\"#f0f921\"]],\"sequentialminus\":[[0.0,\"#0d0887\"],[0.1111111111111111,\"#46039f\"],[0.2222222222222222,\"#7201a8\"],[0.3333333333333333,\"#9c179e\"],[0.4444444444444444,\"#bd3786\"],[0.5555555555555556,\"#d8576b\"],[0.6666666666666666,\"#ed7953\"],[0.7777777777777778,\"#fb9f3a\"],[0.8888888888888888,\"#fdca26\"],[1.0,\"#f0f921\"]]},\"colorway\":[\"#636efa\",\"#EF553B\",\"#00cc96\",\"#ab63fa\",\"#FFA15A\",\"#19d3f3\",\"#FF6692\",\"#B6E880\",\"#FF97FF\",\"#FECB52\"],\"font\":{\"color\":\"#2a3f5f\"},\"geo\":{\"bgcolor\":\"white\",\"lakecolor\":\"white\",\"landcolor\":\"#E5ECF6\",\"showlakes\":true,\"showland\":true,\"subunitcolor\":\"white\"},\"hoverlabel\":{\"align\":\"left\"},\"hovermode\":\"closest\",\"mapbox\":{\"style\":\"light\"},\"paper_bgcolor\":\"white\",\"plot_bgcolor\":\"#E5ECF6\",\"polar\":{\"angularaxis\":{\"gridcolor\":\"white\",\"linecolor\":\"white\",\"ticks\":\"\"},\"bgcolor\":\"#E5ECF6\",\"radialaxis\":{\"gridcolor\":\"white\",\"linecolor\":\"white\",\"ticks\":\"\"}},\"scene\":{\"xaxis\":{\"backgroundcolor\":\"#E5ECF6\",\"gridcolor\":\"white\",\"gridwidth\":2,\"linecolor\":\"white\",\"showbackground\":true,\"ticks\":\"\",\"zerolinecolor\":\"white\"},\"yaxis\":{\"backgroundcolor\":\"#E5ECF6\",\"gridcolor\":\"white\",\"gridwidth\":2,\"linecolor\":\"white\",\"showbackground\":true,\"ticks\":\"\",\"zerolinecolor\":\"white\"},\"zaxis\":{\"backgroundcolor\":\"#E5ECF6\",\"gridcolor\":\"white\",\"gridwidth\":2,\"linecolor\":\"white\",\"showbackground\":true,\"ticks\":\"\",\"zerolinecolor\":\"white\"}},\"shapedefaults\":{\"line\":{\"color\":\"#2a3f5f\"}},\"ternary\":{\"aaxis\":{\"gridcolor\":\"white\",\"linecolor\":\"white\",\"ticks\":\"\"},\"baxis\":{\"gridcolor\":\"white\",\"linecolor\":\"white\",\"ticks\":\"\"},\"bgcolor\":\"#E5ECF6\",\"caxis\":{\"gridcolor\":\"white\",\"linecolor\":\"white\",\"ticks\":\"\"}},\"title\":{\"x\":0.05},\"xaxis\":{\"automargin\":true,\"gridcolor\":\"white\",\"linecolor\":\"white\",\"ticks\":\"\",\"title\":{\"standoff\":15},\"zerolinecolor\":\"white\",\"zerolinewidth\":2},\"yaxis\":{\"automargin\":true,\"gridcolor\":\"white\",\"linecolor\":\"white\",\"ticks\":\"\",\"title\":{\"standoff\":15},\"zerolinecolor\":\"white\",\"zerolinewidth\":2}}},\"xaxis\":{\"anchor\":\"y\",\"domain\":[0.0,1.0],\"scaleanchor\":\"y\",\"constrain\":\"domain\"},\"yaxis\":{\"anchor\":\"x\",\"domain\":[0.0,1.0],\"autorange\":\"reversed\",\"constrain\":\"domain\"},\"coloraxis\":{\"colorscale\":[[0.0,\"#0d0887\"],[0.1111111111111111,\"#46039f\"],[0.2222222222222222,\"#7201a8\"],[0.3333333333333333,\"#9c179e\"],[0.4444444444444444,\"#bd3786\"],[0.5555555555555556,\"#d8576b\"],[0.6666666666666666,\"#ed7953\"],[0.7777777777777778,\"#fb9f3a\"],[0.8888888888888888,\"#fdca26\"],[1.0,\"#f0f921\"]]},\"margin\":{\"t\":60}},                        {\"responsive\": true}                    ).then(function(){\n",
       "                            \n",
       "var gd = document.getElementById('1d57356e-ccb9-418a-9411-7a81d0d183d7');\n",
       "var x = new MutationObserver(function (mutations, observer) {{\n",
       "        var display = window.getComputedStyle(gd).display;\n",
       "        if (!display || display === 'none') {{\n",
       "            console.log([gd, 'removed!']);\n",
       "            Plotly.purge(gd);\n",
       "            observer.disconnect();\n",
       "        }}\n",
       "}});\n",
       "\n",
       "// Listen for the removal of the full notebook cells\n",
       "var notebookContainer = gd.closest('#notebook-container');\n",
       "if (notebookContainer) {{\n",
       "    x.observe(notebookContainer, {childList: true});\n",
       "}}\n",
       "\n",
       "// Listen for the clearing of the current output cell\n",
       "var outputEl = gd.closest('.output');\n",
       "if (outputEl) {{\n",
       "    x.observe(outputEl, {childList: true});\n",
       "}}\n",
       "\n",
       "                        })                };                });            </script>        </div>"
      ]
     },
     "metadata": {},
     "output_type": "display_data"
    },
    {
     "data": {
      "application/vnd.plotly.v1+json": {
       "config": {
        "plotlyServerURL": "https://plot.ly"
       },
       "data": [
        {
         "coloraxis": "coloraxis",
         "hovertemplate": "x: %{x}<br>y: %{y}<br>color: %{z}<extra></extra>",
         "name": "0",
         "texttemplate": "%{z}",
         "type": "heatmap",
         "xaxis": "x",
         "yaxis": "y",
         "z": [
          [
           0.8495793342590332,
           0,
           0,
           0,
           0,
           0,
           0,
           0,
           0,
           0,
           0,
           0,
           0,
           0,
           0,
           0,
           0,
           0,
           0,
           0,
           0,
           0,
           0,
           0,
           0,
           0,
           0,
           0,
           0,
           0,
           0,
           0,
           0,
           0,
           0,
           0
          ],
          [
           0.6995081305503845,
           1.703378677368164,
           0,
           0,
           0,
           0,
           0,
           0,
           0,
           0,
           0,
           0,
           0,
           0,
           0,
           0,
           0,
           0,
           0,
           0,
           0,
           0,
           0,
           0,
           0,
           0,
           0,
           0,
           0,
           0,
           0,
           0,
           0,
           0,
           0,
           0
          ],
          [
           -2.3056905269622803,
           -0.5720207095146179,
           -0.12001483142375946,
           0,
           0,
           0,
           0,
           0,
           0,
           0,
           0,
           0,
           0,
           0,
           0,
           0,
           0,
           0,
           0,
           0,
           0,
           0,
           0,
           0,
           0,
           0,
           0,
           0,
           0,
           0,
           0,
           0,
           0,
           0,
           0,
           0
          ],
          [
           -4.038232803344727,
           -1.2665891647338867,
           -0.7070116996765137,
           -0.2482568323612213,
           0,
           0,
           0,
           0,
           0,
           0,
           0,
           0,
           0,
           0,
           0,
           0,
           0,
           0,
           0,
           0,
           0,
           0,
           0,
           0,
           0,
           0,
           0,
           0,
           0,
           0,
           0,
           0,
           0,
           0,
           0,
           0
          ],
          [
           -4.158666133880615,
           -1.8749397993087769,
           -1.1925115585327148,
           -0.5857670903205872,
           0.004591393284499645,
           0,
           0,
           0,
           0,
           0,
           0,
           0,
           0,
           0,
           0,
           0,
           0,
           0,
           0,
           0,
           0,
           0,
           0,
           0,
           0,
           0,
           0,
           0,
           0,
           0,
           0,
           0,
           0,
           0,
           0,
           0
          ],
          [
           -3.5074405670166016,
           -2.3818888664245605,
           -1.8470312356948853,
           -1.1838349103927612,
           -0.48664218187332153,
           0.07004627585411072,
           0,
           0,
           0,
           0,
           0,
           0,
           0,
           0,
           0,
           0,
           0,
           0,
           0,
           0,
           0,
           0,
           0,
           0,
           0,
           0,
           0,
           0,
           0,
           0,
           0,
           0,
           0,
           0,
           0,
           0
          ],
          [
           -3.2772743701934814,
           -3.029700517654419,
           -2.5810446739196777,
           -1.9324473142623901,
           -1.1545964479446411,
           -0.4440709054470062,
           0.0856281965970993,
           0,
           0,
           0,
           0,
           0,
           0,
           0,
           0,
           0,
           0,
           0,
           0,
           0,
           0,
           0,
           0,
           0,
           0,
           0,
           0,
           0,
           0,
           0,
           0,
           0,
           0,
           0,
           0,
           0
          ],
          [
           -2.998556137084961,
           -3.093799591064453,
           -2.760495662689209,
           -2.226616144180298,
           -1.4843378067016602,
           -0.7253643274307251,
           -0.06810355186462402,
           0.4980255961418152,
           0,
           0,
           0,
           0,
           0,
           0,
           0,
           0,
           0,
           0,
           0,
           0,
           0,
           0,
           0,
           0,
           0,
           0,
           0,
           0,
           0,
           0,
           0,
           0,
           0,
           0,
           0,
           0
          ],
          [
           -2.944098711013794,
           -3.23799204826355,
           -3.0590646266937256,
           -2.6649744510650635,
           -2.0104122161865234,
           -1.2667182683944702,
           -0.5371397733688354,
           0.2038930058479309,
           0.7940407991409302,
           0,
           0,
           0,
           0,
           0,
           0,
           0,
           0,
           0,
           0,
           0,
           0,
           0,
           0,
           0,
           0,
           0,
           0,
           0,
           0,
           0,
           0,
           0,
           0,
           0,
           0,
           0
          ],
          [
           -2.968414306640625,
           -3.3591740131378174,
           -3.2733187675476074,
           -3.067983865737915,
           -2.583357095718384,
           -1.9361803531646729,
           -1.2195295095443726,
           -0.381396621465683,
           0.4039228558540344,
           0.8895951509475708,
           0,
           0,
           0,
           0,
           0,
           0,
           0,
           0,
           0,
           0,
           0,
           0,
           0,
           0,
           0,
           0,
           0,
           0,
           0,
           0,
           0,
           0,
           0,
           0,
           0,
           0
          ],
          [
           -2.948746919631958,
           -3.426226854324341,
           -3.4055051803588867,
           -3.363945722579956,
           -3.0432844161987305,
           -2.56054425239563,
           -1.9434428215026855,
           -1.128404140472412,
           -0.2840869128704071,
           0.4015386402606964,
           0.985842764377594,
           0,
           0,
           0,
           0,
           0,
           0,
           0,
           0,
           0,
           0,
           0,
           0,
           0,
           0,
           0,
           0,
           0,
           0,
           0,
           0,
           0,
           0,
           0,
           0,
           0
          ],
          [
           -2.4836928844451904,
           -2.5434982776641846,
           -2.597417116165161,
           -2.6837103366851807,
           -2.525974988937378,
           -2.248770236968994,
           -1.8000130653381348,
           -1.107638955116272,
           -0.3055308163166046,
           0.4761233329772949,
           1.2929680347442627,
           1.8651162385940552,
           0,
           0,
           0,
           0,
           0,
           0,
           0,
           0,
           0,
           0,
           0,
           0,
           0,
           0,
           0,
           0,
           0,
           0,
           0,
           0,
           0,
           0,
           0,
           0
          ],
          [
           -2.430609703063965,
           -2.8169283866882324,
           -2.820577621459961,
           -2.9686062335968018,
           -2.9141764640808105,
           -2.77691650390625,
           -2.474156379699707,
           -1.9718432426452637,
           -1.2853224277496338,
           -0.5104699730873108,
           0.42836815118789673,
           1.2554364204406738,
           1.8188828229904175,
           0,
           0,
           0,
           0,
           0,
           0,
           0,
           0,
           0,
           0,
           0,
           0,
           0,
           0,
           0,
           0,
           0,
           0,
           0,
           0,
           0,
           0,
           0
          ],
          [
           -2.7806777954101562,
           -3.0655574798583984,
           -2.9782891273498535,
           -3.077279806137085,
           -3.087122917175293,
           -3.0197408199310303,
           -2.841660261154175,
           -2.530360698699951,
           -2.0598978996276855,
           -1.4295220375061035,
           -0.5122660994529724,
           0.45789602398872375,
           1.3102960586547852,
           1.823364019393921,
           0,
           0,
           0,
           0,
           0,
           0,
           0,
           0,
           0,
           0,
           0,
           0,
           0,
           0,
           0,
           0,
           0,
           0,
           0,
           0,
           0,
           0
          ],
          [
           -2.4555282592773438,
           -3.108339309692383,
           -2.9965620040893555,
           -3.0273613929748535,
           -3.065033197402954,
           -3.0621001720428467,
           -2.9820034503936768,
           -2.818250894546509,
           -2.516660451889038,
           -2.071027994155884,
           -1.3149487972259521,
           -0.42092880606651306,
           0.5458135604858398,
           1.318532109260559,
           1.7898913621902466,
           0,
           0,
           0,
           0,
           0,
           0,
           0,
           0,
           0,
           0,
           0,
           0,
           0,
           0,
           0,
           0,
           0,
           0,
           0,
           0,
           0
          ],
          [
           -2.383446455001831,
           -3.2133545875549316,
           -3.039883613586426,
           -2.9919745922088623,
           -3.0280792713165283,
           -3.0255095958709717,
           -3.0135419368743896,
           -2.965794801712036,
           -2.7869699001312256,
           -2.5404374599456787,
           -2.016958475112915,
           -1.2961444854736328,
           -0.35145220160484314,
           0.5901216864585876,
           1.3695838451385498,
           1.873801827430725,
           0,
           0,
           0,
           0,
           0,
           0,
           0,
           0,
           0,
           0,
           0,
           0,
           0,
           0,
           0,
           0,
           0,
           0,
           0,
           0
          ],
          [
           -2.3069405555725098,
           -3.1373093128204346,
           -2.9444754123687744,
           -2.8820793628692627,
           -2.9461941719055176,
           -2.9536020755767822,
           -2.988729238510132,
           -2.978501081466675,
           -2.801222324371338,
           -2.653717041015625,
           -2.3742775917053223,
           -1.9106903076171875,
           -1.1626840829849243,
           -0.2839380204677582,
           0.6773698925971985,
           1.5202444791793823,
           1.9913580417633057,
           0,
           0,
           0,
           0,
           0,
           0,
           0,
           0,
           0,
           0,
           0,
           0,
           0,
           0,
           0,
           0,
           0,
           0,
           0
          ],
          [
           -2.3476171493530273,
           -3.061825752258301,
           -2.9022440910339355,
           -2.861290216445923,
           -2.9635074138641357,
           -2.987847089767456,
           -3.055755138397217,
           -3.0385711193084717,
           -2.8132269382476807,
           -2.688103437423706,
           -2.5361340045928955,
           -2.3163793087005615,
           -1.8553978204727173,
           -1.2237391471862793,
           -0.24648667871952057,
           0.7401847243309021,
           1.5408340692520142,
           1.9931730031967163,
           0,
           0,
           0,
           0,
           0,
           0,
           0,
           0,
           0,
           0,
           0,
           0,
           0,
           0,
           0,
           0,
           0,
           0
          ],
          [
           -2.296971321105957,
           -2.9800593852996826,
           -2.7594618797302246,
           -2.7529070377349854,
           -2.912046194076538,
           -2.9707984924316406,
           -3.1156234741210938,
           -3.1272943019866943,
           -2.848679542541504,
           -2.6964147090911865,
           -2.5871055126190186,
           -2.5120601654052734,
           -2.3366260528564453,
           -2.0091657638549805,
           -1.2107058763504028,
           -0.2417193502187729,
           0.7638386487960815,
           1.6178430318832397,
           2.0545637607574463,
           0,
           0,
           0,
           0,
           0,
           0,
           0,
           0,
           0,
           0,
           0,
           0,
           0,
           0,
           0,
           0,
           0
          ],
          [
           -2.022848606109619,
           -2.909937858581543,
           -2.6489763259887695,
           -2.673945665359497,
           -2.866873264312744,
           -2.953648090362549,
           -3.1432058811187744,
           -3.2082409858703613,
           -2.9192380905151367,
           -2.7055554389953613,
           -2.5599660873413086,
           -2.5044374465942383,
           -2.4750938415527344,
           -2.40321683883667,
           -1.86089026927948,
           -1.0896369218826294,
           -0.1109469011425972,
           0.9172907471656799,
           1.7163331508636475,
           2.1928412914276123,
           0,
           0,
           0,
           0,
           0,
           0,
           0,
           0,
           0,
           0,
           0,
           0,
           0,
           0,
           0,
           0
          ],
          [
           -2.2311267852783203,
           -3.1033902168273926,
           -2.8018593788146973,
           -2.833686113357544,
           -3.0029428005218506,
           -3.110271692276001,
           -3.35015869140625,
           -3.4783031940460205,
           -3.2503855228424072,
           -3.01196026802063,
           -2.7839479446411133,
           -2.6359751224517822,
           -2.65462589263916,
           -2.7447659969329834,
           -2.4863109588623047,
           -2.0311715602874756,
           -1.259103775024414,
           -0.236572265625,
           0.8036751747131348,
           1.6184391975402832,
           2.1199028491973877,
           0,
           0,
           0,
           0,
           0,
           0,
           0,
           0,
           0,
           0,
           0,
           0,
           0,
           0,
           0
          ],
          [
           -1.7149537801742554,
           -2.8851494789123535,
           -2.508119583129883,
           -2.516914129257202,
           -2.681894063949585,
           -2.8059728145599365,
           -3.103132486343384,
           -3.34004282951355,
           -3.2706634998321533,
           -3.081514596939087,
           -2.817481279373169,
           -2.571376323699951,
           -2.509887218475342,
           -2.609020709991455,
           -2.5779170989990234,
           -2.4250166416168213,
           -1.9671136140823364,
           -1.1642946004867554,
           -0.11531160026788712,
           0.8864793181419373,
           1.769474983215332,
           2.24812912940979,
           0,
           0,
           0,
           0,
           0,
           0,
           0,
           0,
           0,
           0,
           0,
           0,
           0,
           0
          ],
          [
           -2.0603201389312744,
           -3.0394201278686523,
           -2.5751259326934814,
           -2.486525297164917,
           -2.567533254623413,
           -2.63458514213562,
           -2.911356210708618,
           -3.19388484954834,
           -3.262932538986206,
           -3.1559793949127197,
           -2.9035260677337646,
           -2.5566728115081787,
           -2.35672926902771,
           -2.360372304916382,
           -2.4610111713409424,
           -2.551475763320923,
           -2.4130070209503174,
           -1.9322527647018433,
           -1.068742036819458,
           -0.05314672365784645,
           1.0809406042099,
           1.9143874645233154,
           2.3746988773345947,
           0,
           0,
           0,
           0,
           0,
           0,
           0,
           0,
           0,
           0,
           0,
           0,
           0
          ],
          [
           -1.8191850185394287,
           -3.5661885738372803,
           -3.034031629562378,
           -2.8859007358551025,
           -2.8808343410491943,
           -2.8417627811431885,
           -3.0362164974212646,
           -3.2918105125427246,
           -3.4614169597625732,
           -3.438753604888916,
           -3.255366086959839,
           -2.8923842906951904,
           -2.5427117347717285,
           -2.3955860137939453,
           -2.4977009296417236,
           -2.691673755645752,
           -2.783017635345459,
           -2.6301398277282715,
           -2.1169886589050293,
           -1.2594274282455444,
           -0.09051883220672607,
           0.9614881277084351,
           1.7688970565795898,
           2.2959706783294678,
           0,
           0,
           0,
           0,
           0,
           0,
           0,
           0,
           0,
           0,
           0,
           0
          ],
          [
           -1.722077488899231,
           -3.614173173904419,
           -3.1059861183166504,
           -2.915342092514038,
           -2.866297721862793,
           -2.7268130779266357,
           -2.821664571762085,
           -3.0025475025177,
           -3.244910955429077,
           -3.3279478549957275,
           -3.26112699508667,
           -2.9613006114959717,
           -2.5446038246154785,
           -2.2335283756256104,
           -2.2270915508270264,
           -2.3922863006591797,
           -2.591496706008911,
           -2.683591604232788,
           -2.53489089012146,
           -1.9586220979690552,
           -0.9824446439743042,
           0.10674174129962921,
           1.1259393692016602,
           2.0045948028564453,
           2.532895088195801,
           0,
           0,
           0,
           0,
           0,
           0,
           0,
           0,
           0,
           0,
           0
          ],
          [
           -1.5152926445007324,
           -3.733534812927246,
           -3.2690579891204834,
           -3.125988721847534,
           -3.077181577682495,
           -2.913194179534912,
           -2.9458250999450684,
           -3.04274582862854,
           -3.2827534675598145,
           -3.417341709136963,
           -3.4537525177001953,
           -3.2531983852386475,
           -2.8321568965911865,
           -2.4255714416503906,
           -2.289775848388672,
           -2.334699869155884,
           -2.508692502975464,
           -2.706439733505249,
           -2.8241679668426514,
           -2.528538942337036,
           -1.8295704126358032,
           -0.8702986240386963,
           0.1541806310415268,
           1.2157602310180664,
           2.065518379211426,
           2.5472707748413086,
           0,
           0,
           0,
           0,
           0,
           0,
           0,
           0,
           0,
           0
          ],
          [
           -1.5140633583068848,
           -3.372591972351074,
           -2.9227797985076904,
           -2.819352388381958,
           -2.832282066345215,
           -2.7170779705047607,
           -2.7710835933685303,
           -2.826105833053589,
           -3.077810764312744,
           -3.278141736984253,
           -3.4323627948760986,
           -3.348532199859619,
           -2.9715864658355713,
           -2.5003788471221924,
           -2.2123844623565674,
           -2.0904901027679443,
           -2.165832757949829,
           -2.375074863433838,
           -2.7027595043182373,
           -2.693014621734619,
           -2.318349599838257,
           -1.5706710815429688,
           -0.6886270642280579,
           0.4032045304775238,
           1.449185848236084,
           2.201634168624878,
           2.7351009845733643,
           0,
           0,
           0,
           0,
           0,
           0,
           0,
           0,
           0
          ],
          [
           -1.6460833549499512,
           -3.2497165203094482,
           -2.819202423095703,
           -2.766958236694336,
           -2.826693296432495,
           -2.792384147644043,
           -2.8914291858673096,
           -2.9606196880340576,
           -3.190512180328369,
           -3.4572393894195557,
           -3.7406818866729736,
           -3.843933343887329,
           -3.603602170944214,
           -3.1703453063964844,
           -2.708157539367676,
           -2.3302395343780518,
           -2.155973434448242,
           -2.1971168518066406,
           -2.5335886478424072,
           -2.688136577606201,
           -2.6264431476593018,
           -2.176196813583374,
           -1.569517970085144,
           -0.6271011233329773,
           0.47377994656562805,
           1.4263006448745728,
           2.2583961486816406,
           2.8184139728546143,
           0,
           0,
           0,
           0,
           0,
           0,
           0,
           0
          ],
          [
           -1.5144678354263306,
           -3.15934157371521,
           -2.6695148944854736,
           -2.6597185134887695,
           -2.7377231121063232,
           -2.7430813312530518,
           -2.897216796875,
           -3.004690408706665,
           -3.21945858001709,
           -3.563552141189575,
           -3.9583916664123535,
           -4.260700702667236,
           -4.223094940185547,
           -3.913177490234375,
           -3.4034342765808105,
           -2.8571393489837646,
           -2.4389355182647705,
           -2.2365150451660156,
           -2.4182016849517822,
           -2.6016836166381836,
           -2.731177806854248,
           -2.541517496109009,
           -2.2363712787628174,
           -1.5517598390579224,
           -0.5839544534683228,
           0.39170050621032715,
           1.3670275211334229,
           2.2357678413391113,
           2.7445435523986816,
           0,
           0,
           0,
           0,
           0,
           0,
           0
          ],
          [
           -1.4833836555480957,
           -3.2690110206604004,
           -2.712733507156372,
           -2.6664717197418213,
           -2.655036449432373,
           -2.6359739303588867,
           -2.7861649990081787,
           -2.9264721870422363,
           -3.1151578426361084,
           -3.514176607131958,
           -4.029725074768066,
           -4.540318012237549,
           -4.756643772125244,
           -4.684055328369141,
           -4.239145755767822,
           -3.61399245262146,
           -3.002143621444702,
           -2.535447359085083,
           -2.46819806098938,
           -2.562115430831909,
           -2.7371459007263184,
           -2.736712694168091,
           -2.681091785430908,
           -2.287426233291626,
           -1.5316872596740723,
           -0.6525925397872925,
           0.32345375418663025,
           1.3771013021469116,
           2.191520929336548,
           2.67818021774292,
           0,
           0,
           0,
           0,
           0,
           0
          ],
          [
           -1.7154333591461182,
           -3.3179962635040283,
           -2.77077054977417,
           -2.690424680709839,
           -2.60942006111145,
           -2.5336899757385254,
           -2.601851224899292,
           -2.6619961261749268,
           -2.7294788360595703,
           -3.0805652141571045,
           -3.634023666381836,
           -4.306217670440674,
           -4.795867919921875,
           -5.051829814910889,
           -4.803951263427734,
           -4.27734899520874,
           -3.6084251403808594,
           -2.947415828704834,
           -2.6241567134857178,
           -2.55143141746521,
           -2.6906254291534424,
           -2.781402349472046,
           -2.9206740856170654,
           -2.7834041118621826,
           -2.258888006210327,
           -1.5096276998519897,
           -0.6206911206245422,
           0.4766160547733307,
           1.4761613607406616,
           2.263942241668701,
           2.7417385578155518,
           0,
           0,
           0,
           0,
           0
          ],
          [
           -1.502394199371338,
           -3.143073558807373,
           -2.6393136978149414,
           -2.6163876056671143,
           -2.506958246231079,
           -2.4214870929718018,
           -2.4248626232147217,
           -2.3810317516326904,
           -2.30199933052063,
           -2.5202863216400146,
           -2.976797580718994,
           -3.6824774742126465,
           -4.380494594573975,
           -4.980834007263184,
           -5.049351215362549,
           -4.800390243530273,
           -4.236471652984619,
           -3.477644681930542,
           -2.9161298274993896,
           -2.6221094131469727,
           -2.596271276473999,
           -2.6585731506347656,
           -2.901749849319458,
           -2.995199203491211,
           -2.7434580326080322,
           -2.2018942832946777,
           -1.4926286935806274,
           -0.4842144846916199,
           0.5869829654693604,
           1.5766304731369019,
           2.375214099884033,
           2.9352238178253174,
           0,
           0,
           0,
           0
          ],
          [
           -1.2334870100021362,
           -2.696345806121826,
           -2.298909902572632,
           -2.359487771987915,
           -2.236156463623047,
           -2.134049892425537,
           -2.0530574321746826,
           -1.8928308486938477,
           -1.6783573627471924,
           -1.721463918685913,
           -1.989464521408081,
           -2.570397138595581,
           -3.3240792751312256,
           -4.141735076904297,
           -4.565332412719727,
           -4.714155673980713,
           -4.427943706512451,
           -3.7696564197540283,
           -3.1017653942108154,
           -2.634517192840576,
           -2.3756113052368164,
           -2.3054661750793457,
           -2.494152784347534,
           -2.70312762260437,
           -2.6772520542144775,
           -2.3611621856689453,
           -1.9097821712493896,
           -1.1562771797180176,
           -0.20440484583377838,
           0.7901794910430908,
           1.7565851211547852,
           2.6708178520202637,
           3.030247926712036,
           0,
           0,
           0
          ],
          [
           -1.4874321222305298,
           -3.3276145458221436,
           -2.975951671600342,
           -3.1841633319854736,
           -3.121164321899414,
           -3.066856861114502,
           -2.9538514614105225,
           -2.684218406677246,
           -2.3331618309020996,
           -2.1265363693237305,
           -2.0581722259521484,
           -2.3410685062408447,
           -2.936265230178833,
           -3.7976505756378174,
           -4.472593784332275,
           -4.997405529022217,
           -5.083327770233154,
           -4.663215637207031,
           -4.077389240264893,
           -3.502437114715576,
           -3.047605037689209,
           -2.7893922328948975,
           -2.8792388439178467,
           -3.096501111984253,
           -3.205927848815918,
           -3.0410311222076416,
           -2.792703151702881,
           -2.2974860668182373,
           -1.5389783382415771,
           -0.669712245464325,
           0.30066901445388794,
           1.4395959377288818,
           2.150017023086548,
           2.717860221862793,
           0,
           0
          ],
          [
           -1.4103164672851562,
           -2.804145574569702,
           -2.47690486907959,
           -2.798912525177002,
           -2.7976675033569336,
           -2.8631675243377686,
           -2.8006997108459473,
           -2.5896835327148438,
           -2.2642035484313965,
           -1.9608794450759888,
           -1.6299376487731934,
           -1.5942394733428955,
           -1.91738760471344,
           -2.634827136993408,
           -3.4211432933807373,
           -4.210272789001465,
           -4.651938438415527,
           -4.582841873168945,
           -4.198189735412598,
           -3.636979103088379,
           -2.998920202255249,
           -2.504380702972412,
           -2.3511359691619873,
           -2.447173595428467,
           -2.560887336730957,
           -2.500147581100464,
           -2.4090638160705566,
           -2.177328109741211,
           -1.6915078163146973,
           -1.0734872817993164,
           -0.2819916307926178,
           0.8535888195037842,
           1.7441426515579224,
           2.6831088066101074,
           3.208411693572998,
           0
          ],
          [
           -1.3609193563461304,
           -2.887648820877075,
           -2.5414745807647705,
           -2.8732216358184814,
           -2.934575080871582,
           -3.0795950889587402,
           -3.1176576614379883,
           -3.0117805004119873,
           -2.824721097946167,
           -2.540996551513672,
           -2.0878658294677734,
           -1.7936235666275024,
           -1.778393030166626,
           -2.1911849975585938,
           -2.8990726470947266,
           -3.757925271987915,
           -4.4885053634643555,
           -4.784684181213379,
           -4.724685192108154,
           -4.308489799499512,
           -3.6315507888793945,
           -2.946457862854004,
           -2.5388453006744385,
           -2.4336657524108887,
           -2.438166379928589,
           -2.3926117420196533,
           -2.374089479446411,
           -2.3463220596313477,
           -2.1028099060058594,
           -1.748703122138977,
           -1.2225593328475952,
           -0.22720004618167877,
           0.6774601340293884,
           1.824565052986145,
           2.6941659450531006,
           3.241452693939209
          ]
         ]
        }
       ],
       "layout": {
        "autosize": true,
        "coloraxis": {
         "colorscale": [
          [
           0,
           "#0d0887"
          ],
          [
           0.1111111111111111,
           "#46039f"
          ],
          [
           0.2222222222222222,
           "#7201a8"
          ],
          [
           0.3333333333333333,
           "#9c179e"
          ],
          [
           0.4444444444444444,
           "#bd3786"
          ],
          [
           0.5555555555555556,
           "#d8576b"
          ],
          [
           0.6666666666666666,
           "#ed7953"
          ],
          [
           0.7777777777777778,
           "#fb9f3a"
          ],
          [
           0.8888888888888888,
           "#fdca26"
          ],
          [
           1,
           "#f0f921"
          ]
         ]
        },
        "margin": {
         "t": 60
        },
        "template": {
         "data": {
          "bar": [
           {
            "error_x": {
             "color": "#2a3f5f"
            },
            "error_y": {
             "color": "#2a3f5f"
            },
            "marker": {
             "line": {
              "color": "#E5ECF6",
              "width": 0.5
             },
             "pattern": {
              "fillmode": "overlay",
              "size": 10,
              "solidity": 0.2
             }
            },
            "type": "bar"
           }
          ],
          "barpolar": [
           {
            "marker": {
             "line": {
              "color": "#E5ECF6",
              "width": 0.5
             },
             "pattern": {
              "fillmode": "overlay",
              "size": 10,
              "solidity": 0.2
             }
            },
            "type": "barpolar"
           }
          ],
          "carpet": [
           {
            "aaxis": {
             "endlinecolor": "#2a3f5f",
             "gridcolor": "white",
             "linecolor": "white",
             "minorgridcolor": "white",
             "startlinecolor": "#2a3f5f"
            },
            "baxis": {
             "endlinecolor": "#2a3f5f",
             "gridcolor": "white",
             "linecolor": "white",
             "minorgridcolor": "white",
             "startlinecolor": "#2a3f5f"
            },
            "type": "carpet"
           }
          ],
          "choropleth": [
           {
            "colorbar": {
             "outlinewidth": 0,
             "ticks": ""
            },
            "type": "choropleth"
           }
          ],
          "contour": [
           {
            "colorbar": {
             "outlinewidth": 0,
             "ticks": ""
            },
            "colorscale": [
             [
              0,
              "#0d0887"
             ],
             [
              0.1111111111111111,
              "#46039f"
             ],
             [
              0.2222222222222222,
              "#7201a8"
             ],
             [
              0.3333333333333333,
              "#9c179e"
             ],
             [
              0.4444444444444444,
              "#bd3786"
             ],
             [
              0.5555555555555556,
              "#d8576b"
             ],
             [
              0.6666666666666666,
              "#ed7953"
             ],
             [
              0.7777777777777778,
              "#fb9f3a"
             ],
             [
              0.8888888888888888,
              "#fdca26"
             ],
             [
              1,
              "#f0f921"
             ]
            ],
            "type": "contour"
           }
          ],
          "contourcarpet": [
           {
            "colorbar": {
             "outlinewidth": 0,
             "ticks": ""
            },
            "type": "contourcarpet"
           }
          ],
          "heatmap": [
           {
            "colorbar": {
             "outlinewidth": 0,
             "ticks": ""
            },
            "colorscale": [
             [
              0,
              "#0d0887"
             ],
             [
              0.1111111111111111,
              "#46039f"
             ],
             [
              0.2222222222222222,
              "#7201a8"
             ],
             [
              0.3333333333333333,
              "#9c179e"
             ],
             [
              0.4444444444444444,
              "#bd3786"
             ],
             [
              0.5555555555555556,
              "#d8576b"
             ],
             [
              0.6666666666666666,
              "#ed7953"
             ],
             [
              0.7777777777777778,
              "#fb9f3a"
             ],
             [
              0.8888888888888888,
              "#fdca26"
             ],
             [
              1,
              "#f0f921"
             ]
            ],
            "type": "heatmap"
           }
          ],
          "heatmapgl": [
           {
            "colorbar": {
             "outlinewidth": 0,
             "ticks": ""
            },
            "colorscale": [
             [
              0,
              "#0d0887"
             ],
             [
              0.1111111111111111,
              "#46039f"
             ],
             [
              0.2222222222222222,
              "#7201a8"
             ],
             [
              0.3333333333333333,
              "#9c179e"
             ],
             [
              0.4444444444444444,
              "#bd3786"
             ],
             [
              0.5555555555555556,
              "#d8576b"
             ],
             [
              0.6666666666666666,
              "#ed7953"
             ],
             [
              0.7777777777777778,
              "#fb9f3a"
             ],
             [
              0.8888888888888888,
              "#fdca26"
             ],
             [
              1,
              "#f0f921"
             ]
            ],
            "type": "heatmapgl"
           }
          ],
          "histogram": [
           {
            "marker": {
             "pattern": {
              "fillmode": "overlay",
              "size": 10,
              "solidity": 0.2
             }
            },
            "type": "histogram"
           }
          ],
          "histogram2d": [
           {
            "colorbar": {
             "outlinewidth": 0,
             "ticks": ""
            },
            "colorscale": [
             [
              0,
              "#0d0887"
             ],
             [
              0.1111111111111111,
              "#46039f"
             ],
             [
              0.2222222222222222,
              "#7201a8"
             ],
             [
              0.3333333333333333,
              "#9c179e"
             ],
             [
              0.4444444444444444,
              "#bd3786"
             ],
             [
              0.5555555555555556,
              "#d8576b"
             ],
             [
              0.6666666666666666,
              "#ed7953"
             ],
             [
              0.7777777777777778,
              "#fb9f3a"
             ],
             [
              0.8888888888888888,
              "#fdca26"
             ],
             [
              1,
              "#f0f921"
             ]
            ],
            "type": "histogram2d"
           }
          ],
          "histogram2dcontour": [
           {
            "colorbar": {
             "outlinewidth": 0,
             "ticks": ""
            },
            "colorscale": [
             [
              0,
              "#0d0887"
             ],
             [
              0.1111111111111111,
              "#46039f"
             ],
             [
              0.2222222222222222,
              "#7201a8"
             ],
             [
              0.3333333333333333,
              "#9c179e"
             ],
             [
              0.4444444444444444,
              "#bd3786"
             ],
             [
              0.5555555555555556,
              "#d8576b"
             ],
             [
              0.6666666666666666,
              "#ed7953"
             ],
             [
              0.7777777777777778,
              "#fb9f3a"
             ],
             [
              0.8888888888888888,
              "#fdca26"
             ],
             [
              1,
              "#f0f921"
             ]
            ],
            "type": "histogram2dcontour"
           }
          ],
          "mesh3d": [
           {
            "colorbar": {
             "outlinewidth": 0,
             "ticks": ""
            },
            "type": "mesh3d"
           }
          ],
          "parcoords": [
           {
            "line": {
             "colorbar": {
              "outlinewidth": 0,
              "ticks": ""
             }
            },
            "type": "parcoords"
           }
          ],
          "pie": [
           {
            "automargin": true,
            "type": "pie"
           }
          ],
          "scatter": [
           {
            "marker": {
             "colorbar": {
              "outlinewidth": 0,
              "ticks": ""
             }
            },
            "type": "scatter"
           }
          ],
          "scatter3d": [
           {
            "line": {
             "colorbar": {
              "outlinewidth": 0,
              "ticks": ""
             }
            },
            "marker": {
             "colorbar": {
              "outlinewidth": 0,
              "ticks": ""
             }
            },
            "type": "scatter3d"
           }
          ],
          "scattercarpet": [
           {
            "marker": {
             "colorbar": {
              "outlinewidth": 0,
              "ticks": ""
             }
            },
            "type": "scattercarpet"
           }
          ],
          "scattergeo": [
           {
            "marker": {
             "colorbar": {
              "outlinewidth": 0,
              "ticks": ""
             }
            },
            "type": "scattergeo"
           }
          ],
          "scattergl": [
           {
            "marker": {
             "colorbar": {
              "outlinewidth": 0,
              "ticks": ""
             }
            },
            "type": "scattergl"
           }
          ],
          "scattermapbox": [
           {
            "marker": {
             "colorbar": {
              "outlinewidth": 0,
              "ticks": ""
             }
            },
            "type": "scattermapbox"
           }
          ],
          "scatterpolar": [
           {
            "marker": {
             "colorbar": {
              "outlinewidth": 0,
              "ticks": ""
             }
            },
            "type": "scatterpolar"
           }
          ],
          "scatterpolargl": [
           {
            "marker": {
             "colorbar": {
              "outlinewidth": 0,
              "ticks": ""
             }
            },
            "type": "scatterpolargl"
           }
          ],
          "scatterternary": [
           {
            "marker": {
             "colorbar": {
              "outlinewidth": 0,
              "ticks": ""
             }
            },
            "type": "scatterternary"
           }
          ],
          "surface": [
           {
            "colorbar": {
             "outlinewidth": 0,
             "ticks": ""
            },
            "colorscale": [
             [
              0,
              "#0d0887"
             ],
             [
              0.1111111111111111,
              "#46039f"
             ],
             [
              0.2222222222222222,
              "#7201a8"
             ],
             [
              0.3333333333333333,
              "#9c179e"
             ],
             [
              0.4444444444444444,
              "#bd3786"
             ],
             [
              0.5555555555555556,
              "#d8576b"
             ],
             [
              0.6666666666666666,
              "#ed7953"
             ],
             [
              0.7777777777777778,
              "#fb9f3a"
             ],
             [
              0.8888888888888888,
              "#fdca26"
             ],
             [
              1,
              "#f0f921"
             ]
            ],
            "type": "surface"
           }
          ],
          "table": [
           {
            "cells": {
             "fill": {
              "color": "#EBF0F8"
             },
             "line": {
              "color": "white"
             }
            },
            "header": {
             "fill": {
              "color": "#C8D4E3"
             },
             "line": {
              "color": "white"
             }
            },
            "type": "table"
           }
          ]
         },
         "layout": {
          "annotationdefaults": {
           "arrowcolor": "#2a3f5f",
           "arrowhead": 0,
           "arrowwidth": 1
          },
          "autotypenumbers": "strict",
          "coloraxis": {
           "colorbar": {
            "outlinewidth": 0,
            "ticks": ""
           }
          },
          "colorscale": {
           "diverging": [
            [
             0,
             "#8e0152"
            ],
            [
             0.1,
             "#c51b7d"
            ],
            [
             0.2,
             "#de77ae"
            ],
            [
             0.3,
             "#f1b6da"
            ],
            [
             0.4,
             "#fde0ef"
            ],
            [
             0.5,
             "#f7f7f7"
            ],
            [
             0.6,
             "#e6f5d0"
            ],
            [
             0.7,
             "#b8e186"
            ],
            [
             0.8,
             "#7fbc41"
            ],
            [
             0.9,
             "#4d9221"
            ],
            [
             1,
             "#276419"
            ]
           ],
           "sequential": [
            [
             0,
             "#0d0887"
            ],
            [
             0.1111111111111111,
             "#46039f"
            ],
            [
             0.2222222222222222,
             "#7201a8"
            ],
            [
             0.3333333333333333,
             "#9c179e"
            ],
            [
             0.4444444444444444,
             "#bd3786"
            ],
            [
             0.5555555555555556,
             "#d8576b"
            ],
            [
             0.6666666666666666,
             "#ed7953"
            ],
            [
             0.7777777777777778,
             "#fb9f3a"
            ],
            [
             0.8888888888888888,
             "#fdca26"
            ],
            [
             1,
             "#f0f921"
            ]
           ],
           "sequentialminus": [
            [
             0,
             "#0d0887"
            ],
            [
             0.1111111111111111,
             "#46039f"
            ],
            [
             0.2222222222222222,
             "#7201a8"
            ],
            [
             0.3333333333333333,
             "#9c179e"
            ],
            [
             0.4444444444444444,
             "#bd3786"
            ],
            [
             0.5555555555555556,
             "#d8576b"
            ],
            [
             0.6666666666666666,
             "#ed7953"
            ],
            [
             0.7777777777777778,
             "#fb9f3a"
            ],
            [
             0.8888888888888888,
             "#fdca26"
            ],
            [
             1,
             "#f0f921"
            ]
           ]
          },
          "colorway": [
           "#636efa",
           "#EF553B",
           "#00cc96",
           "#ab63fa",
           "#FFA15A",
           "#19d3f3",
           "#FF6692",
           "#B6E880",
           "#FF97FF",
           "#FECB52"
          ],
          "font": {
           "color": "#2a3f5f"
          },
          "geo": {
           "bgcolor": "white",
           "lakecolor": "white",
           "landcolor": "#E5ECF6",
           "showlakes": true,
           "showland": true,
           "subunitcolor": "white"
          },
          "hoverlabel": {
           "align": "left"
          },
          "hovermode": "closest",
          "mapbox": {
           "style": "light"
          },
          "paper_bgcolor": "white",
          "plot_bgcolor": "#E5ECF6",
          "polar": {
           "angularaxis": {
            "gridcolor": "white",
            "linecolor": "white",
            "ticks": ""
           },
           "bgcolor": "#E5ECF6",
           "radialaxis": {
            "gridcolor": "white",
            "linecolor": "white",
            "ticks": ""
           }
          },
          "scene": {
           "xaxis": {
            "backgroundcolor": "#E5ECF6",
            "gridcolor": "white",
            "gridwidth": 2,
            "linecolor": "white",
            "showbackground": true,
            "ticks": "",
            "zerolinecolor": "white"
           },
           "yaxis": {
            "backgroundcolor": "#E5ECF6",
            "gridcolor": "white",
            "gridwidth": 2,
            "linecolor": "white",
            "showbackground": true,
            "ticks": "",
            "zerolinecolor": "white"
           },
           "zaxis": {
            "backgroundcolor": "#E5ECF6",
            "gridcolor": "white",
            "gridwidth": 2,
            "linecolor": "white",
            "showbackground": true,
            "ticks": "",
            "zerolinecolor": "white"
           }
          },
          "shapedefaults": {
           "line": {
            "color": "#2a3f5f"
           }
          },
          "ternary": {
           "aaxis": {
            "gridcolor": "white",
            "linecolor": "white",
            "ticks": ""
           },
           "baxis": {
            "gridcolor": "white",
            "linecolor": "white",
            "ticks": ""
           },
           "bgcolor": "#E5ECF6",
           "caxis": {
            "gridcolor": "white",
            "linecolor": "white",
            "ticks": ""
           }
          },
          "title": {
           "x": 0.05
          },
          "xaxis": {
           "automargin": true,
           "gridcolor": "white",
           "linecolor": "white",
           "ticks": "",
           "title": {
            "standoff": 15
           },
           "zerolinecolor": "white",
           "zerolinewidth": 2
          },
          "yaxis": {
           "automargin": true,
           "gridcolor": "white",
           "linecolor": "white",
           "ticks": "",
           "title": {
            "standoff": 15
           },
           "zerolinecolor": "white",
           "zerolinewidth": 2
          }
         }
        },
        "xaxis": {
         "anchor": "y",
         "autorange": true,
         "constrain": "domain",
         "domain": [
          0.4035087719298246,
          0.5964912280701754
         ],
         "range": [
          -0.5,
          35.5
         ],
         "scaleanchor": "y"
        },
        "yaxis": {
         "anchor": "x",
         "autorange": true,
         "constrain": "domain",
         "domain": [
          0,
          1
         ],
         "range": [
          35.5,
          -0.5
         ]
        }
       }
      },
      "image/png": "[encoded data removed]",
      "text/html": [
       "<div>                            <div id=\"944ca87b-f988-473a-90fb-9654851863d8\" class=\"plotly-graph-div\" style=\"height:525px; width:100%;\"></div>            <script type=\"text/javascript\">                require([\"plotly\"], function(Plotly) {                    window.PLOTLYENV=window.PLOTLYENV || {};                                    if (document.getElementById(\"944ca87b-f988-473a-90fb-9654851863d8\")) {                    Plotly.newPlot(                        \"944ca87b-f988-473a-90fb-9654851863d8\",                        [{\"coloraxis\":\"coloraxis\",\"name\":\"0\",\"texttemplate\":\"%{z}\",\"z\":[[0.8495793342590332,0.0,0.0,0.0,0.0,0.0,0.0,0.0,0.0,0.0,0.0,0.0,0.0,0.0,0.0,0.0,0.0,0.0,0.0,0.0,0.0,0.0,0.0,0.0,0.0,0.0,0.0,0.0,0.0,0.0,0.0,0.0,0.0,0.0,0.0,0.0],[0.6995081305503845,1.703378677368164,0.0,0.0,0.0,0.0,0.0,0.0,0.0,0.0,0.0,0.0,0.0,0.0,0.0,0.0,0.0,0.0,0.0,0.0,0.0,0.0,0.0,0.0,0.0,0.0,0.0,0.0,0.0,0.0,0.0,0.0,0.0,0.0,0.0,0.0],[-2.3056905269622803,-0.5720207095146179,-0.12001483142375946,0.0,0.0,0.0,0.0,0.0,0.0,0.0,0.0,0.0,0.0,0.0,0.0,0.0,0.0,0.0,0.0,0.0,0.0,0.0,0.0,0.0,0.0,0.0,0.0,0.0,0.0,0.0,0.0,0.0,0.0,0.0,0.0,0.0],[-4.038232803344727,-1.2665891647338867,-0.7070116996765137,-0.2482568323612213,0.0,0.0,0.0,0.0,0.0,0.0,0.0,0.0,0.0,0.0,0.0,0.0,0.0,0.0,0.0,0.0,0.0,0.0,0.0,0.0,0.0,0.0,0.0,0.0,0.0,0.0,0.0,0.0,0.0,0.0,0.0,0.0],[-4.158666133880615,-1.8749397993087769,-1.1925115585327148,-0.5857670903205872,0.004591393284499645,0.0,0.0,0.0,0.0,0.0,0.0,0.0,0.0,0.0,0.0,0.0,0.0,0.0,0.0,0.0,0.0,0.0,0.0,0.0,0.0,0.0,0.0,0.0,0.0,0.0,0.0,0.0,0.0,0.0,0.0,0.0],[-3.5074405670166016,-2.3818888664245605,-1.8470312356948853,-1.1838349103927612,-0.48664218187332153,0.07004627585411072,0.0,0.0,0.0,0.0,0.0,0.0,0.0,0.0,0.0,0.0,0.0,0.0,0.0,0.0,0.0,0.0,0.0,0.0,0.0,0.0,0.0,0.0,0.0,0.0,0.0,0.0,0.0,0.0,0.0,0.0],[-3.2772743701934814,-3.029700517654419,-2.5810446739196777,-1.9324473142623901,-1.1545964479446411,-0.4440709054470062,0.0856281965970993,0.0,0.0,0.0,0.0,0.0,0.0,0.0,0.0,0.0,0.0,0.0,0.0,0.0,0.0,0.0,0.0,0.0,0.0,0.0,0.0,0.0,0.0,0.0,0.0,0.0,0.0,0.0,0.0,0.0],[-2.998556137084961,-3.093799591064453,-2.760495662689209,-2.226616144180298,-1.4843378067016602,-0.7253643274307251,-0.06810355186462402,0.4980255961418152,0.0,0.0,0.0,0.0,0.0,0.0,0.0,0.0,0.0,0.0,0.0,0.0,0.0,0.0,0.0,0.0,0.0,0.0,0.0,0.0,0.0,0.0,0.0,0.0,0.0,0.0,0.0,0.0],[-2.944098711013794,-3.23799204826355,-3.0590646266937256,-2.6649744510650635,-2.0104122161865234,-1.2667182683944702,-0.5371397733688354,0.2038930058479309,0.7940407991409302,0.0,0.0,0.0,0.0,0.0,0.0,0.0,0.0,0.0,0.0,0.0,0.0,0.0,0.0,0.0,0.0,0.0,0.0,0.0,0.0,0.0,0.0,0.0,0.0,0.0,0.0,0.0],[-2.968414306640625,-3.3591740131378174,-3.2733187675476074,-3.067983865737915,-2.583357095718384,-1.9361803531646729,-1.2195295095443726,-0.381396621465683,0.4039228558540344,0.8895951509475708,0.0,0.0,0.0,0.0,0.0,0.0,0.0,0.0,0.0,0.0,0.0,0.0,0.0,0.0,0.0,0.0,0.0,0.0,0.0,0.0,0.0,0.0,0.0,0.0,0.0,0.0],[-2.948746919631958,-3.426226854324341,-3.4055051803588867,-3.363945722579956,-3.0432844161987305,-2.56054425239563,-1.9434428215026855,-1.128404140472412,-0.2840869128704071,0.4015386402606964,0.985842764377594,0.0,0.0,0.0,0.0,0.0,0.0,0.0,0.0,0.0,0.0,0.0,0.0,0.0,0.0,0.0,0.0,0.0,0.0,0.0,0.0,0.0,0.0,0.0,0.0,0.0],[-2.4836928844451904,-2.5434982776641846,-2.597417116165161,-2.6837103366851807,-2.525974988937378,-2.248770236968994,-1.8000130653381348,-1.107638955116272,-0.3055308163166046,0.4761233329772949,1.2929680347442627,1.8651162385940552,0.0,0.0,0.0,0.0,0.0,0.0,0.0,0.0,0.0,0.0,0.0,0.0,0.0,0.0,0.0,0.0,0.0,0.0,0.0,0.0,0.0,0.0,0.0,0.0],[-2.430609703063965,-2.8169283866882324,-2.820577621459961,-2.9686062335968018,-2.9141764640808105,-2.77691650390625,-2.474156379699707,-1.9718432426452637,-1.2853224277496338,-0.5104699730873108,0.42836815118789673,1.2554364204406738,1.8188828229904175,0.0,0.0,0.0,0.0,0.0,0.0,0.0,0.0,0.0,0.0,0.0,0.0,0.0,0.0,0.0,0.0,0.0,0.0,0.0,0.0,0.0,0.0,0.0],[-2.7806777954101562,-3.0655574798583984,-2.9782891273498535,-3.077279806137085,-3.087122917175293,-3.0197408199310303,-2.841660261154175,-2.530360698699951,-2.0598978996276855,-1.4295220375061035,-0.5122660994529724,0.45789602398872375,1.3102960586547852,1.823364019393921,0.0,0.0,0.0,0.0,0.0,0.0,0.0,0.0,0.0,0.0,0.0,0.0,0.0,0.0,0.0,0.0,0.0,0.0,0.0,0.0,0.0,0.0],[-2.4555282592773438,-3.108339309692383,-2.9965620040893555,-3.0273613929748535,-3.065033197402954,-3.0621001720428467,-2.9820034503936768,-2.818250894546509,-2.516660451889038,-2.071027994155884,-1.3149487972259521,-0.42092880606651306,0.5458135604858398,1.318532109260559,1.7898913621902466,0.0,0.0,0.0,0.0,0.0,0.0,0.0,0.0,0.0,0.0,0.0,0.0,0.0,0.0,0.0,0.0,0.0,0.0,0.0,0.0,0.0],[-2.383446455001831,-3.2133545875549316,-3.039883613586426,-2.9919745922088623,-3.0280792713165283,-3.0255095958709717,-3.0135419368743896,-2.965794801712036,-2.7869699001312256,-2.5404374599456787,-2.016958475112915,-1.2961444854736328,-0.35145220160484314,0.5901216864585876,1.3695838451385498,1.873801827430725,0.0,0.0,0.0,0.0,0.0,0.0,0.0,0.0,0.0,0.0,0.0,0.0,0.0,0.0,0.0,0.0,0.0,0.0,0.0,0.0],[-2.3069405555725098,-3.1373093128204346,-2.9444754123687744,-2.8820793628692627,-2.9461941719055176,-2.9536020755767822,-2.988729238510132,-2.978501081466675,-2.801222324371338,-2.653717041015625,-2.3742775917053223,-1.9106903076171875,-1.1626840829849243,-0.2839380204677582,0.6773698925971985,1.5202444791793823,1.9913580417633057,0.0,0.0,0.0,0.0,0.0,0.0,0.0,0.0,0.0,0.0,0.0,0.0,0.0,0.0,0.0,0.0,0.0,0.0,0.0],[-2.3476171493530273,-3.061825752258301,-2.9022440910339355,-2.861290216445923,-2.9635074138641357,-2.987847089767456,-3.055755138397217,-3.0385711193084717,-2.8132269382476807,-2.688103437423706,-2.5361340045928955,-2.3163793087005615,-1.8553978204727173,-1.2237391471862793,-0.24648667871952057,0.7401847243309021,1.5408340692520142,1.9931730031967163,0.0,0.0,0.0,0.0,0.0,0.0,0.0,0.0,0.0,0.0,0.0,0.0,0.0,0.0,0.0,0.0,0.0,0.0],[-2.296971321105957,-2.9800593852996826,-2.7594618797302246,-2.7529070377349854,-2.912046194076538,-2.9707984924316406,-3.1156234741210938,-3.1272943019866943,-2.848679542541504,-2.6964147090911865,-2.5871055126190186,-2.5120601654052734,-2.3366260528564453,-2.0091657638549805,-1.2107058763504028,-0.2417193502187729,0.7638386487960815,1.6178430318832397,2.0545637607574463,0.0,0.0,0.0,0.0,0.0,0.0,0.0,0.0,0.0,0.0,0.0,0.0,0.0,0.0,0.0,0.0,0.0],[-2.022848606109619,-2.909937858581543,-2.6489763259887695,-2.673945665359497,-2.866873264312744,-2.953648090362549,-3.1432058811187744,-3.2082409858703613,-2.9192380905151367,-2.7055554389953613,-2.5599660873413086,-2.5044374465942383,-2.4750938415527344,-2.40321683883667,-1.86089026927948,-1.0896369218826294,-0.1109469011425972,0.9172907471656799,1.7163331508636475,2.1928412914276123,0.0,0.0,0.0,0.0,0.0,0.0,0.0,0.0,0.0,0.0,0.0,0.0,0.0,0.0,0.0,0.0],[-2.2311267852783203,-3.1033902168273926,-2.8018593788146973,-2.833686113357544,-3.0029428005218506,-3.110271692276001,-3.35015869140625,-3.4783031940460205,-3.2503855228424072,-3.01196026802063,-2.7839479446411133,-2.6359751224517822,-2.65462589263916,-2.7447659969329834,-2.4863109588623047,-2.0311715602874756,-1.259103775024414,-0.236572265625,0.8036751747131348,1.6184391975402832,2.1199028491973877,0.0,0.0,0.0,0.0,0.0,0.0,0.0,0.0,0.0,0.0,0.0,0.0,0.0,0.0,0.0],[-1.7149537801742554,-2.8851494789123535,-2.508119583129883,-2.516914129257202,-2.681894063949585,-2.8059728145599365,-3.103132486343384,-3.34004282951355,-3.2706634998321533,-3.081514596939087,-2.817481279373169,-2.571376323699951,-2.509887218475342,-2.609020709991455,-2.5779170989990234,-2.4250166416168213,-1.9671136140823364,-1.1642946004867554,-0.11531160026788712,0.8864793181419373,1.769474983215332,2.24812912940979,0.0,0.0,0.0,0.0,0.0,0.0,0.0,0.0,0.0,0.0,0.0,0.0,0.0,0.0],[-2.0603201389312744,-3.0394201278686523,-2.5751259326934814,-2.486525297164917,-2.567533254623413,-2.63458514213562,-2.911356210708618,-3.19388484954834,-3.262932538986206,-3.1559793949127197,-2.9035260677337646,-2.5566728115081787,-2.35672926902771,-2.360372304916382,-2.4610111713409424,-2.551475763320923,-2.4130070209503174,-1.9322527647018433,-1.068742036819458,-0.05314672365784645,1.0809406042099,1.9143874645233154,2.3746988773345947,0.0,0.0,0.0,0.0,0.0,0.0,0.0,0.0,0.0,0.0,0.0,0.0,0.0],[-1.8191850185394287,-3.5661885738372803,-3.034031629562378,-2.8859007358551025,-2.8808343410491943,-2.8417627811431885,-3.0362164974212646,-3.2918105125427246,-3.4614169597625732,-3.438753604888916,-3.255366086959839,-2.8923842906951904,-2.5427117347717285,-2.3955860137939453,-2.4977009296417236,-2.691673755645752,-2.783017635345459,-2.6301398277282715,-2.1169886589050293,-1.2594274282455444,-0.09051883220672607,0.9614881277084351,1.7688970565795898,2.2959706783294678,0.0,0.0,0.0,0.0,0.0,0.0,0.0,0.0,0.0,0.0,0.0,0.0],[-1.722077488899231,-3.614173173904419,-3.1059861183166504,-2.915342092514038,-2.866297721862793,-2.7268130779266357,-2.821664571762085,-3.0025475025177,-3.244910955429077,-3.3279478549957275,-3.26112699508667,-2.9613006114959717,-2.5446038246154785,-2.2335283756256104,-2.2270915508270264,-2.3922863006591797,-2.591496706008911,-2.683591604232788,-2.53489089012146,-1.9586220979690552,-0.9824446439743042,0.10674174129962921,1.1259393692016602,2.0045948028564453,2.532895088195801,0.0,0.0,0.0,0.0,0.0,0.0,0.0,0.0,0.0,0.0,0.0],[-1.5152926445007324,-3.733534812927246,-3.2690579891204834,-3.125988721847534,-3.077181577682495,-2.913194179534912,-2.9458250999450684,-3.04274582862854,-3.2827534675598145,-3.417341709136963,-3.4537525177001953,-3.2531983852386475,-2.8321568965911865,-2.4255714416503906,-2.289775848388672,-2.334699869155884,-2.508692502975464,-2.706439733505249,-2.8241679668426514,-2.528538942337036,-1.8295704126358032,-0.8702986240386963,0.1541806310415268,1.2157602310180664,2.065518379211426,2.5472707748413086,0.0,0.0,0.0,0.0,0.0,0.0,0.0,0.0,0.0,0.0],[-1.5140633583068848,-3.372591972351074,-2.9227797985076904,-2.819352388381958,-2.832282066345215,-2.7170779705047607,-2.7710835933685303,-2.826105833053589,-3.077810764312744,-3.278141736984253,-3.4323627948760986,-3.348532199859619,-2.9715864658355713,-2.5003788471221924,-2.2123844623565674,-2.0904901027679443,-2.165832757949829,-2.375074863433838,-2.7027595043182373,-2.693014621734619,-2.318349599838257,-1.5706710815429688,-0.6886270642280579,0.4032045304775238,1.449185848236084,2.201634168624878,2.7351009845733643,0.0,0.0,0.0,0.0,0.0,0.0,0.0,0.0,0.0],[-1.6460833549499512,-3.2497165203094482,-2.819202423095703,-2.766958236694336,-2.826693296432495,-2.792384147644043,-2.8914291858673096,-2.9606196880340576,-3.190512180328369,-3.4572393894195557,-3.7406818866729736,-3.843933343887329,-3.603602170944214,-3.1703453063964844,-2.708157539367676,-2.3302395343780518,-2.155973434448242,-2.1971168518066406,-2.5335886478424072,-2.688136577606201,-2.6264431476593018,-2.176196813583374,-1.569517970085144,-0.6271011233329773,0.47377994656562805,1.4263006448745728,2.2583961486816406,2.8184139728546143,0.0,0.0,0.0,0.0,0.0,0.0,0.0,0.0],[-1.5144678354263306,-3.15934157371521,-2.6695148944854736,-2.6597185134887695,-2.7377231121063232,-2.7430813312530518,-2.897216796875,-3.004690408706665,-3.21945858001709,-3.563552141189575,-3.9583916664123535,-4.260700702667236,-4.223094940185547,-3.913177490234375,-3.4034342765808105,-2.8571393489837646,-2.4389355182647705,-2.2365150451660156,-2.4182016849517822,-2.6016836166381836,-2.731177806854248,-2.541517496109009,-2.2363712787628174,-1.5517598390579224,-0.5839544534683228,0.39170050621032715,1.3670275211334229,2.2357678413391113,2.7445435523986816,0.0,0.0,0.0,0.0,0.0,0.0,0.0],[-1.4833836555480957,-3.2690110206604004,-2.712733507156372,-2.6664717197418213,-2.655036449432373,-2.6359739303588867,-2.7861649990081787,-2.9264721870422363,-3.1151578426361084,-3.514176607131958,-4.029725074768066,-4.540318012237549,-4.756643772125244,-4.684055328369141,-4.239145755767822,-3.61399245262146,-3.002143621444702,-2.535447359085083,-2.46819806098938,-2.562115430831909,-2.7371459007263184,-2.736712694168091,-2.681091785430908,-2.287426233291626,-1.5316872596740723,-0.6525925397872925,0.32345375418663025,1.3771013021469116,2.191520929336548,2.67818021774292,0.0,0.0,0.0,0.0,0.0,0.0],[-1.7154333591461182,-3.3179962635040283,-2.77077054977417,-2.690424680709839,-2.60942006111145,-2.5336899757385254,-2.601851224899292,-2.6619961261749268,-2.7294788360595703,-3.0805652141571045,-3.634023666381836,-4.306217670440674,-4.795867919921875,-5.051829814910889,-4.803951263427734,-4.27734899520874,-3.6084251403808594,-2.947415828704834,-2.6241567134857178,-2.55143141746521,-2.6906254291534424,-2.781402349472046,-2.9206740856170654,-2.7834041118621826,-2.258888006210327,-1.5096276998519897,-0.6206911206245422,0.4766160547733307,1.4761613607406616,2.263942241668701,2.7417385578155518,0.0,0.0,0.0,0.0,0.0],[-1.502394199371338,-3.143073558807373,-2.6393136978149414,-2.6163876056671143,-2.506958246231079,-2.4214870929718018,-2.4248626232147217,-2.3810317516326904,-2.30199933052063,-2.5202863216400146,-2.976797580718994,-3.6824774742126465,-4.380494594573975,-4.980834007263184,-5.049351215362549,-4.800390243530273,-4.236471652984619,-3.477644681930542,-2.9161298274993896,-2.6221094131469727,-2.596271276473999,-2.6585731506347656,-2.901749849319458,-2.995199203491211,-2.7434580326080322,-2.2018942832946777,-1.4926286935806274,-0.4842144846916199,0.5869829654693604,1.5766304731369019,2.375214099884033,2.9352238178253174,0.0,0.0,0.0,0.0],[-1.2334870100021362,-2.696345806121826,-2.298909902572632,-2.359487771987915,-2.236156463623047,-2.134049892425537,-2.0530574321746826,-1.8928308486938477,-1.6783573627471924,-1.721463918685913,-1.989464521408081,-2.570397138595581,-3.3240792751312256,-4.141735076904297,-4.565332412719727,-4.714155673980713,-4.427943706512451,-3.7696564197540283,-3.1017653942108154,-2.634517192840576,-2.3756113052368164,-2.3054661750793457,-2.494152784347534,-2.70312762260437,-2.6772520542144775,-2.3611621856689453,-1.9097821712493896,-1.1562771797180176,-0.20440484583377838,0.7901794910430908,1.7565851211547852,2.6708178520202637,3.030247926712036,0.0,0.0,0.0],[-1.4874321222305298,-3.3276145458221436,-2.975951671600342,-3.1841633319854736,-3.121164321899414,-3.066856861114502,-2.9538514614105225,-2.684218406677246,-2.3331618309020996,-2.1265363693237305,-2.0581722259521484,-2.3410685062408447,-2.936265230178833,-3.7976505756378174,-4.472593784332275,-4.997405529022217,-5.083327770233154,-4.663215637207031,-4.077389240264893,-3.502437114715576,-3.047605037689209,-2.7893922328948975,-2.8792388439178467,-3.096501111984253,-3.205927848815918,-3.0410311222076416,-2.792703151702881,-2.2974860668182373,-1.5389783382415771,-0.669712245464325,0.30066901445388794,1.4395959377288818,2.150017023086548,2.717860221862793,0.0,0.0],[-1.4103164672851562,-2.804145574569702,-2.47690486907959,-2.798912525177002,-2.7976675033569336,-2.8631675243377686,-2.8006997108459473,-2.5896835327148438,-2.2642035484313965,-1.9608794450759888,-1.6299376487731934,-1.5942394733428955,-1.91738760471344,-2.634827136993408,-3.4211432933807373,-4.210272789001465,-4.651938438415527,-4.582841873168945,-4.198189735412598,-3.636979103088379,-2.998920202255249,-2.504380702972412,-2.3511359691619873,-2.447173595428467,-2.560887336730957,-2.500147581100464,-2.4090638160705566,-2.177328109741211,-1.6915078163146973,-1.0734872817993164,-0.2819916307926178,0.8535888195037842,1.7441426515579224,2.6831088066101074,3.208411693572998,0.0],[-1.3609193563461304,-2.887648820877075,-2.5414745807647705,-2.8732216358184814,-2.934575080871582,-3.0795950889587402,-3.1176576614379883,-3.0117805004119873,-2.824721097946167,-2.540996551513672,-2.0878658294677734,-1.7936235666275024,-1.778393030166626,-2.1911849975585938,-2.8990726470947266,-3.757925271987915,-4.4885053634643555,-4.784684181213379,-4.724685192108154,-4.308489799499512,-3.6315507888793945,-2.946457862854004,-2.5388453006744385,-2.4336657524108887,-2.438166379928589,-2.3926117420196533,-2.374089479446411,-2.3463220596313477,-2.1028099060058594,-1.748703122138977,-1.2225593328475952,-0.22720004618167877,0.6774601340293884,1.824565052986145,2.6941659450531006,3.241452693939209]],\"type\":\"heatmap\",\"xaxis\":\"x\",\"yaxis\":\"y\",\"hovertemplate\":\"x: %{x}<br>y: %{y}<br>color: %{z}<extra></extra>\"}],                        {\"template\":{\"data\":{\"bar\":[{\"error_x\":{\"color\":\"#2a3f5f\"},\"error_y\":{\"color\":\"#2a3f5f\"},\"marker\":{\"line\":{\"color\":\"#E5ECF6\",\"width\":0.5},\"pattern\":{\"fillmode\":\"overlay\",\"size\":10,\"solidity\":0.2}},\"type\":\"bar\"}],\"barpolar\":[{\"marker\":{\"line\":{\"color\":\"#E5ECF6\",\"width\":0.5},\"pattern\":{\"fillmode\":\"overlay\",\"size\":10,\"solidity\":0.2}},\"type\":\"barpolar\"}],\"carpet\":[{\"aaxis\":{\"endlinecolor\":\"#2a3f5f\",\"gridcolor\":\"white\",\"linecolor\":\"white\",\"minorgridcolor\":\"white\",\"startlinecolor\":\"#2a3f5f\"},\"baxis\":{\"endlinecolor\":\"#2a3f5f\",\"gridcolor\":\"white\",\"linecolor\":\"white\",\"minorgridcolor\":\"white\",\"startlinecolor\":\"#2a3f5f\"},\"type\":\"carpet\"}],\"choropleth\":[{\"colorbar\":{\"outlinewidth\":0,\"ticks\":\"\"},\"type\":\"choropleth\"}],\"contour\":[{\"colorbar\":{\"outlinewidth\":0,\"ticks\":\"\"},\"colorscale\":[[0.0,\"#0d0887\"],[0.1111111111111111,\"#46039f\"],[0.2222222222222222,\"#7201a8\"],[0.3333333333333333,\"#9c179e\"],[0.4444444444444444,\"#bd3786\"],[0.5555555555555556,\"#d8576b\"],[0.6666666666666666,\"#ed7953\"],[0.7777777777777778,\"#fb9f3a\"],[0.8888888888888888,\"#fdca26\"],[1.0,\"#f0f921\"]],\"type\":\"contour\"}],\"contourcarpet\":[{\"colorbar\":{\"outlinewidth\":0,\"ticks\":\"\"},\"type\":\"contourcarpet\"}],\"heatmap\":[{\"colorbar\":{\"outlinewidth\":0,\"ticks\":\"\"},\"colorscale\":[[0.0,\"#0d0887\"],[0.1111111111111111,\"#46039f\"],[0.2222222222222222,\"#7201a8\"],[0.3333333333333333,\"#9c179e\"],[0.4444444444444444,\"#bd3786\"],[0.5555555555555556,\"#d8576b\"],[0.6666666666666666,\"#ed7953\"],[0.7777777777777778,\"#fb9f3a\"],[0.8888888888888888,\"#fdca26\"],[1.0,\"#f0f921\"]],\"type\":\"heatmap\"}],\"heatmapgl\":[{\"colorbar\":{\"outlinewidth\":0,\"ticks\":\"\"},\"colorscale\":[[0.0,\"#0d0887\"],[0.1111111111111111,\"#46039f\"],[0.2222222222222222,\"#7201a8\"],[0.3333333333333333,\"#9c179e\"],[0.4444444444444444,\"#bd3786\"],[0.5555555555555556,\"#d8576b\"],[0.6666666666666666,\"#ed7953\"],[0.7777777777777778,\"#fb9f3a\"],[0.8888888888888888,\"#fdca26\"],[1.0,\"#f0f921\"]],\"type\":\"heatmapgl\"}],\"histogram\":[{\"marker\":{\"pattern\":{\"fillmode\":\"overlay\",\"size\":10,\"solidity\":0.2}},\"type\":\"histogram\"}],\"histogram2d\":[{\"colorbar\":{\"outlinewidth\":0,\"ticks\":\"\"},\"colorscale\":[[0.0,\"#0d0887\"],[0.1111111111111111,\"#46039f\"],[0.2222222222222222,\"#7201a8\"],[0.3333333333333333,\"#9c179e\"],[0.4444444444444444,\"#bd3786\"],[0.5555555555555556,\"#d8576b\"],[0.6666666666666666,\"#ed7953\"],[0.7777777777777778,\"#fb9f3a\"],[0.8888888888888888,\"#fdca26\"],[1.0,\"#f0f921\"]],\"type\":\"histogram2d\"}],\"histogram2dcontour\":[{\"colorbar\":{\"outlinewidth\":0,\"ticks\":\"\"},\"colorscale\":[[0.0,\"#0d0887\"],[0.1111111111111111,\"#46039f\"],[0.2222222222222222,\"#7201a8\"],[0.3333333333333333,\"#9c179e\"],[0.4444444444444444,\"#bd3786\"],[0.5555555555555556,\"#d8576b\"],[0.6666666666666666,\"#ed7953\"],[0.7777777777777778,\"#fb9f3a\"],[0.8888888888888888,\"#fdca26\"],[1.0,\"#f0f921\"]],\"type\":\"histogram2dcontour\"}],\"mesh3d\":[{\"colorbar\":{\"outlinewidth\":0,\"ticks\":\"\"},\"type\":\"mesh3d\"}],\"parcoords\":[{\"line\":{\"colorbar\":{\"outlinewidth\":0,\"ticks\":\"\"}},\"type\":\"parcoords\"}],\"pie\":[{\"automargin\":true,\"type\":\"pie\"}],\"scatter\":[{\"marker\":{\"colorbar\":{\"outlinewidth\":0,\"ticks\":\"\"}},\"type\":\"scatter\"}],\"scatter3d\":[{\"line\":{\"colorbar\":{\"outlinewidth\":0,\"ticks\":\"\"}},\"marker\":{\"colorbar\":{\"outlinewidth\":0,\"ticks\":\"\"}},\"type\":\"scatter3d\"}],\"scattercarpet\":[{\"marker\":{\"colorbar\":{\"outlinewidth\":0,\"ticks\":\"\"}},\"type\":\"scattercarpet\"}],\"scattergeo\":[{\"marker\":{\"colorbar\":{\"outlinewidth\":0,\"ticks\":\"\"}},\"type\":\"scattergeo\"}],\"scattergl\":[{\"marker\":{\"colorbar\":{\"outlinewidth\":0,\"ticks\":\"\"}},\"type\":\"scattergl\"}],\"scattermapbox\":[{\"marker\":{\"colorbar\":{\"outlinewidth\":0,\"ticks\":\"\"}},\"type\":\"scattermapbox\"}],\"scatterpolar\":[{\"marker\":{\"colorbar\":{\"outlinewidth\":0,\"ticks\":\"\"}},\"type\":\"scatterpolar\"}],\"scatterpolargl\":[{\"marker\":{\"colorbar\":{\"outlinewidth\":0,\"ticks\":\"\"}},\"type\":\"scatterpolargl\"}],\"scatterternary\":[{\"marker\":{\"colorbar\":{\"outlinewidth\":0,\"ticks\":\"\"}},\"type\":\"scatterternary\"}],\"surface\":[{\"colorbar\":{\"outlinewidth\":0,\"ticks\":\"\"},\"colorscale\":[[0.0,\"#0d0887\"],[0.1111111111111111,\"#46039f\"],[0.2222222222222222,\"#7201a8\"],[0.3333333333333333,\"#9c179e\"],[0.4444444444444444,\"#bd3786\"],[0.5555555555555556,\"#d8576b\"],[0.6666666666666666,\"#ed7953\"],[0.7777777777777778,\"#fb9f3a\"],[0.8888888888888888,\"#fdca26\"],[1.0,\"#f0f921\"]],\"type\":\"surface\"}],\"table\":[{\"cells\":{\"fill\":{\"color\":\"#EBF0F8\"},\"line\":{\"color\":\"white\"}},\"header\":{\"fill\":{\"color\":\"#C8D4E3\"},\"line\":{\"color\":\"white\"}},\"type\":\"table\"}]},\"layout\":{\"annotationdefaults\":{\"arrowcolor\":\"#2a3f5f\",\"arrowhead\":0,\"arrowwidth\":1},\"autotypenumbers\":\"strict\",\"coloraxis\":{\"colorbar\":{\"outlinewidth\":0,\"ticks\":\"\"}},\"colorscale\":{\"diverging\":[[0,\"#8e0152\"],[0.1,\"#c51b7d\"],[0.2,\"#de77ae\"],[0.3,\"#f1b6da\"],[0.4,\"#fde0ef\"],[0.5,\"#f7f7f7\"],[0.6,\"#e6f5d0\"],[0.7,\"#b8e186\"],[0.8,\"#7fbc41\"],[0.9,\"#4d9221\"],[1,\"#276419\"]],\"sequential\":[[0.0,\"#0d0887\"],[0.1111111111111111,\"#46039f\"],[0.2222222222222222,\"#7201a8\"],[0.3333333333333333,\"#9c179e\"],[0.4444444444444444,\"#bd3786\"],[0.5555555555555556,\"#d8576b\"],[0.6666666666666666,\"#ed7953\"],[0.7777777777777778,\"#fb9f3a\"],[0.8888888888888888,\"#fdca26\"],[1.0,\"#f0f921\"]],\"sequentialminus\":[[0.0,\"#0d0887\"],[0.1111111111111111,\"#46039f\"],[0.2222222222222222,\"#7201a8\"],[0.3333333333333333,\"#9c179e\"],[0.4444444444444444,\"#bd3786\"],[0.5555555555555556,\"#d8576b\"],[0.6666666666666666,\"#ed7953\"],[0.7777777777777778,\"#fb9f3a\"],[0.8888888888888888,\"#fdca26\"],[1.0,\"#f0f921\"]]},\"colorway\":[\"#636efa\",\"#EF553B\",\"#00cc96\",\"#ab63fa\",\"#FFA15A\",\"#19d3f3\",\"#FF6692\",\"#B6E880\",\"#FF97FF\",\"#FECB52\"],\"font\":{\"color\":\"#2a3f5f\"},\"geo\":{\"bgcolor\":\"white\",\"lakecolor\":\"white\",\"landcolor\":\"#E5ECF6\",\"showlakes\":true,\"showland\":true,\"subunitcolor\":\"white\"},\"hoverlabel\":{\"align\":\"left\"},\"hovermode\":\"closest\",\"mapbox\":{\"style\":\"light\"},\"paper_bgcolor\":\"white\",\"plot_bgcolor\":\"#E5ECF6\",\"polar\":{\"angularaxis\":{\"gridcolor\":\"white\",\"linecolor\":\"white\",\"ticks\":\"\"},\"bgcolor\":\"#E5ECF6\",\"radialaxis\":{\"gridcolor\":\"white\",\"linecolor\":\"white\",\"ticks\":\"\"}},\"scene\":{\"xaxis\":{\"backgroundcolor\":\"#E5ECF6\",\"gridcolor\":\"white\",\"gridwidth\":2,\"linecolor\":\"white\",\"showbackground\":true,\"ticks\":\"\",\"zerolinecolor\":\"white\"},\"yaxis\":{\"backgroundcolor\":\"#E5ECF6\",\"gridcolor\":\"white\",\"gridwidth\":2,\"linecolor\":\"white\",\"showbackground\":true,\"ticks\":\"\",\"zerolinecolor\":\"white\"},\"zaxis\":{\"backgroundcolor\":\"#E5ECF6\",\"gridcolor\":\"white\",\"gridwidth\":2,\"linecolor\":\"white\",\"showbackground\":true,\"ticks\":\"\",\"zerolinecolor\":\"white\"}},\"shapedefaults\":{\"line\":{\"color\":\"#2a3f5f\"}},\"ternary\":{\"aaxis\":{\"gridcolor\":\"white\",\"linecolor\":\"white\",\"ticks\":\"\"},\"baxis\":{\"gridcolor\":\"white\",\"linecolor\":\"white\",\"ticks\":\"\"},\"bgcolor\":\"#E5ECF6\",\"caxis\":{\"gridcolor\":\"white\",\"linecolor\":\"white\",\"ticks\":\"\"}},\"title\":{\"x\":0.05},\"xaxis\":{\"automargin\":true,\"gridcolor\":\"white\",\"linecolor\":\"white\",\"ticks\":\"\",\"title\":{\"standoff\":15},\"zerolinecolor\":\"white\",\"zerolinewidth\":2},\"yaxis\":{\"automargin\":true,\"gridcolor\":\"white\",\"linecolor\":\"white\",\"ticks\":\"\",\"title\":{\"standoff\":15},\"zerolinecolor\":\"white\",\"zerolinewidth\":2}}},\"xaxis\":{\"anchor\":\"y\",\"domain\":[0.0,1.0],\"scaleanchor\":\"y\",\"constrain\":\"domain\"},\"yaxis\":{\"anchor\":\"x\",\"domain\":[0.0,1.0],\"autorange\":\"reversed\",\"constrain\":\"domain\"},\"coloraxis\":{\"colorscale\":[[0.0,\"#0d0887\"],[0.1111111111111111,\"#46039f\"],[0.2222222222222222,\"#7201a8\"],[0.3333333333333333,\"#9c179e\"],[0.4444444444444444,\"#bd3786\"],[0.5555555555555556,\"#d8576b\"],[0.6666666666666666,\"#ed7953\"],[0.7777777777777778,\"#fb9f3a\"],[0.8888888888888888,\"#fdca26\"],[1.0,\"#f0f921\"]]},\"margin\":{\"t\":60}},                        {\"responsive\": true}                    ).then(function(){\n",
       "                            \n",
       "var gd = document.getElementById('944ca87b-f988-473a-90fb-9654851863d8');\n",
       "var x = new MutationObserver(function (mutations, observer) {{\n",
       "        var display = window.getComputedStyle(gd).display;\n",
       "        if (!display || display === 'none') {{\n",
       "            console.log([gd, 'removed!']);\n",
       "            Plotly.purge(gd);\n",
       "            observer.disconnect();\n",
       "        }}\n",
       "}});\n",
       "\n",
       "// Listen for the removal of the full notebook cells\n",
       "var notebookContainer = gd.closest('#notebook-container');\n",
       "if (notebookContainer) {{\n",
       "    x.observe(notebookContainer, {childList: true});\n",
       "}}\n",
       "\n",
       "// Listen for the clearing of the current output cell\n",
       "var outputEl = gd.closest('.output');\n",
       "if (outputEl) {{\n",
       "    x.observe(outputEl, {childList: true});\n",
       "}}\n",
       "\n",
       "                        })                };                });            </script>        </div>"
      ]
     },
     "metadata": {},
     "output_type": "display_data"
    }
   ],
   "source": [
    "import pandas as pd\n",
    "\n",
    "# shape: [heads * seqlen * seqlen, 4]\n",
    "# vals: [head num, q index, k index, activation]\n",
    "\n",
    "heads, seq_len, _ = pos_pos_activations.shape\n",
    "\n",
    "head_num = repeat(torch.arange(heads), \"heads -> heads s1 s2\", s1 = seq_len, s2 = seq_len)\n",
    "q_index = repeat(torch.arange(seq_len), \"s1 -> heads s1 s2\", heads = heads, s2 = seq_len)\n",
    "k_index = repeat(torch.arange(seq_len), \"s2 -> heads s1 s2\", heads = heads, s1 = seq_len)\n",
    "\n",
    "data = torch.stack((head_num, q_index, k_index, pos_pos_activations), dim=-1)\n",
    "data = rearrange(data, \"heads s1 s2 four -> (heads s1 s2) four\")\n",
    "\n",
    "df = pd.DataFrame(data = data,\n",
    "                  columns = ['heads', 'q', 'k', 'activations'])\n",
    "\n",
    "\n",
    "for head in range(pos_pos_activations.shape[0]):\n",
    "    fig = px.imshow(pos_pos_activations[head].detach().numpy(), text_auto=True)# labels={'index': 'heads', 'value': 'variance', 'variable': 'category'})\n",
    "    fig.show()"
   ]
  },
  {
   "cell_type": "code",
   "execution_count": null,
   "metadata": {},
   "outputs": [],
   "source": []
  }
 ],
 "metadata": {
  "kernelspec": {
   "display_name": "Python 3",
   "language": "python",
   "name": "python3"
  },
  "language_info": {
   "codemirror_mode": {
    "name": "ipython",
    "version": 3
   },
   "file_extension": ".py",
   "mimetype": "text/x-python",
   "name": "python",
   "nbconvert_exporter": "python",
   "pygments_lexer": "ipython3",
   "version": "3.8.10"
  }
 },
 "nbformat": 4,
 "nbformat_minor": 4
}
