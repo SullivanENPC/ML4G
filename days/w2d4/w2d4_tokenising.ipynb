{
 "cells": [
  {
   "cell_type": "code",
   "execution_count": 3,
   "metadata": {},
   "outputs": [],
   "source": [
    "import re\n",
    "import collections\n",
    "from typing import List\n",
    "import tokenizer as tok_tests"
   ]
  },
  {
   "cell_type": "code",
   "execution_count": 4,
   "metadata": {},
   "outputs": [],
   "source": [
    "def corpus_common_tokens(corpus: List[str], most_common=30_000):\n",
    "    concated_corpus = \" \".join(corpus)\n",
    "    token_list = re.findall(r\"\\w+|[^\\w\\s]\", concated_corpus)\n",
    "    counts_dict = collections.Counter(token_list)\n",
    "    most_common_items = counts_dict.most_common(most_common)\n",
    "    return [k for k, v in most_common_items]\n",
    "\n",
    "tok_tests.test_tokenizer_from_corpus_fn(corpus_common_tokens)"
   ]
  },
  {
   "cell_type": "code",
   "execution_count": 5,
   "metadata": {},
   "outputs": [],
   "source": [
    "class Tokenizer:\n",
    "    def __init__(self, token_list, unk_id=3) -> None:\n",
    "        self.str_to_id = {d['piece']:d['id'] for d in token_list}\n",
    "        #print(self.str_to_id)\n",
    "        self.id_to_str = {v: k for k, v in self.str_to_id.items()}\n",
    "        self.unk_id = unk_id\n",
    "    \n",
    "    def decode(self, input_ids) -> str:\n",
    "        decoded = [self.id_to_str[i] for i in input_ids]\n",
    "        return \" \".join(decoded)\n",
    "    \n",
    "    def tokenize(self, string) -> List[int]:\n",
    "        token_strs = re.findall(r\"\\w+|[^\\w\\s]\", string)\n",
    "        return [self.str_to_id.get(string, self.unk_id) for string in token_strs]\n",
    "\n",
    "tok_tests.test_tokenizer(Tokenizer)"
   ]
  },
  {
   "cell_type": "code",
   "execution_count": 9,
   "metadata": {},
   "outputs": [
    {
     "name": "stdout",
     "output_type": "stream",
     "text": [
      "{'.': 5, ',': 6, 'w': 7, '?': 8, \"'\": 9, 'o': 10, 'J': 11, '[': 12, ')': 13, '>': 14, '0': 15, 'G': 16, 'a': 17, 'z': 18, '(': 19, 'l': 20, '4': 21, '1': 22, 'P': 23, 'c': 24, 'H': 25, '\\n': 26, 'L': 27, 'n': 28, 'b': 29, 'C': 30, 'v': 31, 'u': 32, 'p': 33, 'F': 34, '!': 35, 'U': 36, 'j': 37, 'M': 38, 'I': 39, 'E': 40, 'e': 41, 'S': 42, 'i': 43, 'f': 44, 's': 45, 'x': 46, 'N': 47, 't': 48, 'T': 49, '<': 50, 'h': 51, '-': 52, 'Y': 53, 'V': 54, '9': 55, ';': 56, ' ': 57, 'q': 58, 'X': 59, '3': 60, 'g': 61, '2': 62, 'K': 63, 'd': 64, 'O': 65, 'r': 66, 'm': 67, ':': 68, 'y': 69, 'A': 70, 'k': 71, 'W': 72, ']': 73, 'R': 74, 'B': 75, '5': 76, 'D': 77, '  ': 78, '   ': 79, 'e ': 80, '    ': 81, 'th': 82, ' t': 83, 't ': 84, 's ': 85, 'ou': 86, ', ': 87, 'er': 88, 'in': 89, 'd ': 90, '. ': 91, 'an': 92, 'or': 93, 'y ': 94, 'o ': 95, 'll': 96, '.\\n': 97, 'ha': 98, 'on': 99, 'hi': 100, 'you': 101, ' th': 102, 'en': 103, 'I ': 104, '        ': 105, 'ar': 106, 'ea': 107, 'of': 108, 'es': 109, ' s': 110, 'll ': 111, 'no': 112, 'er ': 113, 'ing': 114, 'and ': 115, 've ': 116, 'a ': 117, 'wi': 118, 'is ': 119, ',\\n': 120, 'the ': 121, 'r ': 122, 'of ': 123, 'he ': 124, 'om': 125, 'it': 126, '; ': 127, 're': 128, 'for': 129, ' to ': 130, 'st': 131, 'ER': 132, 'se': 133, 'ch': 134, 'at ': 135, 'at': 136, ' the ': 137, ' m': 138, 'ir': 139, 'ow': 140, 'his ': 141, 'OL': 142, 'him': 143, 'e, ': 144, 'LO': 145, \"'s \": 146, '                ': 147, 'LE': 148, 'as ': 149, 'her': 150, 'li': 151, 'am': 152, 'DI': 153, 'gh': 154, 'you ': 155, 'oo': 156, 'ee': 157, 'ain': 158, 'hat ': 159, 'th ': 160, 'st ': 161, 'T ': 162, 'e\\n': 163, '    T': 164, 'ut ': 165, 'have ': 166, 'it ': 167, 'is': 168, 'on ': 169, 'my ': 170, 'ra': 171, 'ld ': 172, 'ing ': 173, 'e.\\n': 174, 'CO': 175, 'RD': 176, '?\\n': 177, 'LORD': 178, 'et': 179, 'un': 180, 'TR': 181, 'not ': 182, 'your ': 183, 'be ': 184, '. I ': 185, '    A': 186, '    W': 187, '  F': 188, '  FI': 189, '  FIR': 190, '  FIRS': 191, '  FIRST ': 192, 'BER': 193, 'ri': 194, 'ear': 195, 'AM': 196, 'es ': 197, 'en ': 198, 'BERTR': 199, 'BERTRAM': 200, 'la': 201, 'AN': 202, 'now': 203, 'AR': 204, 'ch ': 205, 'lor': 206, 'that ': 207, \"'d \": 208, ', and ': 209, 'to ': 210, 'our': 211, 'be': 212, 'LORD. ': 213, 'D ': 214, ', s': 215, 'ke ': 216, 'an ': 217, 'OLLE': 218, '  \\n': 219, 'ce ': 220, 'PAR': 221, 'PAROLLE': 222, 'PAROLLES': 223, 'ma': 224, 'ould ': 225, 'di': 226, 'me ': 227, 'nd ': 228, 'k ': 229, '  BERTRAM': 230, 'ur': 231, 'ed ': 232, 'em': 233, 'ro': 234, 's\\n': 235, 'com': 236, 'ver': 237, 'in ': 238, 'ay': 239, 'SE': 240, 'ther': 241, 'lo': 242, 'but ': 243, 'for ': 244, '  PAROLLES': 245, 'SOL': 246, 'SOLDI': 247, 'SOLDIER': 248, 'f ': 249, '  BERTRAM. ': 250, 'was ': 251, 'le ': 252, 'rea': 253, 'our ': 254, 'will ': 255, 'are ': 256, 'ru': 257, 'ter': 258, 'po': 259, '  SE': 260, '  SECO': 261, '  SECON': 262, '  SECOND ': 263, ';\\n': 264, 'hall ': 265, 'know': 266, 'LA': 267, 'LAF': 268, 'LAFE': 269, 'LAFEU': 270, 'ce': 271, 'ti': 272, 'd, ': 273, '. W': 274, 'all': 275, 'sel': 276, '. T': 277, 'et ': 278, '  FIRST SOLDIER': 279, 'de': 280, ', sir': 281, 'him ': 282, 'ter ': 283, '  LAFEU': 284, 'IN': 285, 'al': 286, 'el': 287, ' to': 288, 'con': 289, 'wh': 290, 'or ': 291, '  SECOND LORD. ': 292, 'ap': 293, 'her ': 294, 'with': 295, 'ell': 296, 'n ': 297, 'ent': 298, 'sh': 299, 'mor': 300, \"e's \": 301, 'igh': 302, '    And ': 303, '. A': 304, 'se ': 305, 'd\\n': 306, \"'d\": 307, 'EN': 308, 'DIAN': 309, 'DIANA': 310, 'ut': 311, 'mo': 312, 'by ': 313, 'il': 314, '. H': 315, 'up': 316, 'this ': 317, 'KIN': 318, 'KING': 319, 'ou ': 320, '. S': 321, 'ther ': 322, 'hon': 323, 'me': 324, 'what ': 325, 'whi': 326, '  KING': 327, 'the': 328, 'do ': 329, 'oun': 330, 'si': 331, 'ess': 332, 'with ': 333, 'est': 334, 'ol': 335, 'would ': 336, 'ay ': 337, 'ere ': 338, 'fr': 339, ' my ': 340, 'man': 341, 'y, ': 342, '    H': 343, '  PAROLLES. ': 344, 'fa': 345, '  DIANA': 346, 'wor': 347, 'no ': 348, 'lea': 349, ' that ': 350, 'we ': 351, 'En': 352, 'your': 353, 'lord': 354, 'pro': 355, 'ive ': 356, 'ring': 357, 'am ': 358, 'ly ': 359, 'WN': 360, 'e,\\n': 361, 'p ': 362, 'Ex': 363, 'from': 364, 'tain': 365, 'ood ': 366, 'qu': 367, '    Wh': 368, '    M': 369, 'ag': 370, '    B': 371, 'grea': 372, 's, ': 373, 'ough': 374, 'bo': 375, 'y\\n': 376, 'ess ': 377, 'CLO': 378, 'CLOWN': 379, 'sp': 380, 'au': 381, 'ck': 382, '    I': 383, \"'ll \": 384, 'af': 385, '    I ': 386, ' ta': 387, 'ne': 388, 'and': 389, ', sir, ': 390, 'not': 391, 'ine ': 392, 'id': 393, 'su': 394, 'more ': 395, 'ow ': 396, 'end': 397, 'here ': 398, 'mu': 399, 'of the ': 400, \"'t\": 401, 'fi': 402, 'ES': 403, 'll s': 404, '                                ': 405, 'dea': 406, 'vi': 407, 'sw': 408, 'we': 409, 'ong': 410, \"' \": 411, ' this ': 412, 'self': 413, 'us': 414, 'shall ': 415, '    S': 416, '  CLOWN': 417, 'um': 418, ', I ': 419, 'E ': 420, 'Enter ': 421, 'ion': 422, 'You ': 423, 'you s': 424, '!\\n': 425, '? ': 426, '    That ': 427, 'so ': 428, 'per': 429, 'est ': 430, 'in the ': 431, 'which ': 432, 'ave ': 433, 'had ': 434, 'ed': 435, '    O': 436, 'bl': 437, 'do': 438, 'ear ': 439, 'aptain': 440, 'good ': 441, 'that': 442, 'give ': 443, 'a s': 444, 'par': 445, 'dis': 446, '  FIRST LORD. ': 447, 'ul': 448, 'pr': 449, 'ring ': 450, 'kn': 451, 'ort': 452, 'know ': 453, 'sc': 454, 'ous ': 455, '. I': 456, 'ELE': 457, 'aw': 458, 'COU': 459, 'COUN': 460, 'COUNT': 461, 'ran': 462, 'No': 463, ', my ': 464, 'ad': 465, 'hath ': 466, 'e of ': 467, 'again': 468, 's.\\n': 469, '    D': 470, ' tru': 471, 'as': 472, 'nigh': 473, '; and ': 474, 'it.\\n': 475, 'very ': 476, 'ent ': 477, 'foo': 478, 'NA': 479, 'ce.\\n': 480, 'gu': 481, 'Coun': 482, 'Captain': 483, '! ': 484, 'fir': 485, 'e to ': 486, 'wif': 487, 'str': 488, 'great ': 489, '    To ': 490, '.  \\n': 491, 'honour': 492, 'hea': 493, 'I have ': 494, '. He ': 495, 'ry ': 496, 'iv': 497, 'nat': 498, 'upon ': 499, 'ec': 500, 'ble ': 501, 'a p': 502, 'to': 503, 'und': 504, 'if ': 505, 'out ': 506, 'HELE': 507, 'HELENA': 508, 'she ': 509, 'liv': 510, 'ts ': 511, 'ir ': 512, 'ce, ': 513, 'all ': 514, 't\\n': 515, 'go': 516, 'own': 517, ' take ': 518, 'pra': 519, 'cha': 520, 'own ': 521, 'were ': 522, \"' th\": 523, 'eed': 524, 'ink': 525, ' the': 526, 'his\\n': 527, 'im': 528, '    The ': 529, 'a c': 530, 'COUNTES': 531, 'COUNTESS': 532, '  LAFEU. ': 533, 'GEN': 534, 'GENT': 535, 'GENTLE': 536, 'GENTLEM': 537, 'GENTLEMAN': 538, '    Th': 539, '    Whi': 540, '. B': 541, 'ill': 542, 'Flor': 543, '. The ': 544, '; but ': 545, 'has ': 546, 'ure': 547, 'lad': 548, 'plea': 549, 'gra': 550, 'ence ': 551, 'from ': 552, 'shi': 553, 'av': 554, 'rep': 555, 'My ': 556, 'ver ': 557, 'hat': 558, '  HELENA': 559, 'ose ': 560, 'let ': 561, 'ted ': 562, 'Go': 563, 'Rou': 564, 'Rousi': 565, 'Rousill': 566, 'co': 567, 'ff': 568, \"I'll \": 569, 'WI': 570, 'S ': 571, 'hou': 572, 'lord, ': 573, 'ck ': 574, 'ster': 575, 'your s': 576, '; s': 577, 'off': 578, 'any ': 579, ' of ': 580, 'ion ': 581, ' to the ': 582, 'ure ': 583, 'don': 584, 'ju': 585, 'I am ': 586, 'ince ': 587, 'let': 588, 'King': 589, 'cour': 590, ' st': 591, 'you, ': 592, 'ir, ': 593, 'ur ': 594, 'ish': 595, 'Du': 596, 'can': 597, 'fool': 598, '  COUNTESS': 599, 'pea': 600, 'ome ': 601, 'hor': 602, 'will': 603, 'DO': 604, 'love ': 605, 'min': 606, 'a m': 607, '    When ': 608, 'you are ': 609, '    As ': 610, 'eet ': 611, '    My ': 612, 'did ': 613, 'thee ': 614, 'comp': 615, '    But ': 616, 'lie': 617, 'sha': 618, 'see ': 619, 'car': 620, 'end ': 621, 'lif': 622, 'es, ': 623, 'hear': 624, 'pa': 625, 'though': 626, 'heav': 627, 'mar': 628, 'letter': 629, 'other ': 630, 'well ': 631, '. And ': 632, 'of\\n': 633, 'them': 634, 'mean': 635, 's of ': 636, 'ful': 637, 'ous': 638, 'ret': 639, 'ge': 640, 'Let ': 641, ', the ': 642, 'mad': 643, 'make ': 644, 'lordshi': 645, 'e-': 646, 'er.\\n': 647, 'does ': 648, 'rem': 649, '  FIRST SOLDIER. W': 650, 'with the ': 651, '  GENTLEMAN': 652, 'Fort': 653, 'Fortun': 654, '  KING. ': 655, 'cam': 656, 'int': 657, 'it, ': 658, 'augh': 659, 'ood': 660, ' mu': 661, 'ill ': 662, ' them': 663, 'selv': 664, 'Exe': 665, 'Exeun': 666, 'AC': 667, 'ence': 668, 'WIDO': 669, 'WIDOW': 670, 'he': 671, 'ition': 672, ', but ': 673, 't.\\n': 674, 'pri': 675, 'you have ': 676, \"'T\": 677, 'ath': 678, 'pray ': 679, 'but': 680, 've\\n': 681, 'fore ': 682, 'ge ': 683, 'ity ': 684, 'des': 685, ' su': 686, 'anc': 687, \"i' th\": 688, 'me, ': 689, 'ho': 690, 'than': 691, 'ays ': 692, 'like ': 693, 'it\\n': 694, 'wo ': 695, 'S\\n': 696, 'thing': 697, 'y.\\n': 698, 'g ': 699, '    the ': 700, 'himself': 701, ' to be ': 702, 'night': 703, 'd.\\n': 704, 'ceiv': 705, 'ness ': 706, 'made ': 707, 'could ': 708, 'mat': 709, 'vir': 710, '.  ': 711, \"'\\n\": 712, 'this': 713, 'oll': 714, 'y; ': 715, 'one ': 716, 'loo': 717, \"e'\": 718, 'OR': 719, '    Which ': 720, 'thou ': 721, '    C': 722, '; th': 723, 'Count ': 724, 'le': 725, 'us ': 726, '-\\n': 727, 'ACT ': 728, 'CEN': 729, 'CENE ': 730, 'house': 731, ' and ': 732, '  DIANA. ': 733, 'ian': 734, '    You ': 735, 'ervi': 736, 'erve ': 737, 'when ': 738, 'tru': 739, 'y,\\n': 740, '. Th': 741, 'ell ': 742, ':\\n': 743, 'whom': 744, 'ds ': 745, 'in my ': 746, 'ain ': 747, 'mine ': 748, 'id ': 749, ' shall ': 750, 's are ': 751, 'most ': 752, 'strong': 753, 'you shall ': 754, '    Y': 755, 'dead': 756, 'just': 757, 'LORD. I ': 758, 'red ': 759, '; for ': 760, 'displea': 761, 'you.\\n': 762, 'wom': 763, 'fl': 764, 'think': 765, ' they ': 766, 'coun': 767, 'of his ': 768, 'e, s': 769, 'fin': 770, 'say ': 771, 'pla': 772, 'tu': 773, 'pt ': 774, '                    ': 775, 'bus': 776, ']  ': 777, 'sto': 778, 'knav': 779, 'answ': 780, 'fri': 781, 'thing ': 782, '  PAROLLES. I ': 783, ' me ': 784, '  FIRST SOLDIER. ': 785, 'y t': 786, 'rat': 787, 'so': 788, 'ex': 789, 'well': 790, ', to ': 791, 'Rousillon': 792, 'first ': 793, 'e;\\n': 794, 'ce\\n': 795, 'daugh': 796, 'pos': 797, 'Nay': 798, 'arde': 799, 'in\\n': 800, 'kee': 801, 'A ': 802, 'bet': 803, 'selves': 804, \"'d.\\n\": 805, '                        ': 806, 'nam': 807, 'Dian': 808, 'honest': 809, 'should ': 810, ', my lord': 811, 'vow': 812, 'the\\n': 813, 'lov': 814, 'ever': 815, 'oath': 816, 'hol': 817, 'High': 818, 'ness': 819, 'en, ': 820, 'poor ': 821, 'ft': 822, 'beg': 823, 'ake ': 824, 'great': 825, 'der': 826, 'mother': 827, 'son': 828, 'ken': 829, 'deed': 830, 'if': 831, \"'t \": 832, 'The ': 833, 'nature': 834, 'into ': 835, '  SECOND LORD. H': 836, 'pp': 837, ' to\\n': 838, \"'tis \": 839, 'mon': 840, 'God ': 841, 'ac': 842, 'pet': 843, ' to his ': 844, \"'d, \": 845, 'ment': 846, 'pres': 847, 'of th': 848, 'war': 849, 'What ': 850, 'Fran': 851, 'and, ': 852, 'under': 853, 'st\\n': 854, 'by the ': 855, ', and the ': 856, 'for\\n': 857, 'virtu': 858, 'shall be ': 859, 'can ': 860, 'busin': 861, 'wr': 862, 'it to ': 863, 'yet': 864, 'fear': 865, 'and\\n': 866, 'du': 867, '.  [': 868, 'conf': 869, 'ush': 870, '. What ': 871, 'poor': 872, 'upon': 873, 'reput': 874, 'Par': 875, \"that's \": 876, 'will s': 877, 'out': 878, 'hal': 879, 'they ': 880, 'Duk': 881, 'Captain ': 882, 'bes': 883, 'besee': 884, 'e; ': 885, 'e?\\n': 886, 'never ': 887, '    F': 888, 'look': 889, 'Not ': 890, 'I would ': 891, 'itt': 892, 'ey': 893, 'hel': 894, 'noble ': 895, '                                        ': 896, 'whose ': 897, 'daughter': 898, \"'st \": 899, 'ON': 900, 'OR ': 901, 'ring was ': 902, 'let me ': 903, 'cre': 904, \"'ll s\": 905, 'Nay, ': 906, 'peak': 907, 'ith': 908, 'fu': 909, 'art ': 910, 'bro': 911, 'hear ': 912, 'Exeunt\\n': 913, 'Florence': 914, \"'S \": 915, '    In ': 916, 'ame ': 917, 'now ': 918, 'weet ': 919, 'self ': 920, 'against ': 921, 'es\\n': 922, 'leave ': 923, 'orn': 924, 's to ': 925, 'pray you': 926, 'ly, ': 927, 'belie': 928, 'whom ': 929, 'char': 930, '  DIANA. I ': 931, '. G': 932, 'ower': 933, 'long': 934, 'ob': 935, \"i' th' \": 936, 'worl': 937, '. Wh': 938, ' truth': 939, 'yet ': 940, 'hour': 941, 'ime ': 942, 'eu': 943, 'he s': 944, 'me\\n': 945, 'his wif': 946, 'him\\n': 947, 'ren': 948, 'camp': 949, ' two ': 950, 'king ': 951, 'who ': 952, 'ev': 953, 'youn': 954, 'young ': 955, '    and ': 956, 'ow, ': 957, 'comm': 958, 'ab': 959, 't d': 960, 'ful ': 961, 'after ': 962, ' so ': 963, 'must ': 964, 'her, ': 965, 'lish': 966, 'offi': 967, 'ig': 968, 'ANT': 969, '. His ': 970, 'lordship ': 971, 'pat': 972, ': ': 973, ' the\\n': 974, 'l ': 975, 'oldi': 976, 'bring ': 977, 'forth': 978, 'inst': 979, 'ast': 980, 'as I ': 981, '   Enter ': 982, 'man ': 983, 'ci': 984, 'ener': 985, 'eneral': 986, 'emand ': 987, ' thous': 988, 'cat': 989, 'reputat': 990, 'reputation ': 991, 'my lord': 992, 'Paroll': 993, 'his s': 994, 'ell, ': 995, 'ay.\\n': 996, '. Let ': 997, 'with the Duk': 998, '    you': 999, 'beseech ': 1000, 'a\\n': 1001, 'fall': 1002, 'Mar': 1003, 'Count': 1004}\n"
     ]
    }
   ],
   "source": [
    "class BPETokenizer(Tokenizer):\n",
    "    def __init__(self, token_list):\n",
    "        super().__init__(token_list)\n",
    "        print(self.str_to_id)\n",
    "\n",
    "    def tokenize(self, string) -> List[int]:\n",
    "        # \"aabc\" with tokens {\"a\": 0, \"b\": 1, \"c\":2, \"aa\": 4, \"aab\": 5}\n",
    "        # [\"a\", \"a\", \"b\", \"c\"]\n",
    "        # [\"aa\", \"b\", \"c\"]\n",
    "        # [\"aab\", \"c\"]\n",
    "\n",
    "        char_list = list(string)\n",
    "        token_list = []\n",
    "        have_merged = True\n",
    "\n",
    "        while have_merged:\n",
    "            i = 1\n",
    "            have_merged = False\n",
    "            while i < len(char_list):\n",
    "                token_pair = \"\".join(char_list[i - 1 : i + 1])\n",
    "                if token_pair in self.str_to_id:\n",
    "                    token_list.append(\n",
    "                        self.str_to_id[token_pair]\n",
    "                    )\n",
    "                    i += 2\n",
    "                    have_merged = True\n",
    "                elif i != len(char_list) - 1:\n",
    "                    token_list.append(self.str_to_id[char_list[i - 1]])\n",
    "                    i += 1\n",
    "                else:\n",
    "                    token_list.append(self.str_to_id[char_list[i]])\n",
    "                    i += 1\n",
    "        \n",
    "        return token_list\n",
    "\n",
    "\n",
    "tok_tests.test_bpe_tokenizer(BPETokenizer)"
   ]
  },
  {
   "cell_type": "code",
   "execution_count": null,
   "metadata": {},
   "outputs": [],
   "source": []
  }
 ],
 "metadata": {
  "interpreter": {
   "hash": "767d51c1340bd893661ea55ea3124f6de3c7a262a8b4abca0554b478b1e2ff90"
  },
  "kernelspec": {
   "display_name": "Python 3.8.5 64-bit",
   "language": "python",
   "name": "python3"
  },
  "language_info": {
   "codemirror_mode": {
    "name": "ipython",
    "version": 3
   },
   "file_extension": ".py",
   "mimetype": "text/x-python",
   "name": "python",
   "nbconvert_exporter": "python",
   "pygments_lexer": "ipython3",
   "version": "3.8.5"
  },
  "orig_nbformat": 4
 },
 "nbformat": 4,
 "nbformat_minor": 2
}
