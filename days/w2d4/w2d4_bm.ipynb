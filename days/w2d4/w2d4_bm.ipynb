{
 "cells": [
  {
   "cell_type": "code",
   "execution_count": 1,
   "metadata": {},
   "outputs": [],
   "source": [
    "from collections import Counter\n",
    "from typing import List\n",
    "import re\n",
    "import tokenizer"
   ]
  },
  {
   "cell_type": "code",
   "execution_count": 2,
   "metadata": {},
   "outputs": [],
   "source": [
    "token_rex = r\"\\w+|[^\\w\\s]\""
   ]
  },
  {
   "cell_type": "code",
   "execution_count": 3,
   "metadata": {},
   "outputs": [],
   "source": [
    "def corpus_common_tokens(texts, num_tokens=30000):\n",
    "    token_counts = Counter()\n",
    "    for text in texts:\n",
    "        for match in re.findall(token_rex, text):\n",
    "            token_counts[match] += 1\n",
    "    return set(token for token, count in token_counts.most_common(num_tokens))\n",
    "\n",
    "tokenizer.test_tokenizer_from_corpus_fn(corpus_common_tokens)"
   ]
  },
  {
   "cell_type": "code",
   "execution_count": 4,
   "metadata": {},
   "outputs": [],
   "source": [
    "class Tokenizer:\n",
    "    def __init__(self, token_list):\n",
    "        self.token_list = token_list\n",
    "        self.tokens_by_id = {entry['id']: entry['piece'] for entry in token_list}\n",
    "        self.ids_by_token = {entry['piece']: entry['id'] for entry in token_list}\n",
    "        assert 3 not in self.tokens_by_id.keys()\n",
    "        assert '[UNK]' not in self.ids_by_token.keys()\n",
    "        self.unk_token = '[UNK]'\n",
    "        self.unk_token_id = 3\n",
    "        self.tokens_by_id[self.unk_token_id] = self.unk_token\n",
    "        self.ids_by_token[self.unk_token] = self.unk_token_id\n",
    "        \n",
    "    def decode(self, ids: List[int]) -> str:\n",
    "        return ' '.join(self.tokens_by_id[id] for id in ids)\n",
    "    \n",
    "    def tokenize(self, text):\n",
    "        return [self.ids_by_token.get(token, self.unk_token_id) for token in re.findall(token_rex, text)]\n",
    "\n",
    "tokenizer.test_tokenizer(Tokenizer)"
   ]
  },
  {
   "cell_type": "code",
   "execution_count": 6,
   "metadata": {},
   "outputs": [
    {
     "name": "stdout",
     "output_type": "stream",
     "text": [
      "('ef', 3)\n",
      "[('ab', 1), ('abc', 0), ('ad', 2)]\n"
     ]
    }
   ],
   "source": [
    "class Trie:\n",
    "    def __init__(self, token_id=None, children=None):\n",
    "        self.token_id = token_id\n",
    "        self.children = {} if children is None else children\n",
    "        \n",
    "    def add_token(self, token, token_id):\n",
    "        branch = self\n",
    "        for c in token:\n",
    "            try:\n",
    "                branch = branch.children[c]\n",
    "            except KeyError:\n",
    "                new_node = Trie()\n",
    "                branch.children[c] = new_node\n",
    "                branch = new_node\n",
    "        branch.token_id = token_id\n",
    "        \n",
    "    def invariant(self):\n",
    "        for c in self.children.values():\n",
    "            assert c.token_id is not None or c.children\n",
    "            c.invariant()\n",
    "        \n",
    "    def remove_token(self, token):\n",
    "        branch = self\n",
    "        parents = []\n",
    "        for c in token:\n",
    "            parents.append(branch)\n",
    "            try:\n",
    "                branch = branch.children[c]\n",
    "            except KeyError:\n",
    "                raise KeyError(token)\n",
    "        if branch.token_id is None:\n",
    "            raise KeyError(token)\n",
    "        branch.token_id = None\n",
    "        for c in reversed(token):\n",
    "            if branch.children or branch.token_id is not None:\n",
    "                break\n",
    "            branch = parents.pop()\n",
    "            del branch.children[c]\n",
    "    \n",
    "    def __repr__(self):\n",
    "        return f'Trie(token_id={self.token_id}, children={self.children})'\n",
    "    \n",
    "    def all_tokens(self):\n",
    "        if self.token_id is not None:\n",
    "            yield ('', self.token_id)\n",
    "        for (c, child) in self.children.items():\n",
    "            for token, token_id in child.all_tokens():\n",
    "                yield (c + token, token_id)\n",
    "    \n",
    "    def find_longest(self, text, start_pos=0):\n",
    "        token_found = None\n",
    "        token_id = self.token_id\n",
    "        cursor = self\n",
    "        for i in range(start_pos, len(text)):\n",
    "            c = text[i]\n",
    "            try:\n",
    "                cursor = cursor.children[c]\n",
    "            except KeyError:\n",
    "                break\n",
    "            if cursor.token_id is not None:\n",
    "                token_found = text[start_pos:i+1]\n",
    "                token_id = cursor.token_id\n",
    "        return token_found, token_id\n",
    "    \n",
    "trie = Trie()\n",
    "for token_id, token in enumerate(['abc', 'ab', 'ad', 'ef']):\n",
    "    trie.add_token(token=token, token_id=token_id)\n",
    "print(trie.find_longest('abcdefg', start_pos=4))\n",
    "trie.remove_token('ef')\n",
    "trie.invariant()\n",
    "print(list(trie.all_tokens()))"
   ]
  },
  {
   "cell_type": "code",
   "execution_count": 7,
   "metadata": {},
   "outputs": [],
   "source": [
    "reference = tokenizer.BPETokenizer.from_corpus(tokenizer.minicorpus)"
   ]
  },
  {
   "cell_type": "code",
   "execution_count": 8,
   "metadata": {},
   "outputs": [
    {
     "data": {
      "text/plain": [
       "([42, 296, 11, 464, 807, 80, 168, 83, 125, 83, 31, 504, 725, 118, 134],\n",
       " {'id': 894, 'piece': 'hel'},\n",
       " [('hel', 894),\n",
       "  ('lo', 242),\n",
       "  (', my ', 464),\n",
       "  ('nam', 807),\n",
       "  ('e ', 80),\n",
       "  ('is ', 119),\n",
       "  ('to', 503),\n",
       "  ('m', 49),\n",
       "  (' tru', 471),\n",
       "  ('n', 30),\n",
       "  ('d', 71),\n",
       "  ('le', 725),\n",
       "  ('wi', 118),\n",
       "  ('ch', 134)])"
      ]
     },
     "execution_count": 8,
     "metadata": {},
     "output_type": "execute_result"
    }
   ],
   "source": [
    "class BPETokenizer(Tokenizer):\n",
    "    def __init__(self, tokens):\n",
    "        self.token_trie = Trie()\n",
    "        self.tokens_by_id = {}\n",
    "        for token in tokens:\n",
    "            token_id = token['id']\n",
    "            piece = token['piece']\n",
    "            self.token_trie.add_token(token=piece, token_id=token_id)\n",
    "            self.tokens_by_id[token_id] = token\n",
    "            \n",
    "    def tokenize(self, text):\n",
    "        i = 0\n",
    "        tokens = []\n",
    "        while i < len(text):\n",
    "            token, token_id = self.token_trie.find_longest(text, start_pos=i)\n",
    "            tokens.append((token, token_id))\n",
    "            i += len(token)\n",
    "        return tokens\n",
    "    \n",
    "mine = BPETokenizer(reference.token_list)\n",
    "(\n",
    "    reference.tokenize(\"hello, my name is tom trundlewich\"),\n",
    "    mine.tokens_by_id[894],\n",
    "    mine.tokenize(\"hello, my name is tom trundlewich\"),\n",
    ")"
   ]
  }
 ],
 "metadata": {
  "kernelspec": {
   "display_name": "Python 3 (ipykernel)",
   "language": "python",
   "name": "python3"
  },
  "language_info": {
   "codemirror_mode": {
    "name": "ipython",
    "version": 3
   },
   "file_extension": ".py",
   "mimetype": "text/x-python",
   "name": "python",
   "nbconvert_exporter": "python",
   "pygments_lexer": "ipython3",
   "version": "3.8.10"
  }
 },
 "nbformat": 4,
 "nbformat_minor": 4
}
