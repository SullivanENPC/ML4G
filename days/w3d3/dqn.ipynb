{
 "cells": [
  {
   "cell_type": "markdown",
   "id": "5beff9ca-8ff0-46f4-9f9e-4b669f6354e9",
   "metadata": {},
   "source": [
    "### Import libraries"
   ]
  },
  {
   "cell_type": "code",
   "execution_count": 1,
   "id": "ecf62323-d9ce-4aa0-be5a-d775bdbae7f1",
   "metadata": {},
   "outputs": [],
   "source": [
    "import sys\n",
    "sys.path.append(\"../..\")"
   ]
  },
  {
   "cell_type": "code",
   "execution_count": 102,
   "id": "5785bd98-8e8c-4049-a78a-855c5a91dfdf",
   "metadata": {},
   "outputs": [],
   "source": [
    "import collections\n",
    "import dataclasses\n",
    "import random\n",
    "from typing import Optional\n",
    "\n",
    "import gym\n",
    "import matplotlib.pyplot as plt\n",
    "import numpy as np\n",
    "import pandas as pd\n",
    "import torch as t\n",
    "from days.atari_wrappers import AtariWrapper\n",
    "from IPython.display import Video\n",
    "from torch import nn, optim\n",
    "from tqdm.auto import tqdm\n",
    "from einops import reduce, repeat, rearrange\n",
    "\n",
    "import rl_tests\n",
    "from video_recorder import VideoRecorder"
   ]
  },
  {
   "cell_type": "markdown",
   "id": "3763b846-1275-4c7a-81c8-b8293628284b",
   "metadata": {},
   "source": [
    "### Q-Network"
   ]
  },
  {
   "cell_type": "code",
   "execution_count": 3,
   "id": "6f17c4dd-c51a-4977-8380-9208c25e19a5",
   "metadata": {},
   "outputs": [
    {
     "name": "stdout",
     "output_type": "stream",
     "text": [
      "test_q_net MATCH!!!!!!!!\n",
      " SHAPE (16, 6) MEAN: -0.01521 STD: 0.1154 VALS [-0.04525 0.0126 -0.209 -0.02562 0.05611 0.1091 -0.04506 0.03364 -0.2371 -0.00214...]\n"
     ]
    }
   ],
   "source": [
    "class QNet(nn.Module):\n",
    "    def __init__(\n",
    "        self,\n",
    "        in_size: int,\n",
    "        hidden_size: int,\n",
    "        out_size: int,\n",
    "    ):\n",
    "        super().__init__()\n",
    "        self.seq = nn.Sequential(\n",
    "            nn.Linear(in_size, hidden_size),\n",
    "            nn.ReLU(),\n",
    "            nn.Linear(hidden_size, hidden_size),\n",
    "            nn.ReLU(),\n",
    "            nn.Linear(hidden_size, out_size),\n",
    "        )\n",
    "\n",
    "    def forward(\n",
    "        self,\n",
    "        obs: t.Tensor,  # Tensor[..., obs_shape]\n",
    "    ) -> t.Tensor:\n",
    "        \"\"\"\n",
    "        return: Tensor[..., num_actions]\n",
    "        \"\"\"\n",
    "        return self.seq(obs)\n",
    "\n",
    "    @property\n",
    "    def device(self):\n",
    "        return next(self.parameters()).device\n",
    "    \n",
    "    @property\n",
    "    def dtype(self):\n",
    "        return next(self.parameters()).dtype\n",
    "\n",
    "\n",
    "rl_tests.test_q_net(QNet)"
   ]
  },
  {
   "cell_type": "markdown",
   "id": "316e686b-b861-4671-9b2b-2c8c39962095",
   "metadata": {},
   "source": [
    "### DQN eval loop"
   ]
  },
  {
   "cell_type": "code",
   "execution_count": 124,
   "id": "426506d4-b104-4da6-9997-ddc67ceb42f8",
   "metadata": {},
   "outputs": [],
   "source": [
    "def make_choice(\n",
    "    env: gym.Env,\n",
    "    eps: float,\n",
    "    net: nn.Module,\n",
    "    obs: np.ndarray,\n",
    ") -> int:\n",
    "    \"\"\"Returns one epsilon-greedy action.\"\"\"\n",
    "\n",
    "    # With probability eps return uniformly random action.\n",
    "    if t.rand(1) < eps:\n",
    "        return env.action_space.sample()\n",
    "\n",
    "    q_vals = net(t.tensor(obs, dtype=net.dtype, device=net.device))\n",
    "    # assert len(q_vals.shape) == 1\n",
    "\n",
    "    return t.argmax(q_vals).item()"
   ]
  },
  {
   "cell_type": "code",
   "execution_count": 5,
   "id": "2cec3fd2-931a-4d60-8099-db349430733e",
   "metadata": {},
   "outputs": [],
   "source": [
    "def evaluate(\n",
    "    model: nn.Module,\n",
    "    env: gym.Env,\n",
    "    eps: float = 0,\n",
    "    # gamma: float = 1.0,\n",
    "    video_path: Optional[str] = None,\n",
    ") -> float:\n",
    "    \"\"\"\n",
    "    Runs model for one episode.\n",
    "    Returns reward.\n",
    "    \"\"\"\n",
    "    if video_path is not None:\n",
    "        recorder = VideoRecorder(env, video_path)\n",
    "\n",
    "    with t.no_grad():\n",
    "        steps = 0\n",
    "        obs = env.reset()\n",
    "        total_reward = 0.0\n",
    "        done = False\n",
    "        while not done:\n",
    "            if video_path is not None:\n",
    "                recorder.capture_frame()\n",
    "\n",
    "            obs, reward, done, _ = env.step(\n",
    "                make_choice(env=env, eps=eps, net=model, obs=obs)\n",
    "            )\n",
    "            total_reward += reward\n",
    "            steps += 1\n",
    "\n",
    "    if video_path is not None:\n",
    "        recorder.close()\n",
    "    return total_reward, steps"
   ]
  },
  {
   "cell_type": "code",
   "execution_count": 6,
   "id": "e9b77d97-c206-4468-85a4-595c044e628f",
   "metadata": {},
   "outputs": [
    {
     "data": {
      "text/plain": [
       "(9.0, 9)"
      ]
     },
     "execution_count": 6,
     "metadata": {},
     "output_type": "execute_result"
    }
   ],
   "source": [
    "env = gym.make(\"CartPole-v1\")\n",
    "evaluate(\n",
    "    QNet(4, 64, env.action_space.n),\n",
    "    env,\n",
    "    video_path=\"videos/test_cartpole.mp4\",\n",
    ")"
   ]
  },
  {
   "cell_type": "markdown",
   "id": "c5c6dd4a-aeb4-43fd-be56-19a80856eb5f",
   "metadata": {},
   "source": [
    "### DQN train loop"
   ]
  },
  {
   "cell_type": "code",
   "execution_count": 55,
   "id": "3b89b300-db72-4fc9-8e9f-3f50279b184f",
   "metadata": {},
   "outputs": [],
   "source": [
    "@dataclasses.dataclass\n",
    "class BufferEntry:\n",
    "    obs: np.ndarray\n",
    "    obs_next: np.ndarray\n",
    "    action: int\n",
    "    reward: float\n",
    "    done: bool\n",
    "\n",
    "\n",
    "def dqn_train(\n",
    "    model: nn.Module,\n",
    "    env_name: str,\n",
    "    n_steps: int,\n",
    "    batch_size: int,\n",
    "    max_buffer_size: int = 10_000,\n",
    "    train_freq: int = 10,\n",
    "    eval_freq: int = 100,\n",
    "    eps: float = 0.5,\n",
    "    eps_end: float = None,\n",
    "    gamma: float = 1.0,\n",
    "    lr: float = 1e-3,\n",
    "    seed: int = 42,\n",
    "):\n",
    "    if eps_end == None:\n",
    "        eps_end = eps\n",
    "    print(f\"eps: {eps}\")\n",
    "    env: gym.Env = gym.make(env_name)\n",
    "    env.seed(seed)\n",
    "    env.action_space.seed(seed)\n",
    "\n",
    "    opt = optim.Adam(model.parameters(), lr=lr)\n",
    "    buffer = collections.deque(maxlen=max_buffer_size)\n",
    "\n",
    "    perf_history: list[float] = []\n",
    "    loss_history: list[float] = []\n",
    "    obs: np.ndarray = env.reset()\n",
    "    for i in tqdm(range(n_steps)):\n",
    "        action = make_choice(env=env, eps=eps * (1 - i / n_steps) + eps_end * (i / n_steps), net=model, obs=obs)\n",
    "        obs_next, reward, done, _ = env.step(action)\n",
    "        if done:\n",
    "            obs_next = env.reset()\n",
    "\n",
    "        buffer.append(\n",
    "            BufferEntry(\n",
    "                obs=obs,\n",
    "                obs_next=obs_next,\n",
    "                action=action,\n",
    "                reward=reward,\n",
    "                done=done,\n",
    "            )\n",
    "        )\n",
    "        obs = obs_next\n",
    "\n",
    "        if i % train_freq == 0 and i >= batch_size:\n",
    "\n",
    "            batch_entries: list[BufferEntry] = random.sample(buffer, batch_size)\n",
    "\n",
    "            batch_obs = t.tensor(\n",
    "                np.array([e.obs for e in batch_entries]),\n",
    "                dtype=model.dtype,\n",
    "                device=model.device,\n",
    "            )\n",
    "            batch_obs_next = t.tensor(\n",
    "                np.array([e.obs_next for e in batch_entries]),\n",
    "                dtype=model.dtype,\n",
    "                device=model.device,\n",
    "            )\n",
    "\n",
    "            batch_terminal = t.tensor(\n",
    "                [e.done for e in batch_entries], device=model.device, dtype=t.bool\n",
    "            )\n",
    "            batch_reward = t.tensor(\n",
    "                [e.reward for e in batch_entries], device=model.device\n",
    "            )\n",
    "\n",
    "            with t.no_grad():\n",
    "                q_next_best = t.amax(model(batch_obs_next), dim=-1)\n",
    "                y = batch_reward + gamma * (~batch_terminal) * q_next_best\n",
    "\n",
    "            action_idxs = t.tensor(\n",
    "                [e.action for e in batch_entries], dtype=t.long, device=model.device\n",
    "            )\n",
    "            q = t.gather(model(batch_obs), 1, action_idxs.unsqueeze(dim=1)).flatten()\n",
    "            loss = ((q - y) ** 2).mean()\n",
    "            loss_history.append(loss.item())\n",
    "\n",
    "            # import pdb\n",
    "\n",
    "            # pdb.set_trace()\n",
    "\n",
    "            opt.zero_grad()\n",
    "            loss.backward()\n",
    "            opt.step()\n",
    "\n",
    "        if i % eval_freq == 0:\n",
    "            fresh_env = gym.make(env_name)\n",
    "            fresh_env.seed(seed)\n",
    "            fresh_env.action_space.seed(seed)\n",
    "\n",
    "            reward, steps = evaluate(model, fresh_env, eps=0)\n",
    "            perf_history.append(reward)\n",
    "    return loss_history, perf_history"
   ]
  },
  {
   "cell_type": "markdown",
   "id": "90b70ad6-3eca-4da4-ae67-1dbd89166f77",
   "metadata": {},
   "source": [
    "### CartPole"
   ]
  },
  {
   "cell_type": "code",
   "execution_count": 11,
   "id": "6fae546f-feba-4f50-931a-9b869ad58e0b",
   "metadata": {
    "tags": []
   },
   "outputs": [
    {
     "name": "stdout",
     "output_type": "stream",
     "text": [
      "eps: 0.5\n"
     ]
    },
    {
     "data": {
      "application/vnd.jupyter.widget-view+json": {
       "model_id": "f92c9f9208e34347bd82dede5daa8252",
       "version_major": 2,
       "version_minor": 0
      },
      "text/plain": [
       "  0%|          | 0/100000 [00:00<?, ?it/s]"
      ]
     },
     "metadata": {},
     "output_type": "display_data"
    }
   ],
   "source": [
    "SEED = 42\n",
    "t.manual_seed(SEED)\n",
    "random.seed(SEED)\n",
    "\n",
    "env = gym.make(\"CartPole-v1\")\n",
    "model = QNet(\n",
    "    in_size=env.observation_space.shape[0],\n",
    "    hidden_size=64,\n",
    "    out_size=env.action_space.n,\n",
    ").cuda()\n",
    "\n",
    "loss_history, perf_history = dqn_train(\n",
    "    model=model,\n",
    "    env_name=\"CartPole-v1\",\n",
    "    n_steps=100_000,\n",
    "    max_buffer_size=10_000,\n",
    "    train_freq=16,\n",
    "    batch_size=128,\n",
    "    eps=0.5,\n",
    "    gamma=0.98,\n",
    "    lr=1e-3,\n",
    "    seed=SEED,\n",
    ")"
   ]
  },
  {
   "cell_type": "code",
   "execution_count": 12,
   "id": "3350b363-ab9f-4552-8120-981e729043fa",
   "metadata": {},
   "outputs": [
    {
     "data": {
      "image/png": "[encoded data removed]",
      "text/plain": [
       "<Figure size 432x288 with 1 Axes>"
      ]
     },
     "metadata": {
      "needs_background": "light"
     },
     "output_type": "display_data"
    }
   ],
   "source": [
    "xs = pd.Series(loss_history)\n",
    "xs.plot(alpha=0.5)\n",
    "xs.rolling(10).mean().plot()\n",
    "plt.yscale(\"log\")"
   ]
  },
  {
   "cell_type": "code",
   "execution_count": 13,
   "id": "a0d1fc48-ab76-49d5-a9e8-bc5c13b7832f",
   "metadata": {},
   "outputs": [
    {
     "data": {
      "text/plain": [
       "<AxesSubplot:>"
      ]
     },
     "execution_count": 13,
     "metadata": {},
     "output_type": "execute_result"
    },
    {
     "data": {
      "image/png": "[encoded data removed]",
      "text/plain": [
       "<Figure size 432x288 with 1 Axes>"
      ]
     },
     "metadata": {
      "needs_background": "light"
     },
     "output_type": "display_data"
    }
   ],
   "source": [
    "xs = pd.Series(perf_history)\n",
    "xs.plot(alpha=0.5)\n",
    "xs.rolling(10).mean().plot()"
   ]
  },
  {
   "cell_type": "code",
   "execution_count": 25,
   "id": "b4644cf0-8ab3-42aa-bd3e-9321e0aca96b",
   "metadata": {},
   "outputs": [
    {
     "data": {
      "text/html": [
       "<video src=\"videos/model_cartpole.mp4\" controls  >\n",
       "      Your browser does not support the <code>video</code> element.\n",
       "    </video>"
      ],
      "text/plain": [
       "<IPython.core.display.Video object>"
      ]
     },
     "execution_count": 25,
     "metadata": {},
     "output_type": "execute_result"
    }
   ],
   "source": [
    "video_path = \"videos/model_cartpole.mp4\"\n",
    "evaluate(model, env, video_path = video_path)\n",
    "Video(video_path)"
   ]
  },
  {
   "cell_type": "markdown",
   "id": "4a6885b4-baf6-4cce-aa8c-32bace166e8c",
   "metadata": {},
   "source": [
    "### AcroBot"
   ]
  },
  {
   "cell_type": "code",
   "execution_count": 26,
   "id": "2825337a-8b1d-48c6-9d87-0e8e74aa9840",
   "metadata": {},
   "outputs": [
    {
     "data": {
      "text/plain": [
       "(6,)"
      ]
     },
     "execution_count": 26,
     "metadata": {},
     "output_type": "execute_result"
    }
   ],
   "source": [
    "env_acro.observation_space.shape"
   ]
  },
  {
   "cell_type": "code",
   "execution_count": 27,
   "id": "d455584f-d902-46d2-b90a-9eafbed5715a",
   "metadata": {},
   "outputs": [
    {
     "data": {
      "text/plain": [
       "3"
      ]
     },
     "execution_count": 27,
     "metadata": {},
     "output_type": "execute_result"
    }
   ],
   "source": [
    "env_acro.action_space.n"
   ]
  },
  {
   "cell_type": "code",
   "execution_count": 28,
   "id": "df57b9b2-e1d9-495d-a2fe-e438c69e9b5b",
   "metadata": {},
   "outputs": [
    {
     "data": {
      "text/plain": [
       "(-500.0, 500)"
      ]
     },
     "execution_count": 28,
     "metadata": {},
     "output_type": "execute_result"
    }
   ],
   "source": [
    "evaluate(model_acro, env_acro)"
   ]
  },
  {
   "cell_type": "code",
   "execution_count": 31,
   "id": "33cc3ba1-2d01-4ba0-be07-f7f015b4f67f",
   "metadata": {},
   "outputs": [
    {
     "name": "stdout",
     "output_type": "stream",
     "text": [
      "eps: 0.05\n"
     ]
    },
    {
     "data": {
      "application/vnd.jupyter.widget-view+json": {
       "model_id": "1d265040bbca4f8a9f64fad1ab3ee557",
       "version_major": 2,
       "version_minor": 0
      },
      "text/plain": [
       "  0%|          | 0/25000 [00:00<?, ?it/s]"
      ]
     },
     "metadata": {},
     "output_type": "display_data"
    }
   ],
   "source": [
    "SEED = 42\n",
    "t.manual_seed(SEED)\n",
    "random.seed(SEED)\n",
    "\n",
    "env_acro = gym.make(\"Acrobot-v1\")\n",
    "model_acro = QNet(\n",
    "    in_size=env_acro.observation_space.shape[0],\n",
    "    hidden_size=64,\n",
    "    out_size=env_acro.action_space.n,\n",
    ").cuda()\n",
    "\n",
    "loss_history_acro, perf_history_acro = dqn_train(\n",
    "    model=model_acro,\n",
    "    env_name=\"Acrobot-v1\",\n",
    "    n_steps=25_000,\n",
    "    max_buffer_size=10_000,\n",
    "    train_freq=4,\n",
    "    batch_size=128,\n",
    "    eps=0.05,\n",
    "    gamma=0.99,\n",
    "    lr=1e-4,\n",
    "    seed=SEED,\n",
    ")"
   ]
  },
  {
   "cell_type": "code",
   "execution_count": 34,
   "id": "fc94b770-056d-4565-bb25-17eb35460a51",
   "metadata": {},
   "outputs": [
    {
     "data": {
      "image/png": "[encoded data removed]",
      "text/plain": [
       "<Figure size 864x288 with 2 Axes>"
      ]
     },
     "metadata": {
      "needs_background": "light"
     },
     "output_type": "display_data"
    }
   ],
   "source": [
    "plt.figure(figsize=(12, 4))\n",
    "\n",
    "plt.subplot(1, 2, 1)\n",
    "xs = pd.Series(loss_history_acro)\n",
    "xs.plot(alpha=0.5)\n",
    "xs.rolling(10).mean().plot()\n",
    "plt.yscale(\"log\")\n",
    "\n",
    "plt.subplot(1, 2, 2)\n",
    "xs = pd.Series(perf_history_acro)\n",
    "xs.plot(alpha=0.5)\n",
    "xs.rolling(10).mean().plot();"
   ]
  },
  {
   "cell_type": "code",
   "execution_count": 37,
   "id": "c308e01d-0b11-4a9b-b0e5-94df4ed06d1f",
   "metadata": {},
   "outputs": [
    {
     "data": {
      "text/html": [
       "<video src=\"videos/model_acro.mp4\" controls  >\n",
       "      Your browser does not support the <code>video</code> element.\n",
       "    </video>"
      ],
      "text/plain": [
       "<IPython.core.display.Video object>"
      ]
     },
     "execution_count": 37,
     "metadata": {},
     "output_type": "execute_result"
    }
   ],
   "source": [
    "video_path = \"videos/model_acro.mp4\"\n",
    "evaluate(model_acro, env_acro, video_path = video_path)\n",
    "Video(video_path)"
   ]
  },
  {
   "cell_type": "markdown",
   "id": "283f5df3-c55a-4654-8a32-65eaacd2b8d9",
   "metadata": {},
   "source": [
    "### Atari DQN"
   ]
  },
  {
   "cell_type": "code",
   "execution_count": 139,
   "id": "af899326-6f4c-4619-8b6f-1c97cf433d2d",
   "metadata": {},
   "outputs": [],
   "source": [
    "def prod(tensor):\n",
    "    return t.exp(sum(map(lambda x : t.log(x), l)))\n",
    "\n",
    "class AtariConv(nn.Module):\n",
    "    def __init__(self, obs_n_channels, n_action_space):\n",
    "        super().__init__()\n",
    "        self.obs_n_channels = obs_n_channels\n",
    "        self.n_action_space = n_action_space\n",
    "        self.layers = nn.Sequential(\n",
    "            nn.Conv2d(4, 32, 8, stride=4),\n",
    "            nn.ReLU(),\n",
    "            nn.Conv2d(32, 64, 4, stride=2),\n",
    "            nn.ReLU(),\n",
    "            nn.Conv2d(64, 64, 3, stride=1),\n",
    "            nn.ReLU(),\n",
    "            nn.Flatten(),\n",
    "            nn.Linear(3136, n_action_space),\n",
    "        )\n",
    "\n",
    "    def forward(self, obs):\n",
    "        print(obs.shape)\n",
    "        if len(obs.shape) == 3:\n",
    "            obs = rearrange(obs, \"h w c -> c w h\").unsqueeze(0)\n",
    "        elif len(obs.shape) == 4:\n",
    "            print(\"4d input\")\n",
    "            obs = rearrange(obs, \"b h w c -> b c w h\")\n",
    "        else:\n",
    "            print(\"weird-sized input in AtariConv\")\n",
    "        return self.layers(obs)\n",
    "\n",
    "    @property\n",
    "    def device(self):\n",
    "        return next(self.parameters()).device\n",
    "\n",
    "    @property\n",
    "    def dtype(self):\n",
    "        return next(self.parameters()).dtype"
   ]
  },
  {
   "cell_type": "code",
   "execution_count": 140,
   "id": "c4ec2136-6045-4322-ba7b-67ffc97bf7fb",
   "metadata": {
    "tags": []
   },
   "outputs": [],
   "source": [
    "SEED = 42\n",
    "t.manual_seed(SEED)\n",
    "random.seed(SEED)\n",
    "\n",
    "env_atari = gym.make(\"BreakoutNoFrameskip-v0\")\n",
    "env_atari = AtariWrapper(env_atari)\n",
    "model_atari = AtariConv(\n",
    "    4,\n",
    "    env_atari.action_space.n\n",
    ").cuda()\n"
   ]
  },
  {
   "cell_type": "code",
   "execution_count": 141,
   "id": "e225457f-4717-4b66-ac4b-46160562bd68",
   "metadata": {},
   "outputs": [
    {
     "name": "stdout",
     "output_type": "stream",
     "text": [
      "torch.Size([84, 84, 4])\n",
      "torch.Size([84, 84, 4])\n",
      "torch.Size([84, 84, 4])\n",
      "torch.Size([84, 84, 4])\n",
      "torch.Size([84, 84, 4])\n",
      "torch.Size([84, 84, 4])\n",
      "torch.Size([84, 84, 4])\n",
      "torch.Size([84, 84, 4])\n",
      "torch.Size([84, 84, 4])\n",
      "torch.Size([84, 84, 4])\n",
      "torch.Size([84, 84, 4])\n",
      "torch.Size([84, 84, 4])\n",
      "torch.Size([84, 84, 4])\n",
      "torch.Size([84, 84, 4])\n",
      "torch.Size([84, 84, 4])\n",
      "torch.Size([84, 84, 4])\n",
      "torch.Size([84, 84, 4])\n",
      "torch.Size([84, 84, 4])\n",
      "torch.Size([84, 84, 4])\n",
      "torch.Size([84, 84, 4])\n",
      "torch.Size([84, 84, 4])\n",
      "torch.Size([84, 84, 4])\n",
      "torch.Size([84, 84, 4])\n"
     ]
    },
    {
     "data": {
      "text/plain": [
       "(0.0, 23)"
      ]
     },
     "execution_count": 141,
     "metadata": {},
     "output_type": "execute_result"
    }
   ],
   "source": [
    "evaluate(model_atari, env_atari)"
   ]
  },
  {
   "cell_type": "code",
   "execution_count": 142,
   "id": "e25ac158-99a4-4fa9-ab20-5ac2157b9e31",
   "metadata": {},
   "outputs": [
    {
     "name": "stdout",
     "output_type": "stream",
     "text": [
      "eps: 1.0\n"
     ]
    },
    {
     "data": {
      "application/vnd.jupyter.widget-view+json": {
       "model_id": "9c1e9fb2eb7d4b9eb894737e7c718a43",
       "version_major": 2,
       "version_minor": 0
      },
      "text/plain": [
       "  0%|          | 0/1000 [00:00<?, ?it/s]"
      ]
     },
     "metadata": {},
     "output_type": "display_data"
    },
    {
     "name": "stdout",
     "output_type": "stream",
     "text": [
      "torch.Size([210, 160, 3])\n"
     ]
    },
    {
     "ename": "RuntimeError",
     "evalue": "Given groups=1, weight of size [32, 4, 8, 8], expected input[1, 3, 160, 210] to have 4 channels, but got 3 channels instead",
     "output_type": "error",
     "traceback": [
      "\u001b[0;31m---------------------------------------------------------------------------\u001b[0m",
      "\u001b[0;31mRuntimeError\u001b[0m                              Traceback (most recent call last)",
      "Input \u001b[0;32mIn [142]\u001b[0m, in \u001b[0;36m<module>\u001b[0;34m\u001b[0m\n\u001b[0;32m----> 1\u001b[0m loss_history_atari, perf_history_atari \u001b[38;5;241m=\u001b[39m \u001b[43mdqn_train\u001b[49m\u001b[43m(\u001b[49m\n\u001b[1;32m      2\u001b[0m \u001b[43m    \u001b[49m\u001b[43mmodel\u001b[49m\u001b[38;5;241;43m=\u001b[39;49m\u001b[43mmodel_atari\u001b[49m\u001b[43m,\u001b[49m\n\u001b[1;32m      3\u001b[0m \u001b[43m    \u001b[49m\u001b[43menv_name\u001b[49m\u001b[38;5;241;43m=\u001b[39;49m\u001b[38;5;124;43m\"\u001b[39;49m\u001b[38;5;124;43mBreakoutNoFrameskip-v0\u001b[39;49m\u001b[38;5;124;43m\"\u001b[39;49m\u001b[43m,\u001b[49m\n\u001b[1;32m      4\u001b[0m \u001b[43m    \u001b[49m\u001b[43mn_steps\u001b[49m\u001b[38;5;241;43m=\u001b[39;49m\u001b[38;5;241;43m1_000\u001b[39;49m\u001b[43m,\u001b[49m\n\u001b[1;32m      5\u001b[0m \u001b[43m    \u001b[49m\u001b[43mmax_buffer_size\u001b[49m\u001b[38;5;241;43m=\u001b[39;49m\u001b[38;5;241;43m10_000\u001b[39;49m\u001b[43m,\u001b[49m\n\u001b[1;32m      6\u001b[0m \u001b[43m    \u001b[49m\u001b[43mtrain_freq\u001b[49m\u001b[38;5;241;43m=\u001b[39;49m\u001b[38;5;241;43m4\u001b[39;49m\u001b[43m,\u001b[49m\n\u001b[1;32m      7\u001b[0m \u001b[43m    \u001b[49m\u001b[43mbatch_size\u001b[49m\u001b[38;5;241;43m=\u001b[39;49m\u001b[38;5;241;43m32\u001b[39;49m\u001b[43m,\u001b[49m\n\u001b[1;32m      8\u001b[0m \u001b[43m    \u001b[49m\u001b[43meps\u001b[49m\u001b[38;5;241;43m=\u001b[39;49m\u001b[38;5;241;43m1.0\u001b[39;49m\u001b[43m,\u001b[49m\n\u001b[1;32m      9\u001b[0m \u001b[43m    \u001b[49m\u001b[43meps_end\u001b[49m\u001b[38;5;241;43m=\u001b[39;49m\u001b[38;5;241;43m0.01\u001b[39;49m\u001b[43m,\u001b[49m\n\u001b[1;32m     10\u001b[0m \u001b[43m    \u001b[49m\u001b[43mgamma\u001b[49m\u001b[38;5;241;43m=\u001b[39;49m\u001b[38;5;241;43m0.99\u001b[39;49m\u001b[43m,\u001b[49m\n\u001b[1;32m     11\u001b[0m \u001b[43m    \u001b[49m\u001b[43mlr\u001b[49m\u001b[38;5;241;43m=\u001b[39;49m\u001b[38;5;241;43m1e-4\u001b[39;49m\u001b[43m,\u001b[49m\n\u001b[1;32m     12\u001b[0m \u001b[43m    \u001b[49m\u001b[43mseed\u001b[49m\u001b[38;5;241;43m=\u001b[39;49m\u001b[43mSEED\u001b[49m\u001b[43m,\u001b[49m\n\u001b[1;32m     13\u001b[0m \u001b[43m)\u001b[49m\n",
      "Input \u001b[0;32mIn [55]\u001b[0m, in \u001b[0;36mdqn_train\u001b[0;34m(model, env_name, n_steps, batch_size, max_buffer_size, train_freq, eval_freq, eps, eps_end, gamma, lr, seed)\u001b[0m\n\u001b[1;32m     97\u001b[0m         fresh_env\u001b[38;5;241m.\u001b[39mseed(seed)\n\u001b[1;32m     98\u001b[0m         fresh_env\u001b[38;5;241m.\u001b[39maction_space\u001b[38;5;241m.\u001b[39mseed(seed)\n\u001b[0;32m--> 100\u001b[0m         reward, steps \u001b[38;5;241m=\u001b[39m \u001b[43mevaluate\u001b[49m\u001b[43m(\u001b[49m\u001b[43mmodel\u001b[49m\u001b[43m,\u001b[49m\u001b[43m \u001b[49m\u001b[43mfresh_env\u001b[49m\u001b[43m,\u001b[49m\u001b[43m \u001b[49m\u001b[43meps\u001b[49m\u001b[38;5;241;43m=\u001b[39;49m\u001b[38;5;241;43m0\u001b[39;49m\u001b[43m)\u001b[49m\n\u001b[1;32m    101\u001b[0m         perf_history\u001b[38;5;241m.\u001b[39mappend(reward)\n\u001b[1;32m    102\u001b[0m \u001b[38;5;28;01mreturn\u001b[39;00m loss_history, perf_history\n",
      "Input \u001b[0;32mIn [5]\u001b[0m, in \u001b[0;36mevaluate\u001b[0;34m(model, env, eps, video_path)\u001b[0m\n\u001b[1;32m     21\u001b[0m \u001b[38;5;28;01mif\u001b[39;00m video_path \u001b[38;5;129;01mis\u001b[39;00m \u001b[38;5;129;01mnot\u001b[39;00m \u001b[38;5;28;01mNone\u001b[39;00m:\n\u001b[1;32m     22\u001b[0m     recorder\u001b[38;5;241m.\u001b[39mcapture_frame()\n\u001b[1;32m     24\u001b[0m obs, reward, done, _ \u001b[38;5;241m=\u001b[39m env\u001b[38;5;241m.\u001b[39mstep(\n\u001b[0;32m---> 25\u001b[0m     \u001b[43mmake_choice\u001b[49m\u001b[43m(\u001b[49m\u001b[43menv\u001b[49m\u001b[38;5;241;43m=\u001b[39;49m\u001b[43menv\u001b[49m\u001b[43m,\u001b[49m\u001b[43m \u001b[49m\u001b[43meps\u001b[49m\u001b[38;5;241;43m=\u001b[39;49m\u001b[43meps\u001b[49m\u001b[43m,\u001b[49m\u001b[43m \u001b[49m\u001b[43mnet\u001b[49m\u001b[38;5;241;43m=\u001b[39;49m\u001b[43mmodel\u001b[49m\u001b[43m,\u001b[49m\u001b[43m \u001b[49m\u001b[43mobs\u001b[49m\u001b[38;5;241;43m=\u001b[39;49m\u001b[43mobs\u001b[49m\u001b[43m)\u001b[49m\n\u001b[1;32m     26\u001b[0m )\n\u001b[1;32m     27\u001b[0m total_reward \u001b[38;5;241m+\u001b[39m\u001b[38;5;241m=\u001b[39m reward\n\u001b[1;32m     28\u001b[0m steps \u001b[38;5;241m+\u001b[39m\u001b[38;5;241m=\u001b[39m \u001b[38;5;241m1\u001b[39m\n",
      "Input \u001b[0;32mIn [124]\u001b[0m, in \u001b[0;36mmake_choice\u001b[0;34m(env, eps, net, obs)\u001b[0m\n\u001b[1;32m     10\u001b[0m \u001b[38;5;28;01mif\u001b[39;00m t\u001b[38;5;241m.\u001b[39mrand(\u001b[38;5;241m1\u001b[39m) \u001b[38;5;241m<\u001b[39m eps:\n\u001b[1;32m     11\u001b[0m     \u001b[38;5;28;01mreturn\u001b[39;00m env\u001b[38;5;241m.\u001b[39maction_space\u001b[38;5;241m.\u001b[39msample()\n\u001b[0;32m---> 13\u001b[0m q_vals \u001b[38;5;241m=\u001b[39m \u001b[43mnet\u001b[49m\u001b[43m(\u001b[49m\u001b[43mt\u001b[49m\u001b[38;5;241;43m.\u001b[39;49m\u001b[43mtensor\u001b[49m\u001b[43m(\u001b[49m\u001b[43mobs\u001b[49m\u001b[43m,\u001b[49m\u001b[43m \u001b[49m\u001b[43mdtype\u001b[49m\u001b[38;5;241;43m=\u001b[39;49m\u001b[43mnet\u001b[49m\u001b[38;5;241;43m.\u001b[39;49m\u001b[43mdtype\u001b[49m\u001b[43m,\u001b[49m\u001b[43m \u001b[49m\u001b[43mdevice\u001b[49m\u001b[38;5;241;43m=\u001b[39;49m\u001b[43mnet\u001b[49m\u001b[38;5;241;43m.\u001b[39;49m\u001b[43mdevice\u001b[49m\u001b[43m)\u001b[49m\u001b[43m)\u001b[49m\n\u001b[1;32m     14\u001b[0m \u001b[38;5;66;03m# assert len(q_vals.shape) == 1\u001b[39;00m\n\u001b[1;32m     16\u001b[0m \u001b[38;5;28;01mreturn\u001b[39;00m t\u001b[38;5;241m.\u001b[39margmax(q_vals)\u001b[38;5;241m.\u001b[39mitem()\n",
      "File \u001b[0;32m~/mlab-rudolf-tony/days/w3d3/rl_env/lib/python3.9/site-packages/torch/nn/modules/module.py:1102\u001b[0m, in \u001b[0;36mModule._call_impl\u001b[0;34m(self, *input, **kwargs)\u001b[0m\n\u001b[1;32m   1098\u001b[0m \u001b[38;5;66;03m# If we don't have any hooks, we want to skip the rest of the logic in\u001b[39;00m\n\u001b[1;32m   1099\u001b[0m \u001b[38;5;66;03m# this function, and just call forward.\u001b[39;00m\n\u001b[1;32m   1100\u001b[0m \u001b[38;5;28;01mif\u001b[39;00m \u001b[38;5;129;01mnot\u001b[39;00m (\u001b[38;5;28mself\u001b[39m\u001b[38;5;241m.\u001b[39m_backward_hooks \u001b[38;5;129;01mor\u001b[39;00m \u001b[38;5;28mself\u001b[39m\u001b[38;5;241m.\u001b[39m_forward_hooks \u001b[38;5;129;01mor\u001b[39;00m \u001b[38;5;28mself\u001b[39m\u001b[38;5;241m.\u001b[39m_forward_pre_hooks \u001b[38;5;129;01mor\u001b[39;00m _global_backward_hooks\n\u001b[1;32m   1101\u001b[0m         \u001b[38;5;129;01mor\u001b[39;00m _global_forward_hooks \u001b[38;5;129;01mor\u001b[39;00m _global_forward_pre_hooks):\n\u001b[0;32m-> 1102\u001b[0m     \u001b[38;5;28;01mreturn\u001b[39;00m \u001b[43mforward_call\u001b[49m\u001b[43m(\u001b[49m\u001b[38;5;241;43m*\u001b[39;49m\u001b[38;5;28;43minput\u001b[39;49m\u001b[43m,\u001b[49m\u001b[43m \u001b[49m\u001b[38;5;241;43m*\u001b[39;49m\u001b[38;5;241;43m*\u001b[39;49m\u001b[43mkwargs\u001b[49m\u001b[43m)\u001b[49m\n\u001b[1;32m   1103\u001b[0m \u001b[38;5;66;03m# Do not call functions when jit is used\u001b[39;00m\n\u001b[1;32m   1104\u001b[0m full_backward_hooks, non_full_backward_hooks \u001b[38;5;241m=\u001b[39m [], []\n",
      "Input \u001b[0;32mIn [139]\u001b[0m, in \u001b[0;36mAtariConv.forward\u001b[0;34m(self, obs)\u001b[0m\n\u001b[1;32m     27\u001b[0m \u001b[38;5;28;01melse\u001b[39;00m:\n\u001b[1;32m     28\u001b[0m     \u001b[38;5;28mprint\u001b[39m(\u001b[38;5;124m\"\u001b[39m\u001b[38;5;124mweird-sized input in AtariConv\u001b[39m\u001b[38;5;124m\"\u001b[39m)\n\u001b[0;32m---> 29\u001b[0m \u001b[38;5;28;01mreturn\u001b[39;00m \u001b[38;5;28;43mself\u001b[39;49m\u001b[38;5;241;43m.\u001b[39;49m\u001b[43mlayers\u001b[49m\u001b[43m(\u001b[49m\u001b[43mobs\u001b[49m\u001b[43m)\u001b[49m\n",
      "File \u001b[0;32m~/mlab-rudolf-tony/days/w3d3/rl_env/lib/python3.9/site-packages/torch/nn/modules/module.py:1102\u001b[0m, in \u001b[0;36mModule._call_impl\u001b[0;34m(self, *input, **kwargs)\u001b[0m\n\u001b[1;32m   1098\u001b[0m \u001b[38;5;66;03m# If we don't have any hooks, we want to skip the rest of the logic in\u001b[39;00m\n\u001b[1;32m   1099\u001b[0m \u001b[38;5;66;03m# this function, and just call forward.\u001b[39;00m\n\u001b[1;32m   1100\u001b[0m \u001b[38;5;28;01mif\u001b[39;00m \u001b[38;5;129;01mnot\u001b[39;00m (\u001b[38;5;28mself\u001b[39m\u001b[38;5;241m.\u001b[39m_backward_hooks \u001b[38;5;129;01mor\u001b[39;00m \u001b[38;5;28mself\u001b[39m\u001b[38;5;241m.\u001b[39m_forward_hooks \u001b[38;5;129;01mor\u001b[39;00m \u001b[38;5;28mself\u001b[39m\u001b[38;5;241m.\u001b[39m_forward_pre_hooks \u001b[38;5;129;01mor\u001b[39;00m _global_backward_hooks\n\u001b[1;32m   1101\u001b[0m         \u001b[38;5;129;01mor\u001b[39;00m _global_forward_hooks \u001b[38;5;129;01mor\u001b[39;00m _global_forward_pre_hooks):\n\u001b[0;32m-> 1102\u001b[0m     \u001b[38;5;28;01mreturn\u001b[39;00m \u001b[43mforward_call\u001b[49m\u001b[43m(\u001b[49m\u001b[38;5;241;43m*\u001b[39;49m\u001b[38;5;28;43minput\u001b[39;49m\u001b[43m,\u001b[49m\u001b[43m \u001b[49m\u001b[38;5;241;43m*\u001b[39;49m\u001b[38;5;241;43m*\u001b[39;49m\u001b[43mkwargs\u001b[49m\u001b[43m)\u001b[49m\n\u001b[1;32m   1103\u001b[0m \u001b[38;5;66;03m# Do not call functions when jit is used\u001b[39;00m\n\u001b[1;32m   1104\u001b[0m full_backward_hooks, non_full_backward_hooks \u001b[38;5;241m=\u001b[39m [], []\n",
      "File \u001b[0;32m~/mlab-rudolf-tony/days/w3d3/rl_env/lib/python3.9/site-packages/torch/nn/modules/container.py:141\u001b[0m, in \u001b[0;36mSequential.forward\u001b[0;34m(self, input)\u001b[0m\n\u001b[1;32m    139\u001b[0m \u001b[38;5;28;01mdef\u001b[39;00m \u001b[38;5;21mforward\u001b[39m(\u001b[38;5;28mself\u001b[39m, \u001b[38;5;28minput\u001b[39m):\n\u001b[1;32m    140\u001b[0m     \u001b[38;5;28;01mfor\u001b[39;00m module \u001b[38;5;129;01min\u001b[39;00m \u001b[38;5;28mself\u001b[39m:\n\u001b[0;32m--> 141\u001b[0m         \u001b[38;5;28minput\u001b[39m \u001b[38;5;241m=\u001b[39m \u001b[43mmodule\u001b[49m\u001b[43m(\u001b[49m\u001b[38;5;28;43minput\u001b[39;49m\u001b[43m)\u001b[49m\n\u001b[1;32m    142\u001b[0m     \u001b[38;5;28;01mreturn\u001b[39;00m \u001b[38;5;28minput\u001b[39m\n",
      "File \u001b[0;32m~/mlab-rudolf-tony/days/w3d3/rl_env/lib/python3.9/site-packages/torch/nn/modules/module.py:1102\u001b[0m, in \u001b[0;36mModule._call_impl\u001b[0;34m(self, *input, **kwargs)\u001b[0m\n\u001b[1;32m   1098\u001b[0m \u001b[38;5;66;03m# If we don't have any hooks, we want to skip the rest of the logic in\u001b[39;00m\n\u001b[1;32m   1099\u001b[0m \u001b[38;5;66;03m# this function, and just call forward.\u001b[39;00m\n\u001b[1;32m   1100\u001b[0m \u001b[38;5;28;01mif\u001b[39;00m \u001b[38;5;129;01mnot\u001b[39;00m (\u001b[38;5;28mself\u001b[39m\u001b[38;5;241m.\u001b[39m_backward_hooks \u001b[38;5;129;01mor\u001b[39;00m \u001b[38;5;28mself\u001b[39m\u001b[38;5;241m.\u001b[39m_forward_hooks \u001b[38;5;129;01mor\u001b[39;00m \u001b[38;5;28mself\u001b[39m\u001b[38;5;241m.\u001b[39m_forward_pre_hooks \u001b[38;5;129;01mor\u001b[39;00m _global_backward_hooks\n\u001b[1;32m   1101\u001b[0m         \u001b[38;5;129;01mor\u001b[39;00m _global_forward_hooks \u001b[38;5;129;01mor\u001b[39;00m _global_forward_pre_hooks):\n\u001b[0;32m-> 1102\u001b[0m     \u001b[38;5;28;01mreturn\u001b[39;00m \u001b[43mforward_call\u001b[49m\u001b[43m(\u001b[49m\u001b[38;5;241;43m*\u001b[39;49m\u001b[38;5;28;43minput\u001b[39;49m\u001b[43m,\u001b[49m\u001b[43m \u001b[49m\u001b[38;5;241;43m*\u001b[39;49m\u001b[38;5;241;43m*\u001b[39;49m\u001b[43mkwargs\u001b[49m\u001b[43m)\u001b[49m\n\u001b[1;32m   1103\u001b[0m \u001b[38;5;66;03m# Do not call functions when jit is used\u001b[39;00m\n\u001b[1;32m   1104\u001b[0m full_backward_hooks, non_full_backward_hooks \u001b[38;5;241m=\u001b[39m [], []\n",
      "File \u001b[0;32m~/mlab-rudolf-tony/days/w3d3/rl_env/lib/python3.9/site-packages/torch/nn/modules/conv.py:446\u001b[0m, in \u001b[0;36mConv2d.forward\u001b[0;34m(self, input)\u001b[0m\n\u001b[1;32m    445\u001b[0m \u001b[38;5;28;01mdef\u001b[39;00m \u001b[38;5;21mforward\u001b[39m(\u001b[38;5;28mself\u001b[39m, \u001b[38;5;28minput\u001b[39m: Tensor) \u001b[38;5;241m-\u001b[39m\u001b[38;5;241m>\u001b[39m Tensor:\n\u001b[0;32m--> 446\u001b[0m     \u001b[38;5;28;01mreturn\u001b[39;00m \u001b[38;5;28;43mself\u001b[39;49m\u001b[38;5;241;43m.\u001b[39;49m\u001b[43m_conv_forward\u001b[49m\u001b[43m(\u001b[49m\u001b[38;5;28;43minput\u001b[39;49m\u001b[43m,\u001b[49m\u001b[43m \u001b[49m\u001b[38;5;28;43mself\u001b[39;49m\u001b[38;5;241;43m.\u001b[39;49m\u001b[43mweight\u001b[49m\u001b[43m,\u001b[49m\u001b[43m \u001b[49m\u001b[38;5;28;43mself\u001b[39;49m\u001b[38;5;241;43m.\u001b[39;49m\u001b[43mbias\u001b[49m\u001b[43m)\u001b[49m\n",
      "File \u001b[0;32m~/mlab-rudolf-tony/days/w3d3/rl_env/lib/python3.9/site-packages/torch/nn/modules/conv.py:442\u001b[0m, in \u001b[0;36mConv2d._conv_forward\u001b[0;34m(self, input, weight, bias)\u001b[0m\n\u001b[1;32m    438\u001b[0m \u001b[38;5;28;01mif\u001b[39;00m \u001b[38;5;28mself\u001b[39m\u001b[38;5;241m.\u001b[39mpadding_mode \u001b[38;5;241m!=\u001b[39m \u001b[38;5;124m'\u001b[39m\u001b[38;5;124mzeros\u001b[39m\u001b[38;5;124m'\u001b[39m:\n\u001b[1;32m    439\u001b[0m     \u001b[38;5;28;01mreturn\u001b[39;00m F\u001b[38;5;241m.\u001b[39mconv2d(F\u001b[38;5;241m.\u001b[39mpad(\u001b[38;5;28minput\u001b[39m, \u001b[38;5;28mself\u001b[39m\u001b[38;5;241m.\u001b[39m_reversed_padding_repeated_twice, mode\u001b[38;5;241m=\u001b[39m\u001b[38;5;28mself\u001b[39m\u001b[38;5;241m.\u001b[39mpadding_mode),\n\u001b[1;32m    440\u001b[0m                     weight, bias, \u001b[38;5;28mself\u001b[39m\u001b[38;5;241m.\u001b[39mstride,\n\u001b[1;32m    441\u001b[0m                     _pair(\u001b[38;5;241m0\u001b[39m), \u001b[38;5;28mself\u001b[39m\u001b[38;5;241m.\u001b[39mdilation, \u001b[38;5;28mself\u001b[39m\u001b[38;5;241m.\u001b[39mgroups)\n\u001b[0;32m--> 442\u001b[0m \u001b[38;5;28;01mreturn\u001b[39;00m \u001b[43mF\u001b[49m\u001b[38;5;241;43m.\u001b[39;49m\u001b[43mconv2d\u001b[49m\u001b[43m(\u001b[49m\u001b[38;5;28;43minput\u001b[39;49m\u001b[43m,\u001b[49m\u001b[43m \u001b[49m\u001b[43mweight\u001b[49m\u001b[43m,\u001b[49m\u001b[43m \u001b[49m\u001b[43mbias\u001b[49m\u001b[43m,\u001b[49m\u001b[43m \u001b[49m\u001b[38;5;28;43mself\u001b[39;49m\u001b[38;5;241;43m.\u001b[39;49m\u001b[43mstride\u001b[49m\u001b[43m,\u001b[49m\n\u001b[1;32m    443\u001b[0m \u001b[43m                \u001b[49m\u001b[38;5;28;43mself\u001b[39;49m\u001b[38;5;241;43m.\u001b[39;49m\u001b[43mpadding\u001b[49m\u001b[43m,\u001b[49m\u001b[43m \u001b[49m\u001b[38;5;28;43mself\u001b[39;49m\u001b[38;5;241;43m.\u001b[39;49m\u001b[43mdilation\u001b[49m\u001b[43m,\u001b[49m\u001b[43m \u001b[49m\u001b[38;5;28;43mself\u001b[39;49m\u001b[38;5;241;43m.\u001b[39;49m\u001b[43mgroups\u001b[49m\u001b[43m)\u001b[49m\n",
      "\u001b[0;31mRuntimeError\u001b[0m: Given groups=1, weight of size [32, 4, 8, 8], expected input[1, 3, 160, 210] to have 4 channels, but got 3 channels instead"
     ]
    }
   ],
   "source": [
    "\n",
    "loss_history_atari, perf_history_atari = dqn_train(\n",
    "    model=model_atari,\n",
    "    env_name=\"BreakoutNoFrameskip-v0\",\n",
    "    n_steps=1_000,\n",
    "    max_buffer_size=10_000,\n",
    "    train_freq=4,\n",
    "    batch_size=32,\n",
    "    eps=1.0,\n",
    "    eps_end=0.01,\n",
    "    gamma=0.99,\n",
    "    lr=1e-4,\n",
    "    seed=SEED,\n",
    ")"
   ]
  },
  {
   "cell_type": "code",
   "execution_count": null,
   "id": "e6fab96d-9ef6-4c81-9bdf-ddab647b7786",
   "metadata": {},
   "outputs": [],
   "source": [
    "env_atari.observation_space.shape\n"
   ]
  },
  {
   "cell_type": "code",
   "execution_count": 52,
   "id": "35e898be-29f6-47d7-9201-dfd6f02027c1",
   "metadata": {},
   "outputs": [
    {
     "data": {
      "text/plain": [
       "4"
      ]
     },
     "execution_count": 52,
     "metadata": {},
     "output_type": "execute_result"
    }
   ],
   "source": [
    "env_atari.action_space.n"
   ]
  },
  {
   "cell_type": "code",
   "execution_count": null,
   "id": "e7ea7db3-c4a7-4cae-b2a4-064c1954a1e5",
   "metadata": {},
   "outputs": [],
   "source": []
  }
 ],
 "metadata": {
  "kernelspec": {
   "display_name": "Python 3 (ipykernel)",
   "language": "python",
   "name": "python3"
  },
  "language_info": {
   "codemirror_mode": {
    "name": "ipython",
    "version": 3
   },
   "file_extension": ".py",
   "mimetype": "text/x-python",
   "name": "python",
   "nbconvert_exporter": "python",
   "pygments_lexer": "ipython3",
   "version": "3.9.5"
  }
 },
 "nbformat": 4,
 "nbformat_minor": 5
}
